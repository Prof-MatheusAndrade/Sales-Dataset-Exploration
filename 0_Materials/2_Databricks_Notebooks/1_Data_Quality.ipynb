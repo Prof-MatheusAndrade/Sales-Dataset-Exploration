{
 "cells": [
  {
   "cell_type": "markdown",
   "metadata": {
    "application/vnd.databricks.v1+cell": {
     "cellMetadata": {
      "byteLimit": 2048000,
      "rowLimit": 10000
     },
     "inputWidgets": {},
     "nuid": "c5c43930-45e9-4630-b3e5-01ea506028fb",
     "showTitle": false,
     "title": ""
    }
   },
   "source": [
    "# Company Inc - Sales Data Analysis"
   ]
  },
  {
   "cell_type": "markdown",
   "metadata": {
    "application/vnd.databricks.v1+cell": {
     "cellMetadata": {
      "byteLimit": 2048000,
      "rowLimit": 10000
     },
     "inputWidgets": {},
     "nuid": "40fa6db2-b59c-47bc-ba3c-d845e75e4b81",
     "showTitle": false,
     "title": ""
    }
   },
   "source": [
    "## Data Quality\n",
    "\n",
    "<br>\n",
    "\n",
    "### This notebook was developed to check a few data quality rules, such as duplicate values in the primary key, or constant values in a specific column\n",
    "\n"
   ]
  },
  {
   "cell_type": "markdown",
   "metadata": {
    "application/vnd.databricks.v1+cell": {
     "cellMetadata": {
      "byteLimit": 2048000,
      "rowLimit": 10000
     },
     "inputWidgets": {},
     "nuid": "45c1a119-a51a-4869-a367-bd6048f2870d",
     "showTitle": false,
     "title": ""
    }
   },
   "source": [
    "### 0. Libraries import"
   ]
  },
  {
   "cell_type": "code",
   "execution_count": 0,
   "metadata": {
    "application/vnd.databricks.v1+cell": {
     "cellMetadata": {
      "byteLimit": 2048000,
      "rowLimit": 10000
     },
     "inputWidgets": {},
     "nuid": "831fa155-58ab-4206-83ec-9664302e1c71",
     "showTitle": false,
     "title": ""
    }
   },
   "outputs": [],
   "source": [
    "from pyspark.sql import functions as f #PySpark functions, such as column, maximum, and others"
   ]
  },
  {
   "cell_type": "markdown",
   "metadata": {
    "application/vnd.databricks.v1+cell": {
     "cellMetadata": {
      "byteLimit": 2048000,
      "rowLimit": 10000
     },
     "inputWidgets": {},
     "nuid": "1309a602-1a47-44df-8ce7-491b355fb839",
     "showTitle": false,
     "title": ""
    }
   },
   "source": [
    "### 1. Function created to check if columns have duplicated values"
   ]
  },
  {
   "cell_type": "code",
   "execution_count": 0,
   "metadata": {
    "application/vnd.databricks.v1+cell": {
     "cellMetadata": {
      "byteLimit": 2048000,
      "rowLimit": 10000
     },
     "inputWidgets": {},
     "nuid": "f3d89cd0-2631-49cf-acee-c166c4d4eef2",
     "showTitle": false,
     "title": ""
    }
   },
   "outputs": [],
   "source": [
    "#Function created to check if columns have duplicated values, the inputs are the table name \"table\" and the list of columns to check \"columns\"\n",
    "def check_duplicates(table, columns):\n",
    "    #calculate the number of duplicates rows based in the list of columns shared\n",
    "    res = spark.table(table).select(columns).count() - spark.table(table).select(columns).distinct().count()\n",
    "    #if the result is zero, there is no duplicates, and print that message\n",
    "    if res == 0:\n",
    "        print(\"\\n No duplicates\")\n",
    "    #else, display all the rows with duplicates values based in the list of columns shared\n",
    "    else:\n",
    "        display(spark.table(table).groupby(columns).count().filter(f.col(\"count\")>1))"
   ]
  },
  {
   "cell_type": "markdown",
   "metadata": {
    "application/vnd.databricks.v1+cell": {
     "cellMetadata": {
      "byteLimit": 2048000,
      "rowLimit": 10000
     },
     "inputWidgets": {},
     "nuid": "a626cbbb-e11b-48bc-b1c0-01f6d329edf9",
     "showTitle": false,
     "title": ""
    }
   },
   "source": [
    "### 2. Validate the results of fact table \"Order\""
   ]
  },
  {
   "cell_type": "code",
   "execution_count": 0,
   "metadata": {
    "application/vnd.databricks.v1+cell": {
     "cellMetadata": {
      "byteLimit": 2048000,
      "rowLimit": 10000
     },
     "inputWidgets": {},
     "nuid": "350c79b2-b98b-489e-a2b4-b43e4663e219",
     "showTitle": false,
     "title": ""
    }
   },
   "outputs": [
    {
     "output_type": "display_data",
     "data": {
      "text/html": [
       "<style scoped>\n",
       "  .table-result-container {\n",
       "    max-height: 300px;\n",
       "    overflow: auto;\n",
       "  }\n",
       "  table, th, td {\n",
       "    border: 1px solid black;\n",
       "    border-collapse: collapse;\n",
       "  }\n",
       "  th, td {\n",
       "    padding: 5px;\n",
       "  }\n",
       "  th {\n",
       "    text-align: left;\n",
       "  }\n",
       "</style><div class='table-result-container'><table class='table-result'><thead style='background-color: white'><tr><th>summary</th><th>Order_ID</th><th>Order_Local_ID</th><th>Location_ID</th><th>Order_Date</th><th>Ship_ID</th><th>Customer_ID</th><th>Order_Priority_ID</th><th>Product_ID</th><th>Quantity</th><th>Sales</th><th>Discount</th><th>Profit</th></tr></thead><tbody><tr><td>count</td><td>49399</td><td>49399</td><td>49399</td><td>49399</td><td>49399</td><td>49399</td><td>49399</td><td>49399</td><td>49399</td><td>49399</td><td>49399</td><td>49399</td></tr><tr><td>mean</td><td>25733.905079050182</td><td>null</td><td>2005.1237879309297</td><td>4883.133059373671</td><td>25650.813882872124</td><td>null</td><td>3.119152209558898</td><td>null</td><td>3.4655154962651067</td><td>245.96026235348893</td><td>0.14285989594931162</td><td>28.414321741330756</td></tr><tr><td>stddev</td><td>14834.219326508683</td><td>null</td><td>1104.1755174352083</td><td>412.97011677468356</td><td>14781.826308063473</td><td>null</td><td>1.0807386708308595</td><td>null</td><td>2.2789362563490503</td><td>485.527242913703</td><td>0.21273615173892577</td><td>174.49251634081992</td></tr><tr><td>min</td><td>1</td><td>AE-2011-9160</td><td>1</td><td>4019</td><td>1</td><td>AA-103151</td><td>1</td><td>FUR-ADV-10000002</td><td>1</td><td>0.0</td><td>0.0</td><td>-6599.978</td></tr><tr><td>max</td><td>51290</td><td>ZI-2014-9650</td><td>3819</td><td>5479</td><td>51106</td><td>ZD-219254</td><td>4</td><td>TEC-STA-10004927</td><td>14</td><td>22638.0</td><td>0.85</td><td>8399.976</td></tr></tbody></table></div>"
      ]
     },
     "metadata": {
      "application/vnd.databricks.v1+output": {
       "addedWidgets": {},
       "aggData": [],
       "aggError": "",
       "aggOverflow": false,
       "aggSchema": [],
       "aggSeriesLimitReached": false,
       "aggType": "",
       "arguments": {},
       "columnCustomDisplayInfos": {},
       "data": [
        [
         "count",
         "49399",
         "49399",
         "49399",
         "49399",
         "49399",
         "49399",
         "49399",
         "49399",
         "49399",
         "49399",
         "49399",
         "49399"
        ],
        [
         "mean",
         "25733.905079050182",
         null,
         "2005.1237879309297",
         "4883.133059373671",
         "25650.813882872124",
         null,
         "3.119152209558898",
         null,
         "3.4655154962651067",
         "245.96026235348893",
         "0.14285989594931162",
         "28.414321741330756"
        ],
        [
         "stddev",
         "14834.219326508683",
         null,
         "1104.1755174352083",
         "412.97011677468356",
         "14781.826308063473",
         null,
         "1.0807386708308595",
         null,
         "2.2789362563490503",
         "485.527242913703",
         "0.21273615173892577",
         "174.49251634081992"
        ],
        [
         "min",
         "1",
         "AE-2011-9160",
         "1",
         "4019",
         "1",
         "AA-103151",
         "1",
         "FUR-ADV-10000002",
         "1",
         "0.0",
         "0.0",
         "-6599.978"
        ],
        [
         "max",
         "51290",
         "ZI-2014-9650",
         "3819",
         "5479",
         "51106",
         "ZD-219254",
         "4",
         "TEC-STA-10004927",
         "14",
         "22638.0",
         "0.85",
         "8399.976"
        ]
       ],
       "datasetInfos": [],
       "dbfsResultPath": null,
       "isJsonSchema": true,
       "metadata": {},
       "overflow": false,
       "plotOptions": {
        "customPlotOptions": {},
        "displayType": "table",
        "pivotAggregation": null,
        "pivotColumns": null,
        "xColumns": null,
        "yColumns": null
       },
       "removedWidgets": [],
       "schema": [
        {
         "metadata": "{}",
         "name": "summary",
         "type": "\"string\""
        },
        {
         "metadata": "{}",
         "name": "Order_ID",
         "type": "\"string\""
        },
        {
         "metadata": "{}",
         "name": "Order_Local_ID",
         "type": "\"string\""
        },
        {
         "metadata": "{}",
         "name": "Location_ID",
         "type": "\"string\""
        },
        {
         "metadata": "{}",
         "name": "Order_Date",
         "type": "\"string\""
        },
        {
         "metadata": "{}",
         "name": "Ship_ID",
         "type": "\"string\""
        },
        {
         "metadata": "{}",
         "name": "Customer_ID",
         "type": "\"string\""
        },
        {
         "metadata": "{}",
         "name": "Order_Priority_ID",
         "type": "\"string\""
        },
        {
         "metadata": "{}",
         "name": "Product_ID",
         "type": "\"string\""
        },
        {
         "metadata": "{}",
         "name": "Quantity",
         "type": "\"string\""
        },
        {
         "metadata": "{}",
         "name": "Sales",
         "type": "\"string\""
        },
        {
         "metadata": "{}",
         "name": "Discount",
         "type": "\"string\""
        },
        {
         "metadata": "{}",
         "name": "Profit",
         "type": "\"string\""
        }
       ],
       "type": "table"
      }
     },
     "output_type": "display_data"
    },
    {
     "output_type": "stream",
     "name": "stdout",
     "output_type": "stream",
     "text": [
      "\n No duplicates\n"
     ]
    }
   ],
   "source": [
    "table = \"company.order\"\n",
    "columns = \"Order_ID\"\n",
    "#check some statistics results for all the columns\n",
    "display(spark.table(table).describe())\n",
    "\n",
    "#check if there are duplicates values for the primary key\n",
    "check_duplicates(table, columns)"
   ]
  },
  {
   "cell_type": "markdown",
   "metadata": {
    "application/vnd.databricks.v1+cell": {
     "cellMetadata": {
      "byteLimit": 2048000,
      "rowLimit": 10000
     },
     "inputWidgets": {},
     "nuid": "462cc2b1-2483-49aa-b34f-17458f8c4bc2",
     "showTitle": false,
     "title": ""
    }
   },
   "source": [
    "### 3. Validate the results of dimension table \"Market\""
   ]
  },
  {
   "cell_type": "code",
   "execution_count": 0,
   "metadata": {
    "application/vnd.databricks.v1+cell": {
     "cellMetadata": {
      "byteLimit": 2048000,
      "rowLimit": 10000
     },
     "inputWidgets": {},
     "nuid": "86d2a63d-0cf2-4896-b132-32ce88e70a80",
     "showTitle": false,
     "title": ""
    }
   },
   "outputs": [
    {
     "output_type": "display_data",
     "data": {
      "text/html": [
       "<style scoped>\n",
       "  .table-result-container {\n",
       "    max-height: 300px;\n",
       "    overflow: auto;\n",
       "  }\n",
       "  table, th, td {\n",
       "    border: 1px solid black;\n",
       "    border-collapse: collapse;\n",
       "  }\n",
       "  th, td {\n",
       "    padding: 5px;\n",
       "  }\n",
       "  th {\n",
       "    text-align: left;\n",
       "  }\n",
       "</style><div class='table-result-container'><table class='table-result'><thead style='background-color: white'><tr><th>summary</th><th>Market_ID</th><th>Market</th><th>Market2</th></tr></thead><tbody><tr><td>count</td><td>7</td><td>7</td><td>7</td></tr><tr><td>mean</td><td>4.0</td><td>null</td><td>null</td></tr><tr><td>stddev</td><td>2.160246899469287</td><td>null</td><td>null</td></tr><tr><td>min</td><td>1</td><td>APAC</td><td>APAC</td></tr><tr><td>max</td><td>7</td><td>US</td><td>North America</td></tr></tbody></table></div>"
      ]
     },
     "metadata": {
      "application/vnd.databricks.v1+output": {
       "addedWidgets": {},
       "aggData": [],
       "aggError": "",
       "aggOverflow": false,
       "aggSchema": [],
       "aggSeriesLimitReached": false,
       "aggType": "",
       "arguments": {},
       "columnCustomDisplayInfos": {},
       "data": [
        [
         "count",
         "7",
         "7",
         "7"
        ],
        [
         "mean",
         "4.0",
         null,
         null
        ],
        [
         "stddev",
         "2.160246899469287",
         null,
         null
        ],
        [
         "min",
         "1",
         "APAC",
         "APAC"
        ],
        [
         "max",
         "7",
         "US",
         "North America"
        ]
       ],
       "datasetInfos": [],
       "dbfsResultPath": null,
       "isJsonSchema": true,
       "metadata": {},
       "overflow": false,
       "plotOptions": {
        "customPlotOptions": {},
        "displayType": "table",
        "pivotAggregation": null,
        "pivotColumns": null,
        "xColumns": null,
        "yColumns": null
       },
       "removedWidgets": [],
       "schema": [
        {
         "metadata": "{}",
         "name": "summary",
         "type": "\"string\""
        },
        {
         "metadata": "{}",
         "name": "Market_ID",
         "type": "\"string\""
        },
        {
         "metadata": "{}",
         "name": "Market",
         "type": "\"string\""
        },
        {
         "metadata": "{}",
         "name": "Market2",
         "type": "\"string\""
        }
       ],
       "type": "table"
      }
     },
     "output_type": "display_data"
    },
    {
     "output_type": "stream",
     "name": "stdout",
     "output_type": "stream",
     "text": [
      "\n No duplicates\n\n No duplicates\n"
     ]
    }
   ],
   "source": [
    "table = \"company.market\"\n",
    "columns = \"Market_ID\"\n",
    "#check some statistics results for all the columns\n",
    "display(spark.table(table).describe())\n",
    "\n",
    "#check if there are duplicates values for the primary key\n",
    "check_duplicates(table, columns)\n",
    "\n",
    "#check if there are duplicates for the content information in the table\n",
    "columns = [\"Market\", \"Market2\"]\n",
    "check_duplicates(table, columns)"
   ]
  },
  {
   "cell_type": "markdown",
   "metadata": {
    "application/vnd.databricks.v1+cell": {
     "cellMetadata": {
      "byteLimit": 2048000,
      "rowLimit": 10000
     },
     "inputWidgets": {},
     "nuid": "3c068c4f-0e01-4d44-a585-d786dcfd9b1a",
     "showTitle": false,
     "title": ""
    }
   },
   "source": [
    "### 4. Validate the results of dimension table \"Location\""
   ]
  },
  {
   "cell_type": "code",
   "execution_count": 0,
   "metadata": {
    "application/vnd.databricks.v1+cell": {
     "cellMetadata": {
      "byteLimit": 2048000,
      "rowLimit": 10000
     },
     "inputWidgets": {},
     "nuid": "b71dc947-09b4-4008-8ceb-30b8797d8c0b",
     "showTitle": false,
     "title": ""
    }
   },
   "outputs": [
    {
     "output_type": "display_data",
     "data": {
      "text/html": [
       "<style scoped>\n",
       "  .table-result-container {\n",
       "    max-height: 300px;\n",
       "    overflow: auto;\n",
       "  }\n",
       "  table, th, td {\n",
       "    border: 1px solid black;\n",
       "    border-collapse: collapse;\n",
       "  }\n",
       "  th, td {\n",
       "    padding: 5px;\n",
       "  }\n",
       "  th {\n",
       "    text-align: left;\n",
       "  }\n",
       "</style><div class='table-result-container'><table class='table-result'><thead style='background-color: white'><tr><th>summary</th><th>Location_ID</th><th>Market_ID</th><th>Country</th><th>State</th><th>Region</th><th>City</th></tr></thead><tbody><tr><td>count</td><td>3819</td><td>3819</td><td>3819</td><td>3819</td><td>3819</td><td>3819</td></tr><tr><td>mean</td><td>1910.0</td><td>4.370253993191935</td><td>null</td><td>null</td><td>null</td><td>null</td></tr><tr><td>stddev</td><td>1102.5946671374754</td><td>2.0519995520874397</td><td>null</td><td>null</td><td>null</td><td>null</td></tr><tr><td>min</td><td>1</td><td>1</td><td>Afghanistan</td><td>'Ajman</td><td>Africa</td><td>Aachen</td></tr><tr><td>max</td><td>3819</td><td>7</td><td>Zimbabwe</td><td>Žilina</td><td>West</td><td>Águas Lindas de Goiás</td></tr></tbody></table></div>"
      ]
     },
     "metadata": {
      "application/vnd.databricks.v1+output": {
       "addedWidgets": {},
       "aggData": [],
       "aggError": "",
       "aggOverflow": false,
       "aggSchema": [],
       "aggSeriesLimitReached": false,
       "aggType": "",
       "arguments": {},
       "columnCustomDisplayInfos": {},
       "data": [
        [
         "count",
         "3819",
         "3819",
         "3819",
         "3819",
         "3819",
         "3819"
        ],
        [
         "mean",
         "1910.0",
         "4.370253993191935",
         null,
         null,
         null,
         null
        ],
        [
         "stddev",
         "1102.5946671374754",
         "2.0519995520874397",
         null,
         null,
         null,
         null
        ],
        [
         "min",
         "1",
         "1",
         "Afghanistan",
         "'Ajman",
         "Africa",
         "Aachen"
        ],
        [
         "max",
         "3819",
         "7",
         "Zimbabwe",
         "Žilina",
         "West",
         "Águas Lindas de Goiás"
        ]
       ],
       "datasetInfos": [],
       "dbfsResultPath": null,
       "isJsonSchema": true,
       "metadata": {},
       "overflow": false,
       "plotOptions": {
        "customPlotOptions": {},
        "displayType": "table",
        "pivotAggregation": null,
        "pivotColumns": null,
        "xColumns": null,
        "yColumns": null
       },
       "removedWidgets": [],
       "schema": [
        {
         "metadata": "{}",
         "name": "summary",
         "type": "\"string\""
        },
        {
         "metadata": "{}",
         "name": "Location_ID",
         "type": "\"string\""
        },
        {
         "metadata": "{}",
         "name": "Market_ID",
         "type": "\"string\""
        },
        {
         "metadata": "{}",
         "name": "Country",
         "type": "\"string\""
        },
        {
         "metadata": "{}",
         "name": "State",
         "type": "\"string\""
        },
        {
         "metadata": "{}",
         "name": "Region",
         "type": "\"string\""
        },
        {
         "metadata": "{}",
         "name": "City",
         "type": "\"string\""
        }
       ],
       "type": "table"
      }
     },
     "output_type": "display_data"
    },
    {
     "output_type": "stream",
     "name": "stdout",
     "output_type": "stream",
     "text": [
      "\n No duplicates\n\n No duplicates\n"
     ]
    }
   ],
   "source": [
    "table = \"company.location\"\n",
    "columns = \"Location_ID\"\n",
    "#check some statistics results for all the columns\n",
    "display(spark.table(table).describe())\n",
    "\n",
    "#check if there are duplicates values for the primary key\n",
    "check_duplicates(table, columns)\n",
    "\n",
    "#check if there are duplicates for the content information in the table\n",
    "columns = [\"Country\", \"State\", \"Region\", \"City\"]\n",
    "check_duplicates(table, columns)"
   ]
  },
  {
   "cell_type": "markdown",
   "metadata": {
    "application/vnd.databricks.v1+cell": {
     "cellMetadata": {
      "byteLimit": 2048000,
      "rowLimit": 10000
     },
     "inputWidgets": {},
     "nuid": "6bf8deec-4038-49ca-90ea-9bebd91ca272",
     "showTitle": false,
     "title": ""
    }
   },
   "source": [
    "### 4. Validate the results of dimension table \"Calendar_Date\""
   ]
  },
  {
   "cell_type": "code",
   "execution_count": 0,
   "metadata": {
    "application/vnd.databricks.v1+cell": {
     "cellMetadata": {
      "byteLimit": 2048000,
      "rowLimit": 10000
     },
     "inputWidgets": {},
     "nuid": "f098dc51-2618-4d0e-9da6-10d12828643f",
     "showTitle": false,
     "title": ""
    }
   },
   "outputs": [
    {
     "output_type": "display_data",
     "data": {
      "text/html": [
       "<style scoped>\n",
       "  .table-result-container {\n",
       "    max-height: 300px;\n",
       "    overflow: auto;\n",
       "  }\n",
       "  table, th, td {\n",
       "    border: 1px solid black;\n",
       "    border-collapse: collapse;\n",
       "  }\n",
       "  th, td {\n",
       "    padding: 5px;\n",
       "  }\n",
       "  th {\n",
       "    text-align: left;\n",
       "  }\n",
       "</style><div class='table-result-container'><table class='table-result'><thead style='background-color: white'><tr><th>summary</th><th>Date_ID</th></tr></thead><tbody><tr><td>count</td><td>36526</td></tr><tr><td>mean</td><td>18263.5</td></tr><tr><td>stddev</td><td>10544.292302789538</td></tr><tr><td>min</td><td>1</td></tr><tr><td>max</td><td>36526</td></tr></tbody></table></div>"
      ]
     },
     "metadata": {
      "application/vnd.databricks.v1+output": {
       "addedWidgets": {},
       "aggData": [],
       "aggError": "",
       "aggOverflow": false,
       "aggSchema": [],
       "aggSeriesLimitReached": false,
       "aggType": "",
       "arguments": {},
       "columnCustomDisplayInfos": {},
       "data": [
        [
         "count",
         "36526"
        ],
        [
         "mean",
         "18263.5"
        ],
        [
         "stddev",
         "10544.292302789538"
        ],
        [
         "min",
         "1"
        ],
        [
         "max",
         "36526"
        ]
       ],
       "datasetInfos": [],
       "dbfsResultPath": null,
       "isJsonSchema": true,
       "metadata": {},
       "overflow": false,
       "plotOptions": {
        "customPlotOptions": {},
        "displayType": "table",
        "pivotAggregation": null,
        "pivotColumns": null,
        "xColumns": null,
        "yColumns": null
       },
       "removedWidgets": [],
       "schema": [
        {
         "metadata": "{}",
         "name": "summary",
         "type": "\"string\""
        },
        {
         "metadata": "{}",
         "name": "Date_ID",
         "type": "\"string\""
        }
       ],
       "type": "table"
      }
     },
     "output_type": "display_data"
    },
    {
     "output_type": "stream",
     "name": "stdout",
     "output_type": "stream",
     "text": [
      "\n No duplicates\n\n No duplicates\n"
     ]
    }
   ],
   "source": [
    "table = \"company.calendar_date\"\n",
    "columns = \"Date_ID\"\n",
    "#check some statistics results for all the columns\n",
    "display(spark.table(table).describe())\n",
    "\n",
    "#check if there are duplicates values for the primary key\n",
    "check_duplicates(table, columns)\n",
    "\n",
    "#check if there are duplicates for the content information in the table\n",
    "columns = [\"Date\"]\n",
    "check_duplicates(table, columns)"
   ]
  },
  {
   "cell_type": "markdown",
   "metadata": {
    "application/vnd.databricks.v1+cell": {
     "cellMetadata": {
      "byteLimit": 2048000,
      "rowLimit": 10000
     },
     "inputWidgets": {},
     "nuid": "8e56704b-4d2a-406b-aeb8-8fc572e86064",
     "showTitle": false,
     "title": ""
    }
   },
   "source": [
    "### 5. Validate the results of dimension table \"Ship_Mode\""
   ]
  },
  {
   "cell_type": "code",
   "execution_count": 0,
   "metadata": {
    "application/vnd.databricks.v1+cell": {
     "cellMetadata": {
      "byteLimit": 2048000,
      "rowLimit": 10000
     },
     "inputWidgets": {},
     "nuid": "5255ecb9-fb8c-4e43-b058-f3b6d6ec33f3",
     "showTitle": false,
     "title": ""
    }
   },
   "outputs": [
    {
     "output_type": "display_data",
     "data": {
      "text/html": [
       "<style scoped>\n",
       "  .table-result-container {\n",
       "    max-height: 300px;\n",
       "    overflow: auto;\n",
       "  }\n",
       "  table, th, td {\n",
       "    border: 1px solid black;\n",
       "    border-collapse: collapse;\n",
       "  }\n",
       "  th, td {\n",
       "    padding: 5px;\n",
       "  }\n",
       "  th {\n",
       "    text-align: left;\n",
       "  }\n",
       "</style><div class='table-result-container'><table class='table-result'><thead style='background-color: white'><tr><th>summary</th><th>Ship_Mode_ID</th><th>Ship_Mode</th></tr></thead><tbody><tr><td>count</td><td>4</td><td>4</td></tr><tr><td>mean</td><td>2.5</td><td>null</td></tr><tr><td>stddev</td><td>1.2909944487358056</td><td>null</td></tr><tr><td>min</td><td>1</td><td>First Class</td></tr><tr><td>max</td><td>4</td><td>Standard Class</td></tr></tbody></table></div>"
      ]
     },
     "metadata": {
      "application/vnd.databricks.v1+output": {
       "addedWidgets": {},
       "aggData": [],
       "aggError": "",
       "aggOverflow": false,
       "aggSchema": [],
       "aggSeriesLimitReached": false,
       "aggType": "",
       "arguments": {},
       "columnCustomDisplayInfos": {},
       "data": [
        [
         "count",
         "4",
         "4"
        ],
        [
         "mean",
         "2.5",
         null
        ],
        [
         "stddev",
         "1.2909944487358056",
         null
        ],
        [
         "min",
         "1",
         "First Class"
        ],
        [
         "max",
         "4",
         "Standard Class"
        ]
       ],
       "datasetInfos": [],
       "dbfsResultPath": null,
       "isJsonSchema": true,
       "metadata": {},
       "overflow": false,
       "plotOptions": {
        "customPlotOptions": {},
        "displayType": "table",
        "pivotAggregation": null,
        "pivotColumns": null,
        "xColumns": null,
        "yColumns": null
       },
       "removedWidgets": [],
       "schema": [
        {
         "metadata": "{}",
         "name": "summary",
         "type": "\"string\""
        },
        {
         "metadata": "{}",
         "name": "Ship_Mode_ID",
         "type": "\"string\""
        },
        {
         "metadata": "{}",
         "name": "Ship_Mode",
         "type": "\"string\""
        }
       ],
       "type": "table"
      }
     },
     "output_type": "display_data"
    },
    {
     "output_type": "stream",
     "name": "stdout",
     "output_type": "stream",
     "text": [
      "\n No duplicates\n\n No duplicates\n"
     ]
    }
   ],
   "source": [
    "table = \"company.ship_mode\"\n",
    "columns = \"Ship_Mode_ID\"\n",
    "#check some statistics results for all the columns\n",
    "display(spark.table(table).describe())\n",
    "\n",
    "#check if there are duplicates values for the primary key\n",
    "check_duplicates(table, columns)\n",
    "\n",
    "#check if there are duplicates for the content information in the table\n",
    "columns = [\"Ship_Mode\"]\n",
    "check_duplicates(table, columns)"
   ]
  },
  {
   "cell_type": "markdown",
   "metadata": {
    "application/vnd.databricks.v1+cell": {
     "cellMetadata": {
      "byteLimit": 2048000,
      "rowLimit": 10000
     },
     "inputWidgets": {},
     "nuid": "2d948f2b-e236-46de-b049-7fd9ef6fb97f",
     "showTitle": false,
     "title": ""
    }
   },
   "source": [
    "### 6. Validate the results of dimension table \"Ship\""
   ]
  },
  {
   "cell_type": "code",
   "execution_count": 0,
   "metadata": {
    "application/vnd.databricks.v1+cell": {
     "cellMetadata": {
      "byteLimit": 2048000,
      "rowLimit": 10000
     },
     "inputWidgets": {},
     "nuid": "9561fd5b-c673-4a02-9b2f-3a9bd7903b06",
     "showTitle": false,
     "title": ""
    }
   },
   "outputs": [
    {
     "output_type": "display_data",
     "data": {
      "text/html": [
       "<style scoped>\n",
       "  .table-result-container {\n",
       "    max-height: 300px;\n",
       "    overflow: auto;\n",
       "  }\n",
       "  table, th, td {\n",
       "    border: 1px solid black;\n",
       "    border-collapse: collapse;\n",
       "  }\n",
       "  th, td {\n",
       "    padding: 5px;\n",
       "  }\n",
       "  th {\n",
       "    text-align: left;\n",
       "  }\n",
       "</style><div class='table-result-container'><table class='table-result'><thead style='background-color: white'><tr><th>summary</th><th>Ship_ID</th><th>Ship_Mode_ID</th><th>Ship_Date</th><th>Shipping_Cost</th></tr></thead><tbody><tr><td>count</td><td>51106</td><td>51106</td><td>51106</td><td>51106</td></tr><tr><td>mean</td><td>25553.5</td><td>3.2527491879622743</td><td>4884.615407192893</td><td>26.459420878175152</td></tr><tr><td>stddev</td><td>14753.175765463742</td><td>1.0838646239374283</td><td>412.5603055437603</td><td>57.382300563185424</td></tr><tr><td>min</td><td>1</td><td>1</td><td>4021</td><td>0.002</td></tr><tr><td>max</td><td>51106</td><td>4</td><td>5486</td><td>99.98</td></tr></tbody></table></div>"
      ]
     },
     "metadata": {
      "application/vnd.databricks.v1+output": {
       "addedWidgets": {},
       "aggData": [],
       "aggError": "",
       "aggOverflow": false,
       "aggSchema": [],
       "aggSeriesLimitReached": false,
       "aggType": "",
       "arguments": {},
       "columnCustomDisplayInfos": {},
       "data": [
        [
         "count",
         "51106",
         "51106",
         "51106",
         "51106"
        ],
        [
         "mean",
         "25553.5",
         "3.2527491879622743",
         "4884.615407192893",
         "26.459420878175152"
        ],
        [
         "stddev",
         "14753.175765463742",
         "1.0838646239374283",
         "412.5603055437603",
         "57.382300563185424"
        ],
        [
         "min",
         "1",
         "1",
         "4021",
         "0.002"
        ],
        [
         "max",
         "51106",
         "4",
         "5486",
         "99.98"
        ]
       ],
       "datasetInfos": [],
       "dbfsResultPath": null,
       "isJsonSchema": true,
       "metadata": {},
       "overflow": false,
       "plotOptions": {
        "customPlotOptions": {},
        "displayType": "table",
        "pivotAggregation": null,
        "pivotColumns": null,
        "xColumns": null,
        "yColumns": null
       },
       "removedWidgets": [],
       "schema": [
        {
         "metadata": "{}",
         "name": "summary",
         "type": "\"string\""
        },
        {
         "metadata": "{}",
         "name": "Ship_ID",
         "type": "\"string\""
        },
        {
         "metadata": "{}",
         "name": "Ship_Mode_ID",
         "type": "\"string\""
        },
        {
         "metadata": "{}",
         "name": "Ship_Date",
         "type": "\"string\""
        },
        {
         "metadata": "{}",
         "name": "Shipping_Cost",
         "type": "\"string\""
        }
       ],
       "type": "table"
      }
     },
     "output_type": "display_data"
    },
    {
     "output_type": "stream",
     "name": "stdout",
     "output_type": "stream",
     "text": [
      "\n No duplicates\n"
     ]
    }
   ],
   "source": [
    "table = \"company.ship\"\n",
    "columns = \"Ship_ID\"\n",
    "#check some statistics results for all the columns\n",
    "display(spark.table(table).describe())\n",
    "\n",
    "#check if there are duplicates values for the primary key\n",
    "check_duplicates(table, columns)"
   ]
  },
  {
   "cell_type": "markdown",
   "metadata": {
    "application/vnd.databricks.v1+cell": {
     "cellMetadata": {
      "byteLimit": 2048000,
      "rowLimit": 10000
     },
     "inputWidgets": {},
     "nuid": "9f448315-92db-468b-aaf5-8fd12f4b429d",
     "showTitle": false,
     "title": ""
    }
   },
   "source": [
    "### 7. Validate the results of dimension table \"Customer\""
   ]
  },
  {
   "cell_type": "code",
   "execution_count": 0,
   "metadata": {
    "application/vnd.databricks.v1+cell": {
     "cellMetadata": {
      "byteLimit": 2048000,
      "rowLimit": 10000
     },
     "inputWidgets": {},
     "nuid": "ca54554d-7305-4ea5-b7dd-6178a95929b5",
     "showTitle": false,
     "title": ""
    }
   },
   "outputs": [
    {
     "output_type": "display_data",
     "data": {
      "text/html": [
       "<style scoped>\n",
       "  .table-result-container {\n",
       "    max-height: 300px;\n",
       "    overflow: auto;\n",
       "  }\n",
       "  table, th, td {\n",
       "    border: 1px solid black;\n",
       "    border-collapse: collapse;\n",
       "  }\n",
       "  th, td {\n",
       "    padding: 5px;\n",
       "  }\n",
       "  th {\n",
       "    text-align: left;\n",
       "  }\n",
       "</style><div class='table-result-container'><table class='table-result'><thead style='background-color: white'><tr><th>summary</th><th>Customer_ID</th><th>Customer_Segment_ID</th><th>Customer_Name</th></tr></thead><tbody><tr><td>count</td><td>4873</td><td>4873</td><td>4873</td></tr><tr><td>mean</td><td>null</td><td>1.6712497434845064</td><td>null</td></tr><tr><td>stddev</td><td>null</td><td>0.7700977281431572</td><td>null</td></tr><tr><td>min</td><td>AA-103151</td><td>1</td><td>Aaron Bergman</td></tr><tr><td>max</td><td>ZD-219254</td><td>3</td><td>Zuschuss Donatelli</td></tr></tbody></table></div>"
      ]
     },
     "metadata": {
      "application/vnd.databricks.v1+output": {
       "addedWidgets": {},
       "aggData": [],
       "aggError": "",
       "aggOverflow": false,
       "aggSchema": [],
       "aggSeriesLimitReached": false,
       "aggType": "",
       "arguments": {},
       "columnCustomDisplayInfos": {},
       "data": [
        [
         "count",
         "4873",
         "4873",
         "4873"
        ],
        [
         "mean",
         null,
         "1.6712497434845064",
         null
        ],
        [
         "stddev",
         null,
         "0.7700977281431572",
         null
        ],
        [
         "min",
         "AA-103151",
         "1",
         "Aaron Bergman"
        ],
        [
         "max",
         "ZD-219254",
         "3",
         "Zuschuss Donatelli"
        ]
       ],
       "datasetInfos": [],
       "dbfsResultPath": null,
       "isJsonSchema": true,
       "metadata": {},
       "overflow": false,
       "plotOptions": {
        "customPlotOptions": {},
        "displayType": "table",
        "pivotAggregation": null,
        "pivotColumns": null,
        "xColumns": null,
        "yColumns": null
       },
       "removedWidgets": [],
       "schema": [
        {
         "metadata": "{}",
         "name": "summary",
         "type": "\"string\""
        },
        {
         "metadata": "{}",
         "name": "Customer_ID",
         "type": "\"string\""
        },
        {
         "metadata": "{}",
         "name": "Customer_Segment_ID",
         "type": "\"string\""
        },
        {
         "metadata": "{}",
         "name": "Customer_Name",
         "type": "\"string\""
        }
       ],
       "type": "table"
      }
     },
     "output_type": "display_data"
    },
    {
     "output_type": "stream",
     "name": "stdout",
     "output_type": "stream",
     "text": [
      "\n No duplicates\n"
     ]
    },
    {
     "output_type": "display_data",
     "data": {
      "text/html": [
       "<style scoped>\n",
       "  .table-result-container {\n",
       "    max-height: 300px;\n",
       "    overflow: auto;\n",
       "  }\n",
       "  table, th, td {\n",
       "    border: 1px solid black;\n",
       "    border-collapse: collapse;\n",
       "  }\n",
       "  th, td {\n",
       "    padding: 5px;\n",
       "  }\n",
       "  th {\n",
       "    text-align: left;\n",
       "  }\n",
       "</style><div class='table-result-container'><table class='table-result'><thead style='background-color: white'><tr><th>Customer_Name</th><th>count</th></tr></thead><tbody><tr><td>Jim Mitchum</td><td>7</td></tr><tr><td>Jesus Ocampo</td><td>6</td></tr><tr><td>Patrick O'Brill</td><td>6</td></tr><tr><td>Ted Butterfield</td><td>6</td></tr><tr><td>Parhena Norris</td><td>6</td></tr><tr><td>Michelle Ellison</td><td>5</td></tr><tr><td>Joseph Holt</td><td>6</td></tr><tr><td>Ben Peterman</td><td>6</td></tr><tr><td>Denny Joy</td><td>6</td></tr><tr><td>Hilary Holden</td><td>6</td></tr><tr><td>Ruben Ausman</td><td>7</td></tr><tr><td>Bill Overfelt</td><td>6</td></tr><tr><td>Carl Weiss</td><td>6</td></tr><tr><td>Brooke Gillingham</td><td>6</td></tr><tr><td>Craig Yedwab</td><td>6</td></tr><tr><td>Michael Kennedy</td><td>7</td></tr><tr><td>Patrick Jones</td><td>6</td></tr><tr><td>Darren Koutras</td><td>5</td></tr><tr><td>Roland Schwarz</td><td>6</td></tr><tr><td>Sally Matthias</td><td>6</td></tr><tr><td>Aaron Hawkins</td><td>6</td></tr><tr><td>Randy Bradley</td><td>6</td></tr><tr><td>Anne Pryor</td><td>6</td></tr><tr><td>Jessica Myrick</td><td>6</td></tr><tr><td>Rob Lucas</td><td>6</td></tr><tr><td>Denny Ordway</td><td>6</td></tr><tr><td>Denny Blanton</td><td>5</td></tr><tr><td>Maria Bertelson</td><td>6</td></tr><tr><td>Craig Carroll</td><td>6</td></tr><tr><td>Barry Franz</td><td>6</td></tr><tr><td>Mark Hamilton</td><td>6</td></tr><tr><td>Ann Steele</td><td>6</td></tr><tr><td>Bobby Trafton</td><td>6</td></tr><tr><td>Shirley Schmidt</td><td>6</td></tr><tr><td>Jasper Cacioppo</td><td>6</td></tr><tr><td>Nick Zandusky</td><td>5</td></tr><tr><td>Matt Abelman</td><td>6</td></tr><tr><td>Ben Wallace</td><td>6</td></tr><tr><td>Valerie Dominguez</td><td>6</td></tr><tr><td>Stewart Carmichael</td><td>7</td></tr><tr><td>Pierre Wener</td><td>6</td></tr><tr><td>Denise Monton</td><td>6</td></tr><tr><td>Hunter Glantz</td><td>6</td></tr><tr><td>Anthony Witt</td><td>5</td></tr><tr><td>Victoria Brennan</td><td>6</td></tr><tr><td>Lindsay Shagiari</td><td>7</td></tr><tr><td>Steven Ward</td><td>7</td></tr><tr><td>Brendan Sweed</td><td>6</td></tr><tr><td>Carol Triggs</td><td>5</td></tr><tr><td>Alan Barnes</td><td>7</td></tr><tr><td>Phillina Ober</td><td>7</td></tr><tr><td>Michael Chen</td><td>6</td></tr><tr><td>Odella Nelson</td><td>6</td></tr><tr><td>Thomas Boland</td><td>6</td></tr><tr><td>Gene McClure</td><td>6</td></tr><tr><td>Ted Trevino</td><td>5</td></tr><tr><td>Sean Miller</td><td>6</td></tr><tr><td>Katrina Willman</td><td>5</td></tr><tr><td>Claire Gute</td><td>6</td></tr><tr><td>Vivian Mathis</td><td>6</td></tr><tr><td>Beth Thompson</td><td>6</td></tr><tr><td>Anna Gayman</td><td>6</td></tr><tr><td>Filia McAdams</td><td>6</td></tr><tr><td>Mick Hernandez</td><td>6</td></tr><tr><td>Giulietta Dortch</td><td>6</td></tr><tr><td>Anthony Rawles</td><td>6</td></tr><tr><td>Sample Company A</td><td>6</td></tr><tr><td>Bryan Davis</td><td>6</td></tr><tr><td>Stewart Visinsky</td><td>6</td></tr><tr><td>Brendan Murry</td><td>6</td></tr><tr><td>Karen Carlisle</td><td>6</td></tr><tr><td>Joel Jenkins</td><td>6</td></tr><tr><td>Charles Crestani</td><td>6</td></tr><tr><td>Jim Epp</td><td>6</td></tr><tr><td>Seth Vernon</td><td>6</td></tr><tr><td>Allen Armold</td><td>7</td></tr><tr><td>Tamara Willingham</td><td>6</td></tr><tr><td>Michelle Tran</td><td>6</td></tr><tr><td>Dan Reichenbach</td><td>6</td></tr><tr><td>Victoria Wilson</td><td>6</td></tr><tr><td>Charles McCrossin</td><td>6</td></tr><tr><td>Chuck Sachs</td><td>6</td></tr><tr><td>Alyssa Crouse</td><td>6</td></tr><tr><td>Paul Van Hugh</td><td>6</td></tr><tr><td>Delfina Latchford</td><td>6</td></tr><tr><td>Evan Henry</td><td>6</td></tr><tr><td>Brad Thomas</td><td>6</td></tr><tr><td>Mike Pelletier</td><td>6</td></tr><tr><td>Neil Französisch</td><td>7</td></tr><tr><td>Fred Wasserman</td><td>6</td></tr><tr><td>Stephanie Phelps</td><td>6</td></tr><tr><td>Anthony Johnson</td><td>6</td></tr><tr><td>Stuart Van</td><td>7</td></tr><tr><td>Anemone Ratner</td><td>6</td></tr><tr><td>Lena Creighton</td><td>7</td></tr><tr><td>Harold Engle</td><td>6</td></tr><tr><td>Neil Ducich</td><td>7</td></tr><tr><td>Rick Reed</td><td>6</td></tr><tr><td>Shui Tom</td><td>6</td></tr><tr><td>Dave Kipp</td><td>6</td></tr><tr><td>Peter Fuller</td><td>7</td></tr><tr><td>Maureen Gnade</td><td>6</td></tr><tr><td>Harry Greene</td><td>6</td></tr><tr><td>Monica Federle</td><td>6</td></tr><tr><td>Chad Cunningham</td><td>6</td></tr><tr><td>Liz Thompson</td><td>6</td></tr><tr><td>George Ashbrook</td><td>6</td></tr><tr><td>Mark Haberlin</td><td>7</td></tr><tr><td>David Philippe</td><td>6</td></tr><tr><td>Muhammed MacIntyre</td><td>6</td></tr><tr><td>Christine Abelman</td><td>6</td></tr><tr><td>Mark Van Huff</td><td>6</td></tr><tr><td>Christina DeMoss</td><td>6</td></tr><tr><td>Joseph Airdo</td><td>6</td></tr><tr><td>Duane Benoit</td><td>6</td></tr><tr><td>Barry Weirich</td><td>6</td></tr><tr><td>Kimberly Carter</td><td>6</td></tr><tr><td>Robert Barroso</td><td>6</td></tr><tr><td>Doug Jacobs</td><td>6</td></tr><tr><td>Bart Pistole</td><td>6</td></tr><tr><td>Sean O'Donnell</td><td>6</td></tr><tr><td>Pauline Johnson</td><td>6</td></tr><tr><td>Jay Fein</td><td>6</td></tr><tr><td>Karen Daniels</td><td>5</td></tr><tr><td>Jas O'Carroll</td><td>5</td></tr><tr><td>Christina VanderZanden</td><td>6</td></tr><tr><td>Doug Bickford</td><td>6</td></tr><tr><td>Tiffany House</td><td>6</td></tr><tr><td>Frank Atkinson</td><td>6</td></tr><tr><td>Xylona Preis</td><td>6</td></tr><tr><td>Giulietta Weimer</td><td>6</td></tr><tr><td>Sandra Glassco</td><td>7</td></tr><tr><td>Jim Radford</td><td>6</td></tr><tr><td>Arianne Irving</td><td>6</td></tr><tr><td>Clay Rozendal</td><td>6</td></tr><tr><td>Janet Molinari</td><td>6</td></tr><tr><td>Mary Zewe</td><td>7</td></tr><tr><td>Frank Gastineau</td><td>7</td></tr><tr><td>Becky Pak</td><td>7</td></tr><tr><td>Marc Harrigan</td><td>5</td></tr><tr><td>Barry Blumstein</td><td>6</td></tr><tr><td>Alex Russell</td><td>6</td></tr><tr><td>Amy Hunt</td><td>6</td></tr><tr><td>Pauline Webber</td><td>6</td></tr><tr><td>Jane Waco</td><td>6</td></tr><tr><td>Jim Kriz</td><td>6</td></tr><tr><td>Guy Armstrong</td><td>5</td></tr><tr><td>Andrew Gjertsen</td><td>7</td></tr><tr><td>Ann Chong</td><td>6</td></tr><tr><td>Andrew Roberts</td><td>6</td></tr><tr><td>Herbert Flentye</td><td>6</td></tr><tr><td>Bradley Nguyen</td><td>6</td></tr><tr><td>Lena Radford</td><td>6</td></tr><tr><td>Kean Thornton</td><td>6</td></tr><tr><td>Karen Ferguson</td><td>6</td></tr><tr><td>Frank Olsen</td><td>6</td></tr><tr><td>Dana Kaydos</td><td>6</td></tr><tr><td>Helen Andreada</td><td>6</td></tr><tr><td>Tracy Blumstein</td><td>6</td></tr><tr><td>Richard Bierner</td><td>6</td></tr><tr><td>Anna Häberlin</td><td>6</td></tr><tr><td>Aaron Smayling</td><td>6</td></tr><tr><td>Karen Seio</td><td>6</td></tr><tr><td>Speros Goranitis</td><td>6</td></tr><tr><td>Erin Mull</td><td>7</td></tr><tr><td>Rob Haberlin</td><td>7</td></tr><tr><td>Giulietta Baptist</td><td>6</td></tr><tr><td>Shaun Weien</td><td>6</td></tr><tr><td>Bart Folk</td><td>7</td></tr><tr><td>Christina Anderson</td><td>6</td></tr><tr><td>Shahid Hopkins</td><td>7</td></tr><tr><td>Paul Lucas</td><td>6</td></tr><tr><td>Philip Brown</td><td>6</td></tr><tr><td>Peter McVee</td><td>6</td></tr><tr><td>Susan Pistek</td><td>6</td></tr><tr><td>Barry Französisch</td><td>6</td></tr><tr><td>Ryan Akin</td><td>6</td></tr><tr><td>Sue Ann Reed</td><td>7</td></tr><tr><td>Harry Marie</td><td>6</td></tr><tr><td>Dean percer</td><td>7</td></tr><tr><td>Dennis Bolton</td><td>5</td></tr><tr><td>Adrian Shami</td><td>6</td></tr><tr><td>Jim Karlsson</td><td>7</td></tr><tr><td>Bobby Elias</td><td>6</td></tr><tr><td>Gary Hwang</td><td>7</td></tr><tr><td>Eugene Hildebrand</td><td>6</td></tr><tr><td>Naresj Patel</td><td>7</td></tr><tr><td>Ryan Crowe</td><td>6</td></tr><tr><td>Mike Caudle</td><td>6</td></tr><tr><td>Logan Haushalter</td><td>7</td></tr><tr><td>Christopher Conant</td><td>6</td></tr><tr><td>Andy Reiter</td><td>6</td></tr><tr><td>Todd Sumrall</td><td>6</td></tr><tr><td>Denise Leinenbach</td><td>7</td></tr><tr><td>Chuck Magee</td><td>6</td></tr><tr><td>Troy Staebel</td><td>6</td></tr><tr><td>Frank Merwin</td><td>6</td></tr><tr><td>Ralph Kennedy</td><td>6</td></tr><tr><td>Larry Blacks</td><td>7</td></tr><tr><td>Jennifer Halladay</td><td>7</td></tr><tr><td>Thea Hudgings</td><td>7</td></tr><tr><td>Justin Ellison</td><td>6</td></tr><tr><td>Lisa Hazard</td><td>6</td></tr><tr><td>Max Ludwig</td><td>7</td></tr><tr><td>James Lanier</td><td>6</td></tr><tr><td>Tonja Turnell</td><td>6</td></tr><tr><td>Heather Kirkland</td><td>7</td></tr><tr><td>Matt Connell</td><td>6</td></tr><tr><td>Craig Molinari</td><td>6</td></tr><tr><td>Ken Lonsdale</td><td>6</td></tr><tr><td>Michelle Huthwaite</td><td>7</td></tr><tr><td>Yana Sorensen</td><td>6</td></tr><tr><td>Alyssa Tate</td><td>6</td></tr><tr><td>Lycoris Saunders</td><td>6</td></tr><tr><td>Erica Bern</td><td>6</td></tr><tr><td>Michael Moore</td><td>6</td></tr><tr><td>Maureen Fritzler</td><td>6</td></tr><tr><td>Sung Pak</td><td>5</td></tr><tr><td>Dave Poirier</td><td>6</td></tr><tr><td>Stuart Calhoun</td><td>6</td></tr><tr><td>Lindsay Williams</td><td>6</td></tr><tr><td>Luke Foster</td><td>6</td></tr><tr><td>Bart Watters</td><td>7</td></tr><tr><td>Dave Brooks</td><td>6</td></tr><tr><td>Lena Hernandez</td><td>6</td></tr><tr><td>Ed Jacobs</td><td>6</td></tr><tr><td>William Brown</td><td>6</td></tr><tr><td>Dean Katz</td><td>6</td></tr><tr><td>Bradley Drucker</td><td>5</td></tr><tr><td>Scot Coram</td><td>6</td></tr><tr><td>Maurice Satty</td><td>6</td></tr><tr><td>Cathy Hwang</td><td>6</td></tr><tr><td>Muhammed Lee</td><td>6</td></tr><tr><td>Chloris Kastensmidt</td><td>6</td></tr><tr><td>Andy Gerbode</td><td>6</td></tr><tr><td>Ann Blume</td><td>6</td></tr><tr><td>David Smith</td><td>6</td></tr><tr><td>Rick Wilson</td><td>6</td></tr><tr><td>Jack Lebron</td><td>7</td></tr><tr><td>Cynthia Voltz</td><td>6</td></tr><tr><td>Henia Zydlo</td><td>6</td></tr><tr><td>Meg Tillman</td><td>6</td></tr><tr><td>Don Weiss</td><td>7</td></tr><tr><td>Karl Braun</td><td>6</td></tr><tr><td>Matthew Grinstein</td><td>5</td></tr><tr><td>Tim Brockman</td><td>6</td></tr><tr><td>Laurel Workman</td><td>6</td></tr><tr><td>Annie Thurman</td><td>6</td></tr><tr><td>Steve Nguyen</td><td>6</td></tr><tr><td>Astrea Jones</td><td>6</td></tr><tr><td>Deirdre Greer</td><td>6</td></tr><tr><td>Daniel Lacy</td><td>6</td></tr><tr><td>Rachel Payne</td><td>6</td></tr><tr><td>Troy Blackwell</td><td>6</td></tr><tr><td>Ritsa Hightower</td><td>6</td></tr><tr><td>Robert Marley</td><td>7</td></tr><tr><td>Justin Deggeller</td><td>6</td></tr><tr><td>Pete Armstrong</td><td>6</td></tr><tr><td>Michael Grace</td><td>5</td></tr><tr><td>Roger Barcio</td><td>7</td></tr><tr><td>Roy Skaria</td><td>6</td></tr><tr><td>Mike Gockenbach</td><td>6</td></tr><tr><td>Adrian Hane</td><td>6</td></tr><tr><td>Cindy Stewart</td><td>6</td></tr><tr><td>Ken Brennan</td><td>7</td></tr><tr><td>Julie Kriz</td><td>7</td></tr><tr><td>Jamie Frazer</td><td>6</td></tr><tr><td>Clay Ludtke</td><td>6</td></tr><tr><td>Maris LaWare</td><td>5</td></tr><tr><td>Evan Minnotte</td><td>6</td></tr><tr><td>Brendan Dodson</td><td>6</td></tr><tr><td>Cyma Kinney</td><td>6</td></tr><tr><td>Eva Jacobs</td><td>6</td></tr><tr><td>Ashley Jarboe</td><td>6</td></tr><tr><td>Sally Knutson</td><td>6</td></tr><tr><td>Nicole Hansen</td><td>7</td></tr><tr><td>Craig Carreira</td><td>6</td></tr><tr><td>Ben Ferrer</td><td>6</td></tr><tr><td>Jeremy Lonsdale</td><td>6</td></tr><tr><td>Ken Black</td><td>5</td></tr><tr><td>Sam Craven</td><td>6</td></tr><tr><td>Pauline Chand</td><td>6</td></tr><tr><td>Penelope Sewall</td><td>6</td></tr><tr><td>Russell D'Ascenzo</td><td>6</td></tr><tr><td>Charles Sheldon</td><td>6</td></tr><tr><td>Nancy Lomonaco</td><td>6</td></tr><tr><td>Carlos Meador</td><td>6</td></tr><tr><td>Susan Gilcrest</td><td>6</td></tr><tr><td>Gary Zandusky</td><td>7</td></tr><tr><td>Nicole Fjeld</td><td>6</td></tr><tr><td>Katrina Bavinger</td><td>5</td></tr><tr><td>Damala Kotsonis</td><td>6</td></tr><tr><td>Christine Sundaresam</td><td>6</td></tr><tr><td>Tamara Chand</td><td>6</td></tr><tr><td>Harold Ryan</td><td>6</td></tr><tr><td>Ricardo Sperren</td><td>7</td></tr><tr><td>Alejandro Ballentine</td><td>7</td></tr><tr><td>James Galang</td><td>6</td></tr><tr><td>Erin Smith</td><td>6</td></tr><tr><td>Becky Castell</td><td>6</td></tr><tr><td>Joni Wasserman</td><td>6</td></tr><tr><td>Adam Bellavance</td><td>6</td></tr><tr><td>Steven Roelle</td><td>6</td></tr><tr><td>Carlos Soltero</td><td>7</td></tr><tr><td>Lori Olson</td><td>6</td></tr><tr><td>Jeremy Pistek</td><td>7</td></tr><tr><td>Anna Andreadi</td><td>6</td></tr><tr><td>Kean Takahito</td><td>7</td></tr><tr><td>Carl Ludwig</td><td>7</td></tr><tr><td>Linda Southworth</td><td>7</td></tr><tr><td>Maria Zettner</td><td>6</td></tr><tr><td>Brad Norvell</td><td>6</td></tr><tr><td>Trudy Schmidt</td><td>6</td></tr><tr><td>Benjamin Farhat</td><td>5</td></tr><tr><td>Aaron Bergman</td><td>6</td></tr><tr><td>Angele Hood</td><td>6</td></tr><tr><td>Pete Takahito</td><td>6</td></tr><tr><td>Trudy Brown</td><td>6</td></tr><tr><td>Toby Carlisle</td><td>7</td></tr><tr><td>Patrick Ryan</td><td>7</td></tr><tr><td>John Stevenson</td><td>6</td></tr><tr><td>Debra Catini</td><td>6</td></tr><tr><td>Roy Collins</td><td>5</td></tr><tr><td>Jocasta Rupert</td><td>6</td></tr><tr><td>Michael Oakman</td><td>6</td></tr><tr><td>Rick Huthwaite</td><td>6</td></tr><tr><td>Vivek Gonzalez</td><td>6</td></tr><tr><td>Irene Maddox</td><td>6</td></tr><tr><td>Corey-Lock</td><td>6</td></tr><tr><td>Keith Herrera</td><td>6</td></tr><tr><td>Art Foster</td><td>6</td></tr><tr><td>Noah Childs</td><td>6</td></tr><tr><td>Eugene Moren</td><td>6</td></tr><tr><td>Luke Schmidt</td><td>5</td></tr><tr><td>Thomas Thornton</td><td>6</td></tr><tr><td>Matt Hagelstein</td><td>7</td></tr><tr><td>Laurel Elliston</td><td>5</td></tr><tr><td>Arthur Prichep</td><td>6</td></tr><tr><td>Greg Matthias</td><td>6</td></tr><tr><td>Rick Hansen</td><td>6</td></tr><tr><td>David Kendrick</td><td>6</td></tr><tr><td>Phillip Breyer</td><td>6</td></tr><tr><td>Nora Paige</td><td>6</td></tr><tr><td>Edward Hooks</td><td>6</td></tr><tr><td>Pamela Coakley</td><td>6</td></tr><tr><td>Guy Phonely</td><td>6</td></tr><tr><td>Nathan Gelder</td><td>7</td></tr><tr><td>Lisa DeCherney</td><td>7</td></tr><tr><td>Ralph Arnett</td><td>7</td></tr><tr><td>Steven Cartwright</td><td>6</td></tr><tr><td>Bruce Degenhardt</td><td>6</td></tr><tr><td>Ellis Ballard</td><td>7</td></tr><tr><td>Cynthia Delaney</td><td>6</td></tr><tr><td>Randy Ferguson</td><td>7</td></tr><tr><td>Arthur Gainer</td><td>5</td></tr><tr><td>Maya Herman</td><td>6</td></tr><tr><td>Erin Ashbrook</td><td>5</td></tr><tr><td>Rob Williams</td><td>6</td></tr><tr><td>Eileen Kiefer</td><td>6</td></tr><tr><td>Michelle Arnett</td><td>7</td></tr><tr><td>Tom Stivers</td><td>6</td></tr><tr><td>Maribeth Dona</td><td>7</td></tr><tr><td>Daniel Byrd</td><td>7</td></tr><tr><td>Henry Goldwyn</td><td>7</td></tr><tr><td>Nora Pelletier</td><td>6</td></tr><tr><td>Cindy Schnelling</td><td>6</td></tr><tr><td>Frank Preis</td><td>6</td></tr><tr><td>Nona Balk</td><td>6</td></tr><tr><td>Jennifer Ferguson</td><td>6</td></tr><tr><td>Jill Fjeld</td><td>6</td></tr><tr><td>Patrick O'Donnell</td><td>7</td></tr><tr><td>Sung Shariari</td><td>6</td></tr><tr><td>Eugene Barchas</td><td>6</td></tr><tr><td>David Bremer</td><td>6</td></tr><tr><td>Joe Kamberova</td><td>6</td></tr><tr><td>Chris Selesnick</td><td>6</td></tr><tr><td>Carol Darley</td><td>7</td></tr><tr><td>Ross Baird</td><td>6</td></tr><tr><td>Toby Gnade</td><td>7</td></tr><tr><td>Kelly Collister</td><td>6</td></tr><tr><td>Chad McGuire</td><td>6</td></tr><tr><td>Edward Nazzal</td><td>6</td></tr><tr><td>David Wiener</td><td>6</td></tr><tr><td>Theresa Coyne</td><td>6</td></tr><tr><td>Becky Martin</td><td>6</td></tr><tr><td>Paul Prost</td><td>6</td></tr><tr><td>Nick Crebassa</td><td>6</td></tr><tr><td>Bruce Geld</td><td>6</td></tr><tr><td>Julie Prescott</td><td>6</td></tr><tr><td>Laura Armstrong</td><td>6</td></tr><tr><td>Craig Reiter</td><td>6</td></tr><tr><td>Bruce Stewart</td><td>6</td></tr><tr><td>Mary O'Rourke</td><td>6</td></tr><tr><td>Larry Hughes</td><td>6</td></tr><tr><td>Rick Bensley</td><td>6</td></tr><tr><td>Sarah Foster</td><td>6</td></tr><tr><td>David Flashing</td><td>6</td></tr><tr><td>Kelly Lampkin</td><td>6</td></tr><tr><td>Cari Sayre</td><td>6</td></tr><tr><td>Julie Creighton</td><td>6</td></tr><tr><td>Alex Avila</td><td>6</td></tr><tr><td>Corinna Mitchell</td><td>6</td></tr><tr><td>Katherine Hughes</td><td>6</td></tr><tr><td>Natalie DeCherney</td><td>6</td></tr><tr><td>Ken Dana</td><td>5</td></tr><tr><td>Christopher Martinez</td><td>6</td></tr><tr><td>Liz Preis</td><td>7</td></tr><tr><td>Pamela Stobb</td><td>6</td></tr><tr><td>Brad Eason</td><td>6</td></tr><tr><td>Cynthia Arntzen</td><td>6</td></tr><tr><td>Jonathan Howell</td><td>7</td></tr><tr><td>Dennis Pardue</td><td>7</td></tr><tr><td>Emily Phan</td><td>6</td></tr><tr><td>Caroline Jumper</td><td>6</td></tr><tr><td>Andy Yotov</td><td>6</td></tr><tr><td>Elpida Rittenbach</td><td>6</td></tr><tr><td>Michael Granlund</td><td>5</td></tr><tr><td>Bill Stewart</td><td>6</td></tr><tr><td>Ken Heidel</td><td>6</td></tr><tr><td>Ivan Gibson</td><td>6</td></tr><tr><td>Jason Gross</td><td>5</td></tr><tr><td>Michelle Lonsdale</td><td>7</td></tr><tr><td>Ed Ludwig</td><td>6</td></tr><tr><td>Matthew Clasen</td><td>6</td></tr><tr><td>Helen Abelman</td><td>6</td></tr><tr><td>Bobby Odegard</td><td>6</td></tr><tr><td>Deanra Eno</td><td>6</td></tr><tr><td>Shaun Chance</td><td>6</td></tr><tr><td>Alan Haines</td><td>7</td></tr><tr><td>Liz Pelletier</td><td>6</td></tr><tr><td>John Huston</td><td>6</td></tr><tr><td>Natalie Webber</td><td>7</td></tr><tr><td>Kelly Andreada</td><td>6</td></tr><tr><td>Carl Jackson</td><td>6</td></tr><tr><td>Janet Martin</td><td>6</td></tr><tr><td>Clytie Kelty</td><td>6</td></tr><tr><td>Magdelene Morse</td><td>7</td></tr><tr><td>Brian Moss</td><td>7</td></tr><tr><td>Katherine Ducich</td><td>6</td></tr><tr><td>Joel Eaton</td><td>6</td></tr><tr><td>Kalyca Meade</td><td>6</td></tr><tr><td>Sandra Flanagan</td><td>6</td></tr><tr><td>Matt Collins</td><td>6</td></tr><tr><td>Tracy Zic</td><td>6</td></tr><tr><td>Nat Carroll</td><td>7</td></tr><tr><td>Valerie Mitchum</td><td>6</td></tr><tr><td>Marc Crier</td><td>6</td></tr><tr><td>Phillip Flathmann</td><td>6</td></tr><tr><td>Fred Harton</td><td>6</td></tr><tr><td>Maribeth Schnelling</td><td>6</td></tr><tr><td>Frank Carlisle</td><td>6</td></tr><tr><td>Gene Hale</td><td>6</td></tr><tr><td>Sharelle Roach</td><td>7</td></tr><tr><td>Katherine Murray</td><td>7</td></tr><tr><td>Kristina Nunn</td><td>6</td></tr><tr><td>Shahid Shariari</td><td>7</td></tr><tr><td>Eric Murdock</td><td>7</td></tr><tr><td>Edward Becker</td><td>6</td></tr><tr><td>Greg Tran</td><td>6</td></tr><tr><td>Janet Lee</td><td>6</td></tr><tr><td>Gary Hansen</td><td>6</td></tr><tr><td>Charlotte Melton</td><td>6</td></tr><tr><td>Evan Bailliet</td><td>6</td></tr><tr><td>Paul MacIntyre</td><td>6</td></tr><tr><td>Theone Pippenger</td><td>6</td></tr><tr><td>Jack Garza</td><td>6</td></tr><tr><td>Cathy Prescott</td><td>7</td></tr><tr><td>Thea Hendricks</td><td>6</td></tr><tr><td>George Bell</td><td>7</td></tr><tr><td>Saphhira Shifley</td><td>7</td></tr><tr><td>Tim Taslimi</td><td>6</td></tr><tr><td>Dorris liebe</td><td>6</td></tr><tr><td>Alejandro Grove</td><td>7</td></tr><tr><td>Fred Hopkins</td><td>6</td></tr><tr><td>Zuschuss Donatelli</td><td>6</td></tr><tr><td>Justin MacKendrick</td><td>6</td></tr><tr><td>Michael Dominguez</td><td>5</td></tr><tr><td>Daniel Raglin</td><td>6</td></tr><tr><td>Jim Sink</td><td>6</td></tr><tr><td>Aleksandra Gannaway</td><td>6</td></tr><tr><td>Erica Hackney</td><td>6</td></tr><tr><td>Sean Braxton</td><td>5</td></tr><tr><td>Susan MacKendrick</td><td>6</td></tr><tr><td>Anna Chung</td><td>6</td></tr><tr><td>Scot Wooten</td><td>6</td></tr><tr><td>Tamara Dahlen</td><td>7</td></tr><tr><td>Joe Elijah</td><td>6</td></tr><tr><td>Khloe Miller</td><td>6</td></tr><tr><td>Jason Fortune-</td><td>7</td></tr><tr><td>Hallie Redmond</td><td>7</td></tr><tr><td>Tony Sayre</td><td>6</td></tr><tr><td>Brian Dahlen</td><td>6</td></tr><tr><td>Duane Huffman</td><td>7</td></tr><tr><td>Clay Cheatham</td><td>6</td></tr><tr><td>Vivek Sundaresam</td><td>6</td></tr><tr><td>Jennifer Jackson</td><td>6</td></tr><tr><td>Roy Französisch</td><td>6</td></tr><tr><td>Bill Shonely</td><td>6</td></tr><tr><td>Scott Williamson</td><td>7</td></tr><tr><td>Jamie Kunitz</td><td>6</td></tr><tr><td>Rick Duston</td><td>7</td></tr><tr><td>Meg O'Connel</td><td>6</td></tr><tr><td>Heather Jas</td><td>6</td></tr><tr><td>Guy Thornton</td><td>7</td></tr><tr><td>Max Engle</td><td>7</td></tr><tr><td>Todd Boyes</td><td>6</td></tr><tr><td>Emily Burns</td><td>6</td></tr><tr><td>Nicole Brennan</td><td>7</td></tr><tr><td>Claudia Bergmann</td><td>6</td></tr><tr><td>Mitch Willingham</td><td>6</td></tr><tr><td>Raymond Messe</td><td>6</td></tr><tr><td>Mathew Reese</td><td>6</td></tr><tr><td>Jennifer Braxton</td><td>6</td></tr><tr><td>Sung Chung</td><td>6</td></tr><tr><td>Bryan Mills</td><td>6</td></tr><tr><td>Sibella Parks</td><td>5</td></tr><tr><td>Jonathan Doherty</td><td>7</td></tr><tr><td>Larry Tron</td><td>7</td></tr><tr><td>Darrin Van Huff</td><td>6</td></tr><tr><td>Vivek Grady</td><td>6</td></tr><tr><td>John Lucas</td><td>6</td></tr><tr><td>Tracy Hopkins</td><td>7</td></tr><tr><td>Raymond Buch</td><td>6</td></tr><tr><td>Ralph Ritter</td><td>6</td></tr><tr><td>Brian Derr</td><td>6</td></tr><tr><td>Tamara Manning</td><td>6</td></tr><tr><td>Adrian Barton</td><td>7</td></tr><tr><td>Anne McFarland</td><td>7</td></tr><tr><td>Cindy Chapman</td><td>7</td></tr><tr><td>Nat Gilpin</td><td>7</td></tr><tr><td>Mark Packer</td><td>5</td></tr><tr><td>John Dryer</td><td>6</td></tr><tr><td>Brosina Hoffman</td><td>6</td></tr><tr><td>Anthony Jacobs</td><td>7</td></tr><tr><td>Theresa Swint</td><td>6</td></tr><tr><td>Stephanie Ulpright</td><td>6</td></tr><tr><td>Sonia Sunley</td><td>6</td></tr><tr><td>Joni Sundaresam</td><td>7</td></tr><tr><td>Amy Cox</td><td>7</td></tr><tr><td>Cassandra Brandow</td><td>5</td></tr><tr><td>Grace Kelly</td><td>6</td></tr><tr><td>Mitch Gastineau</td><td>7</td></tr><tr><td>Nathan Mautz</td><td>7</td></tr><tr><td>Fred Chung</td><td>6</td></tr><tr><td>Dionis Lloyd</td><td>6</td></tr><tr><td>Steve Chapman</td><td>6</td></tr><tr><td>Rob Beeghly</td><td>6</td></tr><tr><td>Lauren Leatherbury</td><td>6</td></tr><tr><td>Robert Waldorf</td><td>6</td></tr><tr><td>Grant Thornton</td><td>6</td></tr><tr><td>Bill Eplett</td><td>6</td></tr><tr><td>Julia West</td><td>6</td></tr><tr><td>Bill Tyler</td><td>6</td></tr><tr><td>Christine Phan</td><td>6</td></tr><tr><td>Christopher Schild</td><td>6</td></tr><tr><td>Eleni McCrary</td><td>6</td></tr><tr><td>Mike Vittorini</td><td>6</td></tr><tr><td>Frank Hawley</td><td>6</td></tr><tr><td>Russell Applegate</td><td>6</td></tr><tr><td>Brian DeCherney</td><td>6</td></tr><tr><td>Michelle Moray</td><td>6</td></tr><tr><td>Sarah Jordon</td><td>7</td></tr><tr><td>Ricardo Emerson</td><td>6</td></tr><tr><td>Paul Gonzalez</td><td>6</td></tr><tr><td>Pete Kriz</td><td>6</td></tr><tr><td>Kean Nguyen</td><td>6</td></tr><tr><td>Philip Fox</td><td>6</td></tr><tr><td>Justin Hirsh</td><td>7</td></tr><tr><td>Richard Eichhorn</td><td>6</td></tr><tr><td>Shahid Collister</td><td>6</td></tr><tr><td>Beth Fritzler</td><td>6</td></tr><tr><td>Jason Klamczynski</td><td>5</td></tr><tr><td>Cathy Armstrong</td><td>6</td></tr><tr><td>Cari MacIntyre</td><td>5</td></tr><tr><td>Rob Dowd</td><td>6</td></tr><tr><td>Eric Barreto</td><td>6</td></tr><tr><td>Allen Rosenblatt</td><td>6</td></tr><tr><td>Tom Ashbrook</td><td>6</td></tr><tr><td>Eric Hoffmann</td><td>7</td></tr><tr><td>Melanie Seite</td><td>6</td></tr><tr><td>Sanjit Jacobs</td><td>7</td></tr><tr><td>Trudy Glocke</td><td>7</td></tr><tr><td>Robert Dilbeck</td><td>7</td></tr><tr><td>Joy Smith</td><td>7</td></tr><tr><td>Victoria Pisteka</td><td>6</td></tr><tr><td>Rose O'Brian</td><td>6</td></tr><tr><td>Kelly Williams</td><td>6</td></tr><tr><td>Greg Hansen</td><td>7</td></tr><tr><td>Max Jones</td><td>6</td></tr><tr><td>Jeremy Ellison</td><td>6</td></tr><tr><td>Cyra Reiten</td><td>6</td></tr><tr><td>Chris Cortes</td><td>7</td></tr><tr><td>Fred McMath</td><td>6</td></tr><tr><td>Duane Noonan</td><td>7</td></tr><tr><td>Jack O'Briant</td><td>6</td></tr><tr><td>Tanja Norvell</td><td>5</td></tr><tr><td>Darrin Sayre</td><td>6</td></tr><tr><td>Michael Paige</td><td>6</td></tr><tr><td>Deborah Brumfield</td><td>6</td></tr><tr><td>Jennifer Patt</td><td>7</td></tr><tr><td>Elizabeth Moffitt</td><td>7</td></tr><tr><td>Katharine Harms</td><td>6</td></tr><tr><td>Shirley Jackson</td><td>5</td></tr><tr><td>Quincy Jones</td><td>6</td></tr><tr><td>Aimee Bixby</td><td>5</td></tr><tr><td>Natalie Fritzler</td><td>7</td></tr><tr><td>Dorothy Badders</td><td>6</td></tr><tr><td>Juliana Krohn</td><td>7</td></tr><tr><td>Barry Gonzalez</td><td>5</td></tr><tr><td>Liz Carlisle</td><td>6</td></tr><tr><td>Jill Stevenson</td><td>7</td></tr><tr><td>Erica Smith</td><td>7</td></tr><tr><td>Erica Hernandez</td><td>6</td></tr><tr><td>Lindsay Castell</td><td>6</td></tr><tr><td>Gary Mitchum</td><td>6</td></tr><tr><td>Toby Ritter</td><td>6</td></tr><tr><td>Neoma Murray</td><td>5</td></tr><tr><td>Tracy Poddar</td><td>6</td></tr><tr><td>Olvera Toch</td><td>6</td></tr><tr><td>Emily Ducich</td><td>7</td></tr><tr><td>Joy Daniels</td><td>6</td></tr><tr><td>Harold Dahlen</td><td>6</td></tr><tr><td>Zuschuss Carroll</td><td>5</td></tr><tr><td>Muhammed Yedwab</td><td>6</td></tr><tr><td>Patrick Bzostek</td><td>7</td></tr><tr><td>Tom Boeckenhauer</td><td>6</td></tr><tr><td>Alan Hwang</td><td>6</td></tr><tr><td>Barbara Fisher</td><td>6</td></tr><tr><td>Scott Cohen</td><td>6</td></tr><tr><td>Andrew Allen</td><td>7</td></tr><tr><td>Bill Donatelli</td><td>6</td></tr><tr><td>Peter Bühler</td><td>5</td></tr><tr><td>Dianna Arnett</td><td>6</td></tr><tr><td>Stefanie Holloman</td><td>5</td></tr><tr><td>Tony Chapman</td><td>7</td></tr><tr><td>Craig Leslie</td><td>6</td></tr><tr><td>Maureen Gastineau</td><td>6</td></tr><tr><td>Chad Sievert</td><td>7</td></tr><tr><td>Greg Maxwell</td><td>6</td></tr><tr><td>Ruben Dartt</td><td>6</td></tr><tr><td>Joni Blumstein</td><td>6</td></tr><tr><td>Thomas Brumley</td><td>6</td></tr><tr><td>Sarah Brown</td><td>6</td></tr><tr><td>Sean Wendt</td><td>6</td></tr><tr><td>Dorothy Wardle</td><td>6</td></tr><tr><td>Dave Hallsten</td><td>6</td></tr><tr><td>Matt Collister</td><td>6</td></tr><tr><td>Don Miller</td><td>7</td></tr><tr><td>Georgia Rosenberg</td><td>6</td></tr><tr><td>Adam Shillingsburg</td><td>5</td></tr><tr><td>Roy Phan</td><td>6</td></tr><tr><td>MaryBeth Skach</td><td>6</td></tr><tr><td>Lisa Ryan</td><td>6</td></tr><tr><td>Valerie Takahito</td><td>6</td></tr><tr><td>Bryan Spruell</td><td>6</td></tr><tr><td>Dennis Kane</td><td>7</td></tr><tr><td>Katherine Nockton</td><td>6</td></tr><tr><td>Sheri Gordon</td><td>6</td></tr><tr><td>Mitch Webber</td><td>6</td></tr><tr><td>Liz Willingham</td><td>6</td></tr><tr><td>John Lee</td><td>6</td></tr><tr><td>Dan Campbell</td><td>7</td></tr><tr><td>Karen Bern</td><td>6</td></tr><tr><td>Emily Grady</td><td>6</td></tr><tr><td>Lynn Smith</td><td>6</td></tr><tr><td>John Murray</td><td>7</td></tr><tr><td>Don Jones</td><td>7</td></tr><tr><td>Alan Shonely</td><td>6</td></tr><tr><td>Julia Barnett</td><td>6</td></tr><tr><td>Cari Schnelling</td><td>6</td></tr><tr><td>Harold Pawlan</td><td>6</td></tr><tr><td>Shirley Daniels</td><td>6</td></tr><tr><td>Candace McMahon</td><td>6</td></tr><tr><td>Henry MacAllister</td><td>6</td></tr><tr><td>Allen Goldenen</td><td>6</td></tr><tr><td>Victor Preis</td><td>6</td></tr><tr><td>Lela Donovan</td><td>6</td></tr><tr><td>Bradley Talbott</td><td>7</td></tr><tr><td>Mike Kennedy</td><td>7</td></tr><tr><td>Anthony Garverick</td><td>6</td></tr><tr><td>Linda Cazamias</td><td>6</td></tr><tr><td>Thais Sissman</td><td>7</td></tr><tr><td>Maribeth Yedwab</td><td>6</td></tr><tr><td>Ivan Liston</td><td>6</td></tr><tr><td>Sonia Cooley</td><td>5</td></tr><tr><td>Art Ferguson</td><td>7</td></tr><tr><td>Dan Lawera</td><td>7</td></tr><tr><td>Suzanne McNair</td><td>6</td></tr><tr><td>Hunter Lopez</td><td>6</td></tr><tr><td>Darrin Martin</td><td>6</td></tr><tr><td>Paul Knutson</td><td>5</td></tr><tr><td>Maria Etezadi</td><td>6</td></tr><tr><td>Keith Dawkins</td><td>6</td></tr><tr><td>Sean Christensen</td><td>6</td></tr><tr><td>Kristen Hastings</td><td>7</td></tr><tr><td>Darren Budd</td><td>5</td></tr><tr><td>Alan Schoenberger</td><td>7</td></tr><tr><td>Kunst Miller</td><td>5</td></tr><tr><td>Sam Zeldin</td><td>6</td></tr><tr><td>Jay Kimmel</td><td>6</td></tr><tr><td>Katrina Edelman</td><td>6</td></tr><tr><td>Paul Stevenson</td><td>6</td></tr><tr><td>Sanjit Engle</td><td>6</td></tr><tr><td>Corey Roper</td><td>7</td></tr><tr><td>Julia Dunbar</td><td>6</td></tr><tr><td>Nathan Cano</td><td>6</td></tr><tr><td>Justin Ritter</td><td>7</td></tr><tr><td>Barry Pond</td><td>6</td></tr><tr><td>Skye Norling</td><td>7</td></tr><tr><td>Ionia McGrath</td><td>6</td></tr><tr><td>Greg Guthrie</td><td>6</td></tr><tr><td>Dario Medina</td><td>7</td></tr><tr><td>John Grady</td><td>6</td></tr><tr><td>Nora Preis</td><td>6</td></tr><tr><td>Stefania Perrino</td><td>6</td></tr><tr><td>Sanjit Chand</td><td>6</td></tr><tr><td>Catherine Glotzbach</td><td>6</td></tr><tr><td>Anthony O'Donnell</td><td>7</td></tr><tr><td>Roland Fjeld</td><td>5</td></tr><tr><td>Mick Crebagga</td><td>5</td></tr><tr><td>Jeremy Farry</td><td>6</td></tr><tr><td>George Zrebassa</td><td>7</td></tr><tr><td>Roger Demir</td><td>6</td></tr><tr><td>Luke Weiss</td><td>7</td></tr><tr><td>Toby Swindell</td><td>7</td></tr><tr><td>Tony Molinari</td><td>6</td></tr><tr><td>Dianna Wilson</td><td>7</td></tr><tr><td>Brian Thompson</td><td>6</td></tr><tr><td>Logan Currie</td><td>7</td></tr><tr><td>Patricia Hirasaki</td><td>6</td></tr><tr><td>Eudokia Martin</td><td>7</td></tr><tr><td>Gary McGarr</td><td>6</td></tr><tr><td>Steve Carroll</td><td>6</td></tr><tr><td>Jenna Caffey</td><td>6</td></tr><tr><td>Carlos Daly</td><td>6</td></tr><tr><td>Lena Cacioppo</td><td>6</td></tr><tr><td>Beth Paige</td><td>6</td></tr><tr><td>Roland Murray</td><td>6</td></tr><tr><td>Tom Zandusky</td><td>6</td></tr><tr><td>Sylvia Foulston</td><td>6</td></tr><tr><td>Toby Braunhardt</td><td>7</td></tr><tr><td>Doug O'Connell</td><td>7</td></tr><tr><td>Patrick Gardner</td><td>6</td></tr><tr><td>Annie Zypern</td><td>7</td></tr><tr><td>Nick Radford</td><td>6</td></tr><tr><td>Dianna Vittorini</td><td>6</td></tr><tr><td>Neil Knudson</td><td>5</td></tr><tr><td>Sara Luxemburg</td><td>7</td></tr><tr><td>Yoseph Carroll</td><td>6</td></tr><tr><td>Tracy Collins</td><td>6</td></tr><tr><td>Benjamin Patterson</td><td>6</td></tr><tr><td>Thomas Seio</td><td>6</td></tr><tr><td>Philisse Overcash</td><td>7</td></tr><tr><td>Brian Stugart</td><td>6</td></tr><tr><td>Noel Staavos</td><td>6</td></tr><tr><td>Mark Cousins</td><td>6</td></tr><tr><td>Ed Braxton</td><td>6</td></tr><tr><td>Alejandro Savely</td><td>6</td></tr><tr><td>Alice McCarthy</td><td>6</td></tr><tr><td>Benjamin Venier</td><td>5</td></tr><tr><td>Sally Hughsby</td><td>6</td></tr><tr><td>Vicky Freymann</td><td>6</td></tr><tr><td>Carol Adams</td><td>6</td></tr><tr><td>Berenike Kampe</td><td>6</td></tr><tr><td>Chris McAfee</td><td>6</td></tr><tr><td>Arthur Wiediger</td><td>6</td></tr><tr><td>Christine Kargatis</td><td>6</td></tr><tr><td>Dorothy Dickinson</td><td>6</td></tr><tr><td>Erin Creighton</td><td>6</td></tr><tr><td>Sarah Bern</td><td>6</td></tr><tr><td>Marina Lichtenstein</td><td>6</td></tr><tr><td>Helen Wasserman</td><td>6</td></tr><tr><td>Darren Powers</td><td>7</td></tr><tr><td>Chuck Clark</td><td>6</td></tr><tr><td>Liz MacKendrick</td><td>6</td></tr><tr><td>Michael Stewart</td><td>6</td></tr><tr><td>Joy Bell-</td><td>6</td></tr><tr><td>Adam Hart</td><td>7</td></tr><tr><td>Tom Prescott</td><td>6</td></tr><tr><td>Brenda Bowman</td><td>6</td></tr><tr><td>Laurel Beltran</td><td>6</td></tr><tr><td>Mick Brown</td><td>6</td></tr><tr><td>Christy Brittain</td><td>6</td></tr><tr><td>Maxwell Schwartz</td><td>6</td></tr><tr><td>Jill Matthias</td><td>6</td></tr><tr><td>Alan Dominguez</td><td>6</td></tr><tr><td>John Castell</td><td>6</td></tr><tr><td>Corey Catlett</td><td>5</td></tr><tr><td>Resi Pölking</td><td>6</td></tr><tr><td>Michael Nguyen</td><td>6</td></tr><tr><td>Alex Grayson</td><td>6</td></tr><tr><td>Susan Vittorini</td><td>6</td></tr><tr><td>Neola Schneider</td><td>6</td></tr><tr><td>Ross DeVincentis</td><td>6</td></tr><tr><td>Dean Braden</td><td>6</td></tr></tbody></table></div>"
      ]
     },
     "metadata": {
      "application/vnd.databricks.v1+output": {
       "addedWidgets": {},
       "aggData": [],
       "aggError": "",
       "aggOverflow": false,
       "aggSchema": [],
       "aggSeriesLimitReached": false,
       "aggType": "",
       "arguments": {},
       "columnCustomDisplayInfos": {},
       "data": [
        [
         "Jim Mitchum",
         7
        ],
        [
         "Jesus Ocampo",
         6
        ],
        [
         "Patrick O'Brill",
         6
        ],
        [
         "Ted Butterfield",
         6
        ],
        [
         "Parhena Norris",
         6
        ],
        [
         "Michelle Ellison",
         5
        ],
        [
         "Joseph Holt",
         6
        ],
        [
         "Ben Peterman",
         6
        ],
        [
         "Denny Joy",
         6
        ],
        [
         "Hilary Holden",
         6
        ],
        [
         "Ruben Ausman",
         7
        ],
        [
         "Bill Overfelt",
         6
        ],
        [
         "Carl Weiss",
         6
        ],
        [
         "Brooke Gillingham",
         6
        ],
        [
         "Craig Yedwab",
         6
        ],
        [
         "Michael Kennedy",
         7
        ],
        [
         "Patrick Jones",
         6
        ],
        [
         "Darren Koutras",
         5
        ],
        [
         "Roland Schwarz",
         6
        ],
        [
         "Sally Matthias",
         6
        ],
        [
         "Aaron Hawkins",
         6
        ],
        [
         "Randy Bradley",
         6
        ],
        [
         "Anne Pryor",
         6
        ],
        [
         "Jessica Myrick",
         6
        ],
        [
         "Rob Lucas",
         6
        ],
        [
         "Denny Ordway",
         6
        ],
        [
         "Denny Blanton",
         5
        ],
        [
         "Maria Bertelson",
         6
        ],
        [
         "Craig Carroll",
         6
        ],
        [
         "Barry Franz",
         6
        ],
        [
         "Mark Hamilton",
         6
        ],
        [
         "Ann Steele",
         6
        ],
        [
         "Bobby Trafton",
         6
        ],
        [
         "Shirley Schmidt",
         6
        ],
        [
         "Jasper Cacioppo",
         6
        ],
        [
         "Nick Zandusky",
         5
        ],
        [
         "Matt Abelman",
         6
        ],
        [
         "Ben Wallace",
         6
        ],
        [
         "Valerie Dominguez",
         6
        ],
        [
         "Stewart Carmichael",
         7
        ],
        [
         "Pierre Wener",
         6
        ],
        [
         "Denise Monton",
         6
        ],
        [
         "Hunter Glantz",
         6
        ],
        [
         "Anthony Witt",
         5
        ],
        [
         "Victoria Brennan",
         6
        ],
        [
         "Lindsay Shagiari",
         7
        ],
        [
         "Steven Ward",
         7
        ],
        [
         "Brendan Sweed",
         6
        ],
        [
         "Carol Triggs",
         5
        ],
        [
         "Alan Barnes",
         7
        ],
        [
         "Phillina Ober",
         7
        ],
        [
         "Michael Chen",
         6
        ],
        [
         "Odella Nelson",
         6
        ],
        [
         "Thomas Boland",
         6
        ],
        [
         "Gene McClure",
         6
        ],
        [
         "Ted Trevino",
         5
        ],
        [
         "Sean Miller",
         6
        ],
        [
         "Katrina Willman",
         5
        ],
        [
         "Claire Gute",
         6
        ],
        [
         "Vivian Mathis",
         6
        ],
        [
         "Beth Thompson",
         6
        ],
        [
         "Anna Gayman",
         6
        ],
        [
         "Filia McAdams",
         6
        ],
        [
         "Mick Hernandez",
         6
        ],
        [
         "Giulietta Dortch",
         6
        ],
        [
         "Anthony Rawles",
         6
        ],
        [
         "Sample Company A",
         6
        ],
        [
         "Bryan Davis",
         6
        ],
        [
         "Stewart Visinsky",
         6
        ],
        [
         "Brendan Murry",
         6
        ],
        [
         "Karen Carlisle",
         6
        ],
        [
         "Joel Jenkins",
         6
        ],
        [
         "Charles Crestani",
         6
        ],
        [
         "Jim Epp",
         6
        ],
        [
         "Seth Vernon",
         6
        ],
        [
         "Allen Armold",
         7
        ],
        [
         "Tamara Willingham",
         6
        ],
        [
         "Michelle Tran",
         6
        ],
        [
         "Dan Reichenbach",
         6
        ],
        [
         "Victoria Wilson",
         6
        ],
        [
         "Charles McCrossin",
         6
        ],
        [
         "Chuck Sachs",
         6
        ],
        [
         "Alyssa Crouse",
         6
        ],
        [
         "Paul Van Hugh",
         6
        ],
        [
         "Delfina Latchford",
         6
        ],
        [
         "Evan Henry",
         6
        ],
        [
         "Brad Thomas",
         6
        ],
        [
         "Mike Pelletier",
         6
        ],
        [
         "Neil Französisch",
         7
        ],
        [
         "Fred Wasserman",
         6
        ],
        [
         "Stephanie Phelps",
         6
        ],
        [
         "Anthony Johnson",
         6
        ],
        [
         "Stuart Van",
         7
        ],
        [
         "Anemone Ratner",
         6
        ],
        [
         "Lena Creighton",
         7
        ],
        [
         "Harold Engle",
         6
        ],
        [
         "Neil Ducich",
         7
        ],
        [
         "Rick Reed",
         6
        ],
        [
         "Shui Tom",
         6
        ],
        [
         "Dave Kipp",
         6
        ],
        [
         "Peter Fuller",
         7
        ],
        [
         "Maureen Gnade",
         6
        ],
        [
         "Harry Greene",
         6
        ],
        [
         "Monica Federle",
         6
        ],
        [
         "Chad Cunningham",
         6
        ],
        [
         "Liz Thompson",
         6
        ],
        [
         "George Ashbrook",
         6
        ],
        [
         "Mark Haberlin",
         7
        ],
        [
         "David Philippe",
         6
        ],
        [
         "Muhammed MacIntyre",
         6
        ],
        [
         "Christine Abelman",
         6
        ],
        [
         "Mark Van Huff",
         6
        ],
        [
         "Christina DeMoss",
         6
        ],
        [
         "Joseph Airdo",
         6
        ],
        [
         "Duane Benoit",
         6
        ],
        [
         "Barry Weirich",
         6
        ],
        [
         "Kimberly Carter",
         6
        ],
        [
         "Robert Barroso",
         6
        ],
        [
         "Doug Jacobs",
         6
        ],
        [
         "Bart Pistole",
         6
        ],
        [
         "Sean O'Donnell",
         6
        ],
        [
         "Pauline Johnson",
         6
        ],
        [
         "Jay Fein",
         6
        ],
        [
         "Karen Daniels",
         5
        ],
        [
         "Jas O'Carroll",
         5
        ],
        [
         "Christina VanderZanden",
         6
        ],
        [
         "Doug Bickford",
         6
        ],
        [
         "Tiffany House",
         6
        ],
        [
         "Frank Atkinson",
         6
        ],
        [
         "Xylona Preis",
         6
        ],
        [
         "Giulietta Weimer",
         6
        ],
        [
         "Sandra Glassco",
         7
        ],
        [
         "Jim Radford",
         6
        ],
        [
         "Arianne Irving",
         6
        ],
        [
         "Clay Rozendal",
         6
        ],
        [
         "Janet Molinari",
         6
        ],
        [
         "Mary Zewe",
         7
        ],
        [
         "Frank Gastineau",
         7
        ],
        [
         "Becky Pak",
         7
        ],
        [
         "Marc Harrigan",
         5
        ],
        [
         "Barry Blumstein",
         6
        ],
        [
         "Alex Russell",
         6
        ],
        [
         "Amy Hunt",
         6
        ],
        [
         "Pauline Webber",
         6
        ],
        [
         "Jane Waco",
         6
        ],
        [
         "Jim Kriz",
         6
        ],
        [
         "Guy Armstrong",
         5
        ],
        [
         "Andrew Gjertsen",
         7
        ],
        [
         "Ann Chong",
         6
        ],
        [
         "Andrew Roberts",
         6
        ],
        [
         "Herbert Flentye",
         6
        ],
        [
         "Bradley Nguyen",
         6
        ],
        [
         "Lena Radford",
         6
        ],
        [
         "Kean Thornton",
         6
        ],
        [
         "Karen Ferguson",
         6
        ],
        [
         "Frank Olsen",
         6
        ],
        [
         "Dana Kaydos",
         6
        ],
        [
         "Helen Andreada",
         6
        ],
        [
         "Tracy Blumstein",
         6
        ],
        [
         "Richard Bierner",
         6
        ],
        [
         "Anna Häberlin",
         6
        ],
        [
         "Aaron Smayling",
         6
        ],
        [
         "Karen Seio",
         6
        ],
        [
         "Speros Goranitis",
         6
        ],
        [
         "Erin Mull",
         7
        ],
        [
         "Rob Haberlin",
         7
        ],
        [
         "Giulietta Baptist",
         6
        ],
        [
         "Shaun Weien",
         6
        ],
        [
         "Bart Folk",
         7
        ],
        [
         "Christina Anderson",
         6
        ],
        [
         "Shahid Hopkins",
         7
        ],
        [
         "Paul Lucas",
         6
        ],
        [
         "Philip Brown",
         6
        ],
        [
         "Peter McVee",
         6
        ],
        [
         "Susan Pistek",
         6
        ],
        [
         "Barry Französisch",
         6
        ],
        [
         "Ryan Akin",
         6
        ],
        [
         "Sue Ann Reed",
         7
        ],
        [
         "Harry Marie",
         6
        ],
        [
         "Dean percer",
         7
        ],
        [
         "Dennis Bolton",
         5
        ],
        [
         "Adrian Shami",
         6
        ],
        [
         "Jim Karlsson",
         7
        ],
        [
         "Bobby Elias",
         6
        ],
        [
         "Gary Hwang",
         7
        ],
        [
         "Eugene Hildebrand",
         6
        ],
        [
         "Naresj Patel",
         7
        ],
        [
         "Ryan Crowe",
         6
        ],
        [
         "Mike Caudle",
         6
        ],
        [
         "Logan Haushalter",
         7
        ],
        [
         "Christopher Conant",
         6
        ],
        [
         "Andy Reiter",
         6
        ],
        [
         "Todd Sumrall",
         6
        ],
        [
         "Denise Leinenbach",
         7
        ],
        [
         "Chuck Magee",
         6
        ],
        [
         "Troy Staebel",
         6
        ],
        [
         "Frank Merwin",
         6
        ],
        [
         "Ralph Kennedy",
         6
        ],
        [
         "Larry Blacks",
         7
        ],
        [
         "Jennifer Halladay",
         7
        ],
        [
         "Thea Hudgings",
         7
        ],
        [
         "Justin Ellison",
         6
        ],
        [
         "Lisa Hazard",
         6
        ],
        [
         "Max Ludwig",
         7
        ],
        [
         "James Lanier",
         6
        ],
        [
         "Tonja Turnell",
         6
        ],
        [
         "Heather Kirkland",
         7
        ],
        [
         "Matt Connell",
         6
        ],
        [
         "Craig Molinari",
         6
        ],
        [
         "Ken Lonsdale",
         6
        ],
        [
         "Michelle Huthwaite",
         7
        ],
        [
         "Yana Sorensen",
         6
        ],
        [
         "Alyssa Tate",
         6
        ],
        [
         "Lycoris Saunders",
         6
        ],
        [
         "Erica Bern",
         6
        ],
        [
         "Michael Moore",
         6
        ],
        [
         "Maureen Fritzler",
         6
        ],
        [
         "Sung Pak",
         5
        ],
        [
         "Dave Poirier",
         6
        ],
        [
         "Stuart Calhoun",
         6
        ],
        [
         "Lindsay Williams",
         6
        ],
        [
         "Luke Foster",
         6
        ],
        [
         "Bart Watters",
         7
        ],
        [
         "Dave Brooks",
         6
        ],
        [
         "Lena Hernandez",
         6
        ],
        [
         "Ed Jacobs",
         6
        ],
        [
         "William Brown",
         6
        ],
        [
         "Dean Katz",
         6
        ],
        [
         "Bradley Drucker",
         5
        ],
        [
         "Scot Coram",
         6
        ],
        [
         "Maurice Satty",
         6
        ],
        [
         "Cathy Hwang",
         6
        ],
        [
         "Muhammed Lee",
         6
        ],
        [
         "Chloris Kastensmidt",
         6
        ],
        [
         "Andy Gerbode",
         6
        ],
        [
         "Ann Blume",
         6
        ],
        [
         "David Smith",
         6
        ],
        [
         "Rick Wilson",
         6
        ],
        [
         "Jack Lebron",
         7
        ],
        [
         "Cynthia Voltz",
         6
        ],
        [
         "Henia Zydlo",
         6
        ],
        [
         "Meg Tillman",
         6
        ],
        [
         "Don Weiss",
         7
        ],
        [
         "Karl Braun",
         6
        ],
        [
         "Matthew Grinstein",
         5
        ],
        [
         "Tim Brockman",
         6
        ],
        [
         "Laurel Workman",
         6
        ],
        [
         "Annie Thurman",
         6
        ],
        [
         "Steve Nguyen",
         6
        ],
        [
         "Astrea Jones",
         6
        ],
        [
         "Deirdre Greer",
         6
        ],
        [
         "Daniel Lacy",
         6
        ],
        [
         "Rachel Payne",
         6
        ],
        [
         "Troy Blackwell",
         6
        ],
        [
         "Ritsa Hightower",
         6
        ],
        [
         "Robert Marley",
         7
        ],
        [
         "Justin Deggeller",
         6
        ],
        [
         "Pete Armstrong",
         6
        ],
        [
         "Michael Grace",
         5
        ],
        [
         "Roger Barcio",
         7
        ],
        [
         "Roy Skaria",
         6
        ],
        [
         "Mike Gockenbach",
         6
        ],
        [
         "Adrian Hane",
         6
        ],
        [
         "Cindy Stewart",
         6
        ],
        [
         "Ken Brennan",
         7
        ],
        [
         "Julie Kriz",
         7
        ],
        [
         "Jamie Frazer",
         6
        ],
        [
         "Clay Ludtke",
         6
        ],
        [
         "Maris LaWare",
         5
        ],
        [
         "Evan Minnotte",
         6
        ],
        [
         "Brendan Dodson",
         6
        ],
        [
         "Cyma Kinney",
         6
        ],
        [
         "Eva Jacobs",
         6
        ],
        [
         "Ashley Jarboe",
         6
        ],
        [
         "Sally Knutson",
         6
        ],
        [
         "Nicole Hansen",
         7
        ],
        [
         "Craig Carreira",
         6
        ],
        [
         "Ben Ferrer",
         6
        ],
        [
         "Jeremy Lonsdale",
         6
        ],
        [
         "Ken Black",
         5
        ],
        [
         "Sam Craven",
         6
        ],
        [
         "Pauline Chand",
         6
        ],
        [
         "Penelope Sewall",
         6
        ],
        [
         "Russell D'Ascenzo",
         6
        ],
        [
         "Charles Sheldon",
         6
        ],
        [
         "Nancy Lomonaco",
         6
        ],
        [
         "Carlos Meador",
         6
        ],
        [
         "Susan Gilcrest",
         6
        ],
        [
         "Gary Zandusky",
         7
        ],
        [
         "Nicole Fjeld",
         6
        ],
        [
         "Katrina Bavinger",
         5
        ],
        [
         "Damala Kotsonis",
         6
        ],
        [
         "Christine Sundaresam",
         6
        ],
        [
         "Tamara Chand",
         6
        ],
        [
         "Harold Ryan",
         6
        ],
        [
         "Ricardo Sperren",
         7
        ],
        [
         "Alejandro Ballentine",
         7
        ],
        [
         "James Galang",
         6
        ],
        [
         "Erin Smith",
         6
        ],
        [
         "Becky Castell",
         6
        ],
        [
         "Joni Wasserman",
         6
        ],
        [
         "Adam Bellavance",
         6
        ],
        [
         "Steven Roelle",
         6
        ],
        [
         "Carlos Soltero",
         7
        ],
        [
         "Lori Olson",
         6
        ],
        [
         "Jeremy Pistek",
         7
        ],
        [
         "Anna Andreadi",
         6
        ],
        [
         "Kean Takahito",
         7
        ],
        [
         "Carl Ludwig",
         7
        ],
        [
         "Linda Southworth",
         7
        ],
        [
         "Maria Zettner",
         6
        ],
        [
         "Brad Norvell",
         6
        ],
        [
         "Trudy Schmidt",
         6
        ],
        [
         "Benjamin Farhat",
         5
        ],
        [
         "Aaron Bergman",
         6
        ],
        [
         "Angele Hood",
         6
        ],
        [
         "Pete Takahito",
         6
        ],
        [
         "Trudy Brown",
         6
        ],
        [
         "Toby Carlisle",
         7
        ],
        [
         "Patrick Ryan",
         7
        ],
        [
         "John Stevenson",
         6
        ],
        [
         "Debra Catini",
         6
        ],
        [
         "Roy Collins",
         5
        ],
        [
         "Jocasta Rupert",
         6
        ],
        [
         "Michael Oakman",
         6
        ],
        [
         "Rick Huthwaite",
         6
        ],
        [
         "Vivek Gonzalez",
         6
        ],
        [
         "Irene Maddox",
         6
        ],
        [
         "Corey-Lock",
         6
        ],
        [
         "Keith Herrera",
         6
        ],
        [
         "Art Foster",
         6
        ],
        [
         "Noah Childs",
         6
        ],
        [
         "Eugene Moren",
         6
        ],
        [
         "Luke Schmidt",
         5
        ],
        [
         "Thomas Thornton",
         6
        ],
        [
         "Matt Hagelstein",
         7
        ],
        [
         "Laurel Elliston",
         5
        ],
        [
         "Arthur Prichep",
         6
        ],
        [
         "Greg Matthias",
         6
        ],
        [
         "Rick Hansen",
         6
        ],
        [
         "David Kendrick",
         6
        ],
        [
         "Phillip Breyer",
         6
        ],
        [
         "Nora Paige",
         6
        ],
        [
         "Edward Hooks",
         6
        ],
        [
         "Pamela Coakley",
         6
        ],
        [
         "Guy Phonely",
         6
        ],
        [
         "Nathan Gelder",
         7
        ],
        [
         "Lisa DeCherney",
         7
        ],
        [
         "Ralph Arnett",
         7
        ],
        [
         "Steven Cartwright",
         6
        ],
        [
         "Bruce Degenhardt",
         6
        ],
        [
         "Ellis Ballard",
         7
        ],
        [
         "Cynthia Delaney",
         6
        ],
        [
         "Randy Ferguson",
         7
        ],
        [
         "Arthur Gainer",
         5
        ],
        [
         "Maya Herman",
         6
        ],
        [
         "Erin Ashbrook",
         5
        ],
        [
         "Rob Williams",
         6
        ],
        [
         "Eileen Kiefer",
         6
        ],
        [
         "Michelle Arnett",
         7
        ],
        [
         "Tom Stivers",
         6
        ],
        [
         "Maribeth Dona",
         7
        ],
        [
         "Daniel Byrd",
         7
        ],
        [
         "Henry Goldwyn",
         7
        ],
        [
         "Nora Pelletier",
         6
        ],
        [
         "Cindy Schnelling",
         6
        ],
        [
         "Frank Preis",
         6
        ],
        [
         "Nona Balk",
         6
        ],
        [
         "Jennifer Ferguson",
         6
        ],
        [
         "Jill Fjeld",
         6
        ],
        [
         "Patrick O'Donnell",
         7
        ],
        [
         "Sung Shariari",
         6
        ],
        [
         "Eugene Barchas",
         6
        ],
        [
         "David Bremer",
         6
        ],
        [
         "Joe Kamberova",
         6
        ],
        [
         "Chris Selesnick",
         6
        ],
        [
         "Carol Darley",
         7
        ],
        [
         "Ross Baird",
         6
        ],
        [
         "Toby Gnade",
         7
        ],
        [
         "Kelly Collister",
         6
        ],
        [
         "Chad McGuire",
         6
        ],
        [
         "Edward Nazzal",
         6
        ],
        [
         "David Wiener",
         6
        ],
        [
         "Theresa Coyne",
         6
        ],
        [
         "Becky Martin",
         6
        ],
        [
         "Paul Prost",
         6
        ],
        [
         "Nick Crebassa",
         6
        ],
        [
         "Bruce Geld",
         6
        ],
        [
         "Julie Prescott",
         6
        ],
        [
         "Laura Armstrong",
         6
        ],
        [
         "Craig Reiter",
         6
        ],
        [
         "Bruce Stewart",
         6
        ],
        [
         "Mary O'Rourke",
         6
        ],
        [
         "Larry Hughes",
         6
        ],
        [
         "Rick Bensley",
         6
        ],
        [
         "Sarah Foster",
         6
        ],
        [
         "David Flashing",
         6
        ],
        [
         "Kelly Lampkin",
         6
        ],
        [
         "Cari Sayre",
         6
        ],
        [
         "Julie Creighton",
         6
        ],
        [
         "Alex Avila",
         6
        ],
        [
         "Corinna Mitchell",
         6
        ],
        [
         "Katherine Hughes",
         6
        ],
        [
         "Natalie DeCherney",
         6
        ],
        [
         "Ken Dana",
         5
        ],
        [
         "Christopher Martinez",
         6
        ],
        [
         "Liz Preis",
         7
        ],
        [
         "Pamela Stobb",
         6
        ],
        [
         "Brad Eason",
         6
        ],
        [
         "Cynthia Arntzen",
         6
        ],
        [
         "Jonathan Howell",
         7
        ],
        [
         "Dennis Pardue",
         7
        ],
        [
         "Emily Phan",
         6
        ],
        [
         "Caroline Jumper",
         6
        ],
        [
         "Andy Yotov",
         6
        ],
        [
         "Elpida Rittenbach",
         6
        ],
        [
         "Michael Granlund",
         5
        ],
        [
         "Bill Stewart",
         6
        ],
        [
         "Ken Heidel",
         6
        ],
        [
         "Ivan Gibson",
         6
        ],
        [
         "Jason Gross",
         5
        ],
        [
         "Michelle Lonsdale",
         7
        ],
        [
         "Ed Ludwig",
         6
        ],
        [
         "Matthew Clasen",
         6
        ],
        [
         "Helen Abelman",
         6
        ],
        [
         "Bobby Odegard",
         6
        ],
        [
         "Deanra Eno",
         6
        ],
        [
         "Shaun Chance",
         6
        ],
        [
         "Alan Haines",
         7
        ],
        [
         "Liz Pelletier",
         6
        ],
        [
         "John Huston",
         6
        ],
        [
         "Natalie Webber",
         7
        ],
        [
         "Kelly Andreada",
         6
        ],
        [
         "Carl Jackson",
         6
        ],
        [
         "Janet Martin",
         6
        ],
        [
         "Clytie Kelty",
         6
        ],
        [
         "Magdelene Morse",
         7
        ],
        [
         "Brian Moss",
         7
        ],
        [
         "Katherine Ducich",
         6
        ],
        [
         "Joel Eaton",
         6
        ],
        [
         "Kalyca Meade",
         6
        ],
        [
         "Sandra Flanagan",
         6
        ],
        [
         "Matt Collins",
         6
        ],
        [
         "Tracy Zic",
         6
        ],
        [
         "Nat Carroll",
         7
        ],
        [
         "Valerie Mitchum",
         6
        ],
        [
         "Marc Crier",
         6
        ],
        [
         "Phillip Flathmann",
         6
        ],
        [
         "Fred Harton",
         6
        ],
        [
         "Maribeth Schnelling",
         6
        ],
        [
         "Frank Carlisle",
         6
        ],
        [
         "Gene Hale",
         6
        ],
        [
         "Sharelle Roach",
         7
        ],
        [
         "Katherine Murray",
         7
        ],
        [
         "Kristina Nunn",
         6
        ],
        [
         "Shahid Shariari",
         7
        ],
        [
         "Eric Murdock",
         7
        ],
        [
         "Edward Becker",
         6
        ],
        [
         "Greg Tran",
         6
        ],
        [
         "Janet Lee",
         6
        ],
        [
         "Gary Hansen",
         6
        ],
        [
         "Charlotte Melton",
         6
        ],
        [
         "Evan Bailliet",
         6
        ],
        [
         "Paul MacIntyre",
         6
        ],
        [
         "Theone Pippenger",
         6
        ],
        [
         "Jack Garza",
         6
        ],
        [
         "Cathy Prescott",
         7
        ],
        [
         "Thea Hendricks",
         6
        ],
        [
         "George Bell",
         7
        ],
        [
         "Saphhira Shifley",
         7
        ],
        [
         "Tim Taslimi",
         6
        ],
        [
         "Dorris liebe",
         6
        ],
        [
         "Alejandro Grove",
         7
        ],
        [
         "Fred Hopkins",
         6
        ],
        [
         "Zuschuss Donatelli",
         6
        ],
        [
         "Justin MacKendrick",
         6
        ],
        [
         "Michael Dominguez",
         5
        ],
        [
         "Daniel Raglin",
         6
        ],
        [
         "Jim Sink",
         6
        ],
        [
         "Aleksandra Gannaway",
         6
        ],
        [
         "Erica Hackney",
         6
        ],
        [
         "Sean Braxton",
         5
        ],
        [
         "Susan MacKendrick",
         6
        ],
        [
         "Anna Chung",
         6
        ],
        [
         "Scot Wooten",
         6
        ],
        [
         "Tamara Dahlen",
         7
        ],
        [
         "Joe Elijah",
         6
        ],
        [
         "Khloe Miller",
         6
        ],
        [
         "Jason Fortune-",
         7
        ],
        [
         "Hallie Redmond",
         7
        ],
        [
         "Tony Sayre",
         6
        ],
        [
         "Brian Dahlen",
         6
        ],
        [
         "Duane Huffman",
         7
        ],
        [
         "Clay Cheatham",
         6
        ],
        [
         "Vivek Sundaresam",
         6
        ],
        [
         "Jennifer Jackson",
         6
        ],
        [
         "Roy Französisch",
         6
        ],
        [
         "Bill Shonely",
         6
        ],
        [
         "Scott Williamson",
         7
        ],
        [
         "Jamie Kunitz",
         6
        ],
        [
         "Rick Duston",
         7
        ],
        [
         "Meg O'Connel",
         6
        ],
        [
         "Heather Jas",
         6
        ],
        [
         "Guy Thornton",
         7
        ],
        [
         "Max Engle",
         7
        ],
        [
         "Todd Boyes",
         6
        ],
        [
         "Emily Burns",
         6
        ],
        [
         "Nicole Brennan",
         7
        ],
        [
         "Claudia Bergmann",
         6
        ],
        [
         "Mitch Willingham",
         6
        ],
        [
         "Raymond Messe",
         6
        ],
        [
         "Mathew Reese",
         6
        ],
        [
         "Jennifer Braxton",
         6
        ],
        [
         "Sung Chung",
         6
        ],
        [
         "Bryan Mills",
         6
        ],
        [
         "Sibella Parks",
         5
        ],
        [
         "Jonathan Doherty",
         7
        ],
        [
         "Larry Tron",
         7
        ],
        [
         "Darrin Van Huff",
         6
        ],
        [
         "Vivek Grady",
         6
        ],
        [
         "John Lucas",
         6
        ],
        [
         "Tracy Hopkins",
         7
        ],
        [
         "Raymond Buch",
         6
        ],
        [
         "Ralph Ritter",
         6
        ],
        [
         "Brian Derr",
         6
        ],
        [
         "Tamara Manning",
         6
        ],
        [
         "Adrian Barton",
         7
        ],
        [
         "Anne McFarland",
         7
        ],
        [
         "Cindy Chapman",
         7
        ],
        [
         "Nat Gilpin",
         7
        ],
        [
         "Mark Packer",
         5
        ],
        [
         "John Dryer",
         6
        ],
        [
         "Brosina Hoffman",
         6
        ],
        [
         "Anthony Jacobs",
         7
        ],
        [
         "Theresa Swint",
         6
        ],
        [
         "Stephanie Ulpright",
         6
        ],
        [
         "Sonia Sunley",
         6
        ],
        [
         "Joni Sundaresam",
         7
        ],
        [
         "Amy Cox",
         7
        ],
        [
         "Cassandra Brandow",
         5
        ],
        [
         "Grace Kelly",
         6
        ],
        [
         "Mitch Gastineau",
         7
        ],
        [
         "Nathan Mautz",
         7
        ],
        [
         "Fred Chung",
         6
        ],
        [
         "Dionis Lloyd",
         6
        ],
        [
         "Steve Chapman",
         6
        ],
        [
         "Rob Beeghly",
         6
        ],
        [
         "Lauren Leatherbury",
         6
        ],
        [
         "Robert Waldorf",
         6
        ],
        [
         "Grant Thornton",
         6
        ],
        [
         "Bill Eplett",
         6
        ],
        [
         "Julia West",
         6
        ],
        [
         "Bill Tyler",
         6
        ],
        [
         "Christine Phan",
         6
        ],
        [
         "Christopher Schild",
         6
        ],
        [
         "Eleni McCrary",
         6
        ],
        [
         "Mike Vittorini",
         6
        ],
        [
         "Frank Hawley",
         6
        ],
        [
         "Russell Applegate",
         6
        ],
        [
         "Brian DeCherney",
         6
        ],
        [
         "Michelle Moray",
         6
        ],
        [
         "Sarah Jordon",
         7
        ],
        [
         "Ricardo Emerson",
         6
        ],
        [
         "Paul Gonzalez",
         6
        ],
        [
         "Pete Kriz",
         6
        ],
        [
         "Kean Nguyen",
         6
        ],
        [
         "Philip Fox",
         6
        ],
        [
         "Justin Hirsh",
         7
        ],
        [
         "Richard Eichhorn",
         6
        ],
        [
         "Shahid Collister",
         6
        ],
        [
         "Beth Fritzler",
         6
        ],
        [
         "Jason Klamczynski",
         5
        ],
        [
         "Cathy Armstrong",
         6
        ],
        [
         "Cari MacIntyre",
         5
        ],
        [
         "Rob Dowd",
         6
        ],
        [
         "Eric Barreto",
         6
        ],
        [
         "Allen Rosenblatt",
         6
        ],
        [
         "Tom Ashbrook",
         6
        ],
        [
         "Eric Hoffmann",
         7
        ],
        [
         "Melanie Seite",
         6
        ],
        [
         "Sanjit Jacobs",
         7
        ],
        [
         "Trudy Glocke",
         7
        ],
        [
         "Robert Dilbeck",
         7
        ],
        [
         "Joy Smith",
         7
        ],
        [
         "Victoria Pisteka",
         6
        ],
        [
         "Rose O'Brian",
         6
        ],
        [
         "Kelly Williams",
         6
        ],
        [
         "Greg Hansen",
         7
        ],
        [
         "Max Jones",
         6
        ],
        [
         "Jeremy Ellison",
         6
        ],
        [
         "Cyra Reiten",
         6
        ],
        [
         "Chris Cortes",
         7
        ],
        [
         "Fred McMath",
         6
        ],
        [
         "Duane Noonan",
         7
        ],
        [
         "Jack O'Briant",
         6
        ],
        [
         "Tanja Norvell",
         5
        ],
        [
         "Darrin Sayre",
         6
        ],
        [
         "Michael Paige",
         6
        ],
        [
         "Deborah Brumfield",
         6
        ],
        [
         "Jennifer Patt",
         7
        ],
        [
         "Elizabeth Moffitt",
         7
        ],
        [
         "Katharine Harms",
         6
        ],
        [
         "Shirley Jackson",
         5
        ],
        [
         "Quincy Jones",
         6
        ],
        [
         "Aimee Bixby",
         5
        ],
        [
         "Natalie Fritzler",
         7
        ],
        [
         "Dorothy Badders",
         6
        ],
        [
         "Juliana Krohn",
         7
        ],
        [
         "Barry Gonzalez",
         5
        ],
        [
         "Liz Carlisle",
         6
        ],
        [
         "Jill Stevenson",
         7
        ],
        [
         "Erica Smith",
         7
        ],
        [
         "Erica Hernandez",
         6
        ],
        [
         "Lindsay Castell",
         6
        ],
        [
         "Gary Mitchum",
         6
        ],
        [
         "Toby Ritter",
         6
        ],
        [
         "Neoma Murray",
         5
        ],
        [
         "Tracy Poddar",
         6
        ],
        [
         "Olvera Toch",
         6
        ],
        [
         "Emily Ducich",
         7
        ],
        [
         "Joy Daniels",
         6
        ],
        [
         "Harold Dahlen",
         6
        ],
        [
         "Zuschuss Carroll",
         5
        ],
        [
         "Muhammed Yedwab",
         6
        ],
        [
         "Patrick Bzostek",
         7
        ],
        [
         "Tom Boeckenhauer",
         6
        ],
        [
         "Alan Hwang",
         6
        ],
        [
         "Barbara Fisher",
         6
        ],
        [
         "Scott Cohen",
         6
        ],
        [
         "Andrew Allen",
         7
        ],
        [
         "Bill Donatelli",
         6
        ],
        [
         "Peter Bühler",
         5
        ],
        [
         "Dianna Arnett",
         6
        ],
        [
         "Stefanie Holloman",
         5
        ],
        [
         "Tony Chapman",
         7
        ],
        [
         "Craig Leslie",
         6
        ],
        [
         "Maureen Gastineau",
         6
        ],
        [
         "Chad Sievert",
         7
        ],
        [
         "Greg Maxwell",
         6
        ],
        [
         "Ruben Dartt",
         6
        ],
        [
         "Joni Blumstein",
         6
        ],
        [
         "Thomas Brumley",
         6
        ],
        [
         "Sarah Brown",
         6
        ],
        [
         "Sean Wendt",
         6
        ],
        [
         "Dorothy Wardle",
         6
        ],
        [
         "Dave Hallsten",
         6
        ],
        [
         "Matt Collister",
         6
        ],
        [
         "Don Miller",
         7
        ],
        [
         "Georgia Rosenberg",
         6
        ],
        [
         "Adam Shillingsburg",
         5
        ],
        [
         "Roy Phan",
         6
        ],
        [
         "MaryBeth Skach",
         6
        ],
        [
         "Lisa Ryan",
         6
        ],
        [
         "Valerie Takahito",
         6
        ],
        [
         "Bryan Spruell",
         6
        ],
        [
         "Dennis Kane",
         7
        ],
        [
         "Katherine Nockton",
         6
        ],
        [
         "Sheri Gordon",
         6
        ],
        [
         "Mitch Webber",
         6
        ],
        [
         "Liz Willingham",
         6
        ],
        [
         "John Lee",
         6
        ],
        [
         "Dan Campbell",
         7
        ],
        [
         "Karen Bern",
         6
        ],
        [
         "Emily Grady",
         6
        ],
        [
         "Lynn Smith",
         6
        ],
        [
         "John Murray",
         7
        ],
        [
         "Don Jones",
         7
        ],
        [
         "Alan Shonely",
         6
        ],
        [
         "Julia Barnett",
         6
        ],
        [
         "Cari Schnelling",
         6
        ],
        [
         "Harold Pawlan",
         6
        ],
        [
         "Shirley Daniels",
         6
        ],
        [
         "Candace McMahon",
         6
        ],
        [
         "Henry MacAllister",
         6
        ],
        [
         "Allen Goldenen",
         6
        ],
        [
         "Victor Preis",
         6
        ],
        [
         "Lela Donovan",
         6
        ],
        [
         "Bradley Talbott",
         7
        ],
        [
         "Mike Kennedy",
         7
        ],
        [
         "Anthony Garverick",
         6
        ],
        [
         "Linda Cazamias",
         6
        ],
        [
         "Thais Sissman",
         7
        ],
        [
         "Maribeth Yedwab",
         6
        ],
        [
         "Ivan Liston",
         6
        ],
        [
         "Sonia Cooley",
         5
        ],
        [
         "Art Ferguson",
         7
        ],
        [
         "Dan Lawera",
         7
        ],
        [
         "Suzanne McNair",
         6
        ],
        [
         "Hunter Lopez",
         6
        ],
        [
         "Darrin Martin",
         6
        ],
        [
         "Paul Knutson",
         5
        ],
        [
         "Maria Etezadi",
         6
        ],
        [
         "Keith Dawkins",
         6
        ],
        [
         "Sean Christensen",
         6
        ],
        [
         "Kristen Hastings",
         7
        ],
        [
         "Darren Budd",
         5
        ],
        [
         "Alan Schoenberger",
         7
        ],
        [
         "Kunst Miller",
         5
        ],
        [
         "Sam Zeldin",
         6
        ],
        [
         "Jay Kimmel",
         6
        ],
        [
         "Katrina Edelman",
         6
        ],
        [
         "Paul Stevenson",
         6
        ],
        [
         "Sanjit Engle",
         6
        ],
        [
         "Corey Roper",
         7
        ],
        [
         "Julia Dunbar",
         6
        ],
        [
         "Nathan Cano",
         6
        ],
        [
         "Justin Ritter",
         7
        ],
        [
         "Barry Pond",
         6
        ],
        [
         "Skye Norling",
         7
        ],
        [
         "Ionia McGrath",
         6
        ],
        [
         "Greg Guthrie",
         6
        ],
        [
         "Dario Medina",
         7
        ],
        [
         "John Grady",
         6
        ],
        [
         "Nora Preis",
         6
        ],
        [
         "Stefania Perrino",
         6
        ],
        [
         "Sanjit Chand",
         6
        ],
        [
         "Catherine Glotzbach",
         6
        ],
        [
         "Anthony O'Donnell",
         7
        ],
        [
         "Roland Fjeld",
         5
        ],
        [
         "Mick Crebagga",
         5
        ],
        [
         "Jeremy Farry",
         6
        ],
        [
         "George Zrebassa",
         7
        ],
        [
         "Roger Demir",
         6
        ],
        [
         "Luke Weiss",
         7
        ],
        [
         "Toby Swindell",
         7
        ],
        [
         "Tony Molinari",
         6
        ],
        [
         "Dianna Wilson",
         7
        ],
        [
         "Brian Thompson",
         6
        ],
        [
         "Logan Currie",
         7
        ],
        [
         "Patricia Hirasaki",
         6
        ],
        [
         "Eudokia Martin",
         7
        ],
        [
         "Gary McGarr",
         6
        ],
        [
         "Steve Carroll",
         6
        ],
        [
         "Jenna Caffey",
         6
        ],
        [
         "Carlos Daly",
         6
        ],
        [
         "Lena Cacioppo",
         6
        ],
        [
         "Beth Paige",
         6
        ],
        [
         "Roland Murray",
         6
        ],
        [
         "Tom Zandusky",
         6
        ],
        [
         "Sylvia Foulston",
         6
        ],
        [
         "Toby Braunhardt",
         7
        ],
        [
         "Doug O'Connell",
         7
        ],
        [
         "Patrick Gardner",
         6
        ],
        [
         "Annie Zypern",
         7
        ],
        [
         "Nick Radford",
         6
        ],
        [
         "Dianna Vittorini",
         6
        ],
        [
         "Neil Knudson",
         5
        ],
        [
         "Sara Luxemburg",
         7
        ],
        [
         "Yoseph Carroll",
         6
        ],
        [
         "Tracy Collins",
         6
        ],
        [
         "Benjamin Patterson",
         6
        ],
        [
         "Thomas Seio",
         6
        ],
        [
         "Philisse Overcash",
         7
        ],
        [
         "Brian Stugart",
         6
        ],
        [
         "Noel Staavos",
         6
        ],
        [
         "Mark Cousins",
         6
        ],
        [
         "Ed Braxton",
         6
        ],
        [
         "Alejandro Savely",
         6
        ],
        [
         "Alice McCarthy",
         6
        ],
        [
         "Benjamin Venier",
         5
        ],
        [
         "Sally Hughsby",
         6
        ],
        [
         "Vicky Freymann",
         6
        ],
        [
         "Carol Adams",
         6
        ],
        [
         "Berenike Kampe",
         6
        ],
        [
         "Chris McAfee",
         6
        ],
        [
         "Arthur Wiediger",
         6
        ],
        [
         "Christine Kargatis",
         6
        ],
        [
         "Dorothy Dickinson",
         6
        ],
        [
         "Erin Creighton",
         6
        ],
        [
         "Sarah Bern",
         6
        ],
        [
         "Marina Lichtenstein",
         6
        ],
        [
         "Helen Wasserman",
         6
        ],
        [
         "Darren Powers",
         7
        ],
        [
         "Chuck Clark",
         6
        ],
        [
         "Liz MacKendrick",
         6
        ],
        [
         "Michael Stewart",
         6
        ],
        [
         "Joy Bell-",
         6
        ],
        [
         "Adam Hart",
         7
        ],
        [
         "Tom Prescott",
         6
        ],
        [
         "Brenda Bowman",
         6
        ],
        [
         "Laurel Beltran",
         6
        ],
        [
         "Mick Brown",
         6
        ],
        [
         "Christy Brittain",
         6
        ],
        [
         "Maxwell Schwartz",
         6
        ],
        [
         "Jill Matthias",
         6
        ],
        [
         "Alan Dominguez",
         6
        ],
        [
         "John Castell",
         6
        ],
        [
         "Corey Catlett",
         5
        ],
        [
         "Resi Pölking",
         6
        ],
        [
         "Michael Nguyen",
         6
        ],
        [
         "Alex Grayson",
         6
        ],
        [
         "Susan Vittorini",
         6
        ],
        [
         "Neola Schneider",
         6
        ],
        [
         "Ross DeVincentis",
         6
        ],
        [
         "Dean Braden",
         6
        ]
       ],
       "datasetInfos": [],
       "dbfsResultPath": null,
       "isJsonSchema": true,
       "metadata": {},
       "overflow": false,
       "plotOptions": {
        "customPlotOptions": {},
        "displayType": "table",
        "pivotAggregation": null,
        "pivotColumns": null,
        "xColumns": null,
        "yColumns": null
       },
       "removedWidgets": [],
       "schema": [
        {
         "metadata": "{}",
         "name": "Customer_Name",
         "type": "\"string\""
        },
        {
         "metadata": "{}",
         "name": "count",
         "type": "\"long\""
        }
       ],
       "type": "table"
      }
     },
     "output_type": "display_data"
    },
    {
     "output_type": "display_data",
     "data": {
      "text/html": [
       "<style scoped>\n",
       "  .table-result-container {\n",
       "    max-height: 300px;\n",
       "    overflow: auto;\n",
       "  }\n",
       "  table, th, td {\n",
       "    border: 1px solid black;\n",
       "    border-collapse: collapse;\n",
       "  }\n",
       "  th, td {\n",
       "    padding: 5px;\n",
       "  }\n",
       "  th {\n",
       "    text-align: left;\n",
       "  }\n",
       "</style><div class='table-result-container'><table class='table-result'><thead style='background-color: white'><tr><th>Customer_Segment_ID</th><th>Customer_Name</th><th>count</th></tr></thead><tbody><tr><td>2</td><td>Eudokia Martin</td><td>7</td></tr><tr><td>3</td><td>Tom Ashbrook</td><td>6</td></tr><tr><td>3</td><td>Christopher Schild</td><td>6</td></tr><tr><td>2</td><td>Odella Nelson</td><td>6</td></tr><tr><td>1</td><td>Jim Karlsson</td><td>7</td></tr><tr><td>3</td><td>Kristina Nunn</td><td>6</td></tr><tr><td>1</td><td>Michelle Huthwaite</td><td>7</td></tr><tr><td>1</td><td>Nathan Cano</td><td>6</td></tr><tr><td>1</td><td>Denny Blanton</td><td>5</td></tr><tr><td>2</td><td>Benjamin Venier</td><td>5</td></tr><tr><td>2</td><td>Dorothy Wardle</td><td>6</td></tr><tr><td>1</td><td>Hunter Lopez</td><td>6</td></tr><tr><td>1</td><td>Tony Molinari</td><td>6</td></tr><tr><td>1</td><td>Anna Gayman</td><td>6</td></tr><tr><td>1</td><td>Carlos Soltero</td><td>7</td></tr><tr><td>2</td><td>Muhammed MacIntyre</td><td>6</td></tr><tr><td>2</td><td>Justin Deggeller</td><td>6</td></tr><tr><td>1</td><td>Maribeth Dona</td><td>7</td></tr><tr><td>1</td><td>William Brown</td><td>6</td></tr><tr><td>2</td><td>Hilary Holden</td><td>6</td></tr><tr><td>1</td><td>Darren Koutras</td><td>5</td></tr><tr><td>2</td><td>Brenda Bowman</td><td>6</td></tr><tr><td>1</td><td>Benjamin Patterson</td><td>6</td></tr><tr><td>1</td><td>John Lee</td><td>6</td></tr><tr><td>2</td><td>Dorris liebe</td><td>6</td></tr><tr><td>2</td><td>Michael Kennedy</td><td>7</td></tr><tr><td>1</td><td>Jas O'Carroll</td><td>5</td></tr><tr><td>2</td><td>Anthony Rawles</td><td>6</td></tr><tr><td>1</td><td>Brian Dahlen</td><td>6</td></tr><tr><td>3</td><td>Paul Stevenson</td><td>6</td></tr><tr><td>2</td><td>Ken Heidel</td><td>6</td></tr><tr><td>1</td><td>Greg Matthias</td><td>6</td></tr><tr><td>2</td><td>Fred Chung</td><td>6</td></tr><tr><td>1</td><td>Eva Jacobs</td><td>6</td></tr><tr><td>2</td><td>Bill Shonely</td><td>6</td></tr><tr><td>1</td><td>Jasper Cacioppo</td><td>6</td></tr><tr><td>1</td><td>Meg Tillman</td><td>6</td></tr><tr><td>2</td><td>Suzanne McNair</td><td>6</td></tr><tr><td>1</td><td>Roland Murray</td><td>6</td></tr><tr><td>2</td><td>Brendan Murry</td><td>6</td></tr><tr><td>2</td><td>Dan Reichenbach</td><td>6</td></tr><tr><td>2</td><td>Bill Tyler</td><td>6</td></tr><tr><td>1</td><td>Stewart Visinsky</td><td>6</td></tr><tr><td>2</td><td>Dario Medina</td><td>7</td></tr><tr><td>1</td><td>Allen Goldenen</td><td>6</td></tr><tr><td>1</td><td>Beth Paige</td><td>6</td></tr><tr><td>2</td><td>Ed Braxton</td><td>6</td></tr><tr><td>3</td><td>Karen Ferguson</td><td>6</td></tr><tr><td>1</td><td>Scott Williamson</td><td>7</td></tr><tr><td>3</td><td>Deborah Brumfield</td><td>6</td></tr><tr><td>3</td><td>Cynthia Delaney</td><td>6</td></tr><tr><td>1</td><td>Joseph Airdo</td><td>6</td></tr><tr><td>1</td><td>Thomas Thornton</td><td>6</td></tr><tr><td>1</td><td>Matt Collins</td><td>6</td></tr><tr><td>1</td><td>Bruce Degenhardt</td><td>6</td></tr><tr><td>3</td><td>Harold Pawlan</td><td>6</td></tr><tr><td>1</td><td>Chloris Kastensmidt</td><td>6</td></tr><tr><td>3</td><td>Brendan Dodson</td><td>6</td></tr><tr><td>1</td><td>Andy Reiter</td><td>6</td></tr><tr><td>1</td><td>Dave Kipp</td><td>6</td></tr><tr><td>2</td><td>Tracy Poddar</td><td>6</td></tr><tr><td>1</td><td>Jill Matthias</td><td>6</td></tr><tr><td>1</td><td>Maria Bertelson</td><td>6</td></tr><tr><td>1</td><td>Katherine Ducich</td><td>6</td></tr><tr><td>1</td><td>Christopher Martinez</td><td>6</td></tr><tr><td>1</td><td>Joseph Holt</td><td>6</td></tr><tr><td>1</td><td>Helen Abelman</td><td>6</td></tr><tr><td>3</td><td>Ross DeVincentis</td><td>6</td></tr><tr><td>2</td><td>Jonathan Doherty</td><td>7</td></tr><tr><td>1</td><td>Ionia McGrath</td><td>6</td></tr><tr><td>3</td><td>Jim Kriz</td><td>6</td></tr><tr><td>1</td><td>Joni Blumstein</td><td>6</td></tr><tr><td>1</td><td>Shahid Collister</td><td>6</td></tr><tr><td>1</td><td>Joe Elijah</td><td>6</td></tr><tr><td>2</td><td>Maribeth Yedwab</td><td>6</td></tr><tr><td>1</td><td>Michael Oakman</td><td>6</td></tr><tr><td>1</td><td>Anna Chung</td><td>6</td></tr><tr><td>3</td><td>Michael Grace</td><td>5</td></tr><tr><td>3</td><td>Robert Dilbeck</td><td>7</td></tr><tr><td>2</td><td>Aaron Hawkins</td><td>6</td></tr><tr><td>2</td><td>Jane Waco</td><td>6</td></tr><tr><td>1</td><td>James Galang</td><td>6</td></tr><tr><td>2</td><td>Giulietta Dortch</td><td>6</td></tr><tr><td>3</td><td>Eileen Kiefer</td><td>6</td></tr><tr><td>1</td><td>Tamara Dahlen</td><td>7</td></tr><tr><td>3</td><td>Nathan Mautz</td><td>7</td></tr><tr><td>1</td><td>Jack Garza</td><td>6</td></tr><tr><td>1</td><td>John Lucas</td><td>6</td></tr><tr><td>3</td><td>Harold Dahlen</td><td>6</td></tr><tr><td>1</td><td>Bryan Mills</td><td>6</td></tr><tr><td>1</td><td>Joe Kamberova</td><td>6</td></tr><tr><td>2</td><td>Susan Gilcrest</td><td>6</td></tr><tr><td>2</td><td>Karen Carlisle</td><td>6</td></tr><tr><td>3</td><td>Philisse Overcash</td><td>7</td></tr><tr><td>1</td><td>Janet Martin</td><td>6</td></tr><tr><td>1</td><td>Erin Creighton</td><td>6</td></tr><tr><td>3</td><td>Sharelle Roach</td><td>7</td></tr><tr><td>1</td><td>Lisa DeCherney</td><td>7</td></tr><tr><td>2</td><td>Stefanie Holloman</td><td>5</td></tr><tr><td>1</td><td>Emily Phan</td><td>6</td></tr><tr><td>2</td><td>Christine Abelman</td><td>6</td></tr><tr><td>1</td><td>Brian DeCherney</td><td>6</td></tr><tr><td>2</td><td>Mitch Willingham</td><td>6</td></tr><tr><td>2</td><td>Phillip Breyer</td><td>6</td></tr><tr><td>1</td><td>Keith Herrera</td><td>6</td></tr><tr><td>2</td><td>Jason Klamczynski</td><td>5</td></tr><tr><td>2</td><td>Deirdre Greer</td><td>6</td></tr><tr><td>1</td><td>Sung Shariari</td><td>6</td></tr><tr><td>3</td><td>Dianna Arnett</td><td>6</td></tr><tr><td>1</td><td>Nick Radford</td><td>6</td></tr><tr><td>1</td><td>Eric Murdock</td><td>7</td></tr><tr><td>3</td><td>Tanja Norvell</td><td>5</td></tr><tr><td>1</td><td>John Dryer</td><td>6</td></tr><tr><td>1</td><td>Liz Pelletier</td><td>6</td></tr><tr><td>2</td><td>Barry Blumstein</td><td>6</td></tr><tr><td>2</td><td>Damala Kotsonis</td><td>6</td></tr><tr><td>3</td><td>Phillina Ober</td><td>7</td></tr><tr><td>1</td><td>Joy Daniels</td><td>6</td></tr><tr><td>2</td><td>John Grady</td><td>6</td></tr><tr><td>1</td><td>Denise Leinenbach</td><td>7</td></tr><tr><td>1</td><td>Bradley Nguyen</td><td>6</td></tr><tr><td>2</td><td>Nat Gilpin</td><td>7</td></tr><tr><td>3</td><td>Maria Zettner</td><td>6</td></tr><tr><td>1</td><td>Chris Cortes</td><td>7</td></tr><tr><td>3</td><td>Marc Harrigan</td><td>5</td></tr><tr><td>2</td><td>Guy Phonely</td><td>6</td></tr><tr><td>1</td><td>Philip Brown</td><td>6</td></tr><tr><td>1</td><td>Becky Martin</td><td>6</td></tr><tr><td>2</td><td>Alex Russell</td><td>6</td></tr><tr><td>1</td><td>Michelle Moray</td><td>6</td></tr><tr><td>2</td><td>Ken Dana</td><td>5</td></tr><tr><td>1</td><td>Dean Braden</td><td>6</td></tr><tr><td>1</td><td>Bryan Davis</td><td>6</td></tr><tr><td>1</td><td>Helen Andreada</td><td>6</td></tr><tr><td>1</td><td>Cindy Stewart</td><td>6</td></tr><tr><td>2</td><td>Justin Ellison</td><td>6</td></tr><tr><td>3</td><td>Matt Abelman</td><td>6</td></tr><tr><td>3</td><td>Michael Granlund</td><td>5</td></tr><tr><td>1</td><td>Giulietta Baptist</td><td>6</td></tr><tr><td>3</td><td>Craig Leslie</td><td>6</td></tr><tr><td>1</td><td>Sanjit Chand</td><td>6</td></tr><tr><td>3</td><td>Dennis Bolton</td><td>5</td></tr><tr><td>2</td><td>Dorothy Badders</td><td>6</td></tr><tr><td>3</td><td>Adam Bellavance</td><td>6</td></tr><tr><td>3</td><td>Alyssa Tate</td><td>6</td></tr><tr><td>2</td><td>Brian Moss</td><td>7</td></tr><tr><td>1</td><td>Sue Ann Reed</td><td>7</td></tr><tr><td>1</td><td>Dennis Kane</td><td>7</td></tr><tr><td>1</td><td>Kelly Williams</td><td>6</td></tr><tr><td>3</td><td>Lindsay Shagiari</td><td>7</td></tr><tr><td>2</td><td>Nicole Hansen</td><td>7</td></tr><tr><td>2</td><td>Kean Nguyen</td><td>6</td></tr><tr><td>1</td><td>Brosina Hoffman</td><td>6</td></tr><tr><td>1</td><td>Chuck Magee</td><td>6</td></tr><tr><td>2</td><td>Maureen Fritzler</td><td>6</td></tr><tr><td>1</td><td>Nathan Gelder</td><td>7</td></tr><tr><td>2</td><td>David Smith</td><td>6</td></tr><tr><td>1</td><td>Sarah Brown</td><td>6</td></tr><tr><td>2</td><td>Elpida Rittenbach</td><td>6</td></tr><tr><td>2</td><td>Jim Mitchum</td><td>7</td></tr><tr><td>1</td><td>Jamie Frazer</td><td>6</td></tr><tr><td>1</td><td>Jocasta Rupert</td><td>6</td></tr><tr><td>1</td><td>Alex Avila</td><td>6</td></tr><tr><td>1</td><td>Jason Fortune-</td><td>7</td></tr><tr><td>1</td><td>Greg Hansen</td><td>7</td></tr><tr><td>1</td><td>Henia Zydlo</td><td>6</td></tr><tr><td>2</td><td>Alan Haines</td><td>7</td></tr><tr><td>3</td><td>Valerie Mitchum</td><td>6</td></tr><tr><td>2</td><td>Mary Zewe</td><td>7</td></tr><tr><td>2</td><td>Kristen Hastings</td><td>7</td></tr><tr><td>1</td><td>Tom Prescott</td><td>6</td></tr><tr><td>2</td><td>Barry Pond</td><td>6</td></tr><tr><td>2</td><td>Jack O'Briant</td><td>6</td></tr><tr><td>1</td><td>Bill Donatelli</td><td>6</td></tr><tr><td>1</td><td>Gary Zandusky</td><td>7</td></tr><tr><td>3</td><td>Meg O'Connel</td><td>6</td></tr><tr><td>1</td><td>Duane Benoit</td><td>6</td></tr><tr><td>2</td><td>Beth Fritzler</td><td>6</td></tr><tr><td>1</td><td>Hunter Glantz</td><td>6</td></tr><tr><td>3</td><td>Becky Castell</td><td>6</td></tr><tr><td>3</td><td>Sean Miller</td><td>6</td></tr><tr><td>1</td><td>Maureen Gnade</td><td>6</td></tr><tr><td>2</td><td>Alejandro Savely</td><td>6</td></tr><tr><td>2</td><td>Sibella Parks</td><td>5</td></tr><tr><td>2</td><td>Stefania Perrino</td><td>6</td></tr><tr><td>1</td><td>Roy Französisch</td><td>6</td></tr><tr><td>1</td><td>Frank Preis</td><td>6</td></tr><tr><td>3</td><td>Stephanie Ulpright</td><td>6</td></tr><tr><td>1</td><td>Patrick Ryan</td><td>7</td></tr><tr><td>1</td><td>Erin Mull</td><td>7</td></tr><tr><td>2</td><td>Cyma Kinney</td><td>6</td></tr><tr><td>2</td><td>Andy Gerbode</td><td>6</td></tr><tr><td>1</td><td>Angele Hood</td><td>6</td></tr><tr><td>2</td><td>Lela Donovan</td><td>6</td></tr><tr><td>1</td><td>Barry Weirich</td><td>6</td></tr><tr><td>1</td><td>Ricardo Emerson</td><td>6</td></tr><tr><td>3</td><td>Tamara Willingham</td><td>6</td></tr><tr><td>1</td><td>Patrick O'Brill</td><td>6</td></tr><tr><td>2</td><td>Charles Sheldon</td><td>6</td></tr><tr><td>3</td><td>Mick Hernandez</td><td>6</td></tr><tr><td>2</td><td>Denise Monton</td><td>6</td></tr><tr><td>1</td><td>Denny Ordway</td><td>6</td></tr><tr><td>2</td><td>Matt Connell</td><td>6</td></tr><tr><td>1</td><td>Pierre Wener</td><td>6</td></tr><tr><td>2</td><td>Maya Herman</td><td>6</td></tr><tr><td>2</td><td>Bart Pistole</td><td>6</td></tr><tr><td>1</td><td>Neola Schneider</td><td>6</td></tr><tr><td>1</td><td>Neoma Murray</td><td>5</td></tr><tr><td>1</td><td>Larry Tron</td><td>7</td></tr><tr><td>1</td><td>Russell Applegate</td><td>6</td></tr><tr><td>1</td><td>Maribeth Schnelling</td><td>6</td></tr><tr><td>1</td><td>John Stevenson</td><td>6</td></tr><tr><td>2</td><td>Don Jones</td><td>7</td></tr><tr><td>2</td><td>Aaron Smayling</td><td>6</td></tr><tr><td>1</td><td>Juliana Krohn</td><td>7</td></tr><tr><td>1</td><td>Janet Lee</td><td>6</td></tr><tr><td>1</td><td>Liz MacKendrick</td><td>6</td></tr><tr><td>1</td><td>Alex Grayson</td><td>6</td></tr><tr><td>1</td><td>Troy Blackwell</td><td>6</td></tr><tr><td>1</td><td>Bruce Stewart</td><td>6</td></tr><tr><td>1</td><td>Shaun Weien</td><td>6</td></tr><tr><td>2</td><td>Shaun Chance</td><td>6</td></tr><tr><td>3</td><td>Daniel Byrd</td><td>7</td></tr><tr><td>1</td><td>Henry MacAllister</td><td>6</td></tr><tr><td>3</td><td>Max Ludwig</td><td>7</td></tr><tr><td>1</td><td>Andrew Allen</td><td>7</td></tr><tr><td>1</td><td>Tim Brockman</td><td>6</td></tr><tr><td>1</td><td>Ryan Crowe</td><td>6</td></tr><tr><td>1</td><td>Michael Nguyen</td><td>6</td></tr><tr><td>3</td><td>Nick Zandusky</td><td>5</td></tr><tr><td>3</td><td>Sample Company A</td><td>6</td></tr><tr><td>3</td><td>Steve Nguyen</td><td>6</td></tr><tr><td>1</td><td>Sarah Jordon</td><td>7</td></tr><tr><td>1</td><td>Khloe Miller</td><td>6</td></tr><tr><td>3</td><td>Sanjit Jacobs</td><td>7</td></tr><tr><td>3</td><td>Mathew Reese</td><td>6</td></tr><tr><td>2</td><td>Frank Atkinson</td><td>6</td></tr><tr><td>2</td><td>Rick Reed</td><td>6</td></tr><tr><td>2</td><td>Nicole Brennan</td><td>7</td></tr><tr><td>1</td><td>Trudy Schmidt</td><td>6</td></tr><tr><td>3</td><td>Bradley Talbott</td><td>7</td></tr><tr><td>1</td><td>Christina Anderson</td><td>6</td></tr><tr><td>1</td><td>Sonia Cooley</td><td>5</td></tr><tr><td>1</td><td>Gary Hwang</td><td>7</td></tr><tr><td>1</td><td>Toby Gnade</td><td>7</td></tr><tr><td>1</td><td>Jim Radford</td><td>6</td></tr><tr><td>2</td><td>Mike Caudle</td><td>6</td></tr><tr><td>3</td><td>Cathy Armstrong</td><td>6</td></tr><tr><td>3</td><td>Chuck Clark</td><td>6</td></tr><tr><td>1</td><td>Natalie Webber</td><td>7</td></tr><tr><td>2</td><td>Sung Pak</td><td>5</td></tr><tr><td>1</td><td>Liz Willingham</td><td>6</td></tr><tr><td>1</td><td>Maurice Satty</td><td>6</td></tr><tr><td>1</td><td>Liz Preis</td><td>7</td></tr><tr><td>1</td><td>Sandra Glassco</td><td>7</td></tr><tr><td>1</td><td>Sam Craven</td><td>6</td></tr><tr><td>1</td><td>Duane Noonan</td><td>7</td></tr><tr><td>2</td><td>Candace McMahon</td><td>6</td></tr><tr><td>2</td><td>Noel Staavos</td><td>6</td></tr><tr><td>1</td><td>Dorothy Dickinson</td><td>6</td></tr><tr><td>1</td><td>Justin MacKendrick</td><td>6</td></tr><tr><td>2</td><td>Dean Katz</td><td>6</td></tr><tr><td>1</td><td>Shahid Hopkins</td><td>7</td></tr><tr><td>3</td><td>Brad Thomas</td><td>6</td></tr><tr><td>2</td><td>Frank Hawley</td><td>6</td></tr><tr><td>1</td><td>Fred McMath</td><td>6</td></tr><tr><td>2</td><td>Matt Hagelstein</td><td>7</td></tr><tr><td>1</td><td>Natalie DeCherney</td><td>6</td></tr><tr><td>1</td><td>Roland Fjeld</td><td>5</td></tr><tr><td>3</td><td>Katherine Murray</td><td>7</td></tr><tr><td>3</td><td>Peter McVee</td><td>6</td></tr><tr><td>3</td><td>Paul Knutson</td><td>5</td></tr><tr><td>2</td><td>Ann Chong</td><td>6</td></tr><tr><td>1</td><td>John Murray</td><td>7</td></tr><tr><td>2</td><td>Jim Sink</td><td>6</td></tr><tr><td>2</td><td>Edward Hooks</td><td>6</td></tr><tr><td>2</td><td>Katherine Nockton</td><td>6</td></tr><tr><td>3</td><td>Alejandro Ballentine</td><td>7</td></tr><tr><td>2</td><td>Filia McAdams</td><td>6</td></tr><tr><td>1</td><td>Jeremy Pistek</td><td>7</td></tr><tr><td>1</td><td>Sean Christensen</td><td>6</td></tr><tr><td>2</td><td>Vivek Grady</td><td>6</td></tr><tr><td>3</td><td>Heather Jas</td><td>6</td></tr><tr><td>2</td><td>Kelly Lampkin</td><td>6</td></tr><tr><td>2</td><td>Thomas Seio</td><td>6</td></tr><tr><td>1</td><td>Max Engle</td><td>7</td></tr><tr><td>3</td><td>Corey Roper</td><td>7</td></tr><tr><td>1</td><td>Lynn Smith</td><td>6</td></tr><tr><td>1</td><td>Eric Hoffmann</td><td>7</td></tr><tr><td>2</td><td>Bart Watters</td><td>7</td></tr><tr><td>1</td><td>Michael Moore</td><td>6</td></tr><tr><td>2</td><td>Barbara Fisher</td><td>6</td></tr><tr><td>3</td><td>Shirley Daniels</td><td>6</td></tr><tr><td>1</td><td>Dave Brooks</td><td>6</td></tr><tr><td>2</td><td>Tamara Chand</td><td>6</td></tr><tr><td>2</td><td>Michelle Ellison</td><td>5</td></tr><tr><td>3</td><td>Carl Weiss</td><td>6</td></tr><tr><td>2</td><td>Allen Rosenblatt</td><td>6</td></tr><tr><td>2</td><td>Kimberly Carter</td><td>6</td></tr><tr><td>1</td><td>Evan Bailliet</td><td>6</td></tr><tr><td>3</td><td>Anne Pryor</td><td>6</td></tr><tr><td>1</td><td>Fred Harton</td><td>6</td></tr><tr><td>2</td><td>Ann Blume</td><td>6</td></tr><tr><td>3</td><td>Parhena Norris</td><td>6</td></tr><tr><td>1</td><td>Anthony Witt</td><td>5</td></tr><tr><td>2</td><td>Anthony Jacobs</td><td>7</td></tr><tr><td>3</td><td>Shirley Schmidt</td><td>6</td></tr><tr><td>1</td><td>Bruce Geld</td><td>6</td></tr><tr><td>1</td><td>Adam Shillingsburg</td><td>5</td></tr><tr><td>3</td><td>Joni Sundaresam</td><td>7</td></tr><tr><td>1</td><td>Rob Dowd</td><td>6</td></tr><tr><td>2</td><td>Rob Williams</td><td>6</td></tr><tr><td>1</td><td>Anemone Ratner</td><td>6</td></tr><tr><td>1</td><td>Jennifer Ferguson</td><td>6</td></tr><tr><td>1</td><td>Peter Fuller</td><td>7</td></tr><tr><td>1</td><td>Clytie Kelty</td><td>6</td></tr><tr><td>1</td><td>Ivan Liston</td><td>6</td></tr><tr><td>1</td><td>Jessica Myrick</td><td>6</td></tr><tr><td>3</td><td>Nicole Fjeld</td><td>6</td></tr><tr><td>1</td><td>Guy Armstrong</td><td>5</td></tr><tr><td>2</td><td>Cari Sayre</td><td>6</td></tr><tr><td>2</td><td>Alice McCarthy</td><td>6</td></tr><tr><td>1</td><td>Annie Thurman</td><td>6</td></tr><tr><td>1</td><td>Susan Vittorini</td><td>6</td></tr><tr><td>1</td><td>Pauline Johnson</td><td>6</td></tr><tr><td>1</td><td>Allen Armold</td><td>7</td></tr><tr><td>2</td><td>Victoria Brennan</td><td>6</td></tr><tr><td>3</td><td>Maria Etezadi</td><td>6</td></tr><tr><td>1</td><td>Ken Lonsdale</td><td>6</td></tr><tr><td>1</td><td>Ted Trevino</td><td>5</td></tr><tr><td>2</td><td>Mitch Gastineau</td><td>7</td></tr><tr><td>2</td><td>Christine Phan</td><td>6</td></tr><tr><td>1</td><td>Sonia Sunley</td><td>6</td></tr><tr><td>1</td><td>Mark Van Huff</td><td>6</td></tr><tr><td>1</td><td>Jenna Caffey</td><td>6</td></tr><tr><td>1</td><td>Ben Wallace</td><td>6</td></tr><tr><td>1</td><td>Justin Hirsh</td><td>7</td></tr><tr><td>1</td><td>Tracy Blumstein</td><td>6</td></tr><tr><td>3</td><td>Paul Lucas</td><td>6</td></tr><tr><td>3</td><td>Hallie Redmond</td><td>7</td></tr><tr><td>2</td><td>David Wiener</td><td>6</td></tr><tr><td>1</td><td>Mitch Webber</td><td>6</td></tr><tr><td>1</td><td>Jay Fein</td><td>6</td></tr><tr><td>3</td><td>Penelope Sewall</td><td>6</td></tr><tr><td>2</td><td>Rick Wilson</td><td>6</td></tr><tr><td>1</td><td>Karl Braun</td><td>6</td></tr><tr><td>1</td><td>Jill Fjeld</td><td>6</td></tr><tr><td>3</td><td>Arthur Wiediger</td><td>6</td></tr><tr><td>1</td><td>Mike Kennedy</td><td>7</td></tr><tr><td>1</td><td>Larry Blacks</td><td>7</td></tr><tr><td>3</td><td>Lindsay Castell</td><td>6</td></tr><tr><td>1</td><td>Trudy Glocke</td><td>7</td></tr><tr><td>1</td><td>Jennifer Jackson</td><td>6</td></tr><tr><td>3</td><td>Neil Französisch</td><td>7</td></tr><tr><td>1</td><td>Pamela Stobb</td><td>6</td></tr><tr><td>2</td><td>Erin Smith</td><td>6</td></tr><tr><td>1</td><td>Liz Thompson</td><td>6</td></tr><tr><td>2</td><td>Carol Adams</td><td>6</td></tr><tr><td>2</td><td>Sylvia Foulston</td><td>6</td></tr><tr><td>1</td><td>Lisa Hazard</td><td>6</td></tr><tr><td>1</td><td>Rick Hansen</td><td>6</td></tr><tr><td>1</td><td>Ed Jacobs</td><td>6</td></tr><tr><td>1</td><td>Ralph Kennedy</td><td>6</td></tr><tr><td>2</td><td>Erica Bern</td><td>6</td></tr><tr><td>1</td><td>Jonathan Howell</td><td>7</td></tr><tr><td>2</td><td>Kalyca Meade</td><td>6</td></tr><tr><td>1</td><td>Susan MacKendrick</td><td>6</td></tr><tr><td>1</td><td>Sanjit Engle</td><td>6</td></tr><tr><td>3</td><td>Michelle Arnett</td><td>7</td></tr><tr><td>1</td><td>Max Jones</td><td>6</td></tr><tr><td>1</td><td>Dan Campbell</td><td>7</td></tr><tr><td>3</td><td>Valerie Takahito</td><td>6</td></tr><tr><td>1</td><td>Katherine Hughes</td><td>6</td></tr><tr><td>3</td><td>Gary Mitchum</td><td>6</td></tr><tr><td>2</td><td>Edward Becker</td><td>6</td></tr><tr><td>1</td><td>Charles McCrossin</td><td>6</td></tr><tr><td>1</td><td>Doug Bickford</td><td>6</td></tr><tr><td>2</td><td>Yana Sorensen</td><td>6</td></tr><tr><td>3</td><td>Daniel Raglin</td><td>6</td></tr><tr><td>1</td><td>Naresj Patel</td><td>7</td></tr><tr><td>3</td><td>Alan Dominguez</td><td>6</td></tr><tr><td>2</td><td>Don Miller</td><td>7</td></tr><tr><td>1</td><td>Vivek Gonzalez</td><td>6</td></tr><tr><td>1</td><td>Toby Braunhardt</td><td>7</td></tr><tr><td>3</td><td>Robert Marley</td><td>7</td></tr><tr><td>2</td><td>Heather Kirkland</td><td>7</td></tr><tr><td>1</td><td>Maris LaWare</td><td>5</td></tr><tr><td>2</td><td>Rachel Payne</td><td>6</td></tr><tr><td>1</td><td>Ryan Akin</td><td>6</td></tr><tr><td>1</td><td>Debra Catini</td><td>6</td></tr><tr><td>1</td><td>Tracy Zic</td><td>6</td></tr><tr><td>1</td><td>Ashley Jarboe</td><td>6</td></tr><tr><td>1</td><td>Lena Cacioppo</td><td>6</td></tr><tr><td>2</td><td>Steve Chapman</td><td>6</td></tr><tr><td>1</td><td>Corey-Lock</td><td>6</td></tr><tr><td>2</td><td>Muhammed Yedwab</td><td>6</td></tr><tr><td>1</td><td>Natalie Fritzler</td><td>7</td></tr><tr><td>1</td><td>Joni Wasserman</td><td>6</td></tr><tr><td>1</td><td>Ritsa Hightower</td><td>6</td></tr><tr><td>2</td><td>Dave Hallsten</td><td>6</td></tr><tr><td>3</td><td>Evan Minnotte</td><td>6</td></tr><tr><td>3</td><td>Cyra Reiten</td><td>6</td></tr><tr><td>2</td><td>Cathy Prescott</td><td>7</td></tr><tr><td>3</td><td>Victor Preis</td><td>6</td></tr><tr><td>3</td><td>Tonja Turnell</td><td>6</td></tr><tr><td>1</td><td>Kunst Miller</td><td>5</td></tr><tr><td>1</td><td>Jay Kimmel</td><td>6</td></tr><tr><td>1</td><td>Alejandro Grove</td><td>7</td></tr><tr><td>1</td><td>Patrick Gardner</td><td>6</td></tr><tr><td>1</td><td>Magdelene Morse</td><td>7</td></tr><tr><td>2</td><td>Fred Hopkins</td><td>6</td></tr><tr><td>3</td><td>Chad Cunningham</td><td>6</td></tr><tr><td>1</td><td>Nat Carroll</td><td>7</td></tr><tr><td>1</td><td>Carlos Meador</td><td>6</td></tr><tr><td>1</td><td>Cari Schnelling</td><td>6</td></tr><tr><td>1</td><td>Randy Bradley</td><td>6</td></tr><tr><td>1</td><td>Seth Vernon</td><td>6</td></tr><tr><td>2</td><td>Nona Balk</td><td>6</td></tr><tr><td>1</td><td>Brian Stugart</td><td>6</td></tr><tr><td>2</td><td>Cindy Schnelling</td><td>6</td></tr><tr><td>1</td><td>Olvera Toch</td><td>6</td></tr><tr><td>1</td><td>Carol Triggs</td><td>5</td></tr><tr><td>2</td><td>Bill Overfelt</td><td>6</td></tr><tr><td>3</td><td>Ross Baird</td><td>6</td></tr><tr><td>1</td><td>Toby Carlisle</td><td>7</td></tr><tr><td>1</td><td>Larry Hughes</td><td>6</td></tr><tr><td>1</td><td>Kean Takahito</td><td>7</td></tr><tr><td>1</td><td>Bobby Odegard</td><td>6</td></tr><tr><td>1</td><td>Theone Pippenger</td><td>6</td></tr><tr><td>2</td><td>Grace Kelly</td><td>6</td></tr><tr><td>1</td><td>Logan Haushalter</td><td>7</td></tr><tr><td>1</td><td>Paul Gonzalez</td><td>6</td></tr><tr><td>1</td><td>Maxwell Schwartz</td><td>6</td></tr><tr><td>1</td><td>Sheri Gordon</td><td>6</td></tr><tr><td>2</td><td>Alan Schoenberger</td><td>7</td></tr><tr><td>3</td><td>Eugene Hildebrand</td><td>6</td></tr><tr><td>1</td><td>Vivek Sundaresam</td><td>6</td></tr><tr><td>1</td><td>Muhammed Lee</td><td>6</td></tr><tr><td>2</td><td>Ken Black</td><td>5</td></tr><tr><td>1</td><td>Lena Creighton</td><td>7</td></tr><tr><td>2</td><td>Darren Budd</td><td>5</td></tr><tr><td>2</td><td>Tiffany House</td><td>6</td></tr><tr><td>3</td><td>Steven Roelle</td><td>6</td></tr><tr><td>1</td><td>Tamara Manning</td><td>6</td></tr><tr><td>1</td><td>Luke Foster</td><td>6</td></tr><tr><td>2</td><td>Katrina Edelman</td><td>6</td></tr><tr><td>1</td><td>Edward Nazzal</td><td>6</td></tr><tr><td>1</td><td>Thea Hendricks</td><td>6</td></tr><tr><td>2</td><td>David Bremer</td><td>6</td></tr><tr><td>1</td><td>Emily Grady</td><td>6</td></tr><tr><td>2</td><td>Patrick Jones</td><td>6</td></tr><tr><td>3</td><td>Paul Van Hugh</td><td>6</td></tr><tr><td>3</td><td>Julie Kriz</td><td>7</td></tr><tr><td>1</td><td>Sung Chung</td><td>6</td></tr><tr><td>1</td><td>Xylona Preis</td><td>6</td></tr><tr><td>1</td><td>Dana Kaydos</td><td>6</td></tr><tr><td>1</td><td>Thais Sissman</td><td>7</td></tr><tr><td>2</td><td>Noah Childs</td><td>6</td></tr><tr><td>3</td><td>Tracy Hopkins</td><td>7</td></tr><tr><td>3</td><td>Deanra Eno</td><td>6</td></tr><tr><td>1</td><td>Melanie Seite</td><td>6</td></tr><tr><td>2</td><td>Brendan Sweed</td><td>6</td></tr><tr><td>2</td><td>Saphhira Shifley</td><td>7</td></tr><tr><td>2</td><td>Corey Catlett</td><td>5</td></tr><tr><td>3</td><td>Jesus Ocampo</td><td>6</td></tr><tr><td>3</td><td>Sean Wendt</td><td>6</td></tr><tr><td>3</td><td>Corinna Mitchell</td><td>6</td></tr><tr><td>1</td><td>Susan Pistek</td><td>6</td></tr><tr><td>1</td><td>Resi Pölking</td><td>6</td></tr><tr><td>2</td><td>Jennifer Patt</td><td>7</td></tr><tr><td>1</td><td>Laurel Elliston</td><td>5</td></tr><tr><td>3</td><td>Laurel Beltran</td><td>6</td></tr><tr><td>2</td><td>Linda Southworth</td><td>7</td></tr><tr><td>2</td><td>Stuart Van</td><td>7</td></tr><tr><td>1</td><td>Trudy Brown</td><td>6</td></tr><tr><td>3</td><td>Julie Prescott</td><td>6</td></tr><tr><td>2</td><td>Brooke Gillingham</td><td>6</td></tr><tr><td>3</td><td>Mike Pelletier</td><td>6</td></tr><tr><td>1</td><td>Sarah Bern</td><td>6</td></tr><tr><td>1</td><td>Dan Lawera</td><td>7</td></tr><tr><td>1</td><td>Christine Sundaresam</td><td>6</td></tr><tr><td>1</td><td>Joel Eaton</td><td>6</td></tr><tr><td>2</td><td>Julie Creighton</td><td>6</td></tr><tr><td>3</td><td>Sara Luxemburg</td><td>7</td></tr><tr><td>2</td><td>Claudia Bergmann</td><td>6</td></tr><tr><td>2</td><td>Stewart Carmichael</td><td>7</td></tr><tr><td>1</td><td>Liz Carlisle</td><td>6</td></tr><tr><td>1</td><td>David Philippe</td><td>6</td></tr><tr><td>3</td><td>Pete Armstrong</td><td>6</td></tr><tr><td>2</td><td>Michael Dominguez</td><td>5</td></tr><tr><td>2</td><td>Craig Molinari</td><td>6</td></tr><tr><td>2</td><td>Karen Seio</td><td>6</td></tr><tr><td>2</td><td>Harold Ryan</td><td>6</td></tr><tr><td>1</td><td>Chris McAfee</td><td>6</td></tr><tr><td>1</td><td>Mark Hamilton</td><td>6</td></tr><tr><td>1</td><td>Carlos Daly</td><td>6</td></tr><tr><td>1</td><td>Julia West</td><td>6</td></tr><tr><td>1</td><td>Lena Radford</td><td>6</td></tr><tr><td>1</td><td>Giulietta Weimer</td><td>6</td></tr><tr><td>1</td><td>Clay Ludtke</td><td>6</td></tr><tr><td>1</td><td>MaryBeth Skach</td><td>6</td></tr><tr><td>1</td><td>Rick Duston</td><td>7</td></tr><tr><td>1</td><td>Erica Hackney</td><td>6</td></tr><tr><td>1</td><td>Daniel Lacy</td><td>6</td></tr><tr><td>2</td><td>Jill Stevenson</td><td>7</td></tr><tr><td>1</td><td>Sally Matthias</td><td>6</td></tr><tr><td>3</td><td>James Lanier</td><td>6</td></tr><tr><td>1</td><td>Amy Cox</td><td>7</td></tr><tr><td>1</td><td>Mike Gockenbach</td><td>6</td></tr><tr><td>1</td><td>Kelly Collister</td><td>6</td></tr><tr><td>3</td><td>Dean percer</td><td>7</td></tr><tr><td>3</td><td>Duane Huffman</td><td>7</td></tr><tr><td>1</td><td>Doug O'Connell</td><td>7</td></tr><tr><td>1</td><td>Lena Hernandez</td><td>6</td></tr><tr><td>1</td><td>Carl Ludwig</td><td>7</td></tr><tr><td>1</td><td>Shahid Shariari</td><td>7</td></tr><tr><td>1</td><td>Phillip Flathmann</td><td>6</td></tr><tr><td>1</td><td>Caroline Jumper</td><td>6</td></tr><tr><td>1</td><td>Adrian Barton</td><td>7</td></tr><tr><td>2</td><td>Darrin Van Huff</td><td>6</td></tr><tr><td>1</td><td>David Flashing</td><td>6</td></tr><tr><td>2</td><td>Yoseph Carroll</td><td>6</td></tr><tr><td>1</td><td>Ruben Dartt</td><td>6</td></tr><tr><td>2</td><td>Barry Französisch</td><td>6</td></tr><tr><td>1</td><td>Alan Barnes</td><td>7</td></tr><tr><td>3</td><td>Dennis Pardue</td><td>7</td></tr><tr><td>2</td><td>Michael Stewart</td><td>6</td></tr><tr><td>3</td><td>Anthony Garverick</td><td>6</td></tr><tr><td>3</td><td>Ed Ludwig</td><td>6</td></tr><tr><td>3</td><td>Adrian Shami</td><td>6</td></tr><tr><td>2</td><td>Marina Lichtenstein</td><td>6</td></tr><tr><td>1</td><td>Brian Thompson</td><td>6</td></tr><tr><td>3</td><td>Steve Carroll</td><td>6</td></tr><tr><td>3</td><td>Patricia Hirasaki</td><td>6</td></tr><tr><td>1</td><td>Christina DeMoss</td><td>6</td></tr><tr><td>1</td><td>Darren Powers</td><td>7</td></tr><tr><td>1</td><td>Arthur Prichep</td><td>6</td></tr><tr><td>1</td><td>Zuschuss Donatelli</td><td>6</td></tr><tr><td>1</td><td>Shirley Jackson</td><td>5</td></tr><tr><td>1</td><td>Katrina Willman</td><td>5</td></tr><tr><td>1</td><td>Greg Tran</td><td>6</td></tr><tr><td>2</td><td>Karen Bern</td><td>6</td></tr><tr><td>1</td><td>Charles Crestani</td><td>6</td></tr><tr><td>2</td><td>Alyssa Crouse</td><td>6</td></tr><tr><td>2</td><td>Janet Molinari</td><td>6</td></tr><tr><td>1</td><td>Chad McGuire</td><td>6</td></tr><tr><td>3</td><td>Christine Kargatis</td><td>6</td></tr><tr><td>2</td><td>Cynthia Voltz</td><td>6</td></tr><tr><td>1</td><td>Gene McClure</td><td>6</td></tr><tr><td>2</td><td>Michael Paige</td><td>6</td></tr><tr><td>1</td><td>Carol Darley</td><td>7</td></tr><tr><td>2</td><td>Roland Schwarz</td><td>6</td></tr><tr><td>1</td><td>Ted Butterfield</td><td>6</td></tr><tr><td>2</td><td>George Bell</td><td>7</td></tr><tr><td>2</td><td>Lori Olson</td><td>6</td></tr><tr><td>1</td><td>Sarah Foster</td><td>6</td></tr><tr><td>1</td><td>Alan Shonely</td><td>6</td></tr><tr><td>2</td><td>Anthony Johnson</td><td>6</td></tr><tr><td>1</td><td>Sean O'Donnell</td><td>6</td></tr><tr><td>1</td><td>Chuck Sachs</td><td>6</td></tr><tr><td>2</td><td>Mark Haberlin</td><td>7</td></tr><tr><td>1</td><td>Raymond Messe</td><td>6</td></tr><tr><td>1</td><td>Karen Daniels</td><td>5</td></tr><tr><td>3</td><td>Gary Hansen</td><td>6</td></tr><tr><td>1</td><td>Nora Paige</td><td>6</td></tr><tr><td>2</td><td>Greg Maxwell</td><td>6</td></tr><tr><td>1</td><td>Aaron Bergman</td><td>6</td></tr><tr><td>3</td><td>Clay Rozendal</td><td>6</td></tr><tr><td>1</td><td>Speros Goranitis</td><td>6</td></tr><tr><td>3</td><td>Dianna Wilson</td><td>7</td></tr><tr><td>1</td><td>Doug Jacobs</td><td>6</td></tr><tr><td>1</td><td>Paul MacIntyre</td><td>6</td></tr><tr><td>2</td><td>Eleni McCrary</td><td>6</td></tr><tr><td>1</td><td>Anna Andreadi</td><td>6</td></tr><tr><td>3</td><td>Patrick Bzostek</td><td>7</td></tr><tr><td>2</td><td>Chris Selesnick</td><td>6</td></tr><tr><td>1</td><td>Cassandra Brandow</td><td>5</td></tr><tr><td>3</td><td>Eugene Moren</td><td>6</td></tr><tr><td>1</td><td>Raymond Buch</td><td>6</td></tr><tr><td>3</td><td>Rick Huthwaite</td><td>6</td></tr><tr><td>1</td><td>Claire Gute</td><td>6</td></tr><tr><td>3</td><td>Frank Merwin</td><td>6</td></tr><tr><td>2</td><td>Denny Joy</td><td>6</td></tr><tr><td>1</td><td>Brian Derr</td><td>6</td></tr><tr><td>2</td><td>Todd Boyes</td><td>6</td></tr><tr><td>3</td><td>Ann Steele</td><td>6</td></tr><tr><td>2</td><td>Laurel Workman</td><td>6</td></tr><tr><td>1</td><td>Ivan Gibson</td><td>6</td></tr><tr><td>2</td><td>Jason Gross</td><td>5</td></tr><tr><td>1</td><td>Aimee Bixby</td><td>5</td></tr><tr><td>1</td><td>Valerie Dominguez</td><td>6</td></tr><tr><td>1</td><td>Gary McGarr</td><td>6</td></tr><tr><td>2</td><td>Justin Ritter</td><td>7</td></tr><tr><td>2</td><td>Pamela Coakley</td><td>6</td></tr><tr><td>2</td><td>Ruben Ausman</td><td>7</td></tr><tr><td>1</td><td>Arianne Irving</td><td>6</td></tr><tr><td>2</td><td>Katharine Harms</td><td>6</td></tr><tr><td>1</td><td>Bobby Elias</td><td>6</td></tr><tr><td>1</td><td>Cindy Chapman</td><td>7</td></tr><tr><td>1</td><td>Rob Beeghly</td><td>6</td></tr><tr><td>2</td><td>Sally Hughsby</td><td>6</td></tr><tr><td>1</td><td>Lauren Leatherbury</td><td>6</td></tr><tr><td>2</td><td>Scot Coram</td><td>6</td></tr><tr><td>2</td><td>Neil Ducich</td><td>7</td></tr><tr><td>1</td><td>Jamie Kunitz</td><td>6</td></tr><tr><td>1</td><td>Nora Preis</td><td>6</td></tr><tr><td>2</td><td>Ellis Ballard</td><td>7</td></tr><tr><td>3</td><td>Matthew Grinstein</td><td>5</td></tr><tr><td>3</td><td>Sam Zeldin</td><td>6</td></tr><tr><td>2</td><td>Henry Goldwyn</td><td>7</td></tr><tr><td>1</td><td>Delfina Latchford</td><td>6</td></tr><tr><td>3</td><td>Vicky Freymann</td><td>6</td></tr><tr><td>1</td><td>Jeremy Lonsdale</td><td>6</td></tr><tr><td>2</td><td>Laura Armstrong</td><td>6</td></tr><tr><td>1</td><td>Richard Bierner</td><td>6</td></tr><tr><td>3</td><td>Catherine Glotzbach</td><td>6</td></tr><tr><td>2</td><td>Matt Collister</td><td>6</td></tr><tr><td>1</td><td>Craig Carreira</td><td>6</td></tr><tr><td>3</td><td>Mark Packer</td><td>5</td></tr><tr><td>2</td><td>Lisa Ryan</td><td>6</td></tr><tr><td>1</td><td>Art Foster</td><td>6</td></tr><tr><td>3</td><td>Bryan Spruell</td><td>6</td></tr><tr><td>1</td><td>Kelly Andreada</td><td>6</td></tr><tr><td>3</td><td>Julia Barnett</td><td>6</td></tr><tr><td>1</td><td>Tom Boeckenhauer</td><td>6</td></tr><tr><td>3</td><td>Thomas Brumley</td><td>6</td></tr><tr><td>1</td><td>Craig Carroll</td><td>6</td></tr><tr><td>1</td><td>Chad Sievert</td><td>7</td></tr><tr><td>1</td><td>Roger Demir</td><td>6</td></tr><tr><td>1</td><td>Logan Currie</td><td>7</td></tr><tr><td>1</td><td>Joy Bell-</td><td>6</td></tr><tr><td>1</td><td>Charlotte Melton</td><td>6</td></tr><tr><td>1</td><td>Clay Cheatham</td><td>6</td></tr><tr><td>1</td><td>Bart Folk</td><td>7</td></tr><tr><td>1</td><td>Herbert Flentye</td><td>6</td></tr><tr><td>1</td><td>Mary O'Rourke</td><td>6</td></tr><tr><td>1</td><td>Vivian Mathis</td><td>6</td></tr><tr><td>1</td><td>Christina VanderZanden</td><td>6</td></tr><tr><td>2</td><td>Theresa Swint</td><td>6</td></tr><tr><td>2</td><td>Theresa Coyne</td><td>6</td></tr><tr><td>1</td><td>Alan Hwang</td><td>6</td></tr><tr><td>2</td><td>Ben Peterman</td><td>6</td></tr><tr><td>2</td><td>Georgia Rosenberg</td><td>6</td></tr><tr><td>3</td><td>Nancy Lomonaco</td><td>6</td></tr><tr><td>3</td><td>Beth Thompson</td><td>6</td></tr><tr><td>1</td><td>Joy Smith</td><td>7</td></tr><tr><td>2</td><td>Quincy Jones</td><td>6</td></tr><tr><td>2</td><td>Roy Phan</td><td>6</td></tr><tr><td>2</td><td>Linda Cazamias</td><td>6</td></tr><tr><td>2</td><td>Brad Norvell</td><td>6</td></tr><tr><td>2</td><td>Tom Stivers</td><td>6</td></tr><tr><td>2</td><td>Anna Häberlin</td><td>6</td></tr><tr><td>3</td><td>Katrina Bavinger</td><td>5</td></tr><tr><td>2</td><td>Dave Poirier</td><td>6</td></tr><tr><td>1</td><td>Marc Crier</td><td>6</td></tr><tr><td>1</td><td>Lycoris Saunders</td><td>6</td></tr><tr><td>1</td><td>Amy Hunt</td><td>6</td></tr><tr><td>1</td><td>Irene Maddox</td><td>6</td></tr><tr><td>1</td><td>Annie Zypern</td><td>7</td></tr><tr><td>1</td><td>Eric Barreto</td><td>6</td></tr><tr><td>3</td><td>Tracy Collins</td><td>6</td></tr><tr><td>1</td><td>Christy Brittain</td><td>6</td></tr><tr><td>3</td><td>Emily Ducich</td><td>7</td></tr><tr><td>1</td><td>Zuschuss Carroll</td><td>5</td></tr><tr><td>2</td><td>Nick Crebassa</td><td>6</td></tr><tr><td>2</td><td>Gene Hale</td><td>6</td></tr><tr><td>2</td><td>Carl Jackson</td><td>6</td></tr><tr><td>2</td><td>Jim Epp</td><td>6</td></tr><tr><td>2</td><td>Keith Dawkins</td><td>6</td></tr><tr><td>1</td><td>Rob Haberlin</td><td>7</td></tr><tr><td>1</td><td>Bradley Drucker</td><td>5</td></tr><tr><td>1</td><td>Art Ferguson</td><td>7</td></tr><tr><td>3</td><td>Cathy Hwang</td><td>6</td></tr><tr><td>2</td><td>Michelle Lonsdale</td><td>7</td></tr><tr><td>3</td><td>Barry Franz</td><td>6</td></tr><tr><td>2</td><td>Mark Cousins</td><td>6</td></tr><tr><td>2</td><td>Todd Sumrall</td><td>6</td></tr><tr><td>1</td><td>Becky Pak</td><td>7</td></tr><tr><td>2</td><td>Jennifer Braxton</td><td>6</td></tr><tr><td>2</td><td>Monica Federle</td><td>6</td></tr><tr><td>3</td><td>Erica Hernandez</td><td>6</td></tr><tr><td>2</td><td>David Kendrick</td><td>6</td></tr><tr><td>1</td><td>Harry Greene</td><td>6</td></tr><tr><td>1</td><td>Emily Burns</td><td>6</td></tr><tr><td>2</td><td>Lindsay Williams</td><td>6</td></tr><tr><td>1</td><td>Shui Tom</td><td>6</td></tr><tr><td>1</td><td>Arthur Gainer</td><td>5</td></tr><tr><td>2</td><td>Pauline Webber</td><td>6</td></tr><tr><td>3</td><td>Skye Norling</td><td>7</td></tr><tr><td>3</td><td>Darrin Sayre</td><td>6</td></tr><tr><td>1</td><td>Richard Eichhorn</td><td>6</td></tr><tr><td>1</td><td>Astrea Jones</td><td>6</td></tr><tr><td>1</td><td>Toby Swindell</td><td>7</td></tr><tr><td>1</td><td>Darrin Martin</td><td>6</td></tr><tr><td>2</td><td>Grant Thornton</td><td>6</td></tr><tr><td>2</td><td>Cari MacIntyre</td><td>5</td></tr><tr><td>2</td><td>Harold Engle</td><td>6</td></tr><tr><td>1</td><td>Peter Bühler</td><td>5</td></tr><tr><td>3</td><td>Bill Eplett</td><td>6</td></tr><tr><td>1</td><td>Guy Thornton</td><td>7</td></tr><tr><td>3</td><td>Rick Bensley</td><td>6</td></tr><tr><td>2</td><td>Scott Cohen</td><td>6</td></tr><tr><td>3</td><td>Nora Pelletier</td><td>6</td></tr><tr><td>3</td><td>Roy Skaria</td><td>6</td></tr><tr><td>2</td><td>Anthony O'Donnell</td><td>7</td></tr><tr><td>1</td><td>Stuart Calhoun</td><td>6</td></tr><tr><td>1</td><td>Sandra Flanagan</td><td>6</td></tr><tr><td>2</td><td>Andrew Gjertsen</td><td>7</td></tr><tr><td>2</td><td>Helen Wasserman</td><td>6</td></tr><tr><td>3</td><td>Maureen Gastineau</td><td>6</td></tr><tr><td>2</td><td>Thea Hudgings</td><td>7</td></tr><tr><td>2</td><td>Greg Guthrie</td><td>6</td></tr><tr><td>1</td><td>Michael Chen</td><td>6</td></tr><tr><td>1</td><td>Tony Sayre</td><td>6</td></tr><tr><td>1</td><td>Philip Fox</td><td>6</td></tr><tr><td>3</td><td>Pauline Chand</td><td>6</td></tr><tr><td>3</td><td>Tony Chapman</td><td>7</td></tr><tr><td>3</td><td>Frank Carlisle</td><td>6</td></tr><tr><td>1</td><td>Evan Henry</td><td>6</td></tr><tr><td>1</td><td>Craig Reiter</td><td>6</td></tr><tr><td>1</td><td>Anne McFarland</td><td>7</td></tr><tr><td>3</td><td>Joel Jenkins</td><td>6</td></tr><tr><td>2</td><td>Aleksandra Gannaway</td><td>6</td></tr><tr><td>2</td><td>Elizabeth Moffitt</td><td>7</td></tr><tr><td>1</td><td>Don Weiss</td><td>7</td></tr><tr><td>1</td><td>Mick Crebagga</td><td>5</td></tr><tr><td>1</td><td>Steven Cartwright</td><td>6</td></tr><tr><td>2</td><td>Victoria Pisteka</td><td>6</td></tr><tr><td>1</td><td>Christopher Conant</td><td>6</td></tr><tr><td>1</td><td>Frank Olsen</td><td>6</td></tr><tr><td>1</td><td>Dianna Vittorini</td><td>6</td></tr><tr><td>1</td><td>Barry Gonzalez</td><td>5</td></tr><tr><td>1</td><td>Jennifer Halladay</td><td>7</td></tr><tr><td>2</td><td>Andy Yotov</td><td>6</td></tr><tr><td>1</td><td>John Huston</td><td>6</td></tr><tr><td>2</td><td>Victoria Wilson</td><td>6</td></tr><tr><td>2</td><td>Stephanie Phelps</td><td>6</td></tr><tr><td>2</td><td>Luke Schmidt</td><td>5</td></tr><tr><td>1</td><td>Mick Brown</td><td>6</td></tr><tr><td>1</td><td>Cynthia Arntzen</td><td>6</td></tr><tr><td>2</td><td>Thomas Boland</td><td>6</td></tr><tr><td>1</td><td>Troy Staebel</td><td>6</td></tr><tr><td>1</td><td>Jack Lebron</td><td>7</td></tr><tr><td>3</td><td>Ben Ferrer</td><td>6</td></tr><tr><td>2</td><td>Ricardo Sperren</td><td>7</td></tr><tr><td>1</td><td>Bobby Trafton</td><td>6</td></tr><tr><td>1</td><td>George Ashbrook</td><td>6</td></tr><tr><td>1</td><td>Ralph Ritter</td><td>6</td></tr><tr><td>1</td><td>Toby Ritter</td><td>6</td></tr><tr><td>1</td><td>Andrew Roberts</td><td>6</td></tr><tr><td>1</td><td>Jeremy Farry</td><td>6</td></tr><tr><td>3</td><td>Paul Prost</td><td>6</td></tr><tr><td>1</td><td>Kean Thornton</td><td>6</td></tr><tr><td>3</td><td>Adrian Hane</td><td>6</td></tr><tr><td>2</td><td>Harry Marie</td><td>6</td></tr><tr><td>3</td><td>Frank Gastineau</td><td>7</td></tr><tr><td>2</td><td>Tom Zandusky</td><td>6</td></tr><tr><td>2</td><td>Dionis Lloyd</td><td>6</td></tr><tr><td>2</td><td>Robert Barroso</td><td>6</td></tr><tr><td>2</td><td>Ken Brennan</td><td>7</td></tr><tr><td>3</td><td>Benjamin Farhat</td><td>5</td></tr><tr><td>3</td><td>Michelle Tran</td><td>6</td></tr><tr><td>1</td><td>Eugene Barchas</td><td>6</td></tr><tr><td>1</td><td>Luke Weiss</td><td>7</td></tr><tr><td>2</td><td>Sean Braxton</td><td>5</td></tr><tr><td>1</td><td>Sally Knutson</td><td>6</td></tr><tr><td>3</td><td>Brad Eason</td><td>6</td></tr><tr><td>2</td><td>Steven Ward</td><td>7</td></tr><tr><td>2</td><td>Matthew Clasen</td><td>6</td></tr><tr><td>2</td><td>Fred Wasserman</td><td>6</td></tr><tr><td>1</td><td>Scot Wooten</td><td>6</td></tr><tr><td>1</td><td>Pete Kriz</td><td>6</td></tr><tr><td>2</td><td>Adam Hart</td><td>7</td></tr><tr><td>2</td><td>Randy Ferguson</td><td>7</td></tr><tr><td>2</td><td>Tim Taslimi</td><td>6</td></tr><tr><td>3</td><td>Roger Barcio</td><td>7</td></tr><tr><td>1</td><td>Robert Waldorf</td><td>6</td></tr><tr><td>2</td><td>Bill Stewart</td><td>6</td></tr><tr><td>1</td><td>John Castell</td><td>6</td></tr><tr><td>3</td><td>Neil Knudson</td><td>5</td></tr><tr><td>1</td><td>Berenike Kampe</td><td>6</td></tr><tr><td>2</td><td>Craig Yedwab</td><td>6</td></tr><tr><td>1</td><td>Ralph Arnett</td><td>7</td></tr><tr><td>1</td><td>Mike Vittorini</td><td>6</td></tr><tr><td>1</td><td>Rob Lucas</td><td>6</td></tr><tr><td>1</td><td>Rose O'Brian</td><td>6</td></tr><tr><td>1</td><td>Pete Takahito</td><td>6</td></tr><tr><td>2</td><td>Erin Ashbrook</td><td>5</td></tr><tr><td>1</td><td>Jeremy Ellison</td><td>6</td></tr><tr><td>1</td><td>Julia Dunbar</td><td>6</td></tr><tr><td>2</td><td>George Zrebassa</td><td>7</td></tr><tr><td>1</td><td>Russell D'Ascenzo</td><td>6</td></tr><tr><td>1</td><td>Erica Smith</td><td>7</td></tr><tr><td>1</td><td>Roy Collins</td><td>5</td></tr><tr><td>1</td><td>Patrick O'Donnell</td><td>7</td></tr></tbody></table></div>"
      ]
     },
     "metadata": {
      "application/vnd.databricks.v1+output": {
       "addedWidgets": {},
       "aggData": [],
       "aggError": "",
       "aggOverflow": false,
       "aggSchema": [],
       "aggSeriesLimitReached": false,
       "aggType": "",
       "arguments": {},
       "columnCustomDisplayInfos": {},
       "data": [
        [
         2,
         "Eudokia Martin",
         7
        ],
        [
         3,
         "Tom Ashbrook",
         6
        ],
        [
         3,
         "Christopher Schild",
         6
        ],
        [
         2,
         "Odella Nelson",
         6
        ],
        [
         1,
         "Jim Karlsson",
         7
        ],
        [
         3,
         "Kristina Nunn",
         6
        ],
        [
         1,
         "Michelle Huthwaite",
         7
        ],
        [
         1,
         "Nathan Cano",
         6
        ],
        [
         1,
         "Denny Blanton",
         5
        ],
        [
         2,
         "Benjamin Venier",
         5
        ],
        [
         2,
         "Dorothy Wardle",
         6
        ],
        [
         1,
         "Hunter Lopez",
         6
        ],
        [
         1,
         "Tony Molinari",
         6
        ],
        [
         1,
         "Anna Gayman",
         6
        ],
        [
         1,
         "Carlos Soltero",
         7
        ],
        [
         2,
         "Muhammed MacIntyre",
         6
        ],
        [
         2,
         "Justin Deggeller",
         6
        ],
        [
         1,
         "Maribeth Dona",
         7
        ],
        [
         1,
         "William Brown",
         6
        ],
        [
         2,
         "Hilary Holden",
         6
        ],
        [
         1,
         "Darren Koutras",
         5
        ],
        [
         2,
         "Brenda Bowman",
         6
        ],
        [
         1,
         "Benjamin Patterson",
         6
        ],
        [
         1,
         "John Lee",
         6
        ],
        [
         2,
         "Dorris liebe",
         6
        ],
        [
         2,
         "Michael Kennedy",
         7
        ],
        [
         1,
         "Jas O'Carroll",
         5
        ],
        [
         2,
         "Anthony Rawles",
         6
        ],
        [
         1,
         "Brian Dahlen",
         6
        ],
        [
         3,
         "Paul Stevenson",
         6
        ],
        [
         2,
         "Ken Heidel",
         6
        ],
        [
         1,
         "Greg Matthias",
         6
        ],
        [
         2,
         "Fred Chung",
         6
        ],
        [
         1,
         "Eva Jacobs",
         6
        ],
        [
         2,
         "Bill Shonely",
         6
        ],
        [
         1,
         "Jasper Cacioppo",
         6
        ],
        [
         1,
         "Meg Tillman",
         6
        ],
        [
         2,
         "Suzanne McNair",
         6
        ],
        [
         1,
         "Roland Murray",
         6
        ],
        [
         2,
         "Brendan Murry",
         6
        ],
        [
         2,
         "Dan Reichenbach",
         6
        ],
        [
         2,
         "Bill Tyler",
         6
        ],
        [
         1,
         "Stewart Visinsky",
         6
        ],
        [
         2,
         "Dario Medina",
         7
        ],
        [
         1,
         "Allen Goldenen",
         6
        ],
        [
         1,
         "Beth Paige",
         6
        ],
        [
         2,
         "Ed Braxton",
         6
        ],
        [
         3,
         "Karen Ferguson",
         6
        ],
        [
         1,
         "Scott Williamson",
         7
        ],
        [
         3,
         "Deborah Brumfield",
         6
        ],
        [
         3,
         "Cynthia Delaney",
         6
        ],
        [
         1,
         "Joseph Airdo",
         6
        ],
        [
         1,
         "Thomas Thornton",
         6
        ],
        [
         1,
         "Matt Collins",
         6
        ],
        [
         1,
         "Bruce Degenhardt",
         6
        ],
        [
         3,
         "Harold Pawlan",
         6
        ],
        [
         1,
         "Chloris Kastensmidt",
         6
        ],
        [
         3,
         "Brendan Dodson",
         6
        ],
        [
         1,
         "Andy Reiter",
         6
        ],
        [
         1,
         "Dave Kipp",
         6
        ],
        [
         2,
         "Tracy Poddar",
         6
        ],
        [
         1,
         "Jill Matthias",
         6
        ],
        [
         1,
         "Maria Bertelson",
         6
        ],
        [
         1,
         "Katherine Ducich",
         6
        ],
        [
         1,
         "Christopher Martinez",
         6
        ],
        [
         1,
         "Joseph Holt",
         6
        ],
        [
         1,
         "Helen Abelman",
         6
        ],
        [
         3,
         "Ross DeVincentis",
         6
        ],
        [
         2,
         "Jonathan Doherty",
         7
        ],
        [
         1,
         "Ionia McGrath",
         6
        ],
        [
         3,
         "Jim Kriz",
         6
        ],
        [
         1,
         "Joni Blumstein",
         6
        ],
        [
         1,
         "Shahid Collister",
         6
        ],
        [
         1,
         "Joe Elijah",
         6
        ],
        [
         2,
         "Maribeth Yedwab",
         6
        ],
        [
         1,
         "Michael Oakman",
         6
        ],
        [
         1,
         "Anna Chung",
         6
        ],
        [
         3,
         "Michael Grace",
         5
        ],
        [
         3,
         "Robert Dilbeck",
         7
        ],
        [
         2,
         "Aaron Hawkins",
         6
        ],
        [
         2,
         "Jane Waco",
         6
        ],
        [
         1,
         "James Galang",
         6
        ],
        [
         2,
         "Giulietta Dortch",
         6
        ],
        [
         3,
         "Eileen Kiefer",
         6
        ],
        [
         1,
         "Tamara Dahlen",
         7
        ],
        [
         3,
         "Nathan Mautz",
         7
        ],
        [
         1,
         "Jack Garza",
         6
        ],
        [
         1,
         "John Lucas",
         6
        ],
        [
         3,
         "Harold Dahlen",
         6
        ],
        [
         1,
         "Bryan Mills",
         6
        ],
        [
         1,
         "Joe Kamberova",
         6
        ],
        [
         2,
         "Susan Gilcrest",
         6
        ],
        [
         2,
         "Karen Carlisle",
         6
        ],
        [
         3,
         "Philisse Overcash",
         7
        ],
        [
         1,
         "Janet Martin",
         6
        ],
        [
         1,
         "Erin Creighton",
         6
        ],
        [
         3,
         "Sharelle Roach",
         7
        ],
        [
         1,
         "Lisa DeCherney",
         7
        ],
        [
         2,
         "Stefanie Holloman",
         5
        ],
        [
         1,
         "Emily Phan",
         6
        ],
        [
         2,
         "Christine Abelman",
         6
        ],
        [
         1,
         "Brian DeCherney",
         6
        ],
        [
         2,
         "Mitch Willingham",
         6
        ],
        [
         2,
         "Phillip Breyer",
         6
        ],
        [
         1,
         "Keith Herrera",
         6
        ],
        [
         2,
         "Jason Klamczynski",
         5
        ],
        [
         2,
         "Deirdre Greer",
         6
        ],
        [
         1,
         "Sung Shariari",
         6
        ],
        [
         3,
         "Dianna Arnett",
         6
        ],
        [
         1,
         "Nick Radford",
         6
        ],
        [
         1,
         "Eric Murdock",
         7
        ],
        [
         3,
         "Tanja Norvell",
         5
        ],
        [
         1,
         "John Dryer",
         6
        ],
        [
         1,
         "Liz Pelletier",
         6
        ],
        [
         2,
         "Barry Blumstein",
         6
        ],
        [
         2,
         "Damala Kotsonis",
         6
        ],
        [
         3,
         "Phillina Ober",
         7
        ],
        [
         1,
         "Joy Daniels",
         6
        ],
        [
         2,
         "John Grady",
         6
        ],
        [
         1,
         "Denise Leinenbach",
         7
        ],
        [
         1,
         "Bradley Nguyen",
         6
        ],
        [
         2,
         "Nat Gilpin",
         7
        ],
        [
         3,
         "Maria Zettner",
         6
        ],
        [
         1,
         "Chris Cortes",
         7
        ],
        [
         3,
         "Marc Harrigan",
         5
        ],
        [
         2,
         "Guy Phonely",
         6
        ],
        [
         1,
         "Philip Brown",
         6
        ],
        [
         1,
         "Becky Martin",
         6
        ],
        [
         2,
         "Alex Russell",
         6
        ],
        [
         1,
         "Michelle Moray",
         6
        ],
        [
         2,
         "Ken Dana",
         5
        ],
        [
         1,
         "Dean Braden",
         6
        ],
        [
         1,
         "Bryan Davis",
         6
        ],
        [
         1,
         "Helen Andreada",
         6
        ],
        [
         1,
         "Cindy Stewart",
         6
        ],
        [
         2,
         "Justin Ellison",
         6
        ],
        [
         3,
         "Matt Abelman",
         6
        ],
        [
         3,
         "Michael Granlund",
         5
        ],
        [
         1,
         "Giulietta Baptist",
         6
        ],
        [
         3,
         "Craig Leslie",
         6
        ],
        [
         1,
         "Sanjit Chand",
         6
        ],
        [
         3,
         "Dennis Bolton",
         5
        ],
        [
         2,
         "Dorothy Badders",
         6
        ],
        [
         3,
         "Adam Bellavance",
         6
        ],
        [
         3,
         "Alyssa Tate",
         6
        ],
        [
         2,
         "Brian Moss",
         7
        ],
        [
         1,
         "Sue Ann Reed",
         7
        ],
        [
         1,
         "Dennis Kane",
         7
        ],
        [
         1,
         "Kelly Williams",
         6
        ],
        [
         3,
         "Lindsay Shagiari",
         7
        ],
        [
         2,
         "Nicole Hansen",
         7
        ],
        [
         2,
         "Kean Nguyen",
         6
        ],
        [
         1,
         "Brosina Hoffman",
         6
        ],
        [
         1,
         "Chuck Magee",
         6
        ],
        [
         2,
         "Maureen Fritzler",
         6
        ],
        [
         1,
         "Nathan Gelder",
         7
        ],
        [
         2,
         "David Smith",
         6
        ],
        [
         1,
         "Sarah Brown",
         6
        ],
        [
         2,
         "Elpida Rittenbach",
         6
        ],
        [
         2,
         "Jim Mitchum",
         7
        ],
        [
         1,
         "Jamie Frazer",
         6
        ],
        [
         1,
         "Jocasta Rupert",
         6
        ],
        [
         1,
         "Alex Avila",
         6
        ],
        [
         1,
         "Jason Fortune-",
         7
        ],
        [
         1,
         "Greg Hansen",
         7
        ],
        [
         1,
         "Henia Zydlo",
         6
        ],
        [
         2,
         "Alan Haines",
         7
        ],
        [
         3,
         "Valerie Mitchum",
         6
        ],
        [
         2,
         "Mary Zewe",
         7
        ],
        [
         2,
         "Kristen Hastings",
         7
        ],
        [
         1,
         "Tom Prescott",
         6
        ],
        [
         2,
         "Barry Pond",
         6
        ],
        [
         2,
         "Jack O'Briant",
         6
        ],
        [
         1,
         "Bill Donatelli",
         6
        ],
        [
         1,
         "Gary Zandusky",
         7
        ],
        [
         3,
         "Meg O'Connel",
         6
        ],
        [
         1,
         "Duane Benoit",
         6
        ],
        [
         2,
         "Beth Fritzler",
         6
        ],
        [
         1,
         "Hunter Glantz",
         6
        ],
        [
         3,
         "Becky Castell",
         6
        ],
        [
         3,
         "Sean Miller",
         6
        ],
        [
         1,
         "Maureen Gnade",
         6
        ],
        [
         2,
         "Alejandro Savely",
         6
        ],
        [
         2,
         "Sibella Parks",
         5
        ],
        [
         2,
         "Stefania Perrino",
         6
        ],
        [
         1,
         "Roy Französisch",
         6
        ],
        [
         1,
         "Frank Preis",
         6
        ],
        [
         3,
         "Stephanie Ulpright",
         6
        ],
        [
         1,
         "Patrick Ryan",
         7
        ],
        [
         1,
         "Erin Mull",
         7
        ],
        [
         2,
         "Cyma Kinney",
         6
        ],
        [
         2,
         "Andy Gerbode",
         6
        ],
        [
         1,
         "Angele Hood",
         6
        ],
        [
         2,
         "Lela Donovan",
         6
        ],
        [
         1,
         "Barry Weirich",
         6
        ],
        [
         1,
         "Ricardo Emerson",
         6
        ],
        [
         3,
         "Tamara Willingham",
         6
        ],
        [
         1,
         "Patrick O'Brill",
         6
        ],
        [
         2,
         "Charles Sheldon",
         6
        ],
        [
         3,
         "Mick Hernandez",
         6
        ],
        [
         2,
         "Denise Monton",
         6
        ],
        [
         1,
         "Denny Ordway",
         6
        ],
        [
         2,
         "Matt Connell",
         6
        ],
        [
         1,
         "Pierre Wener",
         6
        ],
        [
         2,
         "Maya Herman",
         6
        ],
        [
         2,
         "Bart Pistole",
         6
        ],
        [
         1,
         "Neola Schneider",
         6
        ],
        [
         1,
         "Neoma Murray",
         5
        ],
        [
         1,
         "Larry Tron",
         7
        ],
        [
         1,
         "Russell Applegate",
         6
        ],
        [
         1,
         "Maribeth Schnelling",
         6
        ],
        [
         1,
         "John Stevenson",
         6
        ],
        [
         2,
         "Don Jones",
         7
        ],
        [
         2,
         "Aaron Smayling",
         6
        ],
        [
         1,
         "Juliana Krohn",
         7
        ],
        [
         1,
         "Janet Lee",
         6
        ],
        [
         1,
         "Liz MacKendrick",
         6
        ],
        [
         1,
         "Alex Grayson",
         6
        ],
        [
         1,
         "Troy Blackwell",
         6
        ],
        [
         1,
         "Bruce Stewart",
         6
        ],
        [
         1,
         "Shaun Weien",
         6
        ],
        [
         2,
         "Shaun Chance",
         6
        ],
        [
         3,
         "Daniel Byrd",
         7
        ],
        [
         1,
         "Henry MacAllister",
         6
        ],
        [
         3,
         "Max Ludwig",
         7
        ],
        [
         1,
         "Andrew Allen",
         7
        ],
        [
         1,
         "Tim Brockman",
         6
        ],
        [
         1,
         "Ryan Crowe",
         6
        ],
        [
         1,
         "Michael Nguyen",
         6
        ],
        [
         3,
         "Nick Zandusky",
         5
        ],
        [
         3,
         "Sample Company A",
         6
        ],
        [
         3,
         "Steve Nguyen",
         6
        ],
        [
         1,
         "Sarah Jordon",
         7
        ],
        [
         1,
         "Khloe Miller",
         6
        ],
        [
         3,
         "Sanjit Jacobs",
         7
        ],
        [
         3,
         "Mathew Reese",
         6
        ],
        [
         2,
         "Frank Atkinson",
         6
        ],
        [
         2,
         "Rick Reed",
         6
        ],
        [
         2,
         "Nicole Brennan",
         7
        ],
        [
         1,
         "Trudy Schmidt",
         6
        ],
        [
         3,
         "Bradley Talbott",
         7
        ],
        [
         1,
         "Christina Anderson",
         6
        ],
        [
         1,
         "Sonia Cooley",
         5
        ],
        [
         1,
         "Gary Hwang",
         7
        ],
        [
         1,
         "Toby Gnade",
         7
        ],
        [
         1,
         "Jim Radford",
         6
        ],
        [
         2,
         "Mike Caudle",
         6
        ],
        [
         3,
         "Cathy Armstrong",
         6
        ],
        [
         3,
         "Chuck Clark",
         6
        ],
        [
         1,
         "Natalie Webber",
         7
        ],
        [
         2,
         "Sung Pak",
         5
        ],
        [
         1,
         "Liz Willingham",
         6
        ],
        [
         1,
         "Maurice Satty",
         6
        ],
        [
         1,
         "Liz Preis",
         7
        ],
        [
         1,
         "Sandra Glassco",
         7
        ],
        [
         1,
         "Sam Craven",
         6
        ],
        [
         1,
         "Duane Noonan",
         7
        ],
        [
         2,
         "Candace McMahon",
         6
        ],
        [
         2,
         "Noel Staavos",
         6
        ],
        [
         1,
         "Dorothy Dickinson",
         6
        ],
        [
         1,
         "Justin MacKendrick",
         6
        ],
        [
         2,
         "Dean Katz",
         6
        ],
        [
         1,
         "Shahid Hopkins",
         7
        ],
        [
         3,
         "Brad Thomas",
         6
        ],
        [
         2,
         "Frank Hawley",
         6
        ],
        [
         1,
         "Fred McMath",
         6
        ],
        [
         2,
         "Matt Hagelstein",
         7
        ],
        [
         1,
         "Natalie DeCherney",
         6
        ],
        [
         1,
         "Roland Fjeld",
         5
        ],
        [
         3,
         "Katherine Murray",
         7
        ],
        [
         3,
         "Peter McVee",
         6
        ],
        [
         3,
         "Paul Knutson",
         5
        ],
        [
         2,
         "Ann Chong",
         6
        ],
        [
         1,
         "John Murray",
         7
        ],
        [
         2,
         "Jim Sink",
         6
        ],
        [
         2,
         "Edward Hooks",
         6
        ],
        [
         2,
         "Katherine Nockton",
         6
        ],
        [
         3,
         "Alejandro Ballentine",
         7
        ],
        [
         2,
         "Filia McAdams",
         6
        ],
        [
         1,
         "Jeremy Pistek",
         7
        ],
        [
         1,
         "Sean Christensen",
         6
        ],
        [
         2,
         "Vivek Grady",
         6
        ],
        [
         3,
         "Heather Jas",
         6
        ],
        [
         2,
         "Kelly Lampkin",
         6
        ],
        [
         2,
         "Thomas Seio",
         6
        ],
        [
         1,
         "Max Engle",
         7
        ],
        [
         3,
         "Corey Roper",
         7
        ],
        [
         1,
         "Lynn Smith",
         6
        ],
        [
         1,
         "Eric Hoffmann",
         7
        ],
        [
         2,
         "Bart Watters",
         7
        ],
        [
         1,
         "Michael Moore",
         6
        ],
        [
         2,
         "Barbara Fisher",
         6
        ],
        [
         3,
         "Shirley Daniels",
         6
        ],
        [
         1,
         "Dave Brooks",
         6
        ],
        [
         2,
         "Tamara Chand",
         6
        ],
        [
         2,
         "Michelle Ellison",
         5
        ],
        [
         3,
         "Carl Weiss",
         6
        ],
        [
         2,
         "Allen Rosenblatt",
         6
        ],
        [
         2,
         "Kimberly Carter",
         6
        ],
        [
         1,
         "Evan Bailliet",
         6
        ],
        [
         3,
         "Anne Pryor",
         6
        ],
        [
         1,
         "Fred Harton",
         6
        ],
        [
         2,
         "Ann Blume",
         6
        ],
        [
         3,
         "Parhena Norris",
         6
        ],
        [
         1,
         "Anthony Witt",
         5
        ],
        [
         2,
         "Anthony Jacobs",
         7
        ],
        [
         3,
         "Shirley Schmidt",
         6
        ],
        [
         1,
         "Bruce Geld",
         6
        ],
        [
         1,
         "Adam Shillingsburg",
         5
        ],
        [
         3,
         "Joni Sundaresam",
         7
        ],
        [
         1,
         "Rob Dowd",
         6
        ],
        [
         2,
         "Rob Williams",
         6
        ],
        [
         1,
         "Anemone Ratner",
         6
        ],
        [
         1,
         "Jennifer Ferguson",
         6
        ],
        [
         1,
         "Peter Fuller",
         7
        ],
        [
         1,
         "Clytie Kelty",
         6
        ],
        [
         1,
         "Ivan Liston",
         6
        ],
        [
         1,
         "Jessica Myrick",
         6
        ],
        [
         3,
         "Nicole Fjeld",
         6
        ],
        [
         1,
         "Guy Armstrong",
         5
        ],
        [
         2,
         "Cari Sayre",
         6
        ],
        [
         2,
         "Alice McCarthy",
         6
        ],
        [
         1,
         "Annie Thurman",
         6
        ],
        [
         1,
         "Susan Vittorini",
         6
        ],
        [
         1,
         "Pauline Johnson",
         6
        ],
        [
         1,
         "Allen Armold",
         7
        ],
        [
         2,
         "Victoria Brennan",
         6
        ],
        [
         3,
         "Maria Etezadi",
         6
        ],
        [
         1,
         "Ken Lonsdale",
         6
        ],
        [
         1,
         "Ted Trevino",
         5
        ],
        [
         2,
         "Mitch Gastineau",
         7
        ],
        [
         2,
         "Christine Phan",
         6
        ],
        [
         1,
         "Sonia Sunley",
         6
        ],
        [
         1,
         "Mark Van Huff",
         6
        ],
        [
         1,
         "Jenna Caffey",
         6
        ],
        [
         1,
         "Ben Wallace",
         6
        ],
        [
         1,
         "Justin Hirsh",
         7
        ],
        [
         1,
         "Tracy Blumstein",
         6
        ],
        [
         3,
         "Paul Lucas",
         6
        ],
        [
         3,
         "Hallie Redmond",
         7
        ],
        [
         2,
         "David Wiener",
         6
        ],
        [
         1,
         "Mitch Webber",
         6
        ],
        [
         1,
         "Jay Fein",
         6
        ],
        [
         3,
         "Penelope Sewall",
         6
        ],
        [
         2,
         "Rick Wilson",
         6
        ],
        [
         1,
         "Karl Braun",
         6
        ],
        [
         1,
         "Jill Fjeld",
         6
        ],
        [
         3,
         "Arthur Wiediger",
         6
        ],
        [
         1,
         "Mike Kennedy",
         7
        ],
        [
         1,
         "Larry Blacks",
         7
        ],
        [
         3,
         "Lindsay Castell",
         6
        ],
        [
         1,
         "Trudy Glocke",
         7
        ],
        [
         1,
         "Jennifer Jackson",
         6
        ],
        [
         3,
         "Neil Französisch",
         7
        ],
        [
         1,
         "Pamela Stobb",
         6
        ],
        [
         2,
         "Erin Smith",
         6
        ],
        [
         1,
         "Liz Thompson",
         6
        ],
        [
         2,
         "Carol Adams",
         6
        ],
        [
         2,
         "Sylvia Foulston",
         6
        ],
        [
         1,
         "Lisa Hazard",
         6
        ],
        [
         1,
         "Rick Hansen",
         6
        ],
        [
         1,
         "Ed Jacobs",
         6
        ],
        [
         1,
         "Ralph Kennedy",
         6
        ],
        [
         2,
         "Erica Bern",
         6
        ],
        [
         1,
         "Jonathan Howell",
         7
        ],
        [
         2,
         "Kalyca Meade",
         6
        ],
        [
         1,
         "Susan MacKendrick",
         6
        ],
        [
         1,
         "Sanjit Engle",
         6
        ],
        [
         3,
         "Michelle Arnett",
         7
        ],
        [
         1,
         "Max Jones",
         6
        ],
        [
         1,
         "Dan Campbell",
         7
        ],
        [
         3,
         "Valerie Takahito",
         6
        ],
        [
         1,
         "Katherine Hughes",
         6
        ],
        [
         3,
         "Gary Mitchum",
         6
        ],
        [
         2,
         "Edward Becker",
         6
        ],
        [
         1,
         "Charles McCrossin",
         6
        ],
        [
         1,
         "Doug Bickford",
         6
        ],
        [
         2,
         "Yana Sorensen",
         6
        ],
        [
         3,
         "Daniel Raglin",
         6
        ],
        [
         1,
         "Naresj Patel",
         7
        ],
        [
         3,
         "Alan Dominguez",
         6
        ],
        [
         2,
         "Don Miller",
         7
        ],
        [
         1,
         "Vivek Gonzalez",
         6
        ],
        [
         1,
         "Toby Braunhardt",
         7
        ],
        [
         3,
         "Robert Marley",
         7
        ],
        [
         2,
         "Heather Kirkland",
         7
        ],
        [
         1,
         "Maris LaWare",
         5
        ],
        [
         2,
         "Rachel Payne",
         6
        ],
        [
         1,
         "Ryan Akin",
         6
        ],
        [
         1,
         "Debra Catini",
         6
        ],
        [
         1,
         "Tracy Zic",
         6
        ],
        [
         1,
         "Ashley Jarboe",
         6
        ],
        [
         1,
         "Lena Cacioppo",
         6
        ],
        [
         2,
         "Steve Chapman",
         6
        ],
        [
         1,
         "Corey-Lock",
         6
        ],
        [
         2,
         "Muhammed Yedwab",
         6
        ],
        [
         1,
         "Natalie Fritzler",
         7
        ],
        [
         1,
         "Joni Wasserman",
         6
        ],
        [
         1,
         "Ritsa Hightower",
         6
        ],
        [
         2,
         "Dave Hallsten",
         6
        ],
        [
         3,
         "Evan Minnotte",
         6
        ],
        [
         3,
         "Cyra Reiten",
         6
        ],
        [
         2,
         "Cathy Prescott",
         7
        ],
        [
         3,
         "Victor Preis",
         6
        ],
        [
         3,
         "Tonja Turnell",
         6
        ],
        [
         1,
         "Kunst Miller",
         5
        ],
        [
         1,
         "Jay Kimmel",
         6
        ],
        [
         1,
         "Alejandro Grove",
         7
        ],
        [
         1,
         "Patrick Gardner",
         6
        ],
        [
         1,
         "Magdelene Morse",
         7
        ],
        [
         2,
         "Fred Hopkins",
         6
        ],
        [
         3,
         "Chad Cunningham",
         6
        ],
        [
         1,
         "Nat Carroll",
         7
        ],
        [
         1,
         "Carlos Meador",
         6
        ],
        [
         1,
         "Cari Schnelling",
         6
        ],
        [
         1,
         "Randy Bradley",
         6
        ],
        [
         1,
         "Seth Vernon",
         6
        ],
        [
         2,
         "Nona Balk",
         6
        ],
        [
         1,
         "Brian Stugart",
         6
        ],
        [
         2,
         "Cindy Schnelling",
         6
        ],
        [
         1,
         "Olvera Toch",
         6
        ],
        [
         1,
         "Carol Triggs",
         5
        ],
        [
         2,
         "Bill Overfelt",
         6
        ],
        [
         3,
         "Ross Baird",
         6
        ],
        [
         1,
         "Toby Carlisle",
         7
        ],
        [
         1,
         "Larry Hughes",
         6
        ],
        [
         1,
         "Kean Takahito",
         7
        ],
        [
         1,
         "Bobby Odegard",
         6
        ],
        [
         1,
         "Theone Pippenger",
         6
        ],
        [
         2,
         "Grace Kelly",
         6
        ],
        [
         1,
         "Logan Haushalter",
         7
        ],
        [
         1,
         "Paul Gonzalez",
         6
        ],
        [
         1,
         "Maxwell Schwartz",
         6
        ],
        [
         1,
         "Sheri Gordon",
         6
        ],
        [
         2,
         "Alan Schoenberger",
         7
        ],
        [
         3,
         "Eugene Hildebrand",
         6
        ],
        [
         1,
         "Vivek Sundaresam",
         6
        ],
        [
         1,
         "Muhammed Lee",
         6
        ],
        [
         2,
         "Ken Black",
         5
        ],
        [
         1,
         "Lena Creighton",
         7
        ],
        [
         2,
         "Darren Budd",
         5
        ],
        [
         2,
         "Tiffany House",
         6
        ],
        [
         3,
         "Steven Roelle",
         6
        ],
        [
         1,
         "Tamara Manning",
         6
        ],
        [
         1,
         "Luke Foster",
         6
        ],
        [
         2,
         "Katrina Edelman",
         6
        ],
        [
         1,
         "Edward Nazzal",
         6
        ],
        [
         1,
         "Thea Hendricks",
         6
        ],
        [
         2,
         "David Bremer",
         6
        ],
        [
         1,
         "Emily Grady",
         6
        ],
        [
         2,
         "Patrick Jones",
         6
        ],
        [
         3,
         "Paul Van Hugh",
         6
        ],
        [
         3,
         "Julie Kriz",
         7
        ],
        [
         1,
         "Sung Chung",
         6
        ],
        [
         1,
         "Xylona Preis",
         6
        ],
        [
         1,
         "Dana Kaydos",
         6
        ],
        [
         1,
         "Thais Sissman",
         7
        ],
        [
         2,
         "Noah Childs",
         6
        ],
        [
         3,
         "Tracy Hopkins",
         7
        ],
        [
         3,
         "Deanra Eno",
         6
        ],
        [
         1,
         "Melanie Seite",
         6
        ],
        [
         2,
         "Brendan Sweed",
         6
        ],
        [
         2,
         "Saphhira Shifley",
         7
        ],
        [
         2,
         "Corey Catlett",
         5
        ],
        [
         3,
         "Jesus Ocampo",
         6
        ],
        [
         3,
         "Sean Wendt",
         6
        ],
        [
         3,
         "Corinna Mitchell",
         6
        ],
        [
         1,
         "Susan Pistek",
         6
        ],
        [
         1,
         "Resi Pölking",
         6
        ],
        [
         2,
         "Jennifer Patt",
         7
        ],
        [
         1,
         "Laurel Elliston",
         5
        ],
        [
         3,
         "Laurel Beltran",
         6
        ],
        [
         2,
         "Linda Southworth",
         7
        ],
        [
         2,
         "Stuart Van",
         7
        ],
        [
         1,
         "Trudy Brown",
         6
        ],
        [
         3,
         "Julie Prescott",
         6
        ],
        [
         2,
         "Brooke Gillingham",
         6
        ],
        [
         3,
         "Mike Pelletier",
         6
        ],
        [
         1,
         "Sarah Bern",
         6
        ],
        [
         1,
         "Dan Lawera",
         7
        ],
        [
         1,
         "Christine Sundaresam",
         6
        ],
        [
         1,
         "Joel Eaton",
         6
        ],
        [
         2,
         "Julie Creighton",
         6
        ],
        [
         3,
         "Sara Luxemburg",
         7
        ],
        [
         2,
         "Claudia Bergmann",
         6
        ],
        [
         2,
         "Stewart Carmichael",
         7
        ],
        [
         1,
         "Liz Carlisle",
         6
        ],
        [
         1,
         "David Philippe",
         6
        ],
        [
         3,
         "Pete Armstrong",
         6
        ],
        [
         2,
         "Michael Dominguez",
         5
        ],
        [
         2,
         "Craig Molinari",
         6
        ],
        [
         2,
         "Karen Seio",
         6
        ],
        [
         2,
         "Harold Ryan",
         6
        ],
        [
         1,
         "Chris McAfee",
         6
        ],
        [
         1,
         "Mark Hamilton",
         6
        ],
        [
         1,
         "Carlos Daly",
         6
        ],
        [
         1,
         "Julia West",
         6
        ],
        [
         1,
         "Lena Radford",
         6
        ],
        [
         1,
         "Giulietta Weimer",
         6
        ],
        [
         1,
         "Clay Ludtke",
         6
        ],
        [
         1,
         "MaryBeth Skach",
         6
        ],
        [
         1,
         "Rick Duston",
         7
        ],
        [
         1,
         "Erica Hackney",
         6
        ],
        [
         1,
         "Daniel Lacy",
         6
        ],
        [
         2,
         "Jill Stevenson",
         7
        ],
        [
         1,
         "Sally Matthias",
         6
        ],
        [
         3,
         "James Lanier",
         6
        ],
        [
         1,
         "Amy Cox",
         7
        ],
        [
         1,
         "Mike Gockenbach",
         6
        ],
        [
         1,
         "Kelly Collister",
         6
        ],
        [
         3,
         "Dean percer",
         7
        ],
        [
         3,
         "Duane Huffman",
         7
        ],
        [
         1,
         "Doug O'Connell",
         7
        ],
        [
         1,
         "Lena Hernandez",
         6
        ],
        [
         1,
         "Carl Ludwig",
         7
        ],
        [
         1,
         "Shahid Shariari",
         7
        ],
        [
         1,
         "Phillip Flathmann",
         6
        ],
        [
         1,
         "Caroline Jumper",
         6
        ],
        [
         1,
         "Adrian Barton",
         7
        ],
        [
         2,
         "Darrin Van Huff",
         6
        ],
        [
         1,
         "David Flashing",
         6
        ],
        [
         2,
         "Yoseph Carroll",
         6
        ],
        [
         1,
         "Ruben Dartt",
         6
        ],
        [
         2,
         "Barry Französisch",
         6
        ],
        [
         1,
         "Alan Barnes",
         7
        ],
        [
         3,
         "Dennis Pardue",
         7
        ],
        [
         2,
         "Michael Stewart",
         6
        ],
        [
         3,
         "Anthony Garverick",
         6
        ],
        [
         3,
         "Ed Ludwig",
         6
        ],
        [
         3,
         "Adrian Shami",
         6
        ],
        [
         2,
         "Marina Lichtenstein",
         6
        ],
        [
         1,
         "Brian Thompson",
         6
        ],
        [
         3,
         "Steve Carroll",
         6
        ],
        [
         3,
         "Patricia Hirasaki",
         6
        ],
        [
         1,
         "Christina DeMoss",
         6
        ],
        [
         1,
         "Darren Powers",
         7
        ],
        [
         1,
         "Arthur Prichep",
         6
        ],
        [
         1,
         "Zuschuss Donatelli",
         6
        ],
        [
         1,
         "Shirley Jackson",
         5
        ],
        [
         1,
         "Katrina Willman",
         5
        ],
        [
         1,
         "Greg Tran",
         6
        ],
        [
         2,
         "Karen Bern",
         6
        ],
        [
         1,
         "Charles Crestani",
         6
        ],
        [
         2,
         "Alyssa Crouse",
         6
        ],
        [
         2,
         "Janet Molinari",
         6
        ],
        [
         1,
         "Chad McGuire",
         6
        ],
        [
         3,
         "Christine Kargatis",
         6
        ],
        [
         2,
         "Cynthia Voltz",
         6
        ],
        [
         1,
         "Gene McClure",
         6
        ],
        [
         2,
         "Michael Paige",
         6
        ],
        [
         1,
         "Carol Darley",
         7
        ],
        [
         2,
         "Roland Schwarz",
         6
        ],
        [
         1,
         "Ted Butterfield",
         6
        ],
        [
         2,
         "George Bell",
         7
        ],
        [
         2,
         "Lori Olson",
         6
        ],
        [
         1,
         "Sarah Foster",
         6
        ],
        [
         1,
         "Alan Shonely",
         6
        ],
        [
         2,
         "Anthony Johnson",
         6
        ],
        [
         1,
         "Sean O'Donnell",
         6
        ],
        [
         1,
         "Chuck Sachs",
         6
        ],
        [
         2,
         "Mark Haberlin",
         7
        ],
        [
         1,
         "Raymond Messe",
         6
        ],
        [
         1,
         "Karen Daniels",
         5
        ],
        [
         3,
         "Gary Hansen",
         6
        ],
        [
         1,
         "Nora Paige",
         6
        ],
        [
         2,
         "Greg Maxwell",
         6
        ],
        [
         1,
         "Aaron Bergman",
         6
        ],
        [
         3,
         "Clay Rozendal",
         6
        ],
        [
         1,
         "Speros Goranitis",
         6
        ],
        [
         3,
         "Dianna Wilson",
         7
        ],
        [
         1,
         "Doug Jacobs",
         6
        ],
        [
         1,
         "Paul MacIntyre",
         6
        ],
        [
         2,
         "Eleni McCrary",
         6
        ],
        [
         1,
         "Anna Andreadi",
         6
        ],
        [
         3,
         "Patrick Bzostek",
         7
        ],
        [
         2,
         "Chris Selesnick",
         6
        ],
        [
         1,
         "Cassandra Brandow",
         5
        ],
        [
         3,
         "Eugene Moren",
         6
        ],
        [
         1,
         "Raymond Buch",
         6
        ],
        [
         3,
         "Rick Huthwaite",
         6
        ],
        [
         1,
         "Claire Gute",
         6
        ],
        [
         3,
         "Frank Merwin",
         6
        ],
        [
         2,
         "Denny Joy",
         6
        ],
        [
         1,
         "Brian Derr",
         6
        ],
        [
         2,
         "Todd Boyes",
         6
        ],
        [
         3,
         "Ann Steele",
         6
        ],
        [
         2,
         "Laurel Workman",
         6
        ],
        [
         1,
         "Ivan Gibson",
         6
        ],
        [
         2,
         "Jason Gross",
         5
        ],
        [
         1,
         "Aimee Bixby",
         5
        ],
        [
         1,
         "Valerie Dominguez",
         6
        ],
        [
         1,
         "Gary McGarr",
         6
        ],
        [
         2,
         "Justin Ritter",
         7
        ],
        [
         2,
         "Pamela Coakley",
         6
        ],
        [
         2,
         "Ruben Ausman",
         7
        ],
        [
         1,
         "Arianne Irving",
         6
        ],
        [
         2,
         "Katharine Harms",
         6
        ],
        [
         1,
         "Bobby Elias",
         6
        ],
        [
         1,
         "Cindy Chapman",
         7
        ],
        [
         1,
         "Rob Beeghly",
         6
        ],
        [
         2,
         "Sally Hughsby",
         6
        ],
        [
         1,
         "Lauren Leatherbury",
         6
        ],
        [
         2,
         "Scot Coram",
         6
        ],
        [
         2,
         "Neil Ducich",
         7
        ],
        [
         1,
         "Jamie Kunitz",
         6
        ],
        [
         1,
         "Nora Preis",
         6
        ],
        [
         2,
         "Ellis Ballard",
         7
        ],
        [
         3,
         "Matthew Grinstein",
         5
        ],
        [
         3,
         "Sam Zeldin",
         6
        ],
        [
         2,
         "Henry Goldwyn",
         7
        ],
        [
         1,
         "Delfina Latchford",
         6
        ],
        [
         3,
         "Vicky Freymann",
         6
        ],
        [
         1,
         "Jeremy Lonsdale",
         6
        ],
        [
         2,
         "Laura Armstrong",
         6
        ],
        [
         1,
         "Richard Bierner",
         6
        ],
        [
         3,
         "Catherine Glotzbach",
         6
        ],
        [
         2,
         "Matt Collister",
         6
        ],
        [
         1,
         "Craig Carreira",
         6
        ],
        [
         3,
         "Mark Packer",
         5
        ],
        [
         2,
         "Lisa Ryan",
         6
        ],
        [
         1,
         "Art Foster",
         6
        ],
        [
         3,
         "Bryan Spruell",
         6
        ],
        [
         1,
         "Kelly Andreada",
         6
        ],
        [
         3,
         "Julia Barnett",
         6
        ],
        [
         1,
         "Tom Boeckenhauer",
         6
        ],
        [
         3,
         "Thomas Brumley",
         6
        ],
        [
         1,
         "Craig Carroll",
         6
        ],
        [
         1,
         "Chad Sievert",
         7
        ],
        [
         1,
         "Roger Demir",
         6
        ],
        [
         1,
         "Logan Currie",
         7
        ],
        [
         1,
         "Joy Bell-",
         6
        ],
        [
         1,
         "Charlotte Melton",
         6
        ],
        [
         1,
         "Clay Cheatham",
         6
        ],
        [
         1,
         "Bart Folk",
         7
        ],
        [
         1,
         "Herbert Flentye",
         6
        ],
        [
         1,
         "Mary O'Rourke",
         6
        ],
        [
         1,
         "Vivian Mathis",
         6
        ],
        [
         1,
         "Christina VanderZanden",
         6
        ],
        [
         2,
         "Theresa Swint",
         6
        ],
        [
         2,
         "Theresa Coyne",
         6
        ],
        [
         1,
         "Alan Hwang",
         6
        ],
        [
         2,
         "Ben Peterman",
         6
        ],
        [
         2,
         "Georgia Rosenberg",
         6
        ],
        [
         3,
         "Nancy Lomonaco",
         6
        ],
        [
         3,
         "Beth Thompson",
         6
        ],
        [
         1,
         "Joy Smith",
         7
        ],
        [
         2,
         "Quincy Jones",
         6
        ],
        [
         2,
         "Roy Phan",
         6
        ],
        [
         2,
         "Linda Cazamias",
         6
        ],
        [
         2,
         "Brad Norvell",
         6
        ],
        [
         2,
         "Tom Stivers",
         6
        ],
        [
         2,
         "Anna Häberlin",
         6
        ],
        [
         3,
         "Katrina Bavinger",
         5
        ],
        [
         2,
         "Dave Poirier",
         6
        ],
        [
         1,
         "Marc Crier",
         6
        ],
        [
         1,
         "Lycoris Saunders",
         6
        ],
        [
         1,
         "Amy Hunt",
         6
        ],
        [
         1,
         "Irene Maddox",
         6
        ],
        [
         1,
         "Annie Zypern",
         7
        ],
        [
         1,
         "Eric Barreto",
         6
        ],
        [
         3,
         "Tracy Collins",
         6
        ],
        [
         1,
         "Christy Brittain",
         6
        ],
        [
         3,
         "Emily Ducich",
         7
        ],
        [
         1,
         "Zuschuss Carroll",
         5
        ],
        [
         2,
         "Nick Crebassa",
         6
        ],
        [
         2,
         "Gene Hale",
         6
        ],
        [
         2,
         "Carl Jackson",
         6
        ],
        [
         2,
         "Jim Epp",
         6
        ],
        [
         2,
         "Keith Dawkins",
         6
        ],
        [
         1,
         "Rob Haberlin",
         7
        ],
        [
         1,
         "Bradley Drucker",
         5
        ],
        [
         1,
         "Art Ferguson",
         7
        ],
        [
         3,
         "Cathy Hwang",
         6
        ],
        [
         2,
         "Michelle Lonsdale",
         7
        ],
        [
         3,
         "Barry Franz",
         6
        ],
        [
         2,
         "Mark Cousins",
         6
        ],
        [
         2,
         "Todd Sumrall",
         6
        ],
        [
         1,
         "Becky Pak",
         7
        ],
        [
         2,
         "Jennifer Braxton",
         6
        ],
        [
         2,
         "Monica Federle",
         6
        ],
        [
         3,
         "Erica Hernandez",
         6
        ],
        [
         2,
         "David Kendrick",
         6
        ],
        [
         1,
         "Harry Greene",
         6
        ],
        [
         1,
         "Emily Burns",
         6
        ],
        [
         2,
         "Lindsay Williams",
         6
        ],
        [
         1,
         "Shui Tom",
         6
        ],
        [
         1,
         "Arthur Gainer",
         5
        ],
        [
         2,
         "Pauline Webber",
         6
        ],
        [
         3,
         "Skye Norling",
         7
        ],
        [
         3,
         "Darrin Sayre",
         6
        ],
        [
         1,
         "Richard Eichhorn",
         6
        ],
        [
         1,
         "Astrea Jones",
         6
        ],
        [
         1,
         "Toby Swindell",
         7
        ],
        [
         1,
         "Darrin Martin",
         6
        ],
        [
         2,
         "Grant Thornton",
         6
        ],
        [
         2,
         "Cari MacIntyre",
         5
        ],
        [
         2,
         "Harold Engle",
         6
        ],
        [
         1,
         "Peter Bühler",
         5
        ],
        [
         3,
         "Bill Eplett",
         6
        ],
        [
         1,
         "Guy Thornton",
         7
        ],
        [
         3,
         "Rick Bensley",
         6
        ],
        [
         2,
         "Scott Cohen",
         6
        ],
        [
         3,
         "Nora Pelletier",
         6
        ],
        [
         3,
         "Roy Skaria",
         6
        ],
        [
         2,
         "Anthony O'Donnell",
         7
        ],
        [
         1,
         "Stuart Calhoun",
         6
        ],
        [
         1,
         "Sandra Flanagan",
         6
        ],
        [
         2,
         "Andrew Gjertsen",
         7
        ],
        [
         2,
         "Helen Wasserman",
         6
        ],
        [
         3,
         "Maureen Gastineau",
         6
        ],
        [
         2,
         "Thea Hudgings",
         7
        ],
        [
         2,
         "Greg Guthrie",
         6
        ],
        [
         1,
         "Michael Chen",
         6
        ],
        [
         1,
         "Tony Sayre",
         6
        ],
        [
         1,
         "Philip Fox",
         6
        ],
        [
         3,
         "Pauline Chand",
         6
        ],
        [
         3,
         "Tony Chapman",
         7
        ],
        [
         3,
         "Frank Carlisle",
         6
        ],
        [
         1,
         "Evan Henry",
         6
        ],
        [
         1,
         "Craig Reiter",
         6
        ],
        [
         1,
         "Anne McFarland",
         7
        ],
        [
         3,
         "Joel Jenkins",
         6
        ],
        [
         2,
         "Aleksandra Gannaway",
         6
        ],
        [
         2,
         "Elizabeth Moffitt",
         7
        ],
        [
         1,
         "Don Weiss",
         7
        ],
        [
         1,
         "Mick Crebagga",
         5
        ],
        [
         1,
         "Steven Cartwright",
         6
        ],
        [
         2,
         "Victoria Pisteka",
         6
        ],
        [
         1,
         "Christopher Conant",
         6
        ],
        [
         1,
         "Frank Olsen",
         6
        ],
        [
         1,
         "Dianna Vittorini",
         6
        ],
        [
         1,
         "Barry Gonzalez",
         5
        ],
        [
         1,
         "Jennifer Halladay",
         7
        ],
        [
         2,
         "Andy Yotov",
         6
        ],
        [
         1,
         "John Huston",
         6
        ],
        [
         2,
         "Victoria Wilson",
         6
        ],
        [
         2,
         "Stephanie Phelps",
         6
        ],
        [
         2,
         "Luke Schmidt",
         5
        ],
        [
         1,
         "Mick Brown",
         6
        ],
        [
         1,
         "Cynthia Arntzen",
         6
        ],
        [
         2,
         "Thomas Boland",
         6
        ],
        [
         1,
         "Troy Staebel",
         6
        ],
        [
         1,
         "Jack Lebron",
         7
        ],
        [
         3,
         "Ben Ferrer",
         6
        ],
        [
         2,
         "Ricardo Sperren",
         7
        ],
        [
         1,
         "Bobby Trafton",
         6
        ],
        [
         1,
         "George Ashbrook",
         6
        ],
        [
         1,
         "Ralph Ritter",
         6
        ],
        [
         1,
         "Toby Ritter",
         6
        ],
        [
         1,
         "Andrew Roberts",
         6
        ],
        [
         1,
         "Jeremy Farry",
         6
        ],
        [
         3,
         "Paul Prost",
         6
        ],
        [
         1,
         "Kean Thornton",
         6
        ],
        [
         3,
         "Adrian Hane",
         6
        ],
        [
         2,
         "Harry Marie",
         6
        ],
        [
         3,
         "Frank Gastineau",
         7
        ],
        [
         2,
         "Tom Zandusky",
         6
        ],
        [
         2,
         "Dionis Lloyd",
         6
        ],
        [
         2,
         "Robert Barroso",
         6
        ],
        [
         2,
         "Ken Brennan",
         7
        ],
        [
         3,
         "Benjamin Farhat",
         5
        ],
        [
         3,
         "Michelle Tran",
         6
        ],
        [
         1,
         "Eugene Barchas",
         6
        ],
        [
         1,
         "Luke Weiss",
         7
        ],
        [
         2,
         "Sean Braxton",
         5
        ],
        [
         1,
         "Sally Knutson",
         6
        ],
        [
         3,
         "Brad Eason",
         6
        ],
        [
         2,
         "Steven Ward",
         7
        ],
        [
         2,
         "Matthew Clasen",
         6
        ],
        [
         2,
         "Fred Wasserman",
         6
        ],
        [
         1,
         "Scot Wooten",
         6
        ],
        [
         1,
         "Pete Kriz",
         6
        ],
        [
         2,
         "Adam Hart",
         7
        ],
        [
         2,
         "Randy Ferguson",
         7
        ],
        [
         2,
         "Tim Taslimi",
         6
        ],
        [
         3,
         "Roger Barcio",
         7
        ],
        [
         1,
         "Robert Waldorf",
         6
        ],
        [
         2,
         "Bill Stewart",
         6
        ],
        [
         1,
         "John Castell",
         6
        ],
        [
         3,
         "Neil Knudson",
         5
        ],
        [
         1,
         "Berenike Kampe",
         6
        ],
        [
         2,
         "Craig Yedwab",
         6
        ],
        [
         1,
         "Ralph Arnett",
         7
        ],
        [
         1,
         "Mike Vittorini",
         6
        ],
        [
         1,
         "Rob Lucas",
         6
        ],
        [
         1,
         "Rose O'Brian",
         6
        ],
        [
         1,
         "Pete Takahito",
         6
        ],
        [
         2,
         "Erin Ashbrook",
         5
        ],
        [
         1,
         "Jeremy Ellison",
         6
        ],
        [
         1,
         "Julia Dunbar",
         6
        ],
        [
         2,
         "George Zrebassa",
         7
        ],
        [
         1,
         "Russell D'Ascenzo",
         6
        ],
        [
         1,
         "Erica Smith",
         7
        ],
        [
         1,
         "Roy Collins",
         5
        ],
        [
         1,
         "Patrick O'Donnell",
         7
        ]
       ],
       "datasetInfos": [],
       "dbfsResultPath": null,
       "isJsonSchema": true,
       "metadata": {},
       "overflow": false,
       "plotOptions": {
        "customPlotOptions": {},
        "displayType": "table",
        "pivotAggregation": null,
        "pivotColumns": null,
        "xColumns": null,
        "yColumns": null
       },
       "removedWidgets": [],
       "schema": [
        {
         "metadata": "{}",
         "name": "Customer_Segment_ID",
         "type": "\"integer\""
        },
        {
         "metadata": "{}",
         "name": "Customer_Name",
         "type": "\"string\""
        },
        {
         "metadata": "{}",
         "name": "count",
         "type": "\"long\""
        }
       ],
       "type": "table"
      }
     },
     "output_type": "display_data"
    }
   ],
   "source": [
    "table = \"company.customer\"\n",
    "columns = \"Customer_ID\"\n",
    "#check some statistics results for all the columns\n",
    "display(spark.table(table).describe())\n",
    "\n",
    "#check if there are duplicates values for the primary key\n",
    "check_duplicates(table, columns)\n",
    "\n",
    "#check if there are duplicates for the content information in the table, first for the \"Customer_Name\"\n",
    "columns = [\"Customer_Name\"]\n",
    "check_duplicates(table, columns)\n",
    "\n",
    "#check if there are duplicates for the content information in the table, second for the \"Customer_Name\" and \"Customer_Segment_ID\" in the same time\n",
    "columns = [\"Customer_Segment_ID\", \"Customer_Name\"]\n",
    "check_duplicates(table, columns)"
   ]
  },
  {
   "cell_type": "markdown",
   "metadata": {
    "application/vnd.databricks.v1+cell": {
     "cellMetadata": {
      "byteLimit": 2048000,
      "rowLimit": 10000
     },
     "inputWidgets": {},
     "nuid": "d039c516-b7bc-4844-857a-51ed4f121b20",
     "showTitle": false,
     "title": ""
    }
   },
   "source": [
    "### 8. Validate the results of dimension table \"Customer_Segment\""
   ]
  },
  {
   "cell_type": "code",
   "execution_count": 0,
   "metadata": {
    "application/vnd.databricks.v1+cell": {
     "cellMetadata": {
      "byteLimit": 2048000,
      "rowLimit": 10000
     },
     "inputWidgets": {},
     "nuid": "6dd26d3d-aaf4-4ed6-8bc5-7c4a75b339a5",
     "showTitle": false,
     "title": ""
    }
   },
   "outputs": [
    {
     "output_type": "display_data",
     "data": {
      "text/html": [
       "<style scoped>\n",
       "  .table-result-container {\n",
       "    max-height: 300px;\n",
       "    overflow: auto;\n",
       "  }\n",
       "  table, th, td {\n",
       "    border: 1px solid black;\n",
       "    border-collapse: collapse;\n",
       "  }\n",
       "  th, td {\n",
       "    padding: 5px;\n",
       "  }\n",
       "  th {\n",
       "    text-align: left;\n",
       "  }\n",
       "</style><div class='table-result-container'><table class='table-result'><thead style='background-color: white'><tr><th>summary</th><th>Customer_Segment_ID</th><th>Segment</th></tr></thead><tbody><tr><td>count</td><td>3</td><td>3</td></tr><tr><td>mean</td><td>2.0</td><td>null</td></tr><tr><td>stddev</td><td>1.0</td><td>null</td></tr><tr><td>min</td><td>1</td><td>Consumer</td></tr><tr><td>max</td><td>3</td><td>Home Office</td></tr></tbody></table></div>"
      ]
     },
     "metadata": {
      "application/vnd.databricks.v1+output": {
       "addedWidgets": {},
       "aggData": [],
       "aggError": "",
       "aggOverflow": false,
       "aggSchema": [],
       "aggSeriesLimitReached": false,
       "aggType": "",
       "arguments": {},
       "columnCustomDisplayInfos": {},
       "data": [
        [
         "count",
         "3",
         "3"
        ],
        [
         "mean",
         "2.0",
         null
        ],
        [
         "stddev",
         "1.0",
         null
        ],
        [
         "min",
         "1",
         "Consumer"
        ],
        [
         "max",
         "3",
         "Home Office"
        ]
       ],
       "datasetInfos": [],
       "dbfsResultPath": null,
       "isJsonSchema": true,
       "metadata": {},
       "overflow": false,
       "plotOptions": {
        "customPlotOptions": {},
        "displayType": "table",
        "pivotAggregation": null,
        "pivotColumns": null,
        "xColumns": null,
        "yColumns": null
       },
       "removedWidgets": [],
       "schema": [
        {
         "metadata": "{}",
         "name": "summary",
         "type": "\"string\""
        },
        {
         "metadata": "{}",
         "name": "Customer_Segment_ID",
         "type": "\"string\""
        },
        {
         "metadata": "{}",
         "name": "Segment",
         "type": "\"string\""
        }
       ],
       "type": "table"
      }
     },
     "output_type": "display_data"
    },
    {
     "output_type": "stream",
     "name": "stdout",
     "output_type": "stream",
     "text": [
      "\n No duplicates\n\n No duplicates\n"
     ]
    }
   ],
   "source": [
    "table = \"company.customer_segment\"\n",
    "columns = \"Customer_Segment_ID\"\n",
    "#check some statistics results for all the columns\n",
    "display(spark.table(table).describe())\n",
    "\n",
    "#check if there are duplicates values for the primary key\n",
    "check_duplicates(table, columns)\n",
    "\n",
    "#check if there are duplicates for the content information in the table\n",
    "columns = [\"Segment\"]\n",
    "check_duplicates(table, columns)"
   ]
  },
  {
   "cell_type": "markdown",
   "metadata": {
    "application/vnd.databricks.v1+cell": {
     "cellMetadata": {
      "byteLimit": 2048000,
      "rowLimit": 10000
     },
     "inputWidgets": {},
     "nuid": "1a909075-ce8e-4c9e-a3c3-a211cf7800c2",
     "showTitle": false,
     "title": ""
    }
   },
   "source": [
    "### 9. Validate the results of dimension table \"Order_Priority\""
   ]
  },
  {
   "cell_type": "code",
   "execution_count": 0,
   "metadata": {
    "application/vnd.databricks.v1+cell": {
     "cellMetadata": {
      "byteLimit": 2048000,
      "rowLimit": 10000
     },
     "inputWidgets": {},
     "nuid": "746cd4f4-5861-4cd8-a00b-4a7c00b8c09f",
     "showTitle": false,
     "title": ""
    }
   },
   "outputs": [
    {
     "output_type": "display_data",
     "data": {
      "text/html": [
       "<style scoped>\n",
       "  .table-result-container {\n",
       "    max-height: 300px;\n",
       "    overflow: auto;\n",
       "  }\n",
       "  table, th, td {\n",
       "    border: 1px solid black;\n",
       "    border-collapse: collapse;\n",
       "  }\n",
       "  th, td {\n",
       "    padding: 5px;\n",
       "  }\n",
       "  th {\n",
       "    text-align: left;\n",
       "  }\n",
       "</style><div class='table-result-container'><table class='table-result'><thead style='background-color: white'><tr><th>summary</th><th>Order_Priority_ID</th><th>Order_Priority</th></tr></thead><tbody><tr><td>count</td><td>4</td><td>4</td></tr><tr><td>mean</td><td>2.5</td><td>null</td></tr><tr><td>stddev</td><td>1.2909944487358056</td><td>null</td></tr><tr><td>min</td><td>1</td><td>Critical</td></tr><tr><td>max</td><td>4</td><td>Medium</td></tr></tbody></table></div>"
      ]
     },
     "metadata": {
      "application/vnd.databricks.v1+output": {
       "addedWidgets": {},
       "aggData": [],
       "aggError": "",
       "aggOverflow": false,
       "aggSchema": [],
       "aggSeriesLimitReached": false,
       "aggType": "",
       "arguments": {},
       "columnCustomDisplayInfos": {},
       "data": [
        [
         "count",
         "4",
         "4"
        ],
        [
         "mean",
         "2.5",
         null
        ],
        [
         "stddev",
         "1.2909944487358056",
         null
        ],
        [
         "min",
         "1",
         "Critical"
        ],
        [
         "max",
         "4",
         "Medium"
        ]
       ],
       "datasetInfos": [],
       "dbfsResultPath": null,
       "isJsonSchema": true,
       "metadata": {},
       "overflow": false,
       "plotOptions": {
        "customPlotOptions": {},
        "displayType": "table",
        "pivotAggregation": null,
        "pivotColumns": null,
        "xColumns": null,
        "yColumns": null
       },
       "removedWidgets": [],
       "schema": [
        {
         "metadata": "{}",
         "name": "summary",
         "type": "\"string\""
        },
        {
         "metadata": "{}",
         "name": "Order_Priority_ID",
         "type": "\"string\""
        },
        {
         "metadata": "{}",
         "name": "Order_Priority",
         "type": "\"string\""
        }
       ],
       "type": "table"
      }
     },
     "output_type": "display_data"
    },
    {
     "output_type": "stream",
     "name": "stdout",
     "output_type": "stream",
     "text": [
      "\n No duplicates\n\n No duplicates\n"
     ]
    }
   ],
   "source": [
    "table = \"company.order_priority\"\n",
    "columns = \"Order_Priority_ID\"\n",
    "#check some statistics results for all the columns\n",
    "display(spark.table(table).describe())\n",
    "\n",
    "#check if there are duplicates values for the primary key\n",
    "check_duplicates(table, columns)\n",
    "\n",
    "#check if there are duplicates for the content information in the table\n",
    "columns = [\"Order_Priority\"]\n",
    "check_duplicates(table, columns)"
   ]
  },
  {
   "cell_type": "markdown",
   "metadata": {
    "application/vnd.databricks.v1+cell": {
     "cellMetadata": {
      "byteLimit": 2048000,
      "rowLimit": 10000
     },
     "inputWidgets": {},
     "nuid": "38621e65-bf62-45ed-949a-f7329e79dcbd",
     "showTitle": false,
     "title": ""
    }
   },
   "source": [
    "### 10. Validate the results of dimension table \"Product\""
   ]
  },
  {
   "cell_type": "code",
   "execution_count": 0,
   "metadata": {
    "application/vnd.databricks.v1+cell": {
     "cellMetadata": {
      "byteLimit": 2048000,
      "rowLimit": 10000
     },
     "inputWidgets": {},
     "nuid": "8b46ce7c-72e4-4b56-b2be-e78cccdab81b",
     "showTitle": false,
     "title": ""
    }
   },
   "outputs": [
    {
     "output_type": "display_data",
     "data": {
      "text/html": [
       "<style scoped>\n",
       "  .table-result-container {\n",
       "    max-height: 300px;\n",
       "    overflow: auto;\n",
       "  }\n",
       "  table, th, td {\n",
       "    border: 1px solid black;\n",
       "    border-collapse: collapse;\n",
       "  }\n",
       "  th, td {\n",
       "    padding: 5px;\n",
       "  }\n",
       "  th {\n",
       "    text-align: left;\n",
       "  }\n",
       "</style><div class='table-result-container'><table class='table-result'><thead style='background-color: white'><tr><th>summary</th><th>Product_ID</th><th>Product_Category_ID</th><th>Product_Name</th></tr></thead><tbody><tr><td>count</td><td>10292</td><td>10292</td><td>10292</td></tr><tr><td>mean</td><td>null</td><td>9.067431014380102</td><td>null</td></tr><tr><td>stddev</td><td>null</td><td>4.8366093594391</td><td>null</td></tr><tr><td>min</td><td>FUR-ADV-10000002</td><td>1</td><td>\"While you Were Out\" Message Book, One Form per Page</td></tr><tr><td>max</td><td>TEC-STA-10004927</td><td>17</td><td>netTALK DUO VoIP Telephone Service</td></tr></tbody></table></div>"
      ]
     },
     "metadata": {
      "application/vnd.databricks.v1+output": {
       "addedWidgets": {},
       "aggData": [],
       "aggError": "",
       "aggOverflow": false,
       "aggSchema": [],
       "aggSeriesLimitReached": false,
       "aggType": "",
       "arguments": {},
       "columnCustomDisplayInfos": {},
       "data": [
        [
         "count",
         "10292",
         "10292",
         "10292"
        ],
        [
         "mean",
         null,
         "9.067431014380102",
         null
        ],
        [
         "stddev",
         null,
         "4.8366093594391",
         null
        ],
        [
         "min",
         "FUR-ADV-10000002",
         "1",
         "\"While you Were Out\" Message Book, One Form per Page"
        ],
        [
         "max",
         "TEC-STA-10004927",
         "17",
         "netTALK DUO VoIP Telephone Service"
        ]
       ],
       "datasetInfos": [],
       "dbfsResultPath": null,
       "isJsonSchema": true,
       "metadata": {},
       "overflow": false,
       "plotOptions": {
        "customPlotOptions": {},
        "displayType": "table",
        "pivotAggregation": null,
        "pivotColumns": null,
        "xColumns": null,
        "yColumns": null
       },
       "removedWidgets": [],
       "schema": [
        {
         "metadata": "{}",
         "name": "summary",
         "type": "\"string\""
        },
        {
         "metadata": "{}",
         "name": "Product_ID",
         "type": "\"string\""
        },
        {
         "metadata": "{}",
         "name": "Product_Category_ID",
         "type": "\"string\""
        },
        {
         "metadata": "{}",
         "name": "Product_Name",
         "type": "\"string\""
        }
       ],
       "type": "table"
      }
     },
     "output_type": "display_data"
    },
    {
     "output_type": "stream",
     "name": "stdout",
     "output_type": "stream",
     "text": [
      "\n No duplicates\n"
     ]
    },
    {
     "output_type": "display_data",
     "data": {
      "text/html": [
       "<style scoped>\n",
       "  .table-result-container {\n",
       "    max-height: 300px;\n",
       "    overflow: auto;\n",
       "  }\n",
       "  table, th, td {\n",
       "    border: 1px solid black;\n",
       "    border-collapse: collapse;\n",
       "  }\n",
       "  th, td {\n",
       "    padding: 5px;\n",
       "  }\n",
       "  th {\n",
       "    text-align: left;\n",
       "  }\n",
       "</style><div class='table-result-container'><table class='table-result'><thead style='background-color: white'><tr><th>Product_Category_ID</th><th>Product_Name</th><th>count</th></tr></thead><tbody><tr><td>7</td><td>Wilson Jones Binder, Economy</td><td>4</td></tr><tr><td>9</td><td>Advantus Push Pins, Metal</td><td>3</td></tr><tr><td>12</td><td>Smead Folders, Wire Frame</td><td>4</td></tr><tr><td>5</td><td>Breville Microwave, Silver</td><td>5</td></tr><tr><td>6</td><td>Sanford Canvas, Blue</td><td>6</td></tr><tr><td>7</td><td>Acco Hole Reinforcements, Economy</td><td>5</td></tr><tr><td>6</td><td>Binney & Smith Pens, Easy-Erase</td><td>3</td></tr><tr><td>4</td><td>Barricks Wood Table, Adjustable Height</td><td>2</td></tr><tr><td>1</td><td>Dania Floating Shelf Set, Pine</td><td>4</td></tr><tr><td>13</td><td>Elite Trimmer, Serrated</td><td>4</td></tr><tr><td>11</td><td>Xerox Parchment Paper, Premium</td><td>4</td></tr><tr><td>12</td><td>Rogers File Cart, Single Width</td><td>9</td></tr><tr><td>8</td><td>Cameo Manila Envelope, Set of 50</td><td>5</td></tr><tr><td>9</td><td>Advantus Thumb Tacks, 12 Pack</td><td>4</td></tr><tr><td>11</td><td>Xerox Message Books, Recycled</td><td>4</td></tr><tr><td>17</td><td>Motorola Audio Dock, Full Size</td><td>4</td></tr><tr><td>3</td><td>Advantus Light Bulb, Erganomic</td><td>5</td></tr><tr><td>16</td><td>Okidata Calculator, Durable</td><td>3</td></tr><tr><td>14</td><td>Logitech Numeric Keypad, Programmable</td><td>5</td></tr><tr><td>5</td><td>Cuisinart Blender, Black</td><td>4</td></tr><tr><td>15</td><td>Canon Personal Copier, Color</td><td>5</td></tr><tr><td>3</td><td>Rubbermaid Photo Frame, Durable</td><td>4</td></tr><tr><td>17</td><td>Nokia Audio Dock, VoIP</td><td>4</td></tr><tr><td>2</td><td>Office Star Rocking Chair, Black</td><td>4</td></tr><tr><td>15</td><td>HP Fax Machine, Digital</td><td>4</td></tr><tr><td>4</td><td>Chromcraft Wood Table, with Bottom Storage</td><td>3</td></tr><tr><td>8</td><td>Cameo Business Envelopes, Recycled</td><td>8</td></tr><tr><td>8</td><td>GlobeWeis Manila Envelope, Recycled</td><td>3</td></tr><tr><td>10</td><td>Hon Color Coded Labels, Adjustable</td><td>4</td></tr><tr><td>9</td><td>Advantus Clamps, 12 Pack</td><td>4</td></tr><tr><td>1</td><td>Bush 3-Shelf Cabinet, Metal</td><td>4</td></tr><tr><td>3</td><td>Rubbermaid Stacking Tray, Durable</td><td>4</td></tr><tr><td>2</td><td>Harbour Creations Steel Folding Chair, Red</td><td>5</td></tr><tr><td>17</td><td>Samsung Signal Booster, Full Size</td><td>5</td></tr><tr><td>8</td><td>Ames Peel and Seal, Security-Tint</td><td>4</td></tr><tr><td>8</td><td>Jiffy Clasp Envelope, Recycled</td><td>5</td></tr><tr><td>5</td><td>Breville Stove, Silver</td><td>3</td></tr><tr><td>14</td><td>Logitech Numeric Keypad, Bluetooth</td><td>4</td></tr><tr><td>14</td><td>Enermax Keyboard, USB</td><td>4</td></tr><tr><td>15</td><td>Hewlett Wireless Fax, Digital</td><td>4</td></tr><tr><td>5</td><td>KitchenAid Stove, Red</td><td>4</td></tr><tr><td>6</td><td>Sanford Canvas, Easy-Erase</td><td>5</td></tr><tr><td>5</td><td>KitchenAid Refrigerator, Red</td><td>5</td></tr><tr><td>7</td><td>Avery Binding Machine, Durable</td><td>5</td></tr><tr><td>17</td><td>Motorola Audio Dock, with Caller ID</td><td>5</td></tr><tr><td>8</td><td>Jiffy Mailers, Security-Tint</td><td>4</td></tr><tr><td>5</td><td>Hoover Coffee Grinder, Red</td><td>4</td></tr><tr><td>7</td><td>Avery Hole Reinforcements, Clear</td><td>4</td></tr><tr><td>10</td><td>Hon File Folder Labels, Laser Printer Compatible</td><td>4</td></tr><tr><td>7</td><td>Avery Binding Machine, Clear</td><td>5</td></tr><tr><td>6</td><td>Binney & Smith Canvas, Fluorescent</td><td>6</td></tr><tr><td>11</td><td>Xerox Memo Slips, Recycled</td><td>5</td></tr><tr><td>6</td><td>Stanley Canvas, Easy-Erase</td><td>5</td></tr><tr><td>5</td><td>Cuisinart Toaster, Silver</td><td>3</td></tr><tr><td>3</td><td>Eldon Frame, Durable</td><td>4</td></tr><tr><td>14</td><td>Enermax Flash Drive, Programmable</td><td>5</td></tr><tr><td>13</td><td>Acme Trimmer, Easy Grip</td><td>4</td></tr><tr><td>7</td><td>Wilson Jones 3-Hole Punch, Durable</td><td>6</td></tr><tr><td>13</td><td>Kleencut Box Cutter, Serrated</td><td>4</td></tr><tr><td>13</td><td>Kleencut Trimmer, High Speed</td><td>3</td></tr><tr><td>13</td><td>Fiskars Ruler, High Speed</td><td>3</td></tr><tr><td>11</td><td>Enermax Message Books, Premium</td><td>5</td></tr><tr><td>10</td><td>Hon Legal Exhibit Labels, Laser Printer Compatible</td><td>4</td></tr><tr><td>6</td><td>Staples</td><td>7</td></tr><tr><td>17</td><td>Samsung Smart Phone, Cordless</td><td>5</td></tr><tr><td>1</td><td>Sauder 3-Shelf Cabinet, Mobile</td><td>5</td></tr><tr><td>2</td><td>Novimex Executive Leather Armchair, Red</td><td>5</td></tr><tr><td>2</td><td>SAFCO Chairmat, Adjustable</td><td>4</td></tr><tr><td>13</td><td>Stiletto Scissors, Steel</td><td>4</td></tr><tr><td>5</td><td>KitchenAid Refrigerator, White</td><td>5</td></tr><tr><td>7</td><td>Wilson Jones Hole Reinforcements, Recycled</td><td>4</td></tr><tr><td>10</td><td>Hon Round Labels, 5000 Label Set</td><td>4</td></tr><tr><td>13</td><td>Kleencut Ruler, Easy Grip</td><td>5</td></tr><tr><td>7</td><td>Avery Hole Reinforcements, Economy</td><td>3</td></tr><tr><td>14</td><td>Memorex Mouse, Programmable</td><td>5</td></tr><tr><td>2</td><td>Novimex Steel Folding Chair, Black</td><td>3</td></tr><tr><td>16</td><td>Konica Phone, Durable</td><td>4</td></tr><tr><td>5</td><td>Cuisinart Microwave, Black</td><td>5</td></tr><tr><td>7</td><td>Acco Binder Covers, Recycled</td><td>5</td></tr><tr><td>13</td><td>Acme Scissors, Serrated</td><td>4</td></tr><tr><td>13</td><td>Stiletto Shears, High Speed</td><td>5</td></tr><tr><td>10</td><td>Avery Legal Exhibit Labels, Adjustable</td><td>4</td></tr><tr><td>4</td><td>Chromcraft Round Table, Rectangular</td><td>2</td></tr><tr><td>12</td><td>Rogers Lockers, Industrial</td><td>5</td></tr><tr><td>5</td><td>Hoover Stove, Red</td><td>4</td></tr><tr><td>6</td><td>BIC Canvas, Blue</td><td>4</td></tr><tr><td>10</td><td>Novimex Legal Exhibit Labels, Adjustable</td><td>4</td></tr><tr><td>14</td><td>Memorex Numeric Keypad, Bluetooth</td><td>9</td></tr><tr><td>2</td><td>Harbour Creations Executive Leather Armchair, Black</td><td>5</td></tr><tr><td>17</td><td>Apple Office Telephone, Full Size</td><td>5</td></tr><tr><td>2</td><td>Hon Rocking Chair, Adjustable</td><td>4</td></tr><tr><td>14</td><td>Enermax Memory Card, Programmable</td><td>5</td></tr><tr><td>14</td><td>Belkin Mouse, Programmable</td><td>3</td></tr><tr><td>3</td><td>Deflect-O Photo Frame, Duo Pack</td><td>3</td></tr><tr><td>12</td><td>Eldon Shelving, Industrial</td><td>5</td></tr><tr><td>10</td><td>Avery File Folder Labels, Laser Printer Compatible</td><td>3</td></tr><tr><td>9</td><td>Advantus Clamps, Assorted Sizes</td><td>5</td></tr><tr><td>6</td><td>Binney & Smith Sketch Pad, Easy-Erase</td><td>5</td></tr><tr><td>7</td><td>Acco 3-Hole Punch, Economy</td><td>5</td></tr><tr><td>14</td><td>Memorex Flash Drive, Programmable</td><td>5</td></tr><tr><td>1</td><td>Ikea Corner Shelving, Traditional</td><td>4</td></tr><tr><td>16</td><td>Epson Calculator, Durable</td><td>4</td></tr><tr><td>3</td><td>Tenex Clock, Duo Pack</td><td>4</td></tr><tr><td>3</td><td>Rubbermaid Photo Frame, Black</td><td>4</td></tr><tr><td>2</td><td>Office Star Steel Folding Chair, Adjustable</td><td>4</td></tr><tr><td>3</td><td>Rubbermaid Light Bulb, Erganomic</td><td>5</td></tr><tr><td>2</td><td>Harbour Creations Bag Chairs, Adjustable</td><td>3</td></tr><tr><td>14</td><td>Enermax Keyboard, Erganomic</td><td>4</td></tr><tr><td>11</td><td>Green Bar Parchment Paper, 8.5 x 11</td><td>5</td></tr><tr><td>5</td><td>Hamilton Beach Stove, Silver</td><td>4</td></tr><tr><td>7</td><td>Ibico Binding Machine, Economy</td><td>6</td></tr><tr><td>7</td><td>Avery Binding Machine, Recycled</td><td>4</td></tr><tr><td>12</td><td>Fellowes Trays, Blue</td><td>4</td></tr><tr><td>16</td><td>Okidata Printer, Durable</td><td>5</td></tr><tr><td>15</td><td>HP Personal Copier, Color</td><td>4</td></tr><tr><td>16</td><td>Okidata Phone, Red</td><td>3</td></tr><tr><td>1</td><td>Bush Classic Bookcase, Traditional</td><td>4</td></tr><tr><td>7</td><td>Wilson Jones Binding Machine, Clear</td><td>3</td></tr><tr><td>7</td><td>Cardinal Hole Reinforcements, Durable</td><td>4</td></tr><tr><td>13</td><td>Elite Shears, Steel</td><td>3</td></tr><tr><td>7</td><td>Cardinal 3-Hole Punch, Clear</td><td>5</td></tr><tr><td>13</td><td>Kleencut Scissors, Steel</td><td>5</td></tr><tr><td>5</td><td>Hoover Coffee Grinder, Black</td><td>3</td></tr><tr><td>17</td><td>Samsung Speaker Phone, Full Size</td><td>5</td></tr><tr><td>2</td><td>Novimex Swivel Stool, Adjustable</td><td>3</td></tr><tr><td>1</td><td>Ikea Floating Shelf Set, Pine</td><td>4</td></tr><tr><td>17</td><td>Cisco Speaker Phone, VoIP</td><td>5</td></tr><tr><td>8</td><td>Kraft Peel and Seal, Security-Tint</td><td>4</td></tr><tr><td>7</td><td>Ibico Binding Machine, Recycled</td><td>4</td></tr><tr><td>8</td><td>Kraft Clasp Envelope, Recycled</td><td>4</td></tr><tr><td>13</td><td>Kleencut Shears, Steel</td><td>3</td></tr><tr><td>6</td><td>Stanley Markers, Blue</td><td>3</td></tr><tr><td>11</td><td>SanDisk Computer Printout Paper, Multicolor</td><td>4</td></tr><tr><td>17</td><td>Cisco Office Telephone, with Caller ID</td><td>5</td></tr><tr><td>11</td><td>Green Bar Computer Printout Paper, Premium</td><td>5</td></tr><tr><td>9</td><td>Stockwell Staples, Bulk Pack</td><td>9</td></tr><tr><td>9</td><td>Accos Staples, Metal</td><td>5</td></tr><tr><td>8</td><td>Ames Business Envelopes, Security-Tint</td><td>4</td></tr><tr><td>17</td><td>Cisco Headset, Full Size</td><td>3</td></tr><tr><td>3</td><td>Rubbermaid Stacking Tray, Erganomic</td><td>8</td></tr><tr><td>17</td><td>Apple Headset, Full Size</td><td>5</td></tr><tr><td>14</td><td>Enermax Mouse, USB</td><td>5</td></tr><tr><td>16</td><td>Epson Calculator, White</td><td>4</td></tr><tr><td>2</td><td>SAFCO Rocking Chair, Black</td><td>3</td></tr><tr><td>14</td><td>Enermax Router, Programmable</td><td>4</td></tr><tr><td>8</td><td>Ames Manila Envelope, Set of 50</td><td>5</td></tr><tr><td>10</td><td>Harbour Creations File Folder Labels, Adjustable</td><td>4</td></tr><tr><td>8</td><td>GlobeWeis Manila Envelope, Security-Tint</td><td>5</td></tr><tr><td>7</td><td>Avery 3-Hole Punch, Durable</td><td>5</td></tr><tr><td>2</td><td>Hon Executive Leather Armchair, Black</td><td>6</td></tr><tr><td>4</td><td>Lesro Round Table, Rectangular</td><td>4</td></tr><tr><td>4</td><td>Lesro Round Table, with Bottom Storage</td><td>2</td></tr><tr><td>6</td><td>Boston Canvas, Blue</td><td>3</td></tr><tr><td>8</td><td>Kraft Business Envelopes, Set of 50</td><td>3</td></tr><tr><td>13</td><td>Acme Shears, High Speed</td><td>5</td></tr><tr><td>10</td><td>Smead Color Coded Labels, Alphabetical</td><td>5</td></tr><tr><td>11</td><td>Xerox Memo Slips, Multicolor</td><td>3</td></tr><tr><td>2</td><td>SAFCO Steel Folding Chair, Set of Two</td><td>5</td></tr><tr><td>15</td><td>Brother Personal Copier, Color</td><td>3</td></tr><tr><td>4</td><td>Bevis Training Table, Adjustable Height</td><td>3</td></tr><tr><td>6</td><td>Sanford Markers, Easy-Erase</td><td>5</td></tr><tr><td>12</td><td>Smead File Cart, Single Width</td><td>10</td></tr><tr><td>13</td><td>Kleencut Trimmer, Steel</td><td>4</td></tr><tr><td>6</td><td>BIC Markers, Fluorescent</td><td>3</td></tr><tr><td>8</td><td>Cameo Manila Envelope, with clear poly window</td><td>5</td></tr><tr><td>17</td><td>Apple Office Telephone, VoIP</td><td>4</td></tr><tr><td>15</td><td>HP Copy Machine, Color</td><td>10</td></tr><tr><td>3</td><td>Advantus Door Stop, Erganomic</td><td>4</td></tr><tr><td>2</td><td>Harbour Creations Swivel Stool, Set of Two</td><td>6</td></tr><tr><td>16</td><td>StarTech Receipt Printer, Durable</td><td>4</td></tr><tr><td>7</td><td>Acco Index Tab, Clear</td><td>12</td></tr><tr><td>11</td><td>SanDisk Message Books, Multicolor</td><td>4</td></tr><tr><td>13</td><td>Fiskars Trimmer, High Speed</td><td>4</td></tr><tr><td>2</td><td>Novimex Chairmat, Black</td><td>4</td></tr><tr><td>3</td><td>Tenex Stacking Tray, Erganomic</td><td>8</td></tr><tr><td>1</td><td>Bush Stackable Bookrack, Traditional</td><td>4</td></tr><tr><td>17</td><td>Nokia Smart Phone, Cordless</td><td>3</td></tr><tr><td>10</td><td>Avery Shipping Labels, Alphabetical</td><td>4</td></tr><tr><td>13</td><td>Kleencut Letter Opener, High Speed</td><td>4</td></tr><tr><td>10</td><td>Avery Shipping Labels, Laser Printer Compatible</td><td>4</td></tr><tr><td>7</td><td>Acco Hole Reinforcements, Durable</td><td>4</td></tr><tr><td>5</td><td>Cuisinart Stove, Black</td><td>4</td></tr><tr><td>13</td><td>Acme Box Cutter, Serrated</td><td>5</td></tr><tr><td>1</td><td>Safco Corner Shelving, Metal</td><td>4</td></tr><tr><td>17</td><td>Nokia Headset, Cordless</td><td>5</td></tr><tr><td>3</td><td>Rubbermaid Stacking Tray, Black</td><td>5</td></tr><tr><td>3</td><td>Eldon Frame, Erganomic</td><td>4</td></tr><tr><td>16</td><td>Okidata Calculator, Wireless</td><td>4</td></tr><tr><td>4</td><td>Lesro Wood Table, Adjustable Height</td><td>2</td></tr><tr><td>11</td><td>SanDisk Parchment Paper, 8.5 x 11</td><td>4</td></tr><tr><td>7</td><td>Acco Binder, Economy</td><td>4</td></tr><tr><td>13</td><td>Acme Box Cutter, Steel</td><td>4</td></tr><tr><td>11</td><td>Eaton Parchment Paper, 8.5 x 11</td><td>4</td></tr><tr><td>14</td><td>Belkin Numeric Keypad, USB</td><td>5</td></tr><tr><td>15</td><td>Canon Personal Copier, Laser</td><td>4</td></tr><tr><td>4</td><td>Chromcraft Training Table, Rectangular</td><td>2</td></tr><tr><td>8</td><td>Kraft Manila Envelope, with clear poly window</td><td>5</td></tr><tr><td>10</td><td>Harbour Creations File Folder Labels, 5000 Label Set</td><td>5</td></tr><tr><td>8</td><td>Cameo Peel and Seal, Recycled</td><td>4</td></tr><tr><td>8</td><td>Ames Mailers, Security-Tint</td><td>4</td></tr><tr><td>7</td><td>Ibico Hole Reinforcements, Economy</td><td>5</td></tr><tr><td>17</td><td>Apple Office Telephone, Cordless</td><td>4</td></tr><tr><td>15</td><td>Hewlett Ink, Digital</td><td>5</td></tr><tr><td>14</td><td>Memorex Keyboard, Bluetooth</td><td>4</td></tr><tr><td>12</td><td>Rogers Box, Blue</td><td>4</td></tr><tr><td>9</td><td>Stockwell Rubber Bands, 12 Pack</td><td>9</td></tr><tr><td>7</td><td>Wilson Jones Index Tab, Durable</td><td>4</td></tr><tr><td>10</td><td>Smead Shipping Labels, Alphabetical</td><td>5</td></tr><tr><td>9</td><td>Accos Rubber Bands, Assorted Sizes</td><td>4</td></tr><tr><td>12</td><td>Fellowes Lockers, Industrial</td><td>4</td></tr><tr><td>13</td><td>Stiletto Ruler, Steel</td><td>4</td></tr><tr><td>13</td><td>Stiletto Shears, Serrated</td><td>5</td></tr><tr><td>12</td><td>Fellowes Box, Wire Frame</td><td>4</td></tr><tr><td>14</td><td>Belkin Flash Drive, Erganomic</td><td>4</td></tr><tr><td>17</td><td>Samsung Audio Dock, VoIP</td><td>4</td></tr><tr><td>17</td><td>Apple Signal Booster, with Caller ID</td><td>5</td></tr><tr><td>14</td><td>Memorex Keyboard, USB</td><td>5</td></tr><tr><td>4</td><td>Barricks Training Table, Rectangular</td><td>5</td></tr><tr><td>12</td><td>Rogers Box, Wire Frame</td><td>4</td></tr><tr><td>8</td><td>Cameo Clasp Envelope, with clear poly window</td><td>4</td></tr><tr><td>11</td><td>Enermax Computer Printout Paper, Multicolor</td><td>5</td></tr><tr><td>5</td><td>KitchenAid Microwave, Red</td><td>3</td></tr><tr><td>8</td><td>Kraft Manila Envelope, Recycled</td><td>5</td></tr><tr><td>11</td><td>Eaton Parchment Paper, Recycled</td><td>4</td></tr><tr><td>10</td><td>Harbour Creations Color Coded Labels, 5000 Label Set</td><td>4</td></tr><tr><td>12</td><td>Fellowes Box, Blue</td><td>4</td></tr><tr><td>2</td><td>Novimex Swivel Stool, Black</td><td>4</td></tr><tr><td>3</td><td>Rubbermaid Frame, Durable</td><td>4</td></tr><tr><td>1</td><td>Ikea Classic Bookcase, Pine</td><td>4</td></tr><tr><td>17</td><td>Motorola Headset, with Caller ID</td><td>4</td></tr><tr><td>16</td><td>StarTech Receipt Printer, Red</td><td>3</td></tr><tr><td>6</td><td>Boston Sketch Pad, Easy-Erase</td><td>4</td></tr><tr><td>12</td><td>Fellowes Shelving, Wire Frame</td><td>4</td></tr><tr><td>10</td><td>Harbour Creations Legal Exhibit Labels, 5000 Label Set</td><td>4</td></tr><tr><td>11</td><td>Xerox Note Cards, Recycled</td><td>4</td></tr><tr><td>6</td><td>Sanford Highlighters, Water Color</td><td>5</td></tr><tr><td>8</td><td>Cameo Business Envelopes, Set of 50</td><td>5</td></tr><tr><td>13</td><td>Kleencut Trimmer, Serrated</td><td>3</td></tr><tr><td>11</td><td>Enermax Cards & Envelopes, 8.5 x 11</td><td>3</td></tr><tr><td>6</td><td>BIC Highlighters, Easy-Erase</td><td>4</td></tr><tr><td>1</td><td>Bush Floating Shelf Set, Traditional</td><td>5</td></tr><tr><td>17</td><td>Nokia Smart Phone, Full Size</td><td>9</td></tr><tr><td>1</td><td>Bush 3-Shelf Cabinet, Traditional</td><td>4</td></tr><tr><td>14</td><td>SanDisk Flash Drive, Bluetooth</td><td>4</td></tr><tr><td>2</td><td>SAFCO Bag Chairs, Adjustable</td><td>4</td></tr><tr><td>16</td><td>Panasonic Calculator, White</td><td>4</td></tr><tr><td>15</td><td>Canon Wireless Fax, Laser</td><td>4</td></tr><tr><td>17</td><td>Apple Smart Phone, with Caller ID</td><td>2</td></tr><tr><td>15</td><td>Canon Ink, Color</td><td>5</td></tr><tr><td>5</td><td>KitchenAid Blender, Black</td><td>7</td></tr><tr><td>8</td><td>Jiffy Business Envelopes, Set of 50</td><td>5</td></tr><tr><td>7</td><td>Ibico Hole Reinforcements, Recycled</td><td>5</td></tr><tr><td>13</td><td>Fiskars Trimmer, Steel</td><td>5</td></tr><tr><td>7</td><td>Avery Binder Covers, Economy</td><td>5</td></tr><tr><td>11</td><td>Eaton Memo Slips, Recycled</td><td>4</td></tr><tr><td>14</td><td>Enermax Numeric Keypad, USB</td><td>5</td></tr><tr><td>15</td><td>Canon Ink, Digital</td><td>4</td></tr><tr><td>15</td><td>Sharp Fax Machine, Laser</td><td>4</td></tr><tr><td>4</td><td>Bevis Round Table, Fully Assembled</td><td>2</td></tr><tr><td>11</td><td>SanDisk Cards & Envelopes, Multicolor</td><td>4</td></tr><tr><td>6</td><td>Binney & Smith Markers, Easy-Erase</td><td>4</td></tr><tr><td>10</td><td>Novimex Round Labels, 5000 Label Set</td><td>4</td></tr><tr><td>12</td><td>Eldon Lockers, Single Width</td><td>4</td></tr><tr><td>10</td><td>Harbour Creations Shipping Labels, 5000 Label Set</td><td>4</td></tr><tr><td>12</td><td>Fellowes Lockers, Wire Frame</td><td>5</td></tr><tr><td>5</td><td>Breville Microwave, Black</td><td>2</td></tr><tr><td>14</td><td>Logitech Memory Card, USB</td><td>4</td></tr><tr><td>3</td><td>Rubbermaid Door Stop, Durable</td><td>3</td></tr><tr><td>14</td><td>SanDisk Keyboard, Programmable</td><td>5</td></tr><tr><td>2</td><td>Harbour Creations Chairmat, Adjustable</td><td>4</td></tr><tr><td>15</td><td>HP Ink, Laser</td><td>5</td></tr><tr><td>2</td><td>Hon Steel Folding Chair, Adjustable</td><td>4</td></tr><tr><td>3</td><td>Tenex Stacking Tray, Black</td><td>4</td></tr><tr><td>12</td><td>Rogers Lockers, Blue</td><td>5</td></tr><tr><td>11</td><td>Eaton Computer Printout Paper, Recycled</td><td>5</td></tr><tr><td>10</td><td>Hon Shipping Labels, Alphabetical</td><td>5</td></tr><tr><td>6</td><td>Sanford Markers, Water Color</td><td>4</td></tr><tr><td>17</td><td>Nokia Audio Dock, with Caller ID</td><td>4</td></tr><tr><td>17</td><td>Cisco Speaker Phone, Full Size</td><td>5</td></tr><tr><td>3</td><td>Tenex Photo Frame, Duo Pack</td><td>4</td></tr><tr><td>3</td><td>Eldon Clock, Erganomic</td><td>4</td></tr><tr><td>2</td><td>SAFCO Steel Folding Chair, Adjustable</td><td>4</td></tr><tr><td>4</td><td>Chromcraft Round Table, Adjustable Height</td><td>4</td></tr><tr><td>12</td><td>Fellowes Shelving, Industrial</td><td>5</td></tr><tr><td>10</td><td>Harbour Creations File Folder Labels, Laser Printer Compatible</td><td>5</td></tr><tr><td>7</td><td>Storex Dura Pro Binders</td><td>2</td></tr><tr><td>17</td><td>Samsung Office Telephone, Cordless</td><td>4</td></tr><tr><td>17</td><td>Cisco Signal Booster, Full Size</td><td>4</td></tr><tr><td>17</td><td>Motorola Speaker Phone, Cordless</td><td>4</td></tr><tr><td>15</td><td>Hewlett Personal Copier, Laser</td><td>5</td></tr><tr><td>15</td><td>Hewlett Fax and Copier, High-Speed</td><td>6</td></tr><tr><td>17</td><td>Cisco Office Telephone, Full Size</td><td>5</td></tr><tr><td>2</td><td>Office Star Steel Folding Chair, Red</td><td>4</td></tr><tr><td>13</td><td>Fiskars Box Cutter, Steel</td><td>5</td></tr><tr><td>11</td><td>Enermax Computer Printout Paper, Recycled</td><td>4</td></tr><tr><td>9</td><td>OIC Thumb Tacks, Metal</td><td>4</td></tr><tr><td>8</td><td>Ames Mailers, Set of 50</td><td>4</td></tr><tr><td>5</td><td>Hamilton Beach Toaster, White</td><td>3</td></tr><tr><td>11</td><td>Green Bar Computer Printout Paper, 8.5 x 11</td><td>4</td></tr><tr><td>2</td><td>Office Star Swivel Stool, Set of Two</td><td>5</td></tr><tr><td>17</td><td>Nokia Headset, Full Size</td><td>4</td></tr><tr><td>14</td><td>Belkin Flash Drive, Bluetooth</td><td>4</td></tr><tr><td>7</td><td>Avery Binder, Durable</td><td>4</td></tr><tr><td>5</td><td>Hamilton Beach Microwave, White</td><td>4</td></tr><tr><td>14</td><td>SanDisk Memory Card, Bluetooth</td><td>5</td></tr><tr><td>2</td><td>Office Star Rocking Chair, Adjustable</td><td>6</td></tr><tr><td>4</td><td>Bevis Training Table, Rectangular</td><td>4</td></tr><tr><td>5</td><td>Breville Coffee Grinder, White</td><td>4</td></tr><tr><td>6</td><td>Boston Canvas, Fluorescent</td><td>5</td></tr><tr><td>7</td><td>Avery Index Tab, Clear</td><td>9</td></tr><tr><td>12</td><td>Eldon Folders, Wire Frame</td><td>5</td></tr><tr><td>5</td><td>Hamilton Beach Microwave, Black</td><td>4</td></tr><tr><td>13</td><td>Elite Ruler, Serrated</td><td>4</td></tr><tr><td>17</td><td>Apple Headset, Cordless</td><td>4</td></tr><tr><td>16</td><td>Epson Printer, Red</td><td>3</td></tr><tr><td>6</td><td>Stanley Pens, Fluorescent</td><td>4</td></tr><tr><td>6</td><td>Boston Markers, Blue</td><td>5</td></tr><tr><td>11</td><td>Xerox Message Books, 8.5 x 11</td><td>5</td></tr><tr><td>7</td><td>Cardinal Binder, Economy</td><td>5</td></tr><tr><td>9</td><td>Advantus Rubber Bands, Bulk Pack</td><td>4</td></tr><tr><td>10</td><td>Smead Color Coded Labels, Laser Printer Compatible</td><td>4</td></tr><tr><td>10</td><td>Hon Round Labels, Adjustable</td><td>4</td></tr><tr><td>13</td><td>Elite Shears, Serrated</td><td>5</td></tr><tr><td>5</td><td>Breville Blender, Silver</td><td>3</td></tr><tr><td>8</td><td>Jiffy Mailers, Set of 50</td><td>6</td></tr><tr><td>10</td><td>Smead File Folder Labels, Laser Printer Compatible</td><td>4</td></tr><tr><td>15</td><td>Hewlett Wireless Fax, Color</td><td>4</td></tr><tr><td>3</td><td>Tenex Light Bulb, Erganomic</td><td>3</td></tr><tr><td>15</td><td>Brother Fax and Copier, High-Speed</td><td>5</td></tr><tr><td>17</td><td>Nokia Signal Booster, VoIP</td><td>5</td></tr><tr><td>14</td><td>Enermax Router, USB</td><td>4</td></tr><tr><td>14</td><td>Enermax Flash Drive, USB</td><td>4</td></tr><tr><td>16</td><td>StarTech Inkjet, Durable</td><td>4</td></tr><tr><td>12</td><td>Smead Trays, Blue</td><td>4</td></tr><tr><td>8</td><td>Ames Manila Envelope, Security-Tint</td><td>5</td></tr><tr><td>10</td><td>Avery Removable Labels, Laser Printer Compatible</td><td>4</td></tr><tr><td>11</td><td>Xerox Memo Slips, Premium</td><td>4</td></tr><tr><td>4</td><td>Chromcraft Conference Table, Rectangular</td><td>4</td></tr><tr><td>1</td><td>Ikea 3-Shelf Cabinet, Pine</td><td>4</td></tr><tr><td>14</td><td>Logitech Router, USB</td><td>4</td></tr><tr><td>15</td><td>Hewlett Fax Machine, Digital</td><td>4</td></tr><tr><td>2</td><td>Harbour Creations Steel Folding Chair, Adjustable</td><td>5</td></tr><tr><td>2</td><td>Hon Rocking Chair, Black</td><td>5</td></tr><tr><td>8</td><td>GlobeWeis Clasp Envelope, with clear poly window</td><td>5</td></tr><tr><td>11</td><td>Xerox Memo Slips, 8.5 x 11</td><td>6</td></tr><tr><td>5</td><td>Breville Refrigerator, Black</td><td>5</td></tr><tr><td>11</td><td>Enermax Memo Slips, Multicolor</td><td>5</td></tr><tr><td>12</td><td>Fellowes Folders, Wire Frame</td><td>5</td></tr><tr><td>6</td><td>Sanford Canvas, Fluorescent</td><td>4</td></tr><tr><td>14</td><td>SanDisk Router, Erganomic</td><td>4</td></tr><tr><td>16</td><td>StarTech Receipt Printer, Wireless</td><td>3</td></tr><tr><td>11</td><td>Enermax Note Cards, Premium</td><td>10</td></tr><tr><td>9</td><td>OIC Staples, Bulk Pack</td><td>5</td></tr><tr><td>5</td><td>Hamilton Beach Toaster, Black</td><td>4</td></tr><tr><td>12</td><td>Eldon Trays, Industrial</td><td>4</td></tr><tr><td>7</td><td>Cardinal Binder Covers, Durable</td><td>4</td></tr><tr><td>1</td><td>Ikea Floating Shelf Set, Metal</td><td>3</td></tr><tr><td>16</td><td>Panasonic Receipt Printer, White</td><td>4</td></tr><tr><td>2</td><td>Office Star Steel Folding Chair, Set of Two</td><td>4</td></tr><tr><td>1</td><td>Sauder Library with Doors, Metal</td><td>4</td></tr><tr><td>17</td><td>Nokia Speaker Phone, VoIP</td><td>4</td></tr><tr><td>4</td><td>Hon Conference Table, with Bottom Storage</td><td>3</td></tr><tr><td>11</td><td>SanDisk Note Cards, Multicolor</td><td>5</td></tr><tr><td>5</td><td>Cuisinart Blender, White</td><td>4</td></tr><tr><td>8</td><td>Kraft Mailers, Set of 50</td><td>4</td></tr><tr><td>2</td><td>Office Star Chairmat, Red</td><td>5</td></tr><tr><td>15</td><td>Brother Ink, Laser</td><td>5</td></tr><tr><td>14</td><td>Enermax Keyboard, Programmable</td><td>5</td></tr><tr><td>14</td><td>SanDisk Numeric Keypad, Bluetooth</td><td>8</td></tr><tr><td>4</td><td>Hon Training Table, Rectangular</td><td>3</td></tr><tr><td>5</td><td>Breville Coffee Grinder, Red</td><td>3</td></tr><tr><td>8</td><td>Kraft Mailers, with clear poly window</td><td>5</td></tr><tr><td>6</td><td>Boston Sketch Pad, Water Color</td><td>3</td></tr><tr><td>8</td><td>Ames Interoffice Envelope, Security-Tint</td><td>5</td></tr><tr><td>12</td><td>Eldon Trays, Single Width</td><td>3</td></tr><tr><td>14</td><td>Enermax Memory Card, Erganomic</td><td>5</td></tr><tr><td>14</td><td>Logitech Router, Programmable</td><td>3</td></tr><tr><td>1</td><td>Safco Floating Shelf Set, Mobile</td><td>6</td></tr><tr><td>16</td><td>Epson Phone, Red</td><td>4</td></tr><tr><td>8</td><td>Ames Interoffice Envelope, Set of 50</td><td>5</td></tr><tr><td>13</td><td>Acme Scissors, Steel</td><td>4</td></tr><tr><td>16</td><td>Konica Receipt Printer, Red</td><td>4</td></tr><tr><td>3</td><td>Deflect-O Light Bulb, Black</td><td>6</td></tr><tr><td>7</td><td>Ibico Hole Reinforcements, Durable</td><td>4</td></tr><tr><td>11</td><td>SanDisk Memo Slips, Multicolor</td><td>3</td></tr><tr><td>9</td><td>Accos Clamps, Assorted Sizes</td><td>5</td></tr><tr><td>6</td><td>Binney & Smith Highlighters, Easy-Erase</td><td>5</td></tr><tr><td>11</td><td>Eaton Note Cards, Multicolor</td><td>4</td></tr><tr><td>8</td><td>Ames Peel and Seal, with clear poly window</td><td>5</td></tr><tr><td>8</td><td>Kraft Interoffice Envelope, Recycled</td><td>4</td></tr><tr><td>16</td><td>Konica Inkjet, White</td><td>5</td></tr><tr><td>17</td><td>Samsung Signal Booster, Cordless</td><td>4</td></tr><tr><td>14</td><td>SanDisk Router, Programmable</td><td>4</td></tr><tr><td>3</td><td>Tenex Door Stop, Duo Pack</td><td>4</td></tr><tr><td>8</td><td>Jiffy Peel and Seal, with clear poly window</td><td>5</td></tr><tr><td>8</td><td>Jiffy Manila Envelope, Recycled</td><td>5</td></tr><tr><td>5</td><td>Breville Refrigerator, Red</td><td>4</td></tr><tr><td>9</td><td>OIC Staples, 12 Pack</td><td>4</td></tr><tr><td>13</td><td>Elite Box Cutter, Easy Grip</td><td>5</td></tr><tr><td>10</td><td>Avery Legal Exhibit Labels, Alphabetical</td><td>4</td></tr><tr><td>8</td><td>Jiffy Interoffice Envelope, with clear poly window</td><td>3</td></tr><tr><td>8</td><td>GlobeWeis Business Envelopes, Set of 50</td><td>4</td></tr><tr><td>15</td><td>HP Personal Copier, High-Speed</td><td>4</td></tr><tr><td>15</td><td>Brother Fax and Copier, Color</td><td>5</td></tr><tr><td>2</td><td>Hon Chairmat, Red</td><td>5</td></tr><tr><td>1</td><td>Bush Floating Shelf Set, Metal</td><td>4</td></tr><tr><td>15</td><td>Canon Fax and Copier, Digital</td><td>5</td></tr><tr><td>4</td><td>Chromcraft Conference Table, Adjustable Height</td><td>2</td></tr><tr><td>14</td><td>SanDisk Numeric Keypad, USB</td><td>4</td></tr><tr><td>10</td><td>Novimex Color Coded Labels, Alphabetical</td><td>4</td></tr><tr><td>8</td><td>Jiffy Peel and Seal, Security-Tint</td><td>5</td></tr><tr><td>11</td><td>SanDisk Computer Printout Paper, Recycled</td><td>4</td></tr><tr><td>10</td><td>Novimex Shipping Labels, Alphabetical</td><td>4</td></tr><tr><td>3</td><td>Tenex Frame, Duo Pack</td><td>4</td></tr><tr><td>16</td><td>Epson Printer, Durable</td><td>4</td></tr><tr><td>14</td><td>Logitech Mouse, Programmable</td><td>5</td></tr><tr><td>5</td><td>Breville Coffee Grinder, Black</td><td>4</td></tr><tr><td>7</td><td>Avery Index Tab, Economy</td><td>3</td></tr><tr><td>13</td><td>Kleencut Ruler, Serrated</td><td>5</td></tr><tr><td>8</td><td>Ames Interoffice Envelope, with clear poly window</td><td>5</td></tr><tr><td>8</td><td>Jiffy Interoffice Envelope, Set of 50</td><td>3</td></tr><tr><td>13</td><td>Stiletto Ruler, High Speed</td><td>4</td></tr><tr><td>16</td><td>Panasonic Printer, Red</td><td>5</td></tr><tr><td>15</td><td>Hewlett Fax and Copier, Color</td><td>4</td></tr><tr><td>4</td><td>Lesro Training Table, Adjustable Height</td><td>3</td></tr><tr><td>15</td><td>Brother Wireless Fax, Laser</td><td>4</td></tr><tr><td>7</td><td>Ibico Binder, Economy</td><td>5</td></tr><tr><td>5</td><td>Hamilton Beach Blender, Black</td><td>6</td></tr><tr><td>13</td><td>Acme Letter Opener, Easy Grip</td><td>3</td></tr><tr><td>5</td><td>Cuisinart Microwave, Red</td><td>3</td></tr><tr><td>8</td><td>Kraft Mailers, Security-Tint</td><td>4</td></tr><tr><td>5</td><td>Cuisinart Stove, White</td><td>5</td></tr><tr><td>17</td><td>Cisco Speaker Phone, with Caller ID</td><td>5</td></tr><tr><td>15</td><td>Brother Copy Machine, Laser</td><td>3</td></tr><tr><td>17</td><td>Motorola Office Telephone, Cordless</td><td>2</td></tr><tr><td>16</td><td>Konica Printer, Durable</td><td>4</td></tr><tr><td>15</td><td>Hewlett Copy Machine, High-Speed</td><td>3</td></tr><tr><td>10</td><td>Harbour Creations Legal Exhibit Labels, Laser Printer Compatible</td><td>5</td></tr><tr><td>8</td><td>Ames Business Envelopes, Set of 50</td><td>6</td></tr><tr><td>11</td><td>Staples</td><td>7</td></tr><tr><td>10</td><td>Smead Removable Labels, 5000 Label Set</td><td>4</td></tr><tr><td>8</td><td>Kraft Business Envelopes, Security-Tint</td><td>3</td></tr><tr><td>8</td><td>Ames Clasp Envelope, Recycled</td><td>3</td></tr><tr><td>3</td><td>Advantus Photo Frame, Black</td><td>4</td></tr><tr><td>3</td><td>Eldon Stacking Tray, Duo Pack</td><td>5</td></tr><tr><td>2</td><td>Hon Swivel Stool, Red</td><td>4</td></tr><tr><td>2</td><td>Harbour Creations Chairmat, Set of Two</td><td>6</td></tr><tr><td>1</td><td>Ikea 3-Shelf Cabinet, Traditional</td><td>4</td></tr><tr><td>4</td><td>Hon Wood Table, Fully Assembled</td><td>3</td></tr><tr><td>11</td><td>Eaton Cards & Envelopes, 8.5 x 11</td><td>4</td></tr><tr><td>11</td><td>Eaton Cards & Envelopes, Multicolor</td><td>4</td></tr><tr><td>7</td><td>Avery Index Tab, Durable</td><td>4</td></tr><tr><td>13</td><td>Kleencut Shears, Easy Grip</td><td>4</td></tr><tr><td>6</td><td>Stanley Highlighters, Blue</td><td>5</td></tr><tr><td>6</td><td>BIC Sketch Pad, Easy-Erase</td><td>4</td></tr><tr><td>17</td><td>Apple Signal Booster, VoIP</td><td>4</td></tr><tr><td>1</td><td>Bush Floating Shelf Set, Mobile</td><td>4</td></tr><tr><td>14</td><td>SanDisk Keyboard, Erganomic</td><td>4</td></tr><tr><td>14</td><td>SanDisk Mouse, USB</td><td>3</td></tr><tr><td>4</td><td>Bevis Computer Table, with Bottom Storage</td><td>3</td></tr><tr><td>3</td><td>Eldon Stacking Tray, Erganomic</td><td>4</td></tr><tr><td>17</td><td>Motorola Headset, Full Size</td><td>3</td></tr><tr><td>5</td><td>Cuisinart Refrigerator, White</td><td>2</td></tr><tr><td>5</td><td>Hamilton Beach Microwave, Silver</td><td>3</td></tr><tr><td>12</td><td>Rogers Trays, Blue</td><td>4</td></tr><tr><td>6</td><td>Boston Sketch Pad, Fluorescent</td><td>4</td></tr><tr><td>7</td><td>Cardinal 3-Hole Punch, Economy</td><td>5</td></tr><tr><td>8</td><td>Ames Peel and Seal, Set of 50</td><td>4</td></tr><tr><td>7</td><td>Avery Binder, Recycled</td><td>4</td></tr><tr><td>10</td><td>Avery Removable Labels, 5000 Label Set</td><td>4</td></tr><tr><td>2</td><td>SAFCO Executive Leather Armchair, Set of Two</td><td>4</td></tr><tr><td>15</td><td>Canon Fax Machine, High-Speed</td><td>4</td></tr><tr><td>3</td><td>Deflect-O Door Stop, Black</td><td>5</td></tr><tr><td>2</td><td>SAFCO Executive Leather Armchair, Adjustable</td><td>5</td></tr><tr><td>1</td><td>Ikea Stackable Bookrack, Mobile</td><td>5</td></tr><tr><td>9</td><td>Stockwell Paper Clips, Bulk Pack</td><td>8</td></tr><tr><td>9</td><td>Accos Paper Clips, Bulk Pack</td><td>5</td></tr><tr><td>12</td><td>Rogers Box, Industrial</td><td>4</td></tr><tr><td>11</td><td>Eaton Computer Printout Paper, Premium</td><td>6</td></tr><tr><td>5</td><td>Breville Toaster, Red</td><td>4</td></tr><tr><td>12</td><td>Smead Folders, Blue</td><td>4</td></tr><tr><td>14</td><td>Memorex Flash Drive, Bluetooth</td><td>5</td></tr><tr><td>14</td><td>SanDisk Memory Card, Erganomic</td><td>5</td></tr><tr><td>14</td><td>Belkin Router, Programmable</td><td>4</td></tr><tr><td>2</td><td>Hon Bag Chairs, Black</td><td>4</td></tr><tr><td>1</td><td>Ikea Library with Doors, Metal</td><td>4</td></tr><tr><td>1</td><td>Safco 3-Shelf Cabinet, Pine</td><td>4</td></tr><tr><td>5</td><td>Hoover Toaster, White</td><td>5</td></tr><tr><td>7</td><td>Avery 3-Hole Punch, Clear</td><td>5</td></tr><tr><td>7</td><td>Avery Binder, Economy</td><td>4</td></tr><tr><td>6</td><td>Sanford Markers, Fluorescent</td><td>5</td></tr><tr><td>6</td><td>Binney & Smith Pencil Sharpener, Easy-Erase</td><td>5</td></tr><tr><td>13</td><td>Stiletto Letter Opener, High Speed</td><td>4</td></tr><tr><td>7</td><td>Wilson Jones Binder Covers, Economy</td><td>4</td></tr><tr><td>10</td><td>Avery Color Coded Labels, Adjustable</td><td>4</td></tr><tr><td>12</td><td>Fellowes File Cart, Industrial</td><td>4</td></tr><tr><td>11</td><td>Xerox Note Cards, 8.5 x 11</td><td>2</td></tr><tr><td>15</td><td>Brother Wireless Fax, High-Speed</td><td>5</td></tr><tr><td>14</td><td>Logitech Mouse, Erganomic</td><td>5</td></tr><tr><td>15</td><td>Sharp Wireless Fax, Digital</td><td>4</td></tr><tr><td>10</td><td>Avery Round Labels, 5000 Label Set</td><td>5</td></tr><tr><td>9</td><td>Accos Thumb Tacks, Assorted Sizes</td><td>4</td></tr><tr><td>12</td><td>Tenex Trays, Blue</td><td>4</td></tr><tr><td>3</td><td>Eldon Light Bulb, Duo Pack</td><td>4</td></tr><tr><td>14</td><td>SanDisk Keyboard, Bluetooth</td><td>5</td></tr><tr><td>15</td><td>Brother Fax Machine, Color</td><td>5</td></tr><tr><td>15</td><td>Canon Fax and Copier, Color</td><td>4</td></tr><tr><td>16</td><td>Okidata Card Printer, Wireless</td><td>5</td></tr><tr><td>4</td><td>Barricks Coffee Table, Rectangular</td><td>2</td></tr><tr><td>15</td><td>HP Wireless Fax, Laser</td><td>4</td></tr><tr><td>4</td><td>Lesro Wood Table, Fully Assembled</td><td>2</td></tr><tr><td>8</td><td>GlobeWeis Interoffice Envelope, with clear poly window</td><td>5</td></tr><tr><td>6</td><td>Stanley Highlighters, Easy-Erase</td><td>4</td></tr><tr><td>11</td><td>SanDisk Parchment Paper, Recycled</td><td>5</td></tr><tr><td>9</td><td>Advantus Rubber Bands, Assorted Sizes</td><td>4</td></tr><tr><td>12</td><td>Smead Shelving, Blue</td><td>3</td></tr><tr><td>16</td><td>StarTech Calculator, Wireless</td><td>3</td></tr><tr><td>1</td><td>Dania Classic Bookcase, Mobile</td><td>3</td></tr><tr><td>15</td><td>Brother Fax Machine, Laser</td><td>4</td></tr><tr><td>14</td><td>SanDisk Mouse, Bluetooth</td><td>6</td></tr><tr><td>14</td><td>Belkin Keyboard, USB</td><td>5</td></tr><tr><td>2</td><td>Office Star Executive Leather Armchair, Black</td><td>4</td></tr><tr><td>4</td><td>Chromcraft Coffee Table, Fully Assembled</td><td>2</td></tr><tr><td>10</td><td>Novimex Shipping Labels, 5000 Label Set</td><td>4</td></tr><tr><td>11</td><td>Green Bar Cards & Envelopes, Premium</td><td>4</td></tr><tr><td>11</td><td>SanDisk Cards & Envelopes, 8.5 x 11</td><td>5</td></tr><tr><td>13</td><td>Fiskars Letter Opener, Steel</td><td>5</td></tr><tr><td>13</td><td>Acme Box Cutter, Easy Grip</td><td>5</td></tr><tr><td>15</td><td>Brother Ink, High-Speed</td><td>5</td></tr><tr><td>3</td><td>Eldon Door Stop, Black</td><td>5</td></tr><tr><td>3</td><td>Rubbermaid Photo Frame, Erganomic</td><td>5</td></tr><tr><td>1</td><td>Dania Corner Shelving, Mobile</td><td>4</td></tr><tr><td>17</td><td>Motorola Speaker Phone, Full Size</td><td>4</td></tr><tr><td>2</td><td>Hon Swivel Stool, Adjustable</td><td>4</td></tr><tr><td>16</td><td>Epson Receipt Printer, Durable</td><td>3</td></tr><tr><td>7</td><td>Avery Binder Covers, Clear</td><td>4</td></tr><tr><td>5</td><td>Hamilton Beach Coffee Grinder, Black</td><td>4</td></tr><tr><td>5</td><td>Breville Toaster, Silver</td><td>4</td></tr><tr><td>3</td><td>Tenex Photo Frame, Erganomic</td><td>4</td></tr><tr><td>1</td><td>Safco 3-Shelf Cabinet, Mobile</td><td>2</td></tr><tr><td>1</td><td>Dania Classic Bookcase, Traditional</td><td>4</td></tr><tr><td>16</td><td>StarTech Printer, Durable</td><td>4</td></tr><tr><td>16</td><td>Epson Inkjet, White</td><td>3</td></tr><tr><td>4</td><td>Barricks Computer Table, Adjustable Height</td><td>3</td></tr><tr><td>4</td><td>Barricks Wood Table, with Bottom Storage</td><td>2</td></tr><tr><td>10</td><td>Novimex File Folder Labels, 5000 Label Set</td><td>4</td></tr><tr><td>12</td><td>Rogers Trays, Single Width</td><td>4</td></tr><tr><td>9</td><td>Accos Push Pins, Assorted Sizes</td><td>5</td></tr><tr><td>13</td><td>Acme Trimmer, Serrated</td><td>5</td></tr><tr><td>1</td><td>Safco Classic Bookcase, Traditional</td><td>4</td></tr><tr><td>15</td><td>Sharp Copy Machine, Color</td><td>8</td></tr><tr><td>16</td><td>Panasonic Calculator, Durable</td><td>4</td></tr><tr><td>17</td><td>Samsung Smart Phone, with Caller ID</td><td>3</td></tr><tr><td>4</td><td>Bevis Round Table, with Bottom Storage</td><td>2</td></tr><tr><td>8</td><td>Cameo Clasp Envelope, Set of 50</td><td>2</td></tr><tr><td>10</td><td>Smead Legal Exhibit Labels, Laser Printer Compatible</td><td>5</td></tr><tr><td>5</td><td>KitchenAid Stove, Black</td><td>5</td></tr><tr><td>11</td><td>Xerox Cards & Envelopes, 8.5 x 11</td><td>5</td></tr><tr><td>7</td><td>Cardinal Binder, Clear</td><td>6</td></tr><tr><td>11</td><td>Green Bar Parchment Paper, Premium</td><td>5</td></tr><tr><td>16</td><td>StarTech Card Printer, Wireless</td><td>3</td></tr><tr><td>3</td><td>Tenex Stacking Tray, Durable</td><td>4</td></tr><tr><td>17</td><td>Nokia Signal Booster, with Caller ID</td><td>5</td></tr><tr><td>15</td><td>Canon Ink, Laser</td><td>4</td></tr><tr><td>16</td><td>Okidata Printer, Red</td><td>2</td></tr><tr><td>2</td><td>Novimex Chairmat, Set of Two</td><td>5</td></tr><tr><td>17</td><td>Cisco Signal Booster, VoIP</td><td>4</td></tr><tr><td>13</td><td>Stiletto Trimmer, Serrated</td><td>4</td></tr><tr><td>8</td><td>GlobeWeis Clasp Envelope, Security-Tint</td><td>4</td></tr><tr><td>7</td><td>Ibico 3-Hole Punch, Durable</td><td>4</td></tr><tr><td>8</td><td>Ames Mailers, Recycled</td><td>4</td></tr><tr><td>5</td><td>Hoover Toaster, Red</td><td>4</td></tr><tr><td>17</td><td>Samsung Headset, Full Size</td><td>3</td></tr><tr><td>1</td><td>Safco Library with Doors, Pine</td><td>4</td></tr><tr><td>1</td><td>Sauder Classic Bookcase, Metal</td><td>4</td></tr><tr><td>1</td><td>Dania Library with Doors, Traditional</td><td>5</td></tr><tr><td>2</td><td>Office Star Bag Chairs, Set of Two</td><td>5</td></tr><tr><td>6</td><td>Sanford Highlighters, Fluorescent</td><td>5</td></tr><tr><td>9</td><td>Advantus Thumb Tacks, Metal</td><td>4</td></tr><tr><td>10</td><td>Harbour Creations Color Coded Labels, Adjustable</td><td>4</td></tr><tr><td>14</td><td>Memorex Memory Card, Bluetooth</td><td>4</td></tr><tr><td>3</td><td>Rubbermaid Light Bulb, Duo Pack</td><td>4</td></tr><tr><td>14</td><td>Enermax Keyboard, Bluetooth</td><td>5</td></tr><tr><td>4</td><td>Hon Computer Table, Adjustable Height</td><td>3</td></tr><tr><td>3</td><td>Tenex Light Bulb, Duo Pack</td><td>5</td></tr><tr><td>17</td><td>Motorola Office Telephone, with Caller ID</td><td>4</td></tr><tr><td>17</td><td>Cisco Audio Dock, Cordless</td><td>4</td></tr><tr><td>10</td><td>Hon File Folder Labels, Alphabetical</td><td>6</td></tr><tr><td>12</td><td>Smead Shelving, Single Width</td><td>4</td></tr><tr><td>13</td><td>Elite Box Cutter, Serrated</td><td>4</td></tr><tr><td>15</td><td>Canon Fax Machine, Color</td><td>5</td></tr><tr><td>3</td><td>Deflect-O Light Bulb, Duo Pack</td><td>4</td></tr><tr><td>14</td><td>Enermax Router, Erganomic</td><td>5</td></tr><tr><td>6</td><td>BIC Highlighters, Blue</td><td>5</td></tr><tr><td>13</td><td>Kleencut Ruler, Steel</td><td>3</td></tr><tr><td>8</td><td>Jiffy Clasp Envelope, with clear poly window</td><td>5</td></tr><tr><td>10</td><td>Harbour Creations Removable Labels, 5000 Label Set</td><td>4</td></tr><tr><td>3</td><td>Advantus Frame, Black</td><td>4</td></tr><tr><td>15</td><td>Canon Copy Machine, High-Speed</td><td>4</td></tr><tr><td>1</td><td>Ikea Classic Bookcase, Mobile</td><td>4</td></tr><tr><td>4</td><td>Bevis Training Table, with Bottom Storage</td><td>2</td></tr><tr><td>6</td><td>Stanley Pencil Sharpener, Fluorescent</td><td>4</td></tr><tr><td>6</td><td>Binney & Smith Pens, Water Color</td><td>5</td></tr><tr><td>5</td><td>KitchenAid Toaster, White</td><td>4</td></tr><tr><td>13</td><td>Fiskars Trimmer, Serrated</td><td>6</td></tr><tr><td>11</td><td>Eaton Memo Slips, Premium</td><td>4</td></tr><tr><td>12</td><td>Tenex Trays, Single Width</td><td>5</td></tr><tr><td>5</td><td>Hoover Coffee Grinder, Silver</td><td>4</td></tr><tr><td>8</td><td>GlobeWeis Business Envelopes, Recycled</td><td>5</td></tr><tr><td>13</td><td>Acme Shears, Serrated</td><td>5</td></tr><tr><td>8</td><td>GlobeWeis Mailers, Recycled</td><td>6</td></tr><tr><td>14</td><td>Belkin Numeric Keypad, Bluetooth</td><td>9</td></tr><tr><td>15</td><td>Brother Ink, Color</td><td>5</td></tr><tr><td>15</td><td>Sharp Ink, Laser</td><td>5</td></tr><tr><td>14</td><td>SanDisk Memory Card, USB</td><td>5</td></tr><tr><td>7</td><td>Wilson Jones Binder Covers, Clear</td><td>4</td></tr><tr><td>11</td><td>Enermax Cards & Envelopes, Multicolor</td><td>4</td></tr><tr><td>8</td><td>Jiffy Mailers, with clear poly window</td><td>5</td></tr><tr><td>9</td><td>OIC Clamps, 12 Pack</td><td>4</td></tr><tr><td>1</td><td>Bush Library with Doors, Metal</td><td>4</td></tr><tr><td>9</td><td>Accos Rubber Bands, Bulk Pack</td><td>4</td></tr><tr><td>7</td><td>Ibico Binder Covers, Economy</td><td>5</td></tr><tr><td>6</td><td>BIC Markers, Easy-Erase</td><td>4</td></tr><tr><td>16</td><td>Epson Inkjet, Wireless</td><td>6</td></tr><tr><td>3</td><td>Eldon Door Stop, Durable</td><td>5</td></tr><tr><td>12</td><td>Eldon Folders, Single Width</td><td>4</td></tr><tr><td>7</td><td>Avery Binder Covers, Recycled</td><td>4</td></tr><tr><td>10</td><td>Hon Legal Exhibit Labels, Adjustable</td><td>4</td></tr><tr><td>2</td><td>SAFCO Rocking Chair, Adjustable</td><td>5</td></tr><tr><td>3</td><td>Rubbermaid Frame, Duo Pack</td><td>5</td></tr><tr><td>14</td><td>Logitech Memory Card, Bluetooth</td><td>6</td></tr><tr><td>14</td><td>Logitech Numeric Keypad, USB</td><td>4</td></tr><tr><td>17</td><td>Cisco Audio Dock, VoIP</td><td>4</td></tr><tr><td>6</td><td>Boston Highlighters, Easy-Erase</td><td>5</td></tr><tr><td>9</td><td>Stockwell Clamps, Bulk Pack</td><td>9</td></tr><tr><td>10</td><td>Avery Color Coded Labels, Laser Printer Compatible</td><td>4</td></tr><tr><td>13</td><td>Fiskars Shears, Serrated</td><td>4</td></tr><tr><td>11</td><td>SanDisk Message Books, Premium</td><td>3</td></tr><tr><td>6</td><td>BIC Pens, Water Color</td><td>4</td></tr><tr><td>10</td><td>Hon File Folder Labels, 5000 Label Set</td><td>4</td></tr><tr><td>1</td><td>Ikea Corner Shelving, Metal</td><td>4</td></tr><tr><td>8</td><td>Jiffy Business Envelopes, Recycled</td><td>9</td></tr><tr><td>12</td><td>Tenex File Cart, Industrial</td><td>4</td></tr><tr><td>6</td><td>Stanley Sketch Pad, Easy-Erase</td><td>5</td></tr><tr><td>3</td><td>Tenex Frame, Erganomic</td><td>4</td></tr><tr><td>1</td><td>Ikea Stackable Bookrack, Traditional</td><td>4</td></tr><tr><td>3</td><td>Tenex Photo Frame, Durable</td><td>3</td></tr><tr><td>15</td><td>Canon Ink, High-Speed</td><td>4</td></tr><tr><td>11</td><td>Eaton Computer Printout Paper, 8.5 x 11</td><td>5</td></tr><tr><td>5</td><td>Hoover Stove, White</td><td>4</td></tr><tr><td>6</td><td>Binney & Smith Markers, Fluorescent</td><td>4</td></tr><tr><td>8</td><td>Ames Clasp Envelope, with clear poly window</td><td>5</td></tr><tr><td>11</td><td>Green Bar Cards & Envelopes, 8.5 x 11</td><td>5</td></tr><tr><td>15</td><td>HP Wireless Fax, Color</td><td>5</td></tr><tr><td>16</td><td>Konica Calculator, Durable</td><td>2</td></tr><tr><td>1</td><td>Sauder Library with Doors, Mobile</td><td>4</td></tr><tr><td>8</td><td>Jiffy Peel and Seal, Recycled</td><td>5</td></tr><tr><td>12</td><td>Tenex Shelving, Wire Frame</td><td>4</td></tr><tr><td>13</td><td>Kleencut Trimmer, Easy Grip</td><td>4</td></tr><tr><td>5</td><td>Hoover Refrigerator, Silver</td><td>4</td></tr><tr><td>7</td><td>Ibico Index Tab, Economy</td><td>4</td></tr><tr><td>11</td><td>Green Bar Memo Slips, Multicolor</td><td>5</td></tr><tr><td>6</td><td>Sanford Pens, Fluorescent</td><td>4</td></tr><tr><td>13</td><td>Fiskars Scissors, Serrated</td><td>4</td></tr><tr><td>13</td><td>Kleencut Scissors, Easy Grip</td><td>4</td></tr><tr><td>10</td><td>Smead Legal Exhibit Labels, Adjustable</td><td>4</td></tr><tr><td>14</td><td>Logitech Keyboard, Erganomic</td><td>3</td></tr><tr><td>17</td><td>Motorola Speaker Phone, VoIP</td><td>3</td></tr><tr><td>14</td><td>Logitech Keyboard, Bluetooth</td><td>3</td></tr><tr><td>8</td><td>Cameo Mailers, Recycled</td><td>5</td></tr><tr><td>12</td><td>Tenex Folders, Wire Frame</td><td>4</td></tr><tr><td>4</td><td>Lesro Conference Table, with Bottom Storage</td><td>4</td></tr><tr><td>14</td><td>Enermax Memory Card, USB</td><td>6</td></tr><tr><td>2</td><td>Harbour Creations Chairmat, Black</td><td>4</td></tr><tr><td>15</td><td>Sharp Personal Copier, Color</td><td>4</td></tr><tr><td>8</td><td>Cameo Manila Envelope, Recycled</td><td>4</td></tr><tr><td>13</td><td>Fiskars Ruler, Easy Grip</td><td>5</td></tr><tr><td>8</td><td>Jiffy Manila Envelope, Set of 50</td><td>5</td></tr><tr><td>10</td><td>Harbour Creations Shipping Labels, Laser Printer Compatible</td><td>4</td></tr><tr><td>5</td><td>Breville Toaster, White</td><td>2</td></tr><tr><td>17</td><td>Nokia Signal Booster, Full Size</td><td>4</td></tr><tr><td>17</td><td>Motorola Audio Dock, VoIP</td><td>4</td></tr><tr><td>14</td><td>Belkin Mouse, Erganomic</td><td>4</td></tr><tr><td>10</td><td>Novimex Round Labels, Alphabetical</td><td>5</td></tr><tr><td>9</td><td>Advantus Staples, 12 Pack</td><td>4</td></tr><tr><td>10</td><td>Smead Shipping Labels, Adjustable</td><td>5</td></tr><tr><td>13</td><td>Elite Ruler, Steel</td><td>5</td></tr><tr><td>9</td><td>Accos Staples, Assorted Sizes</td><td>5</td></tr><tr><td>11</td><td>Green Bar Memo Slips, Premium</td><td>4</td></tr><tr><td>7</td><td>Avery 3-Hole Punch, Recycled</td><td>4</td></tr><tr><td>15</td><td>Sharp Fax Machine, Color</td><td>4</td></tr><tr><td>17</td><td>Samsung Speaker Phone, VoIP</td><td>4</td></tr><tr><td>14</td><td>Enermax Memory Card, Bluetooth</td><td>5</td></tr><tr><td>1</td><td>Sauder Floating Shelf Set, Traditional</td><td>4</td></tr><tr><td>7</td><td>Acco Hole Reinforcements, Recycled</td><td>5</td></tr><tr><td>8</td><td>Cameo Interoffice Envelope, Security-Tint</td><td>5</td></tr><tr><td>8</td><td>Kraft Interoffice Envelope, Set of 50</td><td>4</td></tr><tr><td>6</td><td>Stanley Pens, Water Color</td><td>4</td></tr><tr><td>3</td><td>Tenex Photo Frame, Black</td><td>5</td></tr><tr><td>1</td><td>Safco Classic Bookcase, Mobile</td><td>4</td></tr><tr><td>16</td><td>Okidata Receipt Printer, Red</td><td>3</td></tr><tr><td>17</td><td>Cisco Smart Phone, with Caller ID</td><td>4</td></tr><tr><td>4</td><td>KI Adjustable-Height Table</td><td>2</td></tr><tr><td>8</td><td>GlobeWeis Manila Envelope, Set of 50</td><td>5</td></tr><tr><td>13</td><td>Kleencut Box Cutter, High Speed</td><td>5</td></tr><tr><td>10</td><td>Smead Round Labels, Alphabetical</td><td>4</td></tr><tr><td>15</td><td>Sharp Personal Copier, Digital</td><td>4</td></tr><tr><td>16</td><td>Konica Calculator, Red</td><td>4</td></tr><tr><td>14</td><td>Enermax Numeric Keypad, Erganomic</td><td>4</td></tr><tr><td>17</td><td>Samsung Headset, Cordless</td><td>5</td></tr><tr><td>13</td><td>Acme Trimmer, Steel</td><td>5</td></tr><tr><td>10</td><td>Harbour Creations Shipping Labels, Adjustable</td><td>4</td></tr><tr><td>12</td><td>Tenex Trays, Wire Frame</td><td>6</td></tr><tr><td>17</td><td>Nokia Headset, VoIP</td><td>5</td></tr><tr><td>17</td><td>Nokia Smart Phone, with Caller ID</td><td>5</td></tr><tr><td>1</td><td>Dania Floating Shelf Set, Traditional</td><td>5</td></tr><tr><td>3</td><td>Advantus Clock, Erganomic</td><td>4</td></tr><tr><td>1</td><td>Dania Stackable Bookrack, Mobile</td><td>4</td></tr><tr><td>1</td><td>Dania Corner Shelving, Pine</td><td>6</td></tr><tr><td>4</td><td>Barricks Round Table, Adjustable Height</td><td>2</td></tr><tr><td>13</td><td>Elite Scissors, Serrated</td><td>3</td></tr><tr><td>7</td><td>Ibico 3-Hole Punch, Economy</td><td>4</td></tr><tr><td>12</td><td>Smead Shelving, Wire Frame</td><td>6</td></tr><tr><td>7</td><td>Wilson Jones Binder, Clear</td><td>4</td></tr><tr><td>3</td><td>Eldon Frame, Duo Pack</td><td>4</td></tr><tr><td>14</td><td>Belkin Memory Card, Erganomic</td><td>4</td></tr><tr><td>16</td><td>StarTech Phone, Wireless</td><td>4</td></tr><tr><td>1</td><td>Dania Classic Bookcase, Pine</td><td>5</td></tr><tr><td>14</td><td>Memorex Memory Card, Programmable</td><td>3</td></tr><tr><td>15</td><td>Sharp Fax and Copier, High-Speed</td><td>4</td></tr><tr><td>7</td><td>Wilson Jones Binder, Recycled</td><td>4</td></tr><tr><td>12</td><td>Rogers Folders, Industrial</td><td>3</td></tr><tr><td>5</td><td>Cuisinart Coffee Grinder, Silver</td><td>4</td></tr><tr><td>3</td><td>Eldon Photo Frame, Duo Pack</td><td>5</td></tr><tr><td>1</td><td>Dania Corner Shelving, Metal</td><td>5</td></tr><tr><td>17</td><td>Motorola Smart Phone, with Caller ID</td><td>4</td></tr><tr><td>15</td><td>Sharp Fax Machine, Digital</td><td>6</td></tr><tr><td>9</td><td>Stockwell Push Pins, 12 Pack</td><td>11</td></tr><tr><td>9</td><td>Accos Thumb Tacks, 12 Pack</td><td>4</td></tr><tr><td>11</td><td>SanDisk Note Cards, Premium</td><td>9</td></tr><tr><td>9</td><td>Stockwell Clamps, 12 Pack</td><td>10</td></tr><tr><td>8</td><td>Jiffy Interoffice Envelope, Security-Tint</td><td>5</td></tr><tr><td>12</td><td>Rogers Trays, Wire Frame</td><td>4</td></tr><tr><td>13</td><td>Elite Scissors, High Speed</td><td>4</td></tr><tr><td>5</td><td>Hamilton Beach Stove, White</td><td>4</td></tr><tr><td>16</td><td>StarTech Printer, Red</td><td>3</td></tr><tr><td>15</td><td>Hewlett Wireless Fax, High-Speed</td><td>4</td></tr><tr><td>10</td><td>Avery Color Coded Labels, Alphabetical</td><td>5</td></tr><tr><td>9</td><td>Advantus Staples, Assorted Sizes</td><td>4</td></tr><tr><td>13</td><td>Elite Shears, Easy Grip</td><td>5</td></tr><tr><td>6</td><td>Boston Sketch Pad, Blue</td><td>4</td></tr><tr><td>8</td><td>Cameo Peel and Seal, Set of 50</td><td>3</td></tr><tr><td>16</td><td>Panasonic Calculator, Wireless</td><td>4</td></tr><tr><td>2</td><td>Hon Bag Chairs, Adjustable</td><td>5</td></tr><tr><td>2</td><td>Harbour Creations Bag Chairs, Black</td><td>5</td></tr><tr><td>17</td><td>Motorola Headset, Cordless</td><td>5</td></tr><tr><td>14</td><td>Logitech Memory Card, Programmable</td><td>4</td></tr><tr><td>4</td><td>Bevis Conference Table, Rectangular</td><td>2</td></tr><tr><td>15</td><td>Sharp Ink, Color</td><td>5</td></tr><tr><td>4</td><td>Chromcraft Computer Table, Fully Assembled</td><td>3</td></tr><tr><td>9</td><td>Stockwell Thumb Tacks, Assorted Sizes</td><td>8</td></tr><tr><td>7</td><td>Wilson Jones Binding Machine, Economy</td><td>5</td></tr><tr><td>8</td><td>GlobeWeis Manila Envelope, with clear poly window</td><td>5</td></tr><tr><td>6</td><td>BIC Pencil Sharpener, Blue</td><td>4</td></tr><tr><td>11</td><td>Green Bar Note Cards, 8.5 x 11</td><td>5</td></tr><tr><td>15</td><td>Sharp Wireless Fax, Laser</td><td>4</td></tr><tr><td>1</td><td>Bush Corner Shelving, Traditional</td><td>4</td></tr><tr><td>2</td><td>Office Star Chairmat, Adjustable</td><td>4</td></tr><tr><td>16</td><td>Okidata Receipt Printer, White</td><td>4</td></tr><tr><td>15</td><td>Sharp Fax and Copier, Color</td><td>4</td></tr><tr><td>4</td><td>Bevis Conference Table, Fully Assembled</td><td>4</td></tr><tr><td>8</td><td>Kraft Manila Envelope, Security-Tint</td><td>4</td></tr><tr><td>12</td><td>Eldon Box, Industrial</td><td>4</td></tr><tr><td>11</td><td>Green Bar Computer Printout Paper, Recycled</td><td>5</td></tr><tr><td>5</td><td>Staples</td><td>3</td></tr><tr><td>11</td><td>Green Bar Parchment Paper, Multicolor</td><td>4</td></tr><tr><td>10</td><td>Hon Round Labels, Alphabetical</td><td>5</td></tr><tr><td>10</td><td>Smead Color Coded Labels, 5000 Label Set</td><td>4</td></tr><tr><td>13</td><td>Acme Shears, Easy Grip</td><td>6</td></tr><tr><td>5</td><td>KitchenAid Coffee Grinder, Red</td><td>4</td></tr><tr><td>12</td><td>Fellowes Folders, Blue</td><td>6</td></tr><tr><td>6</td><td>Binney & Smith Markers, Water Color</td><td>5</td></tr><tr><td>11</td><td>SanDisk Note Cards, 8.5 x 11</td><td>4</td></tr><tr><td>14</td><td>Memorex Flash Drive, Erganomic</td><td>5</td></tr><tr><td>1</td><td>Sauder Corner Shelving, Pine</td><td>4</td></tr><tr><td>3</td><td>Deflect-O Frame, Duo Pack</td><td>4</td></tr><tr><td>1</td><td>Sauder 3-Shelf Cabinet, Traditional</td><td>4</td></tr><tr><td>16</td><td>Panasonic Card Printer, White</td><td>4</td></tr><tr><td>1</td><td>Safco Library with Doors, Traditional</td><td>4</td></tr><tr><td>5</td><td>KitchenAid Microwave, Silver</td><td>5</td></tr><tr><td>6</td><td>BIC Pencil Sharpener, Water Color</td><td>3</td></tr><tr><td>6</td><td>Stanley Pencil Sharpener, Easy-Erase</td><td>5</td></tr><tr><td>2</td><td>Novimex Steel Folding Chair, Set of Two</td><td>5</td></tr><tr><td>3</td><td>Advantus Stacking Tray, Durable</td><td>5</td></tr><tr><td>17</td><td>Samsung Signal Booster, VoIP</td><td>5</td></tr><tr><td>14</td><td>Belkin Keyboard, Bluetooth</td><td>4</td></tr><tr><td>16</td><td>Konica Calculator, Wireless</td><td>4</td></tr><tr><td>6</td><td>BIC Canvas, Water Color</td><td>4</td></tr><tr><td>7</td><td>Acco Binding Machine, Durable</td><td>4</td></tr><tr><td>11</td><td>Enermax Computer Printout Paper, Premium</td><td>4</td></tr><tr><td>15</td><td>Sharp Wireless Fax, High-Speed</td><td>4</td></tr><tr><td>17</td><td>Cisco Smart Phone, Full Size</td><td>8</td></tr><tr><td>3</td><td>Deflect-O Door Stop, Erganomic</td><td>4</td></tr><tr><td>16</td><td>Panasonic Inkjet, Wireless</td><td>3</td></tr><tr><td>2</td><td>Hon Steel Folding Chair, Red</td><td>3</td></tr><tr><td>4</td><td>Chromcraft Wood Table, Rectangular</td><td>2</td></tr><tr><td>6</td><td>Stanley Pencil Sharpener, Water Color</td><td>7</td></tr><tr><td>10</td><td>Smead Removable Labels, Adjustable</td><td>8</td></tr><tr><td>10</td><td>Novimex Legal Exhibit Labels, 5000 Label Set</td><td>4</td></tr><tr><td>12</td><td>Smead File Cart, Industrial</td><td>4</td></tr><tr><td>15</td><td>Brother Personal Copier, High-Speed</td><td>5</td></tr><tr><td>16</td><td>Okidata Inkjet, Wireless</td><td>6</td></tr><tr><td>4</td><td>Lesro Conference Table, Adjustable Height</td><td>3</td></tr><tr><td>16</td><td>Konica Inkjet, Wireless</td><td>7</td></tr><tr><td>3</td><td>Eldon Photo Frame, Black</td><td>4</td></tr><tr><td>14</td><td>Enermax Router, Bluetooth</td><td>3</td></tr><tr><td>8</td><td>Jiffy Business Envelopes, Security-Tint</td><td>4</td></tr><tr><td>7</td><td>Cardinal Binding Machine, Economy</td><td>5</td></tr><tr><td>10</td><td>Harbour Creations Shipping Labels, Alphabetical</td><td>5</td></tr><tr><td>12</td><td>Smead Folders, Single Width</td><td>4</td></tr><tr><td>9</td><td>Stockwell Staples, Metal</td><td>8</td></tr><tr><td>10</td><td>Hon File Folder Labels, Adjustable</td><td>4</td></tr><tr><td>7</td><td>Acco Binding Machine, Recycled</td><td>5</td></tr><tr><td>8</td><td>Kraft Mailers, Recycled</td><td>4</td></tr><tr><td>15</td><td>HP Wireless Fax, High-Speed</td><td>3</td></tr><tr><td>15</td><td>Sharp Ink, High-Speed</td><td>3</td></tr><tr><td>1</td><td>Dania Stackable Bookrack, Pine</td><td>8</td></tr><tr><td>3</td><td>Eldon Clock, Duo Pack</td><td>3</td></tr><tr><td>17</td><td>Samsung Smart Phone, Full Size</td><td>4</td></tr><tr><td>4</td><td>Lesro Wood Table, Rectangular</td><td>3</td></tr><tr><td>4</td><td>Chromcraft Coffee Table, with Bottom Storage</td><td>2</td></tr><tr><td>4</td><td>Hon Conference Table, Rectangular</td><td>3</td></tr><tr><td>7</td><td>Acco Binder Covers, Durable</td><td>4</td></tr><tr><td>13</td><td>Stiletto Trimmer, High Speed</td><td>5</td></tr><tr><td>6</td><td>Sanford Sketch Pad, Fluorescent</td><td>4</td></tr><tr><td>8</td><td>GlobeWeis Peel and Seal, Set of 50</td><td>5</td></tr><tr><td>1</td><td>Safco Corner Shelving, Pine</td><td>4</td></tr><tr><td>14</td><td>Memorex Keyboard, Programmable</td><td>4</td></tr><tr><td>3</td><td>Rubbermaid Clock, Durable</td><td>3</td></tr><tr><td>8</td><td>Jiffy Peel and Seal, Set of 50</td><td>5</td></tr><tr><td>11</td><td>Enermax Message Books, Recycled</td><td>6</td></tr><tr><td>10</td><td>Novimex Color Coded Labels, Adjustable</td><td>5</td></tr><tr><td>10</td><td>Smead Round Labels, Adjustable</td><td>4</td></tr><tr><td>5</td><td>Hoover Microwave, White</td><td>6</td></tr><tr><td>12</td><td>Rogers Lockers, Wire Frame</td><td>4</td></tr><tr><td>7</td><td>Ibico Binder, Durable</td><td>4</td></tr><tr><td>16</td><td>StarTech Phone, White</td><td>4</td></tr><tr><td>17</td><td>Apple Office Telephone, with Caller ID</td><td>3</td></tr><tr><td>16</td><td>StarTech Card Printer, Red</td><td>2</td></tr><tr><td>3</td><td>Advantus Door Stop, Duo Pack</td><td>4</td></tr><tr><td>14</td><td>Logitech Keyboard, Programmable</td><td>5</td></tr><tr><td>14</td><td>Memorex Keyboard, Erganomic</td><td>4</td></tr><tr><td>3</td><td>Tenex Light Bulb, Black</td><td>4</td></tr><tr><td>1</td><td>Bush Corner Shelving, Metal</td><td>4</td></tr><tr><td>6</td><td>Binney & Smith Pens, Fluorescent</td><td>4</td></tr><tr><td>9</td><td>OIC Push Pins, Metal</td><td>4</td></tr><tr><td>10</td><td>Avery Removable Labels, Alphabetical</td><td>5</td></tr><tr><td>11</td><td>Xerox Message Books, Multicolor</td><td>3</td></tr><tr><td>5</td><td>Cuisinart Blender, Silver</td><td>3</td></tr><tr><td>11</td><td>Xerox Parchment Paper, Multicolor</td><td>4</td></tr><tr><td>1</td><td>Safco 3-Shelf Cabinet, Metal</td><td>4</td></tr><tr><td>1</td><td>Dania Floating Shelf Set, Metal</td><td>4</td></tr><tr><td>4</td><td>Bevis Coffee Table, Rectangular</td><td>3</td></tr><tr><td>13</td><td>Elite Scissors, Steel</td><td>4</td></tr><tr><td>13</td><td>Stiletto Trimmer, Steel</td><td>5</td></tr><tr><td>9</td><td>Stockwell Rubber Bands, Assorted Sizes</td><td>9</td></tr><tr><td>10</td><td>Avery Removable Labels, Adjustable</td><td>3</td></tr><tr><td>5</td><td>Hamilton Beach Blender, Silver</td><td>3</td></tr><tr><td>15</td><td>Sharp Wireless Fax, Color</td><td>4</td></tr><tr><td>2</td><td>SAFCO Chairmat, Red</td><td>5</td></tr><tr><td>3</td><td>Deflect-O Frame, Durable</td><td>4</td></tr><tr><td>2</td><td>Office Star Swivel Stool, Adjustable</td><td>4</td></tr><tr><td>16</td><td>Konica Phone, White</td><td>4</td></tr><tr><td>10</td><td>Novimex Removable Labels, Adjustable</td><td>7</td></tr><tr><td>10</td><td>Hon Shipping Labels, Adjustable</td><td>6</td></tr><tr><td>12</td><td>Smead Lockers, Single Width</td><td>5</td></tr><tr><td>10</td><td>Harbour Creations Color Coded Labels, Alphabetical</td><td>3</td></tr><tr><td>5</td><td>Hoover Blender, White</td><td>5</td></tr><tr><td>6</td><td>Boston Pens, Blue</td><td>5</td></tr><tr><td>2</td><td>Novimex Executive Leather Armchair, Adjustable</td><td>10</td></tr><tr><td>2</td><td>SAFCO Bag Chairs, Black</td><td>5</td></tr><tr><td>4</td><td>Lesro Computer Table, Adjustable Height</td><td>4</td></tr><tr><td>17</td><td>Cisco Signal Booster, Cordless</td><td>4</td></tr><tr><td>4</td><td>Lesro Round Table, Fully Assembled</td><td>2</td></tr><tr><td>9</td><td>OIC Thumb Tacks, Assorted Sizes</td><td>4</td></tr><tr><td>12</td><td>Smead Box, Wire Frame</td><td>5</td></tr><tr><td>13</td><td>Elite Trimmer, Easy Grip</td><td>5</td></tr><tr><td>7</td><td>Acco Hole Reinforcements, Clear</td><td>3</td></tr><tr><td>12</td><td>Eldon Lockers, Industrial</td><td>5</td></tr><tr><td>11</td><td>Eaton Message Books, Premium</td><td>3</td></tr><tr><td>15</td><td>Brother Wireless Fax, Color</td><td>4</td></tr><tr><td>16</td><td>Epson Calculator, Red</td><td>3</td></tr><tr><td>15</td><td>Brother Copy Machine, High-Speed</td><td>5</td></tr><tr><td>14</td><td>Belkin Keyboard, Programmable</td><td>3</td></tr><tr><td>2</td><td>Novimex Swivel Stool, Red</td><td>3</td></tr><tr><td>2</td><td>Hon Steel Folding Chair, Black</td><td>6</td></tr><tr><td>1</td><td>Bush 3-Shelf Cabinet, Pine</td><td>4</td></tr><tr><td>4</td><td>Bevis Coffee Table, Fully Assembled</td><td>3</td></tr><tr><td>6</td><td>Sanford Sketch Pad, Blue</td><td>4</td></tr><tr><td>8</td><td>GlobeWeis Peel and Seal, Security-Tint</td><td>4</td></tr><tr><td>12</td><td>Rogers Folders, Single Width</td><td>4</td></tr><tr><td>13</td><td>Elite Trimmer, Steel</td><td>4</td></tr><tr><td>7</td><td>Cardinal Binder, Recycled</td><td>3</td></tr><tr><td>2</td><td>SAFCO Executive Leather Armchair, Black</td><td>5</td></tr><tr><td>16</td><td>Panasonic Printer, Wireless</td><td>3</td></tr><tr><td>3</td><td>Tenex Door Stop, Durable</td><td>4</td></tr><tr><td>16</td><td>Panasonic Phone, Durable</td><td>4</td></tr><tr><td>15</td><td>HP Ink, High-Speed</td><td>3</td></tr><tr><td>16</td><td>Okidata Printer, White</td><td>3</td></tr><tr><td>4</td><td>Bevis Round Table, Adjustable Height</td><td>3</td></tr><tr><td>8</td><td>GlobeWeis Business Envelopes, with clear poly window</td><td>5</td></tr><tr><td>12</td><td>Eldon Folders, Blue</td><td>5</td></tr><tr><td>5</td><td>Hamilton Beach Refrigerator, Black</td><td>4</td></tr><tr><td>13</td><td>Fiskars Ruler, Steel</td><td>3</td></tr><tr><td>14</td><td>Logitech Mouse, USB</td><td>4</td></tr><tr><td>14</td><td>SanDisk Flash Drive, Erganomic</td><td>4</td></tr><tr><td>13</td><td>Acme Trimmer, High Speed</td><td>5</td></tr><tr><td>6</td><td>BIC Sketch Pad, Fluorescent</td><td>4</td></tr><tr><td>10</td><td>Harbour Creations Round Labels, 5000 Label Set</td><td>4</td></tr><tr><td>15</td><td>HP Wireless Fax, Digital</td><td>4</td></tr><tr><td>2</td><td>Novimex Bag Chairs, Adjustable</td><td>4</td></tr><tr><td>14</td><td>SanDisk Numeric Keypad, Erganomic</td><td>3</td></tr><tr><td>2</td><td>Office Star Executive Leather Armchair, Red</td><td>4</td></tr><tr><td>4</td><td>Bevis Wood Table, with Bottom Storage</td><td>4</td></tr><tr><td>4</td><td>Chromcraft Wood Table, Adjustable Height</td><td>2</td></tr><tr><td>12</td><td>Rogers Shelving, Industrial</td><td>5</td></tr><tr><td>11</td><td>Green Bar Message Books, Recycled</td><td>6</td></tr><tr><td>13</td><td>Fiskars Letter Opener, High Speed</td><td>3</td></tr><tr><td>10</td><td>Novimex Color Coded Labels, 5000 Label Set</td><td>3</td></tr><tr><td>9</td><td>OIC Paper Clips, Assorted Sizes</td><td>4</td></tr><tr><td>5</td><td>Cuisinart Coffee Grinder, White</td><td>3</td></tr><tr><td>11</td><td>Enermax Cards & Envelopes, Premium</td><td>4</td></tr><tr><td>14</td><td>Belkin Router, Bluetooth</td><td>3</td></tr><tr><td>3</td><td>Eldon Door Stop, Erganomic</td><td>6</td></tr><tr><td>2</td><td>Hon Steel Folding Chair, Set of Two</td><td>5</td></tr><tr><td>16</td><td>Panasonic Inkjet, White</td><td>5</td></tr><tr><td>2</td><td>Harbour Creations Bag Chairs, Red</td><td>5</td></tr><tr><td>16</td><td>Epson Calculator, Wireless</td><td>5</td></tr><tr><td>3</td><td>Deflect-O Door Stop, Duo Pack</td><td>4</td></tr><tr><td>1</td><td>Dania Stackable Bookrack, Traditional</td><td>4</td></tr><tr><td>13</td><td>Fiskars Shears, Easy Grip</td><td>5</td></tr><tr><td>8</td><td>Cameo Interoffice Envelope, Set of 50</td><td>4</td></tr><tr><td>13</td><td>Fiskars Scissors, High Speed</td><td>5</td></tr><tr><td>11</td><td>Xerox Cards & Envelopes, Multicolor</td><td>3</td></tr><tr><td>1</td><td>Safco 3-Shelf Cabinet, Traditional</td><td>3</td></tr><tr><td>3</td><td>Rubbermaid Clock, Erganomic</td><td>4</td></tr><tr><td>3</td><td>Deflect-O Stacking Tray, Black</td><td>4</td></tr><tr><td>3</td><td>Tenex Door Stop, Black</td><td>4</td></tr><tr><td>4</td><td>Lesro Computer Table, Fully Assembled</td><td>3</td></tr><tr><td>11</td><td>Green Bar Computer Printout Paper, Multicolor</td><td>4</td></tr><tr><td>8</td><td>Staples</td><td>9</td></tr><tr><td>13</td><td>Acme Letter Opener, High Speed</td><td>4</td></tr><tr><td>11</td><td>Green Bar Message Books, Multicolor</td><td>4</td></tr><tr><td>12</td><td>Eldon Shelving, Wire Frame</td><td>4</td></tr><tr><td>7</td><td>Ibico 3-Hole Punch, Clear</td><td>4</td></tr><tr><td>12</td><td>Smead Box, Single Width</td><td>4</td></tr><tr><td>11</td><td>Enermax Cards & Envelopes, Recycled</td><td>5</td></tr><tr><td>2</td><td>Office Star Rocking Chair, Set of Two</td><td>6</td></tr><tr><td>15</td><td>Brother Ink, Digital</td><td>4</td></tr><tr><td>16</td><td>Panasonic Phone, Wireless</td><td>3</td></tr><tr><td>1</td><td>Dania Library with Doors, Mobile</td><td>5</td></tr><tr><td>1</td><td>Sauder Corner Shelving, Mobile</td><td>5</td></tr><tr><td>12</td><td>Smead Lockers, Wire Frame</td><td>4</td></tr><tr><td>8</td><td>Cameo Peel and Seal, Security-Tint</td><td>5</td></tr><tr><td>5</td><td>KitchenAid Blender, White</td><td>3</td></tr><tr><td>8</td><td>GlobeWeis Interoffice Envelope, Security-Tint</td><td>5</td></tr><tr><td>8</td><td>Kraft Peel and Seal, with clear poly window</td><td>4</td></tr><tr><td>14</td><td>Belkin Mouse, Bluetooth</td><td>3</td></tr><tr><td>1</td><td>Bush Library with Doors, Pine</td><td>3</td></tr><tr><td>2</td><td>Harbour Creations Steel Folding Chair, Black</td><td>5</td></tr><tr><td>15</td><td>Canon Personal Copier, Digital</td><td>4</td></tr><tr><td>4</td><td>Barricks Training Table, Fully Assembled</td><td>4</td></tr><tr><td>12</td><td>Fellowes Folders, Single Width</td><td>4</td></tr><tr><td>12</td><td>Smead Box, Blue</td><td>5</td></tr><tr><td>7</td><td>Acco 3-Hole Punch, Durable</td><td>4</td></tr><tr><td>7</td><td>Ibico Hole Reinforcements, Clear</td><td>5</td></tr><tr><td>16</td><td>Okidata Phone, White</td><td>4</td></tr><tr><td>3</td><td>Eldon Clock, Black</td><td>4</td></tr><tr><td>3</td><td>Tenex Clock, Black</td><td>5</td></tr><tr><td>2</td><td>Office Star Executive Leather Armchair, Adjustable</td><td>9</td></tr><tr><td>14</td><td>SanDisk Mouse, Erganomic</td><td>5</td></tr><tr><td>4</td><td>Lesro Conference Table, Fully Assembled</td><td>4</td></tr><tr><td>9</td><td>Accos Clamps, Metal</td><td>4</td></tr><tr><td>8</td><td>Peel & Seel Recycled Catalog Envelopes, Brown</td><td>2</td></tr><tr><td>5</td><td>Hoover Refrigerator, Black</td><td>4</td></tr><tr><td>9</td><td>Stockwell Thumb Tacks, Bulk Pack</td><td>8</td></tr><tr><td>14</td><td>SanDisk Router, USB</td><td>5</td></tr><tr><td>15</td><td>Canon Wireless Fax, High-Speed</td><td>3</td></tr><tr><td>1</td><td>Dania 3-Shelf Cabinet, Metal</td><td>3</td></tr><tr><td>3</td><td>Advantus Light Bulb, Black</td><td>4</td></tr><tr><td>1</td><td>Bush Stackable Bookrack, Mobile</td><td>3</td></tr><tr><td>14</td><td>Enermax Mouse, Programmable</td><td>3</td></tr><tr><td>7</td><td>Cardinal Index Tab, Durable</td><td>5</td></tr><tr><td>5</td><td>Hamilton Beach Toaster, Red</td><td>4</td></tr><tr><td>11</td><td>Xerox Cards & Envelopes, Recycled</td><td>4</td></tr><tr><td>9</td><td>Advantus Paper Clips, Metal</td><td>5</td></tr><tr><td>11</td><td>Green Bar Cards & Envelopes, Recycled</td><td>6</td></tr><tr><td>9</td><td>Staples</td><td>9</td></tr><tr><td>12</td><td>Eldon File Cart, Single Width</td><td>9</td></tr><tr><td>12</td><td>Smead Trays, Wire Frame</td><td>4</td></tr><tr><td>8</td><td>Ames Manila Envelope, with clear poly window</td><td>4</td></tr><tr><td>12</td><td>Eldon Lockers, Blue</td><td>5</td></tr><tr><td>7</td><td>Wilson Jones 3-Hole Punch, Economy</td><td>6</td></tr><tr><td>17</td><td>Samsung Audio Dock, Full Size</td><td>4</td></tr><tr><td>4</td><td>Barricks Computer Table, Fully Assembled</td><td>5</td></tr><tr><td>12</td><td>Tenex Box, Wire Frame</td><td>5</td></tr><tr><td>11</td><td>Enermax Parchment Paper, Recycled</td><td>4</td></tr><tr><td>6</td><td>Binney & Smith Sketch Pad, Blue</td><td>4</td></tr><tr><td>10</td><td>Smead Legal Exhibit Labels, 5000 Label Set</td><td>4</td></tr><tr><td>12</td><td>Tenex File Cart, Blue</td><td>4</td></tr><tr><td>9</td><td>Advantus Push Pins, 12 Pack</td><td>4</td></tr><tr><td>9</td><td>Stockwell Clamps, Assorted Sizes</td><td>8</td></tr><tr><td>6</td><td>Binney & Smith Canvas, Easy-Erase</td><td>3</td></tr><tr><td>6</td><td>Sanford Sketch Pad, Water Color</td><td>4</td></tr><tr><td>10</td><td>Harbour Creations Color Coded Labels, Laser Printer Compatible</td><td>4</td></tr><tr><td>1</td><td>Sauder Stackable Bookrack, Mobile</td><td>4</td></tr><tr><td>2</td><td>Hon Rocking Chair, Set of Two</td><td>4</td></tr><tr><td>3</td><td>Deflect-O Photo Frame, Erganomic</td><td>3</td></tr><tr><td>17</td><td>Apple Speaker Phone, with Caller ID</td><td>4</td></tr><tr><td>13</td><td>Acme Box Cutter, High Speed</td><td>3</td></tr><tr><td>9</td><td>Advantus Thumb Tacks, Bulk Pack</td><td>5</td></tr><tr><td>8</td><td>Kraft Peel and Seal, Set of 50</td><td>4</td></tr><tr><td>7</td><td>Wilson Jones Binding Machine, Durable</td><td>5</td></tr><tr><td>12</td><td>Rogers Trays, Industrial</td><td>4</td></tr><tr><td>4</td><td>Chromcraft Conference Table, with Bottom Storage</td><td>4</td></tr><tr><td>3</td><td>Tenex Clock, Durable</td><td>4</td></tr><tr><td>11</td><td>Eaton Memo Slips, Multicolor</td><td>5</td></tr><tr><td>9</td><td>Accos Staples, 12 Pack</td><td>5</td></tr><tr><td>1</td><td>Bush Library with Doors, Mobile</td><td>5</td></tr><tr><td>3</td><td>Deflect-O Stacking Tray, Durable</td><td>5</td></tr><tr><td>16</td><td>StarTech Calculator, White</td><td>4</td></tr><tr><td>17</td><td>Nokia Office Telephone, with Caller ID</td><td>4</td></tr><tr><td>11</td><td>Green Bar Parchment Paper, Recycled</td><td>4</td></tr><tr><td>7</td><td>Ibico Binder Covers, Clear</td><td>6</td></tr><tr><td>17</td><td>Apple Signal Booster, Full Size</td><td>4</td></tr><tr><td>1</td><td>Ikea Library with Doors, Mobile</td><td>4</td></tr><tr><td>3</td><td>Tenex Door Stop, Erganomic</td><td>4</td></tr><tr><td>2</td><td>SAFCO Executive Leather Armchair, Red</td><td>5</td></tr><tr><td>2</td><td>SAFCO Chairmat, Set of Two</td><td>5</td></tr><tr><td>4</td><td>Hon Wood Table, with Bottom Storage</td><td>2</td></tr><tr><td>7</td><td>Ibico 3-Hole Punch, Recycled</td><td>5</td></tr><tr><td>5</td><td>KitchenAid Stove, Silver</td><td>4</td></tr><tr><td>10</td><td>Novimex Legal Exhibit Labels, Laser Printer Compatible</td><td>4</td></tr><tr><td>5</td><td>Cuisinart Blender, Red</td><td>3</td></tr><tr><td>4</td><td>Barricks Conference Table, Rectangular</td><td>2</td></tr><tr><td>9</td><td>Stockwell Thumb Tacks, Metal</td><td>11</td></tr><tr><td>11</td><td>Xerox Computer Printout Paper, Premium</td><td>3</td></tr><tr><td>7</td><td>Acco Binder, Durable</td><td>5</td></tr><tr><td>9</td><td>Accos Rubber Bands, 12 Pack</td><td>6</td></tr><tr><td>5</td><td>KitchenAid Coffee Grinder, White</td><td>4</td></tr><tr><td>3</td><td>Deflect-O Frame, Erganomic</td><td>4</td></tr><tr><td>3</td><td>Tenex Frame, Black</td><td>5</td></tr><tr><td>17</td><td>Apple Smart Phone, Full Size</td><td>9</td></tr><tr><td>14</td><td>Belkin Keyboard, Erganomic</td><td>4</td></tr><tr><td>3</td><td>Eldon Wave Desk Accessories</td><td>2</td></tr><tr><td>4</td><td>Chromcraft Training Table, Fully Assembled</td><td>2</td></tr><tr><td>12</td><td>Rogers Shelving, Blue</td><td>5</td></tr><tr><td>5</td><td>Breville Coffee Grinder, Silver</td><td>4</td></tr><tr><td>5</td><td>Breville Toaster, Black</td><td>5</td></tr><tr><td>13</td><td>Acme Scissors, Easy Grip</td><td>4</td></tr><tr><td>15</td><td>HP Fax Machine, High-Speed</td><td>5</td></tr><tr><td>2</td><td>Office Star Rocking Chair, Red</td><td>5</td></tr><tr><td>3</td><td>Advantus Clock, Durable</td><td>5</td></tr><tr><td>17</td><td>Apple Audio Dock, Full Size</td><td>5</td></tr><tr><td>16</td><td>StarTech Phone, Red</td><td>3</td></tr><tr><td>16</td><td>StarTech Inkjet, White</td><td>3</td></tr><tr><td>1</td><td>Dania Floating Shelf Set, Mobile</td><td>5</td></tr><tr><td>11</td><td>Xerox Computer Printout Paper, 8.5 x 11</td><td>4</td></tr><tr><td>9</td><td>OIC Paper Clips, Bulk Pack</td><td>4</td></tr><tr><td>13</td><td>Stiletto Box Cutter, Easy Grip</td><td>5</td></tr><tr><td>10</td><td>Hon Shipping Labels, Laser Printer Compatible</td><td>4</td></tr><tr><td>11</td><td>Green Bar Message Books, Premium</td><td>4</td></tr><tr><td>13</td><td>Acme Ruler, High Speed</td><td>4</td></tr><tr><td>17</td><td>Samsung Headset, VoIP</td><td>4</td></tr><tr><td>1</td><td>Ikea Corner Shelving, Pine</td><td>5</td></tr><tr><td>16</td><td>Epson Phone, Wireless</td><td>3</td></tr><tr><td>5</td><td>Hamilton Beach Refrigerator, Silver</td><td>4</td></tr><tr><td>5</td><td>KitchenAid Refrigerator, Silver</td><td>5</td></tr><tr><td>1</td><td>Bush 3-Shelf Cabinet, Mobile</td><td>4</td></tr><tr><td>2</td><td>Harbour Creations Chairmat, Red</td><td>5</td></tr><tr><td>16</td><td>Okidata Printer, Wireless</td><td>4</td></tr><tr><td>15</td><td>Hewlett Fax Machine, Color</td><td>4</td></tr><tr><td>4</td><td>Barricks Computer Table, with Bottom Storage</td><td>3</td></tr><tr><td>9</td><td>Stockwell Thumb Tacks, 12 Pack</td><td>10</td></tr><tr><td>7</td><td>Wilson Jones 3-Hole Punch, Clear</td><td>5</td></tr><tr><td>5</td><td>Hoover Blender, Black</td><td>8</td></tr><tr><td>5</td><td>Hamilton Beach Refrigerator, Red</td><td>4</td></tr><tr><td>15</td><td>Hewlett Ink, High-Speed</td><td>4</td></tr><tr><td>14</td><td>Logitech Numeric Keypad, Erganomic</td><td>5</td></tr><tr><td>4</td><td>Chromcraft Training Table, with Bottom Storage</td><td>2</td></tr><tr><td>6</td><td>BIC Sketch Pad, Blue</td><td>4</td></tr><tr><td>11</td><td>SanDisk Parchment Paper, Premium</td><td>3</td></tr><tr><td>8</td><td>GlobeWeis Peel and Seal, with clear poly window</td><td>4</td></tr><tr><td>11</td><td>Xerox Parchment Paper, 8.5 x 11</td><td>3</td></tr><tr><td>4</td><td>Hon Wood Table, Rectangular</td><td>5</td></tr><tr><td>15</td><td>Hewlett Personal Copier, High-Speed</td><td>4</td></tr><tr><td>16</td><td>Panasonic Card Printer, Wireless</td><td>5</td></tr><tr><td>14</td><td>Belkin Memory Card, USB</td><td>3</td></tr><tr><td>9</td><td>OIC Staples, Metal</td><td>4</td></tr><tr><td>8</td><td>Kraft Business Envelopes, Recycled</td><td>8</td></tr><tr><td>12</td><td>Fellowes File Cart, Wire Frame</td><td>4</td></tr><tr><td>7</td><td>Cardinal Binder Covers, Recycled</td><td>4</td></tr><tr><td>6</td><td>Binney & Smith Pencil Sharpener, Fluorescent</td><td>4</td></tr><tr><td>11</td><td>Xerox Note Cards, Multicolor</td><td>4</td></tr><tr><td>6</td><td>Sanford Pencil Sharpener, Water Color</td><td>6</td></tr><tr><td>12</td><td>Eldon Shelving, Single Width</td><td>4</td></tr><tr><td>10</td><td>Smead File Folder Labels, Alphabetical</td><td>4</td></tr><tr><td>5</td><td>Hamilton Beach Toaster, Silver</td><td>4</td></tr><tr><td>4</td><td>Lesro Computer Table, with Bottom Storage</td><td>2</td></tr><tr><td>14</td><td>Memorex Memory Card, USB</td><td>4</td></tr><tr><td>17</td><td>Samsung Signal Booster, with Caller ID</td><td>4</td></tr><tr><td>16</td><td>Okidata Calculator, White</td><td>3</td></tr><tr><td>13</td><td>Elite Ruler, Easy Grip</td><td>4</td></tr><tr><td>5</td><td>KitchenAid Blender, Silver</td><td>4</td></tr><tr><td>14</td><td>Logitech Keyboard, USB</td><td>4</td></tr><tr><td>3</td><td>Advantus Photo Frame, Erganomic</td><td>4</td></tr><tr><td>17</td><td>Nokia Office Telephone, VoIP</td><td>5</td></tr><tr><td>4</td><td>Hon Coffee Table, Adjustable Height</td><td>3</td></tr><tr><td>9</td><td>Stockwell Push Pins, Assorted Sizes</td><td>8</td></tr><tr><td>6</td><td>Sanford Pencil Sharpener, Easy-Erase</td><td>4</td></tr><tr><td>8</td><td>Cameo Interoffice Envelope, with clear poly window</td><td>6</td></tr><tr><td>6</td><td>Stanley Sketch Pad, Fluorescent</td><td>5</td></tr><tr><td>12</td><td>Fellowes File Cart, Single Width</td><td>5</td></tr><tr><td>9</td><td>OIC Rubber Bands, Metal</td><td>5</td></tr><tr><td>11</td><td>Green Bar Memo Slips, Recycled</td><td>5</td></tr><tr><td>1</td><td>Sauder Floating Shelf Set, Mobile</td><td>5</td></tr><tr><td>1</td><td>Sauder 3-Shelf Cabinet, Metal</td><td>4</td></tr><tr><td>6</td><td>BIC Pencil Sharpener, Easy-Erase</td><td>3</td></tr><tr><td>13</td><td>Stiletto Ruler, Easy Grip</td><td>6</td></tr><tr><td>12</td><td>Rogers Folders, Blue</td><td>5</td></tr><tr><td>9</td><td>OIC Push Pins, Assorted Sizes</td><td>5</td></tr><tr><td>1</td><td>Sauder Classic Bookcase, Mobile</td><td>5</td></tr><tr><td>14</td><td>SanDisk Flash Drive, Programmable</td><td>3</td></tr><tr><td>4</td><td>Lesro Coffee Table, Adjustable Height</td><td>4</td></tr><tr><td>14</td><td>Logitech Router, Bluetooth</td><td>6</td></tr><tr><td>10</td><td>Avery File Folder Labels, Adjustable</td><td>4</td></tr><tr><td>7</td><td>Wilson Jones Binding Machine, Recycled</td><td>4</td></tr><tr><td>12</td><td>Eldon Box, Wire Frame</td><td>5</td></tr><tr><td>12</td><td>Eldon Box, Single Width</td><td>4</td></tr><tr><td>6</td><td>Stanley Markers, Easy-Erase</td><td>5</td></tr><tr><td>5</td><td>KitchenAid Coffee Grinder, Silver</td><td>4</td></tr><tr><td>1</td><td>Dania 3-Shelf Cabinet, Mobile</td><td>5</td></tr><tr><td>3</td><td>Eldon Light Bulb, Black</td><td>4</td></tr><tr><td>15</td><td>HP Fax Machine, Laser</td><td>4</td></tr><tr><td>15</td><td>Hewlett Fax Machine, Laser</td><td>4</td></tr><tr><td>1</td><td>Safco Corner Shelving, Mobile</td><td>4</td></tr><tr><td>16</td><td>Epson Phone, White</td><td>4</td></tr><tr><td>15</td><td>HP Copy Machine, High-Speed</td><td>4</td></tr><tr><td>16</td><td>Okidata Inkjet, White</td><td>3</td></tr><tr><td>4</td><td>Barricks Coffee Table, Adjustable Height</td><td>3</td></tr><tr><td>10</td><td>Novimex Shipping Labels, Laser Printer Compatible</td><td>4</td></tr><tr><td>10</td><td>Smead Shipping Labels, Laser Printer Compatible</td><td>4</td></tr><tr><td>10</td><td>Harbour Creations Legal Exhibit Labels, Adjustable</td><td>5</td></tr><tr><td>11</td><td>Xerox Parchment Paper, Recycled</td><td>4</td></tr><tr><td>12</td><td>Tenex Box, Industrial</td><td>5</td></tr><tr><td>16</td><td>StarTech Card Printer, Durable</td><td>4</td></tr><tr><td>2</td><td>SAFCO Swivel Stool, Red</td><td>4</td></tr><tr><td>3</td><td>Eldon Stacking Tray, Black</td><td>5</td></tr><tr><td>1</td><td>Dania Library with Doors, Metal</td><td>4</td></tr><tr><td>17</td><td>Apple Audio Dock, VoIP</td><td>5</td></tr><tr><td>17</td><td>Cisco Headset, VoIP</td><td>4</td></tr><tr><td>12</td><td>Tenex File Cart, Single Width</td><td>8</td></tr><tr><td>13</td><td>Stiletto Scissors, High Speed</td><td>4</td></tr><tr><td>10</td><td>Avery Legal Exhibit Labels, Laser Printer Compatible</td><td>4</td></tr><tr><td>6</td><td>Boston Canvas, Easy-Erase</td><td>5</td></tr><tr><td>6</td><td>Stanley Sketch Pad, Water Color</td><td>6</td></tr><tr><td>13</td><td>Kleencut Scissors, High Speed</td><td>5</td></tr><tr><td>8</td><td>Jiffy Manila Envelope, with clear poly window</td><td>4</td></tr><tr><td>3</td><td>Advantus Stacking Tray, Erganomic</td><td>8</td></tr><tr><td>4</td><td>Bevis Wood Table, Adjustable Height</td><td>3</td></tr><tr><td>14</td><td>Enermax Flash Drive, Bluetooth</td><td>5</td></tr><tr><td>16</td><td>Epson Card Printer, White</td><td>4</td></tr><tr><td>16</td><td>Panasonic Printer, White</td><td>5</td></tr><tr><td>1</td><td>Sauder Floating Shelf Set, Metal</td><td>5</td></tr><tr><td>16</td><td>StarTech Printer, White</td><td>2</td></tr><tr><td>7</td><td>Cardinal Binder, Durable</td><td>5</td></tr><tr><td>9</td><td>Stockwell Staples, Assorted Sizes</td><td>8</td></tr><tr><td>11</td><td>SanDisk Memo Slips, Recycled</td><td>4</td></tr><tr><td>7</td><td>Wilson Jones 3-Hole Punch, Recycled</td><td>5</td></tr><tr><td>7</td><td>Acco Binder, Recycled</td><td>4</td></tr><tr><td>12</td><td>Rogers Shelving, Wire Frame</td><td>4</td></tr><tr><td>10</td><td>Avery Round Labels, Laser Printer Compatible</td><td>4</td></tr><tr><td>1</td><td>Sauder Floating Shelf Set, Pine</td><td>5</td></tr><tr><td>15</td><td>Brother Personal Copier, Digital</td><td>4</td></tr><tr><td>14</td><td>Belkin Numeric Keypad, Erganomic</td><td>5</td></tr><tr><td>4</td><td>Hon Round Table, Rectangular</td><td>2</td></tr><tr><td>6</td><td>Stanley Pens, Easy-Erase</td><td>5</td></tr><tr><td>9</td><td>OIC Staples, Assorted Sizes</td><td>6</td></tr><tr><td>10</td><td>Harbour Creations Round Labels, Laser Printer Compatible</td><td>4</td></tr><tr><td>10</td><td>Novimex File Folder Labels, Adjustable</td><td>5</td></tr><tr><td>14</td><td>Memorex Memory Card, Erganomic</td><td>5</td></tr><tr><td>16</td><td>Epson Phone, Durable</td><td>3</td></tr><tr><td>15</td><td>Canon Fax Machine, Digital</td><td>5</td></tr><tr><td>4</td><td>Chromcraft Computer Table, with Bottom Storage</td><td>2</td></tr><tr><td>15</td><td>Sharp Ink, Digital</td><td>3</td></tr><tr><td>3</td><td>Staples</td><td>2</td></tr><tr><td>5</td><td>Hamilton Beach Stove, Black</td><td>5</td></tr><tr><td>10</td><td>Hon Legal Exhibit Labels, Alphabetical</td><td>4</td></tr><tr><td>13</td><td>Stiletto Shears, Steel</td><td>4</td></tr><tr><td>12</td><td>Eldon Lockers, Wire Frame</td><td>5</td></tr><tr><td>10</td><td>Avery Color Coded Labels, 5000 Label Set</td><td>5</td></tr><tr><td>12</td><td>Tenex Folders, Blue</td><td>5</td></tr><tr><td>8</td><td>Ames Peel and Seal, Recycled</td><td>4</td></tr><tr><td>17</td><td>Cisco Office Telephone, Cordless</td><td>5</td></tr><tr><td>16</td><td>StarTech Receipt Printer, White</td><td>3</td></tr><tr><td>1</td><td>Ikea 3-Shelf Cabinet, Mobile</td><td>6</td></tr><tr><td>2</td><td>Harbour Creations Rocking Chair, Red</td><td>5</td></tr><tr><td>17</td><td>Motorola Smart Phone, Cordless</td><td>5</td></tr><tr><td>17</td><td>Motorola Speaker Phone, with Caller ID</td><td>5</td></tr><tr><td>3</td><td>Deflect-O Photo Frame, Durable</td><td>5</td></tr><tr><td>15</td><td>Brother Wireless Fax, Digital</td><td>4</td></tr><tr><td>7</td><td>Cardinal 3-Hole Punch, Durable</td><td>4</td></tr><tr><td>13</td><td>Staples</td><td>3</td></tr><tr><td>10</td><td>Avery Shipping Labels, Adjustable</td><td>4</td></tr><tr><td>6</td><td>Binney & Smith Markers, Blue</td><td>4</td></tr><tr><td>9</td><td>Stockwell Rubber Bands, Metal</td><td>8</td></tr><tr><td>6</td><td>Boston Markers, Fluorescent</td><td>4</td></tr><tr><td>11</td><td>Xerox Note Cards, Premium</td><td>4</td></tr><tr><td>6</td><td>Stanley Canvas, Blue</td><td>4</td></tr><tr><td>13</td><td>Acme Ruler, Serrated</td><td>4</td></tr><tr><td>14</td><td>SanDisk Router, Bluetooth</td><td>4</td></tr><tr><td>1</td><td>Safco Floating Shelf Set, Pine</td><td>4</td></tr><tr><td>15</td><td>Sharp Personal Copier, Laser</td><td>4</td></tr><tr><td>1</td><td>Bush Classic Bookcase, Pine</td><td>2</td></tr><tr><td>2</td><td>Novimex Rocking Chair, Black</td><td>4</td></tr><tr><td>7</td><td>Wilson Jones Index Tab, Recycled</td><td>6</td></tr><tr><td>6</td><td>BIC Sketch Pad, Water Color</td><td>5</td></tr><tr><td>6</td><td>Boston Pencil Sharpener, Fluorescent</td><td>4</td></tr><tr><td>12</td><td>Smead File Cart, Blue</td><td>4</td></tr><tr><td>13</td><td>Elite Box Cutter, Steel</td><td>3</td></tr><tr><td>2</td><td>Novimex Steel Folding Chair, Adjustable</td><td>5</td></tr><tr><td>3</td><td>Deflect-O Light Bulb, Durable</td><td>5</td></tr><tr><td>17</td><td>Samsung Office Telephone, with Caller ID</td><td>6</td></tr><tr><td>15</td><td>Hewlett Personal Copier, Color</td><td>4</td></tr><tr><td>15</td><td>Hewlett Fax Machine, High-Speed</td><td>4</td></tr><tr><td>1</td><td>Bush Stackable Bookrack, Pine</td><td>11</td></tr><tr><td>1</td><td>Ikea Library with Doors, Pine</td><td>5</td></tr><tr><td>16</td><td>Konica Printer, White</td><td>4</td></tr><tr><td>4</td><td>Lesro Training Table, Rectangular</td><td>3</td></tr><tr><td>7</td><td>Acco Binder, Clear</td><td>6</td></tr><tr><td>9</td><td>Advantus Paper Clips, Assorted Sizes</td><td>9</td></tr><tr><td>9</td><td>Accos Push Pins, Metal</td><td>4</td></tr><tr><td>11</td><td>Eaton Note Cards, Premium</td><td>8</td></tr><tr><td>6</td><td>Sanford Canvas, Water Color</td><td>6</td></tr><tr><td>13</td><td>Kleencut Box Cutter, Steel</td><td>6</td></tr><tr><td>2</td><td>Hon Rocking Chair, Red</td><td>5</td></tr><tr><td>3</td><td>Deflect-O Clock, Duo Pack</td><td>4</td></tr><tr><td>1</td><td>Sauder Stackable Bookrack, Pine</td><td>7</td></tr><tr><td>17</td><td>Nokia Audio Dock, Full Size</td><td>4</td></tr><tr><td>16</td><td>Panasonic Receipt Printer, Wireless</td><td>2</td></tr><tr><td>11</td><td>Enermax Parchment Paper, Premium</td><td>4</td></tr><tr><td>8</td><td>Cameo Mailers, with clear poly window</td><td>3</td></tr><tr><td>5</td><td>Hoover Microwave, Black</td><td>4</td></tr><tr><td>13</td><td>Fiskars Ruler, Serrated</td><td>4</td></tr><tr><td>9</td><td>Stockwell Paper Clips, Assorted Sizes</td><td>16</td></tr><tr><td>12</td><td>Tenex Box, Blue</td><td>5</td></tr><tr><td>7</td><td>Ibico Binder, Clear</td><td>4</td></tr><tr><td>14</td><td>SanDisk Keyboard, USB</td><td>5</td></tr><tr><td>2</td><td>Harbour Creations Executive Leather Armchair, Adjustable</td><td>8</td></tr><tr><td>16</td><td>Konica Printer, Red</td><td>4</td></tr><tr><td>5</td><td>Hoover Refrigerator, White</td><td>4</td></tr><tr><td>7</td><td>Cardinal Binder Covers, Clear</td><td>3</td></tr><tr><td>10</td><td>Hon Removable Labels, Laser Printer Compatible</td><td>5</td></tr><tr><td>8</td><td>GlobeWeis Peel and Seal, Recycled</td><td>4</td></tr><tr><td>12</td><td>Fellowes Lockers, Blue</td><td>4</td></tr><tr><td>5</td><td>Hamilton Beach Stove, Red</td><td>4</td></tr><tr><td>14</td><td>Logitech Memory Card, Erganomic</td><td>5</td></tr><tr><td>3</td><td>Advantus Frame, Durable</td><td>5</td></tr><tr><td>4</td><td>Barricks Conference Table, Fully Assembled</td><td>3</td></tr><tr><td>17</td><td>Cisco Audio Dock, with Caller ID</td><td>4</td></tr><tr><td>15</td><td>Canon Wireless Fax, Digital</td><td>5</td></tr><tr><td>4</td><td>Barricks Coffee Table, Fully Assembled</td><td>3</td></tr><tr><td>13</td><td>Acme Ruler, Steel</td><td>4</td></tr><tr><td>10</td><td>Harbour Creations Round Labels, Adjustable</td><td>4</td></tr><tr><td>8</td><td>Cameo Peel and Seal, with clear poly window</td><td>5</td></tr><tr><td>7</td><td>Acco 3-Hole Punch, Clear</td><td>4</td></tr><tr><td>10</td><td>Novimex Legal Exhibit Labels, Alphabetical</td><td>3</td></tr><tr><td>12</td><td>Smead Trays, Industrial</td><td>5</td></tr><tr><td>13</td><td>Kleencut Shears, Serrated</td><td>5</td></tr><tr><td>12</td><td>Eldon File Cart, Blue</td><td>4</td></tr><tr><td>7</td><td>Ibico Binder Covers, Recycled</td><td>4</td></tr><tr><td>17</td><td>Nokia Office Telephone, Cordless</td><td>4</td></tr><tr><td>1</td><td>Ikea Floating Shelf Set, Traditional</td><td>4</td></tr><tr><td>7</td><td>Cardinal 3-Hole Punch, Recycled</td><td>4</td></tr><tr><td>13</td><td>Elite Ruler, High Speed</td><td>5</td></tr><tr><td>7</td><td>Wilson Jones Binder, Durable</td><td>5</td></tr><tr><td>9</td><td>OIC Clamps, Bulk Pack</td><td>5</td></tr><tr><td>13</td><td>Elite Letter Opener, Steel</td><td>5</td></tr><tr><td>9</td><td>Accos Thumb Tacks, Metal</td><td>4</td></tr><tr><td>10</td><td>Smead Round Labels, Laser Printer Compatible</td><td>3</td></tr><tr><td>12</td><td>Rogers Shelving, Single Width</td><td>5</td></tr><tr><td>7</td><td>Acco Binding Machine, Economy</td><td>5</td></tr><tr><td>7</td><td>Avery Binder, Clear</td><td>4</td></tr><tr><td>12</td><td>Eldon Trays, Wire Frame</td><td>6</td></tr><tr><td>16</td><td>Okidata Receipt Printer, Wireless</td><td>4</td></tr><tr><td>14</td><td>Belkin Memory Card, Bluetooth</td><td>3</td></tr><tr><td>1</td><td>Safco Library with Doors, Mobile</td><td>5</td></tr><tr><td>8</td><td>GlobeWeis Interoffice Envelope, Recycled</td><td>4</td></tr><tr><td>10</td><td>Harbour Creations Round Labels, Alphabetical</td><td>5</td></tr><tr><td>9</td><td>Accos Paper Clips, Assorted Sizes</td><td>9</td></tr><tr><td>7</td><td>Wilson Jones Binder Covers, Recycled</td><td>4</td></tr><tr><td>13</td><td>Fiskars Trimmer, Easy Grip</td><td>4</td></tr><tr><td>9</td><td>OIC Push Pins, Bulk Pack</td><td>5</td></tr><tr><td>2</td><td>Harbour Creations Rocking Chair, Adjustable</td><td>4</td></tr><tr><td>4</td><td>Hon Conference Table, Adjustable Height</td><td>4</td></tr><tr><td>2</td><td>Novimex Bag Chairs, Set of Two</td><td>4</td></tr><tr><td>3</td><td>Rubbermaid Door Stop, Black</td><td>4</td></tr><tr><td>17</td><td>Apple Headset, VoIP</td><td>4</td></tr><tr><td>4</td><td>Bevis Computer Table, Adjustable Height</td><td>2</td></tr><tr><td>16</td><td>Panasonic Card Printer, Durable</td><td>4</td></tr><tr><td>2</td><td>Office Star Chairmat, Black</td><td>4</td></tr><tr><td>8</td><td>#10- 4 1/8\" x 9 1/2\" Recycled Envelopes</td><td>2</td></tr><tr><td>13</td><td>Fiskars Shears, Steel</td><td>4</td></tr><tr><td>5</td><td>Cuisinart Microwave, White</td><td>4</td></tr><tr><td>10</td><td>Avery Legal Exhibit Labels, 5000 Label Set</td><td>6</td></tr><tr><td>13</td><td>Acme Ruler, Easy Grip</td><td>3</td></tr><tr><td>3</td><td>Rubbermaid Clock, Duo Pack</td><td>4</td></tr><tr><td>17</td><td>Apple Smart Phone, Cordless</td><td>4</td></tr><tr><td>16</td><td>Okidata Receipt Printer, Durable</td><td>3</td></tr><tr><td>4</td><td>Barricks Wood Table, Fully Assembled</td><td>2</td></tr><tr><td>17</td><td>Nokia Speaker Phone, Cordless</td><td>5</td></tr><tr><td>4</td><td>Chromcraft Coffee Table, Rectangular</td><td>3</td></tr><tr><td>7</td><td>Ibico Binding Machine, Durable</td><td>6</td></tr><tr><td>9</td><td>Accos Clamps, Bulk Pack</td><td>5</td></tr><tr><td>7</td><td>Wilson Jones Hole Reinforcements, Clear</td><td>5</td></tr><tr><td>7</td><td>Acco Binding Machine, Clear</td><td>6</td></tr><tr><td>7</td><td>Avery Hole Reinforcements, Recycled</td><td>5</td></tr><tr><td>2</td><td>SAFCO Swivel Stool, Adjustable</td><td>4</td></tr><tr><td>4</td><td>Bevis Coffee Table, Adjustable Height</td><td>3</td></tr><tr><td>4</td><td>Chromcraft Coffee Table, Adjustable Height</td><td>4</td></tr><tr><td>16</td><td>Konica Card Printer, White</td><td>3</td></tr><tr><td>16</td><td>Panasonic Calculator, Red</td><td>4</td></tr><tr><td>15</td><td>Hewlett Personal Copier, Digital</td><td>4</td></tr><tr><td>12</td><td>Eldon Trays, Blue</td><td>4</td></tr><tr><td>8</td><td>Kraft Clasp Envelope, Security-Tint</td><td>4</td></tr><tr><td>7</td><td>Wilson Jones Index Tab, Economy</td><td>5</td></tr><tr><td>7</td><td>Acco Index Tab, Durable</td><td>4</td></tr><tr><td>15</td><td>HP Fax and Copier, Laser</td><td>4</td></tr><tr><td>14</td><td>Logitech Flash Drive, Bluetooth</td><td>5</td></tr><tr><td>2</td><td>Novimex Bag Chairs, Black</td><td>5</td></tr><tr><td>17</td><td>Cisco Audio Dock, Full Size</td><td>4</td></tr><tr><td>16</td><td>Konica Phone, Red</td><td>4</td></tr><tr><td>5</td><td>KitchenAid Refrigerator, Black</td><td>4</td></tr><tr><td>11</td><td>SanDisk Computer Printout Paper, Premium</td><td>4</td></tr><tr><td>6</td><td>Sanford Markers, Blue</td><td>5</td></tr><tr><td>13</td><td>Stiletto Letter Opener, Steel</td><td>5</td></tr><tr><td>6</td><td>BIC Markers, Water Color</td><td>4</td></tr><tr><td>17</td><td>Nokia Signal Booster, Cordless</td><td>4</td></tr><tr><td>17</td><td>Samsung Office Telephone, VoIP</td><td>4</td></tr><tr><td>1</td><td>Bush Library with Doors, Traditional</td><td>4</td></tr><tr><td>1</td><td>Sauder Stackable Bookrack, Traditional</td><td>3</td></tr><tr><td>10</td><td>Smead Removable Labels, Laser Printer Compatible</td><td>4</td></tr><tr><td>12</td><td>Rogers File Cart, Industrial</td><td>4</td></tr><tr><td>8</td><td>GlobeWeis Clasp Envelope, Set of 50</td><td>5</td></tr><tr><td>12</td><td>Fellowes Shelving, Single Width</td><td>3</td></tr><tr><td>5</td><td>Hamilton Beach Refrigerator, White</td><td>4</td></tr><tr><td>11</td><td>Xerox Message Books, Premium</td><td>4</td></tr><tr><td>8</td><td>Kraft Interoffice Envelope, Security-Tint</td><td>5</td></tr><tr><td>5</td><td>KitchenAid Coffee Grinder, Black</td><td>4</td></tr><tr><td>4</td><td>Bevis Round Table, Rectangular</td><td>2</td></tr><tr><td>4</td><td>Lesro Round Table, Adjustable Height</td><td>3</td></tr><tr><td>4</td><td>Lesro Coffee Table, Fully Assembled</td><td>3</td></tr><tr><td>8</td><td>Kraft Manila Envelope, Set of 50</td><td>6</td></tr><tr><td>11</td><td>Enermax Parchment Paper, 8.5 x 11</td><td>4</td></tr><tr><td>12</td><td>Fellowes Trays, Industrial</td><td>4</td></tr><tr><td>8</td><td>Kraft Clasp Envelope, Set of 50</td><td>3</td></tr><tr><td>4</td><td>Hon Coffee Table, with Bottom Storage</td><td>3</td></tr><tr><td>11</td><td>Enermax Memo Slips, Recycled</td><td>4</td></tr><tr><td>10</td><td>Novimex Shipping Labels, Adjustable</td><td>6</td></tr><tr><td>3</td><td>Advantus Photo Frame, Duo Pack</td><td>6</td></tr><tr><td>14</td><td>Memorex Flash Drive, USB</td><td>6</td></tr><tr><td>6</td><td>Boston Pens, Water Color</td><td>5</td></tr><tr><td>12</td><td>Tenex Folders, Single Width</td><td>4</td></tr><tr><td>12</td><td>Smead Lockers, Blue</td><td>4</td></tr><tr><td>8</td><td>Cameo Clasp Envelope, Security-Tint</td><td>4</td></tr><tr><td>7</td><td>Acco Index Tab, Economy</td><td>5</td></tr><tr><td>11</td><td>SanDisk Memo Slips, 8.5 x 11</td><td>4</td></tr><tr><td>16</td><td>Panasonic Card Printer, Red</td><td>3</td></tr><tr><td>17</td><td>Samsung Speaker Phone, Cordless</td><td>5</td></tr><tr><td>6</td><td>Sanford Sketch Pad, Easy-Erase</td><td>4</td></tr><tr><td>12</td><td>Eldon Shelving, Blue</td><td>5</td></tr><tr><td>9</td><td>Accos Push Pins, Bulk Pack</td><td>4</td></tr><tr><td>2</td><td>SAFCO Steel Folding Chair, Red</td><td>5</td></tr><tr><td>16</td><td>Konica Printer, Wireless</td><td>3</td></tr><tr><td>14</td><td>Memorex Numeric Keypad, Erganomic</td><td>4</td></tr><tr><td>1</td><td>Bush Classic Bookcase, Metal</td><td>5</td></tr><tr><td>16</td><td>Okidata Phone, Wireless</td><td>4</td></tr><tr><td>1</td><td>Dania 3-Shelf Cabinet, Traditional</td><td>3</td></tr><tr><td>16</td><td>Panasonic Phone, White</td><td>2</td></tr><tr><td>6</td><td>Sanford Pencil Sharpener, Fluorescent</td><td>4</td></tr><tr><td>9</td><td>Advantus Push Pins, Bulk Pack</td><td>3</td></tr><tr><td>6</td><td>Binney & Smith Pens, Blue</td><td>5</td></tr><tr><td>11</td><td>SanDisk Memo Slips, Premium</td><td>5</td></tr><tr><td>11</td><td>SanDisk Message Books, 8.5 x 11</td><td>4</td></tr><tr><td>5</td><td>Hamilton Beach Coffee Grinder, Red</td><td>4</td></tr><tr><td>11</td><td>SanDisk Message Books, Recycled</td><td>4</td></tr><tr><td>9</td><td>Accos Staples, Bulk Pack</td><td>4</td></tr><tr><td>13</td><td>Elite Letter Opener, Easy Grip</td><td>8</td></tr><tr><td>5</td><td>Hoover Toaster, Black</td><td>3</td></tr><tr><td>14</td><td>SanDisk Memory Card, Programmable</td><td>4</td></tr><tr><td>2</td><td>Hon Bag Chairs, Set of Two</td><td>4</td></tr><tr><td>2</td><td>SAFCO Bag Chairs, Red</td><td>5</td></tr><tr><td>2</td><td>Office Star Steel Folding Chair, Black</td><td>4</td></tr><tr><td>5</td><td>Hoover Coffee Grinder, White</td><td>4</td></tr><tr><td>7</td><td>Ibico Binder, Recycled</td><td>5</td></tr><tr><td>9</td><td>Accos Rubber Bands, Metal</td><td>5</td></tr><tr><td>5</td><td>Cuisinart Refrigerator, Silver</td><td>4</td></tr><tr><td>9</td><td>Accos Push Pins, 12 Pack</td><td>4</td></tr><tr><td>5</td><td>Cuisinart Toaster, White</td><td>5</td></tr><tr><td>8</td><td>Jiffy Manila Envelope, Security-Tint</td><td>5</td></tr><tr><td>12</td><td>Rogers Folders, Wire Frame</td><td>5</td></tr><tr><td>3</td><td>Advantus Photo Frame, Durable</td><td>4</td></tr><tr><td>3</td><td>Eldon Photo Frame, Durable</td><td>3</td></tr><tr><td>6</td><td>Boston Highlighters, Water Color</td><td>6</td></tr><tr><td>6</td><td>Sanford Pens, Easy-Erase</td><td>3</td></tr><tr><td>7</td><td>Acco Binder Covers, Economy</td><td>5</td></tr><tr><td>7</td><td>Ibico Binder Covers, Durable</td><td>5</td></tr><tr><td>10</td><td>Avery Shipping Labels, 5000 Label Set</td><td>5</td></tr><tr><td>12</td><td>Fellowes File Cart, Blue</td><td>5</td></tr><tr><td>13</td><td>Stiletto Ruler, Serrated</td><td>4</td></tr><tr><td>10</td><td>Avery File Folder Labels, Alphabetical</td><td>4</td></tr><tr><td>17</td><td>Samsung Headset, with Caller ID</td><td>5</td></tr><tr><td>1</td><td>Safco Corner Shelving, Traditional</td><td>5</td></tr><tr><td>15</td><td>Sharp Fax Machine, High-Speed</td><td>4</td></tr><tr><td>15</td><td>Sharp Fax and Copier, Laser</td><td>4</td></tr><tr><td>2</td><td>Hon Executive Leather Armchair, Red</td><td>5</td></tr><tr><td>4</td><td>Lesro Conference Table, Rectangular</td><td>2</td></tr><tr><td>10</td><td>Avery Round Labels, Adjustable</td><td>4</td></tr><tr><td>7</td><td>Avery Hole Reinforcements, Durable</td><td>5</td></tr><tr><td>7</td><td>Ibico Binding Machine, Clear</td><td>4</td></tr><tr><td>8</td><td>GlobeWeis Interoffice Envelope, Set of 50</td><td>5</td></tr><tr><td>3</td><td>Rubbermaid Clock, Black</td><td>4</td></tr><tr><td>2</td><td>Harbour Creations Executive Leather Armchair, Red</td><td>4</td></tr><tr><td>1</td><td>Bush Corner Shelving, Pine</td><td>6</td></tr><tr><td>4</td><td>Bevis Computer Table, Fully Assembled</td><td>6</td></tr><tr><td>16</td><td>Konica Calculator, White</td><td>5</td></tr><tr><td>13</td><td>Acme Letter Opener, Steel</td><td>5</td></tr><tr><td>12</td><td>Eldon Box, Blue</td><td>5</td></tr><tr><td>8</td><td>Ames Clasp Envelope, Security-Tint</td><td>6</td></tr><tr><td>13</td><td>Fiskars Letter Opener, Easy Grip</td><td>10</td></tr><tr><td>1</td><td>Safco Stackable Bookrack, Pine</td><td>7</td></tr><tr><td>16</td><td>Epson Card Printer, Wireless</td><td>4</td></tr><tr><td>14</td><td>Belkin Memory Card, Programmable</td><td>5</td></tr><tr><td>15</td><td>Canon Wireless Fax, Color</td><td>4</td></tr><tr><td>15</td><td>Hewlett Ink, Laser</td><td>4</td></tr><tr><td>17</td><td>Nokia Office Telephone, Full Size</td><td>4</td></tr><tr><td>1</td><td>Dania Library with Doors, Pine</td><td>5</td></tr><tr><td>4</td><td>Barricks Round Table, with Bottom Storage</td><td>2</td></tr><tr><td>16</td><td>Konica Inkjet, Durable</td><td>3</td></tr><tr><td>10</td><td>Harbour Creations File Folder Labels, Alphabetical</td><td>5</td></tr><tr><td>10</td><td>Hon Shipping Labels, 5000 Label Set</td><td>5</td></tr><tr><td>8</td><td>Jiffy Clasp Envelope, Security-Tint</td><td>4</td></tr><tr><td>11</td><td>Green Bar Memo Slips, 8.5 x 11</td><td>5</td></tr><tr><td>13</td><td>Stiletto Scissors, Easy Grip</td><td>5</td></tr><tr><td>8</td><td>Kraft Peel and Seal, Recycled</td><td>5</td></tr><tr><td>11</td><td>Green Bar Note Cards, Multicolor</td><td>5</td></tr><tr><td>14</td><td>Enermax Mouse, Bluetooth</td><td>5</td></tr><tr><td>17</td><td>Nokia Speaker Phone, Full Size</td><td>4</td></tr><tr><td>4</td><td>Lesro Coffee Table, with Bottom Storage</td><td>4</td></tr><tr><td>1</td><td>Ikea Stackable Bookrack, Metal</td><td>6</td></tr><tr><td>16</td><td>Okidata C610n Printer</td><td>2</td></tr><tr><td>10</td><td>Smead File Folder Labels, 5000 Label Set</td><td>5</td></tr><tr><td>6</td><td>Stanley Canvas, Water Color</td><td>5</td></tr><tr><td>9</td><td>Accos Clamps, 12 Pack</td><td>4</td></tr><tr><td>9</td><td>Stockwell Paper Clips, Metal</td><td>8</td></tr><tr><td>13</td><td>Elite Trimmer, High Speed</td><td>4</td></tr><tr><td>8</td><td>Kraft Interoffice Envelope, with clear poly window</td><td>5</td></tr><tr><td>5</td><td>Breville Stove, Black</td><td>4</td></tr><tr><td>10</td><td>Novimex Removable Labels, Laser Printer Compatible</td><td>4</td></tr><tr><td>2</td><td>Novimex Chairmat, Red</td><td>5</td></tr><tr><td>4</td><td>Lesro Training Table, Fully Assembled</td><td>4</td></tr><tr><td>3</td><td>Tenex Frame, Durable</td><td>4</td></tr><tr><td>17</td><td>Samsung Smart Phone, VoIP</td><td>5</td></tr><tr><td>4</td><td>Hon Training Table, Fully Assembled</td><td>3</td></tr><tr><td>16</td><td>Okidata Phone, Durable</td><td>3</td></tr><tr><td>15</td><td>Hewlett Copy Machine, Laser</td><td>3</td></tr><tr><td>3</td><td>Eldon Light Bulb, Erganomic</td><td>5</td></tr><tr><td>17</td><td>Nokia Speaker Phone, with Caller ID</td><td>4</td></tr><tr><td>10</td><td>Hon Color Coded Labels, 5000 Label Set</td><td>5</td></tr><tr><td>11</td><td>Eaton Message Books, Recycled</td><td>4</td></tr><tr><td>10</td><td>Harbour Creations Legal Exhibit Labels, Alphabetical</td><td>4</td></tr><tr><td>11</td><td>Eaton Cards & Envelopes, Premium</td><td>2</td></tr><tr><td>12</td><td>Fellowes Box, Industrial</td><td>4</td></tr><tr><td>1</td><td>Safco Classic Bookcase, Metal</td><td>5</td></tr><tr><td>3</td><td>Deflect-O Photo Frame, Black</td><td>3</td></tr><tr><td>3</td><td>Rubbermaid Light Bulb, Black</td><td>4</td></tr><tr><td>3</td><td>Advantus Clock, Duo Pack</td><td>5</td></tr><tr><td>15</td><td>Canon Copy Machine, Laser</td><td>4</td></tr><tr><td>4</td><td>Hon Coffee Table, Fully Assembled</td><td>2</td></tr><tr><td>4</td><td>Hon Round Table, with Bottom Storage</td><td>4</td></tr><tr><td>8</td><td>Cameo Mailers, Security-Tint</td><td>3</td></tr><tr><td>13</td><td>Acme Scissors, High Speed</td><td>4</td></tr><tr><td>10</td><td>Hon Removable Labels, 5000 Label Set</td><td>4</td></tr><tr><td>5</td><td>Cuisinart Microwave, Silver</td><td>4</td></tr><tr><td>7</td><td>Avery Binder Covers, Durable</td><td>4</td></tr><tr><td>15</td><td>Canon Copy Machine, Color</td><td>5</td></tr><tr><td>17</td><td>Cisco Speaker Phone, Cordless</td><td>5</td></tr><tr><td>3</td><td>Advantus Light Bulb, Duo Pack</td><td>4</td></tr><tr><td>15</td><td>HP Personal Copier, Laser</td><td>4</td></tr><tr><td>15</td><td>Canon Fax and Copier, Laser</td><td>4</td></tr><tr><td>1</td><td>Dania 3-Shelf Cabinet, Pine</td><td>5</td></tr><tr><td>5</td><td>Breville Blender, Black</td><td>6</td></tr><tr><td>7</td><td>Cardinal Binder Covers, Economy</td><td>5</td></tr><tr><td>14</td><td>Enermax Mouse, Erganomic</td><td>5</td></tr><tr><td>3</td><td>Tenex Clock, Erganomic</td><td>4</td></tr><tr><td>7</td><td>Cardinal Binding Machine, Durable</td><td>4</td></tr><tr><td>11</td><td>Enermax Note Cards, 8.5 x 11</td><td>4</td></tr><tr><td>12</td><td>Fellowes Trays, Wire Frame</td><td>4</td></tr><tr><td>8</td><td>GlobeWeis Clasp Envelope, Recycled</td><td>4</td></tr><tr><td>6</td><td>Boston Highlighters, Blue</td><td>4</td></tr><tr><td>6</td><td>Prang Drawing Pencil Set</td><td>2</td></tr><tr><td>5</td><td>KitchenAid Toaster, Silver</td><td>4</td></tr><tr><td>4</td><td>Bevis Conference Table, with Bottom Storage</td><td>3</td></tr><tr><td>2</td><td>Harbour Creations Swivel Stool, Adjustable</td><td>4</td></tr><tr><td>15</td><td>HP Copy Machine, Laser</td><td>4</td></tr><tr><td>6</td><td>Sanford Highlighters, Blue</td><td>5</td></tr><tr><td>7</td><td>Avery Binding Machine, Economy</td><td>5</td></tr><tr><td>6</td><td>Boston Pencil Sharpener, Water Color</td><td>10</td></tr><tr><td>2</td><td>SAFCO Chairmat, Black</td><td>5</td></tr><tr><td>17</td><td>Motorola Smart Phone, Full Size</td><td>10</td></tr><tr><td>16</td><td>Epson Card Printer, Durable</td><td>4</td></tr><tr><td>15</td><td>Brother Fax and Copier, Digital</td><td>4</td></tr><tr><td>1</td><td>Safco Stackable Bookrack, Mobile</td><td>4</td></tr><tr><td>4</td><td>Barricks Training Table, Adjustable Height</td><td>2</td></tr><tr><td>6</td><td>BIC Pens, Fluorescent</td><td>4</td></tr><tr><td>6</td><td>BIC Highlighters, Fluorescent</td><td>4</td></tr><tr><td>6</td><td>Sanford Highlighters, Easy-Erase</td><td>4</td></tr><tr><td>12</td><td>Tenex Lockers, Blue</td><td>4</td></tr><tr><td>10</td><td>Smead File Folder Labels, Adjustable</td><td>4</td></tr><tr><td>12</td><td>Fellowes Trays, Single Width</td><td>5</td></tr><tr><td>12</td><td>Tenex Shelving, Single Width</td><td>4</td></tr><tr><td>8</td><td>Jiffy Clasp Envelope, Set of 50</td><td>5</td></tr><tr><td>12</td><td>Fellowes Box, Single Width</td><td>6</td></tr><tr><td>12</td><td>Eldon Folders, Industrial</td><td>5</td></tr><tr><td>4</td><td>Bevis Wood Table, Fully Assembled</td><td>4</td></tr><tr><td>9</td><td>Stockwell Clamps, Metal</td><td>9</td></tr><tr><td>6</td><td>Stanley Highlighters, Fluorescent</td><td>5</td></tr><tr><td>10</td><td>Hon Color Coded Labels, Laser Printer Compatible</td><td>4</td></tr><tr><td>6</td><td>Stanley Canvas, Fluorescent</td><td>4</td></tr><tr><td>2</td><td>Office Star Chairmat, Set of Two</td><td>5</td></tr><tr><td>15</td><td>Canon Personal Copier, High-Speed</td><td>4</td></tr><tr><td>17</td><td>Apple Signal Booster, Cordless</td><td>5</td></tr><tr><td>16</td><td>Panasonic Receipt Printer, Red</td><td>4</td></tr><tr><td>14</td><td>Belkin Router, Erganomic</td><td>5</td></tr><tr><td>8</td><td>GlobeWeis Mailers, with clear poly window</td><td>6</td></tr><tr><td>5</td><td>Breville Stove, Red</td><td>3</td></tr><tr><td>13</td><td>Stiletto Letter Opener, Easy Grip</td><td>9</td></tr><tr><td>12</td><td>Tenex Box, Single Width</td><td>4</td></tr><tr><td>6</td><td>Stanley Markers, Water Color</td><td>4</td></tr><tr><td>17</td><td>Motorola Audio Dock, Cordless</td><td>5</td></tr><tr><td>7</td><td>Cardinal Binding Machine, Clear</td><td>5</td></tr><tr><td>11</td><td>Enermax Message Books, Multicolor</td><td>4</td></tr><tr><td>8</td><td>Cameo Manila Envelope, Security-Tint</td><td>4</td></tr><tr><td>5</td><td>Breville Blender, White</td><td>4</td></tr><tr><td>13</td><td>Fiskars Box Cutter, Serrated</td><td>5</td></tr><tr><td>13</td><td>Acme Letter Opener, Serrated</td><td>3</td></tr><tr><td>17</td><td>Motorola Signal Booster, VoIP</td><td>5</td></tr><tr><td>15</td><td>Hewlett Fax and Copier, Laser</td><td>5</td></tr><tr><td>3</td><td>Rubbermaid Door Stop, Duo Pack</td><td>4</td></tr><tr><td>17</td><td>Samsung Audio Dock, with Caller ID</td><td>4</td></tr><tr><td>16</td><td>Konica Receipt Printer, White</td><td>3</td></tr><tr><td>13</td><td>Stiletto Scissors, Serrated</td><td>4</td></tr><tr><td>6</td><td>Binney & Smith Canvas, Blue</td><td>5</td></tr><tr><td>8</td><td>Ames Business Envelopes, Recycled</td><td>8</td></tr><tr><td>11</td><td>Xerox Computer Printout Paper, Multicolor</td><td>5</td></tr><tr><td>6</td><td>Boston Markers, Water Color</td><td>4</td></tr><tr><td>14</td><td>Memorex Mouse, Erganomic</td><td>5</td></tr><tr><td>16</td><td>Okidata Card Printer, Red</td><td>3</td></tr><tr><td>2</td><td>SAFCO Rocking Chair, Red</td><td>5</td></tr><tr><td>2</td><td>SAFCO Swivel Stool, Black</td><td>4</td></tr><tr><td>3</td><td>Deflect-O Frame, Black</td><td>4</td></tr><tr><td>3</td><td>Eldon Clock, Durable</td><td>4</td></tr><tr><td>11</td><td>SanDisk Cards & Envelopes, Recycled</td><td>5</td></tr><tr><td>9</td><td>Stockwell Staples, 12 Pack</td><td>9</td></tr><tr><td>8</td><td>Ames Manila Envelope, Recycled</td><td>4</td></tr><tr><td>5</td><td>Hoover Stove, Silver</td><td>3</td></tr><tr><td>1</td><td>Dania Corner Shelving, Traditional</td><td>3</td></tr><tr><td>10</td><td>Novimex File Folder Labels, Alphabetical</td><td>4</td></tr><tr><td>13</td><td>Stiletto Box Cutter, High Speed</td><td>5</td></tr><tr><td>9</td><td>OIC Paper Clips, Metal</td><td>4</td></tr><tr><td>6</td><td>Boston Pens, Easy-Erase</td><td>5</td></tr><tr><td>9</td><td>Advantus Push Pins, Assorted Sizes</td><td>5</td></tr><tr><td>9</td><td>Advantus Clamps, Bulk Pack</td><td>5</td></tr><tr><td>5</td><td>Cuisinart Stove, Red</td><td>4</td></tr><tr><td>15</td><td>Brother Copy Machine, Color</td><td>10</td></tr><tr><td>3</td><td>Advantus Door Stop, Black</td><td>4</td></tr><tr><td>2</td><td>Hon Swivel Stool, Black</td><td>5</td></tr><tr><td>15</td><td>HP Ink, Digital</td><td>4</td></tr><tr><td>2</td><td>Hon Chairmat, Black</td><td>3</td></tr><tr><td>12</td><td>Fellowes Lockers, Single Width</td><td>4</td></tr><tr><td>6</td><td>Binney & Smith Highlighters, Fluorescent</td><td>3</td></tr><tr><td>10</td><td>Hon Round Labels, Laser Printer Compatible</td><td>5</td></tr><tr><td>9</td><td>OIC Rubber Bands, Bulk Pack</td><td>4</td></tr><tr><td>7</td><td>Acco Binder Covers, Clear</td><td>3</td></tr><tr><td>3</td><td>Eldon Stacking Tray, Durable</td><td>4</td></tr><tr><td>2</td><td>SAFCO Rocking Chair, Set of Two</td><td>4</td></tr><tr><td>17</td><td>Motorola Office Telephone, VoIP</td><td>4</td></tr><tr><td>12</td><td>Tenex Folders, Industrial</td><td>5</td></tr><tr><td>14</td><td>Memorex Router, Erganomic</td><td>5</td></tr><tr><td>17</td><td>Apple Speaker Phone, VoIP</td><td>5</td></tr><tr><td>3</td><td>Rubbermaid Door Stop, Erganomic</td><td>4</td></tr><tr><td>2</td><td>Office Star Swivel Stool, Black</td><td>4</td></tr><tr><td>11</td><td>Xerox Computer Printout Paper, Recycled</td><td>4</td></tr><tr><td>11</td><td>Eaton Note Cards, 8.5 x 11</td><td>5</td></tr><tr><td>10</td><td>Smead Color Coded Labels, Adjustable</td><td>4</td></tr><tr><td>15</td><td>HP Ink, Color</td><td>4</td></tr><tr><td>2</td><td>Office Star Bag Chairs, Red</td><td>4</td></tr><tr><td>1</td><td>Bush Floating Shelf Set, Pine</td><td>4</td></tr><tr><td>4</td><td>Lesro Training Table, with Bottom Storage</td><td>3</td></tr><tr><td>4</td><td>Chromcraft Round Table, with Bottom Storage</td><td>2</td></tr><tr><td>12</td><td>Fellowes Shelving, Blue</td><td>3</td></tr><tr><td>11</td><td>Eaton Parchment Paper, Premium</td><td>5</td></tr><tr><td>17</td><td>Apple Headset, with Caller ID</td><td>5</td></tr><tr><td>1</td><td>Bush Classic Bookcase, Mobile</td><td>4</td></tr><tr><td>1</td><td>Sauder Corner Shelving, Metal</td><td>3</td></tr><tr><td>16</td><td>Okidata Card Printer, White</td><td>5</td></tr><tr><td>16</td><td>Konica Card Printer, Wireless</td><td>4</td></tr><tr><td>4</td><td>Hon Training Table, Adjustable Height</td><td>3</td></tr><tr><td>4</td><td>Barricks Conference Table, with Bottom Storage</td><td>2</td></tr><tr><td>12</td><td>Staples</td><td>2</td></tr><tr><td>7</td><td>Wilson Jones Hole Reinforcements, Economy</td><td>4</td></tr><tr><td>11</td><td>Eaton Message Books, 8.5 x 11</td><td>4</td></tr><tr><td>10</td><td>Hon Removable Labels, Adjustable</td><td>9</td></tr><tr><td>12</td><td>Tenex Lockers, Single Width</td><td>4</td></tr><tr><td>17</td><td>Nokia Headset, with Caller ID</td><td>4</td></tr><tr><td>2</td><td>Office Star Bag Chairs, Adjustable</td><td>6</td></tr><tr><td>3</td><td>Tenex Light Bulb, Durable</td><td>4</td></tr><tr><td>11</td><td>Enermax Message Books, 8.5 x 11</td><td>2</td></tr><tr><td>16</td><td>StarTech Printer, Wireless</td><td>3</td></tr><tr><td>12</td><td>Eldon File Cart, Industrial</td><td>4</td></tr><tr><td>7</td><td>Ibico Index Tab, Clear</td><td>9</td></tr><tr><td>7</td><td>Wilson Jones Hole Reinforcements, Durable</td><td>5</td></tr><tr><td>7</td><td>Wilson Jones Index Tab, Clear</td><td>5</td></tr><tr><td>2</td><td>Harbour Creations Bag Chairs, Set of Two</td><td>4</td></tr><tr><td>3</td><td>Advantus Clock, Black</td><td>4</td></tr><tr><td>16</td><td>Panasonic Receipt Printer, Durable</td><td>5</td></tr><tr><td>2</td><td>Office Star Bag Chairs, Black</td><td>4</td></tr><tr><td>15</td><td>Hewlett Wireless Fax, Laser</td><td>5</td></tr><tr><td>17</td><td>Motorola Signal Booster, with Caller ID</td><td>3</td></tr><tr><td>11</td><td>Enermax Memo Slips, Premium</td><td>4</td></tr><tr><td>8</td><td>Kraft Clasp Envelope, with clear poly window</td><td>6</td></tr><tr><td>5</td><td>Breville Microwave, White</td><td>4</td></tr><tr><td>9</td><td>Accos Thumb Tacks, Bulk Pack</td><td>4</td></tr><tr><td>15</td><td>Hewlett Ink, Color</td><td>4</td></tr><tr><td>2</td><td>Novimex Rocking Chair, Adjustable</td><td>4</td></tr><tr><td>1</td><td>Ikea Stackable Bookrack, Pine</td><td>4</td></tr><tr><td>17</td><td>Motorola Signal Booster, Cordless</td><td>4</td></tr><tr><td>4</td><td>Chromcraft Computer Table, Adjustable Height</td><td>3</td></tr><tr><td>16</td><td>Epson Printer, White</td><td>5</td></tr><tr><td>9</td><td>Advantus Rubber Bands, Metal</td><td>5</td></tr><tr><td>11</td><td>Enermax Memo Slips, 8.5 x 11</td><td>6</td></tr><tr><td>11</td><td>Green Bar Cards & Envelopes, Multicolor</td><td>4</td></tr><tr><td>13</td><td>Elite Scissors, Easy Grip</td><td>4</td></tr><tr><td>12</td><td>Fellowes Folders, Industrial</td><td>4</td></tr><tr><td>8</td><td>Jiffy Mailers, Recycled</td><td>4</td></tr><tr><td>5</td><td>Hamilton Beach Blender, White</td><td>3</td></tr><tr><td>2</td><td>Novimex Chairmat, Adjustable</td><td>4</td></tr><tr><td>14</td><td>Enermax Numeric Keypad, Bluetooth</td><td>9</td></tr><tr><td>6</td><td>Stanley Pens, Blue</td><td>6</td></tr><tr><td>9</td><td>Advantus Staples, Metal</td><td>5</td></tr><tr><td>8</td><td>Ames Clasp Envelope, Set of 50</td><td>4</td></tr><tr><td>5</td><td>Hoover Refrigerator, Red</td><td>3</td></tr><tr><td>17</td><td>Motorola Office Telephone, Full Size</td><td>5</td></tr><tr><td>2</td><td>Office Star Swivel Stool, Red</td><td>4</td></tr><tr><td>14</td><td>Belkin Flash Drive, Programmable</td><td>5</td></tr><tr><td>4</td><td>Barricks Training Table, with Bottom Storage</td><td>4</td></tr><tr><td>14</td><td>Memorex Router, Programmable</td><td>4</td></tr><tr><td>15</td><td>HP Fax and Copier, Digital</td><td>4</td></tr><tr><td>13</td><td>Fiskars Scissors, Easy Grip</td><td>3</td></tr><tr><td>5</td><td>Cuisinart Coffee Grinder, Black</td><td>4</td></tr><tr><td>5</td><td>Hoover Stove, Black</td><td>4</td></tr><tr><td>3</td><td>Advantus Frame, Duo Pack</td><td>4</td></tr><tr><td>2</td><td>Harbour Creations Rocking Chair, Black</td><td>5</td></tr><tr><td>16</td><td>StarTech Card Printer, White</td><td>5</td></tr><tr><td>2</td><td>Harbour Creations Steel Folding Chair, Set of Two</td><td>6</td></tr><tr><td>2</td><td>Hon Swivel Stool, Set of Two</td><td>4</td></tr><tr><td>15</td><td>Brother Fax Machine, High-Speed</td><td>5</td></tr><tr><td>16</td><td>Konica Card Printer, Red</td><td>6</td></tr><tr><td>6</td><td>Boston Highlighters, Fluorescent</td><td>5</td></tr><tr><td>6</td><td>Boston Markers, Easy-Erase</td><td>4</td></tr><tr><td>5</td><td>Breville Stove, White</td><td>4</td></tr><tr><td>15</td><td>Canon Fax Machine, Laser</td><td>5</td></tr><tr><td>3</td><td>Deflect-O Clock, Black</td><td>5</td></tr><tr><td>6</td><td>Boston Pencil Sharpener, Easy-Erase</td><td>4</td></tr><tr><td>10</td><td>Avery File Folder Labels, 5000 Label Set</td><td>5</td></tr><tr><td>5</td><td>KitchenAid Microwave, White</td><td>4</td></tr><tr><td>3</td><td>Eldon Frame, Black</td><td>3</td></tr><tr><td>4</td><td>Barricks Round Table, Fully Assembled</td><td>3</td></tr><tr><td>1</td><td>Ikea Classic Bookcase, Metal</td><td>5</td></tr><tr><td>17</td><td>Cisco Signal Booster, with Caller ID</td><td>5</td></tr><tr><td>6</td><td>BIC Canvas, Easy-Erase</td><td>5</td></tr><tr><td>13</td><td>Stiletto Box Cutter, Steel</td><td>4</td></tr><tr><td>13</td><td>Elite Box Cutter, High Speed</td><td>3</td></tr><tr><td>10</td><td>Novimex Round Labels, Adjustable</td><td>4</td></tr><tr><td>5</td><td>Cuisinart Toaster, Red</td><td>3</td></tr><tr><td>12</td><td>Rogers Lockers, Single Width</td><td>5</td></tr><tr><td>1</td><td>Safco Floating Shelf Set, Traditional</td><td>5</td></tr><tr><td>14</td><td>Logitech Flash Drive, Erganomic</td><td>5</td></tr><tr><td>17</td><td>Apple Speaker Phone, Cordless</td><td>6</td></tr><tr><td>4</td><td>Hon Computer Table, with Bottom Storage</td><td>2</td></tr><tr><td>9</td><td>Advantus Rubber Bands, 12 Pack</td><td>6</td></tr><tr><td>12</td><td>Smead Shelving, Industrial</td><td>4</td></tr><tr><td>5</td><td>Cuisinart Stove, Silver</td><td>4</td></tr><tr><td>10</td><td>Smead Shipping Labels, 5000 Label Set</td><td>5</td></tr><tr><td>6</td><td>BIC Markers, Blue</td><td>4</td></tr><tr><td>8</td><td>Ames Mailers, with clear poly window</td><td>4</td></tr><tr><td>1</td><td>Ikea 3-Shelf Cabinet, Metal</td><td>4</td></tr><tr><td>2</td><td>Harbour Creations Swivel Stool, Black</td><td>5</td></tr><tr><td>15</td><td>HP Fax and Copier, High-Speed</td><td>4</td></tr><tr><td>2</td><td>Harbour Creations Swivel Stool, Red</td><td>4</td></tr><tr><td>3</td><td>Rubbermaid Photo Frame, Duo Pack</td><td>5</td></tr><tr><td>14</td><td>Logitech Flash Drive, USB</td><td>4</td></tr><tr><td>13</td><td>Kleencut Letter Opener, Easy Grip</td><td>8</td></tr><tr><td>7</td><td>Cardinal Index Tab, Economy</td><td>5</td></tr><tr><td>12</td><td>Tenex Shelving, Industrial</td><td>4</td></tr><tr><td>8</td><td>GlobeWeis Mailers, Security-Tint</td><td>4</td></tr><tr><td>8</td><td>Jiffy Interoffice Envelope, Recycled</td><td>4</td></tr><tr><td>10</td><td>Hon Color Coded Labels, Alphabetical</td><td>4</td></tr><tr><td>5</td><td>Hoover Microwave, Red</td><td>4</td></tr><tr><td>16</td><td>Panasonic Printer, Durable</td><td>4</td></tr><tr><td>1</td><td>Sauder 3-Shelf Cabinet, Pine</td><td>4</td></tr><tr><td>5</td><td>Hamilton Beach Microwave, Red</td><td>3</td></tr><tr><td>6</td><td>Boston Canvas, Water Color</td><td>4</td></tr><tr><td>12</td><td>Rogers Box, Single Width</td><td>4</td></tr><tr><td>12</td><td>Smead Folders, Industrial</td><td>5</td></tr><tr><td>11</td><td>SanDisk Cards & Envelopes, Premium</td><td>4</td></tr><tr><td>16</td><td>Konica Card Printer, Durable</td><td>4</td></tr><tr><td>2</td><td>Novimex Rocking Chair, Red</td><td>3</td></tr><tr><td>1</td><td>Sauder Corner Shelving, Traditional</td><td>4</td></tr><tr><td>15</td><td>HP Personal Copier, Digital</td><td>5</td></tr><tr><td>15</td><td>Brother Fax and Copier, Laser</td><td>4</td></tr><tr><td>4</td><td>Lesro Coffee Table, Rectangular</td><td>2</td></tr><tr><td>9</td><td>OIC Paper Clips, 12 Pack</td><td>5</td></tr><tr><td>8</td><td>Cameo Mailers, Set of 50</td><td>5</td></tr><tr><td>8</td><td>GlobeWeis Business Envelopes, Security-Tint</td><td>5</td></tr><tr><td>14</td><td>Logitech Mouse, Bluetooth</td><td>4</td></tr><tr><td>2</td><td>Hon Bag Chairs, Red</td><td>6</td></tr><tr><td>3</td><td>Deflect-O Clock, Erganomic</td><td>4</td></tr><tr><td>4</td><td>Bevis Training Table, Fully Assembled</td><td>3</td></tr><tr><td>16</td><td>StarTech Calculator, Red</td><td>4</td></tr><tr><td>7</td><td>Cardinal Index Tab, Clear</td><td>9</td></tr><tr><td>13</td><td>Kleencut Scissors, Serrated</td><td>4</td></tr><tr><td>10</td><td>Smead Legal Exhibit Labels, Alphabetical</td><td>4</td></tr><tr><td>13</td><td>Stiletto Shears, Easy Grip</td><td>3</td></tr><tr><td>12</td><td>Smead Lockers, Industrial</td><td>4</td></tr><tr><td>2</td><td>Harbour Creations Rocking Chair, Set of Two</td><td>4</td></tr><tr><td>16</td><td>Epson Receipt Printer, White</td><td>3</td></tr><tr><td>16</td><td>Konica Receipt Printer, Durable</td><td>3</td></tr><tr><td>2</td><td>Novimex Swivel Stool, Set of Two</td><td>5</td></tr><tr><td>2</td><td>Novimex Rocking Chair, Set of Two</td><td>4</td></tr><tr><td>16</td><td>Okidata Inkjet, Durable</td><td>3</td></tr><tr><td>17</td><td>Cisco Smart Phone, Cordless</td><td>4</td></tr><tr><td>6</td><td>BIC Pens, Blue</td><td>4</td></tr><tr><td>10</td><td>Avery Round Labels, Alphabetical</td><td>4</td></tr><tr><td>13</td><td>Stiletto Trimmer, Easy Grip</td><td>4</td></tr><tr><td>11</td><td>Enermax Parchment Paper, Multicolor</td><td>5</td></tr><tr><td>14</td><td>Memorex Numeric Keypad, USB</td><td>4</td></tr><tr><td>15</td><td>Sharp Copy Machine, High-Speed</td><td>4</td></tr><tr><td>16</td><td>StarTech Inkjet, Wireless</td><td>9</td></tr><tr><td>14</td><td>Memorex Router, Bluetooth</td><td>4</td></tr><tr><td>1</td><td>Sauder Library with Doors, Traditional</td><td>5</td></tr><tr><td>15</td><td>Hewlett Fax and Copier, Digital</td><td>4</td></tr><tr><td>4</td><td>Barricks Wood Table, Rectangular</td><td>2</td></tr><tr><td>14</td><td>Memorex Mouse, USB</td><td>3</td></tr><tr><td>9</td><td>OIC Clamps, Assorted Sizes</td><td>4</td></tr><tr><td>6</td><td>Binney & Smith Canvas, Water Color</td><td>4</td></tr><tr><td>12</td><td>Rogers File Cart, Blue</td><td>3</td></tr><tr><td>9</td><td>OIC Thumb Tacks, Bulk Pack</td><td>4</td></tr><tr><td>6</td><td>Stanley Markers, Fluorescent</td><td>3</td></tr><tr><td>17</td><td>Apple Speaker Phone, Full Size</td><td>5</td></tr><tr><td>14</td><td>Belkin Router, USB</td><td>5</td></tr><tr><td>4</td><td>Barricks Conference Table, Adjustable Height</td><td>3</td></tr><tr><td>9</td><td>Stockwell Rubber Bands, Bulk Pack</td><td>8</td></tr><tr><td>10</td><td>Harbour Creations Removable Labels, Laser Printer Compatible</td><td>4</td></tr><tr><td>10</td><td>Novimex File Folder Labels, Laser Printer Compatible</td><td>5</td></tr><tr><td>16</td><td>Konica Receipt Printer, Wireless</td><td>4</td></tr><tr><td>15</td><td>Sharp Personal Copier, High-Speed</td><td>4</td></tr><tr><td>3</td><td>Eldon Door Stop, Duo Pack</td><td>5</td></tr><tr><td>17</td><td>Motorola Signal Booster, Full Size</td><td>5</td></tr><tr><td>5</td><td>Hoover Microwave, Silver</td><td>4</td></tr><tr><td>6</td><td>BIC Highlighters, Water Color</td><td>5</td></tr><tr><td>5</td><td>Breville Refrigerator, White</td><td>4</td></tr><tr><td>17</td><td>Cisco Office Telephone, VoIP</td><td>5</td></tr><tr><td>3</td><td>Advantus Light Bulb, Durable</td><td>4</td></tr><tr><td>15</td><td>HP Fax and Copier, Color</td><td>4</td></tr><tr><td>1</td><td>Sauder Library with Doors, Pine</td><td>3</td></tr><tr><td>16</td><td>Epson Receipt Printer, Red</td><td>3</td></tr><tr><td>6</td><td>Sanford Pens, Water Color</td><td>4</td></tr><tr><td>11</td><td>Xerox Cards & Envelopes, Premium</td><td>3</td></tr><tr><td>13</td><td>Fiskars Scissors, Steel</td><td>5</td></tr><tr><td>5</td><td>Cuisinart Toaster, Black</td><td>4</td></tr><tr><td>2</td><td>Hon Executive Leather Armchair, Adjustable</td><td>9</td></tr><tr><td>3</td><td>Advantus Door Stop, Durable</td><td>5</td></tr><tr><td>16</td><td>StarTech Calculator, Durable</td><td>3</td></tr><tr><td>7</td><td>Avery 3-Hole Punch, Economy</td><td>4</td></tr><tr><td>6</td><td>Binney & Smith Pencil Sharpener, Water Color</td><td>8</td></tr><tr><td>6</td><td>BIC Canvas, Fluorescent</td><td>4</td></tr><tr><td>13</td><td>Stiletto Box Cutter, Serrated</td><td>3</td></tr><tr><td>6</td><td>BIC Pencil Sharpener, Fluorescent</td><td>4</td></tr><tr><td>3</td><td>Rubbermaid Frame, Erganomic</td><td>5</td></tr><tr><td>4</td><td>Chromcraft Wood Table, Fully Assembled</td><td>3</td></tr><tr><td>9</td><td>OIC Thumb Tacks, 12 Pack</td><td>5</td></tr><tr><td>11</td><td>SanDisk Computer Printout Paper, 8.5 x 11</td><td>5</td></tr><tr><td>5</td><td>Hamilton Beach Coffee Grinder, Silver</td><td>4</td></tr><tr><td>11</td><td>SanDisk Parchment Paper, Multicolor</td><td>5</td></tr><tr><td>14</td><td>Belkin Mouse, USB</td><td>5</td></tr><tr><td>3</td><td>Rubbermaid Frame, Black</td><td>4</td></tr><tr><td>8</td><td>GlobeWeis Mailers, Set of 50</td><td>6</td></tr><tr><td>6</td><td>Sanford Pens, Blue</td><td>5</td></tr><tr><td>11</td><td>Enermax Note Cards, Multicolor</td><td>6</td></tr><tr><td>10</td><td>Novimex Round Labels, Laser Printer Compatible</td><td>5</td></tr><tr><td>6</td><td>BIC Pens, Easy-Erase</td><td>4</td></tr><tr><td>11</td><td>Green Bar Note Cards, Premium</td><td>8</td></tr><tr><td>5</td><td>Hoover Blender, Silver</td><td>4</td></tr><tr><td>17</td><td>Apple Audio Dock, Cordless</td><td>4</td></tr><tr><td>1</td><td>Ikea Library with Doors, Traditional</td><td>5</td></tr><tr><td>17</td><td>Nokia Audio Dock, Cordless</td><td>5</td></tr><tr><td>17</td><td>Motorola Headset, VoIP</td><td>4</td></tr><tr><td>1</td><td>Sauder Classic Bookcase, Pine</td><td>5</td></tr><tr><td>14</td><td>Enermax Flash Drive, Erganomic</td><td>4</td></tr><tr><td>4</td><td>Chromcraft Round Table, Fully Assembled</td><td>2</td></tr><tr><td>9</td><td>Advantus Clamps, Metal</td><td>5</td></tr><tr><td>5</td><td>Breville Refrigerator, Silver</td><td>4</td></tr><tr><td>5</td><td>Cuisinart Refrigerator, Red</td><td>4</td></tr><tr><td>12</td><td>Tenex Lockers, Wire Frame</td><td>5</td></tr><tr><td>9</td><td>Accos Paper Clips, Metal</td><td>6</td></tr><tr><td>7</td><td>Cardinal Binding Machine, Recycled</td><td>4</td></tr><tr><td>13</td><td>Elite Letter Opener, High Speed</td><td>4</td></tr><tr><td>3</td><td>Advantus Stacking Tray, Black</td><td>4</td></tr><tr><td>16</td><td>StarTech Phone, Durable</td><td>5</td></tr><tr><td>14</td><td>SanDisk Flash Drive, USB</td><td>5</td></tr><tr><td>16</td><td>Okidata Calculator, Red</td><td>4</td></tr><tr><td>17</td><td>Samsung Speaker Phone, with Caller ID</td><td>5</td></tr><tr><td>13</td><td>Kleencut Letter Opener, Steel</td><td>4</td></tr><tr><td>12</td><td>Smead Trays, Single Width</td><td>4</td></tr><tr><td>9</td><td>OIC Clamps, Metal</td><td>4</td></tr><tr><td>5</td><td>Hoover Toaster, Silver</td><td>5</td></tr><tr><td>6</td><td>Binney & Smith Highlighters, Water Color</td><td>5</td></tr><tr><td>7</td><td>Ibico Index Tab, Durable</td><td>4</td></tr><tr><td>11</td><td>Eaton Memo Slips, 8.5 x 11</td><td>3</td></tr><tr><td>2</td><td>Novimex Steel Folding Chair, Red</td><td>4</td></tr><tr><td>9</td><td>OIC Rubber Bands, 12 Pack</td><td>4</td></tr><tr><td>7</td><td>Cardinal Hole Reinforcements, Recycled</td><td>5</td></tr><tr><td>16</td><td>Epson Inkjet, Durable</td><td>3</td></tr><tr><td>14</td><td>Memorex Router, USB</td><td>4</td></tr><tr><td>2</td><td>SAFCO Bag Chairs, Set of Two</td><td>4</td></tr><tr><td>3</td><td>Deflect-O Door Stop, Durable</td><td>5</td></tr><tr><td>10</td><td>Novimex Removable Labels, 5000 Label Set</td><td>5</td></tr><tr><td>7</td><td>Cardinal Hole Reinforcements, Clear</td><td>5</td></tr><tr><td>8</td><td>Cameo Business Envelopes, Security-Tint</td><td>4</td></tr><tr><td>5</td><td>Breville Microwave, Red</td><td>5</td></tr><tr><td>8</td><td>Cameo Interoffice Envelope, Recycled</td><td>4</td></tr><tr><td>13</td><td>Fiskars Box Cutter, Easy Grip</td><td>5</td></tr><tr><td>13</td><td>Elite Shears, High Speed</td><td>4</td></tr><tr><td>14</td><td>Belkin Flash Drive, USB</td><td>5</td></tr><tr><td>15</td><td>Brother Personal Copier, Laser</td><td>4</td></tr><tr><td>17</td><td>Samsung Audio Dock, Cordless</td><td>4</td></tr><tr><td>16</td><td>Okidata Card Printer, Durable</td><td>4</td></tr><tr><td>1</td><td>Ikea Corner Shelving, Mobile</td><td>4</td></tr><tr><td>4</td><td>Hon Computer Table, Fully Assembled</td><td>5</td></tr><tr><td>7</td><td>Cardinal Hole Reinforcements, Economy</td><td>4</td></tr><tr><td>5</td><td>Cuisinart Refrigerator, Black</td><td>4</td></tr><tr><td>17</td><td>Cisco Headset, Cordless</td><td>5</td></tr><tr><td>16</td><td>Epson Receipt Printer, Wireless</td><td>4</td></tr><tr><td>1</td><td>Bush Corner Shelving, Mobile</td><td>5</td></tr><tr><td>15</td><td>Sharp Copy Machine, Laser</td><td>5</td></tr><tr><td>3</td><td>Rubbermaid Light Bulb, Durable</td><td>5</td></tr><tr><td>14</td><td>Logitech Flash Drive, Programmable</td><td>3</td></tr><tr><td>2</td><td>Hon Chairmat, Set of Two</td><td>6</td></tr><tr><td>1</td><td>Dania Classic Bookcase, Metal</td><td>4</td></tr><tr><td>5</td><td>KitchenAid Toaster, Red</td><td>4</td></tr><tr><td>11</td><td>Eaton Message Books, Multicolor</td><td>5</td></tr><tr><td>9</td><td>Advantus Paper Clips, Bulk Pack</td><td>4</td></tr><tr><td>6</td><td>Stanley Highlighters, Water Color</td><td>4</td></tr><tr><td>10</td><td>Hon Legal Exhibit Labels, 5000 Label Set</td><td>4</td></tr><tr><td>6</td><td>Binney & Smith Sketch Pad, Water Color</td><td>4</td></tr><tr><td>13</td><td>Acme Shears, Steel</td><td>5</td></tr><tr><td>7</td><td>Acco 3-Hole Punch, Recycled</td><td>4</td></tr><tr><td>13</td><td>Kleencut Ruler, High Speed</td><td>4</td></tr><tr><td>17</td><td>Apple Audio Dock, with Caller ID</td><td>5</td></tr><tr><td>15</td><td>Hewlett Copy Machine, Color</td><td>9</td></tr><tr><td>8</td><td>Cameo Clasp Envelope, Recycled</td><td>4</td></tr><tr><td>7</td><td>Wilson Jones Binder Covers, Durable</td><td>4</td></tr><tr><td>12</td><td>Tenex Trays, Industrial</td><td>4</td></tr><tr><td>13</td><td>Fiskars Shears, High Speed</td><td>3</td></tr><tr><td>12</td><td>Tenex Lockers, Industrial</td><td>5</td></tr><tr><td>13</td><td>Fiskars Box Cutter, High Speed</td><td>4</td></tr><tr><td>8</td><td>Ames Interoffice Envelope, Recycled</td><td>4</td></tr><tr><td>16</td><td>Panasonic Inkjet, Red</td><td>4</td></tr><tr><td>14</td><td>Logitech Router, Erganomic</td><td>4</td></tr><tr><td>3</td><td>Deflect-O Stacking Tray, Erganomic</td><td>8</td></tr><tr><td>1</td><td>Safco Stackable Bookrack, Traditional</td><td>5</td></tr><tr><td>14</td><td>SanDisk Mouse, Programmable</td><td>4</td></tr><tr><td>15</td><td>Canon Copy Machine, Digital</td><td>4</td></tr><tr><td>2</td><td>Novimex Executive Leather Armchair, Black</td><td>4</td></tr><tr><td>9</td><td>Stockwell Push Pins, Metal</td><td>9</td></tr><tr><td>6</td><td>Stanley Sketch Pad, Blue</td><td>4</td></tr><tr><td>6</td><td>Binney & Smith Sketch Pad, Fluorescent</td><td>4</td></tr><tr><td>10</td><td>Smead Round Labels, 5000 Label Set</td><td>4</td></tr><tr><td>17</td><td>Samsung Office Telephone, Full Size</td><td>6</td></tr><tr><td>1</td><td>Safco Floating Shelf Set, Metal</td><td>4</td></tr><tr><td>1</td><td>Sauder Classic Bookcase, Traditional</td><td>5</td></tr><tr><td>2</td><td>Hon Chairmat, Adjustable</td><td>5</td></tr><tr><td>16</td><td>Epson Card Printer, Red</td><td>4</td></tr><tr><td>15</td><td>Sharp Fax and Copier, Digital</td><td>4</td></tr><tr><td>14</td><td>Memorex Mouse, Bluetooth</td><td>5</td></tr><tr><td>9</td><td>Advantus Thumb Tacks, Assorted Sizes</td><td>4</td></tr><tr><td>11</td><td>Eaton Cards & Envelopes, Recycled</td><td>4</td></tr><tr><td>6</td><td>Boston Pens, Fluorescent</td><td>5</td></tr><tr><td>11</td><td>Green Bar Message Books, 8.5 x 11</td><td>5</td></tr><tr><td>5</td><td>Hamilton Beach Coffee Grinder, White</td><td>4</td></tr><tr><td>10</td><td>Novimex Color Coded Labels, Laser Printer Compatible</td><td>4</td></tr><tr><td>15</td><td>Canon Fax and Copier, High-Speed</td><td>4</td></tr><tr><td>17</td><td>Cisco Headset, with Caller ID</td><td>3</td></tr><tr><td>3</td><td>Eldon Photo Frame, Erganomic</td><td>5</td></tr><tr><td>3</td><td>Deflect-O Clock, Durable</td><td>4</td></tr><tr><td>3</td><td>Deflect-O Light Bulb, Erganomic</td><td>4</td></tr><tr><td>9</td><td>Stockwell Push Pins, Bulk Pack</td><td>9</td></tr><tr><td>9</td><td>OIC Push Pins, 12 Pack</td><td>4</td></tr><tr><td>5</td><td>KitchenAid Microwave, Black</td><td>5</td></tr><tr><td>11</td><td>Enermax Computer Printout Paper, 8.5 x 11</td><td>4</td></tr><tr><td>16</td><td>Konica Phone, Wireless</td><td>4</td></tr><tr><td>15</td><td>Brother Fax Machine, Digital</td><td>3</td></tr><tr><td>2</td><td>SAFCO Steel Folding Chair, Black</td><td>4</td></tr><tr><td>1</td><td>Safco Library with Doors, Metal</td><td>5</td></tr><tr><td>10</td><td>Harbour Creations Removable Labels, Adjustable</td><td>9</td></tr><tr><td>9</td><td>Advantus Staples, Bulk Pack</td><td>5</td></tr><tr><td>11</td><td>Eaton Parchment Paper, Multicolor</td><td>4</td></tr><tr><td>13</td><td>Kleencut Shears, High Speed</td><td>5</td></tr><tr><td>13</td><td>Kleencut Box Cutter, Easy Grip</td><td>3</td></tr><tr><td>1</td><td>Ikea Classic Bookcase, Traditional</td><td>5</td></tr><tr><td>16</td><td>Panasonic Inkjet, Durable</td><td>2</td></tr><tr><td>2</td><td>SAFCO Swivel Stool, Set of Two</td><td>4</td></tr><tr><td>3</td><td>Eldon Light Bulb, Durable</td><td>3</td></tr><tr><td>1</td><td>Safco Classic Bookcase, Pine</td><td>5</td></tr><tr><td>12</td><td>Tenex Shelving, Blue</td><td>3</td></tr><tr><td>6</td><td>Binney & Smith Highlighters, Blue</td><td>4</td></tr><tr><td>5</td><td>KitchenAid Stove, White</td><td>3</td></tr><tr><td>12</td><td>Smead Box, Industrial</td><td>5</td></tr><tr><td>5</td><td>Cuisinart Coffee Grinder, Red</td><td>4</td></tr><tr><td>5</td><td>KitchenAid Toaster, Black</td><td>5</td></tr><tr><td>11</td><td>Eaton Computer Printout Paper, Multicolor</td><td>5</td></tr><tr><td>9</td><td>OIC Rubber Bands, Assorted Sizes</td><td>3</td></tr><tr><td>3</td><td>Advantus Frame, Erganomic</td><td>4</td></tr><tr><td>15</td><td>HP Fax Machine, Color</td><td>4</td></tr><tr><td>16</td><td>Panasonic Phone, Red</td><td>4</td></tr><tr><td>4</td><td>Bevis Wood Table, Rectangular</td><td>3</td></tr><tr><td>1</td><td>Ikea Floating Shelf Set, Mobile</td><td>4</td></tr></tbody></table></div>"
      ]
     },
     "metadata": {
      "application/vnd.databricks.v1+output": {
       "addedWidgets": {},
       "aggData": [],
       "aggError": "",
       "aggOverflow": false,
       "aggSchema": [],
       "aggSeriesLimitReached": false,
       "aggType": "",
       "arguments": {},
       "columnCustomDisplayInfos": {},
       "data": [
        [
         7,
         "Wilson Jones Binder, Economy",
         4
        ],
        [
         9,
         "Advantus Push Pins, Metal",
         3
        ],
        [
         12,
         "Smead Folders, Wire Frame",
         4
        ],
        [
         5,
         "Breville Microwave, Silver",
         5
        ],
        [
         6,
         "Sanford Canvas, Blue",
         6
        ],
        [
         7,
         "Acco Hole Reinforcements, Economy",
         5
        ],
        [
         6,
         "Binney & Smith Pens, Easy-Erase",
         3
        ],
        [
         4,
         "Barricks Wood Table, Adjustable Height",
         2
        ],
        [
         1,
         "Dania Floating Shelf Set, Pine",
         4
        ],
        [
         13,
         "Elite Trimmer, Serrated",
         4
        ],
        [
         11,
         "Xerox Parchment Paper, Premium",
         4
        ],
        [
         12,
         "Rogers File Cart, Single Width",
         9
        ],
        [
         8,
         "Cameo Manila Envelope, Set of 50",
         5
        ],
        [
         9,
         "Advantus Thumb Tacks, 12 Pack",
         4
        ],
        [
         11,
         "Xerox Message Books, Recycled",
         4
        ],
        [
         17,
         "Motorola Audio Dock, Full Size",
         4
        ],
        [
         3,
         "Advantus Light Bulb, Erganomic",
         5
        ],
        [
         16,
         "Okidata Calculator, Durable",
         3
        ],
        [
         14,
         "Logitech Numeric Keypad, Programmable",
         5
        ],
        [
         5,
         "Cuisinart Blender, Black",
         4
        ],
        [
         15,
         "Canon Personal Copier, Color",
         5
        ],
        [
         3,
         "Rubbermaid Photo Frame, Durable",
         4
        ],
        [
         17,
         "Nokia Audio Dock, VoIP",
         4
        ],
        [
         2,
         "Office Star Rocking Chair, Black",
         4
        ],
        [
         15,
         "HP Fax Machine, Digital",
         4
        ],
        [
         4,
         "Chromcraft Wood Table, with Bottom Storage",
         3
        ],
        [
         8,
         "Cameo Business Envelopes, Recycled",
         8
        ],
        [
         8,
         "GlobeWeis Manila Envelope, Recycled",
         3
        ],
        [
         10,
         "Hon Color Coded Labels, Adjustable",
         4
        ],
        [
         9,
         "Advantus Clamps, 12 Pack",
         4
        ],
        [
         1,
         "Bush 3-Shelf Cabinet, Metal",
         4
        ],
        [
         3,
         "Rubbermaid Stacking Tray, Durable",
         4
        ],
        [
         2,
         "Harbour Creations Steel Folding Chair, Red",
         5
        ],
        [
         17,
         "Samsung Signal Booster, Full Size",
         5
        ],
        [
         8,
         "Ames Peel and Seal, Security-Tint",
         4
        ],
        [
         8,
         "Jiffy Clasp Envelope, Recycled",
         5
        ],
        [
         5,
         "Breville Stove, Silver",
         3
        ],
        [
         14,
         "Logitech Numeric Keypad, Bluetooth",
         4
        ],
        [
         14,
         "Enermax Keyboard, USB",
         4
        ],
        [
         15,
         "Hewlett Wireless Fax, Digital",
         4
        ],
        [
         5,
         "KitchenAid Stove, Red",
         4
        ],
        [
         6,
         "Sanford Canvas, Easy-Erase",
         5
        ],
        [
         5,
         "KitchenAid Refrigerator, Red",
         5
        ],
        [
         7,
         "Avery Binding Machine, Durable",
         5
        ],
        [
         17,
         "Motorola Audio Dock, with Caller ID",
         5
        ],
        [
         8,
         "Jiffy Mailers, Security-Tint",
         4
        ],
        [
         5,
         "Hoover Coffee Grinder, Red",
         4
        ],
        [
         7,
         "Avery Hole Reinforcements, Clear",
         4
        ],
        [
         10,
         "Hon File Folder Labels, Laser Printer Compatible",
         4
        ],
        [
         7,
         "Avery Binding Machine, Clear",
         5
        ],
        [
         6,
         "Binney & Smith Canvas, Fluorescent",
         6
        ],
        [
         11,
         "Xerox Memo Slips, Recycled",
         5
        ],
        [
         6,
         "Stanley Canvas, Easy-Erase",
         5
        ],
        [
         5,
         "Cuisinart Toaster, Silver",
         3
        ],
        [
         3,
         "Eldon Frame, Durable",
         4
        ],
        [
         14,
         "Enermax Flash Drive, Programmable",
         5
        ],
        [
         13,
         "Acme Trimmer, Easy Grip",
         4
        ],
        [
         7,
         "Wilson Jones 3-Hole Punch, Durable",
         6
        ],
        [
         13,
         "Kleencut Box Cutter, Serrated",
         4
        ],
        [
         13,
         "Kleencut Trimmer, High Speed",
         3
        ],
        [
         13,
         "Fiskars Ruler, High Speed",
         3
        ],
        [
         11,
         "Enermax Message Books, Premium",
         5
        ],
        [
         10,
         "Hon Legal Exhibit Labels, Laser Printer Compatible",
         4
        ],
        [
         6,
         "Staples",
         7
        ],
        [
         17,
         "Samsung Smart Phone, Cordless",
         5
        ],
        [
         1,
         "Sauder 3-Shelf Cabinet, Mobile",
         5
        ],
        [
         2,
         "Novimex Executive Leather Armchair, Red",
         5
        ],
        [
         2,
         "SAFCO Chairmat, Adjustable",
         4
        ],
        [
         13,
         "Stiletto Scissors, Steel",
         4
        ],
        [
         5,
         "KitchenAid Refrigerator, White",
         5
        ],
        [
         7,
         "Wilson Jones Hole Reinforcements, Recycled",
         4
        ],
        [
         10,
         "Hon Round Labels, 5000 Label Set",
         4
        ],
        [
         13,
         "Kleencut Ruler, Easy Grip",
         5
        ],
        [
         7,
         "Avery Hole Reinforcements, Economy",
         3
        ],
        [
         14,
         "Memorex Mouse, Programmable",
         5
        ],
        [
         2,
         "Novimex Steel Folding Chair, Black",
         3
        ],
        [
         16,
         "Konica Phone, Durable",
         4
        ],
        [
         5,
         "Cuisinart Microwave, Black",
         5
        ],
        [
         7,
         "Acco Binder Covers, Recycled",
         5
        ],
        [
         13,
         "Acme Scissors, Serrated",
         4
        ],
        [
         13,
         "Stiletto Shears, High Speed",
         5
        ],
        [
         10,
         "Avery Legal Exhibit Labels, Adjustable",
         4
        ],
        [
         4,
         "Chromcraft Round Table, Rectangular",
         2
        ],
        [
         12,
         "Rogers Lockers, Industrial",
         5
        ],
        [
         5,
         "Hoover Stove, Red",
         4
        ],
        [
         6,
         "BIC Canvas, Blue",
         4
        ],
        [
         10,
         "Novimex Legal Exhibit Labels, Adjustable",
         4
        ],
        [
         14,
         "Memorex Numeric Keypad, Bluetooth",
         9
        ],
        [
         2,
         "Harbour Creations Executive Leather Armchair, Black",
         5
        ],
        [
         17,
         "Apple Office Telephone, Full Size",
         5
        ],
        [
         2,
         "Hon Rocking Chair, Adjustable",
         4
        ],
        [
         14,
         "Enermax Memory Card, Programmable",
         5
        ],
        [
         14,
         "Belkin Mouse, Programmable",
         3
        ],
        [
         3,
         "Deflect-O Photo Frame, Duo Pack",
         3
        ],
        [
         12,
         "Eldon Shelving, Industrial",
         5
        ],
        [
         10,
         "Avery File Folder Labels, Laser Printer Compatible",
         3
        ],
        [
         9,
         "Advantus Clamps, Assorted Sizes",
         5
        ],
        [
         6,
         "Binney & Smith Sketch Pad, Easy-Erase",
         5
        ],
        [
         7,
         "Acco 3-Hole Punch, Economy",
         5
        ],
        [
         14,
         "Memorex Flash Drive, Programmable",
         5
        ],
        [
         1,
         "Ikea Corner Shelving, Traditional",
         4
        ],
        [
         16,
         "Epson Calculator, Durable",
         4
        ],
        [
         3,
         "Tenex Clock, Duo Pack",
         4
        ],
        [
         3,
         "Rubbermaid Photo Frame, Black",
         4
        ],
        [
         2,
         "Office Star Steel Folding Chair, Adjustable",
         4
        ],
        [
         3,
         "Rubbermaid Light Bulb, Erganomic",
         5
        ],
        [
         2,
         "Harbour Creations Bag Chairs, Adjustable",
         3
        ],
        [
         14,
         "Enermax Keyboard, Erganomic",
         4
        ],
        [
         11,
         "Green Bar Parchment Paper, 8.5 x 11",
         5
        ],
        [
         5,
         "Hamilton Beach Stove, Silver",
         4
        ],
        [
         7,
         "Ibico Binding Machine, Economy",
         6
        ],
        [
         7,
         "Avery Binding Machine, Recycled",
         4
        ],
        [
         12,
         "Fellowes Trays, Blue",
         4
        ],
        [
         16,
         "Okidata Printer, Durable",
         5
        ],
        [
         15,
         "HP Personal Copier, Color",
         4
        ],
        [
         16,
         "Okidata Phone, Red",
         3
        ],
        [
         1,
         "Bush Classic Bookcase, Traditional",
         4
        ],
        [
         7,
         "Wilson Jones Binding Machine, Clear",
         3
        ],
        [
         7,
         "Cardinal Hole Reinforcements, Durable",
         4
        ],
        [
         13,
         "Elite Shears, Steel",
         3
        ],
        [
         7,
         "Cardinal 3-Hole Punch, Clear",
         5
        ],
        [
         13,
         "Kleencut Scissors, Steel",
         5
        ],
        [
         5,
         "Hoover Coffee Grinder, Black",
         3
        ],
        [
         17,
         "Samsung Speaker Phone, Full Size",
         5
        ],
        [
         2,
         "Novimex Swivel Stool, Adjustable",
         3
        ],
        [
         1,
         "Ikea Floating Shelf Set, Pine",
         4
        ],
        [
         17,
         "Cisco Speaker Phone, VoIP",
         5
        ],
        [
         8,
         "Kraft Peel and Seal, Security-Tint",
         4
        ],
        [
         7,
         "Ibico Binding Machine, Recycled",
         4
        ],
        [
         8,
         "Kraft Clasp Envelope, Recycled",
         4
        ],
        [
         13,
         "Kleencut Shears, Steel",
         3
        ],
        [
         6,
         "Stanley Markers, Blue",
         3
        ],
        [
         11,
         "SanDisk Computer Printout Paper, Multicolor",
         4
        ],
        [
         17,
         "Cisco Office Telephone, with Caller ID",
         5
        ],
        [
         11,
         "Green Bar Computer Printout Paper, Premium",
         5
        ],
        [
         9,
         "Stockwell Staples, Bulk Pack",
         9
        ],
        [
         9,
         "Accos Staples, Metal",
         5
        ],
        [
         8,
         "Ames Business Envelopes, Security-Tint",
         4
        ],
        [
         17,
         "Cisco Headset, Full Size",
         3
        ],
        [
         3,
         "Rubbermaid Stacking Tray, Erganomic",
         8
        ],
        [
         17,
         "Apple Headset, Full Size",
         5
        ],
        [
         14,
         "Enermax Mouse, USB",
         5
        ],
        [
         16,
         "Epson Calculator, White",
         4
        ],
        [
         2,
         "SAFCO Rocking Chair, Black",
         3
        ],
        [
         14,
         "Enermax Router, Programmable",
         4
        ],
        [
         8,
         "Ames Manila Envelope, Set of 50",
         5
        ],
        [
         10,
         "Harbour Creations File Folder Labels, Adjustable",
         4
        ],
        [
         8,
         "GlobeWeis Manila Envelope, Security-Tint",
         5
        ],
        [
         7,
         "Avery 3-Hole Punch, Durable",
         5
        ],
        [
         2,
         "Hon Executive Leather Armchair, Black",
         6
        ],
        [
         4,
         "Lesro Round Table, Rectangular",
         4
        ],
        [
         4,
         "Lesro Round Table, with Bottom Storage",
         2
        ],
        [
         6,
         "Boston Canvas, Blue",
         3
        ],
        [
         8,
         "Kraft Business Envelopes, Set of 50",
         3
        ],
        [
         13,
         "Acme Shears, High Speed",
         5
        ],
        [
         10,
         "Smead Color Coded Labels, Alphabetical",
         5
        ],
        [
         11,
         "Xerox Memo Slips, Multicolor",
         3
        ],
        [
         2,
         "SAFCO Steel Folding Chair, Set of Two",
         5
        ],
        [
         15,
         "Brother Personal Copier, Color",
         3
        ],
        [
         4,
         "Bevis Training Table, Adjustable Height",
         3
        ],
        [
         6,
         "Sanford Markers, Easy-Erase",
         5
        ],
        [
         12,
         "Smead File Cart, Single Width",
         10
        ],
        [
         13,
         "Kleencut Trimmer, Steel",
         4
        ],
        [
         6,
         "BIC Markers, Fluorescent",
         3
        ],
        [
         8,
         "Cameo Manila Envelope, with clear poly window",
         5
        ],
        [
         17,
         "Apple Office Telephone, VoIP",
         4
        ],
        [
         15,
         "HP Copy Machine, Color",
         10
        ],
        [
         3,
         "Advantus Door Stop, Erganomic",
         4
        ],
        [
         2,
         "Harbour Creations Swivel Stool, Set of Two",
         6
        ],
        [
         16,
         "StarTech Receipt Printer, Durable",
         4
        ],
        [
         7,
         "Acco Index Tab, Clear",
         12
        ],
        [
         11,
         "SanDisk Message Books, Multicolor",
         4
        ],
        [
         13,
         "Fiskars Trimmer, High Speed",
         4
        ],
        [
         2,
         "Novimex Chairmat, Black",
         4
        ],
        [
         3,
         "Tenex Stacking Tray, Erganomic",
         8
        ],
        [
         1,
         "Bush Stackable Bookrack, Traditional",
         4
        ],
        [
         17,
         "Nokia Smart Phone, Cordless",
         3
        ],
        [
         10,
         "Avery Shipping Labels, Alphabetical",
         4
        ],
        [
         13,
         "Kleencut Letter Opener, High Speed",
         4
        ],
        [
         10,
         "Avery Shipping Labels, Laser Printer Compatible",
         4
        ],
        [
         7,
         "Acco Hole Reinforcements, Durable",
         4
        ],
        [
         5,
         "Cuisinart Stove, Black",
         4
        ],
        [
         13,
         "Acme Box Cutter, Serrated",
         5
        ],
        [
         1,
         "Safco Corner Shelving, Metal",
         4
        ],
        [
         17,
         "Nokia Headset, Cordless",
         5
        ],
        [
         3,
         "Rubbermaid Stacking Tray, Black",
         5
        ],
        [
         3,
         "Eldon Frame, Erganomic",
         4
        ],
        [
         16,
         "Okidata Calculator, Wireless",
         4
        ],
        [
         4,
         "Lesro Wood Table, Adjustable Height",
         2
        ],
        [
         11,
         "SanDisk Parchment Paper, 8.5 x 11",
         4
        ],
        [
         7,
         "Acco Binder, Economy",
         4
        ],
        [
         13,
         "Acme Box Cutter, Steel",
         4
        ],
        [
         11,
         "Eaton Parchment Paper, 8.5 x 11",
         4
        ],
        [
         14,
         "Belkin Numeric Keypad, USB",
         5
        ],
        [
         15,
         "Canon Personal Copier, Laser",
         4
        ],
        [
         4,
         "Chromcraft Training Table, Rectangular",
         2
        ],
        [
         8,
         "Kraft Manila Envelope, with clear poly window",
         5
        ],
        [
         10,
         "Harbour Creations File Folder Labels, 5000 Label Set",
         5
        ],
        [
         8,
         "Cameo Peel and Seal, Recycled",
         4
        ],
        [
         8,
         "Ames Mailers, Security-Tint",
         4
        ],
        [
         7,
         "Ibico Hole Reinforcements, Economy",
         5
        ],
        [
         17,
         "Apple Office Telephone, Cordless",
         4
        ],
        [
         15,
         "Hewlett Ink, Digital",
         5
        ],
        [
         14,
         "Memorex Keyboard, Bluetooth",
         4
        ],
        [
         12,
         "Rogers Box, Blue",
         4
        ],
        [
         9,
         "Stockwell Rubber Bands, 12 Pack",
         9
        ],
        [
         7,
         "Wilson Jones Index Tab, Durable",
         4
        ],
        [
         10,
         "Smead Shipping Labels, Alphabetical",
         5
        ],
        [
         9,
         "Accos Rubber Bands, Assorted Sizes",
         4
        ],
        [
         12,
         "Fellowes Lockers, Industrial",
         4
        ],
        [
         13,
         "Stiletto Ruler, Steel",
         4
        ],
        [
         13,
         "Stiletto Shears, Serrated",
         5
        ],
        [
         12,
         "Fellowes Box, Wire Frame",
         4
        ],
        [
         14,
         "Belkin Flash Drive, Erganomic",
         4
        ],
        [
         17,
         "Samsung Audio Dock, VoIP",
         4
        ],
        [
         17,
         "Apple Signal Booster, with Caller ID",
         5
        ],
        [
         14,
         "Memorex Keyboard, USB",
         5
        ],
        [
         4,
         "Barricks Training Table, Rectangular",
         5
        ],
        [
         12,
         "Rogers Box, Wire Frame",
         4
        ],
        [
         8,
         "Cameo Clasp Envelope, with clear poly window",
         4
        ],
        [
         11,
         "Enermax Computer Printout Paper, Multicolor",
         5
        ],
        [
         5,
         "KitchenAid Microwave, Red",
         3
        ],
        [
         8,
         "Kraft Manila Envelope, Recycled",
         5
        ],
        [
         11,
         "Eaton Parchment Paper, Recycled",
         4
        ],
        [
         10,
         "Harbour Creations Color Coded Labels, 5000 Label Set",
         4
        ],
        [
         12,
         "Fellowes Box, Blue",
         4
        ],
        [
         2,
         "Novimex Swivel Stool, Black",
         4
        ],
        [
         3,
         "Rubbermaid Frame, Durable",
         4
        ],
        [
         1,
         "Ikea Classic Bookcase, Pine",
         4
        ],
        [
         17,
         "Motorola Headset, with Caller ID",
         4
        ],
        [
         16,
         "StarTech Receipt Printer, Red",
         3
        ],
        [
         6,
         "Boston Sketch Pad, Easy-Erase",
         4
        ],
        [
         12,
         "Fellowes Shelving, Wire Frame",
         4
        ],
        [
         10,
         "Harbour Creations Legal Exhibit Labels, 5000 Label Set",
         4
        ],
        [
         11,
         "Xerox Note Cards, Recycled",
         4
        ],
        [
         6,
         "Sanford Highlighters, Water Color",
         5
        ],
        [
         8,
         "Cameo Business Envelopes, Set of 50",
         5
        ],
        [
         13,
         "Kleencut Trimmer, Serrated",
         3
        ],
        [
         11,
         "Enermax Cards & Envelopes, 8.5 x 11",
         3
        ],
        [
         6,
         "BIC Highlighters, Easy-Erase",
         4
        ],
        [
         1,
         "Bush Floating Shelf Set, Traditional",
         5
        ],
        [
         17,
         "Nokia Smart Phone, Full Size",
         9
        ],
        [
         1,
         "Bush 3-Shelf Cabinet, Traditional",
         4
        ],
        [
         14,
         "SanDisk Flash Drive, Bluetooth",
         4
        ],
        [
         2,
         "SAFCO Bag Chairs, Adjustable",
         4
        ],
        [
         16,
         "Panasonic Calculator, White",
         4
        ],
        [
         15,
         "Canon Wireless Fax, Laser",
         4
        ],
        [
         17,
         "Apple Smart Phone, with Caller ID",
         2
        ],
        [
         15,
         "Canon Ink, Color",
         5
        ],
        [
         5,
         "KitchenAid Blender, Black",
         7
        ],
        [
         8,
         "Jiffy Business Envelopes, Set of 50",
         5
        ],
        [
         7,
         "Ibico Hole Reinforcements, Recycled",
         5
        ],
        [
         13,
         "Fiskars Trimmer, Steel",
         5
        ],
        [
         7,
         "Avery Binder Covers, Economy",
         5
        ],
        [
         11,
         "Eaton Memo Slips, Recycled",
         4
        ],
        [
         14,
         "Enermax Numeric Keypad, USB",
         5
        ],
        [
         15,
         "Canon Ink, Digital",
         4
        ],
        [
         15,
         "Sharp Fax Machine, Laser",
         4
        ],
        [
         4,
         "Bevis Round Table, Fully Assembled",
         2
        ],
        [
         11,
         "SanDisk Cards & Envelopes, Multicolor",
         4
        ],
        [
         6,
         "Binney & Smith Markers, Easy-Erase",
         4
        ],
        [
         10,
         "Novimex Round Labels, 5000 Label Set",
         4
        ],
        [
         12,
         "Eldon Lockers, Single Width",
         4
        ],
        [
         10,
         "Harbour Creations Shipping Labels, 5000 Label Set",
         4
        ],
        [
         12,
         "Fellowes Lockers, Wire Frame",
         5
        ],
        [
         5,
         "Breville Microwave, Black",
         2
        ],
        [
         14,
         "Logitech Memory Card, USB",
         4
        ],
        [
         3,
         "Rubbermaid Door Stop, Durable",
         3
        ],
        [
         14,
         "SanDisk Keyboard, Programmable",
         5
        ],
        [
         2,
         "Harbour Creations Chairmat, Adjustable",
         4
        ],
        [
         15,
         "HP Ink, Laser",
         5
        ],
        [
         2,
         "Hon Steel Folding Chair, Adjustable",
         4
        ],
        [
         3,
         "Tenex Stacking Tray, Black",
         4
        ],
        [
         12,
         "Rogers Lockers, Blue",
         5
        ],
        [
         11,
         "Eaton Computer Printout Paper, Recycled",
         5
        ],
        [
         10,
         "Hon Shipping Labels, Alphabetical",
         5
        ],
        [
         6,
         "Sanford Markers, Water Color",
         4
        ],
        [
         17,
         "Nokia Audio Dock, with Caller ID",
         4
        ],
        [
         17,
         "Cisco Speaker Phone, Full Size",
         5
        ],
        [
         3,
         "Tenex Photo Frame, Duo Pack",
         4
        ],
        [
         3,
         "Eldon Clock, Erganomic",
         4
        ],
        [
         2,
         "SAFCO Steel Folding Chair, Adjustable",
         4
        ],
        [
         4,
         "Chromcraft Round Table, Adjustable Height",
         4
        ],
        [
         12,
         "Fellowes Shelving, Industrial",
         5
        ],
        [
         10,
         "Harbour Creations File Folder Labels, Laser Printer Compatible",
         5
        ],
        [
         7,
         "Storex Dura Pro Binders",
         2
        ],
        [
         17,
         "Samsung Office Telephone, Cordless",
         4
        ],
        [
         17,
         "Cisco Signal Booster, Full Size",
         4
        ],
        [
         17,
         "Motorola Speaker Phone, Cordless",
         4
        ],
        [
         15,
         "Hewlett Personal Copier, Laser",
         5
        ],
        [
         15,
         "Hewlett Fax and Copier, High-Speed",
         6
        ],
        [
         17,
         "Cisco Office Telephone, Full Size",
         5
        ],
        [
         2,
         "Office Star Steel Folding Chair, Red",
         4
        ],
        [
         13,
         "Fiskars Box Cutter, Steel",
         5
        ],
        [
         11,
         "Enermax Computer Printout Paper, Recycled",
         4
        ],
        [
         9,
         "OIC Thumb Tacks, Metal",
         4
        ],
        [
         8,
         "Ames Mailers, Set of 50",
         4
        ],
        [
         5,
         "Hamilton Beach Toaster, White",
         3
        ],
        [
         11,
         "Green Bar Computer Printout Paper, 8.5 x 11",
         4
        ],
        [
         2,
         "Office Star Swivel Stool, Set of Two",
         5
        ],
        [
         17,
         "Nokia Headset, Full Size",
         4
        ],
        [
         14,
         "Belkin Flash Drive, Bluetooth",
         4
        ],
        [
         7,
         "Avery Binder, Durable",
         4
        ],
        [
         5,
         "Hamilton Beach Microwave, White",
         4
        ],
        [
         14,
         "SanDisk Memory Card, Bluetooth",
         5
        ],
        [
         2,
         "Office Star Rocking Chair, Adjustable",
         6
        ],
        [
         4,
         "Bevis Training Table, Rectangular",
         4
        ],
        [
         5,
         "Breville Coffee Grinder, White",
         4
        ],
        [
         6,
         "Boston Canvas, Fluorescent",
         5
        ],
        [
         7,
         "Avery Index Tab, Clear",
         9
        ],
        [
         12,
         "Eldon Folders, Wire Frame",
         5
        ],
        [
         5,
         "Hamilton Beach Microwave, Black",
         4
        ],
        [
         13,
         "Elite Ruler, Serrated",
         4
        ],
        [
         17,
         "Apple Headset, Cordless",
         4
        ],
        [
         16,
         "Epson Printer, Red",
         3
        ],
        [
         6,
         "Stanley Pens, Fluorescent",
         4
        ],
        [
         6,
         "Boston Markers, Blue",
         5
        ],
        [
         11,
         "Xerox Message Books, 8.5 x 11",
         5
        ],
        [
         7,
         "Cardinal Binder, Economy",
         5
        ],
        [
         9,
         "Advantus Rubber Bands, Bulk Pack",
         4
        ],
        [
         10,
         "Smead Color Coded Labels, Laser Printer Compatible",
         4
        ],
        [
         10,
         "Hon Round Labels, Adjustable",
         4
        ],
        [
         13,
         "Elite Shears, Serrated",
         5
        ],
        [
         5,
         "Breville Blender, Silver",
         3
        ],
        [
         8,
         "Jiffy Mailers, Set of 50",
         6
        ],
        [
         10,
         "Smead File Folder Labels, Laser Printer Compatible",
         4
        ],
        [
         15,
         "Hewlett Wireless Fax, Color",
         4
        ],
        [
         3,
         "Tenex Light Bulb, Erganomic",
         3
        ],
        [
         15,
         "Brother Fax and Copier, High-Speed",
         5
        ],
        [
         17,
         "Nokia Signal Booster, VoIP",
         5
        ],
        [
         14,
         "Enermax Router, USB",
         4
        ],
        [
         14,
         "Enermax Flash Drive, USB",
         4
        ],
        [
         16,
         "StarTech Inkjet, Durable",
         4
        ],
        [
         12,
         "Smead Trays, Blue",
         4
        ],
        [
         8,
         "Ames Manila Envelope, Security-Tint",
         5
        ],
        [
         10,
         "Avery Removable Labels, Laser Printer Compatible",
         4
        ],
        [
         11,
         "Xerox Memo Slips, Premium",
         4
        ],
        [
         4,
         "Chromcraft Conference Table, Rectangular",
         4
        ],
        [
         1,
         "Ikea 3-Shelf Cabinet, Pine",
         4
        ],
        [
         14,
         "Logitech Router, USB",
         4
        ],
        [
         15,
         "Hewlett Fax Machine, Digital",
         4
        ],
        [
         2,
         "Harbour Creations Steel Folding Chair, Adjustable",
         5
        ],
        [
         2,
         "Hon Rocking Chair, Black",
         5
        ],
        [
         8,
         "GlobeWeis Clasp Envelope, with clear poly window",
         5
        ],
        [
         11,
         "Xerox Memo Slips, 8.5 x 11",
         6
        ],
        [
         5,
         "Breville Refrigerator, Black",
         5
        ],
        [
         11,
         "Enermax Memo Slips, Multicolor",
         5
        ],
        [
         12,
         "Fellowes Folders, Wire Frame",
         5
        ],
        [
         6,
         "Sanford Canvas, Fluorescent",
         4
        ],
        [
         14,
         "SanDisk Router, Erganomic",
         4
        ],
        [
         16,
         "StarTech Receipt Printer, Wireless",
         3
        ],
        [
         11,
         "Enermax Note Cards, Premium",
         10
        ],
        [
         9,
         "OIC Staples, Bulk Pack",
         5
        ],
        [
         5,
         "Hamilton Beach Toaster, Black",
         4
        ],
        [
         12,
         "Eldon Trays, Industrial",
         4
        ],
        [
         7,
         "Cardinal Binder Covers, Durable",
         4
        ],
        [
         1,
         "Ikea Floating Shelf Set, Metal",
         3
        ],
        [
         16,
         "Panasonic Receipt Printer, White",
         4
        ],
        [
         2,
         "Office Star Steel Folding Chair, Set of Two",
         4
        ],
        [
         1,
         "Sauder Library with Doors, Metal",
         4
        ],
        [
         17,
         "Nokia Speaker Phone, VoIP",
         4
        ],
        [
         4,
         "Hon Conference Table, with Bottom Storage",
         3
        ],
        [
         11,
         "SanDisk Note Cards, Multicolor",
         5
        ],
        [
         5,
         "Cuisinart Blender, White",
         4
        ],
        [
         8,
         "Kraft Mailers, Set of 50",
         4
        ],
        [
         2,
         "Office Star Chairmat, Red",
         5
        ],
        [
         15,
         "Brother Ink, Laser",
         5
        ],
        [
         14,
         "Enermax Keyboard, Programmable",
         5
        ],
        [
         14,
         "SanDisk Numeric Keypad, Bluetooth",
         8
        ],
        [
         4,
         "Hon Training Table, Rectangular",
         3
        ],
        [
         5,
         "Breville Coffee Grinder, Red",
         3
        ],
        [
         8,
         "Kraft Mailers, with clear poly window",
         5
        ],
        [
         6,
         "Boston Sketch Pad, Water Color",
         3
        ],
        [
         8,
         "Ames Interoffice Envelope, Security-Tint",
         5
        ],
        [
         12,
         "Eldon Trays, Single Width",
         3
        ],
        [
         14,
         "Enermax Memory Card, Erganomic",
         5
        ],
        [
         14,
         "Logitech Router, Programmable",
         3
        ],
        [
         1,
         "Safco Floating Shelf Set, Mobile",
         6
        ],
        [
         16,
         "Epson Phone, Red",
         4
        ],
        [
         8,
         "Ames Interoffice Envelope, Set of 50",
         5
        ],
        [
         13,
         "Acme Scissors, Steel",
         4
        ],
        [
         16,
         "Konica Receipt Printer, Red",
         4
        ],
        [
         3,
         "Deflect-O Light Bulb, Black",
         6
        ],
        [
         7,
         "Ibico Hole Reinforcements, Durable",
         4
        ],
        [
         11,
         "SanDisk Memo Slips, Multicolor",
         3
        ],
        [
         9,
         "Accos Clamps, Assorted Sizes",
         5
        ],
        [
         6,
         "Binney & Smith Highlighters, Easy-Erase",
         5
        ],
        [
         11,
         "Eaton Note Cards, Multicolor",
         4
        ],
        [
         8,
         "Ames Peel and Seal, with clear poly window",
         5
        ],
        [
         8,
         "Kraft Interoffice Envelope, Recycled",
         4
        ],
        [
         16,
         "Konica Inkjet, White",
         5
        ],
        [
         17,
         "Samsung Signal Booster, Cordless",
         4
        ],
        [
         14,
         "SanDisk Router, Programmable",
         4
        ],
        [
         3,
         "Tenex Door Stop, Duo Pack",
         4
        ],
        [
         8,
         "Jiffy Peel and Seal, with clear poly window",
         5
        ],
        [
         8,
         "Jiffy Manila Envelope, Recycled",
         5
        ],
        [
         5,
         "Breville Refrigerator, Red",
         4
        ],
        [
         9,
         "OIC Staples, 12 Pack",
         4
        ],
        [
         13,
         "Elite Box Cutter, Easy Grip",
         5
        ],
        [
         10,
         "Avery Legal Exhibit Labels, Alphabetical",
         4
        ],
        [
         8,
         "Jiffy Interoffice Envelope, with clear poly window",
         3
        ],
        [
         8,
         "GlobeWeis Business Envelopes, Set of 50",
         4
        ],
        [
         15,
         "HP Personal Copier, High-Speed",
         4
        ],
        [
         15,
         "Brother Fax and Copier, Color",
         5
        ],
        [
         2,
         "Hon Chairmat, Red",
         5
        ],
        [
         1,
         "Bush Floating Shelf Set, Metal",
         4
        ],
        [
         15,
         "Canon Fax and Copier, Digital",
         5
        ],
        [
         4,
         "Chromcraft Conference Table, Adjustable Height",
         2
        ],
        [
         14,
         "SanDisk Numeric Keypad, USB",
         4
        ],
        [
         10,
         "Novimex Color Coded Labels, Alphabetical",
         4
        ],
        [
         8,
         "Jiffy Peel and Seal, Security-Tint",
         5
        ],
        [
         11,
         "SanDisk Computer Printout Paper, Recycled",
         4
        ],
        [
         10,
         "Novimex Shipping Labels, Alphabetical",
         4
        ],
        [
         3,
         "Tenex Frame, Duo Pack",
         4
        ],
        [
         16,
         "Epson Printer, Durable",
         4
        ],
        [
         14,
         "Logitech Mouse, Programmable",
         5
        ],
        [
         5,
         "Breville Coffee Grinder, Black",
         4
        ],
        [
         7,
         "Avery Index Tab, Economy",
         3
        ],
        [
         13,
         "Kleencut Ruler, Serrated",
         5
        ],
        [
         8,
         "Ames Interoffice Envelope, with clear poly window",
         5
        ],
        [
         8,
         "Jiffy Interoffice Envelope, Set of 50",
         3
        ],
        [
         13,
         "Stiletto Ruler, High Speed",
         4
        ],
        [
         16,
         "Panasonic Printer, Red",
         5
        ],
        [
         15,
         "Hewlett Fax and Copier, Color",
         4
        ],
        [
         4,
         "Lesro Training Table, Adjustable Height",
         3
        ],
        [
         15,
         "Brother Wireless Fax, Laser",
         4
        ],
        [
         7,
         "Ibico Binder, Economy",
         5
        ],
        [
         5,
         "Hamilton Beach Blender, Black",
         6
        ],
        [
         13,
         "Acme Letter Opener, Easy Grip",
         3
        ],
        [
         5,
         "Cuisinart Microwave, Red",
         3
        ],
        [
         8,
         "Kraft Mailers, Security-Tint",
         4
        ],
        [
         5,
         "Cuisinart Stove, White",
         5
        ],
        [
         17,
         "Cisco Speaker Phone, with Caller ID",
         5
        ],
        [
         15,
         "Brother Copy Machine, Laser",
         3
        ],
        [
         17,
         "Motorola Office Telephone, Cordless",
         2
        ],
        [
         16,
         "Konica Printer, Durable",
         4
        ],
        [
         15,
         "Hewlett Copy Machine, High-Speed",
         3
        ],
        [
         10,
         "Harbour Creations Legal Exhibit Labels, Laser Printer Compatible",
         5
        ],
        [
         8,
         "Ames Business Envelopes, Set of 50",
         6
        ],
        [
         11,
         "Staples",
         7
        ],
        [
         10,
         "Smead Removable Labels, 5000 Label Set",
         4
        ],
        [
         8,
         "Kraft Business Envelopes, Security-Tint",
         3
        ],
        [
         8,
         "Ames Clasp Envelope, Recycled",
         3
        ],
        [
         3,
         "Advantus Photo Frame, Black",
         4
        ],
        [
         3,
         "Eldon Stacking Tray, Duo Pack",
         5
        ],
        [
         2,
         "Hon Swivel Stool, Red",
         4
        ],
        [
         2,
         "Harbour Creations Chairmat, Set of Two",
         6
        ],
        [
         1,
         "Ikea 3-Shelf Cabinet, Traditional",
         4
        ],
        [
         4,
         "Hon Wood Table, Fully Assembled",
         3
        ],
        [
         11,
         "Eaton Cards & Envelopes, 8.5 x 11",
         4
        ],
        [
         11,
         "Eaton Cards & Envelopes, Multicolor",
         4
        ],
        [
         7,
         "Avery Index Tab, Durable",
         4
        ],
        [
         13,
         "Kleencut Shears, Easy Grip",
         4
        ],
        [
         6,
         "Stanley Highlighters, Blue",
         5
        ],
        [
         6,
         "BIC Sketch Pad, Easy-Erase",
         4
        ],
        [
         17,
         "Apple Signal Booster, VoIP",
         4
        ],
        [
         1,
         "Bush Floating Shelf Set, Mobile",
         4
        ],
        [
         14,
         "SanDisk Keyboard, Erganomic",
         4
        ],
        [
         14,
         "SanDisk Mouse, USB",
         3
        ],
        [
         4,
         "Bevis Computer Table, with Bottom Storage",
         3
        ],
        [
         3,
         "Eldon Stacking Tray, Erganomic",
         4
        ],
        [
         17,
         "Motorola Headset, Full Size",
         3
        ],
        [
         5,
         "Cuisinart Refrigerator, White",
         2
        ],
        [
         5,
         "Hamilton Beach Microwave, Silver",
         3
        ],
        [
         12,
         "Rogers Trays, Blue",
         4
        ],
        [
         6,
         "Boston Sketch Pad, Fluorescent",
         4
        ],
        [
         7,
         "Cardinal 3-Hole Punch, Economy",
         5
        ],
        [
         8,
         "Ames Peel and Seal, Set of 50",
         4
        ],
        [
         7,
         "Avery Binder, Recycled",
         4
        ],
        [
         10,
         "Avery Removable Labels, 5000 Label Set",
         4
        ],
        [
         2,
         "SAFCO Executive Leather Armchair, Set of Two",
         4
        ],
        [
         15,
         "Canon Fax Machine, High-Speed",
         4
        ],
        [
         3,
         "Deflect-O Door Stop, Black",
         5
        ],
        [
         2,
         "SAFCO Executive Leather Armchair, Adjustable",
         5
        ],
        [
         1,
         "Ikea Stackable Bookrack, Mobile",
         5
        ],
        [
         9,
         "Stockwell Paper Clips, Bulk Pack",
         8
        ],
        [
         9,
         "Accos Paper Clips, Bulk Pack",
         5
        ],
        [
         12,
         "Rogers Box, Industrial",
         4
        ],
        [
         11,
         "Eaton Computer Printout Paper, Premium",
         6
        ],
        [
         5,
         "Breville Toaster, Red",
         4
        ],
        [
         12,
         "Smead Folders, Blue",
         4
        ],
        [
         14,
         "Memorex Flash Drive, Bluetooth",
         5
        ],
        [
         14,
         "SanDisk Memory Card, Erganomic",
         5
        ],
        [
         14,
         "Belkin Router, Programmable",
         4
        ],
        [
         2,
         "Hon Bag Chairs, Black",
         4
        ],
        [
         1,
         "Ikea Library with Doors, Metal",
         4
        ],
        [
         1,
         "Safco 3-Shelf Cabinet, Pine",
         4
        ],
        [
         5,
         "Hoover Toaster, White",
         5
        ],
        [
         7,
         "Avery 3-Hole Punch, Clear",
         5
        ],
        [
         7,
         "Avery Binder, Economy",
         4
        ],
        [
         6,
         "Sanford Markers, Fluorescent",
         5
        ],
        [
         6,
         "Binney & Smith Pencil Sharpener, Easy-Erase",
         5
        ],
        [
         13,
         "Stiletto Letter Opener, High Speed",
         4
        ],
        [
         7,
         "Wilson Jones Binder Covers, Economy",
         4
        ],
        [
         10,
         "Avery Color Coded Labels, Adjustable",
         4
        ],
        [
         12,
         "Fellowes File Cart, Industrial",
         4
        ],
        [
         11,
         "Xerox Note Cards, 8.5 x 11",
         2
        ],
        [
         15,
         "Brother Wireless Fax, High-Speed",
         5
        ],
        [
         14,
         "Logitech Mouse, Erganomic",
         5
        ],
        [
         15,
         "Sharp Wireless Fax, Digital",
         4
        ],
        [
         10,
         "Avery Round Labels, 5000 Label Set",
         5
        ],
        [
         9,
         "Accos Thumb Tacks, Assorted Sizes",
         4
        ],
        [
         12,
         "Tenex Trays, Blue",
         4
        ],
        [
         3,
         "Eldon Light Bulb, Duo Pack",
         4
        ],
        [
         14,
         "SanDisk Keyboard, Bluetooth",
         5
        ],
        [
         15,
         "Brother Fax Machine, Color",
         5
        ],
        [
         15,
         "Canon Fax and Copier, Color",
         4
        ],
        [
         16,
         "Okidata Card Printer, Wireless",
         5
        ],
        [
         4,
         "Barricks Coffee Table, Rectangular",
         2
        ],
        [
         15,
         "HP Wireless Fax, Laser",
         4
        ],
        [
         4,
         "Lesro Wood Table, Fully Assembled",
         2
        ],
        [
         8,
         "GlobeWeis Interoffice Envelope, with clear poly window",
         5
        ],
        [
         6,
         "Stanley Highlighters, Easy-Erase",
         4
        ],
        [
         11,
         "SanDisk Parchment Paper, Recycled",
         5
        ],
        [
         9,
         "Advantus Rubber Bands, Assorted Sizes",
         4
        ],
        [
         12,
         "Smead Shelving, Blue",
         3
        ],
        [
         16,
         "StarTech Calculator, Wireless",
         3
        ],
        [
         1,
         "Dania Classic Bookcase, Mobile",
         3
        ],
        [
         15,
         "Brother Fax Machine, Laser",
         4
        ],
        [
         14,
         "SanDisk Mouse, Bluetooth",
         6
        ],
        [
         14,
         "Belkin Keyboard, USB",
         5
        ],
        [
         2,
         "Office Star Executive Leather Armchair, Black",
         4
        ],
        [
         4,
         "Chromcraft Coffee Table, Fully Assembled",
         2
        ],
        [
         10,
         "Novimex Shipping Labels, 5000 Label Set",
         4
        ],
        [
         11,
         "Green Bar Cards & Envelopes, Premium",
         4
        ],
        [
         11,
         "SanDisk Cards & Envelopes, 8.5 x 11",
         5
        ],
        [
         13,
         "Fiskars Letter Opener, Steel",
         5
        ],
        [
         13,
         "Acme Box Cutter, Easy Grip",
         5
        ],
        [
         15,
         "Brother Ink, High-Speed",
         5
        ],
        [
         3,
         "Eldon Door Stop, Black",
         5
        ],
        [
         3,
         "Rubbermaid Photo Frame, Erganomic",
         5
        ],
        [
         1,
         "Dania Corner Shelving, Mobile",
         4
        ],
        [
         17,
         "Motorola Speaker Phone, Full Size",
         4
        ],
        [
         2,
         "Hon Swivel Stool, Adjustable",
         4
        ],
        [
         16,
         "Epson Receipt Printer, Durable",
         3
        ],
        [
         7,
         "Avery Binder Covers, Clear",
         4
        ],
        [
         5,
         "Hamilton Beach Coffee Grinder, Black",
         4
        ],
        [
         5,
         "Breville Toaster, Silver",
         4
        ],
        [
         3,
         "Tenex Photo Frame, Erganomic",
         4
        ],
        [
         1,
         "Safco 3-Shelf Cabinet, Mobile",
         2
        ],
        [
         1,
         "Dania Classic Bookcase, Traditional",
         4
        ],
        [
         16,
         "StarTech Printer, Durable",
         4
        ],
        [
         16,
         "Epson Inkjet, White",
         3
        ],
        [
         4,
         "Barricks Computer Table, Adjustable Height",
         3
        ],
        [
         4,
         "Barricks Wood Table, with Bottom Storage",
         2
        ],
        [
         10,
         "Novimex File Folder Labels, 5000 Label Set",
         4
        ],
        [
         12,
         "Rogers Trays, Single Width",
         4
        ],
        [
         9,
         "Accos Push Pins, Assorted Sizes",
         5
        ],
        [
         13,
         "Acme Trimmer, Serrated",
         5
        ],
        [
         1,
         "Safco Classic Bookcase, Traditional",
         4
        ],
        [
         15,
         "Sharp Copy Machine, Color",
         8
        ],
        [
         16,
         "Panasonic Calculator, Durable",
         4
        ],
        [
         17,
         "Samsung Smart Phone, with Caller ID",
         3
        ],
        [
         4,
         "Bevis Round Table, with Bottom Storage",
         2
        ],
        [
         8,
         "Cameo Clasp Envelope, Set of 50",
         2
        ],
        [
         10,
         "Smead Legal Exhibit Labels, Laser Printer Compatible",
         5
        ],
        [
         5,
         "KitchenAid Stove, Black",
         5
        ],
        [
         11,
         "Xerox Cards & Envelopes, 8.5 x 11",
         5
        ],
        [
         7,
         "Cardinal Binder, Clear",
         6
        ],
        [
         11,
         "Green Bar Parchment Paper, Premium",
         5
        ],
        [
         16,
         "StarTech Card Printer, Wireless",
         3
        ],
        [
         3,
         "Tenex Stacking Tray, Durable",
         4
        ],
        [
         17,
         "Nokia Signal Booster, with Caller ID",
         5
        ],
        [
         15,
         "Canon Ink, Laser",
         4
        ],
        [
         16,
         "Okidata Printer, Red",
         2
        ],
        [
         2,
         "Novimex Chairmat, Set of Two",
         5
        ],
        [
         17,
         "Cisco Signal Booster, VoIP",
         4
        ],
        [
         13,
         "Stiletto Trimmer, Serrated",
         4
        ],
        [
         8,
         "GlobeWeis Clasp Envelope, Security-Tint",
         4
        ],
        [
         7,
         "Ibico 3-Hole Punch, Durable",
         4
        ],
        [
         8,
         "Ames Mailers, Recycled",
         4
        ],
        [
         5,
         "Hoover Toaster, Red",
         4
        ],
        [
         17,
         "Samsung Headset, Full Size",
         3
        ],
        [
         1,
         "Safco Library with Doors, Pine",
         4
        ],
        [
         1,
         "Sauder Classic Bookcase, Metal",
         4
        ],
        [
         1,
         "Dania Library with Doors, Traditional",
         5
        ],
        [
         2,
         "Office Star Bag Chairs, Set of Two",
         5
        ],
        [
         6,
         "Sanford Highlighters, Fluorescent",
         5
        ],
        [
         9,
         "Advantus Thumb Tacks, Metal",
         4
        ],
        [
         10,
         "Harbour Creations Color Coded Labels, Adjustable",
         4
        ],
        [
         14,
         "Memorex Memory Card, Bluetooth",
         4
        ],
        [
         3,
         "Rubbermaid Light Bulb, Duo Pack",
         4
        ],
        [
         14,
         "Enermax Keyboard, Bluetooth",
         5
        ],
        [
         4,
         "Hon Computer Table, Adjustable Height",
         3
        ],
        [
         3,
         "Tenex Light Bulb, Duo Pack",
         5
        ],
        [
         17,
         "Motorola Office Telephone, with Caller ID",
         4
        ],
        [
         17,
         "Cisco Audio Dock, Cordless",
         4
        ],
        [
         10,
         "Hon File Folder Labels, Alphabetical",
         6
        ],
        [
         12,
         "Smead Shelving, Single Width",
         4
        ],
        [
         13,
         "Elite Box Cutter, Serrated",
         4
        ],
        [
         15,
         "Canon Fax Machine, Color",
         5
        ],
        [
         3,
         "Deflect-O Light Bulb, Duo Pack",
         4
        ],
        [
         14,
         "Enermax Router, Erganomic",
         5
        ],
        [
         6,
         "BIC Highlighters, Blue",
         5
        ],
        [
         13,
         "Kleencut Ruler, Steel",
         3
        ],
        [
         8,
         "Jiffy Clasp Envelope, with clear poly window",
         5
        ],
        [
         10,
         "Harbour Creations Removable Labels, 5000 Label Set",
         4
        ],
        [
         3,
         "Advantus Frame, Black",
         4
        ],
        [
         15,
         "Canon Copy Machine, High-Speed",
         4
        ],
        [
         1,
         "Ikea Classic Bookcase, Mobile",
         4
        ],
        [
         4,
         "Bevis Training Table, with Bottom Storage",
         2
        ],
        [
         6,
         "Stanley Pencil Sharpener, Fluorescent",
         4
        ],
        [
         6,
         "Binney & Smith Pens, Water Color",
         5
        ],
        [
         5,
         "KitchenAid Toaster, White",
         4
        ],
        [
         13,
         "Fiskars Trimmer, Serrated",
         6
        ],
        [
         11,
         "Eaton Memo Slips, Premium",
         4
        ],
        [
         12,
         "Tenex Trays, Single Width",
         5
        ],
        [
         5,
         "Hoover Coffee Grinder, Silver",
         4
        ],
        [
         8,
         "GlobeWeis Business Envelopes, Recycled",
         5
        ],
        [
         13,
         "Acme Shears, Serrated",
         5
        ],
        [
         8,
         "GlobeWeis Mailers, Recycled",
         6
        ],
        [
         14,
         "Belkin Numeric Keypad, Bluetooth",
         9
        ],
        [
         15,
         "Brother Ink, Color",
         5
        ],
        [
         15,
         "Sharp Ink, Laser",
         5
        ],
        [
         14,
         "SanDisk Memory Card, USB",
         5
        ],
        [
         7,
         "Wilson Jones Binder Covers, Clear",
         4
        ],
        [
         11,
         "Enermax Cards & Envelopes, Multicolor",
         4
        ],
        [
         8,
         "Jiffy Mailers, with clear poly window",
         5
        ],
        [
         9,
         "OIC Clamps, 12 Pack",
         4
        ],
        [
         1,
         "Bush Library with Doors, Metal",
         4
        ],
        [
         9,
         "Accos Rubber Bands, Bulk Pack",
         4
        ],
        [
         7,
         "Ibico Binder Covers, Economy",
         5
        ],
        [
         6,
         "BIC Markers, Easy-Erase",
         4
        ],
        [
         16,
         "Epson Inkjet, Wireless",
         6
        ],
        [
         3,
         "Eldon Door Stop, Durable",
         5
        ],
        [
         12,
         "Eldon Folders, Single Width",
         4
        ],
        [
         7,
         "Avery Binder Covers, Recycled",
         4
        ],
        [
         10,
         "Hon Legal Exhibit Labels, Adjustable",
         4
        ],
        [
         2,
         "SAFCO Rocking Chair, Adjustable",
         5
        ],
        [
         3,
         "Rubbermaid Frame, Duo Pack",
         5
        ],
        [
         14,
         "Logitech Memory Card, Bluetooth",
         6
        ],
        [
         14,
         "Logitech Numeric Keypad, USB",
         4
        ],
        [
         17,
         "Cisco Audio Dock, VoIP",
         4
        ],
        [
         6,
         "Boston Highlighters, Easy-Erase",
         5
        ],
        [
         9,
         "Stockwell Clamps, Bulk Pack",
         9
        ],
        [
         10,
         "Avery Color Coded Labels, Laser Printer Compatible",
         4
        ],
        [
         13,
         "Fiskars Shears, Serrated",
         4
        ],
        [
         11,
         "SanDisk Message Books, Premium",
         3
        ],
        [
         6,
         "BIC Pens, Water Color",
         4
        ],
        [
         10,
         "Hon File Folder Labels, 5000 Label Set",
         4
        ],
        [
         1,
         "Ikea Corner Shelving, Metal",
         4
        ],
        [
         8,
         "Jiffy Business Envelopes, Recycled",
         9
        ],
        [
         12,
         "Tenex File Cart, Industrial",
         4
        ],
        [
         6,
         "Stanley Sketch Pad, Easy-Erase",
         5
        ],
        [
         3,
         "Tenex Frame, Erganomic",
         4
        ],
        [
         1,
         "Ikea Stackable Bookrack, Traditional",
         4
        ],
        [
         3,
         "Tenex Photo Frame, Durable",
         3
        ],
        [
         15,
         "Canon Ink, High-Speed",
         4
        ],
        [
         11,
         "Eaton Computer Printout Paper, 8.5 x 11",
         5
        ],
        [
         5,
         "Hoover Stove, White",
         4
        ],
        [
         6,
         "Binney & Smith Markers, Fluorescent",
         4
        ],
        [
         8,
         "Ames Clasp Envelope, with clear poly window",
         5
        ],
        [
         11,
         "Green Bar Cards & Envelopes, 8.5 x 11",
         5
        ],
        [
         15,
         "HP Wireless Fax, Color",
         5
        ],
        [
         16,
         "Konica Calculator, Durable",
         2
        ],
        [
         1,
         "Sauder Library with Doors, Mobile",
         4
        ],
        [
         8,
         "Jiffy Peel and Seal, Recycled",
         5
        ],
        [
         12,
         "Tenex Shelving, Wire Frame",
         4
        ],
        [
         13,
         "Kleencut Trimmer, Easy Grip",
         4
        ],
        [
         5,
         "Hoover Refrigerator, Silver",
         4
        ],
        [
         7,
         "Ibico Index Tab, Economy",
         4
        ],
        [
         11,
         "Green Bar Memo Slips, Multicolor",
         5
        ],
        [
         6,
         "Sanford Pens, Fluorescent",
         4
        ],
        [
         13,
         "Fiskars Scissors, Serrated",
         4
        ],
        [
         13,
         "Kleencut Scissors, Easy Grip",
         4
        ],
        [
         10,
         "Smead Legal Exhibit Labels, Adjustable",
         4
        ],
        [
         14,
         "Logitech Keyboard, Erganomic",
         3
        ],
        [
         17,
         "Motorola Speaker Phone, VoIP",
         3
        ],
        [
         14,
         "Logitech Keyboard, Bluetooth",
         3
        ],
        [
         8,
         "Cameo Mailers, Recycled",
         5
        ],
        [
         12,
         "Tenex Folders, Wire Frame",
         4
        ],
        [
         4,
         "Lesro Conference Table, with Bottom Storage",
         4
        ],
        [
         14,
         "Enermax Memory Card, USB",
         6
        ],
        [
         2,
         "Harbour Creations Chairmat, Black",
         4
        ],
        [
         15,
         "Sharp Personal Copier, Color",
         4
        ],
        [
         8,
         "Cameo Manila Envelope, Recycled",
         4
        ],
        [
         13,
         "Fiskars Ruler, Easy Grip",
         5
        ],
        [
         8,
         "Jiffy Manila Envelope, Set of 50",
         5
        ],
        [
         10,
         "Harbour Creations Shipping Labels, Laser Printer Compatible",
         4
        ],
        [
         5,
         "Breville Toaster, White",
         2
        ],
        [
         17,
         "Nokia Signal Booster, Full Size",
         4
        ],
        [
         17,
         "Motorola Audio Dock, VoIP",
         4
        ],
        [
         14,
         "Belkin Mouse, Erganomic",
         4
        ],
        [
         10,
         "Novimex Round Labels, Alphabetical",
         5
        ],
        [
         9,
         "Advantus Staples, 12 Pack",
         4
        ],
        [
         10,
         "Smead Shipping Labels, Adjustable",
         5
        ],
        [
         13,
         "Elite Ruler, Steel",
         5
        ],
        [
         9,
         "Accos Staples, Assorted Sizes",
         5
        ],
        [
         11,
         "Green Bar Memo Slips, Premium",
         4
        ],
        [
         7,
         "Avery 3-Hole Punch, Recycled",
         4
        ],
        [
         15,
         "Sharp Fax Machine, Color",
         4
        ],
        [
         17,
         "Samsung Speaker Phone, VoIP",
         4
        ],
        [
         14,
         "Enermax Memory Card, Bluetooth",
         5
        ],
        [
         1,
         "Sauder Floating Shelf Set, Traditional",
         4
        ],
        [
         7,
         "Acco Hole Reinforcements, Recycled",
         5
        ],
        [
         8,
         "Cameo Interoffice Envelope, Security-Tint",
         5
        ],
        [
         8,
         "Kraft Interoffice Envelope, Set of 50",
         4
        ],
        [
         6,
         "Stanley Pens, Water Color",
         4
        ],
        [
         3,
         "Tenex Photo Frame, Black",
         5
        ],
        [
         1,
         "Safco Classic Bookcase, Mobile",
         4
        ],
        [
         16,
         "Okidata Receipt Printer, Red",
         3
        ],
        [
         17,
         "Cisco Smart Phone, with Caller ID",
         4
        ],
        [
         4,
         "KI Adjustable-Height Table",
         2
        ],
        [
         8,
         "GlobeWeis Manila Envelope, Set of 50",
         5
        ],
        [
         13,
         "Kleencut Box Cutter, High Speed",
         5
        ],
        [
         10,
         "Smead Round Labels, Alphabetical",
         4
        ],
        [
         15,
         "Sharp Personal Copier, Digital",
         4
        ],
        [
         16,
         "Konica Calculator, Red",
         4
        ],
        [
         14,
         "Enermax Numeric Keypad, Erganomic",
         4
        ],
        [
         17,
         "Samsung Headset, Cordless",
         5
        ],
        [
         13,
         "Acme Trimmer, Steel",
         5
        ],
        [
         10,
         "Harbour Creations Shipping Labels, Adjustable",
         4
        ],
        [
         12,
         "Tenex Trays, Wire Frame",
         6
        ],
        [
         17,
         "Nokia Headset, VoIP",
         5
        ],
        [
         17,
         "Nokia Smart Phone, with Caller ID",
         5
        ],
        [
         1,
         "Dania Floating Shelf Set, Traditional",
         5
        ],
        [
         3,
         "Advantus Clock, Erganomic",
         4
        ],
        [
         1,
         "Dania Stackable Bookrack, Mobile",
         4
        ],
        [
         1,
         "Dania Corner Shelving, Pine",
         6
        ],
        [
         4,
         "Barricks Round Table, Adjustable Height",
         2
        ],
        [
         13,
         "Elite Scissors, Serrated",
         3
        ],
        [
         7,
         "Ibico 3-Hole Punch, Economy",
         4
        ],
        [
         12,
         "Smead Shelving, Wire Frame",
         6
        ],
        [
         7,
         "Wilson Jones Binder, Clear",
         4
        ],
        [
         3,
         "Eldon Frame, Duo Pack",
         4
        ],
        [
         14,
         "Belkin Memory Card, Erganomic",
         4
        ],
        [
         16,
         "StarTech Phone, Wireless",
         4
        ],
        [
         1,
         "Dania Classic Bookcase, Pine",
         5
        ],
        [
         14,
         "Memorex Memory Card, Programmable",
         3
        ],
        [
         15,
         "Sharp Fax and Copier, High-Speed",
         4
        ],
        [
         7,
         "Wilson Jones Binder, Recycled",
         4
        ],
        [
         12,
         "Rogers Folders, Industrial",
         3
        ],
        [
         5,
         "Cuisinart Coffee Grinder, Silver",
         4
        ],
        [
         3,
         "Eldon Photo Frame, Duo Pack",
         5
        ],
        [
         1,
         "Dania Corner Shelving, Metal",
         5
        ],
        [
         17,
         "Motorola Smart Phone, with Caller ID",
         4
        ],
        [
         15,
         "Sharp Fax Machine, Digital",
         6
        ],
        [
         9,
         "Stockwell Push Pins, 12 Pack",
         11
        ],
        [
         9,
         "Accos Thumb Tacks, 12 Pack",
         4
        ],
        [
         11,
         "SanDisk Note Cards, Premium",
         9
        ],
        [
         9,
         "Stockwell Clamps, 12 Pack",
         10
        ],
        [
         8,
         "Jiffy Interoffice Envelope, Security-Tint",
         5
        ],
        [
         12,
         "Rogers Trays, Wire Frame",
         4
        ],
        [
         13,
         "Elite Scissors, High Speed",
         4
        ],
        [
         5,
         "Hamilton Beach Stove, White",
         4
        ],
        [
         16,
         "StarTech Printer, Red",
         3
        ],
        [
         15,
         "Hewlett Wireless Fax, High-Speed",
         4
        ],
        [
         10,
         "Avery Color Coded Labels, Alphabetical",
         5
        ],
        [
         9,
         "Advantus Staples, Assorted Sizes",
         4
        ],
        [
         13,
         "Elite Shears, Easy Grip",
         5
        ],
        [
         6,
         "Boston Sketch Pad, Blue",
         4
        ],
        [
         8,
         "Cameo Peel and Seal, Set of 50",
         3
        ],
        [
         16,
         "Panasonic Calculator, Wireless",
         4
        ],
        [
         2,
         "Hon Bag Chairs, Adjustable",
         5
        ],
        [
         2,
         "Harbour Creations Bag Chairs, Black",
         5
        ],
        [
         17,
         "Motorola Headset, Cordless",
         5
        ],
        [
         14,
         "Logitech Memory Card, Programmable",
         4
        ],
        [
         4,
         "Bevis Conference Table, Rectangular",
         2
        ],
        [
         15,
         "Sharp Ink, Color",
         5
        ],
        [
         4,
         "Chromcraft Computer Table, Fully Assembled",
         3
        ],
        [
         9,
         "Stockwell Thumb Tacks, Assorted Sizes",
         8
        ],
        [
         7,
         "Wilson Jones Binding Machine, Economy",
         5
        ],
        [
         8,
         "GlobeWeis Manila Envelope, with clear poly window",
         5
        ],
        [
         6,
         "BIC Pencil Sharpener, Blue",
         4
        ],
        [
         11,
         "Green Bar Note Cards, 8.5 x 11",
         5
        ],
        [
         15,
         "Sharp Wireless Fax, Laser",
         4
        ],
        [
         1,
         "Bush Corner Shelving, Traditional",
         4
        ],
        [
         2,
         "Office Star Chairmat, Adjustable",
         4
        ],
        [
         16,
         "Okidata Receipt Printer, White",
         4
        ],
        [
         15,
         "Sharp Fax and Copier, Color",
         4
        ],
        [
         4,
         "Bevis Conference Table, Fully Assembled",
         4
        ],
        [
         8,
         "Kraft Manila Envelope, Security-Tint",
         4
        ],
        [
         12,
         "Eldon Box, Industrial",
         4
        ],
        [
         11,
         "Green Bar Computer Printout Paper, Recycled",
         5
        ],
        [
         5,
         "Staples",
         3
        ],
        [
         11,
         "Green Bar Parchment Paper, Multicolor",
         4
        ],
        [
         10,
         "Hon Round Labels, Alphabetical",
         5
        ],
        [
         10,
         "Smead Color Coded Labels, 5000 Label Set",
         4
        ],
        [
         13,
         "Acme Shears, Easy Grip",
         6
        ],
        [
         5,
         "KitchenAid Coffee Grinder, Red",
         4
        ],
        [
         12,
         "Fellowes Folders, Blue",
         6
        ],
        [
         6,
         "Binney & Smith Markers, Water Color",
         5
        ],
        [
         11,
         "SanDisk Note Cards, 8.5 x 11",
         4
        ],
        [
         14,
         "Memorex Flash Drive, Erganomic",
         5
        ],
        [
         1,
         "Sauder Corner Shelving, Pine",
         4
        ],
        [
         3,
         "Deflect-O Frame, Duo Pack",
         4
        ],
        [
         1,
         "Sauder 3-Shelf Cabinet, Traditional",
         4
        ],
        [
         16,
         "Panasonic Card Printer, White",
         4
        ],
        [
         1,
         "Safco Library with Doors, Traditional",
         4
        ],
        [
         5,
         "KitchenAid Microwave, Silver",
         5
        ],
        [
         6,
         "BIC Pencil Sharpener, Water Color",
         3
        ],
        [
         6,
         "Stanley Pencil Sharpener, Easy-Erase",
         5
        ],
        [
         2,
         "Novimex Steel Folding Chair, Set of Two",
         5
        ],
        [
         3,
         "Advantus Stacking Tray, Durable",
         5
        ],
        [
         17,
         "Samsung Signal Booster, VoIP",
         5
        ],
        [
         14,
         "Belkin Keyboard, Bluetooth",
         4
        ],
        [
         16,
         "Konica Calculator, Wireless",
         4
        ],
        [
         6,
         "BIC Canvas, Water Color",
         4
        ],
        [
         7,
         "Acco Binding Machine, Durable",
         4
        ],
        [
         11,
         "Enermax Computer Printout Paper, Premium",
         4
        ],
        [
         15,
         "Sharp Wireless Fax, High-Speed",
         4
        ],
        [
         17,
         "Cisco Smart Phone, Full Size",
         8
        ],
        [
         3,
         "Deflect-O Door Stop, Erganomic",
         4
        ],
        [
         16,
         "Panasonic Inkjet, Wireless",
         3
        ],
        [
         2,
         "Hon Steel Folding Chair, Red",
         3
        ],
        [
         4,
         "Chromcraft Wood Table, Rectangular",
         2
        ],
        [
         6,
         "Stanley Pencil Sharpener, Water Color",
         7
        ],
        [
         10,
         "Smead Removable Labels, Adjustable",
         8
        ],
        [
         10,
         "Novimex Legal Exhibit Labels, 5000 Label Set",
         4
        ],
        [
         12,
         "Smead File Cart, Industrial",
         4
        ],
        [
         15,
         "Brother Personal Copier, High-Speed",
         5
        ],
        [
         16,
         "Okidata Inkjet, Wireless",
         6
        ],
        [
         4,
         "Lesro Conference Table, Adjustable Height",
         3
        ],
        [
         16,
         "Konica Inkjet, Wireless",
         7
        ],
        [
         3,
         "Eldon Photo Frame, Black",
         4
        ],
        [
         14,
         "Enermax Router, Bluetooth",
         3
        ],
        [
         8,
         "Jiffy Business Envelopes, Security-Tint",
         4
        ],
        [
         7,
         "Cardinal Binding Machine, Economy",
         5
        ],
        [
         10,
         "Harbour Creations Shipping Labels, Alphabetical",
         5
        ],
        [
         12,
         "Smead Folders, Single Width",
         4
        ],
        [
         9,
         "Stockwell Staples, Metal",
         8
        ],
        [
         10,
         "Hon File Folder Labels, Adjustable",
         4
        ],
        [
         7,
         "Acco Binding Machine, Recycled",
         5
        ],
        [
         8,
         "Kraft Mailers, Recycled",
         4
        ],
        [
         15,
         "HP Wireless Fax, High-Speed",
         3
        ],
        [
         15,
         "Sharp Ink, High-Speed",
         3
        ],
        [
         1,
         "Dania Stackable Bookrack, Pine",
         8
        ],
        [
         3,
         "Eldon Clock, Duo Pack",
         3
        ],
        [
         17,
         "Samsung Smart Phone, Full Size",
         4
        ],
        [
         4,
         "Lesro Wood Table, Rectangular",
         3
        ],
        [
         4,
         "Chromcraft Coffee Table, with Bottom Storage",
         2
        ],
        [
         4,
         "Hon Conference Table, Rectangular",
         3
        ],
        [
         7,
         "Acco Binder Covers, Durable",
         4
        ],
        [
         13,
         "Stiletto Trimmer, High Speed",
         5
        ],
        [
         6,
         "Sanford Sketch Pad, Fluorescent",
         4
        ],
        [
         8,
         "GlobeWeis Peel and Seal, Set of 50",
         5
        ],
        [
         1,
         "Safco Corner Shelving, Pine",
         4
        ],
        [
         14,
         "Memorex Keyboard, Programmable",
         4
        ],
        [
         3,
         "Rubbermaid Clock, Durable",
         3
        ],
        [
         8,
         "Jiffy Peel and Seal, Set of 50",
         5
        ],
        [
         11,
         "Enermax Message Books, Recycled",
         6
        ],
        [
         10,
         "Novimex Color Coded Labels, Adjustable",
         5
        ],
        [
         10,
         "Smead Round Labels, Adjustable",
         4
        ],
        [
         5,
         "Hoover Microwave, White",
         6
        ],
        [
         12,
         "Rogers Lockers, Wire Frame",
         4
        ],
        [
         7,
         "Ibico Binder, Durable",
         4
        ],
        [
         16,
         "StarTech Phone, White",
         4
        ],
        [
         17,
         "Apple Office Telephone, with Caller ID",
         3
        ],
        [
         16,
         "StarTech Card Printer, Red",
         2
        ],
        [
         3,
         "Advantus Door Stop, Duo Pack",
         4
        ],
        [
         14,
         "Logitech Keyboard, Programmable",
         5
        ],
        [
         14,
         "Memorex Keyboard, Erganomic",
         4
        ],
        [
         3,
         "Tenex Light Bulb, Black",
         4
        ],
        [
         1,
         "Bush Corner Shelving, Metal",
         4
        ],
        [
         6,
         "Binney & Smith Pens, Fluorescent",
         4
        ],
        [
         9,
         "OIC Push Pins, Metal",
         4
        ],
        [
         10,
         "Avery Removable Labels, Alphabetical",
         5
        ],
        [
         11,
         "Xerox Message Books, Multicolor",
         3
        ],
        [
         5,
         "Cuisinart Blender, Silver",
         3
        ],
        [
         11,
         "Xerox Parchment Paper, Multicolor",
         4
        ],
        [
         1,
         "Safco 3-Shelf Cabinet, Metal",
         4
        ],
        [
         1,
         "Dania Floating Shelf Set, Metal",
         4
        ],
        [
         4,
         "Bevis Coffee Table, Rectangular",
         3
        ],
        [
         13,
         "Elite Scissors, Steel",
         4
        ],
        [
         13,
         "Stiletto Trimmer, Steel",
         5
        ],
        [
         9,
         "Stockwell Rubber Bands, Assorted Sizes",
         9
        ],
        [
         10,
         "Avery Removable Labels, Adjustable",
         3
        ],
        [
         5,
         "Hamilton Beach Blender, Silver",
         3
        ],
        [
         15,
         "Sharp Wireless Fax, Color",
         4
        ],
        [
         2,
         "SAFCO Chairmat, Red",
         5
        ],
        [
         3,
         "Deflect-O Frame, Durable",
         4
        ],
        [
         2,
         "Office Star Swivel Stool, Adjustable",
         4
        ],
        [
         16,
         "Konica Phone, White",
         4
        ],
        [
         10,
         "Novimex Removable Labels, Adjustable",
         7
        ],
        [
         10,
         "Hon Shipping Labels, Adjustable",
         6
        ],
        [
         12,
         "Smead Lockers, Single Width",
         5
        ],
        [
         10,
         "Harbour Creations Color Coded Labels, Alphabetical",
         3
        ],
        [
         5,
         "Hoover Blender, White",
         5
        ],
        [
         6,
         "Boston Pens, Blue",
         5
        ],
        [
         2,
         "Novimex Executive Leather Armchair, Adjustable",
         10
        ],
        [
         2,
         "SAFCO Bag Chairs, Black",
         5
        ],
        [
         4,
         "Lesro Computer Table, Adjustable Height",
         4
        ],
        [
         17,
         "Cisco Signal Booster, Cordless",
         4
        ],
        [
         4,
         "Lesro Round Table, Fully Assembled",
         2
        ],
        [
         9,
         "OIC Thumb Tacks, Assorted Sizes",
         4
        ],
        [
         12,
         "Smead Box, Wire Frame",
         5
        ],
        [
         13,
         "Elite Trimmer, Easy Grip",
         5
        ],
        [
         7,
         "Acco Hole Reinforcements, Clear",
         3
        ],
        [
         12,
         "Eldon Lockers, Industrial",
         5
        ],
        [
         11,
         "Eaton Message Books, Premium",
         3
        ],
        [
         15,
         "Brother Wireless Fax, Color",
         4
        ],
        [
         16,
         "Epson Calculator, Red",
         3
        ],
        [
         15,
         "Brother Copy Machine, High-Speed",
         5
        ],
        [
         14,
         "Belkin Keyboard, Programmable",
         3
        ],
        [
         2,
         "Novimex Swivel Stool, Red",
         3
        ],
        [
         2,
         "Hon Steel Folding Chair, Black",
         6
        ],
        [
         1,
         "Bush 3-Shelf Cabinet, Pine",
         4
        ],
        [
         4,
         "Bevis Coffee Table, Fully Assembled",
         3
        ],
        [
         6,
         "Sanford Sketch Pad, Blue",
         4
        ],
        [
         8,
         "GlobeWeis Peel and Seal, Security-Tint",
         4
        ],
        [
         12,
         "Rogers Folders, Single Width",
         4
        ],
        [
         13,
         "Elite Trimmer, Steel",
         4
        ],
        [
         7,
         "Cardinal Binder, Recycled",
         3
        ],
        [
         2,
         "SAFCO Executive Leather Armchair, Black",
         5
        ],
        [
         16,
         "Panasonic Printer, Wireless",
         3
        ],
        [
         3,
         "Tenex Door Stop, Durable",
         4
        ],
        [
         16,
         "Panasonic Phone, Durable",
         4
        ],
        [
         15,
         "HP Ink, High-Speed",
         3
        ],
        [
         16,
         "Okidata Printer, White",
         3
        ],
        [
         4,
         "Bevis Round Table, Adjustable Height",
         3
        ],
        [
         8,
         "GlobeWeis Business Envelopes, with clear poly window",
         5
        ],
        [
         12,
         "Eldon Folders, Blue",
         5
        ],
        [
         5,
         "Hamilton Beach Refrigerator, Black",
         4
        ],
        [
         13,
         "Fiskars Ruler, Steel",
         3
        ],
        [
         14,
         "Logitech Mouse, USB",
         4
        ],
        [
         14,
         "SanDisk Flash Drive, Erganomic",
         4
        ],
        [
         13,
         "Acme Trimmer, High Speed",
         5
        ],
        [
         6,
         "BIC Sketch Pad, Fluorescent",
         4
        ],
        [
         10,
         "Harbour Creations Round Labels, 5000 Label Set",
         4
        ],
        [
         15,
         "HP Wireless Fax, Digital",
         4
        ],
        [
         2,
         "Novimex Bag Chairs, Adjustable",
         4
        ],
        [
         14,
         "SanDisk Numeric Keypad, Erganomic",
         3
        ],
        [
         2,
         "Office Star Executive Leather Armchair, Red",
         4
        ],
        [
         4,
         "Bevis Wood Table, with Bottom Storage",
         4
        ],
        [
         4,
         "Chromcraft Wood Table, Adjustable Height",
         2
        ],
        [
         12,
         "Rogers Shelving, Industrial",
         5
        ],
        [
         11,
         "Green Bar Message Books, Recycled",
         6
        ],
        [
         13,
         "Fiskars Letter Opener, High Speed",
         3
        ],
        [
         10,
         "Novimex Color Coded Labels, 5000 Label Set",
         3
        ],
        [
         9,
         "OIC Paper Clips, Assorted Sizes",
         4
        ],
        [
         5,
         "Cuisinart Coffee Grinder, White",
         3
        ],
        [
         11,
         "Enermax Cards & Envelopes, Premium",
         4
        ],
        [
         14,
         "Belkin Router, Bluetooth",
         3
        ],
        [
         3,
         "Eldon Door Stop, Erganomic",
         6
        ],
        [
         2,
         "Hon Steel Folding Chair, Set of Two",
         5
        ],
        [
         16,
         "Panasonic Inkjet, White",
         5
        ],
        [
         2,
         "Harbour Creations Bag Chairs, Red",
         5
        ],
        [
         16,
         "Epson Calculator, Wireless",
         5
        ],
        [
         3,
         "Deflect-O Door Stop, Duo Pack",
         4
        ],
        [
         1,
         "Dania Stackable Bookrack, Traditional",
         4
        ],
        [
         13,
         "Fiskars Shears, Easy Grip",
         5
        ],
        [
         8,
         "Cameo Interoffice Envelope, Set of 50",
         4
        ],
        [
         13,
         "Fiskars Scissors, High Speed",
         5
        ],
        [
         11,
         "Xerox Cards & Envelopes, Multicolor",
         3
        ],
        [
         1,
         "Safco 3-Shelf Cabinet, Traditional",
         3
        ],
        [
         3,
         "Rubbermaid Clock, Erganomic",
         4
        ],
        [
         3,
         "Deflect-O Stacking Tray, Black",
         4
        ],
        [
         3,
         "Tenex Door Stop, Black",
         4
        ],
        [
         4,
         "Lesro Computer Table, Fully Assembled",
         3
        ],
        [
         11,
         "Green Bar Computer Printout Paper, Multicolor",
         4
        ],
        [
         8,
         "Staples",
         9
        ],
        [
         13,
         "Acme Letter Opener, High Speed",
         4
        ],
        [
         11,
         "Green Bar Message Books, Multicolor",
         4
        ],
        [
         12,
         "Eldon Shelving, Wire Frame",
         4
        ],
        [
         7,
         "Ibico 3-Hole Punch, Clear",
         4
        ],
        [
         12,
         "Smead Box, Single Width",
         4
        ],
        [
         11,
         "Enermax Cards & Envelopes, Recycled",
         5
        ],
        [
         2,
         "Office Star Rocking Chair, Set of Two",
         6
        ],
        [
         15,
         "Brother Ink, Digital",
         4
        ],
        [
         16,
         "Panasonic Phone, Wireless",
         3
        ],
        [
         1,
         "Dania Library with Doors, Mobile",
         5
        ],
        [
         1,
         "Sauder Corner Shelving, Mobile",
         5
        ],
        [
         12,
         "Smead Lockers, Wire Frame",
         4
        ],
        [
         8,
         "Cameo Peel and Seal, Security-Tint",
         5
        ],
        [
         5,
         "KitchenAid Blender, White",
         3
        ],
        [
         8,
         "GlobeWeis Interoffice Envelope, Security-Tint",
         5
        ],
        [
         8,
         "Kraft Peel and Seal, with clear poly window",
         4
        ],
        [
         14,
         "Belkin Mouse, Bluetooth",
         3
        ],
        [
         1,
         "Bush Library with Doors, Pine",
         3
        ],
        [
         2,
         "Harbour Creations Steel Folding Chair, Black",
         5
        ],
        [
         15,
         "Canon Personal Copier, Digital",
         4
        ],
        [
         4,
         "Barricks Training Table, Fully Assembled",
         4
        ],
        [
         12,
         "Fellowes Folders, Single Width",
         4
        ],
        [
         12,
         "Smead Box, Blue",
         5
        ],
        [
         7,
         "Acco 3-Hole Punch, Durable",
         4
        ],
        [
         7,
         "Ibico Hole Reinforcements, Clear",
         5
        ],
        [
         16,
         "Okidata Phone, White",
         4
        ],
        [
         3,
         "Eldon Clock, Black",
         4
        ],
        [
         3,
         "Tenex Clock, Black",
         5
        ],
        [
         2,
         "Office Star Executive Leather Armchair, Adjustable",
         9
        ],
        [
         14,
         "SanDisk Mouse, Erganomic",
         5
        ],
        [
         4,
         "Lesro Conference Table, Fully Assembled",
         4
        ],
        [
         9,
         "Accos Clamps, Metal",
         4
        ],
        [
         8,
         "Peel & Seel Recycled Catalog Envelopes, Brown",
         2
        ],
        [
         5,
         "Hoover Refrigerator, Black",
         4
        ],
        [
         9,
         "Stockwell Thumb Tacks, Bulk Pack",
         8
        ],
        [
         14,
         "SanDisk Router, USB",
         5
        ],
        [
         15,
         "Canon Wireless Fax, High-Speed",
         3
        ],
        [
         1,
         "Dania 3-Shelf Cabinet, Metal",
         3
        ],
        [
         3,
         "Advantus Light Bulb, Black",
         4
        ],
        [
         1,
         "Bush Stackable Bookrack, Mobile",
         3
        ],
        [
         14,
         "Enermax Mouse, Programmable",
         3
        ],
        [
         7,
         "Cardinal Index Tab, Durable",
         5
        ],
        [
         5,
         "Hamilton Beach Toaster, Red",
         4
        ],
        [
         11,
         "Xerox Cards & Envelopes, Recycled",
         4
        ],
        [
         9,
         "Advantus Paper Clips, Metal",
         5
        ],
        [
         11,
         "Green Bar Cards & Envelopes, Recycled",
         6
        ],
        [
         9,
         "Staples",
         9
        ],
        [
         12,
         "Eldon File Cart, Single Width",
         9
        ],
        [
         12,
         "Smead Trays, Wire Frame",
         4
        ],
        [
         8,
         "Ames Manila Envelope, with clear poly window",
         4
        ],
        [
         12,
         "Eldon Lockers, Blue",
         5
        ],
        [
         7,
         "Wilson Jones 3-Hole Punch, Economy",
         6
        ],
        [
         17,
         "Samsung Audio Dock, Full Size",
         4
        ],
        [
         4,
         "Barricks Computer Table, Fully Assembled",
         5
        ],
        [
         12,
         "Tenex Box, Wire Frame",
         5
        ],
        [
         11,
         "Enermax Parchment Paper, Recycled",
         4
        ],
        [
         6,
         "Binney & Smith Sketch Pad, Blue",
         4
        ],
        [
         10,
         "Smead Legal Exhibit Labels, 5000 Label Set",
         4
        ],
        [
         12,
         "Tenex File Cart, Blue",
         4
        ],
        [
         9,
         "Advantus Push Pins, 12 Pack",
         4
        ],
        [
         9,
         "Stockwell Clamps, Assorted Sizes",
         8
        ],
        [
         6,
         "Binney & Smith Canvas, Easy-Erase",
         3
        ],
        [
         6,
         "Sanford Sketch Pad, Water Color",
         4
        ],
        [
         10,
         "Harbour Creations Color Coded Labels, Laser Printer Compatible",
         4
        ],
        [
         1,
         "Sauder Stackable Bookrack, Mobile",
         4
        ],
        [
         2,
         "Hon Rocking Chair, Set of Two",
         4
        ],
        [
         3,
         "Deflect-O Photo Frame, Erganomic",
         3
        ],
        [
         17,
         "Apple Speaker Phone, with Caller ID",
         4
        ],
        [
         13,
         "Acme Box Cutter, High Speed",
         3
        ],
        [
         9,
         "Advantus Thumb Tacks, Bulk Pack",
         5
        ],
        [
         8,
         "Kraft Peel and Seal, Set of 50",
         4
        ],
        [
         7,
         "Wilson Jones Binding Machine, Durable",
         5
        ],
        [
         12,
         "Rogers Trays, Industrial",
         4
        ],
        [
         4,
         "Chromcraft Conference Table, with Bottom Storage",
         4
        ],
        [
         3,
         "Tenex Clock, Durable",
         4
        ],
        [
         11,
         "Eaton Memo Slips, Multicolor",
         5
        ],
        [
         9,
         "Accos Staples, 12 Pack",
         5
        ],
        [
         1,
         "Bush Library with Doors, Mobile",
         5
        ],
        [
         3,
         "Deflect-O Stacking Tray, Durable",
         5
        ],
        [
         16,
         "StarTech Calculator, White",
         4
        ],
        [
         17,
         "Nokia Office Telephone, with Caller ID",
         4
        ],
        [
         11,
         "Green Bar Parchment Paper, Recycled",
         4
        ],
        [
         7,
         "Ibico Binder Covers, Clear",
         6
        ],
        [
         17,
         "Apple Signal Booster, Full Size",
         4
        ],
        [
         1,
         "Ikea Library with Doors, Mobile",
         4
        ],
        [
         3,
         "Tenex Door Stop, Erganomic",
         4
        ],
        [
         2,
         "SAFCO Executive Leather Armchair, Red",
         5
        ],
        [
         2,
         "SAFCO Chairmat, Set of Two",
         5
        ],
        [
         4,
         "Hon Wood Table, with Bottom Storage",
         2
        ],
        [
         7,
         "Ibico 3-Hole Punch, Recycled",
         5
        ],
        [
         5,
         "KitchenAid Stove, Silver",
         4
        ],
        [
         10,
         "Novimex Legal Exhibit Labels, Laser Printer Compatible",
         4
        ],
        [
         5,
         "Cuisinart Blender, Red",
         3
        ],
        [
         4,
         "Barricks Conference Table, Rectangular",
         2
        ],
        [
         9,
         "Stockwell Thumb Tacks, Metal",
         11
        ],
        [
         11,
         "Xerox Computer Printout Paper, Premium",
         3
        ],
        [
         7,
         "Acco Binder, Durable",
         5
        ],
        [
         9,
         "Accos Rubber Bands, 12 Pack",
         6
        ],
        [
         5,
         "KitchenAid Coffee Grinder, White",
         4
        ],
        [
         3,
         "Deflect-O Frame, Erganomic",
         4
        ],
        [
         3,
         "Tenex Frame, Black",
         5
        ],
        [
         17,
         "Apple Smart Phone, Full Size",
         9
        ],
        [
         14,
         "Belkin Keyboard, Erganomic",
         4
        ],
        [
         3,
         "Eldon Wave Desk Accessories",
         2
        ],
        [
         4,
         "Chromcraft Training Table, Fully Assembled",
         2
        ],
        [
         12,
         "Rogers Shelving, Blue",
         5
        ],
        [
         5,
         "Breville Coffee Grinder, Silver",
         4
        ],
        [
         5,
         "Breville Toaster, Black",
         5
        ],
        [
         13,
         "Acme Scissors, Easy Grip",
         4
        ],
        [
         15,
         "HP Fax Machine, High-Speed",
         5
        ],
        [
         2,
         "Office Star Rocking Chair, Red",
         5
        ],
        [
         3,
         "Advantus Clock, Durable",
         5
        ],
        [
         17,
         "Apple Audio Dock, Full Size",
         5
        ],
        [
         16,
         "StarTech Phone, Red",
         3
        ],
        [
         16,
         "StarTech Inkjet, White",
         3
        ],
        [
         1,
         "Dania Floating Shelf Set, Mobile",
         5
        ],
        [
         11,
         "Xerox Computer Printout Paper, 8.5 x 11",
         4
        ],
        [
         9,
         "OIC Paper Clips, Bulk Pack",
         4
        ],
        [
         13,
         "Stiletto Box Cutter, Easy Grip",
         5
        ],
        [
         10,
         "Hon Shipping Labels, Laser Printer Compatible",
         4
        ],
        [
         11,
         "Green Bar Message Books, Premium",
         4
        ],
        [
         13,
         "Acme Ruler, High Speed",
         4
        ],
        [
         17,
         "Samsung Headset, VoIP",
         4
        ],
        [
         1,
         "Ikea Corner Shelving, Pine",
         5
        ],
        [
         16,
         "Epson Phone, Wireless",
         3
        ],
        [
         5,
         "Hamilton Beach Refrigerator, Silver",
         4
        ],
        [
         5,
         "KitchenAid Refrigerator, Silver",
         5
        ],
        [
         1,
         "Bush 3-Shelf Cabinet, Mobile",
         4
        ],
        [
         2,
         "Harbour Creations Chairmat, Red",
         5
        ],
        [
         16,
         "Okidata Printer, Wireless",
         4
        ],
        [
         15,
         "Hewlett Fax Machine, Color",
         4
        ],
        [
         4,
         "Barricks Computer Table, with Bottom Storage",
         3
        ],
        [
         9,
         "Stockwell Thumb Tacks, 12 Pack",
         10
        ],
        [
         7,
         "Wilson Jones 3-Hole Punch, Clear",
         5
        ],
        [
         5,
         "Hoover Blender, Black",
         8
        ],
        [
         5,
         "Hamilton Beach Refrigerator, Red",
         4
        ],
        [
         15,
         "Hewlett Ink, High-Speed",
         4
        ],
        [
         14,
         "Logitech Numeric Keypad, Erganomic",
         5
        ],
        [
         4,
         "Chromcraft Training Table, with Bottom Storage",
         2
        ],
        [
         6,
         "BIC Sketch Pad, Blue",
         4
        ],
        [
         11,
         "SanDisk Parchment Paper, Premium",
         3
        ],
        [
         8,
         "GlobeWeis Peel and Seal, with clear poly window",
         4
        ],
        [
         11,
         "Xerox Parchment Paper, 8.5 x 11",
         3
        ],
        [
         4,
         "Hon Wood Table, Rectangular",
         5
        ],
        [
         15,
         "Hewlett Personal Copier, High-Speed",
         4
        ],
        [
         16,
         "Panasonic Card Printer, Wireless",
         5
        ],
        [
         14,
         "Belkin Memory Card, USB",
         3
        ],
        [
         9,
         "OIC Staples, Metal",
         4
        ],
        [
         8,
         "Kraft Business Envelopes, Recycled",
         8
        ],
        [
         12,
         "Fellowes File Cart, Wire Frame",
         4
        ],
        [
         7,
         "Cardinal Binder Covers, Recycled",
         4
        ],
        [
         6,
         "Binney & Smith Pencil Sharpener, Fluorescent",
         4
        ],
        [
         11,
         "Xerox Note Cards, Multicolor",
         4
        ],
        [
         6,
         "Sanford Pencil Sharpener, Water Color",
         6
        ],
        [
         12,
         "Eldon Shelving, Single Width",
         4
        ],
        [
         10,
         "Smead File Folder Labels, Alphabetical",
         4
        ],
        [
         5,
         "Hamilton Beach Toaster, Silver",
         4
        ],
        [
         4,
         "Lesro Computer Table, with Bottom Storage",
         2
        ],
        [
         14,
         "Memorex Memory Card, USB",
         4
        ],
        [
         17,
         "Samsung Signal Booster, with Caller ID",
         4
        ],
        [
         16,
         "Okidata Calculator, White",
         3
        ],
        [
         13,
         "Elite Ruler, Easy Grip",
         4
        ],
        [
         5,
         "KitchenAid Blender, Silver",
         4
        ],
        [
         14,
         "Logitech Keyboard, USB",
         4
        ],
        [
         3,
         "Advantus Photo Frame, Erganomic",
         4
        ],
        [
         17,
         "Nokia Office Telephone, VoIP",
         5
        ],
        [
         4,
         "Hon Coffee Table, Adjustable Height",
         3
        ],
        [
         9,
         "Stockwell Push Pins, Assorted Sizes",
         8
        ],
        [
         6,
         "Sanford Pencil Sharpener, Easy-Erase",
         4
        ],
        [
         8,
         "Cameo Interoffice Envelope, with clear poly window",
         6
        ],
        [
         6,
         "Stanley Sketch Pad, Fluorescent",
         5
        ],
        [
         12,
         "Fellowes File Cart, Single Width",
         5
        ],
        [
         9,
         "OIC Rubber Bands, Metal",
         5
        ],
        [
         11,
         "Green Bar Memo Slips, Recycled",
         5
        ],
        [
         1,
         "Sauder Floating Shelf Set, Mobile",
         5
        ],
        [
         1,
         "Sauder 3-Shelf Cabinet, Metal",
         4
        ],
        [
         6,
         "BIC Pencil Sharpener, Easy-Erase",
         3
        ],
        [
         13,
         "Stiletto Ruler, Easy Grip",
         6
        ],
        [
         12,
         "Rogers Folders, Blue",
         5
        ],
        [
         9,
         "OIC Push Pins, Assorted Sizes",
         5
        ],
        [
         1,
         "Sauder Classic Bookcase, Mobile",
         5
        ],
        [
         14,
         "SanDisk Flash Drive, Programmable",
         3
        ],
        [
         4,
         "Lesro Coffee Table, Adjustable Height",
         4
        ],
        [
         14,
         "Logitech Router, Bluetooth",
         6
        ],
        [
         10,
         "Avery File Folder Labels, Adjustable",
         4
        ],
        [
         7,
         "Wilson Jones Binding Machine, Recycled",
         4
        ],
        [
         12,
         "Eldon Box, Wire Frame",
         5
        ],
        [
         12,
         "Eldon Box, Single Width",
         4
        ],
        [
         6,
         "Stanley Markers, Easy-Erase",
         5
        ],
        [
         5,
         "KitchenAid Coffee Grinder, Silver",
         4
        ],
        [
         1,
         "Dania 3-Shelf Cabinet, Mobile",
         5
        ],
        [
         3,
         "Eldon Light Bulb, Black",
         4
        ],
        [
         15,
         "HP Fax Machine, Laser",
         4
        ],
        [
         15,
         "Hewlett Fax Machine, Laser",
         4
        ],
        [
         1,
         "Safco Corner Shelving, Mobile",
         4
        ],
        [
         16,
         "Epson Phone, White",
         4
        ],
        [
         15,
         "HP Copy Machine, High-Speed",
         4
        ],
        [
         16,
         "Okidata Inkjet, White",
         3
        ],
        [
         4,
         "Barricks Coffee Table, Adjustable Height",
         3
        ],
        [
         10,
         "Novimex Shipping Labels, Laser Printer Compatible",
         4
        ],
        [
         10,
         "Smead Shipping Labels, Laser Printer Compatible",
         4
        ],
        [
         10,
         "Harbour Creations Legal Exhibit Labels, Adjustable",
         5
        ],
        [
         11,
         "Xerox Parchment Paper, Recycled",
         4
        ],
        [
         12,
         "Tenex Box, Industrial",
         5
        ],
        [
         16,
         "StarTech Card Printer, Durable",
         4
        ],
        [
         2,
         "SAFCO Swivel Stool, Red",
         4
        ],
        [
         3,
         "Eldon Stacking Tray, Black",
         5
        ],
        [
         1,
         "Dania Library with Doors, Metal",
         4
        ],
        [
         17,
         "Apple Audio Dock, VoIP",
         5
        ],
        [
         17,
         "Cisco Headset, VoIP",
         4
        ],
        [
         12,
         "Tenex File Cart, Single Width",
         8
        ],
        [
         13,
         "Stiletto Scissors, High Speed",
         4
        ],
        [
         10,
         "Avery Legal Exhibit Labels, Laser Printer Compatible",
         4
        ],
        [
         6,
         "Boston Canvas, Easy-Erase",
         5
        ],
        [
         6,
         "Stanley Sketch Pad, Water Color",
         6
        ],
        [
         13,
         "Kleencut Scissors, High Speed",
         5
        ],
        [
         8,
         "Jiffy Manila Envelope, with clear poly window",
         4
        ],
        [
         3,
         "Advantus Stacking Tray, Erganomic",
         8
        ],
        [
         4,
         "Bevis Wood Table, Adjustable Height",
         3
        ],
        [
         14,
         "Enermax Flash Drive, Bluetooth",
         5
        ],
        [
         16,
         "Epson Card Printer, White",
         4
        ],
        [
         16,
         "Panasonic Printer, White",
         5
        ],
        [
         1,
         "Sauder Floating Shelf Set, Metal",
         5
        ],
        [
         16,
         "StarTech Printer, White",
         2
        ],
        [
         7,
         "Cardinal Binder, Durable",
         5
        ],
        [
         9,
         "Stockwell Staples, Assorted Sizes",
         8
        ],
        [
         11,
         "SanDisk Memo Slips, Recycled",
         4
        ],
        [
         7,
         "Wilson Jones 3-Hole Punch, Recycled",
         5
        ],
        [
         7,
         "Acco Binder, Recycled",
         4
        ],
        [
         12,
         "Rogers Shelving, Wire Frame",
         4
        ],
        [
         10,
         "Avery Round Labels, Laser Printer Compatible",
         4
        ],
        [
         1,
         "Sauder Floating Shelf Set, Pine",
         5
        ],
        [
         15,
         "Brother Personal Copier, Digital",
         4
        ],
        [
         14,
         "Belkin Numeric Keypad, Erganomic",
         5
        ],
        [
         4,
         "Hon Round Table, Rectangular",
         2
        ],
        [
         6,
         "Stanley Pens, Easy-Erase",
         5
        ],
        [
         9,
         "OIC Staples, Assorted Sizes",
         6
        ],
        [
         10,
         "Harbour Creations Round Labels, Laser Printer Compatible",
         4
        ],
        [
         10,
         "Novimex File Folder Labels, Adjustable",
         5
        ],
        [
         14,
         "Memorex Memory Card, Erganomic",
         5
        ],
        [
         16,
         "Epson Phone, Durable",
         3
        ],
        [
         15,
         "Canon Fax Machine, Digital",
         5
        ],
        [
         4,
         "Chromcraft Computer Table, with Bottom Storage",
         2
        ],
        [
         15,
         "Sharp Ink, Digital",
         3
        ],
        [
         3,
         "Staples",
         2
        ],
        [
         5,
         "Hamilton Beach Stove, Black",
         5
        ],
        [
         10,
         "Hon Legal Exhibit Labels, Alphabetical",
         4
        ],
        [
         13,
         "Stiletto Shears, Steel",
         4
        ],
        [
         12,
         "Eldon Lockers, Wire Frame",
         5
        ],
        [
         10,
         "Avery Color Coded Labels, 5000 Label Set",
         5
        ],
        [
         12,
         "Tenex Folders, Blue",
         5
        ],
        [
         8,
         "Ames Peel and Seal, Recycled",
         4
        ],
        [
         17,
         "Cisco Office Telephone, Cordless",
         5
        ],
        [
         16,
         "StarTech Receipt Printer, White",
         3
        ],
        [
         1,
         "Ikea 3-Shelf Cabinet, Mobile",
         6
        ],
        [
         2,
         "Harbour Creations Rocking Chair, Red",
         5
        ],
        [
         17,
         "Motorola Smart Phone, Cordless",
         5
        ],
        [
         17,
         "Motorola Speaker Phone, with Caller ID",
         5
        ],
        [
         3,
         "Deflect-O Photo Frame, Durable",
         5
        ],
        [
         15,
         "Brother Wireless Fax, Digital",
         4
        ],
        [
         7,
         "Cardinal 3-Hole Punch, Durable",
         4
        ],
        [
         13,
         "Staples",
         3
        ],
        [
         10,
         "Avery Shipping Labels, Adjustable",
         4
        ],
        [
         6,
         "Binney & Smith Markers, Blue",
         4
        ],
        [
         9,
         "Stockwell Rubber Bands, Metal",
         8
        ],
        [
         6,
         "Boston Markers, Fluorescent",
         4
        ],
        [
         11,
         "Xerox Note Cards, Premium",
         4
        ],
        [
         6,
         "Stanley Canvas, Blue",
         4
        ],
        [
         13,
         "Acme Ruler, Serrated",
         4
        ],
        [
         14,
         "SanDisk Router, Bluetooth",
         4
        ],
        [
         1,
         "Safco Floating Shelf Set, Pine",
         4
        ],
        [
         15,
         "Sharp Personal Copier, Laser",
         4
        ],
        [
         1,
         "Bush Classic Bookcase, Pine",
         2
        ],
        [
         2,
         "Novimex Rocking Chair, Black",
         4
        ],
        [
         7,
         "Wilson Jones Index Tab, Recycled",
         6
        ],
        [
         6,
         "BIC Sketch Pad, Water Color",
         5
        ],
        [
         6,
         "Boston Pencil Sharpener, Fluorescent",
         4
        ],
        [
         12,
         "Smead File Cart, Blue",
         4
        ],
        [
         13,
         "Elite Box Cutter, Steel",
         3
        ],
        [
         2,
         "Novimex Steel Folding Chair, Adjustable",
         5
        ],
        [
         3,
         "Deflect-O Light Bulb, Durable",
         5
        ],
        [
         17,
         "Samsung Office Telephone, with Caller ID",
         6
        ],
        [
         15,
         "Hewlett Personal Copier, Color",
         4
        ],
        [
         15,
         "Hewlett Fax Machine, High-Speed",
         4
        ],
        [
         1,
         "Bush Stackable Bookrack, Pine",
         11
        ],
        [
         1,
         "Ikea Library with Doors, Pine",
         5
        ],
        [
         16,
         "Konica Printer, White",
         4
        ],
        [
         4,
         "Lesro Training Table, Rectangular",
         3
        ],
        [
         7,
         "Acco Binder, Clear",
         6
        ],
        [
         9,
         "Advantus Paper Clips, Assorted Sizes",
         9
        ],
        [
         9,
         "Accos Push Pins, Metal",
         4
        ],
        [
         11,
         "Eaton Note Cards, Premium",
         8
        ],
        [
         6,
         "Sanford Canvas, Water Color",
         6
        ],
        [
         13,
         "Kleencut Box Cutter, Steel",
         6
        ],
        [
         2,
         "Hon Rocking Chair, Red",
         5
        ],
        [
         3,
         "Deflect-O Clock, Duo Pack",
         4
        ],
        [
         1,
         "Sauder Stackable Bookrack, Pine",
         7
        ],
        [
         17,
         "Nokia Audio Dock, Full Size",
         4
        ],
        [
         16,
         "Panasonic Receipt Printer, Wireless",
         2
        ],
        [
         11,
         "Enermax Parchment Paper, Premium",
         4
        ],
        [
         8,
         "Cameo Mailers, with clear poly window",
         3
        ],
        [
         5,
         "Hoover Microwave, Black",
         4
        ],
        [
         13,
         "Fiskars Ruler, Serrated",
         4
        ],
        [
         9,
         "Stockwell Paper Clips, Assorted Sizes",
         16
        ],
        [
         12,
         "Tenex Box, Blue",
         5
        ],
        [
         7,
         "Ibico Binder, Clear",
         4
        ],
        [
         14,
         "SanDisk Keyboard, USB",
         5
        ],
        [
         2,
         "Harbour Creations Executive Leather Armchair, Adjustable",
         8
        ],
        [
         16,
         "Konica Printer, Red",
         4
        ],
        [
         5,
         "Hoover Refrigerator, White",
         4
        ],
        [
         7,
         "Cardinal Binder Covers, Clear",
         3
        ],
        [
         10,
         "Hon Removable Labels, Laser Printer Compatible",
         5
        ],
        [
         8,
         "GlobeWeis Peel and Seal, Recycled",
         4
        ],
        [
         12,
         "Fellowes Lockers, Blue",
         4
        ],
        [
         5,
         "Hamilton Beach Stove, Red",
         4
        ],
        [
         14,
         "Logitech Memory Card, Erganomic",
         5
        ],
        [
         3,
         "Advantus Frame, Durable",
         5
        ],
        [
         4,
         "Barricks Conference Table, Fully Assembled",
         3
        ],
        [
         17,
         "Cisco Audio Dock, with Caller ID",
         4
        ],
        [
         15,
         "Canon Wireless Fax, Digital",
         5
        ],
        [
         4,
         "Barricks Coffee Table, Fully Assembled",
         3
        ],
        [
         13,
         "Acme Ruler, Steel",
         4
        ],
        [
         10,
         "Harbour Creations Round Labels, Adjustable",
         4
        ],
        [
         8,
         "Cameo Peel and Seal, with clear poly window",
         5
        ],
        [
         7,
         "Acco 3-Hole Punch, Clear",
         4
        ],
        [
         10,
         "Novimex Legal Exhibit Labels, Alphabetical",
         3
        ],
        [
         12,
         "Smead Trays, Industrial",
         5
        ],
        [
         13,
         "Kleencut Shears, Serrated",
         5
        ],
        [
         12,
         "Eldon File Cart, Blue",
         4
        ],
        [
         7,
         "Ibico Binder Covers, Recycled",
         4
        ],
        [
         17,
         "Nokia Office Telephone, Cordless",
         4
        ],
        [
         1,
         "Ikea Floating Shelf Set, Traditional",
         4
        ],
        [
         7,
         "Cardinal 3-Hole Punch, Recycled",
         4
        ],
        [
         13,
         "Elite Ruler, High Speed",
         5
        ],
        [
         7,
         "Wilson Jones Binder, Durable",
         5
        ],
        [
         9,
         "OIC Clamps, Bulk Pack",
         5
        ],
        [
         13,
         "Elite Letter Opener, Steel",
         5
        ],
        [
         9,
         "Accos Thumb Tacks, Metal",
         4
        ],
        [
         10,
         "Smead Round Labels, Laser Printer Compatible",
         3
        ],
        [
         12,
         "Rogers Shelving, Single Width",
         5
        ],
        [
         7,
         "Acco Binding Machine, Economy",
         5
        ],
        [
         7,
         "Avery Binder, Clear",
         4
        ],
        [
         12,
         "Eldon Trays, Wire Frame",
         6
        ],
        [
         16,
         "Okidata Receipt Printer, Wireless",
         4
        ],
        [
         14,
         "Belkin Memory Card, Bluetooth",
         3
        ],
        [
         1,
         "Safco Library with Doors, Mobile",
         5
        ],
        [
         8,
         "GlobeWeis Interoffice Envelope, Recycled",
         4
        ],
        [
         10,
         "Harbour Creations Round Labels, Alphabetical",
         5
        ],
        [
         9,
         "Accos Paper Clips, Assorted Sizes",
         9
        ],
        [
         7,
         "Wilson Jones Binder Covers, Recycled",
         4
        ],
        [
         13,
         "Fiskars Trimmer, Easy Grip",
         4
        ],
        [
         9,
         "OIC Push Pins, Bulk Pack",
         5
        ],
        [
         2,
         "Harbour Creations Rocking Chair, Adjustable",
         4
        ],
        [
         4,
         "Hon Conference Table, Adjustable Height",
         4
        ],
        [
         2,
         "Novimex Bag Chairs, Set of Two",
         4
        ],
        [
         3,
         "Rubbermaid Door Stop, Black",
         4
        ],
        [
         17,
         "Apple Headset, VoIP",
         4
        ],
        [
         4,
         "Bevis Computer Table, Adjustable Height",
         2
        ],
        [
         16,
         "Panasonic Card Printer, Durable",
         4
        ],
        [
         2,
         "Office Star Chairmat, Black",
         4
        ],
        [
         8,
         "#10- 4 1/8\" x 9 1/2\" Recycled Envelopes",
         2
        ],
        [
         13,
         "Fiskars Shears, Steel",
         4
        ],
        [
         5,
         "Cuisinart Microwave, White",
         4
        ],
        [
         10,
         "Avery Legal Exhibit Labels, 5000 Label Set",
         6
        ],
        [
         13,
         "Acme Ruler, Easy Grip",
         3
        ],
        [
         3,
         "Rubbermaid Clock, Duo Pack",
         4
        ],
        [
         17,
         "Apple Smart Phone, Cordless",
         4
        ],
        [
         16,
         "Okidata Receipt Printer, Durable",
         3
        ],
        [
         4,
         "Barricks Wood Table, Fully Assembled",
         2
        ],
        [
         17,
         "Nokia Speaker Phone, Cordless",
         5
        ],
        [
         4,
         "Chromcraft Coffee Table, Rectangular",
         3
        ],
        [
         7,
         "Ibico Binding Machine, Durable",
         6
        ],
        [
         9,
         "Accos Clamps, Bulk Pack",
         5
        ],
        [
         7,
         "Wilson Jones Hole Reinforcements, Clear",
         5
        ],
        [
         7,
         "Acco Binding Machine, Clear",
         6
        ],
        [
         7,
         "Avery Hole Reinforcements, Recycled",
         5
        ],
        [
         2,
         "SAFCO Swivel Stool, Adjustable",
         4
        ],
        [
         4,
         "Bevis Coffee Table, Adjustable Height",
         3
        ],
        [
         4,
         "Chromcraft Coffee Table, Adjustable Height",
         4
        ],
        [
         16,
         "Konica Card Printer, White",
         3
        ],
        [
         16,
         "Panasonic Calculator, Red",
         4
        ],
        [
         15,
         "Hewlett Personal Copier, Digital",
         4
        ],
        [
         12,
         "Eldon Trays, Blue",
         4
        ],
        [
         8,
         "Kraft Clasp Envelope, Security-Tint",
         4
        ],
        [
         7,
         "Wilson Jones Index Tab, Economy",
         5
        ],
        [
         7,
         "Acco Index Tab, Durable",
         4
        ],
        [
         15,
         "HP Fax and Copier, Laser",
         4
        ],
        [
         14,
         "Logitech Flash Drive, Bluetooth",
         5
        ],
        [
         2,
         "Novimex Bag Chairs, Black",
         5
        ],
        [
         17,
         "Cisco Audio Dock, Full Size",
         4
        ],
        [
         16,
         "Konica Phone, Red",
         4
        ],
        [
         5,
         "KitchenAid Refrigerator, Black",
         4
        ],
        [
         11,
         "SanDisk Computer Printout Paper, Premium",
         4
        ],
        [
         6,
         "Sanford Markers, Blue",
         5
        ],
        [
         13,
         "Stiletto Letter Opener, Steel",
         5
        ],
        [
         6,
         "BIC Markers, Water Color",
         4
        ],
        [
         17,
         "Nokia Signal Booster, Cordless",
         4
        ],
        [
         17,
         "Samsung Office Telephone, VoIP",
         4
        ],
        [
         1,
         "Bush Library with Doors, Traditional",
         4
        ],
        [
         1,
         "Sauder Stackable Bookrack, Traditional",
         3
        ],
        [
         10,
         "Smead Removable Labels, Laser Printer Compatible",
         4
        ],
        [
         12,
         "Rogers File Cart, Industrial",
         4
        ],
        [
         8,
         "GlobeWeis Clasp Envelope, Set of 50",
         5
        ],
        [
         12,
         "Fellowes Shelving, Single Width",
         3
        ],
        [
         5,
         "Hamilton Beach Refrigerator, White",
         4
        ],
        [
         11,
         "Xerox Message Books, Premium",
         4
        ],
        [
         8,
         "Kraft Interoffice Envelope, Security-Tint",
         5
        ],
        [
         5,
         "KitchenAid Coffee Grinder, Black",
         4
        ],
        [
         4,
         "Bevis Round Table, Rectangular",
         2
        ],
        [
         4,
         "Lesro Round Table, Adjustable Height",
         3
        ],
        [
         4,
         "Lesro Coffee Table, Fully Assembled",
         3
        ],
        [
         8,
         "Kraft Manila Envelope, Set of 50",
         6
        ],
        [
         11,
         "Enermax Parchment Paper, 8.5 x 11",
         4
        ],
        [
         12,
         "Fellowes Trays, Industrial",
         4
        ],
        [
         8,
         "Kraft Clasp Envelope, Set of 50",
         3
        ],
        [
         4,
         "Hon Coffee Table, with Bottom Storage",
         3
        ],
        [
         11,
         "Enermax Memo Slips, Recycled",
         4
        ],
        [
         10,
         "Novimex Shipping Labels, Adjustable",
         6
        ],
        [
         3,
         "Advantus Photo Frame, Duo Pack",
         6
        ],
        [
         14,
         "Memorex Flash Drive, USB",
         6
        ],
        [
         6,
         "Boston Pens, Water Color",
         5
        ],
        [
         12,
         "Tenex Folders, Single Width",
         4
        ],
        [
         12,
         "Smead Lockers, Blue",
         4
        ],
        [
         8,
         "Cameo Clasp Envelope, Security-Tint",
         4
        ],
        [
         7,
         "Acco Index Tab, Economy",
         5
        ],
        [
         11,
         "SanDisk Memo Slips, 8.5 x 11",
         4
        ],
        [
         16,
         "Panasonic Card Printer, Red",
         3
        ],
        [
         17,
         "Samsung Speaker Phone, Cordless",
         5
        ],
        [
         6,
         "Sanford Sketch Pad, Easy-Erase",
         4
        ],
        [
         12,
         "Eldon Shelving, Blue",
         5
        ],
        [
         9,
         "Accos Push Pins, Bulk Pack",
         4
        ],
        [
         2,
         "SAFCO Steel Folding Chair, Red",
         5
        ],
        [
         16,
         "Konica Printer, Wireless",
         3
        ],
        [
         14,
         "Memorex Numeric Keypad, Erganomic",
         4
        ],
        [
         1,
         "Bush Classic Bookcase, Metal",
         5
        ],
        [
         16,
         "Okidata Phone, Wireless",
         4
        ],
        [
         1,
         "Dania 3-Shelf Cabinet, Traditional",
         3
        ],
        [
         16,
         "Panasonic Phone, White",
         2
        ],
        [
         6,
         "Sanford Pencil Sharpener, Fluorescent",
         4
        ],
        [
         9,
         "Advantus Push Pins, Bulk Pack",
         3
        ],
        [
         6,
         "Binney & Smith Pens, Blue",
         5
        ],
        [
         11,
         "SanDisk Memo Slips, Premium",
         5
        ],
        [
         11,
         "SanDisk Message Books, 8.5 x 11",
         4
        ],
        [
         5,
         "Hamilton Beach Coffee Grinder, Red",
         4
        ],
        [
         11,
         "SanDisk Message Books, Recycled",
         4
        ],
        [
         9,
         "Accos Staples, Bulk Pack",
         4
        ],
        [
         13,
         "Elite Letter Opener, Easy Grip",
         8
        ],
        [
         5,
         "Hoover Toaster, Black",
         3
        ],
        [
         14,
         "SanDisk Memory Card, Programmable",
         4
        ],
        [
         2,
         "Hon Bag Chairs, Set of Two",
         4
        ],
        [
         2,
         "SAFCO Bag Chairs, Red",
         5
        ],
        [
         2,
         "Office Star Steel Folding Chair, Black",
         4
        ],
        [
         5,
         "Hoover Coffee Grinder, White",
         4
        ],
        [
         7,
         "Ibico Binder, Recycled",
         5
        ],
        [
         9,
         "Accos Rubber Bands, Metal",
         5
        ],
        [
         5,
         "Cuisinart Refrigerator, Silver",
         4
        ],
        [
         9,
         "Accos Push Pins, 12 Pack",
         4
        ],
        [
         5,
         "Cuisinart Toaster, White",
         5
        ],
        [
         8,
         "Jiffy Manila Envelope, Security-Tint",
         5
        ],
        [
         12,
         "Rogers Folders, Wire Frame",
         5
        ],
        [
         3,
         "Advantus Photo Frame, Durable",
         4
        ],
        [
         3,
         "Eldon Photo Frame, Durable",
         3
        ],
        [
         6,
         "Boston Highlighters, Water Color",
         6
        ],
        [
         6,
         "Sanford Pens, Easy-Erase",
         3
        ],
        [
         7,
         "Acco Binder Covers, Economy",
         5
        ],
        [
         7,
         "Ibico Binder Covers, Durable",
         5
        ],
        [
         10,
         "Avery Shipping Labels, 5000 Label Set",
         5
        ],
        [
         12,
         "Fellowes File Cart, Blue",
         5
        ],
        [
         13,
         "Stiletto Ruler, Serrated",
         4
        ],
        [
         10,
         "Avery File Folder Labels, Alphabetical",
         4
        ],
        [
         17,
         "Samsung Headset, with Caller ID",
         5
        ],
        [
         1,
         "Safco Corner Shelving, Traditional",
         5
        ],
        [
         15,
         "Sharp Fax Machine, High-Speed",
         4
        ],
        [
         15,
         "Sharp Fax and Copier, Laser",
         4
        ],
        [
         2,
         "Hon Executive Leather Armchair, Red",
         5
        ],
        [
         4,
         "Lesro Conference Table, Rectangular",
         2
        ],
        [
         10,
         "Avery Round Labels, Adjustable",
         4
        ],
        [
         7,
         "Avery Hole Reinforcements, Durable",
         5
        ],
        [
         7,
         "Ibico Binding Machine, Clear",
         4
        ],
        [
         8,
         "GlobeWeis Interoffice Envelope, Set of 50",
         5
        ],
        [
         3,
         "Rubbermaid Clock, Black",
         4
        ],
        [
         2,
         "Harbour Creations Executive Leather Armchair, Red",
         4
        ],
        [
         1,
         "Bush Corner Shelving, Pine",
         6
        ],
        [
         4,
         "Bevis Computer Table, Fully Assembled",
         6
        ],
        [
         16,
         "Konica Calculator, White",
         5
        ],
        [
         13,
         "Acme Letter Opener, Steel",
         5
        ],
        [
         12,
         "Eldon Box, Blue",
         5
        ],
        [
         8,
         "Ames Clasp Envelope, Security-Tint",
         6
        ],
        [
         13,
         "Fiskars Letter Opener, Easy Grip",
         10
        ],
        [
         1,
         "Safco Stackable Bookrack, Pine",
         7
        ],
        [
         16,
         "Epson Card Printer, Wireless",
         4
        ],
        [
         14,
         "Belkin Memory Card, Programmable",
         5
        ],
        [
         15,
         "Canon Wireless Fax, Color",
         4
        ],
        [
         15,
         "Hewlett Ink, Laser",
         4
        ],
        [
         17,
         "Nokia Office Telephone, Full Size",
         4
        ],
        [
         1,
         "Dania Library with Doors, Pine",
         5
        ],
        [
         4,
         "Barricks Round Table, with Bottom Storage",
         2
        ],
        [
         16,
         "Konica Inkjet, Durable",
         3
        ],
        [
         10,
         "Harbour Creations File Folder Labels, Alphabetical",
         5
        ],
        [
         10,
         "Hon Shipping Labels, 5000 Label Set",
         5
        ],
        [
         8,
         "Jiffy Clasp Envelope, Security-Tint",
         4
        ],
        [
         11,
         "Green Bar Memo Slips, 8.5 x 11",
         5
        ],
        [
         13,
         "Stiletto Scissors, Easy Grip",
         5
        ],
        [
         8,
         "Kraft Peel and Seal, Recycled",
         5
        ],
        [
         11,
         "Green Bar Note Cards, Multicolor",
         5
        ],
        [
         14,
         "Enermax Mouse, Bluetooth",
         5
        ],
        [
         17,
         "Nokia Speaker Phone, Full Size",
         4
        ],
        [
         4,
         "Lesro Coffee Table, with Bottom Storage",
         4
        ],
        [
         1,
         "Ikea Stackable Bookrack, Metal",
         6
        ],
        [
         16,
         "Okidata C610n Printer",
         2
        ],
        [
         10,
         "Smead File Folder Labels, 5000 Label Set",
         5
        ],
        [
         6,
         "Stanley Canvas, Water Color",
         5
        ],
        [
         9,
         "Accos Clamps, 12 Pack",
         4
        ],
        [
         9,
         "Stockwell Paper Clips, Metal",
         8
        ],
        [
         13,
         "Elite Trimmer, High Speed",
         4
        ],
        [
         8,
         "Kraft Interoffice Envelope, with clear poly window",
         5
        ],
        [
         5,
         "Breville Stove, Black",
         4
        ],
        [
         10,
         "Novimex Removable Labels, Laser Printer Compatible",
         4
        ],
        [
         2,
         "Novimex Chairmat, Red",
         5
        ],
        [
         4,
         "Lesro Training Table, Fully Assembled",
         4
        ],
        [
         3,
         "Tenex Frame, Durable",
         4
        ],
        [
         17,
         "Samsung Smart Phone, VoIP",
         5
        ],
        [
         4,
         "Hon Training Table, Fully Assembled",
         3
        ],
        [
         16,
         "Okidata Phone, Durable",
         3
        ],
        [
         15,
         "Hewlett Copy Machine, Laser",
         3
        ],
        [
         3,
         "Eldon Light Bulb, Erganomic",
         5
        ],
        [
         17,
         "Nokia Speaker Phone, with Caller ID",
         4
        ],
        [
         10,
         "Hon Color Coded Labels, 5000 Label Set",
         5
        ],
        [
         11,
         "Eaton Message Books, Recycled",
         4
        ],
        [
         10,
         "Harbour Creations Legal Exhibit Labels, Alphabetical",
         4
        ],
        [
         11,
         "Eaton Cards & Envelopes, Premium",
         2
        ],
        [
         12,
         "Fellowes Box, Industrial",
         4
        ],
        [
         1,
         "Safco Classic Bookcase, Metal",
         5
        ],
        [
         3,
         "Deflect-O Photo Frame, Black",
         3
        ],
        [
         3,
         "Rubbermaid Light Bulb, Black",
         4
        ],
        [
         3,
         "Advantus Clock, Duo Pack",
         5
        ],
        [
         15,
         "Canon Copy Machine, Laser",
         4
        ],
        [
         4,
         "Hon Coffee Table, Fully Assembled",
         2
        ],
        [
         4,
         "Hon Round Table, with Bottom Storage",
         4
        ],
        [
         8,
         "Cameo Mailers, Security-Tint",
         3
        ],
        [
         13,
         "Acme Scissors, High Speed",
         4
        ],
        [
         10,
         "Hon Removable Labels, 5000 Label Set",
         4
        ],
        [
         5,
         "Cuisinart Microwave, Silver",
         4
        ],
        [
         7,
         "Avery Binder Covers, Durable",
         4
        ],
        [
         15,
         "Canon Copy Machine, Color",
         5
        ],
        [
         17,
         "Cisco Speaker Phone, Cordless",
         5
        ],
        [
         3,
         "Advantus Light Bulb, Duo Pack",
         4
        ],
        [
         15,
         "HP Personal Copier, Laser",
         4
        ],
        [
         15,
         "Canon Fax and Copier, Laser",
         4
        ],
        [
         1,
         "Dania 3-Shelf Cabinet, Pine",
         5
        ],
        [
         5,
         "Breville Blender, Black",
         6
        ],
        [
         7,
         "Cardinal Binder Covers, Economy",
         5
        ],
        [
         14,
         "Enermax Mouse, Erganomic",
         5
        ],
        [
         3,
         "Tenex Clock, Erganomic",
         4
        ],
        [
         7,
         "Cardinal Binding Machine, Durable",
         4
        ],
        [
         11,
         "Enermax Note Cards, 8.5 x 11",
         4
        ],
        [
         12,
         "Fellowes Trays, Wire Frame",
         4
        ],
        [
         8,
         "GlobeWeis Clasp Envelope, Recycled",
         4
        ],
        [
         6,
         "Boston Highlighters, Blue",
         4
        ],
        [
         6,
         "Prang Drawing Pencil Set",
         2
        ],
        [
         5,
         "KitchenAid Toaster, Silver",
         4
        ],
        [
         4,
         "Bevis Conference Table, with Bottom Storage",
         3
        ],
        [
         2,
         "Harbour Creations Swivel Stool, Adjustable",
         4
        ],
        [
         15,
         "HP Copy Machine, Laser",
         4
        ],
        [
         6,
         "Sanford Highlighters, Blue",
         5
        ],
        [
         7,
         "Avery Binding Machine, Economy",
         5
        ],
        [
         6,
         "Boston Pencil Sharpener, Water Color",
         10
        ],
        [
         2,
         "SAFCO Chairmat, Black",
         5
        ],
        [
         17,
         "Motorola Smart Phone, Full Size",
         10
        ],
        [
         16,
         "Epson Card Printer, Durable",
         4
        ],
        [
         15,
         "Brother Fax and Copier, Digital",
         4
        ],
        [
         1,
         "Safco Stackable Bookrack, Mobile",
         4
        ],
        [
         4,
         "Barricks Training Table, Adjustable Height",
         2
        ],
        [
         6,
         "BIC Pens, Fluorescent",
         4
        ],
        [
         6,
         "BIC Highlighters, Fluorescent",
         4
        ],
        [
         6,
         "Sanford Highlighters, Easy-Erase",
         4
        ],
        [
         12,
         "Tenex Lockers, Blue",
         4
        ],
        [
         10,
         "Smead File Folder Labels, Adjustable",
         4
        ],
        [
         12,
         "Fellowes Trays, Single Width",
         5
        ],
        [
         12,
         "Tenex Shelving, Single Width",
         4
        ],
        [
         8,
         "Jiffy Clasp Envelope, Set of 50",
         5
        ],
        [
         12,
         "Fellowes Box, Single Width",
         6
        ],
        [
         12,
         "Eldon Folders, Industrial",
         5
        ],
        [
         4,
         "Bevis Wood Table, Fully Assembled",
         4
        ],
        [
         9,
         "Stockwell Clamps, Metal",
         9
        ],
        [
         6,
         "Stanley Highlighters, Fluorescent",
         5
        ],
        [
         10,
         "Hon Color Coded Labels, Laser Printer Compatible",
         4
        ],
        [
         6,
         "Stanley Canvas, Fluorescent",
         4
        ],
        [
         2,
         "Office Star Chairmat, Set of Two",
         5
        ],
        [
         15,
         "Canon Personal Copier, High-Speed",
         4
        ],
        [
         17,
         "Apple Signal Booster, Cordless",
         5
        ],
        [
         16,
         "Panasonic Receipt Printer, Red",
         4
        ],
        [
         14,
         "Belkin Router, Erganomic",
         5
        ],
        [
         8,
         "GlobeWeis Mailers, with clear poly window",
         6
        ],
        [
         5,
         "Breville Stove, Red",
         3
        ],
        [
         13,
         "Stiletto Letter Opener, Easy Grip",
         9
        ],
        [
         12,
         "Tenex Box, Single Width",
         4
        ],
        [
         6,
         "Stanley Markers, Water Color",
         4
        ],
        [
         17,
         "Motorola Audio Dock, Cordless",
         5
        ],
        [
         7,
         "Cardinal Binding Machine, Clear",
         5
        ],
        [
         11,
         "Enermax Message Books, Multicolor",
         4
        ],
        [
         8,
         "Cameo Manila Envelope, Security-Tint",
         4
        ],
        [
         5,
         "Breville Blender, White",
         4
        ],
        [
         13,
         "Fiskars Box Cutter, Serrated",
         5
        ],
        [
         13,
         "Acme Letter Opener, Serrated",
         3
        ],
        [
         17,
         "Motorola Signal Booster, VoIP",
         5
        ],
        [
         15,
         "Hewlett Fax and Copier, Laser",
         5
        ],
        [
         3,
         "Rubbermaid Door Stop, Duo Pack",
         4
        ],
        [
         17,
         "Samsung Audio Dock, with Caller ID",
         4
        ],
        [
         16,
         "Konica Receipt Printer, White",
         3
        ],
        [
         13,
         "Stiletto Scissors, Serrated",
         4
        ],
        [
         6,
         "Binney & Smith Canvas, Blue",
         5
        ],
        [
         8,
         "Ames Business Envelopes, Recycled",
         8
        ],
        [
         11,
         "Xerox Computer Printout Paper, Multicolor",
         5
        ],
        [
         6,
         "Boston Markers, Water Color",
         4
        ],
        [
         14,
         "Memorex Mouse, Erganomic",
         5
        ],
        [
         16,
         "Okidata Card Printer, Red",
         3
        ],
        [
         2,
         "SAFCO Rocking Chair, Red",
         5
        ],
        [
         2,
         "SAFCO Swivel Stool, Black",
         4
        ],
        [
         3,
         "Deflect-O Frame, Black",
         4
        ],
        [
         3,
         "Eldon Clock, Durable",
         4
        ],
        [
         11,
         "SanDisk Cards & Envelopes, Recycled",
         5
        ],
        [
         9,
         "Stockwell Staples, 12 Pack",
         9
        ],
        [
         8,
         "Ames Manila Envelope, Recycled",
         4
        ],
        [
         5,
         "Hoover Stove, Silver",
         3
        ],
        [
         1,
         "Dania Corner Shelving, Traditional",
         3
        ],
        [
         10,
         "Novimex File Folder Labels, Alphabetical",
         4
        ],
        [
         13,
         "Stiletto Box Cutter, High Speed",
         5
        ],
        [
         9,
         "OIC Paper Clips, Metal",
         4
        ],
        [
         6,
         "Boston Pens, Easy-Erase",
         5
        ],
        [
         9,
         "Advantus Push Pins, Assorted Sizes",
         5
        ],
        [
         9,
         "Advantus Clamps, Bulk Pack",
         5
        ],
        [
         5,
         "Cuisinart Stove, Red",
         4
        ],
        [
         15,
         "Brother Copy Machine, Color",
         10
        ],
        [
         3,
         "Advantus Door Stop, Black",
         4
        ],
        [
         2,
         "Hon Swivel Stool, Black",
         5
        ],
        [
         15,
         "HP Ink, Digital",
         4
        ],
        [
         2,
         "Hon Chairmat, Black",
         3
        ],
        [
         12,
         "Fellowes Lockers, Single Width",
         4
        ],
        [
         6,
         "Binney & Smith Highlighters, Fluorescent",
         3
        ],
        [
         10,
         "Hon Round Labels, Laser Printer Compatible",
         5
        ],
        [
         9,
         "OIC Rubber Bands, Bulk Pack",
         4
        ],
        [
         7,
         "Acco Binder Covers, Clear",
         3
        ],
        [
         3,
         "Eldon Stacking Tray, Durable",
         4
        ],
        [
         2,
         "SAFCO Rocking Chair, Set of Two",
         4
        ],
        [
         17,
         "Motorola Office Telephone, VoIP",
         4
        ],
        [
         12,
         "Tenex Folders, Industrial",
         5
        ],
        [
         14,
         "Memorex Router, Erganomic",
         5
        ],
        [
         17,
         "Apple Speaker Phone, VoIP",
         5
        ],
        [
         3,
         "Rubbermaid Door Stop, Erganomic",
         4
        ],
        [
         2,
         "Office Star Swivel Stool, Black",
         4
        ],
        [
         11,
         "Xerox Computer Printout Paper, Recycled",
         4
        ],
        [
         11,
         "Eaton Note Cards, 8.5 x 11",
         5
        ],
        [
         10,
         "Smead Color Coded Labels, Adjustable",
         4
        ],
        [
         15,
         "HP Ink, Color",
         4
        ],
        [
         2,
         "Office Star Bag Chairs, Red",
         4
        ],
        [
         1,
         "Bush Floating Shelf Set, Pine",
         4
        ],
        [
         4,
         "Lesro Training Table, with Bottom Storage",
         3
        ],
        [
         4,
         "Chromcraft Round Table, with Bottom Storage",
         2
        ],
        [
         12,
         "Fellowes Shelving, Blue",
         3
        ],
        [
         11,
         "Eaton Parchment Paper, Premium",
         5
        ],
        [
         17,
         "Apple Headset, with Caller ID",
         5
        ],
        [
         1,
         "Bush Classic Bookcase, Mobile",
         4
        ],
        [
         1,
         "Sauder Corner Shelving, Metal",
         3
        ],
        [
         16,
         "Okidata Card Printer, White",
         5
        ],
        [
         16,
         "Konica Card Printer, Wireless",
         4
        ],
        [
         4,
         "Hon Training Table, Adjustable Height",
         3
        ],
        [
         4,
         "Barricks Conference Table, with Bottom Storage",
         2
        ],
        [
         12,
         "Staples",
         2
        ],
        [
         7,
         "Wilson Jones Hole Reinforcements, Economy",
         4
        ],
        [
         11,
         "Eaton Message Books, 8.5 x 11",
         4
        ],
        [
         10,
         "Hon Removable Labels, Adjustable",
         9
        ],
        [
         12,
         "Tenex Lockers, Single Width",
         4
        ],
        [
         17,
         "Nokia Headset, with Caller ID",
         4
        ],
        [
         2,
         "Office Star Bag Chairs, Adjustable",
         6
        ],
        [
         3,
         "Tenex Light Bulb, Durable",
         4
        ],
        [
         11,
         "Enermax Message Books, 8.5 x 11",
         2
        ],
        [
         16,
         "StarTech Printer, Wireless",
         3
        ],
        [
         12,
         "Eldon File Cart, Industrial",
         4
        ],
        [
         7,
         "Ibico Index Tab, Clear",
         9
        ],
        [
         7,
         "Wilson Jones Hole Reinforcements, Durable",
         5
        ],
        [
         7,
         "Wilson Jones Index Tab, Clear",
         5
        ],
        [
         2,
         "Harbour Creations Bag Chairs, Set of Two",
         4
        ],
        [
         3,
         "Advantus Clock, Black",
         4
        ],
        [
         16,
         "Panasonic Receipt Printer, Durable",
         5
        ],
        [
         2,
         "Office Star Bag Chairs, Black",
         4
        ],
        [
         15,
         "Hewlett Wireless Fax, Laser",
         5
        ],
        [
         17,
         "Motorola Signal Booster, with Caller ID",
         3
        ],
        [
         11,
         "Enermax Memo Slips, Premium",
         4
        ],
        [
         8,
         "Kraft Clasp Envelope, with clear poly window",
         6
        ],
        [
         5,
         "Breville Microwave, White",
         4
        ],
        [
         9,
         "Accos Thumb Tacks, Bulk Pack",
         4
        ],
        [
         15,
         "Hewlett Ink, Color",
         4
        ],
        [
         2,
         "Novimex Rocking Chair, Adjustable",
         4
        ],
        [
         1,
         "Ikea Stackable Bookrack, Pine",
         4
        ],
        [
         17,
         "Motorola Signal Booster, Cordless",
         4
        ],
        [
         4,
         "Chromcraft Computer Table, Adjustable Height",
         3
        ],
        [
         16,
         "Epson Printer, White",
         5
        ],
        [
         9,
         "Advantus Rubber Bands, Metal",
         5
        ],
        [
         11,
         "Enermax Memo Slips, 8.5 x 11",
         6
        ],
        [
         11,
         "Green Bar Cards & Envelopes, Multicolor",
         4
        ],
        [
         13,
         "Elite Scissors, Easy Grip",
         4
        ],
        [
         12,
         "Fellowes Folders, Industrial",
         4
        ],
        [
         8,
         "Jiffy Mailers, Recycled",
         4
        ],
        [
         5,
         "Hamilton Beach Blender, White",
         3
        ],
        [
         2,
         "Novimex Chairmat, Adjustable",
         4
        ],
        [
         14,
         "Enermax Numeric Keypad, Bluetooth",
         9
        ],
        [
         6,
         "Stanley Pens, Blue",
         6
        ],
        [
         9,
         "Advantus Staples, Metal",
         5
        ],
        [
         8,
         "Ames Clasp Envelope, Set of 50",
         4
        ],
        [
         5,
         "Hoover Refrigerator, Red",
         3
        ],
        [
         17,
         "Motorola Office Telephone, Full Size",
         5
        ],
        [
         2,
         "Office Star Swivel Stool, Red",
         4
        ],
        [
         14,
         "Belkin Flash Drive, Programmable",
         5
        ],
        [
         4,
         "Barricks Training Table, with Bottom Storage",
         4
        ],
        [
         14,
         "Memorex Router, Programmable",
         4
        ],
        [
         15,
         "HP Fax and Copier, Digital",
         4
        ],
        [
         13,
         "Fiskars Scissors, Easy Grip",
         3
        ],
        [
         5,
         "Cuisinart Coffee Grinder, Black",
         4
        ],
        [
         5,
         "Hoover Stove, Black",
         4
        ],
        [
         3,
         "Advantus Frame, Duo Pack",
         4
        ],
        [
         2,
         "Harbour Creations Rocking Chair, Black",
         5
        ],
        [
         16,
         "StarTech Card Printer, White",
         5
        ],
        [
         2,
         "Harbour Creations Steel Folding Chair, Set of Two",
         6
        ],
        [
         2,
         "Hon Swivel Stool, Set of Two",
         4
        ],
        [
         15,
         "Brother Fax Machine, High-Speed",
         5
        ],
        [
         16,
         "Konica Card Printer, Red",
         6
        ],
        [
         6,
         "Boston Highlighters, Fluorescent",
         5
        ],
        [
         6,
         "Boston Markers, Easy-Erase",
         4
        ],
        [
         5,
         "Breville Stove, White",
         4
        ],
        [
         15,
         "Canon Fax Machine, Laser",
         5
        ],
        [
         3,
         "Deflect-O Clock, Black",
         5
        ],
        [
         6,
         "Boston Pencil Sharpener, Easy-Erase",
         4
        ],
        [
         10,
         "Avery File Folder Labels, 5000 Label Set",
         5
        ],
        [
         5,
         "KitchenAid Microwave, White",
         4
        ],
        [
         3,
         "Eldon Frame, Black",
         3
        ],
        [
         4,
         "Barricks Round Table, Fully Assembled",
         3
        ],
        [
         1,
         "Ikea Classic Bookcase, Metal",
         5
        ],
        [
         17,
         "Cisco Signal Booster, with Caller ID",
         5
        ],
        [
         6,
         "BIC Canvas, Easy-Erase",
         5
        ],
        [
         13,
         "Stiletto Box Cutter, Steel",
         4
        ],
        [
         13,
         "Elite Box Cutter, High Speed",
         3
        ],
        [
         10,
         "Novimex Round Labels, Adjustable",
         4
        ],
        [
         5,
         "Cuisinart Toaster, Red",
         3
        ],
        [
         12,
         "Rogers Lockers, Single Width",
         5
        ],
        [
         1,
         "Safco Floating Shelf Set, Traditional",
         5
        ],
        [
         14,
         "Logitech Flash Drive, Erganomic",
         5
        ],
        [
         17,
         "Apple Speaker Phone, Cordless",
         6
        ],
        [
         4,
         "Hon Computer Table, with Bottom Storage",
         2
        ],
        [
         9,
         "Advantus Rubber Bands, 12 Pack",
         6
        ],
        [
         12,
         "Smead Shelving, Industrial",
         4
        ],
        [
         5,
         "Cuisinart Stove, Silver",
         4
        ],
        [
         10,
         "Smead Shipping Labels, 5000 Label Set",
         5
        ],
        [
         6,
         "BIC Markers, Blue",
         4
        ],
        [
         8,
         "Ames Mailers, with clear poly window",
         4
        ],
        [
         1,
         "Ikea 3-Shelf Cabinet, Metal",
         4
        ],
        [
         2,
         "Harbour Creations Swivel Stool, Black",
         5
        ],
        [
         15,
         "HP Fax and Copier, High-Speed",
         4
        ],
        [
         2,
         "Harbour Creations Swivel Stool, Red",
         4
        ],
        [
         3,
         "Rubbermaid Photo Frame, Duo Pack",
         5
        ],
        [
         14,
         "Logitech Flash Drive, USB",
         4
        ],
        [
         13,
         "Kleencut Letter Opener, Easy Grip",
         8
        ],
        [
         7,
         "Cardinal Index Tab, Economy",
         5
        ],
        [
         12,
         "Tenex Shelving, Industrial",
         4
        ],
        [
         8,
         "GlobeWeis Mailers, Security-Tint",
         4
        ],
        [
         8,
         "Jiffy Interoffice Envelope, Recycled",
         4
        ],
        [
         10,
         "Hon Color Coded Labels, Alphabetical",
         4
        ],
        [
         5,
         "Hoover Microwave, Red",
         4
        ],
        [
         16,
         "Panasonic Printer, Durable",
         4
        ],
        [
         1,
         "Sauder 3-Shelf Cabinet, Pine",
         4
        ],
        [
         5,
         "Hamilton Beach Microwave, Red",
         3
        ],
        [
         6,
         "Boston Canvas, Water Color",
         4
        ],
        [
         12,
         "Rogers Box, Single Width",
         4
        ],
        [
         12,
         "Smead Folders, Industrial",
         5
        ],
        [
         11,
         "SanDisk Cards & Envelopes, Premium",
         4
        ],
        [
         16,
         "Konica Card Printer, Durable",
         4
        ],
        [
         2,
         "Novimex Rocking Chair, Red",
         3
        ],
        [
         1,
         "Sauder Corner Shelving, Traditional",
         4
        ],
        [
         15,
         "HP Personal Copier, Digital",
         5
        ],
        [
         15,
         "Brother Fax and Copier, Laser",
         4
        ],
        [
         4,
         "Lesro Coffee Table, Rectangular",
         2
        ],
        [
         9,
         "OIC Paper Clips, 12 Pack",
         5
        ],
        [
         8,
         "Cameo Mailers, Set of 50",
         5
        ],
        [
         8,
         "GlobeWeis Business Envelopes, Security-Tint",
         5
        ],
        [
         14,
         "Logitech Mouse, Bluetooth",
         4
        ],
        [
         2,
         "Hon Bag Chairs, Red",
         6
        ],
        [
         3,
         "Deflect-O Clock, Erganomic",
         4
        ],
        [
         4,
         "Bevis Training Table, Fully Assembled",
         3
        ],
        [
         16,
         "StarTech Calculator, Red",
         4
        ],
        [
         7,
         "Cardinal Index Tab, Clear",
         9
        ],
        [
         13,
         "Kleencut Scissors, Serrated",
         4
        ],
        [
         10,
         "Smead Legal Exhibit Labels, Alphabetical",
         4
        ],
        [
         13,
         "Stiletto Shears, Easy Grip",
         3
        ],
        [
         12,
         "Smead Lockers, Industrial",
         4
        ],
        [
         2,
         "Harbour Creations Rocking Chair, Set of Two",
         4
        ],
        [
         16,
         "Epson Receipt Printer, White",
         3
        ],
        [
         16,
         "Konica Receipt Printer, Durable",
         3
        ],
        [
         2,
         "Novimex Swivel Stool, Set of Two",
         5
        ],
        [
         2,
         "Novimex Rocking Chair, Set of Two",
         4
        ],
        [
         16,
         "Okidata Inkjet, Durable",
         3
        ],
        [
         17,
         "Cisco Smart Phone, Cordless",
         4
        ],
        [
         6,
         "BIC Pens, Blue",
         4
        ],
        [
         10,
         "Avery Round Labels, Alphabetical",
         4
        ],
        [
         13,
         "Stiletto Trimmer, Easy Grip",
         4
        ],
        [
         11,
         "Enermax Parchment Paper, Multicolor",
         5
        ],
        [
         14,
         "Memorex Numeric Keypad, USB",
         4
        ],
        [
         15,
         "Sharp Copy Machine, High-Speed",
         4
        ],
        [
         16,
         "StarTech Inkjet, Wireless",
         9
        ],
        [
         14,
         "Memorex Router, Bluetooth",
         4
        ],
        [
         1,
         "Sauder Library with Doors, Traditional",
         5
        ],
        [
         15,
         "Hewlett Fax and Copier, Digital",
         4
        ],
        [
         4,
         "Barricks Wood Table, Rectangular",
         2
        ],
        [
         14,
         "Memorex Mouse, USB",
         3
        ],
        [
         9,
         "OIC Clamps, Assorted Sizes",
         4
        ],
        [
         6,
         "Binney & Smith Canvas, Water Color",
         4
        ],
        [
         12,
         "Rogers File Cart, Blue",
         3
        ],
        [
         9,
         "OIC Thumb Tacks, Bulk Pack",
         4
        ],
        [
         6,
         "Stanley Markers, Fluorescent",
         3
        ],
        [
         17,
         "Apple Speaker Phone, Full Size",
         5
        ],
        [
         14,
         "Belkin Router, USB",
         5
        ],
        [
         4,
         "Barricks Conference Table, Adjustable Height",
         3
        ],
        [
         9,
         "Stockwell Rubber Bands, Bulk Pack",
         8
        ],
        [
         10,
         "Harbour Creations Removable Labels, Laser Printer Compatible",
         4
        ],
        [
         10,
         "Novimex File Folder Labels, Laser Printer Compatible",
         5
        ],
        [
         16,
         "Konica Receipt Printer, Wireless",
         4
        ],
        [
         15,
         "Sharp Personal Copier, High-Speed",
         4
        ],
        [
         3,
         "Eldon Door Stop, Duo Pack",
         5
        ],
        [
         17,
         "Motorola Signal Booster, Full Size",
         5
        ],
        [
         5,
         "Hoover Microwave, Silver",
         4
        ],
        [
         6,
         "BIC Highlighters, Water Color",
         5
        ],
        [
         5,
         "Breville Refrigerator, White",
         4
        ],
        [
         17,
         "Cisco Office Telephone, VoIP",
         5
        ],
        [
         3,
         "Advantus Light Bulb, Durable",
         4
        ],
        [
         15,
         "HP Fax and Copier, Color",
         4
        ],
        [
         1,
         "Sauder Library with Doors, Pine",
         3
        ],
        [
         16,
         "Epson Receipt Printer, Red",
         3
        ],
        [
         6,
         "Sanford Pens, Water Color",
         4
        ],
        [
         11,
         "Xerox Cards & Envelopes, Premium",
         3
        ],
        [
         13,
         "Fiskars Scissors, Steel",
         5
        ],
        [
         5,
         "Cuisinart Toaster, Black",
         4
        ],
        [
         2,
         "Hon Executive Leather Armchair, Adjustable",
         9
        ],
        [
         3,
         "Advantus Door Stop, Durable",
         5
        ],
        [
         16,
         "StarTech Calculator, Durable",
         3
        ],
        [
         7,
         "Avery 3-Hole Punch, Economy",
         4
        ],
        [
         6,
         "Binney & Smith Pencil Sharpener, Water Color",
         8
        ],
        [
         6,
         "BIC Canvas, Fluorescent",
         4
        ],
        [
         13,
         "Stiletto Box Cutter, Serrated",
         3
        ],
        [
         6,
         "BIC Pencil Sharpener, Fluorescent",
         4
        ],
        [
         3,
         "Rubbermaid Frame, Erganomic",
         5
        ],
        [
         4,
         "Chromcraft Wood Table, Fully Assembled",
         3
        ],
        [
         9,
         "OIC Thumb Tacks, 12 Pack",
         5
        ],
        [
         11,
         "SanDisk Computer Printout Paper, 8.5 x 11",
         5
        ],
        [
         5,
         "Hamilton Beach Coffee Grinder, Silver",
         4
        ],
        [
         11,
         "SanDisk Parchment Paper, Multicolor",
         5
        ],
        [
         14,
         "Belkin Mouse, USB",
         5
        ],
        [
         3,
         "Rubbermaid Frame, Black",
         4
        ],
        [
         8,
         "GlobeWeis Mailers, Set of 50",
         6
        ],
        [
         6,
         "Sanford Pens, Blue",
         5
        ],
        [
         11,
         "Enermax Note Cards, Multicolor",
         6
        ],
        [
         10,
         "Novimex Round Labels, Laser Printer Compatible",
         5
        ],
        [
         6,
         "BIC Pens, Easy-Erase",
         4
        ],
        [
         11,
         "Green Bar Note Cards, Premium",
         8
        ],
        [
         5,
         "Hoover Blender, Silver",
         4
        ],
        [
         17,
         "Apple Audio Dock, Cordless",
         4
        ],
        [
         1,
         "Ikea Library with Doors, Traditional",
         5
        ],
        [
         17,
         "Nokia Audio Dock, Cordless",
         5
        ],
        [
         17,
         "Motorola Headset, VoIP",
         4
        ],
        [
         1,
         "Sauder Classic Bookcase, Pine",
         5
        ],
        [
         14,
         "Enermax Flash Drive, Erganomic",
         4
        ],
        [
         4,
         "Chromcraft Round Table, Fully Assembled",
         2
        ],
        [
         9,
         "Advantus Clamps, Metal",
         5
        ],
        [
         5,
         "Breville Refrigerator, Silver",
         4
        ],
        [
         5,
         "Cuisinart Refrigerator, Red",
         4
        ],
        [
         12,
         "Tenex Lockers, Wire Frame",
         5
        ],
        [
         9,
         "Accos Paper Clips, Metal",
         6
        ],
        [
         7,
         "Cardinal Binding Machine, Recycled",
         4
        ],
        [
         13,
         "Elite Letter Opener, High Speed",
         4
        ],
        [
         3,
         "Advantus Stacking Tray, Black",
         4
        ],
        [
         16,
         "StarTech Phone, Durable",
         5
        ],
        [
         14,
         "SanDisk Flash Drive, USB",
         5
        ],
        [
         16,
         "Okidata Calculator, Red",
         4
        ],
        [
         17,
         "Samsung Speaker Phone, with Caller ID",
         5
        ],
        [
         13,
         "Kleencut Letter Opener, Steel",
         4
        ],
        [
         12,
         "Smead Trays, Single Width",
         4
        ],
        [
         9,
         "OIC Clamps, Metal",
         4
        ],
        [
         5,
         "Hoover Toaster, Silver",
         5
        ],
        [
         6,
         "Binney & Smith Highlighters, Water Color",
         5
        ],
        [
         7,
         "Ibico Index Tab, Durable",
         4
        ],
        [
         11,
         "Eaton Memo Slips, 8.5 x 11",
         3
        ],
        [
         2,
         "Novimex Steel Folding Chair, Red",
         4
        ],
        [
         9,
         "OIC Rubber Bands, 12 Pack",
         4
        ],
        [
         7,
         "Cardinal Hole Reinforcements, Recycled",
         5
        ],
        [
         16,
         "Epson Inkjet, Durable",
         3
        ],
        [
         14,
         "Memorex Router, USB",
         4
        ],
        [
         2,
         "SAFCO Bag Chairs, Set of Two",
         4
        ],
        [
         3,
         "Deflect-O Door Stop, Durable",
         5
        ],
        [
         10,
         "Novimex Removable Labels, 5000 Label Set",
         5
        ],
        [
         7,
         "Cardinal Hole Reinforcements, Clear",
         5
        ],
        [
         8,
         "Cameo Business Envelopes, Security-Tint",
         4
        ],
        [
         5,
         "Breville Microwave, Red",
         5
        ],
        [
         8,
         "Cameo Interoffice Envelope, Recycled",
         4
        ],
        [
         13,
         "Fiskars Box Cutter, Easy Grip",
         5
        ],
        [
         13,
         "Elite Shears, High Speed",
         4
        ],
        [
         14,
         "Belkin Flash Drive, USB",
         5
        ],
        [
         15,
         "Brother Personal Copier, Laser",
         4
        ],
        [
         17,
         "Samsung Audio Dock, Cordless",
         4
        ],
        [
         16,
         "Okidata Card Printer, Durable",
         4
        ],
        [
         1,
         "Ikea Corner Shelving, Mobile",
         4
        ],
        [
         4,
         "Hon Computer Table, Fully Assembled",
         5
        ],
        [
         7,
         "Cardinal Hole Reinforcements, Economy",
         4
        ],
        [
         5,
         "Cuisinart Refrigerator, Black",
         4
        ],
        [
         17,
         "Cisco Headset, Cordless",
         5
        ],
        [
         16,
         "Epson Receipt Printer, Wireless",
         4
        ],
        [
         1,
         "Bush Corner Shelving, Mobile",
         5
        ],
        [
         15,
         "Sharp Copy Machine, Laser",
         5
        ],
        [
         3,
         "Rubbermaid Light Bulb, Durable",
         5
        ],
        [
         14,
         "Logitech Flash Drive, Programmable",
         3
        ],
        [
         2,
         "Hon Chairmat, Set of Two",
         6
        ],
        [
         1,
         "Dania Classic Bookcase, Metal",
         4
        ],
        [
         5,
         "KitchenAid Toaster, Red",
         4
        ],
        [
         11,
         "Eaton Message Books, Multicolor",
         5
        ],
        [
         9,
         "Advantus Paper Clips, Bulk Pack",
         4
        ],
        [
         6,
         "Stanley Highlighters, Water Color",
         4
        ],
        [
         10,
         "Hon Legal Exhibit Labels, 5000 Label Set",
         4
        ],
        [
         6,
         "Binney & Smith Sketch Pad, Water Color",
         4
        ],
        [
         13,
         "Acme Shears, Steel",
         5
        ],
        [
         7,
         "Acco 3-Hole Punch, Recycled",
         4
        ],
        [
         13,
         "Kleencut Ruler, High Speed",
         4
        ],
        [
         17,
         "Apple Audio Dock, with Caller ID",
         5
        ],
        [
         15,
         "Hewlett Copy Machine, Color",
         9
        ],
        [
         8,
         "Cameo Clasp Envelope, Recycled",
         4
        ],
        [
         7,
         "Wilson Jones Binder Covers, Durable",
         4
        ],
        [
         12,
         "Tenex Trays, Industrial",
         4
        ],
        [
         13,
         "Fiskars Shears, High Speed",
         3
        ],
        [
         12,
         "Tenex Lockers, Industrial",
         5
        ],
        [
         13,
         "Fiskars Box Cutter, High Speed",
         4
        ],
        [
         8,
         "Ames Interoffice Envelope, Recycled",
         4
        ],
        [
         16,
         "Panasonic Inkjet, Red",
         4
        ],
        [
         14,
         "Logitech Router, Erganomic",
         4
        ],
        [
         3,
         "Deflect-O Stacking Tray, Erganomic",
         8
        ],
        [
         1,
         "Safco Stackable Bookrack, Traditional",
         5
        ],
        [
         14,
         "SanDisk Mouse, Programmable",
         4
        ],
        [
         15,
         "Canon Copy Machine, Digital",
         4
        ],
        [
         2,
         "Novimex Executive Leather Armchair, Black",
         4
        ],
        [
         9,
         "Stockwell Push Pins, Metal",
         9
        ],
        [
         6,
         "Stanley Sketch Pad, Blue",
         4
        ],
        [
         6,
         "Binney & Smith Sketch Pad, Fluorescent",
         4
        ],
        [
         10,
         "Smead Round Labels, 5000 Label Set",
         4
        ],
        [
         17,
         "Samsung Office Telephone, Full Size",
         6
        ],
        [
         1,
         "Safco Floating Shelf Set, Metal",
         4
        ],
        [
         1,
         "Sauder Classic Bookcase, Traditional",
         5
        ],
        [
         2,
         "Hon Chairmat, Adjustable",
         5
        ],
        [
         16,
         "Epson Card Printer, Red",
         4
        ],
        [
         15,
         "Sharp Fax and Copier, Digital",
         4
        ],
        [
         14,
         "Memorex Mouse, Bluetooth",
         5
        ],
        [
         9,
         "Advantus Thumb Tacks, Assorted Sizes",
         4
        ],
        [
         11,
         "Eaton Cards & Envelopes, Recycled",
         4
        ],
        [
         6,
         "Boston Pens, Fluorescent",
         5
        ],
        [
         11,
         "Green Bar Message Books, 8.5 x 11",
         5
        ],
        [
         5,
         "Hamilton Beach Coffee Grinder, White",
         4
        ],
        [
         10,
         "Novimex Color Coded Labels, Laser Printer Compatible",
         4
        ],
        [
         15,
         "Canon Fax and Copier, High-Speed",
         4
        ],
        [
         17,
         "Cisco Headset, with Caller ID",
         3
        ],
        [
         3,
         "Eldon Photo Frame, Erganomic",
         5
        ],
        [
         3,
         "Deflect-O Clock, Durable",
         4
        ],
        [
         3,
         "Deflect-O Light Bulb, Erganomic",
         4
        ],
        [
         9,
         "Stockwell Push Pins, Bulk Pack",
         9
        ],
        [
         9,
         "OIC Push Pins, 12 Pack",
         4
        ],
        [
         5,
         "KitchenAid Microwave, Black",
         5
        ],
        [
         11,
         "Enermax Computer Printout Paper, 8.5 x 11",
         4
        ],
        [
         16,
         "Konica Phone, Wireless",
         4
        ],
        [
         15,
         "Brother Fax Machine, Digital",
         3
        ],
        [
         2,
         "SAFCO Steel Folding Chair, Black",
         4
        ],
        [
         1,
         "Safco Library with Doors, Metal",
         5
        ],
        [
         10,
         "Harbour Creations Removable Labels, Adjustable",
         9
        ],
        [
         9,
         "Advantus Staples, Bulk Pack",
         5
        ],
        [
         11,
         "Eaton Parchment Paper, Multicolor",
         4
        ],
        [
         13,
         "Kleencut Shears, High Speed",
         5
        ],
        [
         13,
         "Kleencut Box Cutter, Easy Grip",
         3
        ],
        [
         1,
         "Ikea Classic Bookcase, Traditional",
         5
        ],
        [
         16,
         "Panasonic Inkjet, Durable",
         2
        ],
        [
         2,
         "SAFCO Swivel Stool, Set of Two",
         4
        ],
        [
         3,
         "Eldon Light Bulb, Durable",
         3
        ],
        [
         1,
         "Safco Classic Bookcase, Pine",
         5
        ],
        [
         12,
         "Tenex Shelving, Blue",
         3
        ],
        [
         6,
         "Binney & Smith Highlighters, Blue",
         4
        ],
        [
         5,
         "KitchenAid Stove, White",
         3
        ],
        [
         12,
         "Smead Box, Industrial",
         5
        ],
        [
         5,
         "Cuisinart Coffee Grinder, Red",
         4
        ],
        [
         5,
         "KitchenAid Toaster, Black",
         5
        ],
        [
         11,
         "Eaton Computer Printout Paper, Multicolor",
         5
        ],
        [
         9,
         "OIC Rubber Bands, Assorted Sizes",
         3
        ],
        [
         3,
         "Advantus Frame, Erganomic",
         4
        ],
        [
         15,
         "HP Fax Machine, Color",
         4
        ],
        [
         16,
         "Panasonic Phone, Red",
         4
        ],
        [
         4,
         "Bevis Wood Table, Rectangular",
         3
        ],
        [
         1,
         "Ikea Floating Shelf Set, Mobile",
         4
        ]
       ],
       "datasetInfos": [],
       "dbfsResultPath": null,
       "isJsonSchema": true,
       "metadata": {},
       "overflow": false,
       "plotOptions": {
        "customPlotOptions": {},
        "displayType": "table",
        "pivotAggregation": null,
        "pivotColumns": null,
        "xColumns": null,
        "yColumns": null
       },
       "removedWidgets": [],
       "schema": [
        {
         "metadata": "{}",
         "name": "Product_Category_ID",
         "type": "\"integer\""
        },
        {
         "metadata": "{}",
         "name": "Product_Name",
         "type": "\"string\""
        },
        {
         "metadata": "{}",
         "name": "count",
         "type": "\"long\""
        }
       ],
       "type": "table"
      }
     },
     "output_type": "display_data"
    }
   ],
   "source": [
    "table = \"company.product\"\n",
    "columns = \"Product_ID\"\n",
    "#check some statistics results for all the columns\n",
    "display(spark.table(table).describe())\n",
    "\n",
    "#check if there are duplicates values for the primary key\n",
    "check_duplicates(table, columns)\n",
    "\n",
    "#check if there are duplicates for the content information in the table\n",
    "columns = [\"Product_Category_ID\", \"Product_Name\"]\n",
    "check_duplicates(table, columns)"
   ]
  },
  {
   "cell_type": "markdown",
   "metadata": {
    "application/vnd.databricks.v1+cell": {
     "cellMetadata": {
      "byteLimit": 2048000,
      "rowLimit": 10000
     },
     "inputWidgets": {},
     "nuid": "9c65d919-efa4-449a-8b1a-48de4b03da4d",
     "showTitle": false,
     "title": ""
    }
   },
   "source": [
    "### 11. Validate the results of dimension table \"Product_Category\""
   ]
  },
  {
   "cell_type": "code",
   "execution_count": 0,
   "metadata": {
    "application/vnd.databricks.v1+cell": {
     "cellMetadata": {
      "byteLimit": 2048000,
      "rowLimit": 10000
     },
     "inputWidgets": {},
     "nuid": "ceff39f4-7805-4415-a3f9-694c1096096f",
     "showTitle": false,
     "title": ""
    }
   },
   "outputs": [
    {
     "output_type": "display_data",
     "data": {
      "text/html": [
       "<style scoped>\n",
       "  .table-result-container {\n",
       "    max-height: 300px;\n",
       "    overflow: auto;\n",
       "  }\n",
       "  table, th, td {\n",
       "    border: 1px solid black;\n",
       "    border-collapse: collapse;\n",
       "  }\n",
       "  th, td {\n",
       "    padding: 5px;\n",
       "  }\n",
       "  th {\n",
       "    text-align: left;\n",
       "  }\n",
       "</style><div class='table-result-container'><table class='table-result'><thead style='background-color: white'><tr><th>summary</th><th>Product_Category_ID</th><th>Category</th><th>Sub_Category</th></tr></thead><tbody><tr><td>count</td><td>17</td><td>17</td><td>17</td></tr><tr><td>mean</td><td>9.0</td><td>null</td><td>null</td></tr><tr><td>stddev</td><td>5.049752469181039</td><td>null</td><td>null</td></tr><tr><td>min</td><td>1</td><td>Furniture</td><td>Accessories</td></tr><tr><td>max</td><td>17</td><td>Technology</td><td>Tables</td></tr></tbody></table></div>"
      ]
     },
     "metadata": {
      "application/vnd.databricks.v1+output": {
       "addedWidgets": {},
       "aggData": [],
       "aggError": "",
       "aggOverflow": false,
       "aggSchema": [],
       "aggSeriesLimitReached": false,
       "aggType": "",
       "arguments": {},
       "columnCustomDisplayInfos": {},
       "data": [
        [
         "count",
         "17",
         "17",
         "17"
        ],
        [
         "mean",
         "9.0",
         null,
         null
        ],
        [
         "stddev",
         "5.049752469181039",
         null,
         null
        ],
        [
         "min",
         "1",
         "Furniture",
         "Accessories"
        ],
        [
         "max",
         "17",
         "Technology",
         "Tables"
        ]
       ],
       "datasetInfos": [],
       "dbfsResultPath": null,
       "isJsonSchema": true,
       "metadata": {},
       "overflow": false,
       "plotOptions": {
        "customPlotOptions": {},
        "displayType": "table",
        "pivotAggregation": null,
        "pivotColumns": null,
        "xColumns": null,
        "yColumns": null
       },
       "removedWidgets": [],
       "schema": [
        {
         "metadata": "{}",
         "name": "summary",
         "type": "\"string\""
        },
        {
         "metadata": "{}",
         "name": "Product_Category_ID",
         "type": "\"string\""
        },
        {
         "metadata": "{}",
         "name": "Category",
         "type": "\"string\""
        },
        {
         "metadata": "{}",
         "name": "Sub_Category",
         "type": "\"string\""
        }
       ],
       "type": "table"
      }
     },
     "output_type": "display_data"
    },
    {
     "output_type": "stream",
     "name": "stdout",
     "output_type": "stream",
     "text": [
      "\n No duplicates\n\n No duplicates\n"
     ]
    }
   ],
   "source": [
    "table = \"company.product_category\"\n",
    "columns = \"Product_Category_ID\"\n",
    "#check some statistics results for all the columns\n",
    "display(spark.table(table).describe())\n",
    "\n",
    "#check if there are duplicates values for the primary key\n",
    "check_duplicates(table, columns)\n",
    "\n",
    "#check if there are duplicates for the content information in the table\n",
    "columns = [\"Category\", \"Sub_Category\"]\n",
    "check_duplicates(table, columns)"
   ]
  }
 ],
 "metadata": {
  "application/vnd.databricks.v1+notebook": {
   "dashboards": [],
   "language": "python",
   "notebookMetadata": {
    "pythonIndentUnit": 4
   },
   "notebookName": "1_Data_Quality",
   "widgets": {}
  }
 },
 "nbformat": 4,
 "nbformat_minor": 0
}
