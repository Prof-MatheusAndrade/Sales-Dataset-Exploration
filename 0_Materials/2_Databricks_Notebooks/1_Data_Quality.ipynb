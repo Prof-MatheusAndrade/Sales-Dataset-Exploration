{
 "cells": [
  {
   "cell_type": "markdown",
   "metadata": {
    "application/vnd.databricks.v1+cell": {
     "cellMetadata": {
      "byteLimit": 2048000,
      "rowLimit": 10000
     },
     "inputWidgets": {},
     "nuid": "c5c43930-45e9-4630-b3e5-01ea506028fb",
     "showTitle": false,
     "title": ""
    }
   },
   "source": [
    "# Company Inc - Sales Data Analysis"
   ]
  },
  {
   "cell_type": "markdown",
   "metadata": {
    "application/vnd.databricks.v1+cell": {
     "cellMetadata": {
      "byteLimit": 2048000,
      "rowLimit": 10000
     },
     "inputWidgets": {},
     "nuid": "40fa6db2-b59c-47bc-ba3c-d845e75e4b81",
     "showTitle": false,
     "title": ""
    }
   },
   "source": [
    "## Data Quality\n",
    "\n",
    "<br>\n",
    "\n",
    "### This notebook was developed to check a few data quality rules, such as duplicate values in the primary key, or constant values in a specific column\n",
    "\n"
   ]
  },
  {
   "cell_type": "markdown",
   "metadata": {
    "application/vnd.databricks.v1+cell": {
     "cellMetadata": {
      "byteLimit": 2048000,
      "rowLimit": 10000
     },
     "inputWidgets": {},
     "nuid": "45c1a119-a51a-4869-a367-bd6048f2870d",
     "showTitle": false,
     "title": ""
    }
   },
   "source": [
    "### 0. Libraries import"
   ]
  },
  {
   "cell_type": "code",
   "execution_count": 0,
   "metadata": {
    "application/vnd.databricks.v1+cell": {
     "cellMetadata": {
      "byteLimit": 2048000,
      "rowLimit": 10000
     },
     "inputWidgets": {},
     "nuid": "831fa155-58ab-4206-83ec-9664302e1c71",
     "showTitle": false,
     "title": ""
    }
   },
   "outputs": [],
   "source": [
    "from pyspark.sql import functions as f #PySpark functions, such as column, maximum, and others"
   ]
  },
  {
   "cell_type": "markdown",
   "metadata": {
    "application/vnd.databricks.v1+cell": {
     "cellMetadata": {
      "byteLimit": 2048000,
      "rowLimit": 10000
     },
     "inputWidgets": {},
     "nuid": "1309a602-1a47-44df-8ce7-491b355fb839",
     "showTitle": false,
     "title": ""
    }
   },
   "source": [
    "### 1. Function created to check if columns have duplicated values"
   ]
  },
  {
   "cell_type": "code",
   "execution_count": 0,
   "metadata": {
    "application/vnd.databricks.v1+cell": {
     "cellMetadata": {
      "byteLimit": 2048000,
      "rowLimit": 10000
     },
     "inputWidgets": {},
     "nuid": "f3d89cd0-2631-49cf-acee-c166c4d4eef2",
     "showTitle": false,
     "title": ""
    }
   },
   "outputs": [],
   "source": [
    "#Function created to check if columns have duplicated values, the inputs are the table name \"table\" and the list of columns to check \"columns\"\n",
    "def check_duplicates(table, columns):\n",
    "    #calculate the number of duplicates rows based in the list of columns shared\n",
    "    res = spark.table(table).select(columns).count() - spark.table(table).select(columns).distinct().count()\n",
    "    #if the result is zero, there is no duplicates, and print that message\n",
    "    if res == 0:\n",
    "        print(\"\\n No duplicates\")\n",
    "    #else, display all the rows with duplicates values based in the list of columns shared\n",
    "    else:\n",
    "        display(spark.table(table).groupby(columns).count().filter(f.col(\"count\")>1).head(5))"
   ]
  },
  {
   "cell_type": "markdown",
   "metadata": {
    "application/vnd.databricks.v1+cell": {
     "cellMetadata": {
      "byteLimit": 2048000,
      "rowLimit": 10000
     },
     "inputWidgets": {},
     "nuid": "a626cbbb-e11b-48bc-b1c0-01f6d329edf9",
     "showTitle": false,
     "title": ""
    }
   },
   "source": [
    "### 2. Validate the results of fact table \"Order\""
   ]
  },
  {
   "cell_type": "code",
   "execution_count": 0,
   "metadata": {
    "application/vnd.databricks.v1+cell": {
     "cellMetadata": {
      "byteLimit": 2048000,
      "rowLimit": 10000
     },
     "inputWidgets": {},
     "nuid": "350c79b2-b98b-489e-a2b4-b43e4663e219",
     "showTitle": false,
     "title": ""
    }
   },
   "outputs": [
    {
     "output_type": "display_data",
     "data": {
      "text/html": [
       "<style scoped>\n",
       "  .table-result-container {\n",
       "    max-height: 300px;\n",
       "    overflow: auto;\n",
       "  }\n",
       "  table, th, td {\n",
       "    border: 1px solid black;\n",
       "    border-collapse: collapse;\n",
       "  }\n",
       "  th, td {\n",
       "    padding: 5px;\n",
       "  }\n",
       "  th {\n",
       "    text-align: left;\n",
       "  }\n",
       "</style><div class='table-result-container'><table class='table-result'><thead style='background-color: white'><tr><th>summary</th><th>Order_ID</th><th>Order_Local_ID</th><th>Location_ID</th><th>Order_Date</th><th>Ship_ID</th><th>Customer_ID</th><th>Order_Priority_ID</th><th>Product_ID</th><th>Quantity</th><th>Sales</th><th>Discount</th><th>Profit</th></tr></thead><tbody><tr><td>count</td><td>49399</td><td>49399</td><td>49399</td><td>49399</td><td>49399</td><td>49399</td><td>49399</td><td>49399</td><td>49399</td><td>49399</td><td>49399</td><td>49399</td></tr><tr><td>mean</td><td>25733.905079050182</td><td>null</td><td>2005.1237879309297</td><td>4883.133059373671</td><td>25650.813882872124</td><td>null</td><td>3.119152209558898</td><td>null</td><td>3.4655154962651067</td><td>245.96026235348893</td><td>0.14285989594931162</td><td>28.414321741330756</td></tr><tr><td>stddev</td><td>14834.219326508683</td><td>null</td><td>1104.1755174352083</td><td>412.97011677468356</td><td>14781.826308063473</td><td>null</td><td>1.0807386708308595</td><td>null</td><td>2.2789362563490503</td><td>485.527242913703</td><td>0.21273615173892577</td><td>174.49251634081992</td></tr><tr><td>min</td><td>1</td><td>AE-2011-9160</td><td>1</td><td>4019</td><td>1</td><td>AA-103151</td><td>1</td><td>FUR-ADV-10000002</td><td>1</td><td>0.0</td><td>0.0</td><td>-6599.978</td></tr><tr><td>max</td><td>51290</td><td>ZI-2014-9650</td><td>3819</td><td>5479</td><td>51106</td><td>ZD-219254</td><td>4</td><td>TEC-STA-10004927</td><td>14</td><td>22638.0</td><td>0.85</td><td>8399.976</td></tr></tbody></table></div>"
      ]
     },
     "metadata": {
      "application/vnd.databricks.v1+output": {
       "addedWidgets": {},
       "aggData": [],
       "aggError": "",
       "aggOverflow": false,
       "aggSchema": [],
       "aggSeriesLimitReached": false,
       "aggType": "",
       "arguments": {},
       "columnCustomDisplayInfos": {},
       "data": [
        [
         "count",
         "49399",
         "49399",
         "49399",
         "49399",
         "49399",
         "49399",
         "49399",
         "49399",
         "49399",
         "49399",
         "49399",
         "49399"
        ],
        [
         "mean",
         "25733.905079050182",
         null,
         "2005.1237879309297",
         "4883.133059373671",
         "25650.813882872124",
         null,
         "3.119152209558898",
         null,
         "3.4655154962651067",
         "245.96026235348893",
         "0.14285989594931162",
         "28.414321741330756"
        ],
        [
         "stddev",
         "14834.219326508683",
         null,
         "1104.1755174352083",
         "412.97011677468356",
         "14781.826308063473",
         null,
         "1.0807386708308595",
         null,
         "2.2789362563490503",
         "485.527242913703",
         "0.21273615173892577",
         "174.49251634081992"
        ],
        [
         "min",
         "1",
         "AE-2011-9160",
         "1",
         "4019",
         "1",
         "AA-103151",
         "1",
         "FUR-ADV-10000002",
         "1",
         "0.0",
         "0.0",
         "-6599.978"
        ],
        [
         "max",
         "51290",
         "ZI-2014-9650",
         "3819",
         "5479",
         "51106",
         "ZD-219254",
         "4",
         "TEC-STA-10004927",
         "14",
         "22638.0",
         "0.85",
         "8399.976"
        ]
       ],
       "datasetInfos": [],
       "dbfsResultPath": null,
       "isJsonSchema": true,
       "metadata": {},
       "overflow": false,
       "plotOptions": {
        "customPlotOptions": {},
        "displayType": "table",
        "pivotAggregation": null,
        "pivotColumns": null,
        "xColumns": null,
        "yColumns": null
       },
       "removedWidgets": [],
       "schema": [
        {
         "metadata": "{}",
         "name": "summary",
         "type": "\"string\""
        },
        {
         "metadata": "{}",
         "name": "Order_ID",
         "type": "\"string\""
        },
        {
         "metadata": "{}",
         "name": "Order_Local_ID",
         "type": "\"string\""
        },
        {
         "metadata": "{}",
         "name": "Location_ID",
         "type": "\"string\""
        },
        {
         "metadata": "{}",
         "name": "Order_Date",
         "type": "\"string\""
        },
        {
         "metadata": "{}",
         "name": "Ship_ID",
         "type": "\"string\""
        },
        {
         "metadata": "{}",
         "name": "Customer_ID",
         "type": "\"string\""
        },
        {
         "metadata": "{}",
         "name": "Order_Priority_ID",
         "type": "\"string\""
        },
        {
         "metadata": "{}",
         "name": "Product_ID",
         "type": "\"string\""
        },
        {
         "metadata": "{}",
         "name": "Quantity",
         "type": "\"string\""
        },
        {
         "metadata": "{}",
         "name": "Sales",
         "type": "\"string\""
        },
        {
         "metadata": "{}",
         "name": "Discount",
         "type": "\"string\""
        },
        {
         "metadata": "{}",
         "name": "Profit",
         "type": "\"string\""
        }
       ],
       "type": "table"
      }
     },
     "output_type": "display_data"
    },
    {
     "output_type": "stream",
     "name": "stdout",
     "output_type": "stream",
     "text": [
      "\n No duplicates\n"
     ]
    }
   ],
   "source": [
    "table = \"company.order\"\n",
    "columns = \"Order_ID\"\n",
    "#check some statistics results for all the columns\n",
    "display(spark.table(table).describe())\n",
    "\n",
    "#check if there are duplicates values for the primary key\n",
    "check_duplicates(table, columns)"
   ]
  },
  {
   "cell_type": "markdown",
   "metadata": {
    "application/vnd.databricks.v1+cell": {
     "cellMetadata": {
      "byteLimit": 2048000,
      "rowLimit": 10000
     },
     "inputWidgets": {},
     "nuid": "462cc2b1-2483-49aa-b34f-17458f8c4bc2",
     "showTitle": false,
     "title": ""
    }
   },
   "source": [
    "### 3. Validate the results of dimension table \"Market\""
   ]
  },
  {
   "cell_type": "code",
   "execution_count": 0,
   "metadata": {
    "application/vnd.databricks.v1+cell": {
     "cellMetadata": {
      "byteLimit": 2048000,
      "rowLimit": 10000
     },
     "inputWidgets": {},
     "nuid": "86d2a63d-0cf2-4896-b132-32ce88e70a80",
     "showTitle": false,
     "title": ""
    }
   },
   "outputs": [
    {
     "output_type": "display_data",
     "data": {
      "text/html": [
       "<style scoped>\n",
       "  .table-result-container {\n",
       "    max-height: 300px;\n",
       "    overflow: auto;\n",
       "  }\n",
       "  table, th, td {\n",
       "    border: 1px solid black;\n",
       "    border-collapse: collapse;\n",
       "  }\n",
       "  th, td {\n",
       "    padding: 5px;\n",
       "  }\n",
       "  th {\n",
       "    text-align: left;\n",
       "  }\n",
       "</style><div class='table-result-container'><table class='table-result'><thead style='background-color: white'><tr><th>summary</th><th>Market_ID</th><th>Market</th><th>Market2</th></tr></thead><tbody><tr><td>count</td><td>7</td><td>7</td><td>7</td></tr><tr><td>mean</td><td>4.0</td><td>null</td><td>null</td></tr><tr><td>stddev</td><td>2.160246899469287</td><td>null</td><td>null</td></tr><tr><td>min</td><td>1</td><td>APAC</td><td>APAC</td></tr><tr><td>max</td><td>7</td><td>US</td><td>North America</td></tr></tbody></table></div>"
      ]
     },
     "metadata": {
      "application/vnd.databricks.v1+output": {
       "addedWidgets": {},
       "aggData": [],
       "aggError": "",
       "aggOverflow": false,
       "aggSchema": [],
       "aggSeriesLimitReached": false,
       "aggType": "",
       "arguments": {},
       "columnCustomDisplayInfos": {},
       "data": [
        [
         "count",
         "7",
         "7",
         "7"
        ],
        [
         "mean",
         "4.0",
         null,
         null
        ],
        [
         "stddev",
         "2.160246899469287",
         null,
         null
        ],
        [
         "min",
         "1",
         "APAC",
         "APAC"
        ],
        [
         "max",
         "7",
         "US",
         "North America"
        ]
       ],
       "datasetInfos": [],
       "dbfsResultPath": null,
       "isJsonSchema": true,
       "metadata": {},
       "overflow": false,
       "plotOptions": {
        "customPlotOptions": {},
        "displayType": "table",
        "pivotAggregation": null,
        "pivotColumns": null,
        "xColumns": null,
        "yColumns": null
       },
       "removedWidgets": [],
       "schema": [
        {
         "metadata": "{}",
         "name": "summary",
         "type": "\"string\""
        },
        {
         "metadata": "{}",
         "name": "Market_ID",
         "type": "\"string\""
        },
        {
         "metadata": "{}",
         "name": "Market",
         "type": "\"string\""
        },
        {
         "metadata": "{}",
         "name": "Market2",
         "type": "\"string\""
        }
       ],
       "type": "table"
      }
     },
     "output_type": "display_data"
    },
    {
     "output_type": "stream",
     "name": "stdout",
     "output_type": "stream",
     "text": [
      "\n No duplicates\n\n No duplicates\n"
     ]
    }
   ],
   "source": [
    "table = \"company.market\"\n",
    "columns = \"Market_ID\"\n",
    "#check some statistics results for all the columns\n",
    "display(spark.table(table).describe())\n",
    "\n",
    "#check if there are duplicates values for the primary key\n",
    "check_duplicates(table, columns)\n",
    "\n",
    "#check if there are duplicates for the content information in the table\n",
    "columns = [\"Market\", \"Market2\"]\n",
    "check_duplicates(table, columns)"
   ]
  },
  {
   "cell_type": "markdown",
   "metadata": {
    "application/vnd.databricks.v1+cell": {
     "cellMetadata": {
      "byteLimit": 2048000,
      "rowLimit": 10000
     },
     "inputWidgets": {},
     "nuid": "3c068c4f-0e01-4d44-a585-d786dcfd9b1a",
     "showTitle": false,
     "title": ""
    }
   },
   "source": [
    "### 4. Validate the results of dimension table \"Location\""
   ]
  },
  {
   "cell_type": "code",
   "execution_count": 0,
   "metadata": {
    "application/vnd.databricks.v1+cell": {
     "cellMetadata": {
      "byteLimit": 2048000,
      "rowLimit": 10000
     },
     "inputWidgets": {},
     "nuid": "b71dc947-09b4-4008-8ceb-30b8797d8c0b",
     "showTitle": false,
     "title": ""
    }
   },
   "outputs": [
    {
     "output_type": "display_data",
     "data": {
      "text/html": [
       "<style scoped>\n",
       "  .table-result-container {\n",
       "    max-height: 300px;\n",
       "    overflow: auto;\n",
       "  }\n",
       "  table, th, td {\n",
       "    border: 1px solid black;\n",
       "    border-collapse: collapse;\n",
       "  }\n",
       "  th, td {\n",
       "    padding: 5px;\n",
       "  }\n",
       "  th {\n",
       "    text-align: left;\n",
       "  }\n",
       "</style><div class='table-result-container'><table class='table-result'><thead style='background-color: white'><tr><th>summary</th><th>Location_ID</th><th>Market_ID</th><th>Country</th><th>State</th><th>Region</th><th>City</th></tr></thead><tbody><tr><td>count</td><td>3819</td><td>3819</td><td>3819</td><td>3819</td><td>3819</td><td>3819</td></tr><tr><td>mean</td><td>1910.0</td><td>4.370253993191935</td><td>null</td><td>null</td><td>null</td><td>null</td></tr><tr><td>stddev</td><td>1102.5946671374747</td><td>2.0519995520874383</td><td>null</td><td>null</td><td>null</td><td>null</td></tr><tr><td>min</td><td>1</td><td>1</td><td>Afghanistan</td><td>'Ajman</td><td>Africa</td><td>Aachen</td></tr><tr><td>max</td><td>3819</td><td>7</td><td>Zimbabwe</td><td>Žilina</td><td>West</td><td>Águas Lindas de Goiás</td></tr></tbody></table></div>"
      ]
     },
     "metadata": {
      "application/vnd.databricks.v1+output": {
       "addedWidgets": {},
       "aggData": [],
       "aggError": "",
       "aggOverflow": false,
       "aggSchema": [],
       "aggSeriesLimitReached": false,
       "aggType": "",
       "arguments": {},
       "columnCustomDisplayInfos": {},
       "data": [
        [
         "count",
         "3819",
         "3819",
         "3819",
         "3819",
         "3819",
         "3819"
        ],
        [
         "mean",
         "1910.0",
         "4.370253993191935",
         null,
         null,
         null,
         null
        ],
        [
         "stddev",
         "1102.5946671374747",
         "2.0519995520874383",
         null,
         null,
         null,
         null
        ],
        [
         "min",
         "1",
         "1",
         "Afghanistan",
         "'Ajman",
         "Africa",
         "Aachen"
        ],
        [
         "max",
         "3819",
         "7",
         "Zimbabwe",
         "Žilina",
         "West",
         "Águas Lindas de Goiás"
        ]
       ],
       "datasetInfos": [],
       "dbfsResultPath": null,
       "isJsonSchema": true,
       "metadata": {},
       "overflow": false,
       "plotOptions": {
        "customPlotOptions": {},
        "displayType": "table",
        "pivotAggregation": null,
        "pivotColumns": null,
        "xColumns": null,
        "yColumns": null
       },
       "removedWidgets": [],
       "schema": [
        {
         "metadata": "{}",
         "name": "summary",
         "type": "\"string\""
        },
        {
         "metadata": "{}",
         "name": "Location_ID",
         "type": "\"string\""
        },
        {
         "metadata": "{}",
         "name": "Market_ID",
         "type": "\"string\""
        },
        {
         "metadata": "{}",
         "name": "Country",
         "type": "\"string\""
        },
        {
         "metadata": "{}",
         "name": "State",
         "type": "\"string\""
        },
        {
         "metadata": "{}",
         "name": "Region",
         "type": "\"string\""
        },
        {
         "metadata": "{}",
         "name": "City",
         "type": "\"string\""
        }
       ],
       "type": "table"
      }
     },
     "output_type": "display_data"
    },
    {
     "output_type": "stream",
     "name": "stdout",
     "output_type": "stream",
     "text": [
      "\n No duplicates\n\n No duplicates\n"
     ]
    }
   ],
   "source": [
    "table = \"company.location\"\n",
    "columns = \"Location_ID\"\n",
    "#check some statistics results for all the columns\n",
    "display(spark.table(table).describe())\n",
    "\n",
    "#check if there are duplicates values for the primary key\n",
    "check_duplicates(table, columns)\n",
    "\n",
    "#check if there are duplicates for the content information in the table\n",
    "columns = [\"Country\", \"State\", \"Region\", \"City\"]\n",
    "check_duplicates(table, columns)"
   ]
  },
  {
   "cell_type": "markdown",
   "metadata": {
    "application/vnd.databricks.v1+cell": {
     "cellMetadata": {
      "byteLimit": 2048000,
      "rowLimit": 10000
     },
     "inputWidgets": {},
     "nuid": "6bf8deec-4038-49ca-90ea-9bebd91ca272",
     "showTitle": false,
     "title": ""
    }
   },
   "source": [
    "### 4. Validate the results of dimension table \"Calendar_Date\""
   ]
  },
  {
   "cell_type": "code",
   "execution_count": 0,
   "metadata": {
    "application/vnd.databricks.v1+cell": {
     "cellMetadata": {
      "byteLimit": 2048000,
      "rowLimit": 10000
     },
     "inputWidgets": {},
     "nuid": "f098dc51-2618-4d0e-9da6-10d12828643f",
     "showTitle": false,
     "title": ""
    }
   },
   "outputs": [
    {
     "output_type": "display_data",
     "data": {
      "text/html": [
       "<style scoped>\n",
       "  .table-result-container {\n",
       "    max-height: 300px;\n",
       "    overflow: auto;\n",
       "  }\n",
       "  table, th, td {\n",
       "    border: 1px solid black;\n",
       "    border-collapse: collapse;\n",
       "  }\n",
       "  th, td {\n",
       "    padding: 5px;\n",
       "  }\n",
       "  th {\n",
       "    text-align: left;\n",
       "  }\n",
       "</style><div class='table-result-container'><table class='table-result'><thead style='background-color: white'><tr><th>summary</th><th>Date_ID</th></tr></thead><tbody><tr><td>count</td><td>36526</td></tr><tr><td>mean</td><td>18263.5</td></tr><tr><td>stddev</td><td>10544.292302789538</td></tr><tr><td>min</td><td>1</td></tr><tr><td>max</td><td>36526</td></tr></tbody></table></div>"
      ]
     },
     "metadata": {
      "application/vnd.databricks.v1+output": {
       "addedWidgets": {},
       "aggData": [],
       "aggError": "",
       "aggOverflow": false,
       "aggSchema": [],
       "aggSeriesLimitReached": false,
       "aggType": "",
       "arguments": {},
       "columnCustomDisplayInfos": {},
       "data": [
        [
         "count",
         "36526"
        ],
        [
         "mean",
         "18263.5"
        ],
        [
         "stddev",
         "10544.292302789538"
        ],
        [
         "min",
         "1"
        ],
        [
         "max",
         "36526"
        ]
       ],
       "datasetInfos": [],
       "dbfsResultPath": null,
       "isJsonSchema": true,
       "metadata": {},
       "overflow": false,
       "plotOptions": {
        "customPlotOptions": {},
        "displayType": "table",
        "pivotAggregation": null,
        "pivotColumns": null,
        "xColumns": null,
        "yColumns": null
       },
       "removedWidgets": [],
       "schema": [
        {
         "metadata": "{}",
         "name": "summary",
         "type": "\"string\""
        },
        {
         "metadata": "{}",
         "name": "Date_ID",
         "type": "\"string\""
        }
       ],
       "type": "table"
      }
     },
     "output_type": "display_data"
    },
    {
     "output_type": "stream",
     "name": "stdout",
     "output_type": "stream",
     "text": [
      "\n No duplicates\n\n No duplicates\n"
     ]
    }
   ],
   "source": [
    "table = \"company.calendar_date\"\n",
    "columns = \"Date_ID\"\n",
    "#check some statistics results for all the columns\n",
    "display(spark.table(table).describe())\n",
    "\n",
    "#check if there are duplicates values for the primary key\n",
    "check_duplicates(table, columns)\n",
    "\n",
    "#check if there are duplicates for the content information in the table\n",
    "columns = [\"Date\"]\n",
    "check_duplicates(table, columns)"
   ]
  },
  {
   "cell_type": "markdown",
   "metadata": {
    "application/vnd.databricks.v1+cell": {
     "cellMetadata": {
      "byteLimit": 2048000,
      "rowLimit": 10000
     },
     "inputWidgets": {},
     "nuid": "8e56704b-4d2a-406b-aeb8-8fc572e86064",
     "showTitle": false,
     "title": ""
    }
   },
   "source": [
    "### 5. Validate the results of dimension table \"Ship_Mode\""
   ]
  },
  {
   "cell_type": "code",
   "execution_count": 0,
   "metadata": {
    "application/vnd.databricks.v1+cell": {
     "cellMetadata": {
      "byteLimit": 2048000,
      "rowLimit": 10000
     },
     "inputWidgets": {},
     "nuid": "5255ecb9-fb8c-4e43-b058-f3b6d6ec33f3",
     "showTitle": false,
     "title": ""
    }
   },
   "outputs": [
    {
     "output_type": "display_data",
     "data": {
      "text/html": [
       "<style scoped>\n",
       "  .table-result-container {\n",
       "    max-height: 300px;\n",
       "    overflow: auto;\n",
       "  }\n",
       "  table, th, td {\n",
       "    border: 1px solid black;\n",
       "    border-collapse: collapse;\n",
       "  }\n",
       "  th, td {\n",
       "    padding: 5px;\n",
       "  }\n",
       "  th {\n",
       "    text-align: left;\n",
       "  }\n",
       "</style><div class='table-result-container'><table class='table-result'><thead style='background-color: white'><tr><th>summary</th><th>Ship_Mode_ID</th><th>Ship_Mode</th></tr></thead><tbody><tr><td>count</td><td>4</td><td>4</td></tr><tr><td>mean</td><td>2.5</td><td>null</td></tr><tr><td>stddev</td><td>1.2909944487358056</td><td>null</td></tr><tr><td>min</td><td>1</td><td>First Class</td></tr><tr><td>max</td><td>4</td><td>Standard Class</td></tr></tbody></table></div>"
      ]
     },
     "metadata": {
      "application/vnd.databricks.v1+output": {
       "addedWidgets": {},
       "aggData": [],
       "aggError": "",
       "aggOverflow": false,
       "aggSchema": [],
       "aggSeriesLimitReached": false,
       "aggType": "",
       "arguments": {},
       "columnCustomDisplayInfos": {},
       "data": [
        [
         "count",
         "4",
         "4"
        ],
        [
         "mean",
         "2.5",
         null
        ],
        [
         "stddev",
         "1.2909944487358056",
         null
        ],
        [
         "min",
         "1",
         "First Class"
        ],
        [
         "max",
         "4",
         "Standard Class"
        ]
       ],
       "datasetInfos": [],
       "dbfsResultPath": null,
       "isJsonSchema": true,
       "metadata": {},
       "overflow": false,
       "plotOptions": {
        "customPlotOptions": {},
        "displayType": "table",
        "pivotAggregation": null,
        "pivotColumns": null,
        "xColumns": null,
        "yColumns": null
       },
       "removedWidgets": [],
       "schema": [
        {
         "metadata": "{}",
         "name": "summary",
         "type": "\"string\""
        },
        {
         "metadata": "{}",
         "name": "Ship_Mode_ID",
         "type": "\"string\""
        },
        {
         "metadata": "{}",
         "name": "Ship_Mode",
         "type": "\"string\""
        }
       ],
       "type": "table"
      }
     },
     "output_type": "display_data"
    },
    {
     "output_type": "stream",
     "name": "stdout",
     "output_type": "stream",
     "text": [
      "\n No duplicates\n\n No duplicates\n"
     ]
    }
   ],
   "source": [
    "table = \"company.ship_mode\"\n",
    "columns = \"Ship_Mode_ID\"\n",
    "#check some statistics results for all the columns\n",
    "display(spark.table(table).describe())\n",
    "\n",
    "#check if there are duplicates values for the primary key\n",
    "check_duplicates(table, columns)\n",
    "\n",
    "#check if there are duplicates for the content information in the table\n",
    "columns = [\"Ship_Mode\"]\n",
    "check_duplicates(table, columns)"
   ]
  },
  {
   "cell_type": "markdown",
   "metadata": {
    "application/vnd.databricks.v1+cell": {
     "cellMetadata": {
      "byteLimit": 2048000,
      "rowLimit": 10000
     },
     "inputWidgets": {},
     "nuid": "2d948f2b-e236-46de-b049-7fd9ef6fb97f",
     "showTitle": false,
     "title": ""
    }
   },
   "source": [
    "### 6. Validate the results of dimension table \"Ship\""
   ]
  },
  {
   "cell_type": "code",
   "execution_count": 0,
   "metadata": {
    "application/vnd.databricks.v1+cell": {
     "cellMetadata": {
      "byteLimit": 2048000,
      "rowLimit": 10000
     },
     "inputWidgets": {},
     "nuid": "9561fd5b-c673-4a02-9b2f-3a9bd7903b06",
     "showTitle": false,
     "title": ""
    }
   },
   "outputs": [
    {
     "output_type": "display_data",
     "data": {
      "text/html": [
       "<style scoped>\n",
       "  .table-result-container {\n",
       "    max-height: 300px;\n",
       "    overflow: auto;\n",
       "  }\n",
       "  table, th, td {\n",
       "    border: 1px solid black;\n",
       "    border-collapse: collapse;\n",
       "  }\n",
       "  th, td {\n",
       "    padding: 5px;\n",
       "  }\n",
       "  th {\n",
       "    text-align: left;\n",
       "  }\n",
       "</style><div class='table-result-container'><table class='table-result'><thead style='background-color: white'><tr><th>summary</th><th>Ship_ID</th><th>Ship_Mode_ID</th><th>Ship_Date</th><th>Shipping_Cost</th></tr></thead><tbody><tr><td>count</td><td>51106</td><td>51106</td><td>51106</td><td>51106</td></tr><tr><td>mean</td><td>25553.5</td><td>3.2527491879622743</td><td>4884.615407192893</td><td>26.459420878175152</td></tr><tr><td>stddev</td><td>14753.175765463742</td><td>1.0838646239374283</td><td>412.5603055437603</td><td>57.382300563185424</td></tr><tr><td>min</td><td>1</td><td>1</td><td>4021</td><td>0.002</td></tr><tr><td>max</td><td>51106</td><td>4</td><td>5486</td><td>99.98</td></tr></tbody></table></div>"
      ]
     },
     "metadata": {
      "application/vnd.databricks.v1+output": {
       "addedWidgets": {},
       "aggData": [],
       "aggError": "",
       "aggOverflow": false,
       "aggSchema": [],
       "aggSeriesLimitReached": false,
       "aggType": "",
       "arguments": {},
       "columnCustomDisplayInfos": {},
       "data": [
        [
         "count",
         "51106",
         "51106",
         "51106",
         "51106"
        ],
        [
         "mean",
         "25553.5",
         "3.2527491879622743",
         "4884.615407192893",
         "26.459420878175152"
        ],
        [
         "stddev",
         "14753.175765463742",
         "1.0838646239374283",
         "412.5603055437603",
         "57.382300563185424"
        ],
        [
         "min",
         "1",
         "1",
         "4021",
         "0.002"
        ],
        [
         "max",
         "51106",
         "4",
         "5486",
         "99.98"
        ]
       ],
       "datasetInfos": [],
       "dbfsResultPath": null,
       "isJsonSchema": true,
       "metadata": {},
       "overflow": false,
       "plotOptions": {
        "customPlotOptions": {},
        "displayType": "table",
        "pivotAggregation": null,
        "pivotColumns": null,
        "xColumns": null,
        "yColumns": null
       },
       "removedWidgets": [],
       "schema": [
        {
         "metadata": "{}",
         "name": "summary",
         "type": "\"string\""
        },
        {
         "metadata": "{}",
         "name": "Ship_ID",
         "type": "\"string\""
        },
        {
         "metadata": "{}",
         "name": "Ship_Mode_ID",
         "type": "\"string\""
        },
        {
         "metadata": "{}",
         "name": "Ship_Date",
         "type": "\"string\""
        },
        {
         "metadata": "{}",
         "name": "Shipping_Cost",
         "type": "\"string\""
        }
       ],
       "type": "table"
      }
     },
     "output_type": "display_data"
    },
    {
     "output_type": "stream",
     "name": "stdout",
     "output_type": "stream",
     "text": [
      "\n No duplicates\n"
     ]
    }
   ],
   "source": [
    "table = \"company.ship\"\n",
    "columns = \"Ship_ID\"\n",
    "#check some statistics results for all the columns\n",
    "display(spark.table(table).describe())\n",
    "\n",
    "#check if there are duplicates values for the primary key\n",
    "check_duplicates(table, columns)"
   ]
  },
  {
   "cell_type": "markdown",
   "metadata": {
    "application/vnd.databricks.v1+cell": {
     "cellMetadata": {
      "byteLimit": 2048000,
      "rowLimit": 10000
     },
     "inputWidgets": {},
     "nuid": "9f448315-92db-468b-aaf5-8fd12f4b429d",
     "showTitle": false,
     "title": ""
    }
   },
   "source": [
    "### 7. Validate the results of dimension table \"Customer\""
   ]
  },
  {
   "cell_type": "code",
   "execution_count": 0,
   "metadata": {
    "application/vnd.databricks.v1+cell": {
     "cellMetadata": {
      "byteLimit": 2048000,
      "rowLimit": 10000
     },
     "inputWidgets": {},
     "nuid": "ca54554d-7305-4ea5-b7dd-6178a95929b5",
     "showTitle": false,
     "title": ""
    }
   },
   "outputs": [
    {
     "output_type": "display_data",
     "data": {
      "text/html": [
       "<style scoped>\n",
       "  .table-result-container {\n",
       "    max-height: 300px;\n",
       "    overflow: auto;\n",
       "  }\n",
       "  table, th, td {\n",
       "    border: 1px solid black;\n",
       "    border-collapse: collapse;\n",
       "  }\n",
       "  th, td {\n",
       "    padding: 5px;\n",
       "  }\n",
       "  th {\n",
       "    text-align: left;\n",
       "  }\n",
       "</style><div class='table-result-container'><table class='table-result'><thead style='background-color: white'><tr><th>summary</th><th>Customer_ID</th><th>Customer_Segment_ID</th><th>Customer_Name</th></tr></thead><tbody><tr><td>count</td><td>4873</td><td>4873</td><td>4873</td></tr><tr><td>mean</td><td>null</td><td>1.6712497434845064</td><td>null</td></tr><tr><td>stddev</td><td>null</td><td>0.7700977281431572</td><td>null</td></tr><tr><td>min</td><td>AA-103151</td><td>1</td><td>Aaron Bergman</td></tr><tr><td>max</td><td>ZD-219254</td><td>3</td><td>Zuschuss Donatelli</td></tr></tbody></table></div>"
      ]
     },
     "metadata": {
      "application/vnd.databricks.v1+output": {
       "addedWidgets": {},
       "aggData": [],
       "aggError": "",
       "aggOverflow": false,
       "aggSchema": [],
       "aggSeriesLimitReached": false,
       "aggType": "",
       "arguments": {},
       "columnCustomDisplayInfos": {},
       "data": [
        [
         "count",
         "4873",
         "4873",
         "4873"
        ],
        [
         "mean",
         null,
         "1.6712497434845064",
         null
        ],
        [
         "stddev",
         null,
         "0.7700977281431572",
         null
        ],
        [
         "min",
         "AA-103151",
         "1",
         "Aaron Bergman"
        ],
        [
         "max",
         "ZD-219254",
         "3",
         "Zuschuss Donatelli"
        ]
       ],
       "datasetInfos": [],
       "dbfsResultPath": null,
       "isJsonSchema": true,
       "metadata": {},
       "overflow": false,
       "plotOptions": {
        "customPlotOptions": {},
        "displayType": "table",
        "pivotAggregation": null,
        "pivotColumns": null,
        "xColumns": null,
        "yColumns": null
       },
       "removedWidgets": [],
       "schema": [
        {
         "metadata": "{}",
         "name": "summary",
         "type": "\"string\""
        },
        {
         "metadata": "{}",
         "name": "Customer_ID",
         "type": "\"string\""
        },
        {
         "metadata": "{}",
         "name": "Customer_Segment_ID",
         "type": "\"string\""
        },
        {
         "metadata": "{}",
         "name": "Customer_Name",
         "type": "\"string\""
        }
       ],
       "type": "table"
      }
     },
     "output_type": "display_data"
    },
    {
     "output_type": "stream",
     "name": "stdout",
     "output_type": "stream",
     "text": [
      "\n No duplicates\n"
     ]
    },
    {
     "output_type": "display_data",
     "data": {
      "text/html": [
       "<style scoped>\n",
       "  .table-result-container {\n",
       "    max-height: 300px;\n",
       "    overflow: auto;\n",
       "  }\n",
       "  table, th, td {\n",
       "    border: 1px solid black;\n",
       "    border-collapse: collapse;\n",
       "  }\n",
       "  th, td {\n",
       "    padding: 5px;\n",
       "  }\n",
       "  th {\n",
       "    text-align: left;\n",
       "  }\n",
       "</style><div class='table-result-container'><table class='table-result'><thead style='background-color: white'><tr><th>Customer_Name</th><th>count</th></tr></thead><tbody><tr><td>Jim Mitchum</td><td>7</td></tr><tr><td>Jesus Ocampo</td><td>6</td></tr><tr><td>Patrick O'Brill</td><td>6</td></tr><tr><td>Ted Butterfield</td><td>6</td></tr><tr><td>Parhena Norris</td><td>6</td></tr></tbody></table></div>"
      ]
     },
     "metadata": {
      "application/vnd.databricks.v1+output": {
       "addedWidgets": {},
       "aggData": [],
       "aggError": "",
       "aggOverflow": false,
       "aggSchema": [],
       "aggSeriesLimitReached": false,
       "aggType": "",
       "arguments": {},
       "columnCustomDisplayInfos": {},
       "data": [
        [
         "Jim Mitchum",
         7
        ],
        [
         "Jesus Ocampo",
         6
        ],
        [
         "Patrick O'Brill",
         6
        ],
        [
         "Ted Butterfield",
         6
        ],
        [
         "Parhena Norris",
         6
        ]
       ],
       "datasetInfos": [],
       "dbfsResultPath": null,
       "isJsonSchema": true,
       "metadata": {},
       "overflow": false,
       "plotOptions": {
        "customPlotOptions": {},
        "displayType": "table",
        "pivotAggregation": null,
        "pivotColumns": null,
        "xColumns": null,
        "yColumns": null
       },
       "removedWidgets": [],
       "schema": [
        {
         "metadata": "{}",
         "name": "Customer_Name",
         "type": "\"string\""
        },
        {
         "metadata": "{}",
         "name": "count",
         "type": "\"long\""
        }
       ],
       "type": "table"
      }
     },
     "output_type": "display_data"
    },
    {
     "output_type": "display_data",
     "data": {
      "text/html": [
       "<style scoped>\n",
       "  .table-result-container {\n",
       "    max-height: 300px;\n",
       "    overflow: auto;\n",
       "  }\n",
       "  table, th, td {\n",
       "    border: 1px solid black;\n",
       "    border-collapse: collapse;\n",
       "  }\n",
       "  th, td {\n",
       "    padding: 5px;\n",
       "  }\n",
       "  th {\n",
       "    text-align: left;\n",
       "  }\n",
       "</style><div class='table-result-container'><table class='table-result'><thead style='background-color: white'><tr><th>Customer_Segment_ID</th><th>Customer_Name</th><th>count</th></tr></thead><tbody><tr><td>2</td><td>Eudokia Martin</td><td>7</td></tr><tr><td>3</td><td>Tom Ashbrook</td><td>6</td></tr><tr><td>3</td><td>Christopher Schild</td><td>6</td></tr><tr><td>2</td><td>Odella Nelson</td><td>6</td></tr><tr><td>1</td><td>Jim Karlsson</td><td>7</td></tr></tbody></table></div>"
      ]
     },
     "metadata": {
      "application/vnd.databricks.v1+output": {
       "addedWidgets": {},
       "aggData": [],
       "aggError": "",
       "aggOverflow": false,
       "aggSchema": [],
       "aggSeriesLimitReached": false,
       "aggType": "",
       "arguments": {},
       "columnCustomDisplayInfos": {},
       "data": [
        [
         2,
         "Eudokia Martin",
         7
        ],
        [
         3,
         "Tom Ashbrook",
         6
        ],
        [
         3,
         "Christopher Schild",
         6
        ],
        [
         2,
         "Odella Nelson",
         6
        ],
        [
         1,
         "Jim Karlsson",
         7
        ]
       ],
       "datasetInfos": [],
       "dbfsResultPath": null,
       "isJsonSchema": true,
       "metadata": {},
       "overflow": false,
       "plotOptions": {
        "customPlotOptions": {},
        "displayType": "table",
        "pivotAggregation": null,
        "pivotColumns": null,
        "xColumns": null,
        "yColumns": null
       },
       "removedWidgets": [],
       "schema": [
        {
         "metadata": "{}",
         "name": "Customer_Segment_ID",
         "type": "\"long\""
        },
        {
         "metadata": "{}",
         "name": "Customer_Name",
         "type": "\"string\""
        },
        {
         "metadata": "{}",
         "name": "count",
         "type": "\"long\""
        }
       ],
       "type": "table"
      }
     },
     "output_type": "display_data"
    }
   ],
   "source": [
    "table = \"company.customer\"\n",
    "columns = \"Customer_ID\"\n",
    "#check some statistics results for all the columns\n",
    "display(spark.table(table).describe())\n",
    "\n",
    "#check if there are duplicates values for the primary key\n",
    "check_duplicates(table, columns)\n",
    "\n",
    "#check if there are duplicates for the content information in the table, first for the \"Customer_Name\"\n",
    "columns = [\"Customer_Name\"]\n",
    "check_duplicates(table, columns)\n",
    "\n",
    "#check if there are duplicates for the content information in the table, second for the \"Customer_Name\" and \"Customer_Segment_ID\" in the same time\n",
    "columns = [\"Customer_Segment_ID\", \"Customer_Name\"]\n",
    "check_duplicates(table, columns)"
   ]
  },
  {
   "cell_type": "markdown",
   "metadata": {
    "application/vnd.databricks.v1+cell": {
     "cellMetadata": {
      "byteLimit": 2048000,
      "rowLimit": 10000
     },
     "inputWidgets": {},
     "nuid": "d039c516-b7bc-4844-857a-51ed4f121b20",
     "showTitle": false,
     "title": ""
    }
   },
   "source": [
    "### 8. Validate the results of dimension table \"Customer_Segment\""
   ]
  },
  {
   "cell_type": "code",
   "execution_count": 0,
   "metadata": {
    "application/vnd.databricks.v1+cell": {
     "cellMetadata": {
      "byteLimit": 2048000,
      "rowLimit": 10000
     },
     "inputWidgets": {},
     "nuid": "6dd26d3d-aaf4-4ed6-8bc5-7c4a75b339a5",
     "showTitle": false,
     "title": ""
    }
   },
   "outputs": [
    {
     "output_type": "display_data",
     "data": {
      "text/html": [
       "<style scoped>\n",
       "  .table-result-container {\n",
       "    max-height: 300px;\n",
       "    overflow: auto;\n",
       "  }\n",
       "  table, th, td {\n",
       "    border: 1px solid black;\n",
       "    border-collapse: collapse;\n",
       "  }\n",
       "  th, td {\n",
       "    padding: 5px;\n",
       "  }\n",
       "  th {\n",
       "    text-align: left;\n",
       "  }\n",
       "</style><div class='table-result-container'><table class='table-result'><thead style='background-color: white'><tr><th>summary</th><th>Customer_Segment_ID</th><th>Segment</th></tr></thead><tbody><tr><td>count</td><td>3</td><td>3</td></tr><tr><td>mean</td><td>2.0</td><td>null</td></tr><tr><td>stddev</td><td>1.0</td><td>null</td></tr><tr><td>min</td><td>1</td><td>Consumer</td></tr><tr><td>max</td><td>3</td><td>Home Office</td></tr></tbody></table></div>"
      ]
     },
     "metadata": {
      "application/vnd.databricks.v1+output": {
       "addedWidgets": {},
       "aggData": [],
       "aggError": "",
       "aggOverflow": false,
       "aggSchema": [],
       "aggSeriesLimitReached": false,
       "aggType": "",
       "arguments": {},
       "columnCustomDisplayInfos": {},
       "data": [
        [
         "count",
         "3",
         "3"
        ],
        [
         "mean",
         "2.0",
         null
        ],
        [
         "stddev",
         "1.0",
         null
        ],
        [
         "min",
         "1",
         "Consumer"
        ],
        [
         "max",
         "3",
         "Home Office"
        ]
       ],
       "datasetInfos": [],
       "dbfsResultPath": null,
       "isJsonSchema": true,
       "metadata": {},
       "overflow": false,
       "plotOptions": {
        "customPlotOptions": {},
        "displayType": "table",
        "pivotAggregation": null,
        "pivotColumns": null,
        "xColumns": null,
        "yColumns": null
       },
       "removedWidgets": [],
       "schema": [
        {
         "metadata": "{}",
         "name": "summary",
         "type": "\"string\""
        },
        {
         "metadata": "{}",
         "name": "Customer_Segment_ID",
         "type": "\"string\""
        },
        {
         "metadata": "{}",
         "name": "Segment",
         "type": "\"string\""
        }
       ],
       "type": "table"
      }
     },
     "output_type": "display_data"
    },
    {
     "output_type": "stream",
     "name": "stdout",
     "output_type": "stream",
     "text": [
      "\n No duplicates\n\n No duplicates\n"
     ]
    }
   ],
   "source": [
    "table = \"company.customer_segment\"\n",
    "columns = \"Customer_Segment_ID\"\n",
    "#check some statistics results for all the columns\n",
    "display(spark.table(table).describe())\n",
    "\n",
    "#check if there are duplicates values for the primary key\n",
    "check_duplicates(table, columns)\n",
    "\n",
    "#check if there are duplicates for the content information in the table\n",
    "columns = [\"Segment\"]\n",
    "check_duplicates(table, columns)"
   ]
  },
  {
   "cell_type": "markdown",
   "metadata": {
    "application/vnd.databricks.v1+cell": {
     "cellMetadata": {
      "byteLimit": 2048000,
      "rowLimit": 10000
     },
     "inputWidgets": {},
     "nuid": "1a909075-ce8e-4c9e-a3c3-a211cf7800c2",
     "showTitle": false,
     "title": ""
    }
   },
   "source": [
    "### 9. Validate the results of dimension table \"Order_Priority\""
   ]
  },
  {
   "cell_type": "code",
   "execution_count": 0,
   "metadata": {
    "application/vnd.databricks.v1+cell": {
     "cellMetadata": {
      "byteLimit": 2048000,
      "rowLimit": 10000
     },
     "inputWidgets": {},
     "nuid": "746cd4f4-5861-4cd8-a00b-4a7c00b8c09f",
     "showTitle": false,
     "title": ""
    }
   },
   "outputs": [
    {
     "output_type": "display_data",
     "data": {
      "text/html": [
       "<style scoped>\n",
       "  .table-result-container {\n",
       "    max-height: 300px;\n",
       "    overflow: auto;\n",
       "  }\n",
       "  table, th, td {\n",
       "    border: 1px solid black;\n",
       "    border-collapse: collapse;\n",
       "  }\n",
       "  th, td {\n",
       "    padding: 5px;\n",
       "  }\n",
       "  th {\n",
       "    text-align: left;\n",
       "  }\n",
       "</style><div class='table-result-container'><table class='table-result'><thead style='background-color: white'><tr><th>summary</th><th>Order_Priority_ID</th><th>Order_Priority</th></tr></thead><tbody><tr><td>count</td><td>4</td><td>4</td></tr><tr><td>mean</td><td>2.5</td><td>null</td></tr><tr><td>stddev</td><td>1.2909944487358056</td><td>null</td></tr><tr><td>min</td><td>1</td><td>Critical</td></tr><tr><td>max</td><td>4</td><td>Medium</td></tr></tbody></table></div>"
      ]
     },
     "metadata": {
      "application/vnd.databricks.v1+output": {
       "addedWidgets": {},
       "aggData": [],
       "aggError": "",
       "aggOverflow": false,
       "aggSchema": [],
       "aggSeriesLimitReached": false,
       "aggType": "",
       "arguments": {},
       "columnCustomDisplayInfos": {},
       "data": [
        [
         "count",
         "4",
         "4"
        ],
        [
         "mean",
         "2.5",
         null
        ],
        [
         "stddev",
         "1.2909944487358056",
         null
        ],
        [
         "min",
         "1",
         "Critical"
        ],
        [
         "max",
         "4",
         "Medium"
        ]
       ],
       "datasetInfos": [],
       "dbfsResultPath": null,
       "isJsonSchema": true,
       "metadata": {},
       "overflow": false,
       "plotOptions": {
        "customPlotOptions": {},
        "displayType": "table",
        "pivotAggregation": null,
        "pivotColumns": null,
        "xColumns": null,
        "yColumns": null
       },
       "removedWidgets": [],
       "schema": [
        {
         "metadata": "{}",
         "name": "summary",
         "type": "\"string\""
        },
        {
         "metadata": "{}",
         "name": "Order_Priority_ID",
         "type": "\"string\""
        },
        {
         "metadata": "{}",
         "name": "Order_Priority",
         "type": "\"string\""
        }
       ],
       "type": "table"
      }
     },
     "output_type": "display_data"
    },
    {
     "output_type": "stream",
     "name": "stdout",
     "output_type": "stream",
     "text": [
      "\n No duplicates\n\n No duplicates\n"
     ]
    }
   ],
   "source": [
    "table = \"company.order_priority\"\n",
    "columns = \"Order_Priority_ID\"\n",
    "#check some statistics results for all the columns\n",
    "display(spark.table(table).describe())\n",
    "\n",
    "#check if there are duplicates values for the primary key\n",
    "check_duplicates(table, columns)\n",
    "\n",
    "#check if there are duplicates for the content information in the table\n",
    "columns = [\"Order_Priority\"]\n",
    "check_duplicates(table, columns)"
   ]
  },
  {
   "cell_type": "markdown",
   "metadata": {
    "application/vnd.databricks.v1+cell": {
     "cellMetadata": {
      "byteLimit": 2048000,
      "rowLimit": 10000
     },
     "inputWidgets": {},
     "nuid": "38621e65-bf62-45ed-949a-f7329e79dcbd",
     "showTitle": false,
     "title": ""
    }
   },
   "source": [
    "### 10. Validate the results of dimension table \"Product\""
   ]
  },
  {
   "cell_type": "code",
   "execution_count": 0,
   "metadata": {
    "application/vnd.databricks.v1+cell": {
     "cellMetadata": {
      "byteLimit": 2048000,
      "rowLimit": 10000
     },
     "inputWidgets": {},
     "nuid": "8b46ce7c-72e4-4b56-b2be-e78cccdab81b",
     "showTitle": false,
     "title": ""
    }
   },
   "outputs": [
    {
     "output_type": "display_data",
     "data": {
      "text/html": [
       "<style scoped>\n",
       "  .table-result-container {\n",
       "    max-height: 300px;\n",
       "    overflow: auto;\n",
       "  }\n",
       "  table, th, td {\n",
       "    border: 1px solid black;\n",
       "    border-collapse: collapse;\n",
       "  }\n",
       "  th, td {\n",
       "    padding: 5px;\n",
       "  }\n",
       "  th {\n",
       "    text-align: left;\n",
       "  }\n",
       "</style><div class='table-result-container'><table class='table-result'><thead style='background-color: white'><tr><th>summary</th><th>Product_ID</th><th>Product_Category_ID</th><th>Product_Name</th></tr></thead><tbody><tr><td>count</td><td>10292</td><td>10292</td><td>10292</td></tr><tr><td>mean</td><td>null</td><td>9.067431014380102</td><td>null</td></tr><tr><td>stddev</td><td>null</td><td>4.8366093594391</td><td>null</td></tr><tr><td>min</td><td>FUR-ADV-10000002</td><td>1</td><td>\"While you Were Out\" Message Book, One Form per Page</td></tr><tr><td>max</td><td>TEC-STA-10004927</td><td>17</td><td>netTALK DUO VoIP Telephone Service</td></tr></tbody></table></div>"
      ]
     },
     "metadata": {
      "application/vnd.databricks.v1+output": {
       "addedWidgets": {},
       "aggData": [],
       "aggError": "",
       "aggOverflow": false,
       "aggSchema": [],
       "aggSeriesLimitReached": false,
       "aggType": "",
       "arguments": {},
       "columnCustomDisplayInfos": {},
       "data": [
        [
         "count",
         "10292",
         "10292",
         "10292"
        ],
        [
         "mean",
         null,
         "9.067431014380102",
         null
        ],
        [
         "stddev",
         null,
         "4.8366093594391",
         null
        ],
        [
         "min",
         "FUR-ADV-10000002",
         "1",
         "\"While you Were Out\" Message Book, One Form per Page"
        ],
        [
         "max",
         "TEC-STA-10004927",
         "17",
         "netTALK DUO VoIP Telephone Service"
        ]
       ],
       "datasetInfos": [],
       "dbfsResultPath": null,
       "isJsonSchema": true,
       "metadata": {},
       "overflow": false,
       "plotOptions": {
        "customPlotOptions": {},
        "displayType": "table",
        "pivotAggregation": null,
        "pivotColumns": null,
        "xColumns": null,
        "yColumns": null
       },
       "removedWidgets": [],
       "schema": [
        {
         "metadata": "{}",
         "name": "summary",
         "type": "\"string\""
        },
        {
         "metadata": "{}",
         "name": "Product_ID",
         "type": "\"string\""
        },
        {
         "metadata": "{}",
         "name": "Product_Category_ID",
         "type": "\"string\""
        },
        {
         "metadata": "{}",
         "name": "Product_Name",
         "type": "\"string\""
        }
       ],
       "type": "table"
      }
     },
     "output_type": "display_data"
    },
    {
     "output_type": "stream",
     "name": "stdout",
     "output_type": "stream",
     "text": [
      "\n No duplicates\n"
     ]
    },
    {
     "output_type": "display_data",
     "data": {
      "text/html": [
       "<style scoped>\n",
       "  .table-result-container {\n",
       "    max-height: 300px;\n",
       "    overflow: auto;\n",
       "  }\n",
       "  table, th, td {\n",
       "    border: 1px solid black;\n",
       "    border-collapse: collapse;\n",
       "  }\n",
       "  th, td {\n",
       "    padding: 5px;\n",
       "  }\n",
       "  th {\n",
       "    text-align: left;\n",
       "  }\n",
       "</style><div class='table-result-container'><table class='table-result'><thead style='background-color: white'><tr><th>Product_Category_ID</th><th>Product_Name</th><th>count</th></tr></thead><tbody><tr><td>7</td><td>Wilson Jones Binder, Economy</td><td>4</td></tr><tr><td>9</td><td>Advantus Push Pins, Metal</td><td>3</td></tr><tr><td>12</td><td>Smead Folders, Wire Frame</td><td>4</td></tr><tr><td>5</td><td>Breville Microwave, Silver</td><td>5</td></tr><tr><td>6</td><td>Sanford Canvas, Blue</td><td>6</td></tr></tbody></table></div>"
      ]
     },
     "metadata": {
      "application/vnd.databricks.v1+output": {
       "addedWidgets": {},
       "aggData": [],
       "aggError": "",
       "aggOverflow": false,
       "aggSchema": [],
       "aggSeriesLimitReached": false,
       "aggType": "",
       "arguments": {},
       "columnCustomDisplayInfos": {},
       "data": [
        [
         7,
         "Wilson Jones Binder, Economy",
         4
        ],
        [
         9,
         "Advantus Push Pins, Metal",
         3
        ],
        [
         12,
         "Smead Folders, Wire Frame",
         4
        ],
        [
         5,
         "Breville Microwave, Silver",
         5
        ],
        [
         6,
         "Sanford Canvas, Blue",
         6
        ]
       ],
       "datasetInfos": [],
       "dbfsResultPath": null,
       "isJsonSchema": true,
       "metadata": {},
       "overflow": false,
       "plotOptions": {
        "customPlotOptions": {},
        "displayType": "table",
        "pivotAggregation": null,
        "pivotColumns": null,
        "xColumns": null,
        "yColumns": null
       },
       "removedWidgets": [],
       "schema": [
        {
         "metadata": "{}",
         "name": "Product_Category_ID",
         "type": "\"long\""
        },
        {
         "metadata": "{}",
         "name": "Product_Name",
         "type": "\"string\""
        },
        {
         "metadata": "{}",
         "name": "count",
         "type": "\"long\""
        }
       ],
       "type": "table"
      }
     },
     "output_type": "display_data"
    }
   ],
   "source": [
    "table = \"company.product\"\n",
    "columns = \"Product_ID\"\n",
    "#check some statistics results for all the columns\n",
    "display(spark.table(table).describe())\n",
    "\n",
    "#check if there are duplicates values for the primary key\n",
    "check_duplicates(table, columns)\n",
    "\n",
    "#check if there are duplicates for the content information in the table\n",
    "columns = [\"Product_Category_ID\", \"Product_Name\"]\n",
    "check_duplicates(table, columns)"
   ]
  },
  {
   "cell_type": "markdown",
   "metadata": {
    "application/vnd.databricks.v1+cell": {
     "cellMetadata": {
      "byteLimit": 2048000,
      "rowLimit": 10000
     },
     "inputWidgets": {},
     "nuid": "9c65d919-efa4-449a-8b1a-48de4b03da4d",
     "showTitle": false,
     "title": ""
    }
   },
   "source": [
    "### 11. Validate the results of dimension table \"Product_Category\""
   ]
  },
  {
   "cell_type": "code",
   "execution_count": 0,
   "metadata": {
    "application/vnd.databricks.v1+cell": {
     "cellMetadata": {
      "byteLimit": 2048000,
      "rowLimit": 10000
     },
     "inputWidgets": {},
     "nuid": "ceff39f4-7805-4415-a3f9-694c1096096f",
     "showTitle": false,
     "title": ""
    }
   },
   "outputs": [
    {
     "output_type": "display_data",
     "data": {
      "text/html": [
       "<style scoped>\n",
       "  .table-result-container {\n",
       "    max-height: 300px;\n",
       "    overflow: auto;\n",
       "  }\n",
       "  table, th, td {\n",
       "    border: 1px solid black;\n",
       "    border-collapse: collapse;\n",
       "  }\n",
       "  th, td {\n",
       "    padding: 5px;\n",
       "  }\n",
       "  th {\n",
       "    text-align: left;\n",
       "  }\n",
       "</style><div class='table-result-container'><table class='table-result'><thead style='background-color: white'><tr><th>summary</th><th>Product_Category_ID</th><th>Category</th><th>Sub_Category</th></tr></thead><tbody><tr><td>count</td><td>17</td><td>17</td><td>17</td></tr><tr><td>mean</td><td>9.0</td><td>null</td><td>null</td></tr><tr><td>stddev</td><td>5.049752469181039</td><td>null</td><td>null</td></tr><tr><td>min</td><td>1</td><td>Furniture</td><td>Accessories</td></tr><tr><td>max</td><td>17</td><td>Technology</td><td>Tables</td></tr></tbody></table></div>"
      ]
     },
     "metadata": {
      "application/vnd.databricks.v1+output": {
       "addedWidgets": {},
       "aggData": [],
       "aggError": "",
       "aggOverflow": false,
       "aggSchema": [],
       "aggSeriesLimitReached": false,
       "aggType": "",
       "arguments": {},
       "columnCustomDisplayInfos": {},
       "data": [
        [
         "count",
         "17",
         "17",
         "17"
        ],
        [
         "mean",
         "9.0",
         null,
         null
        ],
        [
         "stddev",
         "5.049752469181039",
         null,
         null
        ],
        [
         "min",
         "1",
         "Furniture",
         "Accessories"
        ],
        [
         "max",
         "17",
         "Technology",
         "Tables"
        ]
       ],
       "datasetInfos": [],
       "dbfsResultPath": null,
       "isJsonSchema": true,
       "metadata": {},
       "overflow": false,
       "plotOptions": {
        "customPlotOptions": {},
        "displayType": "table",
        "pivotAggregation": null,
        "pivotColumns": null,
        "xColumns": null,
        "yColumns": null
       },
       "removedWidgets": [],
       "schema": [
        {
         "metadata": "{}",
         "name": "summary",
         "type": "\"string\""
        },
        {
         "metadata": "{}",
         "name": "Product_Category_ID",
         "type": "\"string\""
        },
        {
         "metadata": "{}",
         "name": "Category",
         "type": "\"string\""
        },
        {
         "metadata": "{}",
         "name": "Sub_Category",
         "type": "\"string\""
        }
       ],
       "type": "table"
      }
     },
     "output_type": "display_data"
    },
    {
     "output_type": "stream",
     "name": "stdout",
     "output_type": "stream",
     "text": [
      "\n No duplicates\n\n No duplicates\n"
     ]
    }
   ],
   "source": [
    "table = \"company.product_category\"\n",
    "columns = \"Product_Category_ID\"\n",
    "#check some statistics results for all the columns\n",
    "display(spark.table(table).describe())\n",
    "\n",
    "#check if there are duplicates values for the primary key\n",
    "check_duplicates(table, columns)\n",
    "\n",
    "#check if there are duplicates for the content information in the table\n",
    "columns = [\"Category\", \"Sub_Category\"]\n",
    "check_duplicates(table, columns)"
   ]
  }
 ],
 "metadata": {
  "application/vnd.databricks.v1+notebook": {
   "dashboards": [],
   "language": "python",
   "notebookMetadata": {
    "pythonIndentUnit": 4
   },
   "notebookName": "1_Data_Quality",
   "widgets": {}
  }
 },
 "nbformat": 4,
 "nbformat_minor": 0
}
