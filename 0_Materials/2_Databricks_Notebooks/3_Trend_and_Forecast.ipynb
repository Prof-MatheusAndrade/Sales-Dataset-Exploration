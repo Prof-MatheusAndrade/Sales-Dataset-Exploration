{
 "cells": [
  {
   "cell_type": "markdown",
   "metadata": {
    "application/vnd.databricks.v1+cell": {
     "cellMetadata": {},
     "inputWidgets": {},
     "nuid": "7d2cc996-252f-4b37-98c0-9ffda6a35e97",
     "showTitle": false,
     "title": ""
    }
   },
   "source": [
    "# Company Inc - Sales Data Analysis"
   ]
  },
  {
   "cell_type": "markdown",
   "metadata": {
    "application/vnd.databricks.v1+cell": {
     "cellMetadata": {},
     "inputWidgets": {},
     "nuid": "15e5d286-3a98-467a-9ed2-f9bb3a82f454",
     "showTitle": false,
     "title": ""
    }
   },
   "source": [
    "## Office Supplies Market trend and the forecast for the next year (2015)\n",
    "\n",
    "<br>\n",
    "\n",
    "### This notebook was developed to analyse Office Supplies Market trend and provide a forecast for the next year "
   ]
  },
  {
   "cell_type": "markdown",
   "metadata": {
    "application/vnd.databricks.v1+cell": {
     "cellMetadata": {},
     "inputWidgets": {},
     "nuid": "199deff1-56e9-4c4d-b506-43383e92e03f",
     "showTitle": false,
     "title": ""
    }
   },
   "source": [
    "### PyCaret is an open-source machine learning library designed for streamlined and effective end-to-end predictive modeling. It was chosen to support the analysis, and the installation steps for the PyCaret library are provided below."
   ]
  },
  {
   "cell_type": "code",
   "execution_count": 0,
   "metadata": {
    "application/vnd.databricks.v1+cell": {
     "cellMetadata": {
      "byteLimit": 2048000,
      "rowLimit": 10000
     },
     "inputWidgets": {},
     "nuid": "0a582355-e49a-4194-b955-1b6f39f778f6",
     "showTitle": false,
     "title": ""
    }
   },
   "outputs": [
    {
     "output_type": "stream",
     "name": "stdout",
     "output_type": "stream",
     "text": [
      "Collecting pycaret==3.2.0\r\n  Using cached pycaret-3.2.0-py3-none-any.whl (484 kB)\r\nCollecting kaleido>=0.2.1\r\n  Using cached kaleido-0.2.1-py2.py3-none-manylinux1_x86_64.whl (79.9 MB)\r\nCollecting cloudpickle\r\n  Using cached cloudpickle-3.0.0-py3-none-any.whl (20 kB)\r\nRequirement already satisfied: nbformat>=4.2.0 in /databricks/python3/lib/python3.9/site-packages (from pycaret==3.2.0) (5.3.0)\r\nCollecting tbats>=1.1.3\r\n  Using cached tbats-1.1.3-py3-none-any.whl (44 kB)\r\nRequirement already satisfied: plotly>=5.0.0 in /databricks/python3/lib/python3.9/site-packages (from pycaret==3.2.0) (5.6.0)\r\nCollecting numba>=0.55.0\r\n  Using cached numba-0.58.1-cp39-cp39-manylinux2014_x86_64.manylinux_2_17_x86_64.whl (3.6 MB)\r\nCollecting xxhash\r\n  Using cached xxhash-3.4.1-cp39-cp39-manylinux_2_17_x86_64.manylinux2014_x86_64.whl (193 kB)\r\nCollecting scikit-plot>=0.3.7\r\n  Using cached scikit_plot-0.3.7-py3-none-any.whl (33 kB)\r\nCollecting scipy~=1.10.1\r\n  Using cached scipy-1.10.1-cp39-cp39-manylinux_2_17_x86_64.manylinux2014_x86_64.whl (34.5 MB)\r\nRequirement already satisfied: matplotlib<=3.6,>=3.3.0 in /databricks/python3/lib/python3.9/site-packages (from pycaret==3.2.0) (3.5.1)\r\nCollecting wurlitzer\r\n  Using cached wurlitzer-3.0.3-py3-none-any.whl (7.3 kB)\r\nRequirement already satisfied: requests>=2.27.1 in /databricks/python3/lib/python3.9/site-packages (from pycaret==3.2.0) (2.27.1)\r\nCollecting sktime!=0.17.1,!=0.17.2,!=0.18.0,<0.22.0,>=0.16.1\r\n  Using cached sktime-0.21.1-py3-none-any.whl (17.1 MB)\r\nCollecting imbalanced-learn>=0.8.1\r\n  Using cached imbalanced_learn-0.11.0-py3-none-any.whl (235 kB)\r\nRequirement already satisfied: numpy<1.27,>=1.21 in /databricks/python3/lib/python3.9/site-packages (from pycaret==3.2.0) (1.21.5)\r\nRequirement already satisfied: markupsafe>=2.0.1 in /databricks/python3/lib/python3.9/site-packages (from pycaret==3.2.0) (2.0.1)\r\nCollecting pyod>=1.0.8\r\n  Using cached pyod-1.1.2-py3-none-any.whl\r\nRequirement already satisfied: ipywidgets>=7.6.5 in /databricks/python3/lib/python3.9/site-packages (from pycaret==3.2.0) (7.7.2)\r\nCollecting deprecation>=2.1.0\r\n  Using cached deprecation-2.1.0-py2.py3-none-any.whl (11 kB)\r\nCollecting tqdm>=4.62.0\r\n  Using cached tqdm-4.66.1-py3-none-any.whl (78 kB)\r\nCollecting category-encoders>=2.4.0\r\n  Using cached category_encoders-2.6.3-py2.py3-none-any.whl (81 kB)\r\nCollecting joblib>=1.2.0\r\n  Using cached joblib-1.3.2-py3-none-any.whl (302 kB)\r\nRequirement already satisfied: statsmodels>=0.12.1 in /databricks/python3/lib/python3.9/site-packages (from pycaret==3.2.0) (0.13.2)\r\nRequirement already satisfied: pandas<2.0.0,>=1.3.0 in /databricks/python3/lib/python3.9/site-packages (from pycaret==3.2.0) (1.4.2)\r\nCollecting plotly-resampler>=0.8.3.1\r\n  Using cached plotly_resampler-0.9.1-py3-none-any.whl (73 kB)\r\nCollecting yellowbrick>=1.4\r\n  Using cached yellowbrick-1.5-py3-none-any.whl (282 kB)\r\nCollecting psutil>=5.9.0\r\n  Using cached psutil-5.9.7-cp36-abi3-manylinux_2_12_x86_64.manylinux2010_x86_64.manylinux_2_17_x86_64.manylinux2014_x86_64.whl (285 kB)\r\nCollecting schemdraw==0.15\r\n  Using cached schemdraw-0.15-py3-none-any.whl (106 kB)\r\nCollecting pmdarima!=1.8.1,<3.0.0,>=1.8.0\r\n  Using cached pmdarima-2.0.4-cp39-cp39-manylinux_2_17_x86_64.manylinux2014_x86_64.manylinux_2_28_x86_64.whl (2.1 MB)\r\nRequirement already satisfied: scikit-learn<1.3.0,>=1.0 in /databricks/python3/lib/python3.9/site-packages (from pycaret==3.2.0) (1.0.2)\r\nRequirement already satisfied: ipython>=5.5.0 in /databricks/python3/lib/python3.9/site-packages (from pycaret==3.2.0) (8.5.0)\r\nRequirement already satisfied: jinja2>=1.2 in /databricks/python3/lib/python3.9/site-packages (from pycaret==3.2.0) (2.11.3)\r\nCollecting lightgbm>=3.0.0\r\n  Using cached lightgbm-4.2.0-py3-none-manylinux_2_28_x86_64.whl (3.1 MB)\r\nCollecting importlib-metadata>=4.12.0\r\n  Using cached importlib_metadata-7.0.1-py3-none-any.whl (23 kB)\r\nRequirement already satisfied: patsy>=0.5.1 in /databricks/python3/lib/python3.9/site-packages (from category-encoders>=2.4.0->pycaret==3.2.0) (0.5.2)\r\nRequirement already satisfied: packaging in /databricks/python3/lib/python3.9/site-packages (from deprecation>=2.1.0->pycaret==3.2.0) (21.3)\r\nRequirement already satisfied: threadpoolctl>=2.0.0 in /databricks/python3/lib/python3.9/site-packages (from imbalanced-learn>=0.8.1->pycaret==3.2.0) (2.2.0)\r\nCollecting zipp>=0.5\r\n  Using cached zipp-3.17.0-py3-none-any.whl (7.4 kB)\r\nRequirement already satisfied: prompt-toolkit<3.1.0,>3.0.1 in /databricks/python3/lib/python3.9/site-packages (from ipython>=5.5.0->pycaret==3.2.0) (3.0.20)\r\nRequirement already satisfied: pygments>=2.4.0 in /databricks/python3/lib/python3.9/site-packages (from ipython>=5.5.0->pycaret==3.2.0) (2.11.2)\r\nRequirement already satisfied: pexpect>4.3 in /databricks/python3/lib/python3.9/site-packages (from ipython>=5.5.0->pycaret==3.2.0) (4.8.0)\r\nRequirement already satisfied: traitlets>=5 in /databricks/python3/lib/python3.9/site-packages (from ipython>=5.5.0->pycaret==3.2.0) (5.1.1)\r\nRequirement already satisfied: decorator in /databricks/python3/lib/python3.9/site-packages (from ipython>=5.5.0->pycaret==3.2.0) (5.1.1)\r\nRequirement already satisfied: stack-data in /databricks/python3/lib/python3.9/site-packages (from ipython>=5.5.0->pycaret==3.2.0) (0.2.0)\r\nRequirement already satisfied: backcall in /databricks/python3/lib/python3.9/site-packages (from ipython>=5.5.0->pycaret==3.2.0) (0.2.0)\r\nRequirement already satisfied: jedi>=0.16 in /databricks/python3/lib/python3.9/site-packages (from ipython>=5.5.0->pycaret==3.2.0) (0.18.1)\r\nRequirement already satisfied: pickleshare in /databricks/python3/lib/python3.9/site-packages (from ipython>=5.5.0->pycaret==3.2.0) (0.7.5)\r\nRequirement already satisfied: matplotlib-inline in /databricks/python3/lib/python3.9/site-packages (from ipython>=5.5.0->pycaret==3.2.0) (0.1.2)\r\nRequirement already satisfied: widgetsnbextension~=3.6.0 in /databricks/python3/lib/python3.9/site-packages (from ipywidgets>=7.6.5->pycaret==3.2.0) (3.6.1)\r\nRequirement already satisfied: jupyterlab-widgets<3,>=1.0.0 in /databricks/python3/lib/python3.9/site-packages (from ipywidgets>=7.6.5->pycaret==3.2.0) (1.0.0)\r\nRequirement already satisfied: ipython-genutils~=0.2.0 in /databricks/python3/lib/python3.9/site-packages (from ipywidgets>=7.6.5->pycaret==3.2.0) (0.2.0)\r\nRequirement already satisfied: ipykernel>=4.5.1 in /databricks/python3/lib/python3.9/site-packages (from ipywidgets>=7.6.5->pycaret==3.2.0) (6.15.3)\r\nRequirement already satisfied: tornado>=6.1 in /databricks/python3/lib/python3.9/site-packages (from ipykernel>=4.5.1->ipywidgets>=7.6.5->pycaret==3.2.0) (6.1)\r\nRequirement already satisfied: pyzmq>=17 in /databricks/python3/lib/python3.9/site-packages (from ipykernel>=4.5.1->ipywidgets>=7.6.5->pycaret==3.2.0) (22.3.0)\r\nRequirement already satisfied: jupyter-client>=6.1.12 in /databricks/python3/lib/python3.9/site-packages (from ipykernel>=4.5.1->ipywidgets>=7.6.5->pycaret==3.2.0) (6.1.12)\r\nRequirement already satisfied: debugpy>=1.0 in /databricks/python3/lib/python3.9/site-packages (from ipykernel>=4.5.1->ipywidgets>=7.6.5->pycaret==3.2.0) (1.5.1)\r\nRequirement already satisfied: nest-asyncio in /databricks/python3/lib/python3.9/site-packages (from ipykernel>=4.5.1->ipywidgets>=7.6.5->pycaret==3.2.0) (1.5.5)\r\nRequirement already satisfied: parso<0.9.0,>=0.8.0 in /databricks/python3/lib/python3.9/site-packages (from jedi>=0.16->ipython>=5.5.0->pycaret==3.2.0) (0.8.3)\r\nRequirement already satisfied: python-dateutil>=2.1 in /databricks/python3/lib/python3.9/site-packages (from jupyter-client>=6.1.12->ipykernel>=4.5.1->ipywidgets>=7.6.5->pycaret==3.2.0) (2.8.2)\r\nRequirement already satisfied: jupyter-core>=4.6.0 in /databricks/python3/lib/python3.9/site-packages (from jupyter-client>=6.1.12->ipykernel>=4.5.1->ipywidgets>=7.6.5->pycaret==3.2.0) (4.11.2)\r\nRequirement already satisfied: fonttools>=4.22.0 in /databricks/python3/lib/python3.9/site-packages (from matplotlib<=3.6,>=3.3.0->pycaret==3.2.0) (4.25.0)\r\nRequirement already satisfied: kiwisolver>=1.0.1 in /databricks/python3/lib/python3.9/site-packages (from matplotlib<=3.6,>=3.3.0->pycaret==3.2.0) (1.3.2)\r\nRequirement already satisfied: pyparsing>=2.2.1 in /databricks/python3/lib/python3.9/site-packages (from matplotlib<=3.6,>=3.3.0->pycaret==3.2.0) (3.0.4)\r\nRequirement already satisfied: cycler>=0.10 in /databricks/python3/lib/python3.9/site-packages (from matplotlib<=3.6,>=3.3.0->pycaret==3.2.0) (0.11.0)\r\nRequirement already satisfied: pillow>=6.2.0 in /databricks/python3/lib/python3.9/site-packages (from matplotlib<=3.6,>=3.3.0->pycaret==3.2.0) (9.0.1)\r\nRequirement already satisfied: jsonschema>=2.6 in /databricks/python3/lib/python3.9/site-packages (from nbformat>=4.2.0->pycaret==3.2.0) (4.4.0)\r\nRequirement already satisfied: fastjsonschema in /databricks/python3/lib/python3.9/site-packages (from nbformat>=4.2.0->pycaret==3.2.0) (2.16.2)\r\nRequirement already satisfied: attrs>=17.4.0 in /databricks/python3/lib/python3.9/site-packages (from jsonschema>=2.6->nbformat>=4.2.0->pycaret==3.2.0) (21.4.0)\r\nRequirement already satisfied: pyrsistent!=0.17.0,!=0.17.1,!=0.17.2,>=0.14.0 in /databricks/python3/lib/python3.9/site-packages (from jsonschema>=2.6->nbformat>=4.2.0->pycaret==3.2.0) (0.18.0)\r\nCollecting llvmlite<0.42,>=0.41.0dev0\r\n  Using cached llvmlite-0.41.1-cp39-cp39-manylinux_2_17_x86_64.manylinux2014_x86_64.whl (43.6 MB)\r\nCollecting numpy<1.27,>=1.21\r\n  Using cached numpy-1.26.3-cp39-cp39-manylinux_2_17_x86_64.manylinux2014_x86_64.whl (18.2 MB)\r\nRequirement already satisfied: pytz>=2020.1 in /databricks/python3/lib/python3.9/site-packages (from pandas<2.0.0,>=1.3.0->pycaret==3.2.0) (2021.3)\r\nRequirement already satisfied: six in /databricks/python3/lib/python3.9/site-packages (from patsy>=0.5.1->category-encoders>=2.4.0->pycaret==3.2.0) (1.16.0)\r\nRequirement already satisfied: ptyprocess>=0.5 in /databricks/python3/lib/python3.9/site-packages (from pexpect>4.3->ipython>=5.5.0->pycaret==3.2.0) (0.7.0)\r\nRequirement already satisfied: tenacity>=6.2.0 in /databricks/python3/lib/python3.9/site-packages (from plotly>=5.0.0->pycaret==3.2.0) (8.0.1)\r\nCollecting dash<3.0.0,>=2.11.0\r\n  Using cached dash-2.14.2-py3-none-any.whl (10.2 MB)\r\nCollecting tsdownsample==0.1.2\r\n  Using cached tsdownsample-0.1.2-cp39-cp39-manylinux_2_17_x86_64.manylinux2014_x86_64.whl (2.3 MB)\r\nCollecting orjson<4.0.0,>=3.8.0\r\n  Using cached orjson-3.9.10-cp39-cp39-manylinux_2_17_x86_64.manylinux2014_x86_64.whl (138 kB)\r\nCollecting trace-updater>=0.0.8\r\n  Using cached trace_updater-0.0.9.1-py3-none-any.whl (185 kB)\r\nCollecting retrying\r\n  Using cached retrying-1.3.4-py3-none-any.whl (11 kB)\r\nCollecting dash-core-components==2.0.0\r\n  Using cached dash_core_components-2.0.0-py3-none-any.whl (3.8 kB)\r\nCollecting dash-table==5.0.0\r\n  Using cached dash_table-5.0.0-py3-none-any.whl (3.9 kB)\r\nCollecting ansi2html\r\n  Using cached ansi2html-1.9.1-py3-none-any.whl (17 kB)\r\nCollecting dash-html-components==2.0.0\r\n  Using cached dash_html_components-2.0.0-py3-none-any.whl (4.1 kB)\r\nRequirement already satisfied: setuptools in /databricks/python3/lib/python3.9/site-packages (from dash<3.0.0,>=2.11.0->plotly-resampler>=0.8.3.1->pycaret==3.2.0) (61.2.0)\r\nCollecting Flask<3.1,>=1.0.4\r\n  Using cached flask-3.0.0-py3-none-any.whl (99 kB)\r\nCollecting Werkzeug<3.1\r\n  Using cached werkzeug-3.0.1-py3-none-any.whl (226 kB)\r\nRequirement already satisfied: typing-extensions>=4.1.1 in /databricks/python3/lib/python3.9/site-packages (from dash<3.0.0,>=2.11.0->plotly-resampler>=0.8.3.1->pycaret==3.2.0) (4.1.1)\r\nCollecting click>=8.1.3\r\n  Using cached click-8.1.7-py3-none-any.whl (97 kB)\r\nCollecting blinker>=1.6.2\r\n  Using cached blinker-1.7.0-py3-none-any.whl (13 kB)\r\nCollecting jinja2>=1.2\r\n  Using cached Jinja2-3.1.2-py3-none-any.whl (133 kB)\r\nCollecting itsdangerous>=2.1.2\r\n  Using cached itsdangerous-2.1.2-py3-none-any.whl (15 kB)\r\nRequirement already satisfied: Cython!=0.29.18,!=0.29.31,>=0.29 in /databricks/python3/lib/python3.9/site-packages (from pmdarima!=1.8.1,<3.0.0,>=1.8.0->pycaret==3.2.0) (0.29.28)\r\nRequirement already satisfied: urllib3 in /databricks/python3/lib/python3.9/site-packages (from pmdarima!=1.8.1,<3.0.0,>=1.8.0->pycaret==3.2.0) (1.26.9)\r\nRequirement already satisfied: wcwidth in /databricks/python3/lib/python3.9/site-packages (from prompt-toolkit<3.1.0,>3.0.1->ipython>=5.5.0->pycaret==3.2.0) (0.2.5)\r\nRequirement already satisfied: idna<4,>=2.5 in /databricks/python3/lib/python3.9/site-packages (from requests>=2.27.1->pycaret==3.2.0) (3.3)\r\nRequirement already satisfied: charset-normalizer~=2.0.0 in /databricks/python3/lib/python3.9/site-packages (from requests>=2.27.1->pycaret==3.2.0) (2.0.4)\r\nRequirement already satisfied: certifi>=2017.4.17 in /databricks/python3/lib/python3.9/site-packages (from requests>=2.27.1->pycaret==3.2.0) (2021.10.8)\r\nCollecting scikit-base<0.6.0\r\n  Using cached scikit_base-0.5.2-py3-none-any.whl (118 kB)\r\nCollecting deprecated>=1.2.13\r\n  Using cached Deprecated-1.2.14-py2.py3-none-any.whl (9.6 kB)\r\nCollecting numpy<1.27,>=1.21\r\n  Using cached numpy-1.25.2-cp39-cp39-manylinux_2_17_x86_64.manylinux2014_x86_64.whl (18.3 MB)\r\nCollecting wrapt<2,>=1.10\r\n  Using cached wrapt-1.16.0-cp39-cp39-manylinux_2_5_x86_64.manylinux1_x86_64.manylinux_2_17_x86_64.manylinux2014_x86_64.whl (80 kB)\r\nCollecting markupsafe>=2.0.1\r\n  Using cached MarkupSafe-2.1.3-cp39-cp39-manylinux_2_17_x86_64.manylinux2014_x86_64.whl (25 kB)\r\nRequirement already satisfied: notebook>=4.4.1 in /databricks/python3/lib/python3.9/site-packages (from widgetsnbextension~=3.6.0->ipywidgets>=7.6.5->pycaret==3.2.0) (6.4.8)\r\nRequirement already satisfied: argon2-cffi in /databricks/python3/lib/python3.9/site-packages (from notebook>=4.4.1->widgetsnbextension~=3.6.0->ipywidgets>=7.6.5->pycaret==3.2.0) (21.3.0)\r\nRequirement already satisfied: nbconvert in /databricks/python3/lib/python3.9/site-packages (from notebook>=4.4.1->widgetsnbextension~=3.6.0->ipywidgets>=7.6.5->pycaret==3.2.0) (6.4.4)\r\nRequirement already satisfied: prometheus-client in /databricks/python3/lib/python3.9/site-packages (from notebook>=4.4.1->widgetsnbextension~=3.6.0->ipywidgets>=7.6.5->pycaret==3.2.0) (0.13.1)\r\nRequirement already satisfied: Send2Trash>=1.8.0 in /databricks/python3/lib/python3.9/site-packages (from notebook>=4.4.1->widgetsnbextension~=3.6.0->ipywidgets>=7.6.5->pycaret==3.2.0) (1.8.0)\r\nRequirement already satisfied: terminado>=0.8.3 in /databricks/python3/lib/python3.9/site-packages (from notebook>=4.4.1->widgetsnbextension~=3.6.0->ipywidgets>=7.6.5->pycaret==3.2.0) (0.13.1)\r\nRequirement already satisfied: argon2-cffi-bindings in /databricks/python3/lib/python3.9/site-packages (from argon2-cffi->notebook>=4.4.1->widgetsnbextension~=3.6.0->ipywidgets>=7.6.5->pycaret==3.2.0) (21.2.0)\r\nRequirement already satisfied: cffi>=1.0.1 in /databricks/python3/lib/python3.9/site-packages (from argon2-cffi-bindings->argon2-cffi->notebook>=4.4.1->widgetsnbextension~=3.6.0->ipywidgets>=7.6.5->pycaret==3.2.0) (1.15.0)\r\nRequirement already satisfied: pycparser in /databricks/python3/lib/python3.9/site-packages (from cffi>=1.0.1->argon2-cffi-bindings->argon2-cffi->notebook>=4.4.1->widgetsnbextension~=3.6.0->ipywidgets>=7.6.5->pycaret==3.2.0) (2.21)\r\nRequirement already satisfied: pandocfilters>=1.4.1 in /databricks/python3/lib/python3.9/site-packages (from nbconvert->notebook>=4.4.1->widgetsnbextension~=3.6.0->ipywidgets>=7.6.5->pycaret==3.2.0) (1.5.0)\r\nRequirement already satisfied: defusedxml in /databricks/python3/lib/python3.9/site-packages (from nbconvert->notebook>=4.4.1->widgetsnbextension~=3.6.0->ipywidgets>=7.6.5->pycaret==3.2.0) (0.7.1)\r\nRequirement already satisfied: nbclient<0.6.0,>=0.5.0 in /databricks/python3/lib/python3.9/site-packages (from nbconvert->notebook>=4.4.1->widgetsnbextension~=3.6.0->ipywidgets>=7.6.5->pycaret==3.2.0) (0.5.13)\r\nRequirement already satisfied: entrypoints>=0.2.2 in /databricks/python3/lib/python3.9/site-packages (from nbconvert->notebook>=4.4.1->widgetsnbextension~=3.6.0->ipywidgets>=7.6.5->pycaret==3.2.0) (0.4)\r\nRequirement already satisfied: testpath in /databricks/python3/lib/python3.9/site-packages (from nbconvert->notebook>=4.4.1->widgetsnbextension~=3.6.0->ipywidgets>=7.6.5->pycaret==3.2.0) (0.5.0)\r\nRequirement already satisfied: beautifulsoup4 in /databricks/python3/lib/python3.9/site-packages (from nbconvert->notebook>=4.4.1->widgetsnbextension~=3.6.0->ipywidgets>=7.6.5->pycaret==3.2.0) (4.11.1)\r\nRequirement already satisfied: bleach in /databricks/python3/lib/python3.9/site-packages (from nbconvert->notebook>=4.4.1->widgetsnbextension~=3.6.0->ipywidgets>=7.6.5->pycaret==3.2.0) (4.1.0)\r\nRequirement already satisfied: jupyterlab-pygments in /databricks/python3/lib/python3.9/site-packages (from nbconvert->notebook>=4.4.1->widgetsnbextension~=3.6.0->ipywidgets>=7.6.5->pycaret==3.2.0) (0.1.2)\r\nRequirement already satisfied: mistune<2,>=0.8.1 in /databricks/python3/lib/python3.9/site-packages (from nbconvert->notebook>=4.4.1->widgetsnbextension~=3.6.0->ipywidgets>=7.6.5->pycaret==3.2.0) (0.8.4)\r\nRequirement already satisfied: soupsieve>1.2 in /databricks/python3/lib/python3.9/site-packages (from beautifulsoup4->nbconvert->notebook>=4.4.1->widgetsnbextension~=3.6.0->ipywidgets>=7.6.5->pycaret==3.2.0) (2.3.1)\r\nRequirement already satisfied: webencodings in /databricks/python3/lib/python3.9/site-packages (from bleach->nbconvert->notebook>=4.4.1->widgetsnbextension~=3.6.0->ipywidgets>=7.6.5->pycaret==3.2.0) (0.5.1)\r\nRequirement already satisfied: pure-eval in /databricks/python3/lib/python3.9/site-packages (from stack-data->ipython>=5.5.0->pycaret==3.2.0) (0.2.2)\r\nRequirement already satisfied: asttokens in /databricks/python3/lib/python3.9/site-packages (from stack-data->ipython>=5.5.0->pycaret==3.2.0) (2.0.5)\r\nRequirement already satisfied: executing in /databricks/python3/lib/python3.9/site-packages (from stack-data->ipython>=5.5.0->pycaret==3.2.0) (0.8.3)\r\nInstalling collected packages: markupsafe, zipp, psutil, numpy, jinja2, Werkzeug, scipy, joblib, itsdangerous, importlib-metadata, click, blinker, wrapt, retrying, llvmlite, Flask, dash-table, dash-html-components, dash-core-components, ansi2html, tsdownsample, trace-updater, scikit-base, pmdarima, orjson, numba, deprecated, dash, yellowbrick, xxhash, wurlitzer, tqdm, tbats, sktime, scikit-plot, schemdraw, pyod, plotly-resampler, lightgbm, kaleido, imbalanced-learn, deprecation, cloudpickle, category-encoders, pycaret\r\n  Attempting uninstall: markupsafe\r\n    Found existing installation: MarkupSafe 2.0.1\r\n    Not uninstalling markupsafe at /databricks/python3/lib/python3.9/site-packages, outside environment /local_disk0/.ephemeral_nfs/envs/pythonEnv-99f72275-5968-4dde-b3cd-9a0eb6f30208\r\n    Can't uninstall 'MarkupSafe'. No files were found to uninstall.\r\n  Attempting uninstall: psutil\r\n    Found existing installation: psutil 5.8.0\r\n    Not uninstalling psutil at /databricks/python3/lib/python3.9/site-packages, outside environment /local_disk0/.ephemeral_nfs/envs/pythonEnv-99f72275-5968-4dde-b3cd-9a0eb6f30208\r\n    Can't uninstall 'psutil'. No files were found to uninstall.\r\n  Attempting uninstall: numpy\r\n    Found existing installation: numpy 1.21.5\r\n    Not uninstalling numpy at /databricks/python3/lib/python3.9/site-packages, outside environment /local_disk0/.ephemeral_nfs/envs/pythonEnv-99f72275-5968-4dde-b3cd-9a0eb6f30208\r\n    Can't uninstall 'numpy'. No files were found to uninstall.\r\n  Attempting uninstall: jinja2\r\n    Found existing installation: Jinja2 2.11.3\r\n    Not uninstalling jinja2 at /databricks/python3/lib/python3.9/site-packages, outside environment /local_disk0/.ephemeral_nfs/envs/pythonEnv-99f72275-5968-4dde-b3cd-9a0eb6f30208\r\n    Can't uninstall 'Jinja2'. No files were found to uninstall.\r\n  Attempting uninstall: scipy\r\n    Found existing installation: scipy 1.7.3\r\n    Not uninstalling scipy at /databricks/python3/lib/python3.9/site-packages, outside environment /local_disk0/.ephemeral_nfs/envs/pythonEnv-99f72275-5968-4dde-b3cd-9a0eb6f30208\r\n    Can't uninstall 'scipy'. No files were found to uninstall.\r\n  Attempting uninstall: joblib\r\n    Found existing installation: joblib 1.1.1\r\n    Not uninstalling joblib at /databricks/python3/lib/python3.9/site-packages, outside environment /local_disk0/.ephemeral_nfs/envs/pythonEnv-99f72275-5968-4dde-b3cd-9a0eb6f30208\r\n    Can't uninstall 'joblib'. No files were found to uninstall.\r\n  Attempting uninstall: click\r\n    Found existing installation: click 8.0.4\r\n    Not uninstalling click at /databricks/python3/lib/python3.9/site-packages, outside environment /local_disk0/.ephemeral_nfs/envs/pythonEnv-99f72275-5968-4dde-b3cd-9a0eb6f30208\r\n    Can't uninstall 'click'. No files were found to uninstall.\r\nSuccessfully installed Flask-3.0.0 Werkzeug-3.0.1 ansi2html-1.9.1 blinker-1.7.0 category-encoders-2.6.3 click-8.1.7 cloudpickle-3.0.0 dash-2.14.2 dash-core-components-2.0.0 dash-html-components-2.0.0 dash-table-5.0.0 deprecated-1.2.14 deprecation-2.1.0 imbalanced-learn-0.11.0 importlib-metadata-7.0.1 itsdangerous-2.1.2 jinja2-3.1.2 joblib-1.3.2 kaleido-0.2.1 lightgbm-4.2.0 llvmlite-0.41.1 markupsafe-2.1.3 numba-0.58.1 numpy-1.25.2 orjson-3.9.10 plotly-resampler-0.9.1 pmdarima-2.0.4 psutil-5.9.7 pycaret-3.2.0 pyod-1.1.2 retrying-1.3.4 schemdraw-0.15 scikit-base-0.5.2 scikit-plot-0.3.7 scipy-1.10.1 sktime-0.21.1 tbats-1.1.3 tqdm-4.66.1 trace-updater-0.0.9.1 tsdownsample-0.1.2 wrapt-1.16.0 wurlitzer-3.0.3 xxhash-3.4.1 yellowbrick-1.5 zipp-3.17.0\r\n\u001B[33mWARNING: You are using pip version 21.2.4; however, version 23.3.2 is available.\r\nYou should consider upgrading via the '/local_disk0/.ephemeral_nfs/envs/pythonEnv-99f72275-5968-4dde-b3cd-9a0eb6f30208/bin/python -m pip install --upgrade pip' command.\u001B[0m\r\n"
     ]
    }
   ],
   "source": [
    "!pip install pycaret==3.2.0"
   ]
  },
  {
   "cell_type": "markdown",
   "metadata": {
    "application/vnd.databricks.v1+cell": {
     "cellMetadata": {},
     "inputWidgets": {},
     "nuid": "7f2f45f3-ea33-4537-ba56-7ccd590eb2bc",
     "showTitle": false,
     "title": ""
    }
   },
   "source": [
    "### Import the libraries"
   ]
  },
  {
   "cell_type": "code",
   "execution_count": 0,
   "metadata": {
    "application/vnd.databricks.v1+cell": {
     "cellMetadata": {
      "byteLimit": 2048000,
      "rowLimit": 10000
     },
     "inputWidgets": {},
     "nuid": "d7d69014-87d0-480a-9cf0-1efb718cd0e0",
     "showTitle": false,
     "title": ""
    }
   },
   "outputs": [
    {
     "output_type": "stream",
     "name": "stdout",
     "output_type": "stream",
     "text": [
      "Out[15]: '3.2.0'"
     ]
    }
   ],
   "source": [
    "import plotly.express as px # plotly is a python library for visualizations\n",
    "import pandas as pd # the Pandas library is utilized for data processing.\n",
    "import pycaret # Employing PyCaret for time series analyses.\n",
    "pycaret.__version__ #Check PyCaret version"
   ]
  },
  {
   "cell_type": "markdown",
   "metadata": {
    "application/vnd.databricks.v1+cell": {
     "cellMetadata": {},
     "inputWidgets": {},
     "nuid": "a7ba2636-15e0-4942-a1f7-519344a7a677",
     "showTitle": false,
     "title": ""
    }
   },
   "source": [
    "### Create a Spark SQL query to get the data and summarize the total sales by Date"
   ]
  },
  {
   "cell_type": "code",
   "execution_count": 0,
   "metadata": {
    "application/vnd.databricks.v1+cell": {
     "cellMetadata": {
      "byteLimit": 2048000,
      "rowLimit": 10000
     },
     "inputWidgets": {},
     "nuid": "fdd8e4c3-25c0-47a0-b3c6-15a2312a98df",
     "showTitle": false,
     "title": ""
    }
   },
   "outputs": [],
   "source": [
    "#get the data using Spark SQL to combine the fact table \"Order\" and the two dimensions tables \"Ship\" and \"Ship_Mode\"\n",
    "df = spark.sql(\"\"\"\n",
    "\n",
    "SELECT  cal.Date -- Summarize the results by Date\n",
    "        ,SUM(Sales) as Total_Sales -- Sum the Sales to get the Total Sales By date\n",
    "FROM company.order ord -- Fact table: Order\n",
    "     ,company.Product prod -- Dimension table: Product\n",
    "     ,company.Product_Category prod_cat -- Dimension table: Product_Category\n",
    "     ,company.calendar_date cal -- -- Dimension table: Calendar_Date\n",
    "WHERE prod.Product_ID = ord.Product_ID -- Combine with a Inner Join the tables \"Order\" and \"Product\" using the model keys\n",
    "      AND prod.Product_Category_ID = prod_cat.Product_Category_ID  --Combine with a Inner Join the tables \"Product\" and \"Product_Category\" using the model key\n",
    "      AND prod_cat.Category = 'Office Supplies' -- Filter just the Product Category \"Office Supplies\"\n",
    "      AND prod_cat.Sub_Category = 'Paper' -- Filter just the Product Sub Category \"Paper\"\n",
    "      AND ord.Order_Date = cal.Date_ID -- Combine with a Inner Join the tables \"Order\" and \"Calendar_Date\" using the model keys\n",
    "GROUP BY cal.Date -- Group the results by Date\n",
    "      \n",
    "\"\"\")"
   ]
  },
  {
   "cell_type": "markdown",
   "metadata": {
    "application/vnd.databricks.v1+cell": {
     "cellMetadata": {},
     "inputWidgets": {},
     "nuid": "fbc1b61d-4299-452f-a750-d0dd2f97b856",
     "showTitle": false,
     "title": ""
    }
   },
   "source": [
    "### Conducting an initial data analysis to assess the distribution across each month."
   ]
  },
  {
   "cell_type": "code",
   "execution_count": 0,
   "metadata": {
    "application/vnd.databricks.v1+cell": {
     "cellMetadata": {
      "byteLimit": 2048000,
      "rowLimit": 10000
     },
     "inputWidgets": {},
     "nuid": "41737cb7-57dd-46f0-9737-13a502657879",
     "showTitle": false,
     "title": ""
    }
   },
   "outputs": [],
   "source": [
    "df_da = df.toPandas() #convert the Spark SQL result to Pandas\n",
    "\n",
    "df_da['Date'] = pd.to_datetime(df_da['Date']) # convert the Date column to datetime format\n",
    "df_da['Year-Month'] = df_da['Date'].dt.to_period('M').astype(str) #create a text column with the Year and Month information"
   ]
  },
  {
   "cell_type": "code",
   "execution_count": 0,
   "metadata": {
    "application/vnd.databricks.v1+cell": {
     "cellMetadata": {
      "byteLimit": 2048000,
      "rowLimit": 10000
     },
     "inputWidgets": {},
     "nuid": "8d23e046-9168-4ccd-a4fe-92fd265c9a67",
     "showTitle": false,
     "title": ""
    }
   },
   "outputs": [
    {
     "output_type": "display_data",
     "data": {
      "text/html": [
       "<html>\n",
       "<head><meta charset=\"utf-8\" /></head>\n",
       "<body>\n",
       "    <div>            <script src=\"https://cdnjs.cloudflare.com/ajax/libs/mathjax/2.7.5/MathJax.js?config=TeX-AMS-MML_SVG\"></script><script type=\"text/javascript\">if (window.MathJax) {MathJax.Hub.Config({SVG: {font: \"STIX-Web\"}});}</script>                <script type=\"text/javascript\">window.PlotlyConfig = {MathJaxConfig: 'local'};</script>\n",
       "        <script src=\"https://cdn.plot.ly/plotly-2.9.0.min.js\"></script>                <div id=\"075ed602-9f3a-429c-a7f2-aeb5904e56cf\" class=\"plotly-graph-div\" style=\"height:100%; width:100%;\"></div>            <script type=\"text/javascript\">                                    window.PLOTLYENV=window.PLOTLYENV || {};                                    if (document.getElementById(\"075ed602-9f3a-429c-a7f2-aeb5904e56cf\")) {                    Plotly.newPlot(                        \"075ed602-9f3a-429c-a7f2-aeb5904e56cf\",                        [{\"alignmentgroup\":\"True\",\"bingroup\":\"x\",\"hovertemplate\":\"Year-Month=%{x}<br>count=%{y}<extra></extra>\",\"legendgroup\":\"\",\"marker\":{\"color\":\"#636efa\",\"pattern\":{\"shape\":\"\"}},\"name\":\"\",\"offsetgroup\":\"\",\"orientation\":\"v\",\"showlegend\":false,\"x\":[\"2013-01\",\"2014-09\",\"2014-11\",\"2012-04\",\"2013-09\",\"2013-03\",\"2012-10\",\"2012-07\",\"2011-10\",\"2013-09\",\"2011-05\",\"2011-01\",\"2014-08\",\"2011-11\",\"2011-08\",\"2011-01\",\"2011-07\",\"2014-06\",\"2012-08\",\"2012-02\",\"2012-09\",\"2014-06\",\"2011-11\",\"2013-09\",\"2014-01\",\"2012-03\",\"2012-07\",\"2013-11\",\"2011-04\",\"2011-02\",\"2012-09\",\"2012-11\",\"2011-06\",\"2014-08\",\"2014-02\",\"2013-05\",\"2012-08\",\"2011-08\",\"2013-08\",\"2013-03\",\"2014-11\",\"2014-07\",\"2013-10\",\"2014-07\",\"2013-09\",\"2012-01\",\"2012-10\",\"2014-09\",\"2013-07\",\"2013-09\",\"2014-06\",\"2013-09\",\"2011-07\",\"2011-04\",\"2013-11\",\"2011-08\",\"2012-05\",\"2012-11\",\"2011-08\",\"2013-09\",\"2012-06\",\"2014-02\",\"2014-07\",\"2013-05\",\"2012-10\",\"2013-01\",\"2013-07\",\"2011-01\",\"2013-10\",\"2013-05\",\"2014-04\",\"2013-03\",\"2013-05\",\"2014-06\",\"2014-09\",\"2012-06\",\"2013-09\",\"2014-07\",\"2011-09\",\"2012-11\",\"2011-05\",\"2013-08\",\"2013-12\",\"2012-09\",\"2011-10\",\"2013-05\",\"2012-08\",\"2014-04\",\"2012-07\",\"2014-09\",\"2011-09\",\"2012-03\",\"2011-06\",\"2011-10\",\"2011-12\",\"2014-07\",\"2011-09\",\"2014-04\",\"2014-09\",\"2012-03\",\"2011-06\",\"2011-04\",\"2012-01\",\"2011-10\",\"2013-11\",\"2013-10\",\"2013-12\",\"2013-07\",\"2013-05\",\"2014-10\",\"2011-08\",\"2012-05\",\"2013-08\",\"2014-09\",\"2014-06\",\"2014-03\",\"2014-07\",\"2011-03\",\"2014-08\",\"2012-01\",\"2012-03\",\"2014-12\",\"2011-04\",\"2014-12\",\"2012-04\",\"2014-06\",\"2011-09\",\"2011-10\",\"2014-08\",\"2014-08\",\"2014-02\",\"2011-05\",\"2012-08\",\"2014-03\",\"2013-07\",\"2013-07\",\"2013-08\",\"2014-10\",\"2012-10\",\"2013-07\",\"2011-05\",\"2011-08\",\"2013-12\",\"2014-07\",\"2013-09\",\"2014-01\",\"2012-11\",\"2014-06\",\"2012-06\",\"2013-05\",\"2014-11\",\"2012-09\",\"2013-04\",\"2014-09\",\"2014-06\",\"2012-02\",\"2012-10\",\"2011-06\",\"2013-05\",\"2013-08\",\"2013-12\",\"2012-01\",\"2012-07\",\"2012-03\",\"2014-11\",\"2013-09\",\"2014-03\",\"2013-08\",\"2012-08\",\"2014-01\",\"2013-02\",\"2014-09\",\"2013-05\",\"2011-02\",\"2013-08\",\"2012-05\",\"2013-06\",\"2012-07\",\"2011-11\",\"2011-07\",\"2014-05\",\"2011-12\",\"2012-12\",\"2012-12\",\"2012-10\",\"2011-08\",\"2014-05\",\"2013-03\",\"2014-03\",\"2013-09\",\"2011-05\",\"2014-08\",\"2013-12\",\"2014-11\",\"2013-07\",\"2013-08\",\"2011-01\",\"2012-02\",\"2014-04\",\"2013-01\",\"2013-11\",\"2014-12\",\"2011-03\",\"2011-07\",\"2013-06\",\"2013-11\",\"2012-06\",\"2011-12\",\"2012-12\",\"2014-07\",\"2011-08\",\"2012-08\",\"2013-04\",\"2011-01\",\"2012-07\",\"2011-02\",\"2013-06\",\"2012-12\",\"2012-06\",\"2011-03\",\"2011-10\",\"2014-09\",\"2011-12\",\"2013-06\",\"2013-04\",\"2012-06\",\"2014-11\",\"2014-12\",\"2012-01\",\"2013-12\",\"2011-09\",\"2012-08\",\"2013-10\",\"2013-10\",\"2014-08\",\"2011-03\",\"2012-07\",\"2012-05\",\"2014-11\",\"2013-03\",\"2013-04\",\"2011-01\",\"2012-10\",\"2012-09\",\"2011-08\",\"2011-09\",\"2014-08\",\"2011-11\",\"2012-10\",\"2012-09\",\"2014-10\",\"2011-01\",\"2011-04\",\"2014-05\",\"2012-12\",\"2012-05\",\"2012-07\",\"2013-01\",\"2012-10\",\"2012-08\",\"2012-01\",\"2014-11\",\"2013-10\",\"2013-09\",\"2014-05\",\"2012-05\",\"2013-09\",\"2011-03\",\"2013-05\",\"2012-10\",\"2014-02\",\"2011-01\",\"2014-08\",\"2014-08\",\"2014-12\",\"2011-09\",\"2013-04\",\"2012-07\",\"2014-04\",\"2011-06\",\"2011-06\",\"2011-11\",\"2011-11\",\"2013-07\",\"2014-02\",\"2014-10\",\"2013-08\",\"2014-08\",\"2011-02\",\"2014-01\",\"2013-06\",\"2014-06\",\"2014-04\",\"2012-11\",\"2013-10\",\"2012-09\",\"2013-08\",\"2014-09\",\"2012-03\",\"2014-06\",\"2011-05\",\"2014-01\",\"2012-10\",\"2014-09\",\"2012-12\",\"2014-02\",\"2014-03\",\"2012-09\",\"2014-09\",\"2013-03\",\"2011-12\",\"2013-06\",\"2011-03\",\"2014-04\",\"2011-04\",\"2011-05\",\"2013-04\",\"2012-03\",\"2013-11\",\"2012-12\",\"2013-08\",\"2011-09\",\"2011-08\",\"2014-01\",\"2012-03\",\"2014-01\",\"2014-03\",\"2012-05\",\"2012-05\",\"2013-07\",\"2014-10\",\"2013-06\",\"2014-03\",\"2013-02\",\"2013-07\",\"2013-12\",\"2013-04\",\"2014-10\",\"2012-08\",\"2013-02\",\"2014-06\",\"2012-04\",\"2014-03\",\"2012-11\",\"2013-05\",\"2011-07\",\"2011-05\",\"2013-07\",\"2011-02\",\"2013-04\",\"2013-05\",\"2014-12\",\"2012-10\",\"2014-11\",\"2012-04\",\"2013-06\",\"2014-09\",\"2011-09\",\"2011-09\",\"2011-05\",\"2011-11\",\"2013-05\",\"2014-12\",\"2012-05\",\"2012-03\",\"2013-01\",\"2012-03\",\"2011-12\",\"2013-11\",\"2012-06\",\"2012-12\",\"2012-11\",\"2011-12\",\"2011-09\",\"2012-08\",\"2012-01\",\"2014-08\",\"2011-08\",\"2013-06\",\"2012-05\",\"2012-06\",\"2014-05\",\"2011-01\",\"2011-09\",\"2013-03\",\"2012-07\",\"2014-10\",\"2011-03\",\"2013-08\",\"2014-11\",\"2011-12\",\"2014-04\",\"2014-01\",\"2014-03\",\"2012-05\",\"2014-06\",\"2014-11\",\"2014-09\",\"2011-08\",\"2011-05\",\"2012-04\",\"2014-05\",\"2011-08\",\"2011-09\",\"2013-05\",\"2012-06\",\"2014-12\",\"2013-06\",\"2013-09\",\"2013-04\",\"2012-04\",\"2012-10\",\"2013-08\",\"2012-10\",\"2011-12\",\"2011-12\",\"2013-11\",\"2012-11\",\"2011-09\",\"2011-02\",\"2013-12\",\"2011-07\",\"2014-07\",\"2013-09\",\"2012-06\",\"2012-04\",\"2013-12\",\"2014-05\",\"2011-02\",\"2011-05\",\"2012-01\",\"2012-02\",\"2011-04\",\"2013-08\",\"2013-03\",\"2013-11\",\"2014-11\",\"2013-11\",\"2013-02\",\"2011-03\",\"2014-05\",\"2012-04\",\"2012-10\",\"2012-06\",\"2011-03\",\"2013-03\",\"2014-05\",\"2011-04\",\"2012-11\",\"2014-01\",\"2012-12\",\"2011-06\",\"2014-10\",\"2014-12\",\"2012-10\",\"2014-07\",\"2012-07\",\"2012-11\",\"2014-03\",\"2013-07\",\"2014-07\",\"2013-08\",\"2013-04\",\"2014-04\",\"2013-12\",\"2014-12\",\"2013-12\",\"2012-11\",\"2013-06\",\"2012-12\",\"2012-04\",\"2013-08\",\"2011-07\",\"2014-08\",\"2014-10\",\"2013-10\",\"2012-11\",\"2012-03\",\"2013-05\",\"2013-11\",\"2014-09\",\"2014-12\",\"2014-10\",\"2012-08\",\"2011-11\",\"2011-02\",\"2013-12\",\"2012-07\",\"2011-05\",\"2012-01\",\"2013-12\",\"2012-09\",\"2014-08\",\"2011-08\",\"2014-10\",\"2011-10\",\"2012-12\",\"2014-10\",\"2012-11\",\"2013-03\",\"2012-08\",\"2013-11\",\"2014-07\",\"2013-10\",\"2012-02\",\"2014-03\",\"2013-12\",\"2011-12\",\"2013-09\",\"2012-02\",\"2012-11\",\"2011-01\",\"2014-01\",\"2012-07\",\"2014-10\",\"2014-07\",\"2012-11\",\"2011-12\",\"2013-02\",\"2011-04\",\"2012-04\",\"2014-02\",\"2011-04\",\"2014-08\",\"2013-11\",\"2011-08\",\"2012-02\",\"2014-08\",\"2013-10\",\"2011-07\",\"2011-08\",\"2011-07\",\"2011-06\",\"2014-08\",\"2012-11\",\"2014-12\",\"2012-12\",\"2013-05\",\"2014-12\",\"2011-10\",\"2014-11\",\"2012-06\",\"2013-08\",\"2011-11\",\"2014-12\",\"2014-01\",\"2011-07\",\"2012-09\",\"2014-07\",\"2014-09\",\"2013-10\",\"2013-09\",\"2011-04\",\"2012-08\",\"2011-01\",\"2012-05\",\"2013-01\",\"2012-09\",\"2014-05\",\"2013-07\",\"2013-11\",\"2011-04\",\"2014-04\",\"2011-07\",\"2013-08\",\"2014-05\",\"2012-11\",\"2014-12\",\"2013-12\",\"2011-04\",\"2012-12\",\"2011-05\",\"2014-12\",\"2014-08\",\"2014-07\",\"2014-02\",\"2014-07\",\"2011-06\",\"2014-02\",\"2014-12\",\"2011-04\",\"2012-05\",\"2012-10\",\"2013-04\",\"2011-10\",\"2014-09\",\"2013-02\",\"2011-01\",\"2014-02\",\"2014-05\",\"2012-03\",\"2012-01\",\"2014-05\",\"2012-02\",\"2011-01\",\"2012-03\",\"2012-12\",\"2014-11\",\"2011-05\",\"2011-08\",\"2014-12\",\"2014-04\",\"2012-06\",\"2014-08\",\"2013-08\",\"2011-11\",\"2014-06\",\"2011-09\",\"2014-11\",\"2013-12\",\"2012-12\",\"2012-04\",\"2011-06\",\"2014-02\",\"2011-12\",\"2013-06\",\"2012-11\",\"2013-02\",\"2012-04\",\"2012-10\",\"2011-07\",\"2013-12\",\"2011-01\",\"2011-12\",\"2011-07\",\"2012-01\",\"2014-04\",\"2011-10\",\"2013-08\",\"2013-01\",\"2011-05\",\"2013-12\",\"2011-10\",\"2014-12\",\"2014-10\",\"2014-06\",\"2013-04\",\"2014-06\",\"2012-05\",\"2013-07\",\"2011-11\",\"2011-06\",\"2012-01\",\"2013-02\",\"2012-07\",\"2014-12\",\"2013-07\",\"2011-08\",\"2012-01\",\"2011-06\",\"2011-05\",\"2014-08\",\"2012-02\",\"2014-11\",\"2011-02\",\"2012-10\",\"2013-01\",\"2013-06\",\"2012-05\",\"2012-08\",\"2014-10\",\"2011-02\",\"2011-01\",\"2013-08\",\"2014-07\",\"2011-11\",\"2011-03\",\"2012-02\",\"2011-06\",\"2012-05\",\"2011-11\",\"2011-11\",\"2012-06\",\"2012-03\",\"2014-12\",\"2014-11\",\"2011-10\",\"2011-08\",\"2013-05\",\"2011-03\",\"2011-04\",\"2014-01\",\"2011-10\",\"2012-11\",\"2014-08\",\"2014-02\",\"2014-06\",\"2013-07\",\"2014-05\",\"2013-01\",\"2014-01\",\"2014-04\",\"2011-03\",\"2013-11\",\"2011-03\",\"2013-08\",\"2014-12\",\"2013-03\",\"2014-05\",\"2011-01\",\"2012-03\",\"2014-08\",\"2014-09\",\"2013-05\",\"2014-11\",\"2013-01\",\"2012-08\",\"2014-01\",\"2013-03\",\"2014-11\",\"2013-12\",\"2011-06\",\"2011-01\",\"2011-06\",\"2014-04\",\"2014-07\",\"2012-12\",\"2012-07\",\"2012-08\",\"2014-01\",\"2012-10\",\"2011-05\",\"2013-12\",\"2011-11\",\"2011-07\",\"2013-01\",\"2013-07\",\"2011-12\",\"2011-11\",\"2012-03\",\"2014-07\",\"2013-02\",\"2014-01\",\"2014-04\",\"2013-02\",\"2011-03\",\"2013-09\",\"2012-05\",\"2014-09\",\"2012-03\",\"2013-09\",\"2011-02\",\"2011-02\",\"2013-07\",\"2012-11\",\"2012-12\",\"2014-07\",\"2012-12\",\"2013-05\",\"2014-08\",\"2014-06\",\"2012-05\",\"2013-03\",\"2012-05\",\"2011-11\",\"2012-06\",\"2012-05\",\"2013-10\",\"2014-05\",\"2012-05\",\"2013-01\",\"2013-02\",\"2013-12\",\"2014-12\",\"2013-12\",\"2013-09\",\"2012-09\",\"2014-09\",\"2011-12\",\"2014-01\",\"2013-05\",\"2011-04\",\"2013-01\",\"2011-11\",\"2012-02\",\"2014-03\",\"2014-05\",\"2012-06\",\"2012-12\",\"2011-09\",\"2011-09\",\"2011-05\",\"2013-03\",\"2014-09\",\"2013-06\",\"2014-08\",\"2012-12\",\"2013-07\",\"2013-04\",\"2013-10\",\"2013-10\",\"2012-12\",\"2013-08\",\"2014-05\",\"2011-06\",\"2013-03\",\"2013-04\",\"2014-10\",\"2014-03\",\"2013-11\",\"2012-09\",\"2014-12\",\"2012-06\",\"2014-07\",\"2012-07\",\"2013-02\",\"2014-10\",\"2013-10\",\"2013-02\",\"2014-10\",\"2011-08\",\"2012-07\",\"2011-12\",\"2013-05\",\"2011-01\",\"2013-04\",\"2011-12\",\"2013-05\",\"2013-06\",\"2013-02\",\"2012-09\",\"2012-11\",\"2011-11\",\"2012-06\",\"2012-06\",\"2013-04\",\"2012-01\",\"2014-03\",\"2013-03\",\"2012-09\",\"2012-01\",\"2012-09\",\"2013-01\",\"2011-11\",\"2014-06\",\"2014-04\",\"2012-07\",\"2014-05\",\"2013-05\",\"2014-10\",\"2013-08\",\"2014-02\",\"2013-01\",\"2013-03\",\"2012-03\",\"2013-01\",\"2014-10\",\"2011-07\",\"2013-01\",\"2014-07\",\"2011-10\",\"2014-11\",\"2014-12\",\"2011-03\",\"2014-05\",\"2012-01\",\"2014-01\",\"2014-08\",\"2013-11\",\"2014-03\",\"2013-11\",\"2014-03\",\"2012-04\",\"2011-08\",\"2014-06\",\"2012-12\",\"2013-04\",\"2013-10\",\"2014-08\",\"2011-08\",\"2014-06\",\"2012-07\",\"2013-09\",\"2012-06\",\"2012-12\",\"2014-06\",\"2014-03\",\"2011-06\",\"2012-07\",\"2012-10\",\"2014-07\",\"2013-06\",\"2014-05\",\"2014-09\",\"2012-04\",\"2014-09\",\"2011-11\",\"2011-09\",\"2014-03\",\"2013-03\",\"2011-10\",\"2013-09\",\"2013-12\",\"2011-06\",\"2013-06\",\"2013-04\",\"2011-11\",\"2011-11\",\"2014-01\",\"2012-09\",\"2014-07\",\"2013-10\",\"2014-12\",\"2014-11\",\"2013-10\",\"2013-04\",\"2012-02\",\"2014-11\",\"2013-03\",\"2014-04\",\"2013-06\",\"2013-11\",\"2012-08\",\"2011-06\",\"2011-09\",\"2014-04\",\"2011-09\",\"2013-09\",\"2013-06\",\"2014-09\",\"2013-06\",\"2011-11\",\"2011-12\",\"2013-06\",\"2011-09\",\"2014-03\",\"2011-10\",\"2012-08\",\"2014-10\",\"2011-10\",\"2013-05\",\"2013-11\",\"2014-12\",\"2014-04\",\"2014-07\",\"2014-04\",\"2012-01\",\"2012-08\",\"2012-04\",\"2013-03\",\"2014-10\",\"2012-05\",\"2014-01\",\"2014-04\",\"2013-02\",\"2011-12\",\"2012-12\",\"2011-08\",\"2014-10\",\"2011-06\",\"2011-08\",\"2014-02\",\"2013-06\",\"2011-11\",\"2012-09\",\"2013-05\",\"2013-04\",\"2013-02\",\"2013-07\",\"2013-08\",\"2014-02\",\"2013-03\",\"2012-03\",\"2011-06\",\"2013-10\",\"2014-06\",\"2011-10\",\"2011-12\",\"2013-10\",\"2012-02\",\"2011-12\",\"2014-09\",\"2012-10\",\"2011-03\",\"2011-09\",\"2012-06\",\"2014-12\",\"2014-05\",\"2013-09\",\"2014-10\",\"2013-12\",\"2012-11\",\"2012-11\",\"2013-09\",\"2011-05\",\"2014-04\",\"2013-06\",\"2012-10\",\"2014-06\",\"2014-03\",\"2013-10\",\"2012-09\",\"2014-10\",\"2011-12\",\"2012-08\",\"2014-11\",\"2014-09\",\"2013-01\",\"2013-08\",\"2013-07\",\"2012-08\",\"2011-04\",\"2014-07\",\"2011-11\",\"2013-04\",\"2012-09\",\"2014-06\",\"2014-03\",\"2014-05\",\"2014-08\",\"2013-05\",\"2014-04\",\"2014-06\",\"2011-02\",\"2011-11\",\"2012-02\",\"2014-10\",\"2012-03\",\"2011-05\",\"2011-05\",\"2014-04\",\"2013-09\",\"2014-12\",\"2013-05\",\"2014-01\",\"2013-12\",\"2013-01\",\"2011-09\",\"2014-05\",\"2014-06\",\"2013-10\",\"2013-11\",\"2014-11\",\"2011-12\",\"2013-05\",\"2012-06\",\"2014-04\",\"2012-06\",\"2012-12\",\"2014-11\",\"2012-10\",\"2012-04\",\"2013-07\",\"2012-03\",\"2014-09\",\"2013-11\",\"2013-12\",\"2014-05\",\"2011-08\",\"2013-03\",\"2014-12\",\"2011-03\",\"2012-12\",\"2012-10\",\"2011-11\",\"2014-02\",\"2013-07\",\"2012-06\",\"2013-01\",\"2014-01\",\"2013-11\",\"2013-08\",\"2011-10\",\"2014-03\",\"2012-12\",\"2013-06\",\"2014-03\",\"2013-06\",\"2011-04\",\"2014-07\",\"2013-04\",\"2013-05\",\"2014-05\",\"2012-07\",\"2013-04\",\"2013-11\",\"2012-02\",\"2014-03\",\"2013-01\",\"2013-10\",\"2012-05\",\"2011-01\",\"2014-01\",\"2012-09\",\"2014-06\",\"2013-03\",\"2012-11\",\"2013-03\",\"2011-12\",\"2011-09\",\"2012-12\",\"2014-09\",\"2014-04\",\"2012-08\",\"2012-08\",\"2012-04\",\"2013-12\",\"2013-06\",\"2013-03\",\"2013-09\",\"2011-10\",\"2012-08\",\"2012-11\",\"2013-06\",\"2013-07\",\"2013-07\"],\"xaxis\":\"x\",\"yaxis\":\"y\",\"type\":\"histogram\"}],                        {\"template\":{\"data\":{\"bar\":[{\"error_x\":{\"color\":\"#2a3f5f\"},\"error_y\":{\"color\":\"#2a3f5f\"},\"marker\":{\"line\":{\"color\":\"#E5ECF6\",\"width\":0.5},\"pattern\":{\"fillmode\":\"overlay\",\"size\":10,\"solidity\":0.2}},\"type\":\"bar\"}],\"barpolar\":[{\"marker\":{\"line\":{\"color\":\"#E5ECF6\",\"width\":0.5},\"pattern\":{\"fillmode\":\"overlay\",\"size\":10,\"solidity\":0.2}},\"type\":\"barpolar\"}],\"carpet\":[{\"aaxis\":{\"endlinecolor\":\"#2a3f5f\",\"gridcolor\":\"white\",\"linecolor\":\"white\",\"minorgridcolor\":\"white\",\"startlinecolor\":\"#2a3f5f\"},\"baxis\":{\"endlinecolor\":\"#2a3f5f\",\"gridcolor\":\"white\",\"linecolor\":\"white\",\"minorgridcolor\":\"white\",\"startlinecolor\":\"#2a3f5f\"},\"type\":\"carpet\"}],\"choropleth\":[{\"colorbar\":{\"outlinewidth\":0,\"ticks\":\"\"},\"type\":\"choropleth\"}],\"contour\":[{\"colorbar\":{\"outlinewidth\":0,\"ticks\":\"\"},\"colorscale\":[[0.0,\"#0d0887\"],[0.1111111111111111,\"#46039f\"],[0.2222222222222222,\"#7201a8\"],[0.3333333333333333,\"#9c179e\"],[0.4444444444444444,\"#bd3786\"],[0.5555555555555556,\"#d8576b\"],[0.6666666666666666,\"#ed7953\"],[0.7777777777777778,\"#fb9f3a\"],[0.8888888888888888,\"#fdca26\"],[1.0,\"#f0f921\"]],\"type\":\"contour\"}],\"contourcarpet\":[{\"colorbar\":{\"outlinewidth\":0,\"ticks\":\"\"},\"type\":\"contourcarpet\"}],\"heatmap\":[{\"colorbar\":{\"outlinewidth\":0,\"ticks\":\"\"},\"colorscale\":[[0.0,\"#0d0887\"],[0.1111111111111111,\"#46039f\"],[0.2222222222222222,\"#7201a8\"],[0.3333333333333333,\"#9c179e\"],[0.4444444444444444,\"#bd3786\"],[0.5555555555555556,\"#d8576b\"],[0.6666666666666666,\"#ed7953\"],[0.7777777777777778,\"#fb9f3a\"],[0.8888888888888888,\"#fdca26\"],[1.0,\"#f0f921\"]],\"type\":\"heatmap\"}],\"heatmapgl\":[{\"colorbar\":{\"outlinewidth\":0,\"ticks\":\"\"},\"colorscale\":[[0.0,\"#0d0887\"],[0.1111111111111111,\"#46039f\"],[0.2222222222222222,\"#7201a8\"],[0.3333333333333333,\"#9c179e\"],[0.4444444444444444,\"#bd3786\"],[0.5555555555555556,\"#d8576b\"],[0.6666666666666666,\"#ed7953\"],[0.7777777777777778,\"#fb9f3a\"],[0.8888888888888888,\"#fdca26\"],[1.0,\"#f0f921\"]],\"type\":\"heatmapgl\"}],\"histogram\":[{\"marker\":{\"pattern\":{\"fillmode\":\"overlay\",\"size\":10,\"solidity\":0.2}},\"type\":\"histogram\"}],\"histogram2d\":[{\"colorbar\":{\"outlinewidth\":0,\"ticks\":\"\"},\"colorscale\":[[0.0,\"#0d0887\"],[0.1111111111111111,\"#46039f\"],[0.2222222222222222,\"#7201a8\"],[0.3333333333333333,\"#9c179e\"],[0.4444444444444444,\"#bd3786\"],[0.5555555555555556,\"#d8576b\"],[0.6666666666666666,\"#ed7953\"],[0.7777777777777778,\"#fb9f3a\"],[0.8888888888888888,\"#fdca26\"],[1.0,\"#f0f921\"]],\"type\":\"histogram2d\"}],\"histogram2dcontour\":[{\"colorbar\":{\"outlinewidth\":0,\"ticks\":\"\"},\"colorscale\":[[0.0,\"#0d0887\"],[0.1111111111111111,\"#46039f\"],[0.2222222222222222,\"#7201a8\"],[0.3333333333333333,\"#9c179e\"],[0.4444444444444444,\"#bd3786\"],[0.5555555555555556,\"#d8576b\"],[0.6666666666666666,\"#ed7953\"],[0.7777777777777778,\"#fb9f3a\"],[0.8888888888888888,\"#fdca26\"],[1.0,\"#f0f921\"]],\"type\":\"histogram2dcontour\"}],\"mesh3d\":[{\"colorbar\":{\"outlinewidth\":0,\"ticks\":\"\"},\"type\":\"mesh3d\"}],\"parcoords\":[{\"line\":{\"colorbar\":{\"outlinewidth\":0,\"ticks\":\"\"}},\"type\":\"parcoords\"}],\"pie\":[{\"automargin\":true,\"type\":\"pie\"}],\"scatter\":[{\"marker\":{\"colorbar\":{\"outlinewidth\":0,\"ticks\":\"\"}},\"type\":\"scatter\"}],\"scatter3d\":[{\"line\":{\"colorbar\":{\"outlinewidth\":0,\"ticks\":\"\"}},\"marker\":{\"colorbar\":{\"outlinewidth\":0,\"ticks\":\"\"}},\"type\":\"scatter3d\"}],\"scattercarpet\":[{\"marker\":{\"colorbar\":{\"outlinewidth\":0,\"ticks\":\"\"}},\"type\":\"scattercarpet\"}],\"scattergeo\":[{\"marker\":{\"colorbar\":{\"outlinewidth\":0,\"ticks\":\"\"}},\"type\":\"scattergeo\"}],\"scattergl\":[{\"marker\":{\"colorbar\":{\"outlinewidth\":0,\"ticks\":\"\"}},\"type\":\"scattergl\"}],\"scattermapbox\":[{\"marker\":{\"colorbar\":{\"outlinewidth\":0,\"ticks\":\"\"}},\"type\":\"scattermapbox\"}],\"scatterpolar\":[{\"marker\":{\"colorbar\":{\"outlinewidth\":0,\"ticks\":\"\"}},\"type\":\"scatterpolar\"}],\"scatterpolargl\":[{\"marker\":{\"colorbar\":{\"outlinewidth\":0,\"ticks\":\"\"}},\"type\":\"scatterpolargl\"}],\"scatterternary\":[{\"marker\":{\"colorbar\":{\"outlinewidth\":0,\"ticks\":\"\"}},\"type\":\"scatterternary\"}],\"surface\":[{\"colorbar\":{\"outlinewidth\":0,\"ticks\":\"\"},\"colorscale\":[[0.0,\"#0d0887\"],[0.1111111111111111,\"#46039f\"],[0.2222222222222222,\"#7201a8\"],[0.3333333333333333,\"#9c179e\"],[0.4444444444444444,\"#bd3786\"],[0.5555555555555556,\"#d8576b\"],[0.6666666666666666,\"#ed7953\"],[0.7777777777777778,\"#fb9f3a\"],[0.8888888888888888,\"#fdca26\"],[1.0,\"#f0f921\"]],\"type\":\"surface\"}],\"table\":[{\"cells\":{\"fill\":{\"color\":\"#EBF0F8\"},\"line\":{\"color\":\"white\"}},\"header\":{\"fill\":{\"color\":\"#C8D4E3\"},\"line\":{\"color\":\"white\"}},\"type\":\"table\"}]},\"layout\":{\"annotationdefaults\":{\"arrowcolor\":\"#2a3f5f\",\"arrowhead\":0,\"arrowwidth\":1},\"autotypenumbers\":\"strict\",\"coloraxis\":{\"colorbar\":{\"outlinewidth\":0,\"ticks\":\"\"}},\"colorscale\":{\"diverging\":[[0,\"#8e0152\"],[0.1,\"#c51b7d\"],[0.2,\"#de77ae\"],[0.3,\"#f1b6da\"],[0.4,\"#fde0ef\"],[0.5,\"#f7f7f7\"],[0.6,\"#e6f5d0\"],[0.7,\"#b8e186\"],[0.8,\"#7fbc41\"],[0.9,\"#4d9221\"],[1,\"#276419\"]],\"sequential\":[[0.0,\"#0d0887\"],[0.1111111111111111,\"#46039f\"],[0.2222222222222222,\"#7201a8\"],[0.3333333333333333,\"#9c179e\"],[0.4444444444444444,\"#bd3786\"],[0.5555555555555556,\"#d8576b\"],[0.6666666666666666,\"#ed7953\"],[0.7777777777777778,\"#fb9f3a\"],[0.8888888888888888,\"#fdca26\"],[1.0,\"#f0f921\"]],\"sequentialminus\":[[0.0,\"#0d0887\"],[0.1111111111111111,\"#46039f\"],[0.2222222222222222,\"#7201a8\"],[0.3333333333333333,\"#9c179e\"],[0.4444444444444444,\"#bd3786\"],[0.5555555555555556,\"#d8576b\"],[0.6666666666666666,\"#ed7953\"],[0.7777777777777778,\"#fb9f3a\"],[0.8888888888888888,\"#fdca26\"],[1.0,\"#f0f921\"]]},\"colorway\":[\"#636efa\",\"#EF553B\",\"#00cc96\",\"#ab63fa\",\"#FFA15A\",\"#19d3f3\",\"#FF6692\",\"#B6E880\",\"#FF97FF\",\"#FECB52\"],\"font\":{\"color\":\"#2a3f5f\"},\"geo\":{\"bgcolor\":\"white\",\"lakecolor\":\"white\",\"landcolor\":\"#E5ECF6\",\"showlakes\":true,\"showland\":true,\"subunitcolor\":\"white\"},\"hoverlabel\":{\"align\":\"left\"},\"hovermode\":\"closest\",\"mapbox\":{\"style\":\"light\"},\"paper_bgcolor\":\"white\",\"plot_bgcolor\":\"#E5ECF6\",\"polar\":{\"angularaxis\":{\"gridcolor\":\"white\",\"linecolor\":\"white\",\"ticks\":\"\"},\"bgcolor\":\"#E5ECF6\",\"radialaxis\":{\"gridcolor\":\"white\",\"linecolor\":\"white\",\"ticks\":\"\"}},\"scene\":{\"xaxis\":{\"backgroundcolor\":\"#E5ECF6\",\"gridcolor\":\"white\",\"gridwidth\":2,\"linecolor\":\"white\",\"showbackground\":true,\"ticks\":\"\",\"zerolinecolor\":\"white\"},\"yaxis\":{\"backgroundcolor\":\"#E5ECF6\",\"gridcolor\":\"white\",\"gridwidth\":2,\"linecolor\":\"white\",\"showbackground\":true,\"ticks\":\"\",\"zerolinecolor\":\"white\"},\"zaxis\":{\"backgroundcolor\":\"#E5ECF6\",\"gridcolor\":\"white\",\"gridwidth\":2,\"linecolor\":\"white\",\"showbackground\":true,\"ticks\":\"\",\"zerolinecolor\":\"white\"}},\"shapedefaults\":{\"line\":{\"color\":\"#2a3f5f\"}},\"ternary\":{\"aaxis\":{\"gridcolor\":\"white\",\"linecolor\":\"white\",\"ticks\":\"\"},\"baxis\":{\"gridcolor\":\"white\",\"linecolor\":\"white\",\"ticks\":\"\"},\"bgcolor\":\"#E5ECF6\",\"caxis\":{\"gridcolor\":\"white\",\"linecolor\":\"white\",\"ticks\":\"\"}},\"title\":{\"x\":0.05},\"xaxis\":{\"automargin\":true,\"gridcolor\":\"white\",\"linecolor\":\"white\",\"ticks\":\"\",\"title\":{\"standoff\":15},\"zerolinecolor\":\"white\",\"zerolinewidth\":2},\"yaxis\":{\"automargin\":true,\"gridcolor\":\"white\",\"linecolor\":\"white\",\"ticks\":\"\",\"title\":{\"standoff\":15},\"zerolinecolor\":\"white\",\"zerolinewidth\":2}}},\"xaxis\":{\"anchor\":\"y\",\"domain\":[0.0,1.0],\"title\":{\"text\":\"Year-Month\"}},\"yaxis\":{\"anchor\":\"x\",\"domain\":[0.0,1.0],\"title\":{\"text\":\"count\"}},\"legend\":{\"tracegroupgap\":0},\"margin\":{\"t\":60},\"barmode\":\"relative\"},                        {\"responsive\": true}                    )                };                            </script>        </div>\n",
       "</body>\n",
       "</html>"
      ]
     },
     "metadata": {
      "application/vnd.databricks.v1+output": {
       "addedWidgets": {},
       "arguments": {},
       "data": "<html>\n<head><meta charset=\"utf-8\" /></head>\n<body>\n    <div>            <script src=\"https://cdnjs.cloudflare.com/ajax/libs/mathjax/2.7.5/MathJax.js?config=TeX-AMS-MML_SVG\"></script><script type=\"text/javascript\">if (window.MathJax) {MathJax.Hub.Config({SVG: {font: \"STIX-Web\"}});}</script>                <script type=\"text/javascript\">window.PlotlyConfig = {MathJaxConfig: 'local'};</script>\n        <script src=\"https://cdn.plot.ly/plotly-2.9.0.min.js\"></script>                <div id=\"075ed602-9f3a-429c-a7f2-aeb5904e56cf\" class=\"plotly-graph-div\" style=\"height:100%; width:100%;\"></div>            <script type=\"text/javascript\">                                    window.PLOTLYENV=window.PLOTLYENV || {};                                    if (document.getElementById(\"075ed602-9f3a-429c-a7f2-aeb5904e56cf\")) {                    Plotly.newPlot(                        \"075ed602-9f3a-429c-a7f2-aeb5904e56cf\",                        [{\"alignmentgroup\":\"True\",\"bingroup\":\"x\",\"hovertemplate\":\"Year-Month=%{x}<br>count=%{y}<extra></extra>\",\"legendgroup\":\"\",\"marker\":{\"color\":\"#636efa\",\"pattern\":{\"shape\":\"\"}},\"name\":\"\",\"offsetgroup\":\"\",\"orientation\":\"v\",\"showlegend\":false,\"x\":[\"2013-01\",\"2014-09\",\"2014-11\",\"2012-04\",\"2013-09\",\"2013-03\",\"2012-10\",\"2012-07\",\"2011-10\",\"2013-09\",\"2011-05\",\"2011-01\",\"2014-08\",\"2011-11\",\"2011-08\",\"2011-01\",\"2011-07\",\"2014-06\",\"2012-08\",\"2012-02\",\"2012-09\",\"2014-06\",\"2011-11\",\"2013-09\",\"2014-01\",\"2012-03\",\"2012-07\",\"2013-11\",\"2011-04\",\"2011-02\",\"2012-09\",\"2012-11\",\"2011-06\",\"2014-08\",\"2014-02\",\"2013-05\",\"2012-08\",\"2011-08\",\"2013-08\",\"2013-03\",\"2014-11\",\"2014-07\",\"2013-10\",\"2014-07\",\"2013-09\",\"2012-01\",\"2012-10\",\"2014-09\",\"2013-07\",\"2013-09\",\"2014-06\",\"2013-09\",\"2011-07\",\"2011-04\",\"2013-11\",\"2011-08\",\"2012-05\",\"2012-11\",\"2011-08\",\"2013-09\",\"2012-06\",\"2014-02\",\"2014-07\",\"2013-05\",\"2012-10\",\"2013-01\",\"2013-07\",\"2011-01\",\"2013-10\",\"2013-05\",\"2014-04\",\"2013-03\",\"2013-05\",\"2014-06\",\"2014-09\",\"2012-06\",\"2013-09\",\"2014-07\",\"2011-09\",\"2012-11\",\"2011-05\",\"2013-08\",\"2013-12\",\"2012-09\",\"2011-10\",\"2013-05\",\"2012-08\",\"2014-04\",\"2012-07\",\"2014-09\",\"2011-09\",\"2012-03\",\"2011-06\",\"2011-10\",\"2011-12\",\"2014-07\",\"2011-09\",\"2014-04\",\"2014-09\",\"2012-03\",\"2011-06\",\"2011-04\",\"2012-01\",\"2011-10\",\"2013-11\",\"2013-10\",\"2013-12\",\"2013-07\",\"2013-05\",\"2014-10\",\"2011-08\",\"2012-05\",\"2013-08\",\"2014-09\",\"2014-06\",\"2014-03\",\"2014-07\",\"2011-03\",\"2014-08\",\"2012-01\",\"2012-03\",\"2014-12\",\"2011-04\",\"2014-12\",\"2012-04\",\"2014-06\",\"2011-09\",\"2011-10\",\"2014-08\",\"2014-08\",\"2014-02\",\"2011-05\",\"2012-08\",\"2014-03\",\"2013-07\",\"2013-07\",\"2013-08\",\"2014-10\",\"2012-10\",\"2013-07\",\"2011-05\",\"2011-08\",\"2013-12\",\"2014-07\",\"2013-09\",\"2014-01\",\"2012-11\",\"2014-06\",\"2012-06\",\"2013-05\",\"2014-11\",\"2012-09\",\"2013-04\",\"2014-09\",\"2014-06\",\"2012-02\",\"2012-10\",\"2011-06\",\"2013-05\",\"2013-08\",\"2013-12\",\"2012-01\",\"2012-07\",\"2012-03\",\"2014-11\",\"2013-09\",\"2014-03\",\"2013-08\",\"2012-08\",\"2014-01\",\"2013-02\",\"2014-09\",\"2013-05\",\"2011-02\",\"2013-08\",\"2012-05\",\"2013-06\",\"2012-07\",\"2011-11\",\"2011-07\",\"2014-05\",\"2011-12\",\"2012-12\",\"2012-12\",\"2012-10\",\"2011-08\",\"2014-05\",\"2013-03\",\"2014-03\",\"2013-09\",\"2011-05\",\"2014-08\",\"2013-12\",\"2014-11\",\"2013-07\",\"2013-08\",\"2011-01\",\"2012-02\",\"2014-04\",\"2013-01\",\"2013-11\",\"2014-12\",\"2011-03\",\"2011-07\",\"2013-06\",\"2013-11\",\"2012-06\",\"2011-12\",\"2012-12\",\"2014-07\",\"2011-08\",\"2012-08\",\"2013-04\",\"2011-01\",\"2012-07\",\"2011-02\",\"2013-06\",\"2012-12\",\"2012-06\",\"2011-03\",\"2011-10\",\"2014-09\",\"2011-12\",\"2013-06\",\"2013-04\",\"2012-06\",\"2014-11\",\"2014-12\",\"2012-01\",\"2013-12\",\"2011-09\",\"2012-08\",\"2013-10\",\"2013-10\",\"2014-08\",\"2011-03\",\"2012-07\",\"2012-05\",\"2014-11\",\"2013-03\",\"2013-04\",\"2011-01\",\"2012-10\",\"2012-09\",\"2011-08\",\"2011-09\",\"2014-08\",\"2011-11\",\"2012-10\",\"2012-09\",\"2014-10\",\"2011-01\",\"2011-04\",\"2014-05\",\"2012-12\",\"2012-05\",\"2012-07\",\"2013-01\",\"2012-10\",\"2012-08\",\"2012-01\",\"2014-11\",\"2013-10\",\"2013-09\",\"2014-05\",\"2012-05\",\"2013-09\",\"2011-03\",\"2013-05\",\"2012-10\",\"2014-02\",\"2011-01\",\"2014-08\",\"2014-08\",\"2014-12\",\"2011-09\",\"2013-04\",\"2012-07\",\"2014-04\",\"2011-06\",\"2011-06\",\"2011-11\",\"2011-11\",\"2013-07\",\"2014-02\",\"2014-10\",\"2013-08\",\"2014-08\",\"2011-02\",\"2014-01\",\"2013-06\",\"2014-06\",\"2014-04\",\"2012-11\",\"2013-10\",\"2012-09\",\"2013-08\",\"2014-09\",\"2012-03\",\"2014-06\",\"2011-05\",\"2014-01\",\"2012-10\",\"2014-09\",\"2012-12\",\"2014-02\",\"2014-03\",\"2012-09\",\"2014-09\",\"2013-03\",\"2011-12\",\"2013-06\",\"2011-03\",\"2014-04\",\"2011-04\",\"2011-05\",\"2013-04\",\"2012-03\",\"2013-11\",\"2012-12\",\"2013-08\",\"2011-09\",\"2011-08\",\"2014-01\",\"2012-03\",\"2014-01\",\"2014-03\",\"2012-05\",\"2012-05\",\"2013-07\",\"2014-10\",\"2013-06\",\"2014-03\",\"2013-02\",\"2013-07\",\"2013-12\",\"2013-04\",\"2014-10\",\"2012-08\",\"2013-02\",\"2014-06\",\"2012-04\",\"2014-03\",\"2012-11\",\"2013-05\",\"2011-07\",\"2011-05\",\"2013-07\",\"2011-02\",\"2013-04\",\"2013-05\",\"2014-12\",\"2012-10\",\"2014-11\",\"2012-04\",\"2013-06\",\"2014-09\",\"2011-09\",\"2011-09\",\"2011-05\",\"2011-11\",\"2013-05\",\"2014-12\",\"2012-05\",\"2012-03\",\"2013-01\",\"2012-03\",\"2011-12\",\"2013-11\",\"2012-06\",\"2012-12\",\"2012-11\",\"2011-12\",\"2011-09\",\"2012-08\",\"2012-01\",\"2014-08\",\"2011-08\",\"2013-06\",\"2012-05\",\"2012-06\",\"2014-05\",\"2011-01\",\"2011-09\",\"2013-03\",\"2012-07\",\"2014-10\",\"2011-03\",\"2013-08\",\"2014-11\",\"2011-12\",\"2014-04\",\"2014-01\",\"2014-03\",\"2012-05\",\"2014-06\",\"2014-11\",\"2014-09\",\"2011-08\",\"2011-05\",\"2012-04\",\"2014-05\",\"2011-08\",\"2011-09\",\"2013-05\",\"2012-06\",\"2014-12\",\"2013-06\",\"2013-09\",\"2013-04\",\"2012-04\",\"2012-10\",\"2013-08\",\"2012-10\",\"2011-12\",\"2011-12\",\"2013-11\",\"2012-11\",\"2011-09\",\"2011-02\",\"2013-12\",\"2011-07\",\"2014-07\",\"2013-09\",\"2012-06\",\"2012-04\",\"2013-12\",\"2014-05\",\"2011-02\",\"2011-05\",\"2012-01\",\"2012-02\",\"2011-04\",\"2013-08\",\"2013-03\",\"2013-11\",\"2014-11\",\"2013-11\",\"2013-02\",\"2011-03\",\"2014-05\",\"2012-04\",\"2012-10\",\"2012-06\",\"2011-03\",\"2013-03\",\"2014-05\",\"2011-04\",\"2012-11\",\"2014-01\",\"2012-12\",\"2011-06\",\"2014-10\",\"2014-12\",\"2012-10\",\"2014-07\",\"2012-07\",\"2012-11\",\"2014-03\",\"2013-07\",\"2014-07\",\"2013-08\",\"2013-04\",\"2014-04\",\"2013-12\",\"2014-12\",\"2013-12\",\"2012-11\",\"2013-06\",\"2012-12\",\"2012-04\",\"2013-08\",\"2011-07\",\"2014-08\",\"2014-10\",\"2013-10\",\"2012-11\",\"2012-03\",\"2013-05\",\"2013-11\",\"2014-09\",\"2014-12\",\"2014-10\",\"2012-08\",\"2011-11\",\"2011-02\",\"2013-12\",\"2012-07\",\"2011-05\",\"2012-01\",\"2013-12\",\"2012-09\",\"2014-08\",\"2011-08\",\"2014-10\",\"2011-10\",\"2012-12\",\"2014-10\",\"2012-11\",\"2013-03\",\"2012-08\",\"2013-11\",\"2014-07\",\"2013-10\",\"2012-02\",\"2014-03\",\"2013-12\",\"2011-12\",\"2013-09\",\"2012-02\",\"2012-11\",\"2011-01\",\"2014-01\",\"2012-07\",\"2014-10\",\"2014-07\",\"2012-11\",\"2011-12\",\"2013-02\",\"2011-04\",\"2012-04\",\"2014-02\",\"2011-04\",\"2014-08\",\"2013-11\",\"2011-08\",\"2012-02\",\"2014-08\",\"2013-10\",\"2011-07\",\"2011-08\",\"2011-07\",\"2011-06\",\"2014-08\",\"2012-11\",\"2014-12\",\"2012-12\",\"2013-05\",\"2014-12\",\"2011-10\",\"2014-11\",\"2012-06\",\"2013-08\",\"2011-11\",\"2014-12\",\"2014-01\",\"2011-07\",\"2012-09\",\"2014-07\",\"2014-09\",\"2013-10\",\"2013-09\",\"2011-04\",\"2012-08\",\"2011-01\",\"2012-05\",\"2013-01\",\"2012-09\",\"2014-05\",\"2013-07\",\"2013-11\",\"2011-04\",\"2014-04\",\"2011-07\",\"2013-08\",\"2014-05\",\"2012-11\",\"2014-12\",\"2013-12\",\"2011-04\",\"2012-12\",\"2011-05\",\"2014-12\",\"2014-08\",\"2014-07\",\"2014-02\",\"2014-07\",\"2011-06\",\"2014-02\",\"2014-12\",\"2011-04\",\"2012-05\",\"2012-10\",\"2013-04\",\"2011-10\",\"2014-09\",\"2013-02\",\"2011-01\",\"2014-02\",\"2014-05\",\"2012-03\",\"2012-01\",\"2014-05\",\"2012-02\",\"2011-01\",\"2012-03\",\"2012-12\",\"2014-11\",\"2011-05\",\"2011-08\",\"2014-12\",\"2014-04\",\"2012-06\",\"2014-08\",\"2013-08\",\"2011-11\",\"2014-06\",\"2011-09\",\"2014-11\",\"2013-12\",\"2012-12\",\"2012-04\",\"2011-06\",\"2014-02\",\"2011-12\",\"2013-06\",\"2012-11\",\"2013-02\",\"2012-04\",\"2012-10\",\"2011-07\",\"2013-12\",\"2011-01\",\"2011-12\",\"2011-07\",\"2012-01\",\"2014-04\",\"2011-10\",\"2013-08\",\"2013-01\",\"2011-05\",\"2013-12\",\"2011-10\",\"2014-12\",\"2014-10\",\"2014-06\",\"2013-04\",\"2014-06\",\"2012-05\",\"2013-07\",\"2011-11\",\"2011-06\",\"2012-01\",\"2013-02\",\"2012-07\",\"2014-12\",\"2013-07\",\"2011-08\",\"2012-01\",\"2011-06\",\"2011-05\",\"2014-08\",\"2012-02\",\"2014-11\",\"2011-02\",\"2012-10\",\"2013-01\",\"2013-06\",\"2012-05\",\"2012-08\",\"2014-10\",\"2011-02\",\"2011-01\",\"2013-08\",\"2014-07\",\"2011-11\",\"2011-03\",\"2012-02\",\"2011-06\",\"2012-05\",\"2011-11\",\"2011-11\",\"2012-06\",\"2012-03\",\"2014-12\",\"2014-11\",\"2011-10\",\"2011-08\",\"2013-05\",\"2011-03\",\"2011-04\",\"2014-01\",\"2011-10\",\"2012-11\",\"2014-08\",\"2014-02\",\"2014-06\",\"2013-07\",\"2014-05\",\"2013-01\",\"2014-01\",\"2014-04\",\"2011-03\",\"2013-11\",\"2011-03\",\"2013-08\",\"2014-12\",\"2013-03\",\"2014-05\",\"2011-01\",\"2012-03\",\"2014-08\",\"2014-09\",\"2013-05\",\"2014-11\",\"2013-01\",\"2012-08\",\"2014-01\",\"2013-03\",\"2014-11\",\"2013-12\",\"2011-06\",\"2011-01\",\"2011-06\",\"2014-04\",\"2014-07\",\"2012-12\",\"2012-07\",\"2012-08\",\"2014-01\",\"2012-10\",\"2011-05\",\"2013-12\",\"2011-11\",\"2011-07\",\"2013-01\",\"2013-07\",\"2011-12\",\"2011-11\",\"2012-03\",\"2014-07\",\"2013-02\",\"2014-01\",\"2014-04\",\"2013-02\",\"2011-03\",\"2013-09\",\"2012-05\",\"2014-09\",\"2012-03\",\"2013-09\",\"2011-02\",\"2011-02\",\"2013-07\",\"2012-11\",\"2012-12\",\"2014-07\",\"2012-12\",\"2013-05\",\"2014-08\",\"2014-06\",\"2012-05\",\"2013-03\",\"2012-05\",\"2011-11\",\"2012-06\",\"2012-05\",\"2013-10\",\"2014-05\",\"2012-05\",\"2013-01\",\"2013-02\",\"2013-12\",\"2014-12\",\"2013-12\",\"2013-09\",\"2012-09\",\"2014-09\",\"2011-12\",\"2014-01\",\"2013-05\",\"2011-04\",\"2013-01\",\"2011-11\",\"2012-02\",\"2014-03\",\"2014-05\",\"2012-06\",\"2012-12\",\"2011-09\",\"2011-09\",\"2011-05\",\"2013-03\",\"2014-09\",\"2013-06\",\"2014-08\",\"2012-12\",\"2013-07\",\"2013-04\",\"2013-10\",\"2013-10\",\"2012-12\",\"2013-08\",\"2014-05\",\"2011-06\",\"2013-03\",\"2013-04\",\"2014-10\",\"2014-03\",\"2013-11\",\"2012-09\",\"2014-12\",\"2012-06\",\"2014-07\",\"2012-07\",\"2013-02\",\"2014-10\",\"2013-10\",\"2013-02\",\"2014-10\",\"2011-08\",\"2012-07\",\"2011-12\",\"2013-05\",\"2011-01\",\"2013-04\",\"2011-12\",\"2013-05\",\"2013-06\",\"2013-02\",\"2012-09\",\"2012-11\",\"2011-11\",\"2012-06\",\"2012-06\",\"2013-04\",\"2012-01\",\"2014-03\",\"2013-03\",\"2012-09\",\"2012-01\",\"2012-09\",\"2013-01\",\"2011-11\",\"2014-06\",\"2014-04\",\"2012-07\",\"2014-05\",\"2013-05\",\"2014-10\",\"2013-08\",\"2014-02\",\"2013-01\",\"2013-03\",\"2012-03\",\"2013-01\",\"2014-10\",\"2011-07\",\"2013-01\",\"2014-07\",\"2011-10\",\"2014-11\",\"2014-12\",\"2011-03\",\"2014-05\",\"2012-01\",\"2014-01\",\"2014-08\",\"2013-11\",\"2014-03\",\"2013-11\",\"2014-03\",\"2012-04\",\"2011-08\",\"2014-06\",\"2012-12\",\"2013-04\",\"2013-10\",\"2014-08\",\"2011-08\",\"2014-06\",\"2012-07\",\"2013-09\",\"2012-06\",\"2012-12\",\"2014-06\",\"2014-03\",\"2011-06\",\"2012-07\",\"2012-10\",\"2014-07\",\"2013-06\",\"2014-05\",\"2014-09\",\"2012-04\",\"2014-09\",\"2011-11\",\"2011-09\",\"2014-03\",\"2013-03\",\"2011-10\",\"2013-09\",\"2013-12\",\"2011-06\",\"2013-06\",\"2013-04\",\"2011-11\",\"2011-11\",\"2014-01\",\"2012-09\",\"2014-07\",\"2013-10\",\"2014-12\",\"2014-11\",\"2013-10\",\"2013-04\",\"2012-02\",\"2014-11\",\"2013-03\",\"2014-04\",\"2013-06\",\"2013-11\",\"2012-08\",\"2011-06\",\"2011-09\",\"2014-04\",\"2011-09\",\"2013-09\",\"2013-06\",\"2014-09\",\"2013-06\",\"2011-11\",\"2011-12\",\"2013-06\",\"2011-09\",\"2014-03\",\"2011-10\",\"2012-08\",\"2014-10\",\"2011-10\",\"2013-05\",\"2013-11\",\"2014-12\",\"2014-04\",\"2014-07\",\"2014-04\",\"2012-01\",\"2012-08\",\"2012-04\",\"2013-03\",\"2014-10\",\"2012-05\",\"2014-01\",\"2014-04\",\"2013-02\",\"2011-12\",\"2012-12\",\"2011-08\",\"2014-10\",\"2011-06\",\"2011-08\",\"2014-02\",\"2013-06\",\"2011-11\",\"2012-09\",\"2013-05\",\"2013-04\",\"2013-02\",\"2013-07\",\"2013-08\",\"2014-02\",\"2013-03\",\"2012-03\",\"2011-06\",\"2013-10\",\"2014-06\",\"2011-10\",\"2011-12\",\"2013-10\",\"2012-02\",\"2011-12\",\"2014-09\",\"2012-10\",\"2011-03\",\"2011-09\",\"2012-06\",\"2014-12\",\"2014-05\",\"2013-09\",\"2014-10\",\"2013-12\",\"2012-11\",\"2012-11\",\"2013-09\",\"2011-05\",\"2014-04\",\"2013-06\",\"2012-10\",\"2014-06\",\"2014-03\",\"2013-10\",\"2012-09\",\"2014-10\",\"2011-12\",\"2012-08\",\"2014-11\",\"2014-09\",\"2013-01\",\"2013-08\",\"2013-07\",\"2012-08\",\"2011-04\",\"2014-07\",\"2011-11\",\"2013-04\",\"2012-09\",\"2014-06\",\"2014-03\",\"2014-05\",\"2014-08\",\"2013-05\",\"2014-04\",\"2014-06\",\"2011-02\",\"2011-11\",\"2012-02\",\"2014-10\",\"2012-03\",\"2011-05\",\"2011-05\",\"2014-04\",\"2013-09\",\"2014-12\",\"2013-05\",\"2014-01\",\"2013-12\",\"2013-01\",\"2011-09\",\"2014-05\",\"2014-06\",\"2013-10\",\"2013-11\",\"2014-11\",\"2011-12\",\"2013-05\",\"2012-06\",\"2014-04\",\"2012-06\",\"2012-12\",\"2014-11\",\"2012-10\",\"2012-04\",\"2013-07\",\"2012-03\",\"2014-09\",\"2013-11\",\"2013-12\",\"2014-05\",\"2011-08\",\"2013-03\",\"2014-12\",\"2011-03\",\"2012-12\",\"2012-10\",\"2011-11\",\"2014-02\",\"2013-07\",\"2012-06\",\"2013-01\",\"2014-01\",\"2013-11\",\"2013-08\",\"2011-10\",\"2014-03\",\"2012-12\",\"2013-06\",\"2014-03\",\"2013-06\",\"2011-04\",\"2014-07\",\"2013-04\",\"2013-05\",\"2014-05\",\"2012-07\",\"2013-04\",\"2013-11\",\"2012-02\",\"2014-03\",\"2013-01\",\"2013-10\",\"2012-05\",\"2011-01\",\"2014-01\",\"2012-09\",\"2014-06\",\"2013-03\",\"2012-11\",\"2013-03\",\"2011-12\",\"2011-09\",\"2012-12\",\"2014-09\",\"2014-04\",\"2012-08\",\"2012-08\",\"2012-04\",\"2013-12\",\"2013-06\",\"2013-03\",\"2013-09\",\"2011-10\",\"2012-08\",\"2012-11\",\"2013-06\",\"2013-07\",\"2013-07\"],\"xaxis\":\"x\",\"yaxis\":\"y\",\"type\":\"histogram\"}],                        {\"template\":{\"data\":{\"bar\":[{\"error_x\":{\"color\":\"#2a3f5f\"},\"error_y\":{\"color\":\"#2a3f5f\"},\"marker\":{\"line\":{\"color\":\"#E5ECF6\",\"width\":0.5},\"pattern\":{\"fillmode\":\"overlay\",\"size\":10,\"solidity\":0.2}},\"type\":\"bar\"}],\"barpolar\":[{\"marker\":{\"line\":{\"color\":\"#E5ECF6\",\"width\":0.5},\"pattern\":{\"fillmode\":\"overlay\",\"size\":10,\"solidity\":0.2}},\"type\":\"barpolar\"}],\"carpet\":[{\"aaxis\":{\"endlinecolor\":\"#2a3f5f\",\"gridcolor\":\"white\",\"linecolor\":\"white\",\"minorgridcolor\":\"white\",\"startlinecolor\":\"#2a3f5f\"},\"baxis\":{\"endlinecolor\":\"#2a3f5f\",\"gridcolor\":\"white\",\"linecolor\":\"white\",\"minorgridcolor\":\"white\",\"startlinecolor\":\"#2a3f5f\"},\"type\":\"carpet\"}],\"choropleth\":[{\"colorbar\":{\"outlinewidth\":0,\"ticks\":\"\"},\"type\":\"choropleth\"}],\"contour\":[{\"colorbar\":{\"outlinewidth\":0,\"ticks\":\"\"},\"colorscale\":[[0.0,\"#0d0887\"],[0.1111111111111111,\"#46039f\"],[0.2222222222222222,\"#7201a8\"],[0.3333333333333333,\"#9c179e\"],[0.4444444444444444,\"#bd3786\"],[0.5555555555555556,\"#d8576b\"],[0.6666666666666666,\"#ed7953\"],[0.7777777777777778,\"#fb9f3a\"],[0.8888888888888888,\"#fdca26\"],[1.0,\"#f0f921\"]],\"type\":\"contour\"}],\"contourcarpet\":[{\"colorbar\":{\"outlinewidth\":0,\"ticks\":\"\"},\"type\":\"contourcarpet\"}],\"heatmap\":[{\"colorbar\":{\"outlinewidth\":0,\"ticks\":\"\"},\"colorscale\":[[0.0,\"#0d0887\"],[0.1111111111111111,\"#46039f\"],[0.2222222222222222,\"#7201a8\"],[0.3333333333333333,\"#9c179e\"],[0.4444444444444444,\"#bd3786\"],[0.5555555555555556,\"#d8576b\"],[0.6666666666666666,\"#ed7953\"],[0.7777777777777778,\"#fb9f3a\"],[0.8888888888888888,\"#fdca26\"],[1.0,\"#f0f921\"]],\"type\":\"heatmap\"}],\"heatmapgl\":[{\"colorbar\":{\"outlinewidth\":0,\"ticks\":\"\"},\"colorscale\":[[0.0,\"#0d0887\"],[0.1111111111111111,\"#46039f\"],[0.2222222222222222,\"#7201a8\"],[0.3333333333333333,\"#9c179e\"],[0.4444444444444444,\"#bd3786\"],[0.5555555555555556,\"#d8576b\"],[0.6666666666666666,\"#ed7953\"],[0.7777777777777778,\"#fb9f3a\"],[0.8888888888888888,\"#fdca26\"],[1.0,\"#f0f921\"]],\"type\":\"heatmapgl\"}],\"histogram\":[{\"marker\":{\"pattern\":{\"fillmode\":\"overlay\",\"size\":10,\"solidity\":0.2}},\"type\":\"histogram\"}],\"histogram2d\":[{\"colorbar\":{\"outlinewidth\":0,\"ticks\":\"\"},\"colorscale\":[[0.0,\"#0d0887\"],[0.1111111111111111,\"#46039f\"],[0.2222222222222222,\"#7201a8\"],[0.3333333333333333,\"#9c179e\"],[0.4444444444444444,\"#bd3786\"],[0.5555555555555556,\"#d8576b\"],[0.6666666666666666,\"#ed7953\"],[0.7777777777777778,\"#fb9f3a\"],[0.8888888888888888,\"#fdca26\"],[1.0,\"#f0f921\"]],\"type\":\"histogram2d\"}],\"histogram2dcontour\":[{\"colorbar\":{\"outlinewidth\":0,\"ticks\":\"\"},\"colorscale\":[[0.0,\"#0d0887\"],[0.1111111111111111,\"#46039f\"],[0.2222222222222222,\"#7201a8\"],[0.3333333333333333,\"#9c179e\"],[0.4444444444444444,\"#bd3786\"],[0.5555555555555556,\"#d8576b\"],[0.6666666666666666,\"#ed7953\"],[0.7777777777777778,\"#fb9f3a\"],[0.8888888888888888,\"#fdca26\"],[1.0,\"#f0f921\"]],\"type\":\"histogram2dcontour\"}],\"mesh3d\":[{\"colorbar\":{\"outlinewidth\":0,\"ticks\":\"\"},\"type\":\"mesh3d\"}],\"parcoords\":[{\"line\":{\"colorbar\":{\"outlinewidth\":0,\"ticks\":\"\"}},\"type\":\"parcoords\"}],\"pie\":[{\"automargin\":true,\"type\":\"pie\"}],\"scatter\":[{\"marker\":{\"colorbar\":{\"outlinewidth\":0,\"ticks\":\"\"}},\"type\":\"scatter\"}],\"scatter3d\":[{\"line\":{\"colorbar\":{\"outlinewidth\":0,\"ticks\":\"\"}},\"marker\":{\"colorbar\":{\"outlinewidth\":0,\"ticks\":\"\"}},\"type\":\"scatter3d\"}],\"scattercarpet\":[{\"marker\":{\"colorbar\":{\"outlinewidth\":0,\"ticks\":\"\"}},\"type\":\"scattercarpet\"}],\"scattergeo\":[{\"marker\":{\"colorbar\":{\"outlinewidth\":0,\"ticks\":\"\"}},\"type\":\"scattergeo\"}],\"scattergl\":[{\"marker\":{\"colorbar\":{\"outlinewidth\":0,\"ticks\":\"\"}},\"type\":\"scattergl\"}],\"scattermapbox\":[{\"marker\":{\"colorbar\":{\"outlinewidth\":0,\"ticks\":\"\"}},\"type\":\"scattermapbox\"}],\"scatterpolar\":[{\"marker\":{\"colorbar\":{\"outlinewidth\":0,\"ticks\":\"\"}},\"type\":\"scatterpolar\"}],\"scatterpolargl\":[{\"marker\":{\"colorbar\":{\"outlinewidth\":0,\"ticks\":\"\"}},\"type\":\"scatterpolargl\"}],\"scatterternary\":[{\"marker\":{\"colorbar\":{\"outlinewidth\":0,\"ticks\":\"\"}},\"type\":\"scatterternary\"}],\"surface\":[{\"colorbar\":{\"outlinewidth\":0,\"ticks\":\"\"},\"colorscale\":[[0.0,\"#0d0887\"],[0.1111111111111111,\"#46039f\"],[0.2222222222222222,\"#7201a8\"],[0.3333333333333333,\"#9c179e\"],[0.4444444444444444,\"#bd3786\"],[0.5555555555555556,\"#d8576b\"],[0.6666666666666666,\"#ed7953\"],[0.7777777777777778,\"#fb9f3a\"],[0.8888888888888888,\"#fdca26\"],[1.0,\"#f0f921\"]],\"type\":\"surface\"}],\"table\":[{\"cells\":{\"fill\":{\"color\":\"#EBF0F8\"},\"line\":{\"color\":\"white\"}},\"header\":{\"fill\":{\"color\":\"#C8D4E3\"},\"line\":{\"color\":\"white\"}},\"type\":\"table\"}]},\"layout\":{\"annotationdefaults\":{\"arrowcolor\":\"#2a3f5f\",\"arrowhead\":0,\"arrowwidth\":1},\"autotypenumbers\":\"strict\",\"coloraxis\":{\"colorbar\":{\"outlinewidth\":0,\"ticks\":\"\"}},\"colorscale\":{\"diverging\":[[0,\"#8e0152\"],[0.1,\"#c51b7d\"],[0.2,\"#de77ae\"],[0.3,\"#f1b6da\"],[0.4,\"#fde0ef\"],[0.5,\"#f7f7f7\"],[0.6,\"#e6f5d0\"],[0.7,\"#b8e186\"],[0.8,\"#7fbc41\"],[0.9,\"#4d9221\"],[1,\"#276419\"]],\"sequential\":[[0.0,\"#0d0887\"],[0.1111111111111111,\"#46039f\"],[0.2222222222222222,\"#7201a8\"],[0.3333333333333333,\"#9c179e\"],[0.4444444444444444,\"#bd3786\"],[0.5555555555555556,\"#d8576b\"],[0.6666666666666666,\"#ed7953\"],[0.7777777777777778,\"#fb9f3a\"],[0.8888888888888888,\"#fdca26\"],[1.0,\"#f0f921\"]],\"sequentialminus\":[[0.0,\"#0d0887\"],[0.1111111111111111,\"#46039f\"],[0.2222222222222222,\"#7201a8\"],[0.3333333333333333,\"#9c179e\"],[0.4444444444444444,\"#bd3786\"],[0.5555555555555556,\"#d8576b\"],[0.6666666666666666,\"#ed7953\"],[0.7777777777777778,\"#fb9f3a\"],[0.8888888888888888,\"#fdca26\"],[1.0,\"#f0f921\"]]},\"colorway\":[\"#636efa\",\"#EF553B\",\"#00cc96\",\"#ab63fa\",\"#FFA15A\",\"#19d3f3\",\"#FF6692\",\"#B6E880\",\"#FF97FF\",\"#FECB52\"],\"font\":{\"color\":\"#2a3f5f\"},\"geo\":{\"bgcolor\":\"white\",\"lakecolor\":\"white\",\"landcolor\":\"#E5ECF6\",\"showlakes\":true,\"showland\":true,\"subunitcolor\":\"white\"},\"hoverlabel\":{\"align\":\"left\"},\"hovermode\":\"closest\",\"mapbox\":{\"style\":\"light\"},\"paper_bgcolor\":\"white\",\"plot_bgcolor\":\"#E5ECF6\",\"polar\":{\"angularaxis\":{\"gridcolor\":\"white\",\"linecolor\":\"white\",\"ticks\":\"\"},\"bgcolor\":\"#E5ECF6\",\"radialaxis\":{\"gridcolor\":\"white\",\"linecolor\":\"white\",\"ticks\":\"\"}},\"scene\":{\"xaxis\":{\"backgroundcolor\":\"#E5ECF6\",\"gridcolor\":\"white\",\"gridwidth\":2,\"linecolor\":\"white\",\"showbackground\":true,\"ticks\":\"\",\"zerolinecolor\":\"white\"},\"yaxis\":{\"backgroundcolor\":\"#E5ECF6\",\"gridcolor\":\"white\",\"gridwidth\":2,\"linecolor\":\"white\",\"showbackground\":true,\"ticks\":\"\",\"zerolinecolor\":\"white\"},\"zaxis\":{\"backgroundcolor\":\"#E5ECF6\",\"gridcolor\":\"white\",\"gridwidth\":2,\"linecolor\":\"white\",\"showbackground\":true,\"ticks\":\"\",\"zerolinecolor\":\"white\"}},\"shapedefaults\":{\"line\":{\"color\":\"#2a3f5f\"}},\"ternary\":{\"aaxis\":{\"gridcolor\":\"white\",\"linecolor\":\"white\",\"ticks\":\"\"},\"baxis\":{\"gridcolor\":\"white\",\"linecolor\":\"white\",\"ticks\":\"\"},\"bgcolor\":\"#E5ECF6\",\"caxis\":{\"gridcolor\":\"white\",\"linecolor\":\"white\",\"ticks\":\"\"}},\"title\":{\"x\":0.05},\"xaxis\":{\"automargin\":true,\"gridcolor\":\"white\",\"linecolor\":\"white\",\"ticks\":\"\",\"title\":{\"standoff\":15},\"zerolinecolor\":\"white\",\"zerolinewidth\":2},\"yaxis\":{\"automargin\":true,\"gridcolor\":\"white\",\"linecolor\":\"white\",\"ticks\":\"\",\"title\":{\"standoff\":15},\"zerolinecolor\":\"white\",\"zerolinewidth\":2}}},\"xaxis\":{\"anchor\":\"y\",\"domain\":[0.0,1.0],\"title\":{\"text\":\"Year-Month\"}},\"yaxis\":{\"anchor\":\"x\",\"domain\":[0.0,1.0],\"title\":{\"text\":\"count\"}},\"legend\":{\"tracegroupgap\":0},\"margin\":{\"t\":60},\"barmode\":\"relative\"},                        {\"responsive\": true}                    )                };                            </script>        </div>\n</body>\n</html>",
       "datasetInfos": [],
       "metadata": {},
       "removedWidgets": [],
       "textData": null,
       "type": "htmlSandbox"
      }
     },
     "output_type": "display_data"
    }
   ],
   "source": [
    "fig = px.histogram(df_da, x = \"Year-Month\") #plot the distribution across each month\n",
    "fig.show()"
   ]
  },
  {
   "cell_type": "markdown",
   "metadata": {
    "application/vnd.databricks.v1+cell": {
     "cellMetadata": {},
     "inputWidgets": {},
     "nuid": "dedb33e0-a55f-460b-82ff-54dd7c00b9c3",
     "showTitle": false,
     "title": ""
    }
   },
   "source": [
    "### Prepare the data to calculate the sales trend and the forecast"
   ]
  },
  {
   "cell_type": "code",
   "execution_count": 0,
   "metadata": {
    "application/vnd.databricks.v1+cell": {
     "cellMetadata": {
      "byteLimit": 2048000,
      "rowLimit": 10000
     },
     "inputWidgets": {},
     "nuid": "3f42eee8-f345-411c-bcdf-a5d8149f5f01",
     "showTitle": false,
     "title": ""
    }
   },
   "outputs": [],
   "source": [
    "df_pd = df.toPandas()  #convert the Spark SQL result to Pandas\n",
    "df_pd.index = pd.to_datetime(df_pd['Date']) # convert the Date column to datetime format\n",
    "df_res = df_pd['Total_Sales'].resample('M').sum() # aggregate the sales results by each month"
   ]
  },
  {
   "cell_type": "markdown",
   "metadata": {
    "application/vnd.databricks.v1+cell": {
     "cellMetadata": {},
     "inputWidgets": {},
     "nuid": "1423eebb-75f5-4604-9a54-d34e69b10490",
     "showTitle": false,
     "title": ""
    }
   },
   "source": [
    "### Plot the sales results by month"
   ]
  },
  {
   "cell_type": "code",
   "execution_count": 0,
   "metadata": {
    "application/vnd.databricks.v1+cell": {
     "cellMetadata": {
      "byteLimit": 2048000,
      "rowLimit": 10000
     },
     "inputWidgets": {},
     "nuid": "dfdfe3c8-fce1-439c-86e4-d1af7e65e04a",
     "showTitle": false,
     "title": ""
    }
   },
   "outputs": [
    {
     "output_type": "display_data",
     "data": {
      "text/html": [
       "<html>\n",
       "<head><meta charset=\"utf-8\" /></head>\n",
       "<body>\n",
       "    <div>            <script src=\"https://cdnjs.cloudflare.com/ajax/libs/mathjax/2.7.5/MathJax.js?config=TeX-AMS-MML_SVG\"></script><script type=\"text/javascript\">if (window.MathJax) {MathJax.Hub.Config({SVG: {font: \"STIX-Web\"}});}</script>                <script type=\"text/javascript\">window.PlotlyConfig = {MathJaxConfig: 'local'};</script>\n",
       "        <script src=\"https://cdn.plot.ly/plotly-2.9.0.min.js\"></script>                <div id=\"47e0cd8c-05c2-4f72-8fc5-76c23438476c\" class=\"plotly-graph-div\" style=\"height:100%; width:100%;\"></div>            <script type=\"text/javascript\">                                    window.PLOTLYENV=window.PLOTLYENV || {};                                    if (document.getElementById(\"47e0cd8c-05c2-4f72-8fc5-76c23438476c\")) {                    Plotly.newPlot(                        \"47e0cd8c-05c2-4f72-8fc5-76c23438476c\",                        [{\"hovertemplate\":\"Date=%{x}<br>Total_Sales=%{y}<extra></extra>\",\"legendgroup\":\"\",\"line\":{\"color\":\"#636efa\",\"dash\":\"solid\"},\"marker\":{\"symbol\":\"circle\"},\"mode\":\"lines\",\"name\":\"\",\"orientation\":\"v\",\"showlegend\":false,\"x\":[\"2011-01-31T00:00:00\",\"2011-02-28T00:00:00\",\"2011-03-31T00:00:00\",\"2011-04-30T00:00:00\",\"2011-05-31T00:00:00\",\"2011-06-30T00:00:00\",\"2011-07-31T00:00:00\",\"2011-08-31T00:00:00\",\"2011-09-30T00:00:00\",\"2011-10-31T00:00:00\",\"2011-11-30T00:00:00\",\"2011-12-31T00:00:00\",\"2012-01-31T00:00:00\",\"2012-02-29T00:00:00\",\"2012-03-31T00:00:00\",\"2012-04-30T00:00:00\",\"2012-05-31T00:00:00\",\"2012-06-30T00:00:00\",\"2012-07-31T00:00:00\",\"2012-08-31T00:00:00\",\"2012-09-30T00:00:00\",\"2012-10-31T00:00:00\",\"2012-11-30T00:00:00\",\"2012-12-31T00:00:00\",\"2013-01-31T00:00:00\",\"2013-02-28T00:00:00\",\"2013-03-31T00:00:00\",\"2013-04-30T00:00:00\",\"2013-05-31T00:00:00\",\"2013-06-30T00:00:00\",\"2013-07-31T00:00:00\",\"2013-08-31T00:00:00\",\"2013-09-30T00:00:00\",\"2013-10-31T00:00:00\",\"2013-11-30T00:00:00\",\"2013-12-31T00:00:00\",\"2014-01-31T00:00:00\",\"2014-02-28T00:00:00\",\"2014-03-31T00:00:00\",\"2014-04-30T00:00:00\",\"2014-05-31T00:00:00\",\"2014-06-30T00:00:00\",\"2014-07-31T00:00:00\",\"2014-08-31T00:00:00\",\"2014-09-30T00:00:00\",\"2014-10-31T00:00:00\",\"2014-11-30T00:00:00\",\"2014-12-31T00:00:00\"],\"xaxis\":\"x\",\"y\":[1977.0,1361.0,1835.0,2380.0,2280.0,3884.0,1696.0,6024.0,3659.0,3265.0,7034.0,5279.0,2358.0,1586.0,3941.0,1257.0,5238.0,3466.0,3092.0,4608.0,4735.0,4538.0,6984.0,6475.0,3479.0,3085.0,3475.0,3494.0,7508.0,8451.0,4857.0,7008.0,6300.0,4616.0,7443.0,7233.0,3387.0,2005.0,4524.0,4124.0,5999.0,6690.0,3695.0,7868.0,8674.0,8322.0,8799.0,10802.0],\"yaxis\":\"y\",\"type\":\"scatter\"}],                        {\"template\":{\"data\":{\"bar\":[{\"error_x\":{\"color\":\"#2a3f5f\"},\"error_y\":{\"color\":\"#2a3f5f\"},\"marker\":{\"line\":{\"color\":\"#E5ECF6\",\"width\":0.5},\"pattern\":{\"fillmode\":\"overlay\",\"size\":10,\"solidity\":0.2}},\"type\":\"bar\"}],\"barpolar\":[{\"marker\":{\"line\":{\"color\":\"#E5ECF6\",\"width\":0.5},\"pattern\":{\"fillmode\":\"overlay\",\"size\":10,\"solidity\":0.2}},\"type\":\"barpolar\"}],\"carpet\":[{\"aaxis\":{\"endlinecolor\":\"#2a3f5f\",\"gridcolor\":\"white\",\"linecolor\":\"white\",\"minorgridcolor\":\"white\",\"startlinecolor\":\"#2a3f5f\"},\"baxis\":{\"endlinecolor\":\"#2a3f5f\",\"gridcolor\":\"white\",\"linecolor\":\"white\",\"minorgridcolor\":\"white\",\"startlinecolor\":\"#2a3f5f\"},\"type\":\"carpet\"}],\"choropleth\":[{\"colorbar\":{\"outlinewidth\":0,\"ticks\":\"\"},\"type\":\"choropleth\"}],\"contour\":[{\"colorbar\":{\"outlinewidth\":0,\"ticks\":\"\"},\"colorscale\":[[0.0,\"#0d0887\"],[0.1111111111111111,\"#46039f\"],[0.2222222222222222,\"#7201a8\"],[0.3333333333333333,\"#9c179e\"],[0.4444444444444444,\"#bd3786\"],[0.5555555555555556,\"#d8576b\"],[0.6666666666666666,\"#ed7953\"],[0.7777777777777778,\"#fb9f3a\"],[0.8888888888888888,\"#fdca26\"],[1.0,\"#f0f921\"]],\"type\":\"contour\"}],\"contourcarpet\":[{\"colorbar\":{\"outlinewidth\":0,\"ticks\":\"\"},\"type\":\"contourcarpet\"}],\"heatmap\":[{\"colorbar\":{\"outlinewidth\":0,\"ticks\":\"\"},\"colorscale\":[[0.0,\"#0d0887\"],[0.1111111111111111,\"#46039f\"],[0.2222222222222222,\"#7201a8\"],[0.3333333333333333,\"#9c179e\"],[0.4444444444444444,\"#bd3786\"],[0.5555555555555556,\"#d8576b\"],[0.6666666666666666,\"#ed7953\"],[0.7777777777777778,\"#fb9f3a\"],[0.8888888888888888,\"#fdca26\"],[1.0,\"#f0f921\"]],\"type\":\"heatmap\"}],\"heatmapgl\":[{\"colorbar\":{\"outlinewidth\":0,\"ticks\":\"\"},\"colorscale\":[[0.0,\"#0d0887\"],[0.1111111111111111,\"#46039f\"],[0.2222222222222222,\"#7201a8\"],[0.3333333333333333,\"#9c179e\"],[0.4444444444444444,\"#bd3786\"],[0.5555555555555556,\"#d8576b\"],[0.6666666666666666,\"#ed7953\"],[0.7777777777777778,\"#fb9f3a\"],[0.8888888888888888,\"#fdca26\"],[1.0,\"#f0f921\"]],\"type\":\"heatmapgl\"}],\"histogram\":[{\"marker\":{\"pattern\":{\"fillmode\":\"overlay\",\"size\":10,\"solidity\":0.2}},\"type\":\"histogram\"}],\"histogram2d\":[{\"colorbar\":{\"outlinewidth\":0,\"ticks\":\"\"},\"colorscale\":[[0.0,\"#0d0887\"],[0.1111111111111111,\"#46039f\"],[0.2222222222222222,\"#7201a8\"],[0.3333333333333333,\"#9c179e\"],[0.4444444444444444,\"#bd3786\"],[0.5555555555555556,\"#d8576b\"],[0.6666666666666666,\"#ed7953\"],[0.7777777777777778,\"#fb9f3a\"],[0.8888888888888888,\"#fdca26\"],[1.0,\"#f0f921\"]],\"type\":\"histogram2d\"}],\"histogram2dcontour\":[{\"colorbar\":{\"outlinewidth\":0,\"ticks\":\"\"},\"colorscale\":[[0.0,\"#0d0887\"],[0.1111111111111111,\"#46039f\"],[0.2222222222222222,\"#7201a8\"],[0.3333333333333333,\"#9c179e\"],[0.4444444444444444,\"#bd3786\"],[0.5555555555555556,\"#d8576b\"],[0.6666666666666666,\"#ed7953\"],[0.7777777777777778,\"#fb9f3a\"],[0.8888888888888888,\"#fdca26\"],[1.0,\"#f0f921\"]],\"type\":\"histogram2dcontour\"}],\"mesh3d\":[{\"colorbar\":{\"outlinewidth\":0,\"ticks\":\"\"},\"type\":\"mesh3d\"}],\"parcoords\":[{\"line\":{\"colorbar\":{\"outlinewidth\":0,\"ticks\":\"\"}},\"type\":\"parcoords\"}],\"pie\":[{\"automargin\":true,\"type\":\"pie\"}],\"scatter\":[{\"marker\":{\"colorbar\":{\"outlinewidth\":0,\"ticks\":\"\"}},\"type\":\"scatter\"}],\"scatter3d\":[{\"line\":{\"colorbar\":{\"outlinewidth\":0,\"ticks\":\"\"}},\"marker\":{\"colorbar\":{\"outlinewidth\":0,\"ticks\":\"\"}},\"type\":\"scatter3d\"}],\"scattercarpet\":[{\"marker\":{\"colorbar\":{\"outlinewidth\":0,\"ticks\":\"\"}},\"type\":\"scattercarpet\"}],\"scattergeo\":[{\"marker\":{\"colorbar\":{\"outlinewidth\":0,\"ticks\":\"\"}},\"type\":\"scattergeo\"}],\"scattergl\":[{\"marker\":{\"colorbar\":{\"outlinewidth\":0,\"ticks\":\"\"}},\"type\":\"scattergl\"}],\"scattermapbox\":[{\"marker\":{\"colorbar\":{\"outlinewidth\":0,\"ticks\":\"\"}},\"type\":\"scattermapbox\"}],\"scatterpolar\":[{\"marker\":{\"colorbar\":{\"outlinewidth\":0,\"ticks\":\"\"}},\"type\":\"scatterpolar\"}],\"scatterpolargl\":[{\"marker\":{\"colorbar\":{\"outlinewidth\":0,\"ticks\":\"\"}},\"type\":\"scatterpolargl\"}],\"scatterternary\":[{\"marker\":{\"colorbar\":{\"outlinewidth\":0,\"ticks\":\"\"}},\"type\":\"scatterternary\"}],\"surface\":[{\"colorbar\":{\"outlinewidth\":0,\"ticks\":\"\"},\"colorscale\":[[0.0,\"#0d0887\"],[0.1111111111111111,\"#46039f\"],[0.2222222222222222,\"#7201a8\"],[0.3333333333333333,\"#9c179e\"],[0.4444444444444444,\"#bd3786\"],[0.5555555555555556,\"#d8576b\"],[0.6666666666666666,\"#ed7953\"],[0.7777777777777778,\"#fb9f3a\"],[0.8888888888888888,\"#fdca26\"],[1.0,\"#f0f921\"]],\"type\":\"surface\"}],\"table\":[{\"cells\":{\"fill\":{\"color\":\"#EBF0F8\"},\"line\":{\"color\":\"white\"}},\"header\":{\"fill\":{\"color\":\"#C8D4E3\"},\"line\":{\"color\":\"white\"}},\"type\":\"table\"}]},\"layout\":{\"annotationdefaults\":{\"arrowcolor\":\"#2a3f5f\",\"arrowhead\":0,\"arrowwidth\":1},\"autotypenumbers\":\"strict\",\"coloraxis\":{\"colorbar\":{\"outlinewidth\":0,\"ticks\":\"\"}},\"colorscale\":{\"diverging\":[[0,\"#8e0152\"],[0.1,\"#c51b7d\"],[0.2,\"#de77ae\"],[0.3,\"#f1b6da\"],[0.4,\"#fde0ef\"],[0.5,\"#f7f7f7\"],[0.6,\"#e6f5d0\"],[0.7,\"#b8e186\"],[0.8,\"#7fbc41\"],[0.9,\"#4d9221\"],[1,\"#276419\"]],\"sequential\":[[0.0,\"#0d0887\"],[0.1111111111111111,\"#46039f\"],[0.2222222222222222,\"#7201a8\"],[0.3333333333333333,\"#9c179e\"],[0.4444444444444444,\"#bd3786\"],[0.5555555555555556,\"#d8576b\"],[0.6666666666666666,\"#ed7953\"],[0.7777777777777778,\"#fb9f3a\"],[0.8888888888888888,\"#fdca26\"],[1.0,\"#f0f921\"]],\"sequentialminus\":[[0.0,\"#0d0887\"],[0.1111111111111111,\"#46039f\"],[0.2222222222222222,\"#7201a8\"],[0.3333333333333333,\"#9c179e\"],[0.4444444444444444,\"#bd3786\"],[0.5555555555555556,\"#d8576b\"],[0.6666666666666666,\"#ed7953\"],[0.7777777777777778,\"#fb9f3a\"],[0.8888888888888888,\"#fdca26\"],[1.0,\"#f0f921\"]]},\"colorway\":[\"#636efa\",\"#EF553B\",\"#00cc96\",\"#ab63fa\",\"#FFA15A\",\"#19d3f3\",\"#FF6692\",\"#B6E880\",\"#FF97FF\",\"#FECB52\"],\"font\":{\"color\":\"#2a3f5f\"},\"geo\":{\"bgcolor\":\"white\",\"lakecolor\":\"white\",\"landcolor\":\"#E5ECF6\",\"showlakes\":true,\"showland\":true,\"subunitcolor\":\"white\"},\"hoverlabel\":{\"align\":\"left\"},\"hovermode\":\"closest\",\"mapbox\":{\"style\":\"light\"},\"paper_bgcolor\":\"white\",\"plot_bgcolor\":\"#E5ECF6\",\"polar\":{\"angularaxis\":{\"gridcolor\":\"white\",\"linecolor\":\"white\",\"ticks\":\"\"},\"bgcolor\":\"#E5ECF6\",\"radialaxis\":{\"gridcolor\":\"white\",\"linecolor\":\"white\",\"ticks\":\"\"}},\"scene\":{\"xaxis\":{\"backgroundcolor\":\"#E5ECF6\",\"gridcolor\":\"white\",\"gridwidth\":2,\"linecolor\":\"white\",\"showbackground\":true,\"ticks\":\"\",\"zerolinecolor\":\"white\"},\"yaxis\":{\"backgroundcolor\":\"#E5ECF6\",\"gridcolor\":\"white\",\"gridwidth\":2,\"linecolor\":\"white\",\"showbackground\":true,\"ticks\":\"\",\"zerolinecolor\":\"white\"},\"zaxis\":{\"backgroundcolor\":\"#E5ECF6\",\"gridcolor\":\"white\",\"gridwidth\":2,\"linecolor\":\"white\",\"showbackground\":true,\"ticks\":\"\",\"zerolinecolor\":\"white\"}},\"shapedefaults\":{\"line\":{\"color\":\"#2a3f5f\"}},\"ternary\":{\"aaxis\":{\"gridcolor\":\"white\",\"linecolor\":\"white\",\"ticks\":\"\"},\"baxis\":{\"gridcolor\":\"white\",\"linecolor\":\"white\",\"ticks\":\"\"},\"bgcolor\":\"#E5ECF6\",\"caxis\":{\"gridcolor\":\"white\",\"linecolor\":\"white\",\"ticks\":\"\"}},\"title\":{\"x\":0.05},\"xaxis\":{\"automargin\":true,\"gridcolor\":\"white\",\"linecolor\":\"white\",\"ticks\":\"\",\"title\":{\"standoff\":15},\"zerolinecolor\":\"white\",\"zerolinewidth\":2},\"yaxis\":{\"automargin\":true,\"gridcolor\":\"white\",\"linecolor\":\"white\",\"ticks\":\"\",\"title\":{\"standoff\":15},\"zerolinecolor\":\"white\",\"zerolinewidth\":2}}},\"xaxis\":{\"anchor\":\"y\",\"domain\":[0.0,1.0],\"title\":{\"text\":\"Date\"}},\"yaxis\":{\"anchor\":\"x\",\"domain\":[0.0,1.0],\"title\":{\"text\":\"Total_Sales\"}},\"legend\":{\"tracegroupgap\":0},\"margin\":{\"t\":60}},                        {\"responsive\": true}                    )                };                            </script>        </div>\n",
       "</body>\n",
       "</html>"
      ]
     },
     "metadata": {
      "application/vnd.databricks.v1+output": {
       "addedWidgets": {},
       "arguments": {},
       "data": "<html>\n<head><meta charset=\"utf-8\" /></head>\n<body>\n    <div>            <script src=\"https://cdnjs.cloudflare.com/ajax/libs/mathjax/2.7.5/MathJax.js?config=TeX-AMS-MML_SVG\"></script><script type=\"text/javascript\">if (window.MathJax) {MathJax.Hub.Config({SVG: {font: \"STIX-Web\"}});}</script>                <script type=\"text/javascript\">window.PlotlyConfig = {MathJaxConfig: 'local'};</script>\n        <script src=\"https://cdn.plot.ly/plotly-2.9.0.min.js\"></script>                <div id=\"47e0cd8c-05c2-4f72-8fc5-76c23438476c\" class=\"plotly-graph-div\" style=\"height:100%; width:100%;\"></div>            <script type=\"text/javascript\">                                    window.PLOTLYENV=window.PLOTLYENV || {};                                    if (document.getElementById(\"47e0cd8c-05c2-4f72-8fc5-76c23438476c\")) {                    Plotly.newPlot(                        \"47e0cd8c-05c2-4f72-8fc5-76c23438476c\",                        [{\"hovertemplate\":\"Date=%{x}<br>Total_Sales=%{y}<extra></extra>\",\"legendgroup\":\"\",\"line\":{\"color\":\"#636efa\",\"dash\":\"solid\"},\"marker\":{\"symbol\":\"circle\"},\"mode\":\"lines\",\"name\":\"\",\"orientation\":\"v\",\"showlegend\":false,\"x\":[\"2011-01-31T00:00:00\",\"2011-02-28T00:00:00\",\"2011-03-31T00:00:00\",\"2011-04-30T00:00:00\",\"2011-05-31T00:00:00\",\"2011-06-30T00:00:00\",\"2011-07-31T00:00:00\",\"2011-08-31T00:00:00\",\"2011-09-30T00:00:00\",\"2011-10-31T00:00:00\",\"2011-11-30T00:00:00\",\"2011-12-31T00:00:00\",\"2012-01-31T00:00:00\",\"2012-02-29T00:00:00\",\"2012-03-31T00:00:00\",\"2012-04-30T00:00:00\",\"2012-05-31T00:00:00\",\"2012-06-30T00:00:00\",\"2012-07-31T00:00:00\",\"2012-08-31T00:00:00\",\"2012-09-30T00:00:00\",\"2012-10-31T00:00:00\",\"2012-11-30T00:00:00\",\"2012-12-31T00:00:00\",\"2013-01-31T00:00:00\",\"2013-02-28T00:00:00\",\"2013-03-31T00:00:00\",\"2013-04-30T00:00:00\",\"2013-05-31T00:00:00\",\"2013-06-30T00:00:00\",\"2013-07-31T00:00:00\",\"2013-08-31T00:00:00\",\"2013-09-30T00:00:00\",\"2013-10-31T00:00:00\",\"2013-11-30T00:00:00\",\"2013-12-31T00:00:00\",\"2014-01-31T00:00:00\",\"2014-02-28T00:00:00\",\"2014-03-31T00:00:00\",\"2014-04-30T00:00:00\",\"2014-05-31T00:00:00\",\"2014-06-30T00:00:00\",\"2014-07-31T00:00:00\",\"2014-08-31T00:00:00\",\"2014-09-30T00:00:00\",\"2014-10-31T00:00:00\",\"2014-11-30T00:00:00\",\"2014-12-31T00:00:00\"],\"xaxis\":\"x\",\"y\":[1977.0,1361.0,1835.0,2380.0,2280.0,3884.0,1696.0,6024.0,3659.0,3265.0,7034.0,5279.0,2358.0,1586.0,3941.0,1257.0,5238.0,3466.0,3092.0,4608.0,4735.0,4538.0,6984.0,6475.0,3479.0,3085.0,3475.0,3494.0,7508.0,8451.0,4857.0,7008.0,6300.0,4616.0,7443.0,7233.0,3387.0,2005.0,4524.0,4124.0,5999.0,6690.0,3695.0,7868.0,8674.0,8322.0,8799.0,10802.0],\"yaxis\":\"y\",\"type\":\"scatter\"}],                        {\"template\":{\"data\":{\"bar\":[{\"error_x\":{\"color\":\"#2a3f5f\"},\"error_y\":{\"color\":\"#2a3f5f\"},\"marker\":{\"line\":{\"color\":\"#E5ECF6\",\"width\":0.5},\"pattern\":{\"fillmode\":\"overlay\",\"size\":10,\"solidity\":0.2}},\"type\":\"bar\"}],\"barpolar\":[{\"marker\":{\"line\":{\"color\":\"#E5ECF6\",\"width\":0.5},\"pattern\":{\"fillmode\":\"overlay\",\"size\":10,\"solidity\":0.2}},\"type\":\"barpolar\"}],\"carpet\":[{\"aaxis\":{\"endlinecolor\":\"#2a3f5f\",\"gridcolor\":\"white\",\"linecolor\":\"white\",\"minorgridcolor\":\"white\",\"startlinecolor\":\"#2a3f5f\"},\"baxis\":{\"endlinecolor\":\"#2a3f5f\",\"gridcolor\":\"white\",\"linecolor\":\"white\",\"minorgridcolor\":\"white\",\"startlinecolor\":\"#2a3f5f\"},\"type\":\"carpet\"}],\"choropleth\":[{\"colorbar\":{\"outlinewidth\":0,\"ticks\":\"\"},\"type\":\"choropleth\"}],\"contour\":[{\"colorbar\":{\"outlinewidth\":0,\"ticks\":\"\"},\"colorscale\":[[0.0,\"#0d0887\"],[0.1111111111111111,\"#46039f\"],[0.2222222222222222,\"#7201a8\"],[0.3333333333333333,\"#9c179e\"],[0.4444444444444444,\"#bd3786\"],[0.5555555555555556,\"#d8576b\"],[0.6666666666666666,\"#ed7953\"],[0.7777777777777778,\"#fb9f3a\"],[0.8888888888888888,\"#fdca26\"],[1.0,\"#f0f921\"]],\"type\":\"contour\"}],\"contourcarpet\":[{\"colorbar\":{\"outlinewidth\":0,\"ticks\":\"\"},\"type\":\"contourcarpet\"}],\"heatmap\":[{\"colorbar\":{\"outlinewidth\":0,\"ticks\":\"\"},\"colorscale\":[[0.0,\"#0d0887\"],[0.1111111111111111,\"#46039f\"],[0.2222222222222222,\"#7201a8\"],[0.3333333333333333,\"#9c179e\"],[0.4444444444444444,\"#bd3786\"],[0.5555555555555556,\"#d8576b\"],[0.6666666666666666,\"#ed7953\"],[0.7777777777777778,\"#fb9f3a\"],[0.8888888888888888,\"#fdca26\"],[1.0,\"#f0f921\"]],\"type\":\"heatmap\"}],\"heatmapgl\":[{\"colorbar\":{\"outlinewidth\":0,\"ticks\":\"\"},\"colorscale\":[[0.0,\"#0d0887\"],[0.1111111111111111,\"#46039f\"],[0.2222222222222222,\"#7201a8\"],[0.3333333333333333,\"#9c179e\"],[0.4444444444444444,\"#bd3786\"],[0.5555555555555556,\"#d8576b\"],[0.6666666666666666,\"#ed7953\"],[0.7777777777777778,\"#fb9f3a\"],[0.8888888888888888,\"#fdca26\"],[1.0,\"#f0f921\"]],\"type\":\"heatmapgl\"}],\"histogram\":[{\"marker\":{\"pattern\":{\"fillmode\":\"overlay\",\"size\":10,\"solidity\":0.2}},\"type\":\"histogram\"}],\"histogram2d\":[{\"colorbar\":{\"outlinewidth\":0,\"ticks\":\"\"},\"colorscale\":[[0.0,\"#0d0887\"],[0.1111111111111111,\"#46039f\"],[0.2222222222222222,\"#7201a8\"],[0.3333333333333333,\"#9c179e\"],[0.4444444444444444,\"#bd3786\"],[0.5555555555555556,\"#d8576b\"],[0.6666666666666666,\"#ed7953\"],[0.7777777777777778,\"#fb9f3a\"],[0.8888888888888888,\"#fdca26\"],[1.0,\"#f0f921\"]],\"type\":\"histogram2d\"}],\"histogram2dcontour\":[{\"colorbar\":{\"outlinewidth\":0,\"ticks\":\"\"},\"colorscale\":[[0.0,\"#0d0887\"],[0.1111111111111111,\"#46039f\"],[0.2222222222222222,\"#7201a8\"],[0.3333333333333333,\"#9c179e\"],[0.4444444444444444,\"#bd3786\"],[0.5555555555555556,\"#d8576b\"],[0.6666666666666666,\"#ed7953\"],[0.7777777777777778,\"#fb9f3a\"],[0.8888888888888888,\"#fdca26\"],[1.0,\"#f0f921\"]],\"type\":\"histogram2dcontour\"}],\"mesh3d\":[{\"colorbar\":{\"outlinewidth\":0,\"ticks\":\"\"},\"type\":\"mesh3d\"}],\"parcoords\":[{\"line\":{\"colorbar\":{\"outlinewidth\":0,\"ticks\":\"\"}},\"type\":\"parcoords\"}],\"pie\":[{\"automargin\":true,\"type\":\"pie\"}],\"scatter\":[{\"marker\":{\"colorbar\":{\"outlinewidth\":0,\"ticks\":\"\"}},\"type\":\"scatter\"}],\"scatter3d\":[{\"line\":{\"colorbar\":{\"outlinewidth\":0,\"ticks\":\"\"}},\"marker\":{\"colorbar\":{\"outlinewidth\":0,\"ticks\":\"\"}},\"type\":\"scatter3d\"}],\"scattercarpet\":[{\"marker\":{\"colorbar\":{\"outlinewidth\":0,\"ticks\":\"\"}},\"type\":\"scattercarpet\"}],\"scattergeo\":[{\"marker\":{\"colorbar\":{\"outlinewidth\":0,\"ticks\":\"\"}},\"type\":\"scattergeo\"}],\"scattergl\":[{\"marker\":{\"colorbar\":{\"outlinewidth\":0,\"ticks\":\"\"}},\"type\":\"scattergl\"}],\"scattermapbox\":[{\"marker\":{\"colorbar\":{\"outlinewidth\":0,\"ticks\":\"\"}},\"type\":\"scattermapbox\"}],\"scatterpolar\":[{\"marker\":{\"colorbar\":{\"outlinewidth\":0,\"ticks\":\"\"}},\"type\":\"scatterpolar\"}],\"scatterpolargl\":[{\"marker\":{\"colorbar\":{\"outlinewidth\":0,\"ticks\":\"\"}},\"type\":\"scatterpolargl\"}],\"scatterternary\":[{\"marker\":{\"colorbar\":{\"outlinewidth\":0,\"ticks\":\"\"}},\"type\":\"scatterternary\"}],\"surface\":[{\"colorbar\":{\"outlinewidth\":0,\"ticks\":\"\"},\"colorscale\":[[0.0,\"#0d0887\"],[0.1111111111111111,\"#46039f\"],[0.2222222222222222,\"#7201a8\"],[0.3333333333333333,\"#9c179e\"],[0.4444444444444444,\"#bd3786\"],[0.5555555555555556,\"#d8576b\"],[0.6666666666666666,\"#ed7953\"],[0.7777777777777778,\"#fb9f3a\"],[0.8888888888888888,\"#fdca26\"],[1.0,\"#f0f921\"]],\"type\":\"surface\"}],\"table\":[{\"cells\":{\"fill\":{\"color\":\"#EBF0F8\"},\"line\":{\"color\":\"white\"}},\"header\":{\"fill\":{\"color\":\"#C8D4E3\"},\"line\":{\"color\":\"white\"}},\"type\":\"table\"}]},\"layout\":{\"annotationdefaults\":{\"arrowcolor\":\"#2a3f5f\",\"arrowhead\":0,\"arrowwidth\":1},\"autotypenumbers\":\"strict\",\"coloraxis\":{\"colorbar\":{\"outlinewidth\":0,\"ticks\":\"\"}},\"colorscale\":{\"diverging\":[[0,\"#8e0152\"],[0.1,\"#c51b7d\"],[0.2,\"#de77ae\"],[0.3,\"#f1b6da\"],[0.4,\"#fde0ef\"],[0.5,\"#f7f7f7\"],[0.6,\"#e6f5d0\"],[0.7,\"#b8e186\"],[0.8,\"#7fbc41\"],[0.9,\"#4d9221\"],[1,\"#276419\"]],\"sequential\":[[0.0,\"#0d0887\"],[0.1111111111111111,\"#46039f\"],[0.2222222222222222,\"#7201a8\"],[0.3333333333333333,\"#9c179e\"],[0.4444444444444444,\"#bd3786\"],[0.5555555555555556,\"#d8576b\"],[0.6666666666666666,\"#ed7953\"],[0.7777777777777778,\"#fb9f3a\"],[0.8888888888888888,\"#fdca26\"],[1.0,\"#f0f921\"]],\"sequentialminus\":[[0.0,\"#0d0887\"],[0.1111111111111111,\"#46039f\"],[0.2222222222222222,\"#7201a8\"],[0.3333333333333333,\"#9c179e\"],[0.4444444444444444,\"#bd3786\"],[0.5555555555555556,\"#d8576b\"],[0.6666666666666666,\"#ed7953\"],[0.7777777777777778,\"#fb9f3a\"],[0.8888888888888888,\"#fdca26\"],[1.0,\"#f0f921\"]]},\"colorway\":[\"#636efa\",\"#EF553B\",\"#00cc96\",\"#ab63fa\",\"#FFA15A\",\"#19d3f3\",\"#FF6692\",\"#B6E880\",\"#FF97FF\",\"#FECB52\"],\"font\":{\"color\":\"#2a3f5f\"},\"geo\":{\"bgcolor\":\"white\",\"lakecolor\":\"white\",\"landcolor\":\"#E5ECF6\",\"showlakes\":true,\"showland\":true,\"subunitcolor\":\"white\"},\"hoverlabel\":{\"align\":\"left\"},\"hovermode\":\"closest\",\"mapbox\":{\"style\":\"light\"},\"paper_bgcolor\":\"white\",\"plot_bgcolor\":\"#E5ECF6\",\"polar\":{\"angularaxis\":{\"gridcolor\":\"white\",\"linecolor\":\"white\",\"ticks\":\"\"},\"bgcolor\":\"#E5ECF6\",\"radialaxis\":{\"gridcolor\":\"white\",\"linecolor\":\"white\",\"ticks\":\"\"}},\"scene\":{\"xaxis\":{\"backgroundcolor\":\"#E5ECF6\",\"gridcolor\":\"white\",\"gridwidth\":2,\"linecolor\":\"white\",\"showbackground\":true,\"ticks\":\"\",\"zerolinecolor\":\"white\"},\"yaxis\":{\"backgroundcolor\":\"#E5ECF6\",\"gridcolor\":\"white\",\"gridwidth\":2,\"linecolor\":\"white\",\"showbackground\":true,\"ticks\":\"\",\"zerolinecolor\":\"white\"},\"zaxis\":{\"backgroundcolor\":\"#E5ECF6\",\"gridcolor\":\"white\",\"gridwidth\":2,\"linecolor\":\"white\",\"showbackground\":true,\"ticks\":\"\",\"zerolinecolor\":\"white\"}},\"shapedefaults\":{\"line\":{\"color\":\"#2a3f5f\"}},\"ternary\":{\"aaxis\":{\"gridcolor\":\"white\",\"linecolor\":\"white\",\"ticks\":\"\"},\"baxis\":{\"gridcolor\":\"white\",\"linecolor\":\"white\",\"ticks\":\"\"},\"bgcolor\":\"#E5ECF6\",\"caxis\":{\"gridcolor\":\"white\",\"linecolor\":\"white\",\"ticks\":\"\"}},\"title\":{\"x\":0.05},\"xaxis\":{\"automargin\":true,\"gridcolor\":\"white\",\"linecolor\":\"white\",\"ticks\":\"\",\"title\":{\"standoff\":15},\"zerolinecolor\":\"white\",\"zerolinewidth\":2},\"yaxis\":{\"automargin\":true,\"gridcolor\":\"white\",\"linecolor\":\"white\",\"ticks\":\"\",\"title\":{\"standoff\":15},\"zerolinecolor\":\"white\",\"zerolinewidth\":2}}},\"xaxis\":{\"anchor\":\"y\",\"domain\":[0.0,1.0],\"title\":{\"text\":\"Date\"}},\"yaxis\":{\"anchor\":\"x\",\"domain\":[0.0,1.0],\"title\":{\"text\":\"Total_Sales\"}},\"legend\":{\"tracegroupgap\":0},\"margin\":{\"t\":60}},                        {\"responsive\": true}                    )                };                            </script>        </div>\n</body>\n</html>",
       "datasetInfos": [],
       "metadata": {},
       "removedWidgets": [],
       "textData": null,
       "type": "htmlSandbox"
      }
     },
     "output_type": "display_data"
    }
   ],
   "source": [
    "fig = px.line(df_res, x = df_res.index, y=\"Total_Sales\")\n",
    "fig.show()"
   ]
  },
  {
   "cell_type": "markdown",
   "metadata": {
    "application/vnd.databricks.v1+cell": {
     "cellMetadata": {},
     "inputWidgets": {},
     "nuid": "1b829527-6da1-4d13-b9f8-3fae21e30cd5",
     "showTitle": false,
     "title": ""
    }
   },
   "source": [
    "### Plot the trend sales results by month using a Ordinary Least Squares (OLS) regression"
   ]
  },
  {
   "cell_type": "code",
   "execution_count": 0,
   "metadata": {
    "application/vnd.databricks.v1+cell": {
     "cellMetadata": {
      "byteLimit": 2048000,
      "rowLimit": 10000
     },
     "inputWidgets": {},
     "nuid": "55a07065-1425-472f-b559-fb27183052da",
     "showTitle": false,
     "title": ""
    }
   },
   "outputs": [
    {
     "output_type": "display_data",
     "data": {
      "text/html": [
       "<html>\n",
       "<head><meta charset=\"utf-8\" /></head>\n",
       "<body>\n",
       "    <div>            <script src=\"https://cdnjs.cloudflare.com/ajax/libs/mathjax/2.7.5/MathJax.js?config=TeX-AMS-MML_SVG\"></script><script type=\"text/javascript\">if (window.MathJax) {MathJax.Hub.Config({SVG: {font: \"STIX-Web\"}});}</script>                <script type=\"text/javascript\">window.PlotlyConfig = {MathJaxConfig: 'local'};</script>\n",
       "        <script src=\"https://cdn.plot.ly/plotly-2.9.0.min.js\"></script>                <div id=\"defd2e9c-06dc-42f7-8494-c5b841480fd9\" class=\"plotly-graph-div\" style=\"height:100%; width:100%;\"></div>            <script type=\"text/javascript\">                                    window.PLOTLYENV=window.PLOTLYENV || {};                                    if (document.getElementById(\"defd2e9c-06dc-42f7-8494-c5b841480fd9\")) {                    Plotly.newPlot(                        \"defd2e9c-06dc-42f7-8494-c5b841480fd9\",                        [{\"hovertemplate\":\"Date=%{x}<br>Total_Sales=%{y}<extra></extra>\",\"legendgroup\":\"\",\"marker\":{\"color\":\"#636efa\",\"symbol\":\"circle\"},\"mode\":\"markers\",\"name\":\"\",\"orientation\":\"v\",\"showlegend\":false,\"x\":[\"2011-01-31T00:00:00\",\"2011-02-28T00:00:00\",\"2011-03-31T00:00:00\",\"2011-04-30T00:00:00\",\"2011-05-31T00:00:00\",\"2011-06-30T00:00:00\",\"2011-07-31T00:00:00\",\"2011-08-31T00:00:00\",\"2011-09-30T00:00:00\",\"2011-10-31T00:00:00\",\"2011-11-30T00:00:00\",\"2011-12-31T00:00:00\",\"2012-01-31T00:00:00\",\"2012-02-29T00:00:00\",\"2012-03-31T00:00:00\",\"2012-04-30T00:00:00\",\"2012-05-31T00:00:00\",\"2012-06-30T00:00:00\",\"2012-07-31T00:00:00\",\"2012-08-31T00:00:00\",\"2012-09-30T00:00:00\",\"2012-10-31T00:00:00\",\"2012-11-30T00:00:00\",\"2012-12-31T00:00:00\",\"2013-01-31T00:00:00\",\"2013-02-28T00:00:00\",\"2013-03-31T00:00:00\",\"2013-04-30T00:00:00\",\"2013-05-31T00:00:00\",\"2013-06-30T00:00:00\",\"2013-07-31T00:00:00\",\"2013-08-31T00:00:00\",\"2013-09-30T00:00:00\",\"2013-10-31T00:00:00\",\"2013-11-30T00:00:00\",\"2013-12-31T00:00:00\",\"2014-01-31T00:00:00\",\"2014-02-28T00:00:00\",\"2014-03-31T00:00:00\",\"2014-04-30T00:00:00\",\"2014-05-31T00:00:00\",\"2014-06-30T00:00:00\",\"2014-07-31T00:00:00\",\"2014-08-31T00:00:00\",\"2014-09-30T00:00:00\",\"2014-10-31T00:00:00\",\"2014-11-30T00:00:00\",\"2014-12-31T00:00:00\"],\"xaxis\":\"x\",\"y\":[1977.0,1361.0,1835.0,2380.0,2280.0,3884.0,1696.0,6024.0,3659.0,3265.0,7034.0,5279.0,2358.0,1586.0,3941.0,1257.0,5238.0,3466.0,3092.0,4608.0,4735.0,4538.0,6984.0,6475.0,3479.0,3085.0,3475.0,3494.0,7508.0,8451.0,4857.0,7008.0,6300.0,4616.0,7443.0,7233.0,3387.0,2005.0,4524.0,4124.0,5999.0,6690.0,3695.0,7868.0,8674.0,8322.0,8799.0,10802.0],\"yaxis\":\"y\",\"type\":\"scatter\"},{\"hovertemplate\":\"<b>OLS trendline</b><br>Total_Sales = 4.07469e-05 * Date + -50531.6<br>R<sup>2</sup>=0.410063<br><br>Date=%{x}<br>Total_Sales=%{y} <b>(trend)</b><extra></extra>\",\"legendgroup\":\"\",\"marker\":{\"color\":\"#636efa\",\"symbol\":\"circle\"},\"mode\":\"lines\",\"name\":\"\",\"showlegend\":false,\"x\":[\"2011-01-31T00:00:00\",\"2011-02-28T00:00:00\",\"2011-03-31T00:00:00\",\"2011-04-30T00:00:00\",\"2011-05-31T00:00:00\",\"2011-06-30T00:00:00\",\"2011-07-31T00:00:00\",\"2011-08-31T00:00:00\",\"2011-09-30T00:00:00\",\"2011-10-31T00:00:00\",\"2011-11-30T00:00:00\",\"2011-12-31T00:00:00\",\"2012-01-31T00:00:00\",\"2012-02-29T00:00:00\",\"2012-03-31T00:00:00\",\"2012-04-30T00:00:00\",\"2012-05-31T00:00:00\",\"2012-06-30T00:00:00\",\"2012-07-31T00:00:00\",\"2012-08-31T00:00:00\",\"2012-09-30T00:00:00\",\"2012-10-31T00:00:00\",\"2012-11-30T00:00:00\",\"2012-12-31T00:00:00\",\"2013-01-31T00:00:00\",\"2013-02-28T00:00:00\",\"2013-03-31T00:00:00\",\"2013-04-30T00:00:00\",\"2013-05-31T00:00:00\",\"2013-06-30T00:00:00\",\"2013-07-31T00:00:00\",\"2013-08-31T00:00:00\",\"2013-09-30T00:00:00\",\"2013-10-31T00:00:00\",\"2013-11-30T00:00:00\",\"2013-12-31T00:00:00\",\"2014-01-31T00:00:00\",\"2014-02-28T00:00:00\",\"2014-03-31T00:00:00\",\"2014-04-30T00:00:00\",\"2014-05-31T00:00:00\",\"2014-06-30T00:00:00\",\"2014-07-31T00:00:00\",\"2014-08-31T00:00:00\",\"2014-09-30T00:00:00\",\"2014-10-31T00:00:00\",\"2014-11-30T00:00:00\",\"2014-12-31T00:00:00\"],\"xaxis\":\"x\",\"y\":[2293.953930617732,2392.528740771173,2501.6651377267626,2607.2810057483075,2716.4174027039044,2822.033270725442,2931.169667681039,3040.3060646366357,3145.9219326581806,3255.05832961377,3360.674197635315,3469.810594590912,3578.9469915465015,3681.0423306339944,3790.1787275895913,3895.794595611136,4004.9309925667258,4110.546860588271,4219.6832575438675,4328.819654499464,4434.435522521002,4543.571919476599,4649.187787498144,4758.324184453733,4867.46058140933,4966.035391562771,5075.171788518368,5180.787656539906,5289.924053495502,5395.539921517047,5504.676318472644,5613.812715428234,5719.428583449779,5828.5649804053755,5934.18084842692,6043.31724538251,6152.453642338107,6251.028452491548,6360.164849447145,6465.780717468682,6574.917114424279,6680.532982445824,6789.669379401414,6898.8057763570105,7004.421644378555,7113.558041334152,7219.17390935569,7328.310306311287],\"yaxis\":\"y\",\"type\":\"scatter\"}],                        {\"template\":{\"data\":{\"bar\":[{\"error_x\":{\"color\":\"#2a3f5f\"},\"error_y\":{\"color\":\"#2a3f5f\"},\"marker\":{\"line\":{\"color\":\"#E5ECF6\",\"width\":0.5},\"pattern\":{\"fillmode\":\"overlay\",\"size\":10,\"solidity\":0.2}},\"type\":\"bar\"}],\"barpolar\":[{\"marker\":{\"line\":{\"color\":\"#E5ECF6\",\"width\":0.5},\"pattern\":{\"fillmode\":\"overlay\",\"size\":10,\"solidity\":0.2}},\"type\":\"barpolar\"}],\"carpet\":[{\"aaxis\":{\"endlinecolor\":\"#2a3f5f\",\"gridcolor\":\"white\",\"linecolor\":\"white\",\"minorgridcolor\":\"white\",\"startlinecolor\":\"#2a3f5f\"},\"baxis\":{\"endlinecolor\":\"#2a3f5f\",\"gridcolor\":\"white\",\"linecolor\":\"white\",\"minorgridcolor\":\"white\",\"startlinecolor\":\"#2a3f5f\"},\"type\":\"carpet\"}],\"choropleth\":[{\"colorbar\":{\"outlinewidth\":0,\"ticks\":\"\"},\"type\":\"choropleth\"}],\"contour\":[{\"colorbar\":{\"outlinewidth\":0,\"ticks\":\"\"},\"colorscale\":[[0.0,\"#0d0887\"],[0.1111111111111111,\"#46039f\"],[0.2222222222222222,\"#7201a8\"],[0.3333333333333333,\"#9c179e\"],[0.4444444444444444,\"#bd3786\"],[0.5555555555555556,\"#d8576b\"],[0.6666666666666666,\"#ed7953\"],[0.7777777777777778,\"#fb9f3a\"],[0.8888888888888888,\"#fdca26\"],[1.0,\"#f0f921\"]],\"type\":\"contour\"}],\"contourcarpet\":[{\"colorbar\":{\"outlinewidth\":0,\"ticks\":\"\"},\"type\":\"contourcarpet\"}],\"heatmap\":[{\"colorbar\":{\"outlinewidth\":0,\"ticks\":\"\"},\"colorscale\":[[0.0,\"#0d0887\"],[0.1111111111111111,\"#46039f\"],[0.2222222222222222,\"#7201a8\"],[0.3333333333333333,\"#9c179e\"],[0.4444444444444444,\"#bd3786\"],[0.5555555555555556,\"#d8576b\"],[0.6666666666666666,\"#ed7953\"],[0.7777777777777778,\"#fb9f3a\"],[0.8888888888888888,\"#fdca26\"],[1.0,\"#f0f921\"]],\"type\":\"heatmap\"}],\"heatmapgl\":[{\"colorbar\":{\"outlinewidth\":0,\"ticks\":\"\"},\"colorscale\":[[0.0,\"#0d0887\"],[0.1111111111111111,\"#46039f\"],[0.2222222222222222,\"#7201a8\"],[0.3333333333333333,\"#9c179e\"],[0.4444444444444444,\"#bd3786\"],[0.5555555555555556,\"#d8576b\"],[0.6666666666666666,\"#ed7953\"],[0.7777777777777778,\"#fb9f3a\"],[0.8888888888888888,\"#fdca26\"],[1.0,\"#f0f921\"]],\"type\":\"heatmapgl\"}],\"histogram\":[{\"marker\":{\"pattern\":{\"fillmode\":\"overlay\",\"size\":10,\"solidity\":0.2}},\"type\":\"histogram\"}],\"histogram2d\":[{\"colorbar\":{\"outlinewidth\":0,\"ticks\":\"\"},\"colorscale\":[[0.0,\"#0d0887\"],[0.1111111111111111,\"#46039f\"],[0.2222222222222222,\"#7201a8\"],[0.3333333333333333,\"#9c179e\"],[0.4444444444444444,\"#bd3786\"],[0.5555555555555556,\"#d8576b\"],[0.6666666666666666,\"#ed7953\"],[0.7777777777777778,\"#fb9f3a\"],[0.8888888888888888,\"#fdca26\"],[1.0,\"#f0f921\"]],\"type\":\"histogram2d\"}],\"histogram2dcontour\":[{\"colorbar\":{\"outlinewidth\":0,\"ticks\":\"\"},\"colorscale\":[[0.0,\"#0d0887\"],[0.1111111111111111,\"#46039f\"],[0.2222222222222222,\"#7201a8\"],[0.3333333333333333,\"#9c179e\"],[0.4444444444444444,\"#bd3786\"],[0.5555555555555556,\"#d8576b\"],[0.6666666666666666,\"#ed7953\"],[0.7777777777777778,\"#fb9f3a\"],[0.8888888888888888,\"#fdca26\"],[1.0,\"#f0f921\"]],\"type\":\"histogram2dcontour\"}],\"mesh3d\":[{\"colorbar\":{\"outlinewidth\":0,\"ticks\":\"\"},\"type\":\"mesh3d\"}],\"parcoords\":[{\"line\":{\"colorbar\":{\"outlinewidth\":0,\"ticks\":\"\"}},\"type\":\"parcoords\"}],\"pie\":[{\"automargin\":true,\"type\":\"pie\"}],\"scatter\":[{\"marker\":{\"colorbar\":{\"outlinewidth\":0,\"ticks\":\"\"}},\"type\":\"scatter\"}],\"scatter3d\":[{\"line\":{\"colorbar\":{\"outlinewidth\":0,\"ticks\":\"\"}},\"marker\":{\"colorbar\":{\"outlinewidth\":0,\"ticks\":\"\"}},\"type\":\"scatter3d\"}],\"scattercarpet\":[{\"marker\":{\"colorbar\":{\"outlinewidth\":0,\"ticks\":\"\"}},\"type\":\"scattercarpet\"}],\"scattergeo\":[{\"marker\":{\"colorbar\":{\"outlinewidth\":0,\"ticks\":\"\"}},\"type\":\"scattergeo\"}],\"scattergl\":[{\"marker\":{\"colorbar\":{\"outlinewidth\":0,\"ticks\":\"\"}},\"type\":\"scattergl\"}],\"scattermapbox\":[{\"marker\":{\"colorbar\":{\"outlinewidth\":0,\"ticks\":\"\"}},\"type\":\"scattermapbox\"}],\"scatterpolar\":[{\"marker\":{\"colorbar\":{\"outlinewidth\":0,\"ticks\":\"\"}},\"type\":\"scatterpolar\"}],\"scatterpolargl\":[{\"marker\":{\"colorbar\":{\"outlinewidth\":0,\"ticks\":\"\"}},\"type\":\"scatterpolargl\"}],\"scatterternary\":[{\"marker\":{\"colorbar\":{\"outlinewidth\":0,\"ticks\":\"\"}},\"type\":\"scatterternary\"}],\"surface\":[{\"colorbar\":{\"outlinewidth\":0,\"ticks\":\"\"},\"colorscale\":[[0.0,\"#0d0887\"],[0.1111111111111111,\"#46039f\"],[0.2222222222222222,\"#7201a8\"],[0.3333333333333333,\"#9c179e\"],[0.4444444444444444,\"#bd3786\"],[0.5555555555555556,\"#d8576b\"],[0.6666666666666666,\"#ed7953\"],[0.7777777777777778,\"#fb9f3a\"],[0.8888888888888888,\"#fdca26\"],[1.0,\"#f0f921\"]],\"type\":\"surface\"}],\"table\":[{\"cells\":{\"fill\":{\"color\":\"#EBF0F8\"},\"line\":{\"color\":\"white\"}},\"header\":{\"fill\":{\"color\":\"#C8D4E3\"},\"line\":{\"color\":\"white\"}},\"type\":\"table\"}]},\"layout\":{\"annotationdefaults\":{\"arrowcolor\":\"#2a3f5f\",\"arrowhead\":0,\"arrowwidth\":1},\"autotypenumbers\":\"strict\",\"coloraxis\":{\"colorbar\":{\"outlinewidth\":0,\"ticks\":\"\"}},\"colorscale\":{\"diverging\":[[0,\"#8e0152\"],[0.1,\"#c51b7d\"],[0.2,\"#de77ae\"],[0.3,\"#f1b6da\"],[0.4,\"#fde0ef\"],[0.5,\"#f7f7f7\"],[0.6,\"#e6f5d0\"],[0.7,\"#b8e186\"],[0.8,\"#7fbc41\"],[0.9,\"#4d9221\"],[1,\"#276419\"]],\"sequential\":[[0.0,\"#0d0887\"],[0.1111111111111111,\"#46039f\"],[0.2222222222222222,\"#7201a8\"],[0.3333333333333333,\"#9c179e\"],[0.4444444444444444,\"#bd3786\"],[0.5555555555555556,\"#d8576b\"],[0.6666666666666666,\"#ed7953\"],[0.7777777777777778,\"#fb9f3a\"],[0.8888888888888888,\"#fdca26\"],[1.0,\"#f0f921\"]],\"sequentialminus\":[[0.0,\"#0d0887\"],[0.1111111111111111,\"#46039f\"],[0.2222222222222222,\"#7201a8\"],[0.3333333333333333,\"#9c179e\"],[0.4444444444444444,\"#bd3786\"],[0.5555555555555556,\"#d8576b\"],[0.6666666666666666,\"#ed7953\"],[0.7777777777777778,\"#fb9f3a\"],[0.8888888888888888,\"#fdca26\"],[1.0,\"#f0f921\"]]},\"colorway\":[\"#636efa\",\"#EF553B\",\"#00cc96\",\"#ab63fa\",\"#FFA15A\",\"#19d3f3\",\"#FF6692\",\"#B6E880\",\"#FF97FF\",\"#FECB52\"],\"font\":{\"color\":\"#2a3f5f\"},\"geo\":{\"bgcolor\":\"white\",\"lakecolor\":\"white\",\"landcolor\":\"#E5ECF6\",\"showlakes\":true,\"showland\":true,\"subunitcolor\":\"white\"},\"hoverlabel\":{\"align\":\"left\"},\"hovermode\":\"closest\",\"mapbox\":{\"style\":\"light\"},\"paper_bgcolor\":\"white\",\"plot_bgcolor\":\"#E5ECF6\",\"polar\":{\"angularaxis\":{\"gridcolor\":\"white\",\"linecolor\":\"white\",\"ticks\":\"\"},\"bgcolor\":\"#E5ECF6\",\"radialaxis\":{\"gridcolor\":\"white\",\"linecolor\":\"white\",\"ticks\":\"\"}},\"scene\":{\"xaxis\":{\"backgroundcolor\":\"#E5ECF6\",\"gridcolor\":\"white\",\"gridwidth\":2,\"linecolor\":\"white\",\"showbackground\":true,\"ticks\":\"\",\"zerolinecolor\":\"white\"},\"yaxis\":{\"backgroundcolor\":\"#E5ECF6\",\"gridcolor\":\"white\",\"gridwidth\":2,\"linecolor\":\"white\",\"showbackground\":true,\"ticks\":\"\",\"zerolinecolor\":\"white\"},\"zaxis\":{\"backgroundcolor\":\"#E5ECF6\",\"gridcolor\":\"white\",\"gridwidth\":2,\"linecolor\":\"white\",\"showbackground\":true,\"ticks\":\"\",\"zerolinecolor\":\"white\"}},\"shapedefaults\":{\"line\":{\"color\":\"#2a3f5f\"}},\"ternary\":{\"aaxis\":{\"gridcolor\":\"white\",\"linecolor\":\"white\",\"ticks\":\"\"},\"baxis\":{\"gridcolor\":\"white\",\"linecolor\":\"white\",\"ticks\":\"\"},\"bgcolor\":\"#E5ECF6\",\"caxis\":{\"gridcolor\":\"white\",\"linecolor\":\"white\",\"ticks\":\"\"}},\"title\":{\"x\":0.05},\"xaxis\":{\"automargin\":true,\"gridcolor\":\"white\",\"linecolor\":\"white\",\"ticks\":\"\",\"title\":{\"standoff\":15},\"zerolinecolor\":\"white\",\"zerolinewidth\":2},\"yaxis\":{\"automargin\":true,\"gridcolor\":\"white\",\"linecolor\":\"white\",\"ticks\":\"\",\"title\":{\"standoff\":15},\"zerolinecolor\":\"white\",\"zerolinewidth\":2}}},\"xaxis\":{\"anchor\":\"y\",\"domain\":[0.0,1.0],\"title\":{\"text\":\"Date\"}},\"yaxis\":{\"anchor\":\"x\",\"domain\":[0.0,1.0],\"title\":{\"text\":\"Total_Sales\"}},\"legend\":{\"tracegroupgap\":0},\"margin\":{\"t\":60}},                        {\"responsive\": true}                    )                };                            </script>        </div>\n",
       "</body>\n",
       "</html>"
      ]
     },
     "metadata": {
      "application/vnd.databricks.v1+output": {
       "addedWidgets": {},
       "arguments": {},
       "data": "<html>\n<head><meta charset=\"utf-8\" /></head>\n<body>\n    <div>            <script src=\"https://cdnjs.cloudflare.com/ajax/libs/mathjax/2.7.5/MathJax.js?config=TeX-AMS-MML_SVG\"></script><script type=\"text/javascript\">if (window.MathJax) {MathJax.Hub.Config({SVG: {font: \"STIX-Web\"}});}</script>                <script type=\"text/javascript\">window.PlotlyConfig = {MathJaxConfig: 'local'};</script>\n        <script src=\"https://cdn.plot.ly/plotly-2.9.0.min.js\"></script>                <div id=\"defd2e9c-06dc-42f7-8494-c5b841480fd9\" class=\"plotly-graph-div\" style=\"height:100%; width:100%;\"></div>            <script type=\"text/javascript\">                                    window.PLOTLYENV=window.PLOTLYENV || {};                                    if (document.getElementById(\"defd2e9c-06dc-42f7-8494-c5b841480fd9\")) {                    Plotly.newPlot(                        \"defd2e9c-06dc-42f7-8494-c5b841480fd9\",                        [{\"hovertemplate\":\"Date=%{x}<br>Total_Sales=%{y}<extra></extra>\",\"legendgroup\":\"\",\"marker\":{\"color\":\"#636efa\",\"symbol\":\"circle\"},\"mode\":\"markers\",\"name\":\"\",\"orientation\":\"v\",\"showlegend\":false,\"x\":[\"2011-01-31T00:00:00\",\"2011-02-28T00:00:00\",\"2011-03-31T00:00:00\",\"2011-04-30T00:00:00\",\"2011-05-31T00:00:00\",\"2011-06-30T00:00:00\",\"2011-07-31T00:00:00\",\"2011-08-31T00:00:00\",\"2011-09-30T00:00:00\",\"2011-10-31T00:00:00\",\"2011-11-30T00:00:00\",\"2011-12-31T00:00:00\",\"2012-01-31T00:00:00\",\"2012-02-29T00:00:00\",\"2012-03-31T00:00:00\",\"2012-04-30T00:00:00\",\"2012-05-31T00:00:00\",\"2012-06-30T00:00:00\",\"2012-07-31T00:00:00\",\"2012-08-31T00:00:00\",\"2012-09-30T00:00:00\",\"2012-10-31T00:00:00\",\"2012-11-30T00:00:00\",\"2012-12-31T00:00:00\",\"2013-01-31T00:00:00\",\"2013-02-28T00:00:00\",\"2013-03-31T00:00:00\",\"2013-04-30T00:00:00\",\"2013-05-31T00:00:00\",\"2013-06-30T00:00:00\",\"2013-07-31T00:00:00\",\"2013-08-31T00:00:00\",\"2013-09-30T00:00:00\",\"2013-10-31T00:00:00\",\"2013-11-30T00:00:00\",\"2013-12-31T00:00:00\",\"2014-01-31T00:00:00\",\"2014-02-28T00:00:00\",\"2014-03-31T00:00:00\",\"2014-04-30T00:00:00\",\"2014-05-31T00:00:00\",\"2014-06-30T00:00:00\",\"2014-07-31T00:00:00\",\"2014-08-31T00:00:00\",\"2014-09-30T00:00:00\",\"2014-10-31T00:00:00\",\"2014-11-30T00:00:00\",\"2014-12-31T00:00:00\"],\"xaxis\":\"x\",\"y\":[1977.0,1361.0,1835.0,2380.0,2280.0,3884.0,1696.0,6024.0,3659.0,3265.0,7034.0,5279.0,2358.0,1586.0,3941.0,1257.0,5238.0,3466.0,3092.0,4608.0,4735.0,4538.0,6984.0,6475.0,3479.0,3085.0,3475.0,3494.0,7508.0,8451.0,4857.0,7008.0,6300.0,4616.0,7443.0,7233.0,3387.0,2005.0,4524.0,4124.0,5999.0,6690.0,3695.0,7868.0,8674.0,8322.0,8799.0,10802.0],\"yaxis\":\"y\",\"type\":\"scatter\"},{\"hovertemplate\":\"<b>OLS trendline</b><br>Total_Sales = 4.07469e-05 * Date + -50531.6<br>R<sup>2</sup>=0.410063<br><br>Date=%{x}<br>Total_Sales=%{y} <b>(trend)</b><extra></extra>\",\"legendgroup\":\"\",\"marker\":{\"color\":\"#636efa\",\"symbol\":\"circle\"},\"mode\":\"lines\",\"name\":\"\",\"showlegend\":false,\"x\":[\"2011-01-31T00:00:00\",\"2011-02-28T00:00:00\",\"2011-03-31T00:00:00\",\"2011-04-30T00:00:00\",\"2011-05-31T00:00:00\",\"2011-06-30T00:00:00\",\"2011-07-31T00:00:00\",\"2011-08-31T00:00:00\",\"2011-09-30T00:00:00\",\"2011-10-31T00:00:00\",\"2011-11-30T00:00:00\",\"2011-12-31T00:00:00\",\"2012-01-31T00:00:00\",\"2012-02-29T00:00:00\",\"2012-03-31T00:00:00\",\"2012-04-30T00:00:00\",\"2012-05-31T00:00:00\",\"2012-06-30T00:00:00\",\"2012-07-31T00:00:00\",\"2012-08-31T00:00:00\",\"2012-09-30T00:00:00\",\"2012-10-31T00:00:00\",\"2012-11-30T00:00:00\",\"2012-12-31T00:00:00\",\"2013-01-31T00:00:00\",\"2013-02-28T00:00:00\",\"2013-03-31T00:00:00\",\"2013-04-30T00:00:00\",\"2013-05-31T00:00:00\",\"2013-06-30T00:00:00\",\"2013-07-31T00:00:00\",\"2013-08-31T00:00:00\",\"2013-09-30T00:00:00\",\"2013-10-31T00:00:00\",\"2013-11-30T00:00:00\",\"2013-12-31T00:00:00\",\"2014-01-31T00:00:00\",\"2014-02-28T00:00:00\",\"2014-03-31T00:00:00\",\"2014-04-30T00:00:00\",\"2014-05-31T00:00:00\",\"2014-06-30T00:00:00\",\"2014-07-31T00:00:00\",\"2014-08-31T00:00:00\",\"2014-09-30T00:00:00\",\"2014-10-31T00:00:00\",\"2014-11-30T00:00:00\",\"2014-12-31T00:00:00\"],\"xaxis\":\"x\",\"y\":[2293.953930617732,2392.528740771173,2501.6651377267626,2607.2810057483075,2716.4174027039044,2822.033270725442,2931.169667681039,3040.3060646366357,3145.9219326581806,3255.05832961377,3360.674197635315,3469.810594590912,3578.9469915465015,3681.0423306339944,3790.1787275895913,3895.794595611136,4004.9309925667258,4110.546860588271,4219.6832575438675,4328.819654499464,4434.435522521002,4543.571919476599,4649.187787498144,4758.324184453733,4867.46058140933,4966.035391562771,5075.171788518368,5180.787656539906,5289.924053495502,5395.539921517047,5504.676318472644,5613.812715428234,5719.428583449779,5828.5649804053755,5934.18084842692,6043.31724538251,6152.453642338107,6251.028452491548,6360.164849447145,6465.780717468682,6574.917114424279,6680.532982445824,6789.669379401414,6898.8057763570105,7004.421644378555,7113.558041334152,7219.17390935569,7328.310306311287],\"yaxis\":\"y\",\"type\":\"scatter\"}],                        {\"template\":{\"data\":{\"bar\":[{\"error_x\":{\"color\":\"#2a3f5f\"},\"error_y\":{\"color\":\"#2a3f5f\"},\"marker\":{\"line\":{\"color\":\"#E5ECF6\",\"width\":0.5},\"pattern\":{\"fillmode\":\"overlay\",\"size\":10,\"solidity\":0.2}},\"type\":\"bar\"}],\"barpolar\":[{\"marker\":{\"line\":{\"color\":\"#E5ECF6\",\"width\":0.5},\"pattern\":{\"fillmode\":\"overlay\",\"size\":10,\"solidity\":0.2}},\"type\":\"barpolar\"}],\"carpet\":[{\"aaxis\":{\"endlinecolor\":\"#2a3f5f\",\"gridcolor\":\"white\",\"linecolor\":\"white\",\"minorgridcolor\":\"white\",\"startlinecolor\":\"#2a3f5f\"},\"baxis\":{\"endlinecolor\":\"#2a3f5f\",\"gridcolor\":\"white\",\"linecolor\":\"white\",\"minorgridcolor\":\"white\",\"startlinecolor\":\"#2a3f5f\"},\"type\":\"carpet\"}],\"choropleth\":[{\"colorbar\":{\"outlinewidth\":0,\"ticks\":\"\"},\"type\":\"choropleth\"}],\"contour\":[{\"colorbar\":{\"outlinewidth\":0,\"ticks\":\"\"},\"colorscale\":[[0.0,\"#0d0887\"],[0.1111111111111111,\"#46039f\"],[0.2222222222222222,\"#7201a8\"],[0.3333333333333333,\"#9c179e\"],[0.4444444444444444,\"#bd3786\"],[0.5555555555555556,\"#d8576b\"],[0.6666666666666666,\"#ed7953\"],[0.7777777777777778,\"#fb9f3a\"],[0.8888888888888888,\"#fdca26\"],[1.0,\"#f0f921\"]],\"type\":\"contour\"}],\"contourcarpet\":[{\"colorbar\":{\"outlinewidth\":0,\"ticks\":\"\"},\"type\":\"contourcarpet\"}],\"heatmap\":[{\"colorbar\":{\"outlinewidth\":0,\"ticks\":\"\"},\"colorscale\":[[0.0,\"#0d0887\"],[0.1111111111111111,\"#46039f\"],[0.2222222222222222,\"#7201a8\"],[0.3333333333333333,\"#9c179e\"],[0.4444444444444444,\"#bd3786\"],[0.5555555555555556,\"#d8576b\"],[0.6666666666666666,\"#ed7953\"],[0.7777777777777778,\"#fb9f3a\"],[0.8888888888888888,\"#fdca26\"],[1.0,\"#f0f921\"]],\"type\":\"heatmap\"}],\"heatmapgl\":[{\"colorbar\":{\"outlinewidth\":0,\"ticks\":\"\"},\"colorscale\":[[0.0,\"#0d0887\"],[0.1111111111111111,\"#46039f\"],[0.2222222222222222,\"#7201a8\"],[0.3333333333333333,\"#9c179e\"],[0.4444444444444444,\"#bd3786\"],[0.5555555555555556,\"#d8576b\"],[0.6666666666666666,\"#ed7953\"],[0.7777777777777778,\"#fb9f3a\"],[0.8888888888888888,\"#fdca26\"],[1.0,\"#f0f921\"]],\"type\":\"heatmapgl\"}],\"histogram\":[{\"marker\":{\"pattern\":{\"fillmode\":\"overlay\",\"size\":10,\"solidity\":0.2}},\"type\":\"histogram\"}],\"histogram2d\":[{\"colorbar\":{\"outlinewidth\":0,\"ticks\":\"\"},\"colorscale\":[[0.0,\"#0d0887\"],[0.1111111111111111,\"#46039f\"],[0.2222222222222222,\"#7201a8\"],[0.3333333333333333,\"#9c179e\"],[0.4444444444444444,\"#bd3786\"],[0.5555555555555556,\"#d8576b\"],[0.6666666666666666,\"#ed7953\"],[0.7777777777777778,\"#fb9f3a\"],[0.8888888888888888,\"#fdca26\"],[1.0,\"#f0f921\"]],\"type\":\"histogram2d\"}],\"histogram2dcontour\":[{\"colorbar\":{\"outlinewidth\":0,\"ticks\":\"\"},\"colorscale\":[[0.0,\"#0d0887\"],[0.1111111111111111,\"#46039f\"],[0.2222222222222222,\"#7201a8\"],[0.3333333333333333,\"#9c179e\"],[0.4444444444444444,\"#bd3786\"],[0.5555555555555556,\"#d8576b\"],[0.6666666666666666,\"#ed7953\"],[0.7777777777777778,\"#fb9f3a\"],[0.8888888888888888,\"#fdca26\"],[1.0,\"#f0f921\"]],\"type\":\"histogram2dcontour\"}],\"mesh3d\":[{\"colorbar\":{\"outlinewidth\":0,\"ticks\":\"\"},\"type\":\"mesh3d\"}],\"parcoords\":[{\"line\":{\"colorbar\":{\"outlinewidth\":0,\"ticks\":\"\"}},\"type\":\"parcoords\"}],\"pie\":[{\"automargin\":true,\"type\":\"pie\"}],\"scatter\":[{\"marker\":{\"colorbar\":{\"outlinewidth\":0,\"ticks\":\"\"}},\"type\":\"scatter\"}],\"scatter3d\":[{\"line\":{\"colorbar\":{\"outlinewidth\":0,\"ticks\":\"\"}},\"marker\":{\"colorbar\":{\"outlinewidth\":0,\"ticks\":\"\"}},\"type\":\"scatter3d\"}],\"scattercarpet\":[{\"marker\":{\"colorbar\":{\"outlinewidth\":0,\"ticks\":\"\"}},\"type\":\"scattercarpet\"}],\"scattergeo\":[{\"marker\":{\"colorbar\":{\"outlinewidth\":0,\"ticks\":\"\"}},\"type\":\"scattergeo\"}],\"scattergl\":[{\"marker\":{\"colorbar\":{\"outlinewidth\":0,\"ticks\":\"\"}},\"type\":\"scattergl\"}],\"scattermapbox\":[{\"marker\":{\"colorbar\":{\"outlinewidth\":0,\"ticks\":\"\"}},\"type\":\"scattermapbox\"}],\"scatterpolar\":[{\"marker\":{\"colorbar\":{\"outlinewidth\":0,\"ticks\":\"\"}},\"type\":\"scatterpolar\"}],\"scatterpolargl\":[{\"marker\":{\"colorbar\":{\"outlinewidth\":0,\"ticks\":\"\"}},\"type\":\"scatterpolargl\"}],\"scatterternary\":[{\"marker\":{\"colorbar\":{\"outlinewidth\":0,\"ticks\":\"\"}},\"type\":\"scatterternary\"}],\"surface\":[{\"colorbar\":{\"outlinewidth\":0,\"ticks\":\"\"},\"colorscale\":[[0.0,\"#0d0887\"],[0.1111111111111111,\"#46039f\"],[0.2222222222222222,\"#7201a8\"],[0.3333333333333333,\"#9c179e\"],[0.4444444444444444,\"#bd3786\"],[0.5555555555555556,\"#d8576b\"],[0.6666666666666666,\"#ed7953\"],[0.7777777777777778,\"#fb9f3a\"],[0.8888888888888888,\"#fdca26\"],[1.0,\"#f0f921\"]],\"type\":\"surface\"}],\"table\":[{\"cells\":{\"fill\":{\"color\":\"#EBF0F8\"},\"line\":{\"color\":\"white\"}},\"header\":{\"fill\":{\"color\":\"#C8D4E3\"},\"line\":{\"color\":\"white\"}},\"type\":\"table\"}]},\"layout\":{\"annotationdefaults\":{\"arrowcolor\":\"#2a3f5f\",\"arrowhead\":0,\"arrowwidth\":1},\"autotypenumbers\":\"strict\",\"coloraxis\":{\"colorbar\":{\"outlinewidth\":0,\"ticks\":\"\"}},\"colorscale\":{\"diverging\":[[0,\"#8e0152\"],[0.1,\"#c51b7d\"],[0.2,\"#de77ae\"],[0.3,\"#f1b6da\"],[0.4,\"#fde0ef\"],[0.5,\"#f7f7f7\"],[0.6,\"#e6f5d0\"],[0.7,\"#b8e186\"],[0.8,\"#7fbc41\"],[0.9,\"#4d9221\"],[1,\"#276419\"]],\"sequential\":[[0.0,\"#0d0887\"],[0.1111111111111111,\"#46039f\"],[0.2222222222222222,\"#7201a8\"],[0.3333333333333333,\"#9c179e\"],[0.4444444444444444,\"#bd3786\"],[0.5555555555555556,\"#d8576b\"],[0.6666666666666666,\"#ed7953\"],[0.7777777777777778,\"#fb9f3a\"],[0.8888888888888888,\"#fdca26\"],[1.0,\"#f0f921\"]],\"sequentialminus\":[[0.0,\"#0d0887\"],[0.1111111111111111,\"#46039f\"],[0.2222222222222222,\"#7201a8\"],[0.3333333333333333,\"#9c179e\"],[0.4444444444444444,\"#bd3786\"],[0.5555555555555556,\"#d8576b\"],[0.6666666666666666,\"#ed7953\"],[0.7777777777777778,\"#fb9f3a\"],[0.8888888888888888,\"#fdca26\"],[1.0,\"#f0f921\"]]},\"colorway\":[\"#636efa\",\"#EF553B\",\"#00cc96\",\"#ab63fa\",\"#FFA15A\",\"#19d3f3\",\"#FF6692\",\"#B6E880\",\"#FF97FF\",\"#FECB52\"],\"font\":{\"color\":\"#2a3f5f\"},\"geo\":{\"bgcolor\":\"white\",\"lakecolor\":\"white\",\"landcolor\":\"#E5ECF6\",\"showlakes\":true,\"showland\":true,\"subunitcolor\":\"white\"},\"hoverlabel\":{\"align\":\"left\"},\"hovermode\":\"closest\",\"mapbox\":{\"style\":\"light\"},\"paper_bgcolor\":\"white\",\"plot_bgcolor\":\"#E5ECF6\",\"polar\":{\"angularaxis\":{\"gridcolor\":\"white\",\"linecolor\":\"white\",\"ticks\":\"\"},\"bgcolor\":\"#E5ECF6\",\"radialaxis\":{\"gridcolor\":\"white\",\"linecolor\":\"white\",\"ticks\":\"\"}},\"scene\":{\"xaxis\":{\"backgroundcolor\":\"#E5ECF6\",\"gridcolor\":\"white\",\"gridwidth\":2,\"linecolor\":\"white\",\"showbackground\":true,\"ticks\":\"\",\"zerolinecolor\":\"white\"},\"yaxis\":{\"backgroundcolor\":\"#E5ECF6\",\"gridcolor\":\"white\",\"gridwidth\":2,\"linecolor\":\"white\",\"showbackground\":true,\"ticks\":\"\",\"zerolinecolor\":\"white\"},\"zaxis\":{\"backgroundcolor\":\"#E5ECF6\",\"gridcolor\":\"white\",\"gridwidth\":2,\"linecolor\":\"white\",\"showbackground\":true,\"ticks\":\"\",\"zerolinecolor\":\"white\"}},\"shapedefaults\":{\"line\":{\"color\":\"#2a3f5f\"}},\"ternary\":{\"aaxis\":{\"gridcolor\":\"white\",\"linecolor\":\"white\",\"ticks\":\"\"},\"baxis\":{\"gridcolor\":\"white\",\"linecolor\":\"white\",\"ticks\":\"\"},\"bgcolor\":\"#E5ECF6\",\"caxis\":{\"gridcolor\":\"white\",\"linecolor\":\"white\",\"ticks\":\"\"}},\"title\":{\"x\":0.05},\"xaxis\":{\"automargin\":true,\"gridcolor\":\"white\",\"linecolor\":\"white\",\"ticks\":\"\",\"title\":{\"standoff\":15},\"zerolinecolor\":\"white\",\"zerolinewidth\":2},\"yaxis\":{\"automargin\":true,\"gridcolor\":\"white\",\"linecolor\":\"white\",\"ticks\":\"\",\"title\":{\"standoff\":15},\"zerolinecolor\":\"white\",\"zerolinewidth\":2}}},\"xaxis\":{\"anchor\":\"y\",\"domain\":[0.0,1.0],\"title\":{\"text\":\"Date\"}},\"yaxis\":{\"anchor\":\"x\",\"domain\":[0.0,1.0],\"title\":{\"text\":\"Total_Sales\"}},\"legend\":{\"tracegroupgap\":0},\"margin\":{\"t\":60}},                        {\"responsive\": true}                    )                };                            </script>        </div>\n</body>\n</html>",
       "datasetInfos": [],
       "metadata": {},
       "removedWidgets": [],
       "textData": null,
       "type": "htmlSandbox"
      }
     },
     "output_type": "display_data"
    }
   ],
   "source": [
    "fig = px.scatter(df_res, x = df_res.index, y=\"Total_Sales\", trendline=\"ols\")\n",
    "fig.show()"
   ]
  },
  {
   "cell_type": "markdown",
   "metadata": {
    "application/vnd.databricks.v1+cell": {
     "cellMetadata": {},
     "inputWidgets": {},
     "nuid": "a90875a8-9783-4f50-9249-2ea5e6b0b674",
     "showTitle": false,
     "title": ""
    }
   },
   "source": [
    "### Plot the trend sales results by month using a moving average with a size window equals 3"
   ]
  },
  {
   "cell_type": "code",
   "execution_count": 0,
   "metadata": {
    "application/vnd.databricks.v1+cell": {
     "cellMetadata": {
      "byteLimit": 2048000,
      "rowLimit": 10000
     },
     "inputWidgets": {},
     "nuid": "7dd108e4-71ee-4284-ab7c-66001bee2ff5",
     "showTitle": false,
     "title": ""
    }
   },
   "outputs": [
    {
     "output_type": "display_data",
     "data": {
      "text/html": [
       "<html>\n",
       "<head><meta charset=\"utf-8\" /></head>\n",
       "<body>\n",
       "    <div>            <script src=\"https://cdnjs.cloudflare.com/ajax/libs/mathjax/2.7.5/MathJax.js?config=TeX-AMS-MML_SVG\"></script><script type=\"text/javascript\">if (window.MathJax) {MathJax.Hub.Config({SVG: {font: \"STIX-Web\"}});}</script>                <script type=\"text/javascript\">window.PlotlyConfig = {MathJaxConfig: 'local'};</script>\n",
       "        <script src=\"https://cdn.plot.ly/plotly-2.9.0.min.js\"></script>                <div id=\"bab233e9-099f-4965-9cb8-dc5648335f50\" class=\"plotly-graph-div\" style=\"height:100%; width:100%;\"></div>            <script type=\"text/javascript\">                                    window.PLOTLYENV=window.PLOTLYENV || {};                                    if (document.getElementById(\"bab233e9-099f-4965-9cb8-dc5648335f50\")) {                    Plotly.newPlot(                        \"bab233e9-099f-4965-9cb8-dc5648335f50\",                        [{\"hovertemplate\":\"Date=%{x}<br>Total_Sales=%{y}<extra></extra>\",\"legendgroup\":\"\",\"marker\":{\"color\":\"#636efa\",\"symbol\":\"circle\"},\"mode\":\"markers\",\"name\":\"\",\"orientation\":\"v\",\"showlegend\":false,\"x\":[\"2011-01-31T00:00:00\",\"2011-02-28T00:00:00\",\"2011-03-31T00:00:00\",\"2011-04-30T00:00:00\",\"2011-05-31T00:00:00\",\"2011-06-30T00:00:00\",\"2011-07-31T00:00:00\",\"2011-08-31T00:00:00\",\"2011-09-30T00:00:00\",\"2011-10-31T00:00:00\",\"2011-11-30T00:00:00\",\"2011-12-31T00:00:00\",\"2012-01-31T00:00:00\",\"2012-02-29T00:00:00\",\"2012-03-31T00:00:00\",\"2012-04-30T00:00:00\",\"2012-05-31T00:00:00\",\"2012-06-30T00:00:00\",\"2012-07-31T00:00:00\",\"2012-08-31T00:00:00\",\"2012-09-30T00:00:00\",\"2012-10-31T00:00:00\",\"2012-11-30T00:00:00\",\"2012-12-31T00:00:00\",\"2013-01-31T00:00:00\",\"2013-02-28T00:00:00\",\"2013-03-31T00:00:00\",\"2013-04-30T00:00:00\",\"2013-05-31T00:00:00\",\"2013-06-30T00:00:00\",\"2013-07-31T00:00:00\",\"2013-08-31T00:00:00\",\"2013-09-30T00:00:00\",\"2013-10-31T00:00:00\",\"2013-11-30T00:00:00\",\"2013-12-31T00:00:00\",\"2014-01-31T00:00:00\",\"2014-02-28T00:00:00\",\"2014-03-31T00:00:00\",\"2014-04-30T00:00:00\",\"2014-05-31T00:00:00\",\"2014-06-30T00:00:00\",\"2014-07-31T00:00:00\",\"2014-08-31T00:00:00\",\"2014-09-30T00:00:00\",\"2014-10-31T00:00:00\",\"2014-11-30T00:00:00\",\"2014-12-31T00:00:00\"],\"xaxis\":\"x\",\"y\":[1977.0,1361.0,1835.0,2380.0,2280.0,3884.0,1696.0,6024.0,3659.0,3265.0,7034.0,5279.0,2358.0,1586.0,3941.0,1257.0,5238.0,3466.0,3092.0,4608.0,4735.0,4538.0,6984.0,6475.0,3479.0,3085.0,3475.0,3494.0,7508.0,8451.0,4857.0,7008.0,6300.0,4616.0,7443.0,7233.0,3387.0,2005.0,4524.0,4124.0,5999.0,6690.0,3695.0,7868.0,8674.0,8322.0,8799.0,10802.0],\"yaxis\":\"y\",\"type\":\"scatter\"},{\"hovertemplate\":\"<b>Rolling mean trendline</b><br><br>Date=%{x}<br>Total_Sales=%{y} <b>(trend)</b><extra></extra>\",\"legendgroup\":\"\",\"marker\":{\"color\":\"#636efa\",\"symbol\":\"circle\"},\"mode\":\"lines\",\"name\":\"\",\"showlegend\":false,\"x\":[\"2011-01-31T00:00:00\",\"2011-02-28T00:00:00\",\"2011-03-31T00:00:00\",\"2011-04-30T00:00:00\",\"2011-05-31T00:00:00\",\"2011-06-30T00:00:00\",\"2011-07-31T00:00:00\",\"2011-08-31T00:00:00\",\"2011-09-30T00:00:00\",\"2011-10-31T00:00:00\",\"2011-11-30T00:00:00\",\"2011-12-31T00:00:00\",\"2012-01-31T00:00:00\",\"2012-02-29T00:00:00\",\"2012-03-31T00:00:00\",\"2012-04-30T00:00:00\",\"2012-05-31T00:00:00\",\"2012-06-30T00:00:00\",\"2012-07-31T00:00:00\",\"2012-08-31T00:00:00\",\"2012-09-30T00:00:00\",\"2012-10-31T00:00:00\",\"2012-11-30T00:00:00\",\"2012-12-31T00:00:00\",\"2013-01-31T00:00:00\",\"2013-02-28T00:00:00\",\"2013-03-31T00:00:00\",\"2013-04-30T00:00:00\",\"2013-05-31T00:00:00\",\"2013-06-30T00:00:00\",\"2013-07-31T00:00:00\",\"2013-08-31T00:00:00\",\"2013-09-30T00:00:00\",\"2013-10-31T00:00:00\",\"2013-11-30T00:00:00\",\"2013-12-31T00:00:00\",\"2014-01-31T00:00:00\",\"2014-02-28T00:00:00\",\"2014-03-31T00:00:00\",\"2014-04-30T00:00:00\",\"2014-05-31T00:00:00\",\"2014-06-30T00:00:00\",\"2014-07-31T00:00:00\",\"2014-08-31T00:00:00\",\"2014-09-30T00:00:00\",\"2014-10-31T00:00:00\",\"2014-11-30T00:00:00\",\"2014-12-31T00:00:00\"],\"xaxis\":\"x\",\"y\":[null,null,1724.3333333333333,1858.6666666666667,2165.0,2848.0,2620.0,3868.0,3793.0,4316.0,4652.666666666667,5192.666666666667,4890.333333333333,3074.3333333333335,2628.3333333333335,2261.3333333333335,3478.6666666666665,3320.3333333333335,3932.0,3722.0,4145.0,4627.0,5419.0,5999.0,5646.0,4346.333333333333,3346.3333333333335,3351.3333333333335,4825.666666666667,6484.333333333333,6938.666666666667,6772.0,6055.0,5974.666666666667,6119.666666666667,6430.666666666667,6021.0,4208.333333333333,3305.3333333333335,3551.0,4882.333333333333,5604.333333333333,5461.333333333333,6084.333333333333,6745.666666666667,8288.0,8598.333333333334,9307.666666666666],\"yaxis\":\"y\",\"type\":\"scatter\"}],                        {\"template\":{\"data\":{\"bar\":[{\"error_x\":{\"color\":\"#2a3f5f\"},\"error_y\":{\"color\":\"#2a3f5f\"},\"marker\":{\"line\":{\"color\":\"#E5ECF6\",\"width\":0.5},\"pattern\":{\"fillmode\":\"overlay\",\"size\":10,\"solidity\":0.2}},\"type\":\"bar\"}],\"barpolar\":[{\"marker\":{\"line\":{\"color\":\"#E5ECF6\",\"width\":0.5},\"pattern\":{\"fillmode\":\"overlay\",\"size\":10,\"solidity\":0.2}},\"type\":\"barpolar\"}],\"carpet\":[{\"aaxis\":{\"endlinecolor\":\"#2a3f5f\",\"gridcolor\":\"white\",\"linecolor\":\"white\",\"minorgridcolor\":\"white\",\"startlinecolor\":\"#2a3f5f\"},\"baxis\":{\"endlinecolor\":\"#2a3f5f\",\"gridcolor\":\"white\",\"linecolor\":\"white\",\"minorgridcolor\":\"white\",\"startlinecolor\":\"#2a3f5f\"},\"type\":\"carpet\"}],\"choropleth\":[{\"colorbar\":{\"outlinewidth\":0,\"ticks\":\"\"},\"type\":\"choropleth\"}],\"contour\":[{\"colorbar\":{\"outlinewidth\":0,\"ticks\":\"\"},\"colorscale\":[[0.0,\"#0d0887\"],[0.1111111111111111,\"#46039f\"],[0.2222222222222222,\"#7201a8\"],[0.3333333333333333,\"#9c179e\"],[0.4444444444444444,\"#bd3786\"],[0.5555555555555556,\"#d8576b\"],[0.6666666666666666,\"#ed7953\"],[0.7777777777777778,\"#fb9f3a\"],[0.8888888888888888,\"#fdca26\"],[1.0,\"#f0f921\"]],\"type\":\"contour\"}],\"contourcarpet\":[{\"colorbar\":{\"outlinewidth\":0,\"ticks\":\"\"},\"type\":\"contourcarpet\"}],\"heatmap\":[{\"colorbar\":{\"outlinewidth\":0,\"ticks\":\"\"},\"colorscale\":[[0.0,\"#0d0887\"],[0.1111111111111111,\"#46039f\"],[0.2222222222222222,\"#7201a8\"],[0.3333333333333333,\"#9c179e\"],[0.4444444444444444,\"#bd3786\"],[0.5555555555555556,\"#d8576b\"],[0.6666666666666666,\"#ed7953\"],[0.7777777777777778,\"#fb9f3a\"],[0.8888888888888888,\"#fdca26\"],[1.0,\"#f0f921\"]],\"type\":\"heatmap\"}],\"heatmapgl\":[{\"colorbar\":{\"outlinewidth\":0,\"ticks\":\"\"},\"colorscale\":[[0.0,\"#0d0887\"],[0.1111111111111111,\"#46039f\"],[0.2222222222222222,\"#7201a8\"],[0.3333333333333333,\"#9c179e\"],[0.4444444444444444,\"#bd3786\"],[0.5555555555555556,\"#d8576b\"],[0.6666666666666666,\"#ed7953\"],[0.7777777777777778,\"#fb9f3a\"],[0.8888888888888888,\"#fdca26\"],[1.0,\"#f0f921\"]],\"type\":\"heatmapgl\"}],\"histogram\":[{\"marker\":{\"pattern\":{\"fillmode\":\"overlay\",\"size\":10,\"solidity\":0.2}},\"type\":\"histogram\"}],\"histogram2d\":[{\"colorbar\":{\"outlinewidth\":0,\"ticks\":\"\"},\"colorscale\":[[0.0,\"#0d0887\"],[0.1111111111111111,\"#46039f\"],[0.2222222222222222,\"#7201a8\"],[0.3333333333333333,\"#9c179e\"],[0.4444444444444444,\"#bd3786\"],[0.5555555555555556,\"#d8576b\"],[0.6666666666666666,\"#ed7953\"],[0.7777777777777778,\"#fb9f3a\"],[0.8888888888888888,\"#fdca26\"],[1.0,\"#f0f921\"]],\"type\":\"histogram2d\"}],\"histogram2dcontour\":[{\"colorbar\":{\"outlinewidth\":0,\"ticks\":\"\"},\"colorscale\":[[0.0,\"#0d0887\"],[0.1111111111111111,\"#46039f\"],[0.2222222222222222,\"#7201a8\"],[0.3333333333333333,\"#9c179e\"],[0.4444444444444444,\"#bd3786\"],[0.5555555555555556,\"#d8576b\"],[0.6666666666666666,\"#ed7953\"],[0.7777777777777778,\"#fb9f3a\"],[0.8888888888888888,\"#fdca26\"],[1.0,\"#f0f921\"]],\"type\":\"histogram2dcontour\"}],\"mesh3d\":[{\"colorbar\":{\"outlinewidth\":0,\"ticks\":\"\"},\"type\":\"mesh3d\"}],\"parcoords\":[{\"line\":{\"colorbar\":{\"outlinewidth\":0,\"ticks\":\"\"}},\"type\":\"parcoords\"}],\"pie\":[{\"automargin\":true,\"type\":\"pie\"}],\"scatter\":[{\"marker\":{\"colorbar\":{\"outlinewidth\":0,\"ticks\":\"\"}},\"type\":\"scatter\"}],\"scatter3d\":[{\"line\":{\"colorbar\":{\"outlinewidth\":0,\"ticks\":\"\"}},\"marker\":{\"colorbar\":{\"outlinewidth\":0,\"ticks\":\"\"}},\"type\":\"scatter3d\"}],\"scattercarpet\":[{\"marker\":{\"colorbar\":{\"outlinewidth\":0,\"ticks\":\"\"}},\"type\":\"scattercarpet\"}],\"scattergeo\":[{\"marker\":{\"colorbar\":{\"outlinewidth\":0,\"ticks\":\"\"}},\"type\":\"scattergeo\"}],\"scattergl\":[{\"marker\":{\"colorbar\":{\"outlinewidth\":0,\"ticks\":\"\"}},\"type\":\"scattergl\"}],\"scattermapbox\":[{\"marker\":{\"colorbar\":{\"outlinewidth\":0,\"ticks\":\"\"}},\"type\":\"scattermapbox\"}],\"scatterpolar\":[{\"marker\":{\"colorbar\":{\"outlinewidth\":0,\"ticks\":\"\"}},\"type\":\"scatterpolar\"}],\"scatterpolargl\":[{\"marker\":{\"colorbar\":{\"outlinewidth\":0,\"ticks\":\"\"}},\"type\":\"scatterpolargl\"}],\"scatterternary\":[{\"marker\":{\"colorbar\":{\"outlinewidth\":0,\"ticks\":\"\"}},\"type\":\"scatterternary\"}],\"surface\":[{\"colorbar\":{\"outlinewidth\":0,\"ticks\":\"\"},\"colorscale\":[[0.0,\"#0d0887\"],[0.1111111111111111,\"#46039f\"],[0.2222222222222222,\"#7201a8\"],[0.3333333333333333,\"#9c179e\"],[0.4444444444444444,\"#bd3786\"],[0.5555555555555556,\"#d8576b\"],[0.6666666666666666,\"#ed7953\"],[0.7777777777777778,\"#fb9f3a\"],[0.8888888888888888,\"#fdca26\"],[1.0,\"#f0f921\"]],\"type\":\"surface\"}],\"table\":[{\"cells\":{\"fill\":{\"color\":\"#EBF0F8\"},\"line\":{\"color\":\"white\"}},\"header\":{\"fill\":{\"color\":\"#C8D4E3\"},\"line\":{\"color\":\"white\"}},\"type\":\"table\"}]},\"layout\":{\"annotationdefaults\":{\"arrowcolor\":\"#2a3f5f\",\"arrowhead\":0,\"arrowwidth\":1},\"autotypenumbers\":\"strict\",\"coloraxis\":{\"colorbar\":{\"outlinewidth\":0,\"ticks\":\"\"}},\"colorscale\":{\"diverging\":[[0,\"#8e0152\"],[0.1,\"#c51b7d\"],[0.2,\"#de77ae\"],[0.3,\"#f1b6da\"],[0.4,\"#fde0ef\"],[0.5,\"#f7f7f7\"],[0.6,\"#e6f5d0\"],[0.7,\"#b8e186\"],[0.8,\"#7fbc41\"],[0.9,\"#4d9221\"],[1,\"#276419\"]],\"sequential\":[[0.0,\"#0d0887\"],[0.1111111111111111,\"#46039f\"],[0.2222222222222222,\"#7201a8\"],[0.3333333333333333,\"#9c179e\"],[0.4444444444444444,\"#bd3786\"],[0.5555555555555556,\"#d8576b\"],[0.6666666666666666,\"#ed7953\"],[0.7777777777777778,\"#fb9f3a\"],[0.8888888888888888,\"#fdca26\"],[1.0,\"#f0f921\"]],\"sequentialminus\":[[0.0,\"#0d0887\"],[0.1111111111111111,\"#46039f\"],[0.2222222222222222,\"#7201a8\"],[0.3333333333333333,\"#9c179e\"],[0.4444444444444444,\"#bd3786\"],[0.5555555555555556,\"#d8576b\"],[0.6666666666666666,\"#ed7953\"],[0.7777777777777778,\"#fb9f3a\"],[0.8888888888888888,\"#fdca26\"],[1.0,\"#f0f921\"]]},\"colorway\":[\"#636efa\",\"#EF553B\",\"#00cc96\",\"#ab63fa\",\"#FFA15A\",\"#19d3f3\",\"#FF6692\",\"#B6E880\",\"#FF97FF\",\"#FECB52\"],\"font\":{\"color\":\"#2a3f5f\"},\"geo\":{\"bgcolor\":\"white\",\"lakecolor\":\"white\",\"landcolor\":\"#E5ECF6\",\"showlakes\":true,\"showland\":true,\"subunitcolor\":\"white\"},\"hoverlabel\":{\"align\":\"left\"},\"hovermode\":\"closest\",\"mapbox\":{\"style\":\"light\"},\"paper_bgcolor\":\"white\",\"plot_bgcolor\":\"#E5ECF6\",\"polar\":{\"angularaxis\":{\"gridcolor\":\"white\",\"linecolor\":\"white\",\"ticks\":\"\"},\"bgcolor\":\"#E5ECF6\",\"radialaxis\":{\"gridcolor\":\"white\",\"linecolor\":\"white\",\"ticks\":\"\"}},\"scene\":{\"xaxis\":{\"backgroundcolor\":\"#E5ECF6\",\"gridcolor\":\"white\",\"gridwidth\":2,\"linecolor\":\"white\",\"showbackground\":true,\"ticks\":\"\",\"zerolinecolor\":\"white\"},\"yaxis\":{\"backgroundcolor\":\"#E5ECF6\",\"gridcolor\":\"white\",\"gridwidth\":2,\"linecolor\":\"white\",\"showbackground\":true,\"ticks\":\"\",\"zerolinecolor\":\"white\"},\"zaxis\":{\"backgroundcolor\":\"#E5ECF6\",\"gridcolor\":\"white\",\"gridwidth\":2,\"linecolor\":\"white\",\"showbackground\":true,\"ticks\":\"\",\"zerolinecolor\":\"white\"}},\"shapedefaults\":{\"line\":{\"color\":\"#2a3f5f\"}},\"ternary\":{\"aaxis\":{\"gridcolor\":\"white\",\"linecolor\":\"white\",\"ticks\":\"\"},\"baxis\":{\"gridcolor\":\"white\",\"linecolor\":\"white\",\"ticks\":\"\"},\"bgcolor\":\"#E5ECF6\",\"caxis\":{\"gridcolor\":\"white\",\"linecolor\":\"white\",\"ticks\":\"\"}},\"title\":{\"x\":0.05},\"xaxis\":{\"automargin\":true,\"gridcolor\":\"white\",\"linecolor\":\"white\",\"ticks\":\"\",\"title\":{\"standoff\":15},\"zerolinecolor\":\"white\",\"zerolinewidth\":2},\"yaxis\":{\"automargin\":true,\"gridcolor\":\"white\",\"linecolor\":\"white\",\"ticks\":\"\",\"title\":{\"standoff\":15},\"zerolinecolor\":\"white\",\"zerolinewidth\":2}}},\"xaxis\":{\"anchor\":\"y\",\"domain\":[0.0,1.0],\"title\":{\"text\":\"Date\"}},\"yaxis\":{\"anchor\":\"x\",\"domain\":[0.0,1.0],\"title\":{\"text\":\"Total_Sales\"}},\"legend\":{\"tracegroupgap\":0},\"margin\":{\"t\":60}},                        {\"responsive\": true}                    )                };                            </script>        </div>\n",
       "</body>\n",
       "</html>"
      ]
     },
     "metadata": {
      "application/vnd.databricks.v1+output": {
       "addedWidgets": {},
       "arguments": {},
       "data": "<html>\n<head><meta charset=\"utf-8\" /></head>\n<body>\n    <div>            <script src=\"https://cdnjs.cloudflare.com/ajax/libs/mathjax/2.7.5/MathJax.js?config=TeX-AMS-MML_SVG\"></script><script type=\"text/javascript\">if (window.MathJax) {MathJax.Hub.Config({SVG: {font: \"STIX-Web\"}});}</script>                <script type=\"text/javascript\">window.PlotlyConfig = {MathJaxConfig: 'local'};</script>\n        <script src=\"https://cdn.plot.ly/plotly-2.9.0.min.js\"></script>                <div id=\"bab233e9-099f-4965-9cb8-dc5648335f50\" class=\"plotly-graph-div\" style=\"height:100%; width:100%;\"></div>            <script type=\"text/javascript\">                                    window.PLOTLYENV=window.PLOTLYENV || {};                                    if (document.getElementById(\"bab233e9-099f-4965-9cb8-dc5648335f50\")) {                    Plotly.newPlot(                        \"bab233e9-099f-4965-9cb8-dc5648335f50\",                        [{\"hovertemplate\":\"Date=%{x}<br>Total_Sales=%{y}<extra></extra>\",\"legendgroup\":\"\",\"marker\":{\"color\":\"#636efa\",\"symbol\":\"circle\"},\"mode\":\"markers\",\"name\":\"\",\"orientation\":\"v\",\"showlegend\":false,\"x\":[\"2011-01-31T00:00:00\",\"2011-02-28T00:00:00\",\"2011-03-31T00:00:00\",\"2011-04-30T00:00:00\",\"2011-05-31T00:00:00\",\"2011-06-30T00:00:00\",\"2011-07-31T00:00:00\",\"2011-08-31T00:00:00\",\"2011-09-30T00:00:00\",\"2011-10-31T00:00:00\",\"2011-11-30T00:00:00\",\"2011-12-31T00:00:00\",\"2012-01-31T00:00:00\",\"2012-02-29T00:00:00\",\"2012-03-31T00:00:00\",\"2012-04-30T00:00:00\",\"2012-05-31T00:00:00\",\"2012-06-30T00:00:00\",\"2012-07-31T00:00:00\",\"2012-08-31T00:00:00\",\"2012-09-30T00:00:00\",\"2012-10-31T00:00:00\",\"2012-11-30T00:00:00\",\"2012-12-31T00:00:00\",\"2013-01-31T00:00:00\",\"2013-02-28T00:00:00\",\"2013-03-31T00:00:00\",\"2013-04-30T00:00:00\",\"2013-05-31T00:00:00\",\"2013-06-30T00:00:00\",\"2013-07-31T00:00:00\",\"2013-08-31T00:00:00\",\"2013-09-30T00:00:00\",\"2013-10-31T00:00:00\",\"2013-11-30T00:00:00\",\"2013-12-31T00:00:00\",\"2014-01-31T00:00:00\",\"2014-02-28T00:00:00\",\"2014-03-31T00:00:00\",\"2014-04-30T00:00:00\",\"2014-05-31T00:00:00\",\"2014-06-30T00:00:00\",\"2014-07-31T00:00:00\",\"2014-08-31T00:00:00\",\"2014-09-30T00:00:00\",\"2014-10-31T00:00:00\",\"2014-11-30T00:00:00\",\"2014-12-31T00:00:00\"],\"xaxis\":\"x\",\"y\":[1977.0,1361.0,1835.0,2380.0,2280.0,3884.0,1696.0,6024.0,3659.0,3265.0,7034.0,5279.0,2358.0,1586.0,3941.0,1257.0,5238.0,3466.0,3092.0,4608.0,4735.0,4538.0,6984.0,6475.0,3479.0,3085.0,3475.0,3494.0,7508.0,8451.0,4857.0,7008.0,6300.0,4616.0,7443.0,7233.0,3387.0,2005.0,4524.0,4124.0,5999.0,6690.0,3695.0,7868.0,8674.0,8322.0,8799.0,10802.0],\"yaxis\":\"y\",\"type\":\"scatter\"},{\"hovertemplate\":\"<b>Rolling mean trendline</b><br><br>Date=%{x}<br>Total_Sales=%{y} <b>(trend)</b><extra></extra>\",\"legendgroup\":\"\",\"marker\":{\"color\":\"#636efa\",\"symbol\":\"circle\"},\"mode\":\"lines\",\"name\":\"\",\"showlegend\":false,\"x\":[\"2011-01-31T00:00:00\",\"2011-02-28T00:00:00\",\"2011-03-31T00:00:00\",\"2011-04-30T00:00:00\",\"2011-05-31T00:00:00\",\"2011-06-30T00:00:00\",\"2011-07-31T00:00:00\",\"2011-08-31T00:00:00\",\"2011-09-30T00:00:00\",\"2011-10-31T00:00:00\",\"2011-11-30T00:00:00\",\"2011-12-31T00:00:00\",\"2012-01-31T00:00:00\",\"2012-02-29T00:00:00\",\"2012-03-31T00:00:00\",\"2012-04-30T00:00:00\",\"2012-05-31T00:00:00\",\"2012-06-30T00:00:00\",\"2012-07-31T00:00:00\",\"2012-08-31T00:00:00\",\"2012-09-30T00:00:00\",\"2012-10-31T00:00:00\",\"2012-11-30T00:00:00\",\"2012-12-31T00:00:00\",\"2013-01-31T00:00:00\",\"2013-02-28T00:00:00\",\"2013-03-31T00:00:00\",\"2013-04-30T00:00:00\",\"2013-05-31T00:00:00\",\"2013-06-30T00:00:00\",\"2013-07-31T00:00:00\",\"2013-08-31T00:00:00\",\"2013-09-30T00:00:00\",\"2013-10-31T00:00:00\",\"2013-11-30T00:00:00\",\"2013-12-31T00:00:00\",\"2014-01-31T00:00:00\",\"2014-02-28T00:00:00\",\"2014-03-31T00:00:00\",\"2014-04-30T00:00:00\",\"2014-05-31T00:00:00\",\"2014-06-30T00:00:00\",\"2014-07-31T00:00:00\",\"2014-08-31T00:00:00\",\"2014-09-30T00:00:00\",\"2014-10-31T00:00:00\",\"2014-11-30T00:00:00\",\"2014-12-31T00:00:00\"],\"xaxis\":\"x\",\"y\":[null,null,1724.3333333333333,1858.6666666666667,2165.0,2848.0,2620.0,3868.0,3793.0,4316.0,4652.666666666667,5192.666666666667,4890.333333333333,3074.3333333333335,2628.3333333333335,2261.3333333333335,3478.6666666666665,3320.3333333333335,3932.0,3722.0,4145.0,4627.0,5419.0,5999.0,5646.0,4346.333333333333,3346.3333333333335,3351.3333333333335,4825.666666666667,6484.333333333333,6938.666666666667,6772.0,6055.0,5974.666666666667,6119.666666666667,6430.666666666667,6021.0,4208.333333333333,3305.3333333333335,3551.0,4882.333333333333,5604.333333333333,5461.333333333333,6084.333333333333,6745.666666666667,8288.0,8598.333333333334,9307.666666666666],\"yaxis\":\"y\",\"type\":\"scatter\"}],                        {\"template\":{\"data\":{\"bar\":[{\"error_x\":{\"color\":\"#2a3f5f\"},\"error_y\":{\"color\":\"#2a3f5f\"},\"marker\":{\"line\":{\"color\":\"#E5ECF6\",\"width\":0.5},\"pattern\":{\"fillmode\":\"overlay\",\"size\":10,\"solidity\":0.2}},\"type\":\"bar\"}],\"barpolar\":[{\"marker\":{\"line\":{\"color\":\"#E5ECF6\",\"width\":0.5},\"pattern\":{\"fillmode\":\"overlay\",\"size\":10,\"solidity\":0.2}},\"type\":\"barpolar\"}],\"carpet\":[{\"aaxis\":{\"endlinecolor\":\"#2a3f5f\",\"gridcolor\":\"white\",\"linecolor\":\"white\",\"minorgridcolor\":\"white\",\"startlinecolor\":\"#2a3f5f\"},\"baxis\":{\"endlinecolor\":\"#2a3f5f\",\"gridcolor\":\"white\",\"linecolor\":\"white\",\"minorgridcolor\":\"white\",\"startlinecolor\":\"#2a3f5f\"},\"type\":\"carpet\"}],\"choropleth\":[{\"colorbar\":{\"outlinewidth\":0,\"ticks\":\"\"},\"type\":\"choropleth\"}],\"contour\":[{\"colorbar\":{\"outlinewidth\":0,\"ticks\":\"\"},\"colorscale\":[[0.0,\"#0d0887\"],[0.1111111111111111,\"#46039f\"],[0.2222222222222222,\"#7201a8\"],[0.3333333333333333,\"#9c179e\"],[0.4444444444444444,\"#bd3786\"],[0.5555555555555556,\"#d8576b\"],[0.6666666666666666,\"#ed7953\"],[0.7777777777777778,\"#fb9f3a\"],[0.8888888888888888,\"#fdca26\"],[1.0,\"#f0f921\"]],\"type\":\"contour\"}],\"contourcarpet\":[{\"colorbar\":{\"outlinewidth\":0,\"ticks\":\"\"},\"type\":\"contourcarpet\"}],\"heatmap\":[{\"colorbar\":{\"outlinewidth\":0,\"ticks\":\"\"},\"colorscale\":[[0.0,\"#0d0887\"],[0.1111111111111111,\"#46039f\"],[0.2222222222222222,\"#7201a8\"],[0.3333333333333333,\"#9c179e\"],[0.4444444444444444,\"#bd3786\"],[0.5555555555555556,\"#d8576b\"],[0.6666666666666666,\"#ed7953\"],[0.7777777777777778,\"#fb9f3a\"],[0.8888888888888888,\"#fdca26\"],[1.0,\"#f0f921\"]],\"type\":\"heatmap\"}],\"heatmapgl\":[{\"colorbar\":{\"outlinewidth\":0,\"ticks\":\"\"},\"colorscale\":[[0.0,\"#0d0887\"],[0.1111111111111111,\"#46039f\"],[0.2222222222222222,\"#7201a8\"],[0.3333333333333333,\"#9c179e\"],[0.4444444444444444,\"#bd3786\"],[0.5555555555555556,\"#d8576b\"],[0.6666666666666666,\"#ed7953\"],[0.7777777777777778,\"#fb9f3a\"],[0.8888888888888888,\"#fdca26\"],[1.0,\"#f0f921\"]],\"type\":\"heatmapgl\"}],\"histogram\":[{\"marker\":{\"pattern\":{\"fillmode\":\"overlay\",\"size\":10,\"solidity\":0.2}},\"type\":\"histogram\"}],\"histogram2d\":[{\"colorbar\":{\"outlinewidth\":0,\"ticks\":\"\"},\"colorscale\":[[0.0,\"#0d0887\"],[0.1111111111111111,\"#46039f\"],[0.2222222222222222,\"#7201a8\"],[0.3333333333333333,\"#9c179e\"],[0.4444444444444444,\"#bd3786\"],[0.5555555555555556,\"#d8576b\"],[0.6666666666666666,\"#ed7953\"],[0.7777777777777778,\"#fb9f3a\"],[0.8888888888888888,\"#fdca26\"],[1.0,\"#f0f921\"]],\"type\":\"histogram2d\"}],\"histogram2dcontour\":[{\"colorbar\":{\"outlinewidth\":0,\"ticks\":\"\"},\"colorscale\":[[0.0,\"#0d0887\"],[0.1111111111111111,\"#46039f\"],[0.2222222222222222,\"#7201a8\"],[0.3333333333333333,\"#9c179e\"],[0.4444444444444444,\"#bd3786\"],[0.5555555555555556,\"#d8576b\"],[0.6666666666666666,\"#ed7953\"],[0.7777777777777778,\"#fb9f3a\"],[0.8888888888888888,\"#fdca26\"],[1.0,\"#f0f921\"]],\"type\":\"histogram2dcontour\"}],\"mesh3d\":[{\"colorbar\":{\"outlinewidth\":0,\"ticks\":\"\"},\"type\":\"mesh3d\"}],\"parcoords\":[{\"line\":{\"colorbar\":{\"outlinewidth\":0,\"ticks\":\"\"}},\"type\":\"parcoords\"}],\"pie\":[{\"automargin\":true,\"type\":\"pie\"}],\"scatter\":[{\"marker\":{\"colorbar\":{\"outlinewidth\":0,\"ticks\":\"\"}},\"type\":\"scatter\"}],\"scatter3d\":[{\"line\":{\"colorbar\":{\"outlinewidth\":0,\"ticks\":\"\"}},\"marker\":{\"colorbar\":{\"outlinewidth\":0,\"ticks\":\"\"}},\"type\":\"scatter3d\"}],\"scattercarpet\":[{\"marker\":{\"colorbar\":{\"outlinewidth\":0,\"ticks\":\"\"}},\"type\":\"scattercarpet\"}],\"scattergeo\":[{\"marker\":{\"colorbar\":{\"outlinewidth\":0,\"ticks\":\"\"}},\"type\":\"scattergeo\"}],\"scattergl\":[{\"marker\":{\"colorbar\":{\"outlinewidth\":0,\"ticks\":\"\"}},\"type\":\"scattergl\"}],\"scattermapbox\":[{\"marker\":{\"colorbar\":{\"outlinewidth\":0,\"ticks\":\"\"}},\"type\":\"scattermapbox\"}],\"scatterpolar\":[{\"marker\":{\"colorbar\":{\"outlinewidth\":0,\"ticks\":\"\"}},\"type\":\"scatterpolar\"}],\"scatterpolargl\":[{\"marker\":{\"colorbar\":{\"outlinewidth\":0,\"ticks\":\"\"}},\"type\":\"scatterpolargl\"}],\"scatterternary\":[{\"marker\":{\"colorbar\":{\"outlinewidth\":0,\"ticks\":\"\"}},\"type\":\"scatterternary\"}],\"surface\":[{\"colorbar\":{\"outlinewidth\":0,\"ticks\":\"\"},\"colorscale\":[[0.0,\"#0d0887\"],[0.1111111111111111,\"#46039f\"],[0.2222222222222222,\"#7201a8\"],[0.3333333333333333,\"#9c179e\"],[0.4444444444444444,\"#bd3786\"],[0.5555555555555556,\"#d8576b\"],[0.6666666666666666,\"#ed7953\"],[0.7777777777777778,\"#fb9f3a\"],[0.8888888888888888,\"#fdca26\"],[1.0,\"#f0f921\"]],\"type\":\"surface\"}],\"table\":[{\"cells\":{\"fill\":{\"color\":\"#EBF0F8\"},\"line\":{\"color\":\"white\"}},\"header\":{\"fill\":{\"color\":\"#C8D4E3\"},\"line\":{\"color\":\"white\"}},\"type\":\"table\"}]},\"layout\":{\"annotationdefaults\":{\"arrowcolor\":\"#2a3f5f\",\"arrowhead\":0,\"arrowwidth\":1},\"autotypenumbers\":\"strict\",\"coloraxis\":{\"colorbar\":{\"outlinewidth\":0,\"ticks\":\"\"}},\"colorscale\":{\"diverging\":[[0,\"#8e0152\"],[0.1,\"#c51b7d\"],[0.2,\"#de77ae\"],[0.3,\"#f1b6da\"],[0.4,\"#fde0ef\"],[0.5,\"#f7f7f7\"],[0.6,\"#e6f5d0\"],[0.7,\"#b8e186\"],[0.8,\"#7fbc41\"],[0.9,\"#4d9221\"],[1,\"#276419\"]],\"sequential\":[[0.0,\"#0d0887\"],[0.1111111111111111,\"#46039f\"],[0.2222222222222222,\"#7201a8\"],[0.3333333333333333,\"#9c179e\"],[0.4444444444444444,\"#bd3786\"],[0.5555555555555556,\"#d8576b\"],[0.6666666666666666,\"#ed7953\"],[0.7777777777777778,\"#fb9f3a\"],[0.8888888888888888,\"#fdca26\"],[1.0,\"#f0f921\"]],\"sequentialminus\":[[0.0,\"#0d0887\"],[0.1111111111111111,\"#46039f\"],[0.2222222222222222,\"#7201a8\"],[0.3333333333333333,\"#9c179e\"],[0.4444444444444444,\"#bd3786\"],[0.5555555555555556,\"#d8576b\"],[0.6666666666666666,\"#ed7953\"],[0.7777777777777778,\"#fb9f3a\"],[0.8888888888888888,\"#fdca26\"],[1.0,\"#f0f921\"]]},\"colorway\":[\"#636efa\",\"#EF553B\",\"#00cc96\",\"#ab63fa\",\"#FFA15A\",\"#19d3f3\",\"#FF6692\",\"#B6E880\",\"#FF97FF\",\"#FECB52\"],\"font\":{\"color\":\"#2a3f5f\"},\"geo\":{\"bgcolor\":\"white\",\"lakecolor\":\"white\",\"landcolor\":\"#E5ECF6\",\"showlakes\":true,\"showland\":true,\"subunitcolor\":\"white\"},\"hoverlabel\":{\"align\":\"left\"},\"hovermode\":\"closest\",\"mapbox\":{\"style\":\"light\"},\"paper_bgcolor\":\"white\",\"plot_bgcolor\":\"#E5ECF6\",\"polar\":{\"angularaxis\":{\"gridcolor\":\"white\",\"linecolor\":\"white\",\"ticks\":\"\"},\"bgcolor\":\"#E5ECF6\",\"radialaxis\":{\"gridcolor\":\"white\",\"linecolor\":\"white\",\"ticks\":\"\"}},\"scene\":{\"xaxis\":{\"backgroundcolor\":\"#E5ECF6\",\"gridcolor\":\"white\",\"gridwidth\":2,\"linecolor\":\"white\",\"showbackground\":true,\"ticks\":\"\",\"zerolinecolor\":\"white\"},\"yaxis\":{\"backgroundcolor\":\"#E5ECF6\",\"gridcolor\":\"white\",\"gridwidth\":2,\"linecolor\":\"white\",\"showbackground\":true,\"ticks\":\"\",\"zerolinecolor\":\"white\"},\"zaxis\":{\"backgroundcolor\":\"#E5ECF6\",\"gridcolor\":\"white\",\"gridwidth\":2,\"linecolor\":\"white\",\"showbackground\":true,\"ticks\":\"\",\"zerolinecolor\":\"white\"}},\"shapedefaults\":{\"line\":{\"color\":\"#2a3f5f\"}},\"ternary\":{\"aaxis\":{\"gridcolor\":\"white\",\"linecolor\":\"white\",\"ticks\":\"\"},\"baxis\":{\"gridcolor\":\"white\",\"linecolor\":\"white\",\"ticks\":\"\"},\"bgcolor\":\"#E5ECF6\",\"caxis\":{\"gridcolor\":\"white\",\"linecolor\":\"white\",\"ticks\":\"\"}},\"title\":{\"x\":0.05},\"xaxis\":{\"automargin\":true,\"gridcolor\":\"white\",\"linecolor\":\"white\",\"ticks\":\"\",\"title\":{\"standoff\":15},\"zerolinecolor\":\"white\",\"zerolinewidth\":2},\"yaxis\":{\"automargin\":true,\"gridcolor\":\"white\",\"linecolor\":\"white\",\"ticks\":\"\",\"title\":{\"standoff\":15},\"zerolinecolor\":\"white\",\"zerolinewidth\":2}}},\"xaxis\":{\"anchor\":\"y\",\"domain\":[0.0,1.0],\"title\":{\"text\":\"Date\"}},\"yaxis\":{\"anchor\":\"x\",\"domain\":[0.0,1.0],\"title\":{\"text\":\"Total_Sales\"}},\"legend\":{\"tracegroupgap\":0},\"margin\":{\"t\":60}},                        {\"responsive\": true}                    )                };                            </script>        </div>\n</body>\n</html>",
       "datasetInfos": [],
       "metadata": {},
       "removedWidgets": [],
       "textData": null,
       "type": "htmlSandbox"
      }
     },
     "output_type": "display_data"
    }
   ],
   "source": [
    "fig = px.scatter(df_res, x = df_res.index, y=\"Total_Sales\", trendline=\"rolling\", trendline_options=dict(window=3))\n",
    "fig.show()"
   ]
  },
  {
   "cell_type": "markdown",
   "metadata": {
    "application/vnd.databricks.v1+cell": {
     "cellMetadata": {},
     "inputWidgets": {},
     "nuid": "c000a9d5-6c13-409a-ac69-a79197890716",
     "showTitle": false,
     "title": ""
    }
   },
   "source": [
    "### Setup PyCarret to calculate the forecast"
   ]
  },
  {
   "cell_type": "code",
   "execution_count": 0,
   "metadata": {
    "application/vnd.databricks.v1+cell": {
     "cellMetadata": {
      "byteLimit": 2048000,
      "rowLimit": 10000
     },
     "inputWidgets": {},
     "nuid": "932f81b3-74dd-4443-9f4c-d0b2b26176ce",
     "showTitle": false,
     "title": ""
    }
   },
   "outputs": [
    {
     "output_type": "display_data",
     "data": {
      "text/html": [
       "<div>\n",
       "<style scoped>\n",
       "    .dataframe tbody tr th:only-of-type {\n",
       "        vertical-align: middle;\n",
       "    }\n",
       "\n",
       "    .dataframe tbody tr th {\n",
       "        vertical-align: top;\n",
       "    }\n",
       "\n",
       "    .dataframe thead th {\n",
       "        text-align: right;\n",
       "    }\n",
       "</style>\n",
       "<table border=\"1\" class=\"dataframe\">\n",
       "  <thead>\n",
       "    <tr style=\"text-align: right;\">\n",
       "      <th></th>\n",
       "      <th>Description</th>\n",
       "      <th>Value</th>\n",
       "    </tr>\n",
       "  </thead>\n",
       "  <tbody>\n",
       "    <tr>\n",
       "      <th>0</th>\n",
       "      <td>session_id</td>\n",
       "      <td>123</td>\n",
       "    </tr>\n",
       "    <tr>\n",
       "      <th>1</th>\n",
       "      <td>Target</td>\n",
       "      <td>Total_Sales</td>\n",
       "    </tr>\n",
       "    <tr>\n",
       "      <th>2</th>\n",
       "      <td>Approach</td>\n",
       "      <td>Univariate</td>\n",
       "    </tr>\n",
       "    <tr>\n",
       "      <th>3</th>\n",
       "      <td>Exogenous Variables</td>\n",
       "      <td>Not Present</td>\n",
       "    </tr>\n",
       "    <tr>\n",
       "      <th>4</th>\n",
       "      <td>Original data shape</td>\n",
       "      <td>(48, 1)</td>\n",
       "    </tr>\n",
       "    <tr>\n",
       "      <th>5</th>\n",
       "      <td>Transformed data shape</td>\n",
       "      <td>(48, 1)</td>\n",
       "    </tr>\n",
       "    <tr>\n",
       "      <th>6</th>\n",
       "      <td>Transformed train set shape</td>\n",
       "      <td>(38, 1)</td>\n",
       "    </tr>\n",
       "    <tr>\n",
       "      <th>7</th>\n",
       "      <td>Transformed test set shape</td>\n",
       "      <td>(10, 1)</td>\n",
       "    </tr>\n",
       "    <tr>\n",
       "      <th>8</th>\n",
       "      <td>Rows with missing values</td>\n",
       "      <td>0.0%</td>\n",
       "    </tr>\n",
       "    <tr>\n",
       "      <th>9</th>\n",
       "      <td>Fold Generator</td>\n",
       "      <td>ExpandingWindowSplitter</td>\n",
       "    </tr>\n",
       "    <tr>\n",
       "      <th>10</th>\n",
       "      <td>Fold Number</td>\n",
       "      <td>3</td>\n",
       "    </tr>\n",
       "    <tr>\n",
       "      <th>11</th>\n",
       "      <td>Enforce Prediction Interval</td>\n",
       "      <td>False</td>\n",
       "    </tr>\n",
       "    <tr>\n",
       "      <th>12</th>\n",
       "      <td>Splits used for hyperparameters</td>\n",
       "      <td>all</td>\n",
       "    </tr>\n",
       "    <tr>\n",
       "      <th>13</th>\n",
       "      <td>User Defined Seasonal Period(s)</td>\n",
       "      <td>None</td>\n",
       "    </tr>\n",
       "    <tr>\n",
       "      <th>14</th>\n",
       "      <td>Ignore Seasonality Test</td>\n",
       "      <td>False</td>\n",
       "    </tr>\n",
       "    <tr>\n",
       "      <th>15</th>\n",
       "      <td>Seasonality Detection Algo</td>\n",
       "      <td>auto</td>\n",
       "    </tr>\n",
       "    <tr>\n",
       "      <th>16</th>\n",
       "      <td>Max Period to Consider</td>\n",
       "      <td>60</td>\n",
       "    </tr>\n",
       "    <tr>\n",
       "      <th>17</th>\n",
       "      <td>Seasonal Period(s) Tested</td>\n",
       "      <td>[6]</td>\n",
       "    </tr>\n",
       "    <tr>\n",
       "      <th>18</th>\n",
       "      <td>Significant Seasonal Period(s)</td>\n",
       "      <td>[6]</td>\n",
       "    </tr>\n",
       "    <tr>\n",
       "      <th>19</th>\n",
       "      <td>Significant Seasonal Period(s) without Harmonics</td>\n",
       "      <td>[6]</td>\n",
       "    </tr>\n",
       "    <tr>\n",
       "      <th>20</th>\n",
       "      <td>Remove Harmonics</td>\n",
       "      <td>False</td>\n",
       "    </tr>\n",
       "    <tr>\n",
       "      <th>21</th>\n",
       "      <td>Harmonics Order Method</td>\n",
       "      <td>harmonic_max</td>\n",
       "    </tr>\n",
       "    <tr>\n",
       "      <th>22</th>\n",
       "      <td>Num Seasonalities to Use</td>\n",
       "      <td>1</td>\n",
       "    </tr>\n",
       "    <tr>\n",
       "      <th>23</th>\n",
       "      <td>All Seasonalities to Use</td>\n",
       "      <td>[6]</td>\n",
       "    </tr>\n",
       "    <tr>\n",
       "      <th>24</th>\n",
       "      <td>Primary Seasonality</td>\n",
       "      <td>6</td>\n",
       "    </tr>\n",
       "    <tr>\n",
       "      <th>25</th>\n",
       "      <td>Seasonality Present</td>\n",
       "      <td>True</td>\n",
       "    </tr>\n",
       "    <tr>\n",
       "      <th>26</th>\n",
       "      <td>Seasonality Type</td>\n",
       "      <td>mul</td>\n",
       "    </tr>\n",
       "    <tr>\n",
       "      <th>27</th>\n",
       "      <td>Target Strictly Positive</td>\n",
       "      <td>True</td>\n",
       "    </tr>\n",
       "    <tr>\n",
       "      <th>28</th>\n",
       "      <td>Target White Noise</td>\n",
       "      <td>No</td>\n",
       "    </tr>\n",
       "    <tr>\n",
       "      <th>29</th>\n",
       "      <td>Recommended d</td>\n",
       "      <td>1</td>\n",
       "    </tr>\n",
       "    <tr>\n",
       "      <th>30</th>\n",
       "      <td>Recommended Seasonal D</td>\n",
       "      <td>0</td>\n",
       "    </tr>\n",
       "    <tr>\n",
       "      <th>31</th>\n",
       "      <td>Preprocess</td>\n",
       "      <td>False</td>\n",
       "    </tr>\n",
       "    <tr>\n",
       "      <th>32</th>\n",
       "      <td>CPU Jobs</td>\n",
       "      <td>-1</td>\n",
       "    </tr>\n",
       "    <tr>\n",
       "      <th>33</th>\n",
       "      <td>Use GPU</td>\n",
       "      <td>False</td>\n",
       "    </tr>\n",
       "    <tr>\n",
       "      <th>34</th>\n",
       "      <td>Log Experiment</td>\n",
       "      <td>False</td>\n",
       "    </tr>\n",
       "    <tr>\n",
       "      <th>35</th>\n",
       "      <td>Experiment Name</td>\n",
       "      <td>ts-default-name</td>\n",
       "    </tr>\n",
       "    <tr>\n",
       "      <th>36</th>\n",
       "      <td>USI</td>\n",
       "      <td>5894</td>\n",
       "    </tr>\n",
       "  </tbody>\n",
       "</table>\n",
       "</div>"
      ]
     },
     "metadata": {
      "application/vnd.databricks.v1+output": {
       "addedWidgets": {},
       "arguments": {},
       "data": "<div>\n<style scoped>\n    .dataframe tbody tr th:only-of-type {\n        vertical-align: middle;\n    }\n\n    .dataframe tbody tr th {\n        vertical-align: top;\n    }\n\n    .dataframe thead th {\n        text-align: right;\n    }\n</style>\n<table border=\"1\" class=\"dataframe\">\n  <thead>\n    <tr style=\"text-align: right;\">\n      <th></th>\n      <th>Description</th>\n      <th>Value</th>\n    </tr>\n  </thead>\n  <tbody>\n    <tr>\n      <th>0</th>\n      <td>session_id</td>\n      <td>123</td>\n    </tr>\n    <tr>\n      <th>1</th>\n      <td>Target</td>\n      <td>Total_Sales</td>\n    </tr>\n    <tr>\n      <th>2</th>\n      <td>Approach</td>\n      <td>Univariate</td>\n    </tr>\n    <tr>\n      <th>3</th>\n      <td>Exogenous Variables</td>\n      <td>Not Present</td>\n    </tr>\n    <tr>\n      <th>4</th>\n      <td>Original data shape</td>\n      <td>(48, 1)</td>\n    </tr>\n    <tr>\n      <th>5</th>\n      <td>Transformed data shape</td>\n      <td>(48, 1)</td>\n    </tr>\n    <tr>\n      <th>6</th>\n      <td>Transformed train set shape</td>\n      <td>(38, 1)</td>\n    </tr>\n    <tr>\n      <th>7</th>\n      <td>Transformed test set shape</td>\n      <td>(10, 1)</td>\n    </tr>\n    <tr>\n      <th>8</th>\n      <td>Rows with missing values</td>\n      <td>0.0%</td>\n    </tr>\n    <tr>\n      <th>9</th>\n      <td>Fold Generator</td>\n      <td>ExpandingWindowSplitter</td>\n    </tr>\n    <tr>\n      <th>10</th>\n      <td>Fold Number</td>\n      <td>3</td>\n    </tr>\n    <tr>\n      <th>11</th>\n      <td>Enforce Prediction Interval</td>\n      <td>False</td>\n    </tr>\n    <tr>\n      <th>12</th>\n      <td>Splits used for hyperparameters</td>\n      <td>all</td>\n    </tr>\n    <tr>\n      <th>13</th>\n      <td>User Defined Seasonal Period(s)</td>\n      <td>None</td>\n    </tr>\n    <tr>\n      <th>14</th>\n      <td>Ignore Seasonality Test</td>\n      <td>False</td>\n    </tr>\n    <tr>\n      <th>15</th>\n      <td>Seasonality Detection Algo</td>\n      <td>auto</td>\n    </tr>\n    <tr>\n      <th>16</th>\n      <td>Max Period to Consider</td>\n      <td>60</td>\n    </tr>\n    <tr>\n      <th>17</th>\n      <td>Seasonal Period(s) Tested</td>\n      <td>[6]</td>\n    </tr>\n    <tr>\n      <th>18</th>\n      <td>Significant Seasonal Period(s)</td>\n      <td>[6]</td>\n    </tr>\n    <tr>\n      <th>19</th>\n      <td>Significant Seasonal Period(s) without Harmonics</td>\n      <td>[6]</td>\n    </tr>\n    <tr>\n      <th>20</th>\n      <td>Remove Harmonics</td>\n      <td>False</td>\n    </tr>\n    <tr>\n      <th>21</th>\n      <td>Harmonics Order Method</td>\n      <td>harmonic_max</td>\n    </tr>\n    <tr>\n      <th>22</th>\n      <td>Num Seasonalities to Use</td>\n      <td>1</td>\n    </tr>\n    <tr>\n      <th>23</th>\n      <td>All Seasonalities to Use</td>\n      <td>[6]</td>\n    </tr>\n    <tr>\n      <th>24</th>\n      <td>Primary Seasonality</td>\n      <td>6</td>\n    </tr>\n    <tr>\n      <th>25</th>\n      <td>Seasonality Present</td>\n      <td>True</td>\n    </tr>\n    <tr>\n      <th>26</th>\n      <td>Seasonality Type</td>\n      <td>mul</td>\n    </tr>\n    <tr>\n      <th>27</th>\n      <td>Target Strictly Positive</td>\n      <td>True</td>\n    </tr>\n    <tr>\n      <th>28</th>\n      <td>Target White Noise</td>\n      <td>No</td>\n    </tr>\n    <tr>\n      <th>29</th>\n      <td>Recommended d</td>\n      <td>1</td>\n    </tr>\n    <tr>\n      <th>30</th>\n      <td>Recommended Seasonal D</td>\n      <td>0</td>\n    </tr>\n    <tr>\n      <th>31</th>\n      <td>Preprocess</td>\n      <td>False</td>\n    </tr>\n    <tr>\n      <th>32</th>\n      <td>CPU Jobs</td>\n      <td>-1</td>\n    </tr>\n    <tr>\n      <th>33</th>\n      <td>Use GPU</td>\n      <td>False</td>\n    </tr>\n    <tr>\n      <th>34</th>\n      <td>Log Experiment</td>\n      <td>False</td>\n    </tr>\n    <tr>\n      <th>35</th>\n      <td>Experiment Name</td>\n      <td>ts-default-name</td>\n    </tr>\n    <tr>\n      <th>36</th>\n      <td>USI</td>\n      <td>5894</td>\n    </tr>\n  </tbody>\n</table>\n</div>",
       "datasetInfos": [],
       "metadata": {},
       "removedWidgets": [],
       "textData": null,
       "type": "htmlSandbox"
      }
     },
     "output_type": "display_data"
    }
   ],
   "source": [
    "from pycaret.time_series import *\n",
    "\n",
    "#\"df_res\" = the timeseries dataframe with the sales results by month\n",
    "#\"fh\" = the test size, in this case, 10 months\n",
    "#\"session_id\" = session id to identify the results\n",
    "s = setup(df_res, fh = 10, session_id = 123)"
   ]
  },
  {
   "cell_type": "markdown",
   "metadata": {
    "application/vnd.databricks.v1+cell": {
     "cellMetadata": {},
     "inputWidgets": {},
     "nuid": "537fa77d-9d35-440a-b5cc-80b3892640fd",
     "showTitle": false,
     "title": ""
    }
   },
   "source": [
    "### Compare different types of Time Series models using the principal metrics "
   ]
  },
  {
   "cell_type": "code",
   "execution_count": 0,
   "metadata": {
    "application/vnd.databricks.v1+cell": {
     "cellMetadata": {
      "byteLimit": 2048000,
      "rowLimit": 10000
     },
     "inputWidgets": {},
     "nuid": "24e48d00-a98e-4bf3-8dd8-e13ba538aa4e",
     "showTitle": false,
     "title": ""
    }
   },
   "outputs": [
    {
     "output_type": "display_data",
     "data": {
      "text/html": [
       "<div>\n",
       "<style scoped>\n",
       "    .dataframe tbody tr th:only-of-type {\n",
       "        vertical-align: middle;\n",
       "    }\n",
       "\n",
       "    .dataframe tbody tr th {\n",
       "        vertical-align: top;\n",
       "    }\n",
       "\n",
       "    .dataframe thead th {\n",
       "        text-align: right;\n",
       "    }\n",
       "</style>\n",
       "<table border=\"1\" class=\"dataframe\">\n",
       "  <thead>\n",
       "    <tr style=\"text-align: right;\">\n",
       "      <th></th>\n",
       "      <th>Model</th>\n",
       "      <th>MASE</th>\n",
       "      <th>RMSSE</th>\n",
       "      <th>MAE</th>\n",
       "      <th>RMSE</th>\n",
       "      <th>MAPE</th>\n",
       "      <th>SMAPE</th>\n",
       "      <th>R2</th>\n",
       "      <th>TT (Sec)</th>\n",
       "    </tr>\n",
       "  </thead>\n",
       "  <tbody>\n",
       "    <tr>\n",
       "      <th>snaive</th>\n",
       "      <td>Seasonal Naive Forecaster</td>\n",
       "      <td>0.8153</td>\n",
       "      <td>0.7748</td>\n",
       "      <td>1753.6333</td>\n",
       "      <td>2124.1308</td>\n",
       "      <td>0.4518</td>\n",
       "      <td>0.4838</td>\n",
       "      <td>-0.8371</td>\n",
       "      <td>0.1000</td>\n",
       "    </tr>\n",
       "    <tr>\n",
       "      <th>croston</th>\n",
       "      <td>Croston</td>\n",
       "      <td>0.854</td>\n",
       "      <td>0.8314</td>\n",
       "      <td>1779.7118</td>\n",
       "      <td>2201.6014</td>\n",
       "      <td>0.3666</td>\n",
       "      <td>0.4167</td>\n",
       "      <td>-0.7632</td>\n",
       "      <td>0.0300</td>\n",
       "    </tr>\n",
       "    <tr>\n",
       "      <th>grand_means</th>\n",
       "      <td>Grand Means Forecaster</td>\n",
       "      <td>0.8699</td>\n",
       "      <td>0.8469</td>\n",
       "      <td>1804.3254</td>\n",
       "      <td>2228.5427</td>\n",
       "      <td>0.3706</td>\n",
       "      <td>0.42</td>\n",
       "      <td>-0.8021</td>\n",
       "      <td>0.0433</td>\n",
       "    </tr>\n",
       "    <tr>\n",
       "      <th>rf_cds_dt</th>\n",
       "      <td>Random Forest w/ Cond. Deseasonalize &amp; Detrending</td>\n",
       "      <td>0.9105</td>\n",
       "      <td>0.8432</td>\n",
       "      <td>1987.1863</td>\n",
       "      <td>2344.2865</td>\n",
       "      <td>0.6712</td>\n",
       "      <td>0.4123</td>\n",
       "      <td>-1.1513</td>\n",
       "      <td>0.7100</td>\n",
       "    </tr>\n",
       "    <tr>\n",
       "      <th>lightgbm_cds_dt</th>\n",
       "      <td>Light Gradient Boosting w/ Cond. Deseasonalize...</td>\n",
       "      <td>0.9571</td>\n",
       "      <td>0.8631</td>\n",
       "      <td>2085.047</td>\n",
       "      <td>2412.7754</td>\n",
       "      <td>0.7037</td>\n",
       "      <td>0.4235</td>\n",
       "      <td>-1.3234</td>\n",
       "      <td>0.4067</td>\n",
       "    </tr>\n",
       "    <tr>\n",
       "      <th>stlf</th>\n",
       "      <td>STLF</td>\n",
       "      <td>0.9631</td>\n",
       "      <td>0.903</td>\n",
       "      <td>2074.4387</td>\n",
       "      <td>2499.564</td>\n",
       "      <td>0.6635</td>\n",
       "      <td>0.5816</td>\n",
       "      <td>-1.7012</td>\n",
       "      <td>0.0800</td>\n",
       "    </tr>\n",
       "    <tr>\n",
       "      <th>polytrend</th>\n",
       "      <td>Polynomial Trend Forecaster</td>\n",
       "      <td>0.9689</td>\n",
       "      <td>0.8717</td>\n",
       "      <td>2113.3083</td>\n",
       "      <td>2439.5417</td>\n",
       "      <td>0.7078</td>\n",
       "      <td>0.4276</td>\n",
       "      <td>-1.3843</td>\n",
       "      <td>0.0333</td>\n",
       "    </tr>\n",
       "    <tr>\n",
       "      <th>naive</th>\n",
       "      <td>Naive Forecaster</td>\n",
       "      <td>0.9909</td>\n",
       "      <td>0.9376</td>\n",
       "      <td>2101.7333</td>\n",
       "      <td>2522.402</td>\n",
       "      <td>0.591</td>\n",
       "      <td>0.4532</td>\n",
       "      <td>-1.2841</td>\n",
       "      <td>1.6100</td>\n",
       "    </tr>\n",
       "    <tr>\n",
       "      <th>ada_cds_dt</th>\n",
       "      <td>AdaBoost w/ Cond. Deseasonalize &amp; Detrending</td>\n",
       "      <td>1.0149</td>\n",
       "      <td>0.9276</td>\n",
       "      <td>2208.9073</td>\n",
       "      <td>2596.7657</td>\n",
       "      <td>0.6802</td>\n",
       "      <td>0.4491</td>\n",
       "      <td>-1.8136</td>\n",
       "      <td>0.4067</td>\n",
       "    </tr>\n",
       "    <tr>\n",
       "      <th>et_cds_dt</th>\n",
       "      <td>Extra Trees w/ Cond. Deseasonalize &amp; Detrending</td>\n",
       "      <td>1.0337</td>\n",
       "      <td>0.9229</td>\n",
       "      <td>2234.2002</td>\n",
       "      <td>2549.9077</td>\n",
       "      <td>0.7335</td>\n",
       "      <td>0.4543</td>\n",
       "      <td>-1.5465</td>\n",
       "      <td>0.6900</td>\n",
       "    </tr>\n",
       "    <tr>\n",
       "      <th>gbr_cds_dt</th>\n",
       "      <td>Gradient Boosting w/ Cond. Deseasonalize &amp; Det...</td>\n",
       "      <td>1.1008</td>\n",
       "      <td>1.049</td>\n",
       "      <td>2396.4949</td>\n",
       "      <td>2908.6127</td>\n",
       "      <td>0.8131</td>\n",
       "      <td>0.4689</td>\n",
       "      <td>-2.4048</td>\n",
       "      <td>0.3667</td>\n",
       "    </tr>\n",
       "    <tr>\n",
       "      <th>en_cds_dt</th>\n",
       "      <td>Elastic Net w/ Cond. Deseasonalize &amp; Detrending</td>\n",
       "      <td>1.1792</td>\n",
       "      <td>1.1311</td>\n",
       "      <td>2621.6946</td>\n",
       "      <td>3287.4385</td>\n",
       "      <td>0.7649</td>\n",
       "      <td>0.51</td>\n",
       "      <td>-4.2028</td>\n",
       "      <td>0.3200</td>\n",
       "    </tr>\n",
       "    <tr>\n",
       "      <th>lasso_cds_dt</th>\n",
       "      <td>Lasso w/ Cond. Deseasonalize &amp; Detrending</td>\n",
       "      <td>1.1792</td>\n",
       "      <td>1.1312</td>\n",
       "      <td>2621.7147</td>\n",
       "      <td>3287.4517</td>\n",
       "      <td>0.7649</td>\n",
       "      <td>0.51</td>\n",
       "      <td>-4.2029</td>\n",
       "      <td>0.3267</td>\n",
       "    </tr>\n",
       "    <tr>\n",
       "      <th>arima</th>\n",
       "      <td>ARIMA</td>\n",
       "      <td>1.2073</td>\n",
       "      <td>1.0865</td>\n",
       "      <td>2749.4199</td>\n",
       "      <td>3202.1317</td>\n",
       "      <td>0.966</td>\n",
       "      <td>0.6368</td>\n",
       "      <td>-4.329</td>\n",
       "      <td>0.1467</td>\n",
       "    </tr>\n",
       "    <tr>\n",
       "      <th>huber_cds_dt</th>\n",
       "      <td>Huber w/ Cond. Deseasonalize &amp; Detrending</td>\n",
       "      <td>1.2605</td>\n",
       "      <td>1.1415</td>\n",
       "      <td>2823.4725</td>\n",
       "      <td>3303.8954</td>\n",
       "      <td>0.7808</td>\n",
       "      <td>0.5475</td>\n",
       "      <td>-4.1417</td>\n",
       "      <td>0.3533</td>\n",
       "    </tr>\n",
       "    <tr>\n",
       "      <th>dt_cds_dt</th>\n",
       "      <td>Decision Tree w/ Cond. Deseasonalize &amp; Detrending</td>\n",
       "      <td>1.37</td>\n",
       "      <td>1.2751</td>\n",
       "      <td>2930.6741</td>\n",
       "      <td>3493.4009</td>\n",
       "      <td>0.974</td>\n",
       "      <td>0.5492</td>\n",
       "      <td>-3.5569</td>\n",
       "      <td>1.9800</td>\n",
       "    </tr>\n",
       "    <tr>\n",
       "      <th>br_cds_dt</th>\n",
       "      <td>Bayesian Ridge w/ Cond. Deseasonalize &amp; Detren...</td>\n",
       "      <td>4.739</td>\n",
       "      <td>4.8399</td>\n",
       "      <td>11434.0921</td>\n",
       "      <td>15549.2927</td>\n",
       "      <td>4.1557</td>\n",
       "      <td>0.7744</td>\n",
       "      <td>-215.7573</td>\n",
       "      <td>0.3333</td>\n",
       "    </tr>\n",
       "    <tr>\n",
       "      <th>lr_cds_dt</th>\n",
       "      <td>Linear w/ Cond. Deseasonalize &amp; Detrending</td>\n",
       "      <td>4.7745</td>\n",
       "      <td>4.8602</td>\n",
       "      <td>11509.2802</td>\n",
       "      <td>15605.4041</td>\n",
       "      <td>4.1713</td>\n",
       "      <td>0.7884</td>\n",
       "      <td>-215.8827</td>\n",
       "      <td>0.4733</td>\n",
       "    </tr>\n",
       "    <tr>\n",
       "      <th>ridge_cds_dt</th>\n",
       "      <td>Ridge w/ Cond. Deseasonalize &amp; Detrending</td>\n",
       "      <td>4.7745</td>\n",
       "      <td>4.8602</td>\n",
       "      <td>11509.2661</td>\n",
       "      <td>15605.3821</td>\n",
       "      <td>4.1712</td>\n",
       "      <td>0.7884</td>\n",
       "      <td>-215.882</td>\n",
       "      <td>0.3333</td>\n",
       "    </tr>\n",
       "    <tr>\n",
       "      <th>llar_cds_dt</th>\n",
       "      <td>Lasso Least Angular Regressor w/ Cond. Deseaso...</td>\n",
       "      <td>537.9693</td>\n",
       "      <td>700.1213</td>\n",
       "      <td>1329566.9125</td>\n",
       "      <td>2312206.5155</td>\n",
       "      <td>447.5522</td>\n",
       "      <td>0.855</td>\n",
       "      <td>-5618407.9049</td>\n",
       "      <td>0.3333</td>\n",
       "    </tr>\n",
       "    <tr>\n",
       "      <th>omp_cds_dt</th>\n",
       "      <td>Orthogonal Matching Pursuit w/ Cond. Deseasona...</td>\n",
       "      <td>538.7363</td>\n",
       "      <td>701.129</td>\n",
       "      <td>1331464.3164</td>\n",
       "      <td>2315537.9698</td>\n",
       "      <td>448.1953</td>\n",
       "      <td>0.8523</td>\n",
       "      <td>-5634736.5317</td>\n",
       "      <td>0.3267</td>\n",
       "    </tr>\n",
       "  </tbody>\n",
       "</table>\n",
       "</div>"
      ]
     },
     "metadata": {
      "application/vnd.databricks.v1+output": {
       "addedWidgets": {},
       "arguments": {},
       "data": "<div>\n<style scoped>\n    .dataframe tbody tr th:only-of-type {\n        vertical-align: middle;\n    }\n\n    .dataframe tbody tr th {\n        vertical-align: top;\n    }\n\n    .dataframe thead th {\n        text-align: right;\n    }\n</style>\n<table border=\"1\" class=\"dataframe\">\n  <thead>\n    <tr style=\"text-align: right;\">\n      <th></th>\n      <th>Model</th>\n      <th>MASE</th>\n      <th>RMSSE</th>\n      <th>MAE</th>\n      <th>RMSE</th>\n      <th>MAPE</th>\n      <th>SMAPE</th>\n      <th>R2</th>\n      <th>TT (Sec)</th>\n    </tr>\n  </thead>\n  <tbody>\n    <tr>\n      <th>snaive</th>\n      <td>Seasonal Naive Forecaster</td>\n      <td>0.8153</td>\n      <td>0.7748</td>\n      <td>1753.6333</td>\n      <td>2124.1308</td>\n      <td>0.4518</td>\n      <td>0.4838</td>\n      <td>-0.8371</td>\n      <td>0.1000</td>\n    </tr>\n    <tr>\n      <th>croston</th>\n      <td>Croston</td>\n      <td>0.854</td>\n      <td>0.8314</td>\n      <td>1779.7118</td>\n      <td>2201.6014</td>\n      <td>0.3666</td>\n      <td>0.4167</td>\n      <td>-0.7632</td>\n      <td>0.0300</td>\n    </tr>\n    <tr>\n      <th>grand_means</th>\n      <td>Grand Means Forecaster</td>\n      <td>0.8699</td>\n      <td>0.8469</td>\n      <td>1804.3254</td>\n      <td>2228.5427</td>\n      <td>0.3706</td>\n      <td>0.42</td>\n      <td>-0.8021</td>\n      <td>0.0433</td>\n    </tr>\n    <tr>\n      <th>rf_cds_dt</th>\n      <td>Random Forest w/ Cond. Deseasonalize &amp; Detrending</td>\n      <td>0.9105</td>\n      <td>0.8432</td>\n      <td>1987.1863</td>\n      <td>2344.2865</td>\n      <td>0.6712</td>\n      <td>0.4123</td>\n      <td>-1.1513</td>\n      <td>0.7100</td>\n    </tr>\n    <tr>\n      <th>lightgbm_cds_dt</th>\n      <td>Light Gradient Boosting w/ Cond. Deseasonalize...</td>\n      <td>0.9571</td>\n      <td>0.8631</td>\n      <td>2085.047</td>\n      <td>2412.7754</td>\n      <td>0.7037</td>\n      <td>0.4235</td>\n      <td>-1.3234</td>\n      <td>0.4067</td>\n    </tr>\n    <tr>\n      <th>stlf</th>\n      <td>STLF</td>\n      <td>0.9631</td>\n      <td>0.903</td>\n      <td>2074.4387</td>\n      <td>2499.564</td>\n      <td>0.6635</td>\n      <td>0.5816</td>\n      <td>-1.7012</td>\n      <td>0.0800</td>\n    </tr>\n    <tr>\n      <th>polytrend</th>\n      <td>Polynomial Trend Forecaster</td>\n      <td>0.9689</td>\n      <td>0.8717</td>\n      <td>2113.3083</td>\n      <td>2439.5417</td>\n      <td>0.7078</td>\n      <td>0.4276</td>\n      <td>-1.3843</td>\n      <td>0.0333</td>\n    </tr>\n    <tr>\n      <th>naive</th>\n      <td>Naive Forecaster</td>\n      <td>0.9909</td>\n      <td>0.9376</td>\n      <td>2101.7333</td>\n      <td>2522.402</td>\n      <td>0.591</td>\n      <td>0.4532</td>\n      <td>-1.2841</td>\n      <td>1.6100</td>\n    </tr>\n    <tr>\n      <th>ada_cds_dt</th>\n      <td>AdaBoost w/ Cond. Deseasonalize &amp; Detrending</td>\n      <td>1.0149</td>\n      <td>0.9276</td>\n      <td>2208.9073</td>\n      <td>2596.7657</td>\n      <td>0.6802</td>\n      <td>0.4491</td>\n      <td>-1.8136</td>\n      <td>0.4067</td>\n    </tr>\n    <tr>\n      <th>et_cds_dt</th>\n      <td>Extra Trees w/ Cond. Deseasonalize &amp; Detrending</td>\n      <td>1.0337</td>\n      <td>0.9229</td>\n      <td>2234.2002</td>\n      <td>2549.9077</td>\n      <td>0.7335</td>\n      <td>0.4543</td>\n      <td>-1.5465</td>\n      <td>0.6900</td>\n    </tr>\n    <tr>\n      <th>gbr_cds_dt</th>\n      <td>Gradient Boosting w/ Cond. Deseasonalize &amp; Det...</td>\n      <td>1.1008</td>\n      <td>1.049</td>\n      <td>2396.4949</td>\n      <td>2908.6127</td>\n      <td>0.8131</td>\n      <td>0.4689</td>\n      <td>-2.4048</td>\n      <td>0.3667</td>\n    </tr>\n    <tr>\n      <th>en_cds_dt</th>\n      <td>Elastic Net w/ Cond. Deseasonalize &amp; Detrending</td>\n      <td>1.1792</td>\n      <td>1.1311</td>\n      <td>2621.6946</td>\n      <td>3287.4385</td>\n      <td>0.7649</td>\n      <td>0.51</td>\n      <td>-4.2028</td>\n      <td>0.3200</td>\n    </tr>\n    <tr>\n      <th>lasso_cds_dt</th>\n      <td>Lasso w/ Cond. Deseasonalize &amp; Detrending</td>\n      <td>1.1792</td>\n      <td>1.1312</td>\n      <td>2621.7147</td>\n      <td>3287.4517</td>\n      <td>0.7649</td>\n      <td>0.51</td>\n      <td>-4.2029</td>\n      <td>0.3267</td>\n    </tr>\n    <tr>\n      <th>arima</th>\n      <td>ARIMA</td>\n      <td>1.2073</td>\n      <td>1.0865</td>\n      <td>2749.4199</td>\n      <td>3202.1317</td>\n      <td>0.966</td>\n      <td>0.6368</td>\n      <td>-4.329</td>\n      <td>0.1467</td>\n    </tr>\n    <tr>\n      <th>huber_cds_dt</th>\n      <td>Huber w/ Cond. Deseasonalize &amp; Detrending</td>\n      <td>1.2605</td>\n      <td>1.1415</td>\n      <td>2823.4725</td>\n      <td>3303.8954</td>\n      <td>0.7808</td>\n      <td>0.5475</td>\n      <td>-4.1417</td>\n      <td>0.3533</td>\n    </tr>\n    <tr>\n      <th>dt_cds_dt</th>\n      <td>Decision Tree w/ Cond. Deseasonalize &amp; Detrending</td>\n      <td>1.37</td>\n      <td>1.2751</td>\n      <td>2930.6741</td>\n      <td>3493.4009</td>\n      <td>0.974</td>\n      <td>0.5492</td>\n      <td>-3.5569</td>\n      <td>1.9800</td>\n    </tr>\n    <tr>\n      <th>br_cds_dt</th>\n      <td>Bayesian Ridge w/ Cond. Deseasonalize &amp; Detren...</td>\n      <td>4.739</td>\n      <td>4.8399</td>\n      <td>11434.0921</td>\n      <td>15549.2927</td>\n      <td>4.1557</td>\n      <td>0.7744</td>\n      <td>-215.7573</td>\n      <td>0.3333</td>\n    </tr>\n    <tr>\n      <th>lr_cds_dt</th>\n      <td>Linear w/ Cond. Deseasonalize &amp; Detrending</td>\n      <td>4.7745</td>\n      <td>4.8602</td>\n      <td>11509.2802</td>\n      <td>15605.4041</td>\n      <td>4.1713</td>\n      <td>0.7884</td>\n      <td>-215.8827</td>\n      <td>0.4733</td>\n    </tr>\n    <tr>\n      <th>ridge_cds_dt</th>\n      <td>Ridge w/ Cond. Deseasonalize &amp; Detrending</td>\n      <td>4.7745</td>\n      <td>4.8602</td>\n      <td>11509.2661</td>\n      <td>15605.3821</td>\n      <td>4.1712</td>\n      <td>0.7884</td>\n      <td>-215.882</td>\n      <td>0.3333</td>\n    </tr>\n    <tr>\n      <th>llar_cds_dt</th>\n      <td>Lasso Least Angular Regressor w/ Cond. Deseaso...</td>\n      <td>537.9693</td>\n      <td>700.1213</td>\n      <td>1329566.9125</td>\n      <td>2312206.5155</td>\n      <td>447.5522</td>\n      <td>0.855</td>\n      <td>-5618407.9049</td>\n      <td>0.3333</td>\n    </tr>\n    <tr>\n      <th>omp_cds_dt</th>\n      <td>Orthogonal Matching Pursuit w/ Cond. Deseasona...</td>\n      <td>538.7363</td>\n      <td>701.129</td>\n      <td>1331464.3164</td>\n      <td>2315537.9698</td>\n      <td>448.1953</td>\n      <td>0.8523</td>\n      <td>-5634736.5317</td>\n      <td>0.3267</td>\n    </tr>\n  </tbody>\n</table>\n</div>",
       "datasetInfos": [],
       "metadata": {},
       "removedWidgets": [],
       "textData": null,
       "type": "htmlSandbox"
      }
     },
     "output_type": "display_data"
    },
    {
     "output_type": "stream",
     "name": "stderr",
     "output_type": "stream",
     "text": [
      "\rProcessing:   0%|          | 0/113 [00:00<?, ?it/s]\rProcessing:   4%|▍         | 5/113 [00:04<01:44,  1.03it/s]\rProcessing:   6%|▌         | 7/113 [00:05<01:17,  1.37it/s]\rProcessing:   8%|▊         | 9/113 [00:05<00:52,  1.98it/s]\rProcessing:  10%|▉         | 11/113 [00:06<00:43,  2.32it/s]\rProcessing:  12%|█▏        | 13/113 [00:06<00:34,  2.91it/s]\rProcessing:  13%|█▎        | 15/113 [00:07<00:31,  3.07it/s]\rProcessing:  15%|█▌        | 17/113 [00:07<00:23,  4.13it/s]\rProcessing:  17%|█▋        | 19/113 [00:07<00:23,  3.93it/s]\rProcessing:  19%|█▊        | 21/113 [00:08<00:22,  4.08it/s]\rProcessing:  20%|██        | 23/113 [00:08<00:22,  3.93it/s]\rProcessing:  22%|██▏       | 25/113 [00:09<00:26,  3.27it/s]\rProcessing:  24%|██▍       | 27/113 [00:10<00:25,  3.36it/s]\rProcessing:  26%|██▌       | 29/113 [00:10<00:28,  2.99it/s]\rProcessing:  27%|██▋       | 31/113 [00:11<00:26,  3.14it/s]\rProcessing:  29%|██▉       | 33/113 [00:11<00:21,  3.76it/s]\rProcessing:  31%|███       | 35/113 [00:12<00:20,  3.72it/s]\rProcessing:  33%|███▎      | 37/113 [00:12<00:17,  4.27it/s]\rProcessing:  35%|███▍      | 39/113 [00:13<00:18,  4.00it/s]\rProcessing:  36%|███▋      | 41/113 [00:13<00:16,  4.47it/s]\rProcessing:  38%|███▊      | 43/113 [00:14<00:16,  4.19it/s]\rProcessing:  40%|███▉      | 45/113 [00:14<00:14,  4.68it/s]\rProcessing:  42%|████▏     | 47/113 [00:14<00:15,  4.30it/s]\rProcessing:  43%|████▎     | 49/113 [00:15<00:12,  5.29it/s]\rProcessing:  45%|████▌     | 51/113 [00:15<00:13,  4.66it/s]\rProcessing:  47%|████▋     | 53/113 [00:15<00:10,  5.69it/s]\rProcessing:  49%|████▊     | 55/113 [00:16<00:11,  4.86it/s]\rProcessing:  50%|█████     | 57/113 [00:16<00:10,  5.49it/s]\rProcessing:  52%|█████▏    | 59/113 [00:17<00:11,  4.62it/s]\rProcessing:  54%|█████▍    | 61/113 [00:17<00:08,  5.99it/s]\rProcessing:  56%|█████▌    | 63/113 [00:17<00:10,  4.95it/s]\rProcessing:  58%|█████▊    | 65/113 [00:19<00:17,  2.81it/s]\rProcessing:  59%|█████▉    | 67/113 [00:19<00:15,  2.99it/s]\rProcessing:  61%|██████    | 69/113 [00:20<00:16,  2.63it/s]\rProcessing:  63%|██████▎   | 71/113 [00:21<00:14,  2.85it/s]\rProcessing:  65%|██████▍   | 73/113 [00:22<00:15,  2.52it/s]\rProcessing:  66%|██████▋   | 75/113 [00:23<00:13,  2.75it/s]\rProcessing:  68%|██████▊   | 77/113 [00:24<00:14,  2.48it/s]\rProcessing:  70%|██████▉   | 79/113 [00:24<00:12,  2.71it/s]\rProcessing:  72%|███████▏  | 81/113 [00:25<00:13,  2.44it/s]\rProcessing:  73%|███████▎  | 83/113 [00:26<00:11,  2.68it/s]\rProcessing:  75%|███████▌  | 85/113 [00:27<00:11,  2.42it/s]\rProcessing:  77%|███████▋  | 87/113 [00:27<00:09,  2.66it/s]\rProcessing:  79%|███████▉  | 89/113 [00:28<00:10,  2.36it/s]\rProcessing:  81%|████████  | 91/113 [00:29<00:08,  2.61it/s]\rProcessing:  82%|████████▏ | 93/113 [00:30<00:08,  2.40it/s]\rProcessing:  84%|████████▍ | 95/113 [00:31<00:06,  2.64it/s]\rProcessing:  86%|████████▌ | 97/113 [00:31<00:04,  3.29it/s]\rProcessing:  88%|████████▊ | 99/113 [00:36<00:14,  1.00s/it]\rProcessing:  89%|████████▉ | 101/113 [00:42<00:19,  1.59s/it]\rProcessing:  91%|█████████ | 103/113 [00:43<00:12,  1.21s/it]\rProcessing:  93%|█████████▎| 105/113 [00:45<00:09,  1.17s/it]\rProcessing:  95%|█████████▍| 107/113 [00:45<00:05,  1.10it/s]\rProcessing:  96%|█████████▋| 109/113 [00:47<00:03,  1.05it/s]\rProcessing:  98%|█████████▊| 111/113 [00:48<00:01,  1.33it/s]\rProcessing: 100%|██████████| 113/113 [00:49<00:00,  1.44it/s]\r                                                             \r"
     ]
    }
   ],
   "source": [
    "# compare baseline models\n",
    "best = compare_models()"
   ]
  },
  {
   "cell_type": "markdown",
   "metadata": {
    "application/vnd.databricks.v1+cell": {
     "cellMetadata": {},
     "inputWidgets": {},
     "nuid": "8dab604e-8f80-46b4-99b2-d089939d0607",
     "showTitle": false,
     "title": ""
    }
   },
   "source": [
    "### Based in the metrics, the Seasonal Naive Forecaster\t(\"snaive\") model returned the best result"
   ]
  },
  {
   "cell_type": "code",
   "execution_count": 0,
   "metadata": {
    "application/vnd.databricks.v1+cell": {
     "cellMetadata": {
      "byteLimit": 2048000,
      "rowLimit": 10000
     },
     "inputWidgets": {},
     "nuid": "74dd84c2-f708-4180-bdae-c4dd8b563ee3",
     "showTitle": false,
     "title": ""
    }
   },
   "outputs": [
    {
     "output_type": "display_data",
     "data": {
      "text/html": [
       "<div>\n",
       "<style scoped>\n",
       "    .dataframe tbody tr th:only-of-type {\n",
       "        vertical-align: middle;\n",
       "    }\n",
       "\n",
       "    .dataframe tbody tr th {\n",
       "        vertical-align: top;\n",
       "    }\n",
       "\n",
       "    .dataframe thead th {\n",
       "        text-align: right;\n",
       "    }\n",
       "</style>\n",
       "<table border=\"1\" class=\"dataframe\">\n",
       "  <thead>\n",
       "    <tr style=\"text-align: right;\">\n",
       "      <th></th>\n",
       "      <th>cutoff</th>\n",
       "      <th>MASE</th>\n",
       "      <th>RMSSE</th>\n",
       "      <th>MAE</th>\n",
       "      <th>RMSE</th>\n",
       "      <th>MAPE</th>\n",
       "      <th>SMAPE</th>\n",
       "      <th>R2</th>\n",
       "    </tr>\n",
       "  </thead>\n",
       "  <tbody>\n",
       "    <tr>\n",
       "      <th>0</th>\n",
       "      <td>2011-08</td>\n",
       "      <td>0.8318</td>\n",
       "      <td>0.7623</td>\n",
       "      <td>2056.3000</td>\n",
       "      <td>2518.1676</td>\n",
       "      <td>0.6902</td>\n",
       "      <td>0.6043</td>\n",
       "      <td>-1.2238</td>\n",
       "    </tr>\n",
       "    <tr>\n",
       "      <th>1</th>\n",
       "      <td>2012-06</td>\n",
       "      <td>0.8665</td>\n",
       "      <td>0.7867</td>\n",
       "      <td>1790.9000</td>\n",
       "      <td>2046.8073</td>\n",
       "      <td>0.4081</td>\n",
       "      <td>0.5545</td>\n",
       "      <td>-1.4468</td>\n",
       "    </tr>\n",
       "    <tr>\n",
       "      <th>2</th>\n",
       "      <td>2013-04</td>\n",
       "      <td>0.7476</td>\n",
       "      <td>0.7753</td>\n",
       "      <td>1413.7000</td>\n",
       "      <td>1807.4176</td>\n",
       "      <td>0.2571</td>\n",
       "      <td>0.2925</td>\n",
       "      <td>0.1593</td>\n",
       "    </tr>\n",
       "    <tr>\n",
       "      <th>Mean</th>\n",
       "      <td>NaN</td>\n",
       "      <td>0.8153</td>\n",
       "      <td>0.7748</td>\n",
       "      <td>1753.6333</td>\n",
       "      <td>2124.1308</td>\n",
       "      <td>0.4518</td>\n",
       "      <td>0.4838</td>\n",
       "      <td>-0.8371</td>\n",
       "    </tr>\n",
       "    <tr>\n",
       "      <th>SD</th>\n",
       "      <td>NaN</td>\n",
       "      <td>0.0499</td>\n",
       "      <td>0.0099</td>\n",
       "      <td>263.6605</td>\n",
       "      <td>295.2689</td>\n",
       "      <td>0.1795</td>\n",
       "      <td>0.1368</td>\n",
       "      <td>0.7104</td>\n",
       "    </tr>\n",
       "  </tbody>\n",
       "</table>\n",
       "</div>"
      ]
     },
     "metadata": {
      "application/vnd.databricks.v1+output": {
       "addedWidgets": {},
       "arguments": {},
       "data": "<div>\n<style scoped>\n    .dataframe tbody tr th:only-of-type {\n        vertical-align: middle;\n    }\n\n    .dataframe tbody tr th {\n        vertical-align: top;\n    }\n\n    .dataframe thead th {\n        text-align: right;\n    }\n</style>\n<table border=\"1\" class=\"dataframe\">\n  <thead>\n    <tr style=\"text-align: right;\">\n      <th></th>\n      <th>cutoff</th>\n      <th>MASE</th>\n      <th>RMSSE</th>\n      <th>MAE</th>\n      <th>RMSE</th>\n      <th>MAPE</th>\n      <th>SMAPE</th>\n      <th>R2</th>\n    </tr>\n  </thead>\n  <tbody>\n    <tr>\n      <th>0</th>\n      <td>2011-08</td>\n      <td>0.8318</td>\n      <td>0.7623</td>\n      <td>2056.3000</td>\n      <td>2518.1676</td>\n      <td>0.6902</td>\n      <td>0.6043</td>\n      <td>-1.2238</td>\n    </tr>\n    <tr>\n      <th>1</th>\n      <td>2012-06</td>\n      <td>0.8665</td>\n      <td>0.7867</td>\n      <td>1790.9000</td>\n      <td>2046.8073</td>\n      <td>0.4081</td>\n      <td>0.5545</td>\n      <td>-1.4468</td>\n    </tr>\n    <tr>\n      <th>2</th>\n      <td>2013-04</td>\n      <td>0.7476</td>\n      <td>0.7753</td>\n      <td>1413.7000</td>\n      <td>1807.4176</td>\n      <td>0.2571</td>\n      <td>0.2925</td>\n      <td>0.1593</td>\n    </tr>\n    <tr>\n      <th>Mean</th>\n      <td>NaN</td>\n      <td>0.8153</td>\n      <td>0.7748</td>\n      <td>1753.6333</td>\n      <td>2124.1308</td>\n      <td>0.4518</td>\n      <td>0.4838</td>\n      <td>-0.8371</td>\n    </tr>\n    <tr>\n      <th>SD</th>\n      <td>NaN</td>\n      <td>0.0499</td>\n      <td>0.0099</td>\n      <td>263.6605</td>\n      <td>295.2689</td>\n      <td>0.1795</td>\n      <td>0.1368</td>\n      <td>0.7104</td>\n    </tr>\n  </tbody>\n</table>\n</div>",
       "datasetInfos": [],
       "metadata": {},
       "removedWidgets": [],
       "textData": null,
       "type": "htmlSandbox"
      }
     },
     "output_type": "display_data"
    },
    {
     "output_type": "stream",
     "name": "stderr",
     "output_type": "stream",
     "text": [
      "\rProcessing:   0%|          | 0/4 [00:00<?, ?it/s]\rProcessing:  75%|███████▌  | 3/4 [00:00<00:00,  7.50it/s]\r                                                         \r"
     ]
    }
   ],
   "source": [
    "# train a dt model with default params\n",
    "dt = create_model('snaive')"
   ]
  },
  {
   "cell_type": "markdown",
   "metadata": {
    "application/vnd.databricks.v1+cell": {
     "cellMetadata": {},
     "inputWidgets": {},
     "nuid": "e53c3d5e-caed-4f07-a831-1ca7c84b03a9",
     "showTitle": false,
     "title": ""
    }
   },
   "source": [
    "### Tune the model created, Seasonal Naive Forecaster\t(\"snaive\"), optimizing by the metric MAE"
   ]
  },
  {
   "cell_type": "code",
   "execution_count": 0,
   "metadata": {
    "application/vnd.databricks.v1+cell": {
     "cellMetadata": {
      "byteLimit": 2048000,
      "rowLimit": 10000
     },
     "inputWidgets": {},
     "nuid": "17cd6400-bf80-4a70-a02f-6b1e135db443",
     "showTitle": false,
     "title": ""
    }
   },
   "outputs": [
    {
     "output_type": "display_data",
     "data": {
      "text/html": [
       "<div>\n",
       "<style scoped>\n",
       "    .dataframe tbody tr th:only-of-type {\n",
       "        vertical-align: middle;\n",
       "    }\n",
       "\n",
       "    .dataframe tbody tr th {\n",
       "        vertical-align: top;\n",
       "    }\n",
       "\n",
       "    .dataframe thead th {\n",
       "        text-align: right;\n",
       "    }\n",
       "</style>\n",
       "<table border=\"1\" class=\"dataframe\">\n",
       "  <thead>\n",
       "    <tr style=\"text-align: right;\">\n",
       "      <th></th>\n",
       "      <th>cutoff</th>\n",
       "      <th>MASE</th>\n",
       "      <th>RMSSE</th>\n",
       "      <th>MAE</th>\n",
       "      <th>RMSE</th>\n",
       "      <th>MAPE</th>\n",
       "      <th>SMAPE</th>\n",
       "      <th>R2</th>\n",
       "    </tr>\n",
       "  </thead>\n",
       "  <tbody>\n",
       "    <tr>\n",
       "      <th>0</th>\n",
       "      <td>2011-08</td>\n",
       "      <td>0.8318</td>\n",
       "      <td>0.7623</td>\n",
       "      <td>2056.3000</td>\n",
       "      <td>2518.1676</td>\n",
       "      <td>0.6902</td>\n",
       "      <td>0.6043</td>\n",
       "      <td>-1.2238</td>\n",
       "    </tr>\n",
       "    <tr>\n",
       "      <th>1</th>\n",
       "      <td>2012-06</td>\n",
       "      <td>0.8665</td>\n",
       "      <td>0.7867</td>\n",
       "      <td>1790.9000</td>\n",
       "      <td>2046.8073</td>\n",
       "      <td>0.4081</td>\n",
       "      <td>0.5545</td>\n",
       "      <td>-1.4468</td>\n",
       "    </tr>\n",
       "    <tr>\n",
       "      <th>2</th>\n",
       "      <td>2013-04</td>\n",
       "      <td>0.7476</td>\n",
       "      <td>0.7753</td>\n",
       "      <td>1413.7000</td>\n",
       "      <td>1807.4176</td>\n",
       "      <td>0.2571</td>\n",
       "      <td>0.2925</td>\n",
       "      <td>0.1593</td>\n",
       "    </tr>\n",
       "    <tr>\n",
       "      <th>Mean</th>\n",
       "      <td>NaN</td>\n",
       "      <td>0.8153</td>\n",
       "      <td>0.7748</td>\n",
       "      <td>1753.6333</td>\n",
       "      <td>2124.1308</td>\n",
       "      <td>0.4518</td>\n",
       "      <td>0.4838</td>\n",
       "      <td>-0.8371</td>\n",
       "    </tr>\n",
       "    <tr>\n",
       "      <th>SD</th>\n",
       "      <td>NaN</td>\n",
       "      <td>0.0499</td>\n",
       "      <td>0.0099</td>\n",
       "      <td>263.6605</td>\n",
       "      <td>295.2689</td>\n",
       "      <td>0.1795</td>\n",
       "      <td>0.1368</td>\n",
       "      <td>0.7104</td>\n",
       "    </tr>\n",
       "  </tbody>\n",
       "</table>\n",
       "</div>"
      ]
     },
     "metadata": {
      "application/vnd.databricks.v1+output": {
       "addedWidgets": {},
       "arguments": {},
       "data": "<div>\n<style scoped>\n    .dataframe tbody tr th:only-of-type {\n        vertical-align: middle;\n    }\n\n    .dataframe tbody tr th {\n        vertical-align: top;\n    }\n\n    .dataframe thead th {\n        text-align: right;\n    }\n</style>\n<table border=\"1\" class=\"dataframe\">\n  <thead>\n    <tr style=\"text-align: right;\">\n      <th></th>\n      <th>cutoff</th>\n      <th>MASE</th>\n      <th>RMSSE</th>\n      <th>MAE</th>\n      <th>RMSE</th>\n      <th>MAPE</th>\n      <th>SMAPE</th>\n      <th>R2</th>\n    </tr>\n  </thead>\n  <tbody>\n    <tr>\n      <th>0</th>\n      <td>2011-08</td>\n      <td>0.8318</td>\n      <td>0.7623</td>\n      <td>2056.3000</td>\n      <td>2518.1676</td>\n      <td>0.6902</td>\n      <td>0.6043</td>\n      <td>-1.2238</td>\n    </tr>\n    <tr>\n      <th>1</th>\n      <td>2012-06</td>\n      <td>0.8665</td>\n      <td>0.7867</td>\n      <td>1790.9000</td>\n      <td>2046.8073</td>\n      <td>0.4081</td>\n      <td>0.5545</td>\n      <td>-1.4468</td>\n    </tr>\n    <tr>\n      <th>2</th>\n      <td>2013-04</td>\n      <td>0.7476</td>\n      <td>0.7753</td>\n      <td>1413.7000</td>\n      <td>1807.4176</td>\n      <td>0.2571</td>\n      <td>0.2925</td>\n      <td>0.1593</td>\n    </tr>\n    <tr>\n      <th>Mean</th>\n      <td>NaN</td>\n      <td>0.8153</td>\n      <td>0.7748</td>\n      <td>1753.6333</td>\n      <td>2124.1308</td>\n      <td>0.4518</td>\n      <td>0.4838</td>\n      <td>-0.8371</td>\n    </tr>\n    <tr>\n      <th>SD</th>\n      <td>NaN</td>\n      <td>0.0499</td>\n      <td>0.0099</td>\n      <td>263.6605</td>\n      <td>295.2689</td>\n      <td>0.1795</td>\n      <td>0.1368</td>\n      <td>0.7104</td>\n    </tr>\n  </tbody>\n</table>\n</div>",
       "datasetInfos": [],
       "metadata": {},
       "removedWidgets": [],
       "textData": null,
       "type": "htmlSandbox"
      }
     },
     "output_type": "display_data"
    },
    {
     "output_type": "stream",
     "name": "stderr",
     "output_type": "stream",
     "text": [
      "\rProcessing:   0%|          | 0/7 [00:00<?, ?it/s]"
     ]
    },
    {
     "output_type": "stream",
     "name": "stdout",
     "output_type": "stream",
     "text": [
      "Fitting 3 folds for each of 4 candidates, totalling 12 fits\n"
     ]
    },
    {
     "output_type": "stream",
     "name": "stderr",
     "output_type": "stream",
     "text": [
      "[Parallel(n_jobs=-1)]: Using backend LokyBackend with 2 concurrent workers.\n[Parallel(n_jobs=-1)]: Done  12 out of  12 | elapsed:    0.7s finished\n\rProcessing:  43%|████▎     | 3/7 [00:01<00:01,  2.28it/s]\rProcessing:  86%|████████▌ | 6/7 [00:01<00:00,  4.17it/s]\r                                                         \r"
     ]
    }
   ],
   "source": [
    "# tune model with custom grid and metric = MAE\n",
    "tuned_dt = tune_model(dt, optimize = 'MAE')"
   ]
  },
  {
   "cell_type": "markdown",
   "metadata": {
    "application/vnd.databricks.v1+cell": {
     "cellMetadata": {},
     "inputWidgets": {},
     "nuid": "39e5ff1a-ea0f-4842-83c1-e00b403b0b5a",
     "showTitle": false,
     "title": ""
    }
   },
   "source": [
    "### Plot the tuned model forecast for the 10 months in test split"
   ]
  },
  {
   "cell_type": "code",
   "execution_count": 0,
   "metadata": {
    "application/vnd.databricks.v1+cell": {
     "cellMetadata": {
      "byteLimit": 2048000,
      "rowLimit": 10000
     },
     "inputWidgets": {},
     "nuid": "964a5070-579d-4a3e-8bbc-90b626377333",
     "showTitle": false,
     "title": ""
    }
   },
   "outputs": [
    {
     "output_type": "display_data",
     "data": {
      "text/html": [
       "<html>\n",
       "<head><meta charset=\"utf-8\" /></head>\n",
       "<body>\n",
       "    <div>            <script src=\"https://cdnjs.cloudflare.com/ajax/libs/mathjax/2.7.5/MathJax.js?config=TeX-AMS-MML_SVG\"></script><script type=\"text/javascript\">if (window.MathJax) {MathJax.Hub.Config({SVG: {font: \"STIX-Web\"}});}</script>                <script type=\"text/javascript\">window.PlotlyConfig = {MathJaxConfig: 'local'};</script>\n",
       "        <script src=\"https://cdn.plot.ly/plotly-2.9.0.min.js\"></script>                <div id=\"7d9d7443-fd0d-4d7c-8fa3-dbaac9e8f44d\" class=\"plotly-graph-div\" style=\"height:100%; width:100%;\"></div>            <script type=\"text/javascript\">                                    window.PLOTLYENV=window.PLOTLYENV || {};                                    if (document.getElementById(\"7d9d7443-fd0d-4d7c-8fa3-dbaac9e8f44d\")) {                    Plotly.newPlot(                        \"7d9d7443-fd0d-4d7c-8fa3-dbaac9e8f44d\",                        [{\"line\":{\"color\":\"#1f77b4\"},\"marker\":{\"size\":5},\"mode\":\"lines+markers\",\"name\":\"Forecast | Seasonal Naive Forecaster\",\"showlegend\":true,\"x\":[\"2014-03-01T00:00:00\",\"2014-04-01T00:00:00\",\"2014-05-01T00:00:00\",\"2014-06-01T00:00:00\",\"2014-07-01T00:00:00\",\"2014-08-01T00:00:00\",\"2014-09-01T00:00:00\",\"2014-10-01T00:00:00\",\"2014-11-01T00:00:00\",\"2014-12-01T00:00:00\"],\"y\":[6300.0,4616.0,7443.0,7233.0,3387.0,2005.0,6300.0,4616.0,7443.0,7233.0],\"type\":\"scatter\"},{\"line\":{\"width\":0},\"marker\":{\"color\":\"#68BBE3\"},\"mode\":\"lines\",\"name\":\"Lower Interval\",\"showlegend\":false,\"x\":[\"2014-03-01T00:00:00\",\"2014-04-01T00:00:00\",\"2014-05-01T00:00:00\",\"2014-06-01T00:00:00\",\"2014-07-01T00:00:00\",\"2014-08-01T00:00:00\",\"2014-09-01T00:00:00\",\"2014-10-01T00:00:00\",\"2014-11-01T00:00:00\",\"2014-12-01T00:00:00\"],\"y\":[2410.3936,726.3936,3553.3936,3343.3936,-502.6064,-1884.6064,799.2658,-884.7342,1942.2658,1732.2658],\"type\":\"scatter\"},{\"fill\":\"tonexty\",\"fillcolor\":\"rgba(104,187,227,0.5)\",\"line\":{\"width\":0},\"marker\":{\"color\":\"#68BBE3\"},\"mode\":\"lines\",\"name\":\"Prediction Interval | Seasonal Naive Forecaster\",\"showlegend\":true,\"x\":[\"2014-03-01T00:00:00\",\"2014-04-01T00:00:00\",\"2014-05-01T00:00:00\",\"2014-06-01T00:00:00\",\"2014-07-01T00:00:00\",\"2014-08-01T00:00:00\",\"2014-09-01T00:00:00\",\"2014-10-01T00:00:00\",\"2014-11-01T00:00:00\",\"2014-12-01T00:00:00\"],\"y\":[10189.6064,8505.6064,11332.6064,11122.6064,7276.6064,5894.6064,11800.7342,10116.7342,12943.7342,12733.7342],\"type\":\"scatter\"},{\"marker\":{\"color\":\"#3f3f3f\",\"size\":5},\"mode\":\"lines+markers\",\"name\":\"Original\",\"showlegend\":true,\"x\":[\"2011-01-01T00:00:00\",\"2011-02-01T00:00:00\",\"2011-03-01T00:00:00\",\"2011-04-01T00:00:00\",\"2011-05-01T00:00:00\",\"2011-06-01T00:00:00\",\"2011-07-01T00:00:00\",\"2011-08-01T00:00:00\",\"2011-09-01T00:00:00\",\"2011-10-01T00:00:00\",\"2011-11-01T00:00:00\",\"2011-12-01T00:00:00\",\"2012-01-01T00:00:00\",\"2012-02-01T00:00:00\",\"2012-03-01T00:00:00\",\"2012-04-01T00:00:00\",\"2012-05-01T00:00:00\",\"2012-06-01T00:00:00\",\"2012-07-01T00:00:00\",\"2012-08-01T00:00:00\",\"2012-09-01T00:00:00\",\"2012-10-01T00:00:00\",\"2012-11-01T00:00:00\",\"2012-12-01T00:00:00\",\"2013-01-01T00:00:00\",\"2013-02-01T00:00:00\",\"2013-03-01T00:00:00\",\"2013-04-01T00:00:00\",\"2013-05-01T00:00:00\",\"2013-06-01T00:00:00\",\"2013-07-01T00:00:00\",\"2013-08-01T00:00:00\",\"2013-09-01T00:00:00\",\"2013-10-01T00:00:00\",\"2013-11-01T00:00:00\",\"2013-12-01T00:00:00\",\"2014-01-01T00:00:00\",\"2014-02-01T00:00:00\",\"2014-03-01T00:00:00\",\"2014-04-01T00:00:00\",\"2014-05-01T00:00:00\",\"2014-06-01T00:00:00\",\"2014-07-01T00:00:00\",\"2014-08-01T00:00:00\",\"2014-09-01T00:00:00\",\"2014-10-01T00:00:00\",\"2014-11-01T00:00:00\",\"2014-12-01T00:00:00\"],\"y\":[1977.0,1361.0,1835.0,2380.0,2280.0,3884.0,1696.0,6024.0,3659.0,3265.0,7034.0,5279.0,2358.0,1586.0,3941.0,1257.0,5238.0,3466.0,3092.0,4608.0,4735.0,4538.0,6984.0,6475.0,3479.0,3085.0,3475.0,3494.0,7508.0,8451.0,4857.0,7008.0,6300.0,4616.0,7443.0,7233.0,3387.0,2005.0,4524.0,4124.0,5999.0,6690.0,3695.0,7868.0,8674.0,8322.0,8799.0,10802.0],\"type\":\"scatter\"}],                        {\"title\":{\"text\":\"Actual vs. 'Out-of-Sample' Forecast | Total_Sales\"},\"xaxis\":{\"title\":{\"text\":\"Time\"}},\"yaxis\":{\"title\":{\"text\":\"Values\"}},\"template\":{\"data\":{\"barpolar\":[{\"marker\":{\"line\":{\"color\":\"rgb(237,237,237)\",\"width\":0.5},\"pattern\":{\"fillmode\":\"overlay\",\"size\":10,\"solidity\":0.2}},\"type\":\"barpolar\"}],\"bar\":[{\"error_x\":{\"color\":\"rgb(51,51,51)\"},\"error_y\":{\"color\":\"rgb(51,51,51)\"},\"marker\":{\"line\":{\"color\":\"rgb(237,237,237)\",\"width\":0.5},\"pattern\":{\"fillmode\":\"overlay\",\"size\":10,\"solidity\":0.2}},\"type\":\"bar\"}],\"carpet\":[{\"aaxis\":{\"endlinecolor\":\"rgb(51,51,51)\",\"gridcolor\":\"white\",\"linecolor\":\"white\",\"minorgridcolor\":\"white\",\"startlinecolor\":\"rgb(51,51,51)\"},\"baxis\":{\"endlinecolor\":\"rgb(51,51,51)\",\"gridcolor\":\"white\",\"linecolor\":\"white\",\"minorgridcolor\":\"white\",\"startlinecolor\":\"rgb(51,51,51)\"},\"type\":\"carpet\"}],\"choropleth\":[{\"colorbar\":{\"outlinewidth\":0,\"tickcolor\":\"rgb(237,237,237)\",\"ticklen\":6,\"ticks\":\"inside\"},\"type\":\"choropleth\"}],\"contourcarpet\":[{\"colorbar\":{\"outlinewidth\":0,\"tickcolor\":\"rgb(237,237,237)\",\"ticklen\":6,\"ticks\":\"inside\"},\"type\":\"contourcarpet\"}],\"contour\":[{\"colorbar\":{\"outlinewidth\":0,\"tickcolor\":\"rgb(237,237,237)\",\"ticklen\":6,\"ticks\":\"inside\"},\"colorscale\":[[0,\"rgb(20,44,66)\"],[1,\"rgb(90,179,244)\"]],\"type\":\"contour\"}],\"heatmapgl\":[{\"colorbar\":{\"outlinewidth\":0,\"tickcolor\":\"rgb(237,237,237)\",\"ticklen\":6,\"ticks\":\"inside\"},\"colorscale\":[[0,\"rgb(20,44,66)\"],[1,\"rgb(90,179,244)\"]],\"type\":\"heatmapgl\"}],\"heatmap\":[{\"colorbar\":{\"outlinewidth\":0,\"tickcolor\":\"rgb(237,237,237)\",\"ticklen\":6,\"ticks\":\"inside\"},\"colorscale\":[[0,\"rgb(20,44,66)\"],[1,\"rgb(90,179,244)\"]],\"type\":\"heatmap\"}],\"histogram2dcontour\":[{\"colorbar\":{\"outlinewidth\":0,\"tickcolor\":\"rgb(237,237,237)\",\"ticklen\":6,\"ticks\":\"inside\"},\"colorscale\":[[0,\"rgb(20,44,66)\"],[1,\"rgb(90,179,244)\"]],\"type\":\"histogram2dcontour\"}],\"histogram2d\":[{\"colorbar\":{\"outlinewidth\":0,\"tickcolor\":\"rgb(237,237,237)\",\"ticklen\":6,\"ticks\":\"inside\"},\"colorscale\":[[0,\"rgb(20,44,66)\"],[1,\"rgb(90,179,244)\"]],\"type\":\"histogram2d\"}],\"histogram\":[{\"marker\":{\"pattern\":{\"fillmode\":\"overlay\",\"size\":10,\"solidity\":0.2}},\"type\":\"histogram\"}],\"mesh3d\":[{\"colorbar\":{\"outlinewidth\":0,\"tickcolor\":\"rgb(237,237,237)\",\"ticklen\":6,\"ticks\":\"inside\"},\"type\":\"mesh3d\"}],\"parcoords\":[{\"line\":{\"colorbar\":{\"outlinewidth\":0,\"tickcolor\":\"rgb(237,237,237)\",\"ticklen\":6,\"ticks\":\"inside\"}},\"type\":\"parcoords\"}],\"pie\":[{\"automargin\":true,\"type\":\"pie\"}],\"scatter3d\":[{\"line\":{\"colorbar\":{\"outlinewidth\":0,\"tickcolor\":\"rgb(237,237,237)\",\"ticklen\":6,\"ticks\":\"inside\"}},\"marker\":{\"colorbar\":{\"outlinewidth\":0,\"tickcolor\":\"rgb(237,237,237)\",\"ticklen\":6,\"ticks\":\"inside\"}},\"type\":\"scatter3d\"}],\"scattercarpet\":[{\"marker\":{\"colorbar\":{\"outlinewidth\":0,\"tickcolor\":\"rgb(237,237,237)\",\"ticklen\":6,\"ticks\":\"inside\"}},\"type\":\"scattercarpet\"}],\"scattergeo\":[{\"marker\":{\"colorbar\":{\"outlinewidth\":0,\"tickcolor\":\"rgb(237,237,237)\",\"ticklen\":6,\"ticks\":\"inside\"}},\"type\":\"scattergeo\"}],\"scattergl\":[{\"marker\":{\"colorbar\":{\"outlinewidth\":0,\"tickcolor\":\"rgb(237,237,237)\",\"ticklen\":6,\"ticks\":\"inside\"}},\"type\":\"scattergl\"}],\"scattermapbox\":[{\"marker\":{\"colorbar\":{\"outlinewidth\":0,\"tickcolor\":\"rgb(237,237,237)\",\"ticklen\":6,\"ticks\":\"inside\"}},\"type\":\"scattermapbox\"}],\"scatterpolargl\":[{\"marker\":{\"colorbar\":{\"outlinewidth\":0,\"tickcolor\":\"rgb(237,237,237)\",\"ticklen\":6,\"ticks\":\"inside\"}},\"type\":\"scatterpolargl\"}],\"scatterpolar\":[{\"marker\":{\"colorbar\":{\"outlinewidth\":0,\"tickcolor\":\"rgb(237,237,237)\",\"ticklen\":6,\"ticks\":\"inside\"}},\"type\":\"scatterpolar\"}],\"scatter\":[{\"marker\":{\"colorbar\":{\"outlinewidth\":0,\"tickcolor\":\"rgb(237,237,237)\",\"ticklen\":6,\"ticks\":\"inside\"}},\"type\":\"scatter\"}],\"scatterternary\":[{\"marker\":{\"colorbar\":{\"outlinewidth\":0,\"tickcolor\":\"rgb(237,237,237)\",\"ticklen\":6,\"ticks\":\"inside\"}},\"type\":\"scatterternary\"}],\"surface\":[{\"colorbar\":{\"outlinewidth\":0,\"tickcolor\":\"rgb(237,237,237)\",\"ticklen\":6,\"ticks\":\"inside\"},\"colorscale\":[[0,\"rgb(20,44,66)\"],[1,\"rgb(90,179,244)\"]],\"type\":\"surface\"}],\"table\":[{\"cells\":{\"fill\":{\"color\":\"rgb(237,237,237)\"},\"line\":{\"color\":\"white\"}},\"header\":{\"fill\":{\"color\":\"rgb(217,217,217)\"},\"line\":{\"color\":\"white\"}},\"type\":\"table\"}]},\"layout\":{\"annotationdefaults\":{\"arrowhead\":0,\"arrowwidth\":1},\"autotypenumbers\":\"strict\",\"coloraxis\":{\"colorbar\":{\"outlinewidth\":0,\"tickcolor\":\"rgb(237,237,237)\",\"ticklen\":6,\"ticks\":\"inside\"}},\"colorscale\":{\"sequential\":[[0,\"rgb(20,44,66)\"],[1,\"rgb(90,179,244)\"]],\"sequentialminus\":[[0,\"rgb(20,44,66)\"],[1,\"rgb(90,179,244)\"]]},\"colorway\":[\"#F8766D\",\"#A3A500\",\"#00BF7D\",\"#00B0F6\",\"#E76BF3\"],\"font\":{\"color\":\"rgb(51,51,51)\"},\"geo\":{\"bgcolor\":\"white\",\"lakecolor\":\"white\",\"landcolor\":\"rgb(237,237,237)\",\"showlakes\":true,\"showland\":true,\"subunitcolor\":\"white\"},\"hoverlabel\":{\"align\":\"left\"},\"hovermode\":\"closest\",\"paper_bgcolor\":\"white\",\"plot_bgcolor\":\"rgb(237,237,237)\",\"polar\":{\"angularaxis\":{\"gridcolor\":\"white\",\"linecolor\":\"white\",\"showgrid\":true,\"tickcolor\":\"rgb(51,51,51)\",\"ticks\":\"outside\"},\"bgcolor\":\"rgb(237,237,237)\",\"radialaxis\":{\"gridcolor\":\"white\",\"linecolor\":\"white\",\"showgrid\":true,\"tickcolor\":\"rgb(51,51,51)\",\"ticks\":\"outside\"}},\"scene\":{\"xaxis\":{\"backgroundcolor\":\"rgb(237,237,237)\",\"gridcolor\":\"white\",\"gridwidth\":2,\"linecolor\":\"white\",\"showbackground\":true,\"showgrid\":true,\"tickcolor\":\"rgb(51,51,51)\",\"ticks\":\"outside\",\"zerolinecolor\":\"white\"},\"yaxis\":{\"backgroundcolor\":\"rgb(237,237,237)\",\"gridcolor\":\"white\",\"gridwidth\":2,\"linecolor\":\"white\",\"showbackground\":true,\"showgrid\":true,\"tickcolor\":\"rgb(51,51,51)\",\"ticks\":\"outside\",\"zerolinecolor\":\"white\"},\"zaxis\":{\"backgroundcolor\":\"rgb(237,237,237)\",\"gridcolor\":\"white\",\"gridwidth\":2,\"linecolor\":\"white\",\"showbackground\":true,\"showgrid\":true,\"tickcolor\":\"rgb(51,51,51)\",\"ticks\":\"outside\",\"zerolinecolor\":\"white\"}},\"shapedefaults\":{\"fillcolor\":\"black\",\"line\":{\"width\":0},\"opacity\":0.3},\"ternary\":{\"aaxis\":{\"gridcolor\":\"white\",\"linecolor\":\"white\",\"showgrid\":true,\"tickcolor\":\"rgb(51,51,51)\",\"ticks\":\"outside\"},\"baxis\":{\"gridcolor\":\"white\",\"linecolor\":\"white\",\"showgrid\":true,\"tickcolor\":\"rgb(51,51,51)\",\"ticks\":\"outside\"},\"bgcolor\":\"rgb(237,237,237)\",\"caxis\":{\"gridcolor\":\"white\",\"linecolor\":\"white\",\"showgrid\":true,\"tickcolor\":\"rgb(51,51,51)\",\"ticks\":\"outside\"}},\"xaxis\":{\"automargin\":true,\"gridcolor\":\"white\",\"linecolor\":\"white\",\"showgrid\":true,\"tickcolor\":\"rgb(51,51,51)\",\"ticks\":\"outside\",\"title\":{\"standoff\":15},\"zerolinecolor\":\"white\"},\"yaxis\":{\"automargin\":true,\"gridcolor\":\"white\",\"linecolor\":\"white\",\"showgrid\":true,\"tickcolor\":\"rgb(51,51,51)\",\"ticks\":\"outside\",\"title\":{\"standoff\":15},\"zerolinecolor\":\"white\"}}},\"showlegend\":true},                        {\"responsive\": true}                    )                };                            </script>        </div>\n",
       "</body>\n",
       "</html>"
      ]
     },
     "metadata": {
      "application/vnd.databricks.v1+output": {
       "addedWidgets": {},
       "arguments": {},
       "data": "<html>\n<head><meta charset=\"utf-8\" /></head>\n<body>\n    <div>            <script src=\"https://cdnjs.cloudflare.com/ajax/libs/mathjax/2.7.5/MathJax.js?config=TeX-AMS-MML_SVG\"></script><script type=\"text/javascript\">if (window.MathJax) {MathJax.Hub.Config({SVG: {font: \"STIX-Web\"}});}</script>                <script type=\"text/javascript\">window.PlotlyConfig = {MathJaxConfig: 'local'};</script>\n        <script src=\"https://cdn.plot.ly/plotly-2.9.0.min.js\"></script>                <div id=\"7d9d7443-fd0d-4d7c-8fa3-dbaac9e8f44d\" class=\"plotly-graph-div\" style=\"height:100%; width:100%;\"></div>            <script type=\"text/javascript\">                                    window.PLOTLYENV=window.PLOTLYENV || {};                                    if (document.getElementById(\"7d9d7443-fd0d-4d7c-8fa3-dbaac9e8f44d\")) {                    Plotly.newPlot(                        \"7d9d7443-fd0d-4d7c-8fa3-dbaac9e8f44d\",                        [{\"line\":{\"color\":\"#1f77b4\"},\"marker\":{\"size\":5},\"mode\":\"lines+markers\",\"name\":\"Forecast | Seasonal Naive Forecaster\",\"showlegend\":true,\"x\":[\"2014-03-01T00:00:00\",\"2014-04-01T00:00:00\",\"2014-05-01T00:00:00\",\"2014-06-01T00:00:00\",\"2014-07-01T00:00:00\",\"2014-08-01T00:00:00\",\"2014-09-01T00:00:00\",\"2014-10-01T00:00:00\",\"2014-11-01T00:00:00\",\"2014-12-01T00:00:00\"],\"y\":[6300.0,4616.0,7443.0,7233.0,3387.0,2005.0,6300.0,4616.0,7443.0,7233.0],\"type\":\"scatter\"},{\"line\":{\"width\":0},\"marker\":{\"color\":\"#68BBE3\"},\"mode\":\"lines\",\"name\":\"Lower Interval\",\"showlegend\":false,\"x\":[\"2014-03-01T00:00:00\",\"2014-04-01T00:00:00\",\"2014-05-01T00:00:00\",\"2014-06-01T00:00:00\",\"2014-07-01T00:00:00\",\"2014-08-01T00:00:00\",\"2014-09-01T00:00:00\",\"2014-10-01T00:00:00\",\"2014-11-01T00:00:00\",\"2014-12-01T00:00:00\"],\"y\":[2410.3936,726.3936,3553.3936,3343.3936,-502.6064,-1884.6064,799.2658,-884.7342,1942.2658,1732.2658],\"type\":\"scatter\"},{\"fill\":\"tonexty\",\"fillcolor\":\"rgba(104,187,227,0.5)\",\"line\":{\"width\":0},\"marker\":{\"color\":\"#68BBE3\"},\"mode\":\"lines\",\"name\":\"Prediction Interval | Seasonal Naive Forecaster\",\"showlegend\":true,\"x\":[\"2014-03-01T00:00:00\",\"2014-04-01T00:00:00\",\"2014-05-01T00:00:00\",\"2014-06-01T00:00:00\",\"2014-07-01T00:00:00\",\"2014-08-01T00:00:00\",\"2014-09-01T00:00:00\",\"2014-10-01T00:00:00\",\"2014-11-01T00:00:00\",\"2014-12-01T00:00:00\"],\"y\":[10189.6064,8505.6064,11332.6064,11122.6064,7276.6064,5894.6064,11800.7342,10116.7342,12943.7342,12733.7342],\"type\":\"scatter\"},{\"marker\":{\"color\":\"#3f3f3f\",\"size\":5},\"mode\":\"lines+markers\",\"name\":\"Original\",\"showlegend\":true,\"x\":[\"2011-01-01T00:00:00\",\"2011-02-01T00:00:00\",\"2011-03-01T00:00:00\",\"2011-04-01T00:00:00\",\"2011-05-01T00:00:00\",\"2011-06-01T00:00:00\",\"2011-07-01T00:00:00\",\"2011-08-01T00:00:00\",\"2011-09-01T00:00:00\",\"2011-10-01T00:00:00\",\"2011-11-01T00:00:00\",\"2011-12-01T00:00:00\",\"2012-01-01T00:00:00\",\"2012-02-01T00:00:00\",\"2012-03-01T00:00:00\",\"2012-04-01T00:00:00\",\"2012-05-01T00:00:00\",\"2012-06-01T00:00:00\",\"2012-07-01T00:00:00\",\"2012-08-01T00:00:00\",\"2012-09-01T00:00:00\",\"2012-10-01T00:00:00\",\"2012-11-01T00:00:00\",\"2012-12-01T00:00:00\",\"2013-01-01T00:00:00\",\"2013-02-01T00:00:00\",\"2013-03-01T00:00:00\",\"2013-04-01T00:00:00\",\"2013-05-01T00:00:00\",\"2013-06-01T00:00:00\",\"2013-07-01T00:00:00\",\"2013-08-01T00:00:00\",\"2013-09-01T00:00:00\",\"2013-10-01T00:00:00\",\"2013-11-01T00:00:00\",\"2013-12-01T00:00:00\",\"2014-01-01T00:00:00\",\"2014-02-01T00:00:00\",\"2014-03-01T00:00:00\",\"2014-04-01T00:00:00\",\"2014-05-01T00:00:00\",\"2014-06-01T00:00:00\",\"2014-07-01T00:00:00\",\"2014-08-01T00:00:00\",\"2014-09-01T00:00:00\",\"2014-10-01T00:00:00\",\"2014-11-01T00:00:00\",\"2014-12-01T00:00:00\"],\"y\":[1977.0,1361.0,1835.0,2380.0,2280.0,3884.0,1696.0,6024.0,3659.0,3265.0,7034.0,5279.0,2358.0,1586.0,3941.0,1257.0,5238.0,3466.0,3092.0,4608.0,4735.0,4538.0,6984.0,6475.0,3479.0,3085.0,3475.0,3494.0,7508.0,8451.0,4857.0,7008.0,6300.0,4616.0,7443.0,7233.0,3387.0,2005.0,4524.0,4124.0,5999.0,6690.0,3695.0,7868.0,8674.0,8322.0,8799.0,10802.0],\"type\":\"scatter\"}],                        {\"title\":{\"text\":\"Actual vs. 'Out-of-Sample' Forecast | Total_Sales\"},\"xaxis\":{\"title\":{\"text\":\"Time\"}},\"yaxis\":{\"title\":{\"text\":\"Values\"}},\"template\":{\"data\":{\"barpolar\":[{\"marker\":{\"line\":{\"color\":\"rgb(237,237,237)\",\"width\":0.5},\"pattern\":{\"fillmode\":\"overlay\",\"size\":10,\"solidity\":0.2}},\"type\":\"barpolar\"}],\"bar\":[{\"error_x\":{\"color\":\"rgb(51,51,51)\"},\"error_y\":{\"color\":\"rgb(51,51,51)\"},\"marker\":{\"line\":{\"color\":\"rgb(237,237,237)\",\"width\":0.5},\"pattern\":{\"fillmode\":\"overlay\",\"size\":10,\"solidity\":0.2}},\"type\":\"bar\"}],\"carpet\":[{\"aaxis\":{\"endlinecolor\":\"rgb(51,51,51)\",\"gridcolor\":\"white\",\"linecolor\":\"white\",\"minorgridcolor\":\"white\",\"startlinecolor\":\"rgb(51,51,51)\"},\"baxis\":{\"endlinecolor\":\"rgb(51,51,51)\",\"gridcolor\":\"white\",\"linecolor\":\"white\",\"minorgridcolor\":\"white\",\"startlinecolor\":\"rgb(51,51,51)\"},\"type\":\"carpet\"}],\"choropleth\":[{\"colorbar\":{\"outlinewidth\":0,\"tickcolor\":\"rgb(237,237,237)\",\"ticklen\":6,\"ticks\":\"inside\"},\"type\":\"choropleth\"}],\"contourcarpet\":[{\"colorbar\":{\"outlinewidth\":0,\"tickcolor\":\"rgb(237,237,237)\",\"ticklen\":6,\"ticks\":\"inside\"},\"type\":\"contourcarpet\"}],\"contour\":[{\"colorbar\":{\"outlinewidth\":0,\"tickcolor\":\"rgb(237,237,237)\",\"ticklen\":6,\"ticks\":\"inside\"},\"colorscale\":[[0,\"rgb(20,44,66)\"],[1,\"rgb(90,179,244)\"]],\"type\":\"contour\"}],\"heatmapgl\":[{\"colorbar\":{\"outlinewidth\":0,\"tickcolor\":\"rgb(237,237,237)\",\"ticklen\":6,\"ticks\":\"inside\"},\"colorscale\":[[0,\"rgb(20,44,66)\"],[1,\"rgb(90,179,244)\"]],\"type\":\"heatmapgl\"}],\"heatmap\":[{\"colorbar\":{\"outlinewidth\":0,\"tickcolor\":\"rgb(237,237,237)\",\"ticklen\":6,\"ticks\":\"inside\"},\"colorscale\":[[0,\"rgb(20,44,66)\"],[1,\"rgb(90,179,244)\"]],\"type\":\"heatmap\"}],\"histogram2dcontour\":[{\"colorbar\":{\"outlinewidth\":0,\"tickcolor\":\"rgb(237,237,237)\",\"ticklen\":6,\"ticks\":\"inside\"},\"colorscale\":[[0,\"rgb(20,44,66)\"],[1,\"rgb(90,179,244)\"]],\"type\":\"histogram2dcontour\"}],\"histogram2d\":[{\"colorbar\":{\"outlinewidth\":0,\"tickcolor\":\"rgb(237,237,237)\",\"ticklen\":6,\"ticks\":\"inside\"},\"colorscale\":[[0,\"rgb(20,44,66)\"],[1,\"rgb(90,179,244)\"]],\"type\":\"histogram2d\"}],\"histogram\":[{\"marker\":{\"pattern\":{\"fillmode\":\"overlay\",\"size\":10,\"solidity\":0.2}},\"type\":\"histogram\"}],\"mesh3d\":[{\"colorbar\":{\"outlinewidth\":0,\"tickcolor\":\"rgb(237,237,237)\",\"ticklen\":6,\"ticks\":\"inside\"},\"type\":\"mesh3d\"}],\"parcoords\":[{\"line\":{\"colorbar\":{\"outlinewidth\":0,\"tickcolor\":\"rgb(237,237,237)\",\"ticklen\":6,\"ticks\":\"inside\"}},\"type\":\"parcoords\"}],\"pie\":[{\"automargin\":true,\"type\":\"pie\"}],\"scatter3d\":[{\"line\":{\"colorbar\":{\"outlinewidth\":0,\"tickcolor\":\"rgb(237,237,237)\",\"ticklen\":6,\"ticks\":\"inside\"}},\"marker\":{\"colorbar\":{\"outlinewidth\":0,\"tickcolor\":\"rgb(237,237,237)\",\"ticklen\":6,\"ticks\":\"inside\"}},\"type\":\"scatter3d\"}],\"scattercarpet\":[{\"marker\":{\"colorbar\":{\"outlinewidth\":0,\"tickcolor\":\"rgb(237,237,237)\",\"ticklen\":6,\"ticks\":\"inside\"}},\"type\":\"scattercarpet\"}],\"scattergeo\":[{\"marker\":{\"colorbar\":{\"outlinewidth\":0,\"tickcolor\":\"rgb(237,237,237)\",\"ticklen\":6,\"ticks\":\"inside\"}},\"type\":\"scattergeo\"}],\"scattergl\":[{\"marker\":{\"colorbar\":{\"outlinewidth\":0,\"tickcolor\":\"rgb(237,237,237)\",\"ticklen\":6,\"ticks\":\"inside\"}},\"type\":\"scattergl\"}],\"scattermapbox\":[{\"marker\":{\"colorbar\":{\"outlinewidth\":0,\"tickcolor\":\"rgb(237,237,237)\",\"ticklen\":6,\"ticks\":\"inside\"}},\"type\":\"scattermapbox\"}],\"scatterpolargl\":[{\"marker\":{\"colorbar\":{\"outlinewidth\":0,\"tickcolor\":\"rgb(237,237,237)\",\"ticklen\":6,\"ticks\":\"inside\"}},\"type\":\"scatterpolargl\"}],\"scatterpolar\":[{\"marker\":{\"colorbar\":{\"outlinewidth\":0,\"tickcolor\":\"rgb(237,237,237)\",\"ticklen\":6,\"ticks\":\"inside\"}},\"type\":\"scatterpolar\"}],\"scatter\":[{\"marker\":{\"colorbar\":{\"outlinewidth\":0,\"tickcolor\":\"rgb(237,237,237)\",\"ticklen\":6,\"ticks\":\"inside\"}},\"type\":\"scatter\"}],\"scatterternary\":[{\"marker\":{\"colorbar\":{\"outlinewidth\":0,\"tickcolor\":\"rgb(237,237,237)\",\"ticklen\":6,\"ticks\":\"inside\"}},\"type\":\"scatterternary\"}],\"surface\":[{\"colorbar\":{\"outlinewidth\":0,\"tickcolor\":\"rgb(237,237,237)\",\"ticklen\":6,\"ticks\":\"inside\"},\"colorscale\":[[0,\"rgb(20,44,66)\"],[1,\"rgb(90,179,244)\"]],\"type\":\"surface\"}],\"table\":[{\"cells\":{\"fill\":{\"color\":\"rgb(237,237,237)\"},\"line\":{\"color\":\"white\"}},\"header\":{\"fill\":{\"color\":\"rgb(217,217,217)\"},\"line\":{\"color\":\"white\"}},\"type\":\"table\"}]},\"layout\":{\"annotationdefaults\":{\"arrowhead\":0,\"arrowwidth\":1},\"autotypenumbers\":\"strict\",\"coloraxis\":{\"colorbar\":{\"outlinewidth\":0,\"tickcolor\":\"rgb(237,237,237)\",\"ticklen\":6,\"ticks\":\"inside\"}},\"colorscale\":{\"sequential\":[[0,\"rgb(20,44,66)\"],[1,\"rgb(90,179,244)\"]],\"sequentialminus\":[[0,\"rgb(20,44,66)\"],[1,\"rgb(90,179,244)\"]]},\"colorway\":[\"#F8766D\",\"#A3A500\",\"#00BF7D\",\"#00B0F6\",\"#E76BF3\"],\"font\":{\"color\":\"rgb(51,51,51)\"},\"geo\":{\"bgcolor\":\"white\",\"lakecolor\":\"white\",\"landcolor\":\"rgb(237,237,237)\",\"showlakes\":true,\"showland\":true,\"subunitcolor\":\"white\"},\"hoverlabel\":{\"align\":\"left\"},\"hovermode\":\"closest\",\"paper_bgcolor\":\"white\",\"plot_bgcolor\":\"rgb(237,237,237)\",\"polar\":{\"angularaxis\":{\"gridcolor\":\"white\",\"linecolor\":\"white\",\"showgrid\":true,\"tickcolor\":\"rgb(51,51,51)\",\"ticks\":\"outside\"},\"bgcolor\":\"rgb(237,237,237)\",\"radialaxis\":{\"gridcolor\":\"white\",\"linecolor\":\"white\",\"showgrid\":true,\"tickcolor\":\"rgb(51,51,51)\",\"ticks\":\"outside\"}},\"scene\":{\"xaxis\":{\"backgroundcolor\":\"rgb(237,237,237)\",\"gridcolor\":\"white\",\"gridwidth\":2,\"linecolor\":\"white\",\"showbackground\":true,\"showgrid\":true,\"tickcolor\":\"rgb(51,51,51)\",\"ticks\":\"outside\",\"zerolinecolor\":\"white\"},\"yaxis\":{\"backgroundcolor\":\"rgb(237,237,237)\",\"gridcolor\":\"white\",\"gridwidth\":2,\"linecolor\":\"white\",\"showbackground\":true,\"showgrid\":true,\"tickcolor\":\"rgb(51,51,51)\",\"ticks\":\"outside\",\"zerolinecolor\":\"white\"},\"zaxis\":{\"backgroundcolor\":\"rgb(237,237,237)\",\"gridcolor\":\"white\",\"gridwidth\":2,\"linecolor\":\"white\",\"showbackground\":true,\"showgrid\":true,\"tickcolor\":\"rgb(51,51,51)\",\"ticks\":\"outside\",\"zerolinecolor\":\"white\"}},\"shapedefaults\":{\"fillcolor\":\"black\",\"line\":{\"width\":0},\"opacity\":0.3},\"ternary\":{\"aaxis\":{\"gridcolor\":\"white\",\"linecolor\":\"white\",\"showgrid\":true,\"tickcolor\":\"rgb(51,51,51)\",\"ticks\":\"outside\"},\"baxis\":{\"gridcolor\":\"white\",\"linecolor\":\"white\",\"showgrid\":true,\"tickcolor\":\"rgb(51,51,51)\",\"ticks\":\"outside\"},\"bgcolor\":\"rgb(237,237,237)\",\"caxis\":{\"gridcolor\":\"white\",\"linecolor\":\"white\",\"showgrid\":true,\"tickcolor\":\"rgb(51,51,51)\",\"ticks\":\"outside\"}},\"xaxis\":{\"automargin\":true,\"gridcolor\":\"white\",\"linecolor\":\"white\",\"showgrid\":true,\"tickcolor\":\"rgb(51,51,51)\",\"ticks\":\"outside\",\"title\":{\"standoff\":15},\"zerolinecolor\":\"white\"},\"yaxis\":{\"automargin\":true,\"gridcolor\":\"white\",\"linecolor\":\"white\",\"showgrid\":true,\"tickcolor\":\"rgb(51,51,51)\",\"ticks\":\"outside\",\"title\":{\"standoff\":15},\"zerolinecolor\":\"white\"}}},\"showlegend\":true},                        {\"responsive\": true}                    )                };                            </script>        </div>\n</body>\n</html>",
       "datasetInfos": [],
       "metadata": {},
       "removedWidgets": [],
       "textData": null,
       "type": "htmlSandbox"
      }
     },
     "output_type": "display_data"
    }
   ],
   "source": [
    "# plot forecast\n",
    "plot_model(tuned_dt, plot = 'forecast')"
   ]
  },
  {
   "cell_type": "markdown",
   "metadata": {
    "application/vnd.databricks.v1+cell": {
     "cellMetadata": {},
     "inputWidgets": {},
     "nuid": "7655c455-ddd8-43e4-947d-a6a368be1341",
     "showTitle": false,
     "title": ""
    }
   },
   "source": [
    "### Using the tuned model, plot with the forecast sales results for the next year (2015)"
   ]
  },
  {
   "cell_type": "code",
   "execution_count": 0,
   "metadata": {
    "application/vnd.databricks.v1+cell": {
     "cellMetadata": {
      "byteLimit": 2048000,
      "rowLimit": 10000
     },
     "inputWidgets": {},
     "nuid": "f616da31-8741-4ee7-ac74-4974cc1bc5be",
     "showTitle": false,
     "title": ""
    }
   },
   "outputs": [
    {
     "output_type": "display_data",
     "data": {
      "text/html": [
       "<html>\n",
       "<head><meta charset=\"utf-8\" /></head>\n",
       "<body>\n",
       "    <div>            <script src=\"https://cdnjs.cloudflare.com/ajax/libs/mathjax/2.7.5/MathJax.js?config=TeX-AMS-MML_SVG\"></script><script type=\"text/javascript\">if (window.MathJax) {MathJax.Hub.Config({SVG: {font: \"STIX-Web\"}});}</script>                <script type=\"text/javascript\">window.PlotlyConfig = {MathJaxConfig: 'local'};</script>\n",
       "        <script src=\"https://cdn.plot.ly/plotly-2.9.0.min.js\"></script>                <div id=\"f6e16266-fde8-48e7-971f-74f21b583cc7\" class=\"plotly-graph-div\" style=\"height:100%; width:100%;\"></div>            <script type=\"text/javascript\">                                    window.PLOTLYENV=window.PLOTLYENV || {};                                    if (document.getElementById(\"f6e16266-fde8-48e7-971f-74f21b583cc7\")) {                    Plotly.newPlot(                        \"f6e16266-fde8-48e7-971f-74f21b583cc7\",                        [{\"line\":{\"color\":\"#1f77b4\"},\"marker\":{\"size\":5},\"mode\":\"lines+markers\",\"name\":\"Forecast | Seasonal Naive Forecaster\",\"showlegend\":true,\"x\":[\"2014-03-01T00:00:00\",\"2014-04-01T00:00:00\",\"2014-05-01T00:00:00\",\"2014-06-01T00:00:00\",\"2014-07-01T00:00:00\",\"2014-08-01T00:00:00\",\"2014-09-01T00:00:00\",\"2014-10-01T00:00:00\",\"2014-11-01T00:00:00\",\"2014-12-01T00:00:00\",\"2015-01-01T00:00:00\",\"2015-02-01T00:00:00\",\"2015-03-01T00:00:00\",\"2015-04-01T00:00:00\",\"2015-05-01T00:00:00\",\"2015-06-01T00:00:00\",\"2015-07-01T00:00:00\",\"2015-08-01T00:00:00\",\"2015-09-01T00:00:00\",\"2015-10-01T00:00:00\",\"2015-11-01T00:00:00\",\"2015-12-01T00:00:00\",\"2016-01-01T00:00:00\"],\"y\":[6300.0,4616.0,7443.0,7233.0,3387.0,2005.0,6300.0,4616.0,7443.0,7233.0,3387.0,2005.0,6300.0,4616.0,7443.0,7233.0,3387.0,2005.0,6300.0,4616.0,7443.0,7233.0,3387.0],\"type\":\"scatter\"},{\"line\":{\"width\":0},\"marker\":{\"color\":\"#68BBE3\"},\"mode\":\"lines\",\"name\":\"Lower Interval\",\"showlegend\":false,\"x\":[\"2014-03-01T00:00:00\",\"2014-04-01T00:00:00\",\"2014-05-01T00:00:00\",\"2014-06-01T00:00:00\",\"2014-07-01T00:00:00\",\"2014-08-01T00:00:00\",\"2014-09-01T00:00:00\",\"2014-10-01T00:00:00\",\"2014-11-01T00:00:00\",\"2014-12-01T00:00:00\",\"2015-01-01T00:00:00\",\"2015-02-01T00:00:00\",\"2015-03-01T00:00:00\",\"2015-04-01T00:00:00\",\"2015-05-01T00:00:00\",\"2015-06-01T00:00:00\",\"2015-07-01T00:00:00\",\"2015-08-01T00:00:00\",\"2015-09-01T00:00:00\",\"2015-10-01T00:00:00\",\"2015-11-01T00:00:00\",\"2015-12-01T00:00:00\",\"2016-01-01T00:00:00\"],\"y\":[2410.3936,726.3936,3553.3936,3343.3936,-502.6064,-1884.6064,799.2658,-884.7342,1942.2658,1732.2658,-2113.7342,-3495.7342,-436.996,-2120.996,706.004,496.004,-3349.996,-4731.996,-1479.2129,-3163.2129,-336.2129,-546.2129,-4392.2129],\"type\":\"scatter\"},{\"fill\":\"tonexty\",\"fillcolor\":\"rgba(104,187,227,0.5)\",\"line\":{\"width\":0},\"marker\":{\"color\":\"#68BBE3\"},\"mode\":\"lines\",\"name\":\"Prediction Interval | Seasonal Naive Forecaster\",\"showlegend\":true,\"x\":[\"2014-03-01T00:00:00\",\"2014-04-01T00:00:00\",\"2014-05-01T00:00:00\",\"2014-06-01T00:00:00\",\"2014-07-01T00:00:00\",\"2014-08-01T00:00:00\",\"2014-09-01T00:00:00\",\"2014-10-01T00:00:00\",\"2014-11-01T00:00:00\",\"2014-12-01T00:00:00\",\"2015-01-01T00:00:00\",\"2015-02-01T00:00:00\",\"2015-03-01T00:00:00\",\"2015-04-01T00:00:00\",\"2015-05-01T00:00:00\",\"2015-06-01T00:00:00\",\"2015-07-01T00:00:00\",\"2015-08-01T00:00:00\",\"2015-09-01T00:00:00\",\"2015-10-01T00:00:00\",\"2015-11-01T00:00:00\",\"2015-12-01T00:00:00\",\"2016-01-01T00:00:00\"],\"y\":[10189.6064,8505.6064,11332.6064,11122.6064,7276.6064,5894.6064,11800.7342,10116.7342,12943.7342,12733.7342,8887.7342,7505.7342,13036.996,11352.996,14179.996,13969.996,10123.996,8741.996,14079.2129,12395.2129,15222.2129,15012.2129,11166.2129],\"type\":\"scatter\"},{\"marker\":{\"color\":\"#3f3f3f\",\"size\":5},\"mode\":\"lines+markers\",\"name\":\"Original\",\"showlegend\":true,\"x\":[\"2011-01-01T00:00:00\",\"2011-02-01T00:00:00\",\"2011-03-01T00:00:00\",\"2011-04-01T00:00:00\",\"2011-05-01T00:00:00\",\"2011-06-01T00:00:00\",\"2011-07-01T00:00:00\",\"2011-08-01T00:00:00\",\"2011-09-01T00:00:00\",\"2011-10-01T00:00:00\",\"2011-11-01T00:00:00\",\"2011-12-01T00:00:00\",\"2012-01-01T00:00:00\",\"2012-02-01T00:00:00\",\"2012-03-01T00:00:00\",\"2012-04-01T00:00:00\",\"2012-05-01T00:00:00\",\"2012-06-01T00:00:00\",\"2012-07-01T00:00:00\",\"2012-08-01T00:00:00\",\"2012-09-01T00:00:00\",\"2012-10-01T00:00:00\",\"2012-11-01T00:00:00\",\"2012-12-01T00:00:00\",\"2013-01-01T00:00:00\",\"2013-02-01T00:00:00\",\"2013-03-01T00:00:00\",\"2013-04-01T00:00:00\",\"2013-05-01T00:00:00\",\"2013-06-01T00:00:00\",\"2013-07-01T00:00:00\",\"2013-08-01T00:00:00\",\"2013-09-01T00:00:00\",\"2013-10-01T00:00:00\",\"2013-11-01T00:00:00\",\"2013-12-01T00:00:00\",\"2014-01-01T00:00:00\",\"2014-02-01T00:00:00\",\"2014-03-01T00:00:00\",\"2014-04-01T00:00:00\",\"2014-05-01T00:00:00\",\"2014-06-01T00:00:00\",\"2014-07-01T00:00:00\",\"2014-08-01T00:00:00\",\"2014-09-01T00:00:00\",\"2014-10-01T00:00:00\",\"2014-11-01T00:00:00\",\"2014-12-01T00:00:00\"],\"y\":[1977.0,1361.0,1835.0,2380.0,2280.0,3884.0,1696.0,6024.0,3659.0,3265.0,7034.0,5279.0,2358.0,1586.0,3941.0,1257.0,5238.0,3466.0,3092.0,4608.0,4735.0,4538.0,6984.0,6475.0,3479.0,3085.0,3475.0,3494.0,7508.0,8451.0,4857.0,7008.0,6300.0,4616.0,7443.0,7233.0,3387.0,2005.0,4524.0,4124.0,5999.0,6690.0,3695.0,7868.0,8674.0,8322.0,8799.0,10802.0],\"type\":\"scatter\"}],                        {\"title\":{\"text\":\"Actual vs. 'Out-of-Sample' Forecast | Total_Sales\"},\"xaxis\":{\"title\":{\"text\":\"Time\"}},\"yaxis\":{\"title\":{\"text\":\"Values\"}},\"template\":{\"data\":{\"barpolar\":[{\"marker\":{\"line\":{\"color\":\"rgb(237,237,237)\",\"width\":0.5},\"pattern\":{\"fillmode\":\"overlay\",\"size\":10,\"solidity\":0.2}},\"type\":\"barpolar\"}],\"bar\":[{\"error_x\":{\"color\":\"rgb(51,51,51)\"},\"error_y\":{\"color\":\"rgb(51,51,51)\"},\"marker\":{\"line\":{\"color\":\"rgb(237,237,237)\",\"width\":0.5},\"pattern\":{\"fillmode\":\"overlay\",\"size\":10,\"solidity\":0.2}},\"type\":\"bar\"}],\"carpet\":[{\"aaxis\":{\"endlinecolor\":\"rgb(51,51,51)\",\"gridcolor\":\"white\",\"linecolor\":\"white\",\"minorgridcolor\":\"white\",\"startlinecolor\":\"rgb(51,51,51)\"},\"baxis\":{\"endlinecolor\":\"rgb(51,51,51)\",\"gridcolor\":\"white\",\"linecolor\":\"white\",\"minorgridcolor\":\"white\",\"startlinecolor\":\"rgb(51,51,51)\"},\"type\":\"carpet\"}],\"choropleth\":[{\"colorbar\":{\"outlinewidth\":0,\"tickcolor\":\"rgb(237,237,237)\",\"ticklen\":6,\"ticks\":\"inside\"},\"type\":\"choropleth\"}],\"contourcarpet\":[{\"colorbar\":{\"outlinewidth\":0,\"tickcolor\":\"rgb(237,237,237)\",\"ticklen\":6,\"ticks\":\"inside\"},\"type\":\"contourcarpet\"}],\"contour\":[{\"colorbar\":{\"outlinewidth\":0,\"tickcolor\":\"rgb(237,237,237)\",\"ticklen\":6,\"ticks\":\"inside\"},\"colorscale\":[[0,\"rgb(20,44,66)\"],[1,\"rgb(90,179,244)\"]],\"type\":\"contour\"}],\"heatmapgl\":[{\"colorbar\":{\"outlinewidth\":0,\"tickcolor\":\"rgb(237,237,237)\",\"ticklen\":6,\"ticks\":\"inside\"},\"colorscale\":[[0,\"rgb(20,44,66)\"],[1,\"rgb(90,179,244)\"]],\"type\":\"heatmapgl\"}],\"heatmap\":[{\"colorbar\":{\"outlinewidth\":0,\"tickcolor\":\"rgb(237,237,237)\",\"ticklen\":6,\"ticks\":\"inside\"},\"colorscale\":[[0,\"rgb(20,44,66)\"],[1,\"rgb(90,179,244)\"]],\"type\":\"heatmap\"}],\"histogram2dcontour\":[{\"colorbar\":{\"outlinewidth\":0,\"tickcolor\":\"rgb(237,237,237)\",\"ticklen\":6,\"ticks\":\"inside\"},\"colorscale\":[[0,\"rgb(20,44,66)\"],[1,\"rgb(90,179,244)\"]],\"type\":\"histogram2dcontour\"}],\"histogram2d\":[{\"colorbar\":{\"outlinewidth\":0,\"tickcolor\":\"rgb(237,237,237)\",\"ticklen\":6,\"ticks\":\"inside\"},\"colorscale\":[[0,\"rgb(20,44,66)\"],[1,\"rgb(90,179,244)\"]],\"type\":\"histogram2d\"}],\"histogram\":[{\"marker\":{\"pattern\":{\"fillmode\":\"overlay\",\"size\":10,\"solidity\":0.2}},\"type\":\"histogram\"}],\"mesh3d\":[{\"colorbar\":{\"outlinewidth\":0,\"tickcolor\":\"rgb(237,237,237)\",\"ticklen\":6,\"ticks\":\"inside\"},\"type\":\"mesh3d\"}],\"parcoords\":[{\"line\":{\"colorbar\":{\"outlinewidth\":0,\"tickcolor\":\"rgb(237,237,237)\",\"ticklen\":6,\"ticks\":\"inside\"}},\"type\":\"parcoords\"}],\"pie\":[{\"automargin\":true,\"type\":\"pie\"}],\"scatter3d\":[{\"line\":{\"colorbar\":{\"outlinewidth\":0,\"tickcolor\":\"rgb(237,237,237)\",\"ticklen\":6,\"ticks\":\"inside\"}},\"marker\":{\"colorbar\":{\"outlinewidth\":0,\"tickcolor\":\"rgb(237,237,237)\",\"ticklen\":6,\"ticks\":\"inside\"}},\"type\":\"scatter3d\"}],\"scattercarpet\":[{\"marker\":{\"colorbar\":{\"outlinewidth\":0,\"tickcolor\":\"rgb(237,237,237)\",\"ticklen\":6,\"ticks\":\"inside\"}},\"type\":\"scattercarpet\"}],\"scattergeo\":[{\"marker\":{\"colorbar\":{\"outlinewidth\":0,\"tickcolor\":\"rgb(237,237,237)\",\"ticklen\":6,\"ticks\":\"inside\"}},\"type\":\"scattergeo\"}],\"scattergl\":[{\"marker\":{\"colorbar\":{\"outlinewidth\":0,\"tickcolor\":\"rgb(237,237,237)\",\"ticklen\":6,\"ticks\":\"inside\"}},\"type\":\"scattergl\"}],\"scattermapbox\":[{\"marker\":{\"colorbar\":{\"outlinewidth\":0,\"tickcolor\":\"rgb(237,237,237)\",\"ticklen\":6,\"ticks\":\"inside\"}},\"type\":\"scattermapbox\"}],\"scatterpolargl\":[{\"marker\":{\"colorbar\":{\"outlinewidth\":0,\"tickcolor\":\"rgb(237,237,237)\",\"ticklen\":6,\"ticks\":\"inside\"}},\"type\":\"scatterpolargl\"}],\"scatterpolar\":[{\"marker\":{\"colorbar\":{\"outlinewidth\":0,\"tickcolor\":\"rgb(237,237,237)\",\"ticklen\":6,\"ticks\":\"inside\"}},\"type\":\"scatterpolar\"}],\"scatter\":[{\"marker\":{\"colorbar\":{\"outlinewidth\":0,\"tickcolor\":\"rgb(237,237,237)\",\"ticklen\":6,\"ticks\":\"inside\"}},\"type\":\"scatter\"}],\"scatterternary\":[{\"marker\":{\"colorbar\":{\"outlinewidth\":0,\"tickcolor\":\"rgb(237,237,237)\",\"ticklen\":6,\"ticks\":\"inside\"}},\"type\":\"scatterternary\"}],\"surface\":[{\"colorbar\":{\"outlinewidth\":0,\"tickcolor\":\"rgb(237,237,237)\",\"ticklen\":6,\"ticks\":\"inside\"},\"colorscale\":[[0,\"rgb(20,44,66)\"],[1,\"rgb(90,179,244)\"]],\"type\":\"surface\"}],\"table\":[{\"cells\":{\"fill\":{\"color\":\"rgb(237,237,237)\"},\"line\":{\"color\":\"white\"}},\"header\":{\"fill\":{\"color\":\"rgb(217,217,217)\"},\"line\":{\"color\":\"white\"}},\"type\":\"table\"}]},\"layout\":{\"annotationdefaults\":{\"arrowhead\":0,\"arrowwidth\":1},\"autotypenumbers\":\"strict\",\"coloraxis\":{\"colorbar\":{\"outlinewidth\":0,\"tickcolor\":\"rgb(237,237,237)\",\"ticklen\":6,\"ticks\":\"inside\"}},\"colorscale\":{\"sequential\":[[0,\"rgb(20,44,66)\"],[1,\"rgb(90,179,244)\"]],\"sequentialminus\":[[0,\"rgb(20,44,66)\"],[1,\"rgb(90,179,244)\"]]},\"colorway\":[\"#F8766D\",\"#A3A500\",\"#00BF7D\",\"#00B0F6\",\"#E76BF3\"],\"font\":{\"color\":\"rgb(51,51,51)\"},\"geo\":{\"bgcolor\":\"white\",\"lakecolor\":\"white\",\"landcolor\":\"rgb(237,237,237)\",\"showlakes\":true,\"showland\":true,\"subunitcolor\":\"white\"},\"hoverlabel\":{\"align\":\"left\"},\"hovermode\":\"closest\",\"paper_bgcolor\":\"white\",\"plot_bgcolor\":\"rgb(237,237,237)\",\"polar\":{\"angularaxis\":{\"gridcolor\":\"white\",\"linecolor\":\"white\",\"showgrid\":true,\"tickcolor\":\"rgb(51,51,51)\",\"ticks\":\"outside\"},\"bgcolor\":\"rgb(237,237,237)\",\"radialaxis\":{\"gridcolor\":\"white\",\"linecolor\":\"white\",\"showgrid\":true,\"tickcolor\":\"rgb(51,51,51)\",\"ticks\":\"outside\"}},\"scene\":{\"xaxis\":{\"backgroundcolor\":\"rgb(237,237,237)\",\"gridcolor\":\"white\",\"gridwidth\":2,\"linecolor\":\"white\",\"showbackground\":true,\"showgrid\":true,\"tickcolor\":\"rgb(51,51,51)\",\"ticks\":\"outside\",\"zerolinecolor\":\"white\"},\"yaxis\":{\"backgroundcolor\":\"rgb(237,237,237)\",\"gridcolor\":\"white\",\"gridwidth\":2,\"linecolor\":\"white\",\"showbackground\":true,\"showgrid\":true,\"tickcolor\":\"rgb(51,51,51)\",\"ticks\":\"outside\",\"zerolinecolor\":\"white\"},\"zaxis\":{\"backgroundcolor\":\"rgb(237,237,237)\",\"gridcolor\":\"white\",\"gridwidth\":2,\"linecolor\":\"white\",\"showbackground\":true,\"showgrid\":true,\"tickcolor\":\"rgb(51,51,51)\",\"ticks\":\"outside\",\"zerolinecolor\":\"white\"}},\"shapedefaults\":{\"fillcolor\":\"black\",\"line\":{\"width\":0},\"opacity\":0.3},\"ternary\":{\"aaxis\":{\"gridcolor\":\"white\",\"linecolor\":\"white\",\"showgrid\":true,\"tickcolor\":\"rgb(51,51,51)\",\"ticks\":\"outside\"},\"baxis\":{\"gridcolor\":\"white\",\"linecolor\":\"white\",\"showgrid\":true,\"tickcolor\":\"rgb(51,51,51)\",\"ticks\":\"outside\"},\"bgcolor\":\"rgb(237,237,237)\",\"caxis\":{\"gridcolor\":\"white\",\"linecolor\":\"white\",\"showgrid\":true,\"tickcolor\":\"rgb(51,51,51)\",\"ticks\":\"outside\"}},\"xaxis\":{\"automargin\":true,\"gridcolor\":\"white\",\"linecolor\":\"white\",\"showgrid\":true,\"tickcolor\":\"rgb(51,51,51)\",\"ticks\":\"outside\",\"title\":{\"standoff\":15},\"zerolinecolor\":\"white\"},\"yaxis\":{\"automargin\":true,\"gridcolor\":\"white\",\"linecolor\":\"white\",\"showgrid\":true,\"tickcolor\":\"rgb(51,51,51)\",\"ticks\":\"outside\",\"title\":{\"standoff\":15},\"zerolinecolor\":\"white\"}}},\"showlegend\":true},                        {\"responsive\": true}                    )                };                            </script>        </div>\n",
       "</body>\n",
       "</html>"
      ]
     },
     "metadata": {
      "application/vnd.databricks.v1+output": {
       "addedWidgets": {},
       "arguments": {},
       "data": "<html>\n<head><meta charset=\"utf-8\" /></head>\n<body>\n    <div>            <script src=\"https://cdnjs.cloudflare.com/ajax/libs/mathjax/2.7.5/MathJax.js?config=TeX-AMS-MML_SVG\"></script><script type=\"text/javascript\">if (window.MathJax) {MathJax.Hub.Config({SVG: {font: \"STIX-Web\"}});}</script>                <script type=\"text/javascript\">window.PlotlyConfig = {MathJaxConfig: 'local'};</script>\n        <script src=\"https://cdn.plot.ly/plotly-2.9.0.min.js\"></script>                <div id=\"f6e16266-fde8-48e7-971f-74f21b583cc7\" class=\"plotly-graph-div\" style=\"height:100%; width:100%;\"></div>            <script type=\"text/javascript\">                                    window.PLOTLYENV=window.PLOTLYENV || {};                                    if (document.getElementById(\"f6e16266-fde8-48e7-971f-74f21b583cc7\")) {                    Plotly.newPlot(                        \"f6e16266-fde8-48e7-971f-74f21b583cc7\",                        [{\"line\":{\"color\":\"#1f77b4\"},\"marker\":{\"size\":5},\"mode\":\"lines+markers\",\"name\":\"Forecast | Seasonal Naive Forecaster\",\"showlegend\":true,\"x\":[\"2014-03-01T00:00:00\",\"2014-04-01T00:00:00\",\"2014-05-01T00:00:00\",\"2014-06-01T00:00:00\",\"2014-07-01T00:00:00\",\"2014-08-01T00:00:00\",\"2014-09-01T00:00:00\",\"2014-10-01T00:00:00\",\"2014-11-01T00:00:00\",\"2014-12-01T00:00:00\",\"2015-01-01T00:00:00\",\"2015-02-01T00:00:00\",\"2015-03-01T00:00:00\",\"2015-04-01T00:00:00\",\"2015-05-01T00:00:00\",\"2015-06-01T00:00:00\",\"2015-07-01T00:00:00\",\"2015-08-01T00:00:00\",\"2015-09-01T00:00:00\",\"2015-10-01T00:00:00\",\"2015-11-01T00:00:00\",\"2015-12-01T00:00:00\",\"2016-01-01T00:00:00\"],\"y\":[6300.0,4616.0,7443.0,7233.0,3387.0,2005.0,6300.0,4616.0,7443.0,7233.0,3387.0,2005.0,6300.0,4616.0,7443.0,7233.0,3387.0,2005.0,6300.0,4616.0,7443.0,7233.0,3387.0],\"type\":\"scatter\"},{\"line\":{\"width\":0},\"marker\":{\"color\":\"#68BBE3\"},\"mode\":\"lines\",\"name\":\"Lower Interval\",\"showlegend\":false,\"x\":[\"2014-03-01T00:00:00\",\"2014-04-01T00:00:00\",\"2014-05-01T00:00:00\",\"2014-06-01T00:00:00\",\"2014-07-01T00:00:00\",\"2014-08-01T00:00:00\",\"2014-09-01T00:00:00\",\"2014-10-01T00:00:00\",\"2014-11-01T00:00:00\",\"2014-12-01T00:00:00\",\"2015-01-01T00:00:00\",\"2015-02-01T00:00:00\",\"2015-03-01T00:00:00\",\"2015-04-01T00:00:00\",\"2015-05-01T00:00:00\",\"2015-06-01T00:00:00\",\"2015-07-01T00:00:00\",\"2015-08-01T00:00:00\",\"2015-09-01T00:00:00\",\"2015-10-01T00:00:00\",\"2015-11-01T00:00:00\",\"2015-12-01T00:00:00\",\"2016-01-01T00:00:00\"],\"y\":[2410.3936,726.3936,3553.3936,3343.3936,-502.6064,-1884.6064,799.2658,-884.7342,1942.2658,1732.2658,-2113.7342,-3495.7342,-436.996,-2120.996,706.004,496.004,-3349.996,-4731.996,-1479.2129,-3163.2129,-336.2129,-546.2129,-4392.2129],\"type\":\"scatter\"},{\"fill\":\"tonexty\",\"fillcolor\":\"rgba(104,187,227,0.5)\",\"line\":{\"width\":0},\"marker\":{\"color\":\"#68BBE3\"},\"mode\":\"lines\",\"name\":\"Prediction Interval | Seasonal Naive Forecaster\",\"showlegend\":true,\"x\":[\"2014-03-01T00:00:00\",\"2014-04-01T00:00:00\",\"2014-05-01T00:00:00\",\"2014-06-01T00:00:00\",\"2014-07-01T00:00:00\",\"2014-08-01T00:00:00\",\"2014-09-01T00:00:00\",\"2014-10-01T00:00:00\",\"2014-11-01T00:00:00\",\"2014-12-01T00:00:00\",\"2015-01-01T00:00:00\",\"2015-02-01T00:00:00\",\"2015-03-01T00:00:00\",\"2015-04-01T00:00:00\",\"2015-05-01T00:00:00\",\"2015-06-01T00:00:00\",\"2015-07-01T00:00:00\",\"2015-08-01T00:00:00\",\"2015-09-01T00:00:00\",\"2015-10-01T00:00:00\",\"2015-11-01T00:00:00\",\"2015-12-01T00:00:00\",\"2016-01-01T00:00:00\"],\"y\":[10189.6064,8505.6064,11332.6064,11122.6064,7276.6064,5894.6064,11800.7342,10116.7342,12943.7342,12733.7342,8887.7342,7505.7342,13036.996,11352.996,14179.996,13969.996,10123.996,8741.996,14079.2129,12395.2129,15222.2129,15012.2129,11166.2129],\"type\":\"scatter\"},{\"marker\":{\"color\":\"#3f3f3f\",\"size\":5},\"mode\":\"lines+markers\",\"name\":\"Original\",\"showlegend\":true,\"x\":[\"2011-01-01T00:00:00\",\"2011-02-01T00:00:00\",\"2011-03-01T00:00:00\",\"2011-04-01T00:00:00\",\"2011-05-01T00:00:00\",\"2011-06-01T00:00:00\",\"2011-07-01T00:00:00\",\"2011-08-01T00:00:00\",\"2011-09-01T00:00:00\",\"2011-10-01T00:00:00\",\"2011-11-01T00:00:00\",\"2011-12-01T00:00:00\",\"2012-01-01T00:00:00\",\"2012-02-01T00:00:00\",\"2012-03-01T00:00:00\",\"2012-04-01T00:00:00\",\"2012-05-01T00:00:00\",\"2012-06-01T00:00:00\",\"2012-07-01T00:00:00\",\"2012-08-01T00:00:00\",\"2012-09-01T00:00:00\",\"2012-10-01T00:00:00\",\"2012-11-01T00:00:00\",\"2012-12-01T00:00:00\",\"2013-01-01T00:00:00\",\"2013-02-01T00:00:00\",\"2013-03-01T00:00:00\",\"2013-04-01T00:00:00\",\"2013-05-01T00:00:00\",\"2013-06-01T00:00:00\",\"2013-07-01T00:00:00\",\"2013-08-01T00:00:00\",\"2013-09-01T00:00:00\",\"2013-10-01T00:00:00\",\"2013-11-01T00:00:00\",\"2013-12-01T00:00:00\",\"2014-01-01T00:00:00\",\"2014-02-01T00:00:00\",\"2014-03-01T00:00:00\",\"2014-04-01T00:00:00\",\"2014-05-01T00:00:00\",\"2014-06-01T00:00:00\",\"2014-07-01T00:00:00\",\"2014-08-01T00:00:00\",\"2014-09-01T00:00:00\",\"2014-10-01T00:00:00\",\"2014-11-01T00:00:00\",\"2014-12-01T00:00:00\"],\"y\":[1977.0,1361.0,1835.0,2380.0,2280.0,3884.0,1696.0,6024.0,3659.0,3265.0,7034.0,5279.0,2358.0,1586.0,3941.0,1257.0,5238.0,3466.0,3092.0,4608.0,4735.0,4538.0,6984.0,6475.0,3479.0,3085.0,3475.0,3494.0,7508.0,8451.0,4857.0,7008.0,6300.0,4616.0,7443.0,7233.0,3387.0,2005.0,4524.0,4124.0,5999.0,6690.0,3695.0,7868.0,8674.0,8322.0,8799.0,10802.0],\"type\":\"scatter\"}],                        {\"title\":{\"text\":\"Actual vs. 'Out-of-Sample' Forecast | Total_Sales\"},\"xaxis\":{\"title\":{\"text\":\"Time\"}},\"yaxis\":{\"title\":{\"text\":\"Values\"}},\"template\":{\"data\":{\"barpolar\":[{\"marker\":{\"line\":{\"color\":\"rgb(237,237,237)\",\"width\":0.5},\"pattern\":{\"fillmode\":\"overlay\",\"size\":10,\"solidity\":0.2}},\"type\":\"barpolar\"}],\"bar\":[{\"error_x\":{\"color\":\"rgb(51,51,51)\"},\"error_y\":{\"color\":\"rgb(51,51,51)\"},\"marker\":{\"line\":{\"color\":\"rgb(237,237,237)\",\"width\":0.5},\"pattern\":{\"fillmode\":\"overlay\",\"size\":10,\"solidity\":0.2}},\"type\":\"bar\"}],\"carpet\":[{\"aaxis\":{\"endlinecolor\":\"rgb(51,51,51)\",\"gridcolor\":\"white\",\"linecolor\":\"white\",\"minorgridcolor\":\"white\",\"startlinecolor\":\"rgb(51,51,51)\"},\"baxis\":{\"endlinecolor\":\"rgb(51,51,51)\",\"gridcolor\":\"white\",\"linecolor\":\"white\",\"minorgridcolor\":\"white\",\"startlinecolor\":\"rgb(51,51,51)\"},\"type\":\"carpet\"}],\"choropleth\":[{\"colorbar\":{\"outlinewidth\":0,\"tickcolor\":\"rgb(237,237,237)\",\"ticklen\":6,\"ticks\":\"inside\"},\"type\":\"choropleth\"}],\"contourcarpet\":[{\"colorbar\":{\"outlinewidth\":0,\"tickcolor\":\"rgb(237,237,237)\",\"ticklen\":6,\"ticks\":\"inside\"},\"type\":\"contourcarpet\"}],\"contour\":[{\"colorbar\":{\"outlinewidth\":0,\"tickcolor\":\"rgb(237,237,237)\",\"ticklen\":6,\"ticks\":\"inside\"},\"colorscale\":[[0,\"rgb(20,44,66)\"],[1,\"rgb(90,179,244)\"]],\"type\":\"contour\"}],\"heatmapgl\":[{\"colorbar\":{\"outlinewidth\":0,\"tickcolor\":\"rgb(237,237,237)\",\"ticklen\":6,\"ticks\":\"inside\"},\"colorscale\":[[0,\"rgb(20,44,66)\"],[1,\"rgb(90,179,244)\"]],\"type\":\"heatmapgl\"}],\"heatmap\":[{\"colorbar\":{\"outlinewidth\":0,\"tickcolor\":\"rgb(237,237,237)\",\"ticklen\":6,\"ticks\":\"inside\"},\"colorscale\":[[0,\"rgb(20,44,66)\"],[1,\"rgb(90,179,244)\"]],\"type\":\"heatmap\"}],\"histogram2dcontour\":[{\"colorbar\":{\"outlinewidth\":0,\"tickcolor\":\"rgb(237,237,237)\",\"ticklen\":6,\"ticks\":\"inside\"},\"colorscale\":[[0,\"rgb(20,44,66)\"],[1,\"rgb(90,179,244)\"]],\"type\":\"histogram2dcontour\"}],\"histogram2d\":[{\"colorbar\":{\"outlinewidth\":0,\"tickcolor\":\"rgb(237,237,237)\",\"ticklen\":6,\"ticks\":\"inside\"},\"colorscale\":[[0,\"rgb(20,44,66)\"],[1,\"rgb(90,179,244)\"]],\"type\":\"histogram2d\"}],\"histogram\":[{\"marker\":{\"pattern\":{\"fillmode\":\"overlay\",\"size\":10,\"solidity\":0.2}},\"type\":\"histogram\"}],\"mesh3d\":[{\"colorbar\":{\"outlinewidth\":0,\"tickcolor\":\"rgb(237,237,237)\",\"ticklen\":6,\"ticks\":\"inside\"},\"type\":\"mesh3d\"}],\"parcoords\":[{\"line\":{\"colorbar\":{\"outlinewidth\":0,\"tickcolor\":\"rgb(237,237,237)\",\"ticklen\":6,\"ticks\":\"inside\"}},\"type\":\"parcoords\"}],\"pie\":[{\"automargin\":true,\"type\":\"pie\"}],\"scatter3d\":[{\"line\":{\"colorbar\":{\"outlinewidth\":0,\"tickcolor\":\"rgb(237,237,237)\",\"ticklen\":6,\"ticks\":\"inside\"}},\"marker\":{\"colorbar\":{\"outlinewidth\":0,\"tickcolor\":\"rgb(237,237,237)\",\"ticklen\":6,\"ticks\":\"inside\"}},\"type\":\"scatter3d\"}],\"scattercarpet\":[{\"marker\":{\"colorbar\":{\"outlinewidth\":0,\"tickcolor\":\"rgb(237,237,237)\",\"ticklen\":6,\"ticks\":\"inside\"}},\"type\":\"scattercarpet\"}],\"scattergeo\":[{\"marker\":{\"colorbar\":{\"outlinewidth\":0,\"tickcolor\":\"rgb(237,237,237)\",\"ticklen\":6,\"ticks\":\"inside\"}},\"type\":\"scattergeo\"}],\"scattergl\":[{\"marker\":{\"colorbar\":{\"outlinewidth\":0,\"tickcolor\":\"rgb(237,237,237)\",\"ticklen\":6,\"ticks\":\"inside\"}},\"type\":\"scattergl\"}],\"scattermapbox\":[{\"marker\":{\"colorbar\":{\"outlinewidth\":0,\"tickcolor\":\"rgb(237,237,237)\",\"ticklen\":6,\"ticks\":\"inside\"}},\"type\":\"scattermapbox\"}],\"scatterpolargl\":[{\"marker\":{\"colorbar\":{\"outlinewidth\":0,\"tickcolor\":\"rgb(237,237,237)\",\"ticklen\":6,\"ticks\":\"inside\"}},\"type\":\"scatterpolargl\"}],\"scatterpolar\":[{\"marker\":{\"colorbar\":{\"outlinewidth\":0,\"tickcolor\":\"rgb(237,237,237)\",\"ticklen\":6,\"ticks\":\"inside\"}},\"type\":\"scatterpolar\"}],\"scatter\":[{\"marker\":{\"colorbar\":{\"outlinewidth\":0,\"tickcolor\":\"rgb(237,237,237)\",\"ticklen\":6,\"ticks\":\"inside\"}},\"type\":\"scatter\"}],\"scatterternary\":[{\"marker\":{\"colorbar\":{\"outlinewidth\":0,\"tickcolor\":\"rgb(237,237,237)\",\"ticklen\":6,\"ticks\":\"inside\"}},\"type\":\"scatterternary\"}],\"surface\":[{\"colorbar\":{\"outlinewidth\":0,\"tickcolor\":\"rgb(237,237,237)\",\"ticklen\":6,\"ticks\":\"inside\"},\"colorscale\":[[0,\"rgb(20,44,66)\"],[1,\"rgb(90,179,244)\"]],\"type\":\"surface\"}],\"table\":[{\"cells\":{\"fill\":{\"color\":\"rgb(237,237,237)\"},\"line\":{\"color\":\"white\"}},\"header\":{\"fill\":{\"color\":\"rgb(217,217,217)\"},\"line\":{\"color\":\"white\"}},\"type\":\"table\"}]},\"layout\":{\"annotationdefaults\":{\"arrowhead\":0,\"arrowwidth\":1},\"autotypenumbers\":\"strict\",\"coloraxis\":{\"colorbar\":{\"outlinewidth\":0,\"tickcolor\":\"rgb(237,237,237)\",\"ticklen\":6,\"ticks\":\"inside\"}},\"colorscale\":{\"sequential\":[[0,\"rgb(20,44,66)\"],[1,\"rgb(90,179,244)\"]],\"sequentialminus\":[[0,\"rgb(20,44,66)\"],[1,\"rgb(90,179,244)\"]]},\"colorway\":[\"#F8766D\",\"#A3A500\",\"#00BF7D\",\"#00B0F6\",\"#E76BF3\"],\"font\":{\"color\":\"rgb(51,51,51)\"},\"geo\":{\"bgcolor\":\"white\",\"lakecolor\":\"white\",\"landcolor\":\"rgb(237,237,237)\",\"showlakes\":true,\"showland\":true,\"subunitcolor\":\"white\"},\"hoverlabel\":{\"align\":\"left\"},\"hovermode\":\"closest\",\"paper_bgcolor\":\"white\",\"plot_bgcolor\":\"rgb(237,237,237)\",\"polar\":{\"angularaxis\":{\"gridcolor\":\"white\",\"linecolor\":\"white\",\"showgrid\":true,\"tickcolor\":\"rgb(51,51,51)\",\"ticks\":\"outside\"},\"bgcolor\":\"rgb(237,237,237)\",\"radialaxis\":{\"gridcolor\":\"white\",\"linecolor\":\"white\",\"showgrid\":true,\"tickcolor\":\"rgb(51,51,51)\",\"ticks\":\"outside\"}},\"scene\":{\"xaxis\":{\"backgroundcolor\":\"rgb(237,237,237)\",\"gridcolor\":\"white\",\"gridwidth\":2,\"linecolor\":\"white\",\"showbackground\":true,\"showgrid\":true,\"tickcolor\":\"rgb(51,51,51)\",\"ticks\":\"outside\",\"zerolinecolor\":\"white\"},\"yaxis\":{\"backgroundcolor\":\"rgb(237,237,237)\",\"gridcolor\":\"white\",\"gridwidth\":2,\"linecolor\":\"white\",\"showbackground\":true,\"showgrid\":true,\"tickcolor\":\"rgb(51,51,51)\",\"ticks\":\"outside\",\"zerolinecolor\":\"white\"},\"zaxis\":{\"backgroundcolor\":\"rgb(237,237,237)\",\"gridcolor\":\"white\",\"gridwidth\":2,\"linecolor\":\"white\",\"showbackground\":true,\"showgrid\":true,\"tickcolor\":\"rgb(51,51,51)\",\"ticks\":\"outside\",\"zerolinecolor\":\"white\"}},\"shapedefaults\":{\"fillcolor\":\"black\",\"line\":{\"width\":0},\"opacity\":0.3},\"ternary\":{\"aaxis\":{\"gridcolor\":\"white\",\"linecolor\":\"white\",\"showgrid\":true,\"tickcolor\":\"rgb(51,51,51)\",\"ticks\":\"outside\"},\"baxis\":{\"gridcolor\":\"white\",\"linecolor\":\"white\",\"showgrid\":true,\"tickcolor\":\"rgb(51,51,51)\",\"ticks\":\"outside\"},\"bgcolor\":\"rgb(237,237,237)\",\"caxis\":{\"gridcolor\":\"white\",\"linecolor\":\"white\",\"showgrid\":true,\"tickcolor\":\"rgb(51,51,51)\",\"ticks\":\"outside\"}},\"xaxis\":{\"automargin\":true,\"gridcolor\":\"white\",\"linecolor\":\"white\",\"showgrid\":true,\"tickcolor\":\"rgb(51,51,51)\",\"ticks\":\"outside\",\"title\":{\"standoff\":15},\"zerolinecolor\":\"white\"},\"yaxis\":{\"automargin\":true,\"gridcolor\":\"white\",\"linecolor\":\"white\",\"showgrid\":true,\"tickcolor\":\"rgb(51,51,51)\",\"ticks\":\"outside\",\"title\":{\"standoff\":15},\"zerolinecolor\":\"white\"}}},\"showlegend\":true},                        {\"responsive\": true}                    )                };                            </script>        </div>\n</body>\n</html>",
       "datasetInfos": [],
       "metadata": {},
       "removedWidgets": [],
       "textData": null,
       "type": "htmlSandbox"
      }
     },
     "output_type": "display_data"
    }
   ],
   "source": [
    "# plot forecast for 13 months in future\n",
    "plot_model(tuned_dt, plot = 'forecast', data_kwargs = {'fh' : 23})"
   ]
  }
 ],
 "metadata": {
  "application/vnd.databricks.v1+notebook": {
   "dashboards": [],
   "language": "python",
   "notebookMetadata": {
    "pythonIndentUnit": 4
   },
   "notebookName": "3_Trend_and_Forecast",
   "widgets": {}
  }
 },
 "nbformat": 4,
 "nbformat_minor": 0
}
