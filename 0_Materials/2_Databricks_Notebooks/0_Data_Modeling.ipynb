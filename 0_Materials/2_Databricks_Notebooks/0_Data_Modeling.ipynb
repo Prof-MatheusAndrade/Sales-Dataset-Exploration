{
 "cells": [
  {
   "cell_type": "markdown",
   "metadata": {
    "application/vnd.databricks.v1+cell": {
     "cellMetadata": {
      "byteLimit": 2048000,
      "rowLimit": 10000
     },
     "inputWidgets": {},
     "nuid": "8facc67c-8929-4201-a25c-731acc5156da",
     "showTitle": false,
     "title": ""
    }
   },
   "source": [
    "# Company Inc - Sales Data Analysis"
   ]
  },
  {
   "cell_type": "markdown",
   "metadata": {
    "application/vnd.databricks.v1+cell": {
     "cellMetadata": {
      "byteLimit": 2048000,
      "rowLimit": 10000
     },
     "inputWidgets": {},
     "nuid": "b3198961-9acf-4690-92a7-52b1b69d7c6b",
     "showTitle": false,
     "title": ""
    }
   },
   "source": [
    "## Data Modeling\n",
    "\n",
    "<br>\n",
    "\n",
    "### This notebook was developed to implement a data modeling process into the original dataset, aiming to support seamless data processing and analyses. The data model created is presented below:\n",
    "\n",
    "<div style=\"text-align: center;\">\n",
    "<br>\n",
    "<img src=\"https://drive.google.com/uc?export=view&id=10WqmVpm5Bk6mWB7xePgdqqZOifSpR4q0\"  width=\"60%\" height=\"30%\">"
   ]
  },
  {
   "cell_type": "markdown",
   "metadata": {
    "application/vnd.databricks.v1+cell": {
     "cellMetadata": {
      "byteLimit": 2048000,
      "rowLimit": 10000
     },
     "inputWidgets": {},
     "nuid": "da63a62e-30f6-4d73-87e0-de3d3c8306fc",
     "showTitle": false,
     "title": ""
    }
   },
   "source": [
    "### 0. Libraries import"
   ]
  },
  {
   "cell_type": "code",
   "execution_count": 0,
   "metadata": {
    "application/vnd.databricks.v1+cell": {
     "cellMetadata": {
      "byteLimit": 2048000,
      "rowLimit": 10000
     },
     "inputWidgets": {},
     "nuid": "6a9e9eb3-5cf9-4eac-ac6e-26442b731dc0",
     "showTitle": false,
     "title": ""
    }
   },
   "outputs": [],
   "source": [
    "from pyspark.sql import functions as f #PySpark functions, such as column, maximum, and others\n",
    "from pyspark.sql import types as t #Pyspark types, such as IntegerType, DoubleType, and others\n",
    "from pyspark.sql.window import Window #Pyspark Window function to perform calculations across a specified range of rows within a DataFrame"
   ]
  },
  {
   "cell_type": "markdown",
   "metadata": {
    "application/vnd.databricks.v1+cell": {
     "cellMetadata": {
      "byteLimit": 2048000,
      "rowLimit": 10000
     },
     "inputWidgets": {},
     "nuid": "cc87dcc9-dd40-4041-abf2-014bbdd45900",
     "showTitle": false,
     "title": ""
    }
   },
   "source": [
    "### 1. Read the original dataset located in DBFS. The original dataset was downloaded in the next website:\n",
    "https://www.kaggle.com/datasets/fatihilhan/global-superstore-dataset"
   ]
  },
  {
   "cell_type": "code",
   "execution_count": 0,
   "metadata": {
    "application/vnd.databricks.v1+cell": {
     "cellMetadata": {
      "byteLimit": 2048000,
      "rowLimit": 10000
     },
     "inputWidgets": {},
     "nuid": "f75152a4-09d0-4657-aeda-6d42bed3d054",
     "showTitle": false,
     "title": ""
    }
   },
   "outputs": [
    {
     "output_type": "display_data",
     "data": {
      "text/html": [
       "<style scoped>\n",
       "  .table-result-container {\n",
       "    max-height: 300px;\n",
       "    overflow: auto;\n",
       "  }\n",
       "  table, th, td {\n",
       "    border: 1px solid black;\n",
       "    border-collapse: collapse;\n",
       "  }\n",
       "  th, td {\n",
       "    padding: 5px;\n",
       "  }\n",
       "  th {\n",
       "    text-align: left;\n",
       "  }\n",
       "</style><div class='table-result-container'><table class='table-result'><thead style='background-color: white'><tr><th>Category</th><th>City</th><th>Country</th><th>Customer_ID</th><th>Customer_Name</th><th>Discount</th><th>Market</th><th>记录数</th><th>Order_Date</th><th>Order_ID</th><th>Order_Priority</th><th>Product_ID</th><th>Product_Name</th><th>Profit</th><th>Quantity</th><th>Region</th><th>Row_ID</th><th>Sales</th><th>Segment</th><th>Ship_Date</th><th>Ship_Mode</th><th>Shipping_Cost</th><th>State</th><th>Sub_Category</th><th>Year</th><th>Market2</th><th>weeknum</th></tr></thead><tbody><tr><td>Office Supplies</td><td>Los Angeles</td><td>United States</td><td>LS-172304</td><td>Lycoris Saunders</td><td>0</td><td>US</td><td>1</td><td>2011-01-07 00:00:00.000</td><td>CA-2011-130813</td><td>High</td><td>OFF-PA-10002005</td><td>Xerox 225</td><td>9.3312</td><td>3</td><td>West</td><td>36624</td><td>19</td><td>Consumer</td><td>2011-01-09 00:00:00.000</td><td>Second Class</td><td>4.37</td><td>California</td><td>Paper</td><td>2011</td><td>North America</td><td>2</td></tr><tr><td>Office Supplies</td><td>Los Angeles</td><td>United States</td><td>MV-174854</td><td>Mark Van Huff</td><td>0</td><td>US</td><td>1</td><td>2011-01-21 00:00:00.000</td><td>CA-2011-148614</td><td>Medium</td><td>OFF-PA-10002893</td><td>Wirebound Service Call Books, 5 1/2\" x 4\"</td><td>9.2928</td><td>2</td><td>West</td><td>37033</td><td>19</td><td>Consumer</td><td>2011-01-26 00:00:00.000</td><td>Standard Class</td><td>0.94</td><td>California</td><td>Paper</td><td>2011</td><td>North America</td><td>4</td></tr><tr><td>Office Supplies</td><td>Los Angeles</td><td>United States</td><td>CS-121304</td><td>Chad Sievert</td><td>0</td><td>US</td><td>1</td><td>2011-08-05 00:00:00.000</td><td>CA-2011-118962</td><td>Medium</td><td>OFF-PA-10000659</td><td>Adams Phone Message Book, Professional, 400 Message Capacity, 5 3/6” x 11”</td><td>9.8418</td><td>3</td><td>West</td><td>31468</td><td>21</td><td>Consumer</td><td>2011-08-09 00:00:00.000</td><td>Standard Class</td><td>1.81</td><td>California</td><td>Paper</td><td>2011</td><td>North America</td><td>32</td></tr><tr><td>Office Supplies</td><td>Los Angeles</td><td>United States</td><td>CS-121304</td><td>Chad Sievert</td><td>0</td><td>US</td><td>1</td><td>2011-08-05 00:00:00.000</td><td>CA-2011-118962</td><td>Medium</td><td>OFF-PA-10001144</td><td>Xerox 1913</td><td>53.2608</td><td>2</td><td>West</td><td>31469</td><td>111</td><td>Consumer</td><td>2011-08-09 00:00:00.000</td><td>Standard Class</td><td>4.59</td><td>California</td><td>Paper</td><td>2011</td><td>North America</td><td>32</td></tr><tr><td>Office Supplies</td><td>Los Angeles</td><td>United States</td><td>AP-109154</td><td>Arthur Prichep</td><td>0</td><td>US</td><td>1</td><td>2011-09-29 00:00:00.000</td><td>CA-2011-146969</td><td>High</td><td>OFF-PA-10002105</td><td>Xerox 223</td><td>3.1104</td><td>1</td><td>West</td><td>32440</td><td>6</td><td>Consumer</td><td>2011-10-03 00:00:00.000</td><td>Standard Class</td><td>1.32</td><td>California</td><td>Paper</td><td>2011</td><td>North America</td><td>40</td></tr></tbody></table></div>"
      ]
     },
     "metadata": {
      "application/vnd.databricks.v1+output": {
       "addedWidgets": {},
       "aggData": [],
       "aggError": "",
       "aggOverflow": false,
       "aggSchema": [],
       "aggSeriesLimitReached": false,
       "aggType": "",
       "arguments": {},
       "columnCustomDisplayInfos": {},
       "data": [
        [
         "Office Supplies",
         "Los Angeles",
         "United States",
         "LS-172304",
         "Lycoris Saunders",
         "0",
         "US",
         "1",
         "2011-01-07 00:00:00.000",
         "CA-2011-130813",
         "High",
         "OFF-PA-10002005",
         "Xerox 225",
         "9.3312",
         "3",
         "West",
         "36624",
         "19",
         "Consumer",
         "2011-01-09 00:00:00.000",
         "Second Class",
         "4.37",
         "California",
         "Paper",
         "2011",
         "North America",
         "2"
        ],
        [
         "Office Supplies",
         "Los Angeles",
         "United States",
         "MV-174854",
         "Mark Van Huff",
         "0",
         "US",
         "1",
         "2011-01-21 00:00:00.000",
         "CA-2011-148614",
         "Medium",
         "OFF-PA-10002893",
         "Wirebound Service Call Books, 5 1/2\" x 4\"",
         "9.2928",
         "2",
         "West",
         "37033",
         "19",
         "Consumer",
         "2011-01-26 00:00:00.000",
         "Standard Class",
         "0.94",
         "California",
         "Paper",
         "2011",
         "North America",
         "4"
        ],
        [
         "Office Supplies",
         "Los Angeles",
         "United States",
         "CS-121304",
         "Chad Sievert",
         "0",
         "US",
         "1",
         "2011-08-05 00:00:00.000",
         "CA-2011-118962",
         "Medium",
         "OFF-PA-10000659",
         "Adams Phone Message Book, Professional, 400 Message Capacity, 5 3/6” x 11”",
         "9.8418",
         "3",
         "West",
         "31468",
         "21",
         "Consumer",
         "2011-08-09 00:00:00.000",
         "Standard Class",
         "1.81",
         "California",
         "Paper",
         "2011",
         "North America",
         "32"
        ],
        [
         "Office Supplies",
         "Los Angeles",
         "United States",
         "CS-121304",
         "Chad Sievert",
         "0",
         "US",
         "1",
         "2011-08-05 00:00:00.000",
         "CA-2011-118962",
         "Medium",
         "OFF-PA-10001144",
         "Xerox 1913",
         "53.2608",
         "2",
         "West",
         "31469",
         "111",
         "Consumer",
         "2011-08-09 00:00:00.000",
         "Standard Class",
         "4.59",
         "California",
         "Paper",
         "2011",
         "North America",
         "32"
        ],
        [
         "Office Supplies",
         "Los Angeles",
         "United States",
         "AP-109154",
         "Arthur Prichep",
         "0",
         "US",
         "1",
         "2011-09-29 00:00:00.000",
         "CA-2011-146969",
         "High",
         "OFF-PA-10002105",
         "Xerox 223",
         "3.1104",
         "1",
         "West",
         "32440",
         "6",
         "Consumer",
         "2011-10-03 00:00:00.000",
         "Standard Class",
         "1.32",
         "California",
         "Paper",
         "2011",
         "North America",
         "40"
        ]
       ],
       "datasetInfos": [],
       "dbfsResultPath": null,
       "isJsonSchema": true,
       "metadata": {},
       "overflow": false,
       "plotOptions": {
        "customPlotOptions": {},
        "displayType": "table",
        "pivotAggregation": null,
        "pivotColumns": null,
        "xColumns": null,
        "yColumns": null
       },
       "removedWidgets": [],
       "schema": [
        {
         "metadata": "{}",
         "name": "Category",
         "type": "\"string\""
        },
        {
         "metadata": "{}",
         "name": "City",
         "type": "\"string\""
        },
        {
         "metadata": "{}",
         "name": "Country",
         "type": "\"string\""
        },
        {
         "metadata": "{}",
         "name": "Customer_ID",
         "type": "\"string\""
        },
        {
         "metadata": "{}",
         "name": "Customer_Name",
         "type": "\"string\""
        },
        {
         "metadata": "{}",
         "name": "Discount",
         "type": "\"string\""
        },
        {
         "metadata": "{}",
         "name": "Market",
         "type": "\"string\""
        },
        {
         "metadata": "{}",
         "name": "记录数",
         "type": "\"string\""
        },
        {
         "metadata": "{}",
         "name": "Order_Date",
         "type": "\"string\""
        },
        {
         "metadata": "{}",
         "name": "Order_ID",
         "type": "\"string\""
        },
        {
         "metadata": "{}",
         "name": "Order_Priority",
         "type": "\"string\""
        },
        {
         "metadata": "{}",
         "name": "Product_ID",
         "type": "\"string\""
        },
        {
         "metadata": "{}",
         "name": "Product_Name",
         "type": "\"string\""
        },
        {
         "metadata": "{}",
         "name": "Profit",
         "type": "\"string\""
        },
        {
         "metadata": "{}",
         "name": "Quantity",
         "type": "\"string\""
        },
        {
         "metadata": "{}",
         "name": "Region",
         "type": "\"string\""
        },
        {
         "metadata": "{}",
         "name": "Row_ID",
         "type": "\"string\""
        },
        {
         "metadata": "{}",
         "name": "Sales",
         "type": "\"string\""
        },
        {
         "metadata": "{}",
         "name": "Segment",
         "type": "\"string\""
        },
        {
         "metadata": "{}",
         "name": "Ship_Date",
         "type": "\"string\""
        },
        {
         "metadata": "{}",
         "name": "Ship_Mode",
         "type": "\"string\""
        },
        {
         "metadata": "{}",
         "name": "Shipping_Cost",
         "type": "\"string\""
        },
        {
         "metadata": "{}",
         "name": "State",
         "type": "\"string\""
        },
        {
         "metadata": "{}",
         "name": "Sub_Category",
         "type": "\"string\""
        },
        {
         "metadata": "{}",
         "name": "Year",
         "type": "\"string\""
        },
        {
         "metadata": "{}",
         "name": "Market2",
         "type": "\"string\""
        },
        {
         "metadata": "{}",
         "name": "weeknum",
         "type": "\"string\""
        }
       ],
       "type": "table"
      }
     },
     "output_type": "display_data"
    }
   ],
   "source": [
    "#DBFS location with the original dataset as CSV file\n",
    "file_location = \"/FileStore/Company_Inc/superstore.csv\"\n",
    "\n",
    "#read the CSV file with the Spark read function\n",
    "df = spark.read.option(\"delimiter\", \",\").option(\"header\", True).option(\"escape\", \"\\\"\").csv(file_location)\n",
    "\n",
    "#replace the dot character \".\" with \"_\"\n",
    "new_cols=(column.replace('.', '_') for column in df.columns)\n",
    "df = df.toDF(*new_cols)\n",
    "\n",
    "#display the results\n",
    "display(df.head(5))"
   ]
  },
  {
   "cell_type": "markdown",
   "metadata": {
    "application/vnd.databricks.v1+cell": {
     "cellMetadata": {
      "byteLimit": 2048000,
      "rowLimit": 10000
     },
     "inputWidgets": {},
     "nuid": "6d629a32-67a0-4289-9ae7-f142168e59a6",
     "showTitle": false,
     "title": ""
    }
   },
   "source": [
    "### 2. Prepare the dimension table \"Market\""
   ]
  },
  {
   "cell_type": "code",
   "execution_count": 0,
   "metadata": {
    "application/vnd.databricks.v1+cell": {
     "cellMetadata": {
      "byteLimit": 2048000,
      "rowLimit": 10000
     },
     "inputWidgets": {},
     "nuid": "4e5d67f0-df2e-47b9-8eb0-d0fcdd70a1ae",
     "showTitle": false,
     "title": ""
    }
   },
   "outputs": [
    {
     "output_type": "display_data",
     "data": {
      "text/html": [
       "<style scoped>\n",
       "  .table-result-container {\n",
       "    max-height: 300px;\n",
       "    overflow: auto;\n",
       "  }\n",
       "  table, th, td {\n",
       "    border: 1px solid black;\n",
       "    border-collapse: collapse;\n",
       "  }\n",
       "  th, td {\n",
       "    padding: 5px;\n",
       "  }\n",
       "  th {\n",
       "    text-align: left;\n",
       "  }\n",
       "</style><div class='table-result-container'><table class='table-result'><thead style='background-color: white'><tr><th>Market_ID</th><th>Market</th><th>Market2</th></tr></thead><tbody><tr><td>1</td><td>APAC</td><td>APAC</td></tr><tr><td>2</td><td>Africa</td><td>Africa</td></tr><tr><td>3</td><td>Canada</td><td>North America</td></tr><tr><td>4</td><td>EMEA</td><td>EMEA</td></tr><tr><td>5</td><td>EU</td><td>EU</td></tr></tbody></table></div>"
      ]
     },
     "metadata": {
      "application/vnd.databricks.v1+output": {
       "addedWidgets": {},
       "aggData": [],
       "aggError": "",
       "aggOverflow": false,
       "aggSchema": [],
       "aggSeriesLimitReached": false,
       "aggType": "",
       "arguments": {},
       "columnCustomDisplayInfos": {},
       "data": [
        [
         1,
         "APAC",
         "APAC"
        ],
        [
         2,
         "Africa",
         "Africa"
        ],
        [
         3,
         "Canada",
         "North America"
        ],
        [
         4,
         "EMEA",
         "EMEA"
        ],
        [
         5,
         "EU",
         "EU"
        ]
       ],
       "datasetInfos": [],
       "dbfsResultPath": null,
       "isJsonSchema": true,
       "metadata": {},
       "overflow": false,
       "plotOptions": {
        "customPlotOptions": {},
        "displayType": "table",
        "pivotAggregation": null,
        "pivotColumns": null,
        "xColumns": null,
        "yColumns": null
       },
       "removedWidgets": [],
       "schema": [
        {
         "metadata": "{}",
         "name": "Market_ID",
         "type": "\"long\""
        },
        {
         "metadata": "{}",
         "name": "Market",
         "type": "\"string\""
        },
        {
         "metadata": "{}",
         "name": "Market2",
         "type": "\"string\""
        }
       ],
       "type": "table"
      }
     },
     "output_type": "display_data"
    }
   ],
   "source": [
    "#drop duplicates to get all the unique values\n",
    "df_market = df.select(\"Market\", \"Market2\").drop_duplicates()\n",
    "\n",
    "#create a incremental integer to be the key of the dimension table\n",
    "df_market = df_market.withColumn(\"Market_ID\", f.row_number().over(Window.partitionBy().orderBy(\"Market\", \"Market2\")))\n",
    "\n",
    "#select the columns of interest in the correct order\n",
    "df_market = df_market.select(\"Market_ID\", \"Market\", \"Market2\")\n",
    "\n",
    "#display the results\n",
    "display(df_market.head(5))"
   ]
  },
  {
   "cell_type": "markdown",
   "metadata": {
    "application/vnd.databricks.v1+cell": {
     "cellMetadata": {
      "byteLimit": 2048000,
      "rowLimit": 10000
     },
     "inputWidgets": {},
     "nuid": "71d43af1-8224-4564-9fc1-237ae5663c26",
     "showTitle": false,
     "title": ""
    }
   },
   "source": [
    "### 3. Prepare the dimension table \"Location\""
   ]
  },
  {
   "cell_type": "code",
   "execution_count": 0,
   "metadata": {
    "application/vnd.databricks.v1+cell": {
     "cellMetadata": {
      "byteLimit": 2048000,
      "rowLimit": 10000
     },
     "inputWidgets": {},
     "nuid": "31a27e5f-0273-46b8-b3ee-98fbf40f23d2",
     "showTitle": false,
     "title": ""
    }
   },
   "outputs": [
    {
     "output_type": "display_data",
     "data": {
      "text/html": [
       "<style scoped>\n",
       "  .table-result-container {\n",
       "    max-height: 300px;\n",
       "    overflow: auto;\n",
       "  }\n",
       "  table, th, td {\n",
       "    border: 1px solid black;\n",
       "    border-collapse: collapse;\n",
       "  }\n",
       "  th, td {\n",
       "    padding: 5px;\n",
       "  }\n",
       "  th {\n",
       "    text-align: left;\n",
       "  }\n",
       "</style><div class='table-result-container'><table class='table-result'><thead style='background-color: white'><tr><th>Location_ID</th><th>Market_ID</th><th>Country</th><th>State</th><th>Region</th><th>City</th></tr></thead><tbody><tr><td>3417</td><td>7</td><td>United States</td><td>Maryland</td><td>East</td><td>Laurel</td></tr><tr><td>3586</td><td>7</td><td>United States</td><td>Oklahoma</td><td>Central</td><td>Lawton</td></tr><tr><td>3388</td><td>7</td><td>United States</td><td>Iowa</td><td>Central</td><td>Iowa City</td></tr><tr><td>3804</td><td>2</td><td>Zambia</td><td>Copperbelt</td><td>Africa</td><td>Chingola</td></tr><tr><td>2118</td><td>2</td><td>Mali</td><td>Bamako</td><td>Africa</td><td>Bamako</td></tr></tbody></table></div>"
      ]
     },
     "metadata": {
      "application/vnd.databricks.v1+output": {
       "addedWidgets": {},
       "aggData": [],
       "aggError": "",
       "aggOverflow": false,
       "aggSchema": [],
       "aggSeriesLimitReached": false,
       "aggType": "",
       "arguments": {},
       "columnCustomDisplayInfos": {},
       "data": [
        [
         3417,
         7,
         "United States",
         "Maryland",
         "East",
         "Laurel"
        ],
        [
         3586,
         7,
         "United States",
         "Oklahoma",
         "Central",
         "Lawton"
        ],
        [
         3388,
         7,
         "United States",
         "Iowa",
         "Central",
         "Iowa City"
        ],
        [
         3804,
         2,
         "Zambia",
         "Copperbelt",
         "Africa",
         "Chingola"
        ],
        [
         2118,
         2,
         "Mali",
         "Bamako",
         "Africa",
         "Bamako"
        ]
       ],
       "datasetInfos": [],
       "dbfsResultPath": null,
       "isJsonSchema": true,
       "metadata": {},
       "overflow": false,
       "plotOptions": {
        "customPlotOptions": {},
        "displayType": "table",
        "pivotAggregation": null,
        "pivotColumns": null,
        "xColumns": null,
        "yColumns": null
       },
       "removedWidgets": [],
       "schema": [
        {
         "metadata": "{}",
         "name": "Location_ID",
         "type": "\"long\""
        },
        {
         "metadata": "{}",
         "name": "Market_ID",
         "type": "\"long\""
        },
        {
         "metadata": "{}",
         "name": "Country",
         "type": "\"string\""
        },
        {
         "metadata": "{}",
         "name": "State",
         "type": "\"string\""
        },
        {
         "metadata": "{}",
         "name": "Region",
         "type": "\"string\""
        },
        {
         "metadata": "{}",
         "name": "City",
         "type": "\"string\""
        }
       ],
       "type": "table"
      }
     },
     "output_type": "display_data"
    }
   ],
   "source": [
    "#drop duplicates to get all the unique values\n",
    "df_location = df.select(\"Country\", \"State\", \"Region\", \"City\").drop_duplicates()\n",
    "\n",
    "#create a incremental integer to be the key of the dimension table\n",
    "df_location = df_location.withColumn(\"Location_ID\", f.row_number().over(Window.partitionBy().orderBy(\"Country\", \"State\", \"Region\", \"City\")))\n",
    "\n",
    "#create an auxiliary dataframe to use as a reference for the foreign key\n",
    "df_aux = df.select(\"Country\", \"State\", \"Region\", \"City\", \"Market\", \"Market2\").drop_duplicates()\n",
    "\n",
    "#combine the results between the dimension table and auxiliary dataframe\n",
    "df_location = df_location.join(df_aux, on=[\"Country\", \"State\", \"Region\", \"City\"])\n",
    "\n",
    "#get the foreign key using a join with the related table\n",
    "df_location = df_location.join(df_market, on=[\"Market\", \"Market2\"])\n",
    "\n",
    "#select the columns of interest in the correct order\n",
    "df_location = df_location.select(\"Location_ID\", \"Market_ID\", \"Country\", \"State\", \"Region\", \"City\")\n",
    "\n",
    "#display the results\n",
    "display(df_location.head(5))"
   ]
  },
  {
   "cell_type": "markdown",
   "metadata": {
    "application/vnd.databricks.v1+cell": {
     "cellMetadata": {
      "byteLimit": 2048000,
      "rowLimit": 10000
     },
     "inputWidgets": {},
     "nuid": "95ce8607-3ce0-4594-9c32-9e934725d373",
     "showTitle": false,
     "title": ""
    }
   },
   "source": [
    "### 4. Prepare the dimension table \"Customer_Segment\""
   ]
  },
  {
   "cell_type": "code",
   "execution_count": 0,
   "metadata": {
    "application/vnd.databricks.v1+cell": {
     "cellMetadata": {
      "byteLimit": 2048000,
      "rowLimit": 10000
     },
     "inputWidgets": {},
     "nuid": "8c822b9c-ef29-41cb-aadc-f0d5db51c366",
     "showTitle": false,
     "title": ""
    }
   },
   "outputs": [
    {
     "output_type": "display_data",
     "data": {
      "text/html": [
       "<style scoped>\n",
       "  .table-result-container {\n",
       "    max-height: 300px;\n",
       "    overflow: auto;\n",
       "  }\n",
       "  table, th, td {\n",
       "    border: 1px solid black;\n",
       "    border-collapse: collapse;\n",
       "  }\n",
       "  th, td {\n",
       "    padding: 5px;\n",
       "  }\n",
       "  th {\n",
       "    text-align: left;\n",
       "  }\n",
       "</style><div class='table-result-container'><table class='table-result'><thead style='background-color: white'><tr><th>Customer_Segment_ID</th><th>Segment</th></tr></thead><tbody><tr><td>1</td><td>Consumer</td></tr><tr><td>2</td><td>Corporate</td></tr><tr><td>3</td><td>Home Office</td></tr></tbody></table></div>"
      ]
     },
     "metadata": {
      "application/vnd.databricks.v1+output": {
       "addedWidgets": {},
       "aggData": [],
       "aggError": "",
       "aggOverflow": false,
       "aggSchema": [],
       "aggSeriesLimitReached": false,
       "aggType": "",
       "arguments": {},
       "columnCustomDisplayInfos": {},
       "data": [
        [
         1,
         "Consumer"
        ],
        [
         2,
         "Corporate"
        ],
        [
         3,
         "Home Office"
        ]
       ],
       "datasetInfos": [],
       "dbfsResultPath": null,
       "isJsonSchema": true,
       "metadata": {},
       "overflow": false,
       "plotOptions": {
        "customPlotOptions": {},
        "displayType": "table",
        "pivotAggregation": null,
        "pivotColumns": null,
        "xColumns": null,
        "yColumns": null
       },
       "removedWidgets": [],
       "schema": [
        {
         "metadata": "{}",
         "name": "Customer_Segment_ID",
         "type": "\"long\""
        },
        {
         "metadata": "{}",
         "name": "Segment",
         "type": "\"string\""
        }
       ],
       "type": "table"
      }
     },
     "output_type": "display_data"
    }
   ],
   "source": [
    "#drop duplicates to get all the unique values\n",
    "df_cust_seg = df.select(\"Segment\").drop_duplicates()\n",
    "\n",
    "#create a incremental integer to be the key of the dimension table\n",
    "df_cust_seg = df_cust_seg.withColumn(\"Customer_Segment_ID\", f.row_number().over(Window.partitionBy().orderBy(\"Segment\")))\n",
    "\n",
    "#select the columns of interest in the correct order\n",
    "df_cust_seg = df_cust_seg.select(\"Customer_Segment_ID\", \"Segment\")\n",
    "\n",
    "#display the results\n",
    "display(df_cust_seg.head(5))"
   ]
  },
  {
   "cell_type": "markdown",
   "metadata": {
    "application/vnd.databricks.v1+cell": {
     "cellMetadata": {
      "byteLimit": 2048000,
      "rowLimit": 10000
     },
     "inputWidgets": {},
     "nuid": "61b2b905-5003-4ed3-8ed0-c9b71f59aa14",
     "showTitle": false,
     "title": ""
    }
   },
   "source": [
    "### 5. Prepare the dimension table \"Customer\""
   ]
  },
  {
   "cell_type": "code",
   "execution_count": 0,
   "metadata": {
    "application/vnd.databricks.v1+cell": {
     "cellMetadata": {
      "byteLimit": 2048000,
      "rowLimit": 10000
     },
     "inputWidgets": {},
     "nuid": "3d95b40e-7b63-4e05-a359-55c00adf4340",
     "showTitle": false,
     "title": ""
    }
   },
   "outputs": [
    {
     "output_type": "display_data",
     "data": {
      "text/html": [
       "<style scoped>\n",
       "  .table-result-container {\n",
       "    max-height: 300px;\n",
       "    overflow: auto;\n",
       "  }\n",
       "  table, th, td {\n",
       "    border: 1px solid black;\n",
       "    border-collapse: collapse;\n",
       "  }\n",
       "  th, td {\n",
       "    padding: 5px;\n",
       "  }\n",
       "  th {\n",
       "    text-align: left;\n",
       "  }\n",
       "</style><div class='table-result-container'><table class='table-result'><thead style='background-color: white'><tr><th>Customer_ID</th><th>Customer_Segment_ID</th><th>Customer_Name</th></tr></thead><tbody><tr><td>JO-152804</td><td>1</td><td>Jas O'Carroll</td></tr><tr><td>DB-136154</td><td>1</td><td>Doug Bickford</td></tr><tr><td>JK-160904</td><td>1</td><td>Juliana Krohn</td></tr><tr><td>SJ-201252</td><td>3</td><td>Sanjit Jacobs</td></tr><tr><td>PA-190602</td><td>3</td><td>Pete Armstrong</td></tr></tbody></table></div>"
      ]
     },
     "metadata": {
      "application/vnd.databricks.v1+output": {
       "addedWidgets": {},
       "aggData": [],
       "aggError": "",
       "aggOverflow": false,
       "aggSchema": [],
       "aggSeriesLimitReached": false,
       "aggType": "",
       "arguments": {},
       "columnCustomDisplayInfos": {},
       "data": [
        [
         "JO-152804",
         1,
         "Jas O'Carroll"
        ],
        [
         "DB-136154",
         1,
         "Doug Bickford"
        ],
        [
         "JK-160904",
         1,
         "Juliana Krohn"
        ],
        [
         "SJ-201252",
         3,
         "Sanjit Jacobs"
        ],
        [
         "PA-190602",
         3,
         "Pete Armstrong"
        ]
       ],
       "datasetInfos": [],
       "dbfsResultPath": null,
       "isJsonSchema": true,
       "metadata": {},
       "overflow": false,
       "plotOptions": {
        "customPlotOptions": {},
        "displayType": "table",
        "pivotAggregation": null,
        "pivotColumns": null,
        "xColumns": null,
        "yColumns": null
       },
       "removedWidgets": [],
       "schema": [
        {
         "metadata": "{}",
         "name": "Customer_ID",
         "type": "\"string\""
        },
        {
         "metadata": "{}",
         "name": "Customer_Segment_ID",
         "type": "\"long\""
        },
        {
         "metadata": "{}",
         "name": "Customer_Name",
         "type": "\"string\""
        }
       ],
       "type": "table"
      }
     },
     "output_type": "display_data"
    }
   ],
   "source": [
    "#drop duplicates to get all the unique values\n",
    "df_cust = df.select(\"Customer_ID\", \"Customer_Name\").drop_duplicates()\n",
    "\n",
    "#create an auxiliary dataframe to use as a reference for the foreign key\n",
    "df_aux = df.select(\"Customer_ID\", \"Customer_Name\", \"Segment\").drop_duplicates()\n",
    "\n",
    "#combine the results between the dimension table and auxiliary dataframe\n",
    "df_cust = df_cust.join(df_aux, on=[\"Customer_ID\", \"Customer_Name\"])\n",
    "\n",
    "#get the foreign key using a join with the related table\n",
    "df_cust = df_cust.join(df_cust_seg, on=[\"Segment\"])\n",
    "\n",
    "#select the columns of interest in the correct order\n",
    "df_cust = df_cust.select(\"Customer_ID\", \"Customer_Segment_ID\", \"Customer_Name\")\n",
    "\n",
    "#display the results\n",
    "display(df_cust.head(5))"
   ]
  },
  {
   "cell_type": "markdown",
   "metadata": {
    "application/vnd.databricks.v1+cell": {
     "cellMetadata": {
      "byteLimit": 2048000,
      "rowLimit": 10000
     },
     "inputWidgets": {},
     "nuid": "8e2ff8f1-1e87-4a86-8ed2-2fe38a59fd5c",
     "showTitle": false,
     "title": ""
    }
   },
   "source": [
    "### 6. Prepare the dimension table \"Product_Category\""
   ]
  },
  {
   "cell_type": "code",
   "execution_count": 0,
   "metadata": {
    "application/vnd.databricks.v1+cell": {
     "cellMetadata": {
      "byteLimit": 2048000,
      "rowLimit": 10000
     },
     "inputWidgets": {},
     "nuid": "f564ba5c-5a60-41fa-a48f-22b331b390a8",
     "showTitle": false,
     "title": ""
    }
   },
   "outputs": [
    {
     "output_type": "display_data",
     "data": {
      "text/html": [
       "<style scoped>\n",
       "  .table-result-container {\n",
       "    max-height: 300px;\n",
       "    overflow: auto;\n",
       "  }\n",
       "  table, th, td {\n",
       "    border: 1px solid black;\n",
       "    border-collapse: collapse;\n",
       "  }\n",
       "  th, td {\n",
       "    padding: 5px;\n",
       "  }\n",
       "  th {\n",
       "    text-align: left;\n",
       "  }\n",
       "</style><div class='table-result-container'><table class='table-result'><thead style='background-color: white'><tr><th>Product_Category_ID</th><th>Category</th><th>Sub_Category</th></tr></thead><tbody><tr><td>1</td><td>Furniture</td><td>Bookcases</td></tr><tr><td>2</td><td>Furniture</td><td>Chairs</td></tr><tr><td>3</td><td>Furniture</td><td>Furnishings</td></tr><tr><td>4</td><td>Furniture</td><td>Tables</td></tr><tr><td>5</td><td>Office Supplies</td><td>Appliances</td></tr></tbody></table></div>"
      ]
     },
     "metadata": {
      "application/vnd.databricks.v1+output": {
       "addedWidgets": {},
       "aggData": [],
       "aggError": "",
       "aggOverflow": false,
       "aggSchema": [],
       "aggSeriesLimitReached": false,
       "aggType": "",
       "arguments": {},
       "columnCustomDisplayInfos": {},
       "data": [
        [
         1,
         "Furniture",
         "Bookcases"
        ],
        [
         2,
         "Furniture",
         "Chairs"
        ],
        [
         3,
         "Furniture",
         "Furnishings"
        ],
        [
         4,
         "Furniture",
         "Tables"
        ],
        [
         5,
         "Office Supplies",
         "Appliances"
        ]
       ],
       "datasetInfos": [],
       "dbfsResultPath": null,
       "isJsonSchema": true,
       "metadata": {},
       "overflow": false,
       "plotOptions": {
        "customPlotOptions": {},
        "displayType": "table",
        "pivotAggregation": null,
        "pivotColumns": null,
        "xColumns": null,
        "yColumns": null
       },
       "removedWidgets": [],
       "schema": [
        {
         "metadata": "{}",
         "name": "Product_Category_ID",
         "type": "\"long\""
        },
        {
         "metadata": "{}",
         "name": "Category",
         "type": "\"string\""
        },
        {
         "metadata": "{}",
         "name": "Sub_Category",
         "type": "\"string\""
        }
       ],
       "type": "table"
      }
     },
     "output_type": "display_data"
    }
   ],
   "source": [
    "#drop duplicates to get all the unique values\n",
    "df_prod_cat = df.select(\"Category\", \"Sub_Category\").drop_duplicates()\n",
    "\n",
    "#create a incremental integer to be the key of the dimension table\n",
    "df_prod_cat = df_prod_cat.withColumn(\"Product_Category_ID\", f.row_number().over(Window.partitionBy().orderBy(\"Category\", \"Sub_Category\")))\n",
    "\n",
    "#select the columns of interest in the correct order\n",
    "df_prod_cat = df_prod_cat.select(\"Product_Category_ID\", \"Category\", \"Sub_Category\")\n",
    "\n",
    "#display the results\n",
    "display(df_prod_cat.head(5))"
   ]
  },
  {
   "cell_type": "markdown",
   "metadata": {
    "application/vnd.databricks.v1+cell": {
     "cellMetadata": {
      "byteLimit": 2048000,
      "rowLimit": 10000
     },
     "inputWidgets": {},
     "nuid": "7e51c515-953a-49d4-8ae0-d2701ed08734",
     "showTitle": false,
     "title": ""
    }
   },
   "source": [
    "### 7. Prepare the dimension table \"Product\""
   ]
  },
  {
   "cell_type": "code",
   "execution_count": 0,
   "metadata": {
    "application/vnd.databricks.v1+cell": {
     "cellMetadata": {
      "byteLimit": 2048000,
      "rowLimit": 10000
     },
     "inputWidgets": {},
     "nuid": "f85b0b27-27a2-4c15-a36a-d8a88eecc0d3",
     "showTitle": false,
     "title": ""
    }
   },
   "outputs": [
    {
     "output_type": "display_data",
     "data": {
      "text/html": [
       "<style scoped>\n",
       "  .table-result-container {\n",
       "    max-height: 300px;\n",
       "    overflow: auto;\n",
       "  }\n",
       "  table, th, td {\n",
       "    border: 1px solid black;\n",
       "    border-collapse: collapse;\n",
       "  }\n",
       "  th, td {\n",
       "    padding: 5px;\n",
       "  }\n",
       "  th {\n",
       "    text-align: left;\n",
       "  }\n",
       "</style><div class='table-result-container'><table class='table-result'><thead style='background-color: white'><tr><th>Product_ID</th><th>Product_Category_ID</th><th>Product_Name</th></tr></thead><tbody><tr><td>OFF-PA-10003971</td><td>11</td><td>Xerox 1965</td></tr><tr><td>OFF-PA-10004948</td><td>11</td><td>Xerox 190</td></tr><tr><td>OFF-AR-10003477</td><td>6</td><td>4009 Highlighters</td></tr><tr><td>OFF-BI-10000069</td><td>7</td><td>GBC Prepunched Paper, 19-Hole, for Binding Systems, 24-lb</td></tr><tr><td>OFF-EN-10002140</td><td>8</td><td>Jiffy Business Envelopes, Recycled</td></tr></tbody></table></div>"
      ]
     },
     "metadata": {
      "application/vnd.databricks.v1+output": {
       "addedWidgets": {},
       "aggData": [],
       "aggError": "",
       "aggOverflow": false,
       "aggSchema": [],
       "aggSeriesLimitReached": false,
       "aggType": "",
       "arguments": {},
       "columnCustomDisplayInfos": {},
       "data": [
        [
         "OFF-PA-10003971",
         11,
         "Xerox 1965"
        ],
        [
         "OFF-PA-10004948",
         11,
         "Xerox 190"
        ],
        [
         "OFF-AR-10003477",
         6,
         "4009 Highlighters"
        ],
        [
         "OFF-BI-10000069",
         7,
         "GBC Prepunched Paper, 19-Hole, for Binding Systems, 24-lb"
        ],
        [
         "OFF-EN-10002140",
         8,
         "Jiffy Business Envelopes, Recycled"
        ]
       ],
       "datasetInfos": [],
       "dbfsResultPath": null,
       "isJsonSchema": true,
       "metadata": {},
       "overflow": false,
       "plotOptions": {
        "customPlotOptions": {},
        "displayType": "table",
        "pivotAggregation": null,
        "pivotColumns": null,
        "xColumns": null,
        "yColumns": null
       },
       "removedWidgets": [],
       "schema": [
        {
         "metadata": "{}",
         "name": "Product_ID",
         "type": "\"string\""
        },
        {
         "metadata": "{}",
         "name": "Product_Category_ID",
         "type": "\"long\""
        },
        {
         "metadata": "{}",
         "name": "Product_Name",
         "type": "\"string\""
        }
       ],
       "type": "table"
      }
     },
     "output_type": "display_data"
    }
   ],
   "source": [
    "#drop duplicates to get all the unique values\n",
    "df_prod = df.select(\"Product_ID\", \"Product_Name\", \"Order_Date\")\n",
    "\n",
    "#calculate the last order date by Product_ID\n",
    "df_prod = df_prod.withColumn(\"Order_Date_last\", f.max(\"Order_Date\").over(Window.partitionBy(\"Product_ID\")))\n",
    "\n",
    "#filter the dataframe with only the last order date to get the last Product Name for each Product ID\n",
    "df_prod = df_prod.filter(f.col(\"Order_Date_last\")==f.col(\"Order_Date\"))\n",
    "\n",
    "#drop duplicates by Product ID to eliminate few cases when the Product Name changed in the last order date\n",
    "df_prod = df_prod.drop_duplicates(subset=[\"Product_ID\"])\n",
    "\n",
    "#create an auxiliary dataframe to use as a reference for the foreign key\n",
    "df_aux = df.select(\"Product_ID\", \"Product_Name\", \"Category\", \"Sub_Category\").drop_duplicates()\n",
    "\n",
    "#combine the results between the dimension table and auxiliary dataframe\n",
    "df_prod = df_prod.join(df_aux, on=[\"Product_ID\", \"Product_Name\"])\n",
    "\n",
    "#get the foreign key using a join with the related table\n",
    "df_prod = df_prod.join(df_prod_cat, on=[\"Category\", \"Sub_Category\"])\n",
    "\n",
    "#select the columns of interest in the correct order\n",
    "df_prod = df_prod.select(\"Product_ID\", \"Product_Category_ID\", \"Product_Name\")\n",
    "\n",
    "#display the results\n",
    "display(df_prod.head(5))"
   ]
  },
  {
   "cell_type": "markdown",
   "metadata": {
    "application/vnd.databricks.v1+cell": {
     "cellMetadata": {
      "byteLimit": 2048000,
      "rowLimit": 10000
     },
     "inputWidgets": {},
     "nuid": "9f2613db-ccd2-4731-a4af-e78948bd635a",
     "showTitle": false,
     "title": ""
    }
   },
   "source": [
    "### 8. Prepare the dimension table \"Order Priority\""
   ]
  },
  {
   "cell_type": "code",
   "execution_count": 0,
   "metadata": {
    "application/vnd.databricks.v1+cell": {
     "cellMetadata": {
      "byteLimit": 2048000,
      "rowLimit": 10000
     },
     "inputWidgets": {},
     "nuid": "fca116ba-dec1-4dc0-9943-31cd833069d7",
     "showTitle": false,
     "title": ""
    }
   },
   "outputs": [
    {
     "output_type": "display_data",
     "data": {
      "text/html": [
       "<style scoped>\n",
       "  .table-result-container {\n",
       "    max-height: 300px;\n",
       "    overflow: auto;\n",
       "  }\n",
       "  table, th, td {\n",
       "    border: 1px solid black;\n",
       "    border-collapse: collapse;\n",
       "  }\n",
       "  th, td {\n",
       "    padding: 5px;\n",
       "  }\n",
       "  th {\n",
       "    text-align: left;\n",
       "  }\n",
       "</style><div class='table-result-container'><table class='table-result'><thead style='background-color: white'><tr><th>Order_Priority_ID</th><th>Order_Priority</th></tr></thead><tbody><tr><td>1</td><td>Critical</td></tr><tr><td>2</td><td>High</td></tr><tr><td>3</td><td>Low</td></tr><tr><td>4</td><td>Medium</td></tr></tbody></table></div>"
      ]
     },
     "metadata": {
      "application/vnd.databricks.v1+output": {
       "addedWidgets": {},
       "aggData": [],
       "aggError": "",
       "aggOverflow": false,
       "aggSchema": [],
       "aggSeriesLimitReached": false,
       "aggType": "",
       "arguments": {},
       "columnCustomDisplayInfos": {},
       "data": [
        [
         1,
         "Critical"
        ],
        [
         2,
         "High"
        ],
        [
         3,
         "Low"
        ],
        [
         4,
         "Medium"
        ]
       ],
       "datasetInfos": [],
       "dbfsResultPath": null,
       "isJsonSchema": true,
       "metadata": {},
       "overflow": false,
       "plotOptions": {
        "customPlotOptions": {},
        "displayType": "table",
        "pivotAggregation": null,
        "pivotColumns": null,
        "xColumns": null,
        "yColumns": null
       },
       "removedWidgets": [],
       "schema": [
        {
         "metadata": "{}",
         "name": "Order_Priority_ID",
         "type": "\"long\""
        },
        {
         "metadata": "{}",
         "name": "Order_Priority",
         "type": "\"string\""
        }
       ],
       "type": "table"
      }
     },
     "output_type": "display_data"
    }
   ],
   "source": [
    "#drop duplicates to get all the unique values\n",
    "df_ord_prio = df.select(\"Order_Priority\").drop_duplicates()\n",
    "\n",
    "#create a incremental integer to be the key of the dimension table\n",
    "df_ord_prio = df_ord_prio.withColumn(\"Order_Priority_ID\", f.row_number().over(Window.partitionBy().orderBy(\"Order_Priority\")))\n",
    "\n",
    "#select the columns of interest in the correct order\n",
    "df_ord_prio = df_ord_prio.select(\"Order_Priority_ID\", \"Order_Priority\")\n",
    "\n",
    "#display the results\n",
    "display(df_ord_prio.head(5))"
   ]
  },
  {
   "cell_type": "markdown",
   "metadata": {
    "application/vnd.databricks.v1+cell": {
     "cellMetadata": {
      "byteLimit": 2048000,
      "rowLimit": 10000
     },
     "inputWidgets": {},
     "nuid": "95a8a3e8-a561-4169-a66c-ca8856795d46",
     "showTitle": false,
     "title": ""
    }
   },
   "source": [
    "### 9. Prepare the dimension table \"Calendar_Date\""
   ]
  },
  {
   "cell_type": "code",
   "execution_count": 0,
   "metadata": {
    "application/vnd.databricks.v1+cell": {
     "cellMetadata": {
      "byteLimit": 2048000,
      "rowLimit": 10000
     },
     "inputWidgets": {},
     "nuid": "70f4de74-ed0c-4931-8fdc-fffea09865e3",
     "showTitle": false,
     "title": ""
    }
   },
   "outputs": [
    {
     "output_type": "display_data",
     "data": {
      "text/html": [
       "<style scoped>\n",
       "  .table-result-container {\n",
       "    max-height: 300px;\n",
       "    overflow: auto;\n",
       "  }\n",
       "  table, th, td {\n",
       "    border: 1px solid black;\n",
       "    border-collapse: collapse;\n",
       "  }\n",
       "  th, td {\n",
       "    padding: 5px;\n",
       "  }\n",
       "  th {\n",
       "    text-align: left;\n",
       "  }\n",
       "</style><div class='table-result-container'><table class='table-result'><thead style='background-color: white'><tr><th>Date_ID</th><th>Date</th></tr></thead><tbody><tr><td>1</td><td>2000-01-01</td></tr><tr><td>2</td><td>2000-01-02</td></tr><tr><td>3</td><td>2000-01-03</td></tr><tr><td>4</td><td>2000-01-04</td></tr><tr><td>5</td><td>2000-01-05</td></tr></tbody></table></div>"
      ]
     },
     "metadata": {
      "application/vnd.databricks.v1+output": {
       "addedWidgets": {},
       "aggData": [],
       "aggError": "",
       "aggOverflow": false,
       "aggSchema": [],
       "aggSeriesLimitReached": false,
       "aggType": "",
       "arguments": {},
       "columnCustomDisplayInfos": {},
       "data": [
        [
         1,
         "2000-01-01"
        ],
        [
         2,
         "2000-01-02"
        ],
        [
         3,
         "2000-01-03"
        ],
        [
         4,
         "2000-01-04"
        ],
        [
         5,
         "2000-01-05"
        ]
       ],
       "datasetInfos": [],
       "dbfsResultPath": null,
       "isJsonSchema": true,
       "metadata": {},
       "overflow": false,
       "plotOptions": {
        "customPlotOptions": {},
        "displayType": "table",
        "pivotAggregation": null,
        "pivotColumns": null,
        "xColumns": null,
        "yColumns": null
       },
       "removedWidgets": [],
       "schema": [
        {
         "metadata": "{}",
         "name": "Date_ID",
         "type": "\"long\""
        },
        {
         "metadata": "{}",
         "name": "Date",
         "type": "\"date\""
        }
       ],
       "type": "table"
      }
     },
     "output_type": "display_data"
    }
   ],
   "source": [
    "#create dataframe from scratch with a constant value\n",
    "df_calendar = spark.createDataFrame([(1,)], [\"id\"])\n",
    "\n",
    "#create a date sequence by day\n",
    "df_calendar = df_calendar.withColumn(\"Date\", f.explode(f.expr(\"sequence(to_date('2000-01-01'), to_date('2100-01-01'), interval 1 day)\")))\n",
    "\n",
    "#create a incremental integer to be the key of the dimension table\n",
    "df_calendar = df_calendar.withColumn(\"Date_ID\", f.row_number().over(Window.partitionBy().orderBy(\"Date\")))\n",
    "\n",
    "#select the columns of interest in the correct order\n",
    "df_calendar = df_calendar.select(\"Date_ID\", \"Date\")\n",
    "\n",
    "display(df_calendar.head(5))"
   ]
  },
  {
   "cell_type": "markdown",
   "metadata": {
    "application/vnd.databricks.v1+cell": {
     "cellMetadata": {
      "byteLimit": 2048000,
      "rowLimit": 10000
     },
     "inputWidgets": {},
     "nuid": "bbb1033d-406d-48fd-b109-b2df066d36ca",
     "showTitle": false,
     "title": ""
    }
   },
   "source": [
    "### 10. Prepare the dimension table \"Ship_Mode\""
   ]
  },
  {
   "cell_type": "code",
   "execution_count": 0,
   "metadata": {
    "application/vnd.databricks.v1+cell": {
     "cellMetadata": {
      "byteLimit": 2048000,
      "rowLimit": 10000
     },
     "inputWidgets": {},
     "nuid": "7ac032a9-aa78-4c2d-9745-ffc6b235fcf8",
     "showTitle": false,
     "title": ""
    }
   },
   "outputs": [
    {
     "output_type": "display_data",
     "data": {
      "text/html": [
       "<style scoped>\n",
       "  .table-result-container {\n",
       "    max-height: 300px;\n",
       "    overflow: auto;\n",
       "  }\n",
       "  table, th, td {\n",
       "    border: 1px solid black;\n",
       "    border-collapse: collapse;\n",
       "  }\n",
       "  th, td {\n",
       "    padding: 5px;\n",
       "  }\n",
       "  th {\n",
       "    text-align: left;\n",
       "  }\n",
       "</style><div class='table-result-container'><table class='table-result'><thead style='background-color: white'><tr><th>Ship_Mode_ID</th><th>Ship_Mode</th></tr></thead><tbody><tr><td>1</td><td>First Class</td></tr><tr><td>2</td><td>Same Day</td></tr><tr><td>3</td><td>Second Class</td></tr><tr><td>4</td><td>Standard Class</td></tr></tbody></table></div>"
      ]
     },
     "metadata": {
      "application/vnd.databricks.v1+output": {
       "addedWidgets": {},
       "aggData": [],
       "aggError": "",
       "aggOverflow": false,
       "aggSchema": [],
       "aggSeriesLimitReached": false,
       "aggType": "",
       "arguments": {},
       "columnCustomDisplayInfos": {},
       "data": [
        [
         1,
         "First Class"
        ],
        [
         2,
         "Same Day"
        ],
        [
         3,
         "Second Class"
        ],
        [
         4,
         "Standard Class"
        ]
       ],
       "datasetInfos": [],
       "dbfsResultPath": null,
       "isJsonSchema": true,
       "metadata": {},
       "overflow": false,
       "plotOptions": {
        "customPlotOptions": {},
        "displayType": "table",
        "pivotAggregation": null,
        "pivotColumns": null,
        "xColumns": null,
        "yColumns": null
       },
       "removedWidgets": [],
       "schema": [
        {
         "metadata": "{}",
         "name": "Ship_Mode_ID",
         "type": "\"long\""
        },
        {
         "metadata": "{}",
         "name": "Ship_Mode",
         "type": "\"string\""
        }
       ],
       "type": "table"
      }
     },
     "output_type": "display_data"
    }
   ],
   "source": [
    "#drop duplicates to get all the unique values\n",
    "df_ship_mode = df.select(\"Ship_Mode\").drop_duplicates()\n",
    "\n",
    "#create a incremental integer to be the key of the dimension table\n",
    "df_ship_mode = df_ship_mode.withColumn(\"Ship_Mode_ID\", f.row_number().over(Window.partitionBy().orderBy(\"Ship_Mode\")))\n",
    "\n",
    "#select the columns of interest in the correct order\n",
    "df_ship_mode = df_ship_mode.select(\"Ship_Mode_ID\", \"Ship_Mode\")\n",
    "\n",
    "#display the results\n",
    "display(df_ship_mode.head(5))"
   ]
  },
  {
   "cell_type": "markdown",
   "metadata": {
    "application/vnd.databricks.v1+cell": {
     "cellMetadata": {
      "byteLimit": 2048000,
      "rowLimit": 10000
     },
     "inputWidgets": {},
     "nuid": "879552a2-6f59-4cbb-9c1d-19b7209d52bf",
     "showTitle": false,
     "title": ""
    }
   },
   "source": [
    "### 11. Prepare the dimension table \"Ship\""
   ]
  },
  {
   "cell_type": "code",
   "execution_count": 0,
   "metadata": {
    "application/vnd.databricks.v1+cell": {
     "cellMetadata": {
      "byteLimit": 2048000,
      "rowLimit": 10000
     },
     "inputWidgets": {},
     "nuid": "6586146a-1352-4d56-a9cf-c9ac56ab01c5",
     "showTitle": false,
     "title": ""
    }
   },
   "outputs": [
    {
     "output_type": "display_data",
     "data": {
      "text/html": [
       "<style scoped>\n",
       "  .table-result-container {\n",
       "    max-height: 300px;\n",
       "    overflow: auto;\n",
       "  }\n",
       "  table, th, td {\n",
       "    border: 1px solid black;\n",
       "    border-collapse: collapse;\n",
       "  }\n",
       "  th, td {\n",
       "    padding: 5px;\n",
       "  }\n",
       "  th {\n",
       "    text-align: left;\n",
       "  }\n",
       "</style><div class='table-result-container'><table class='table-result'><thead style='background-color: white'><tr><th>Ship_ID</th><th>Ship_Mode_ID</th><th>Ship_Date</th><th>Shipping_Cost</th></tr></thead><tbody><tr><td>1</td><td>2</td><td>4021</td><td>125.32</td></tr><tr><td>2</td><td>2</td><td>4021</td><td>7.46</td></tr><tr><td>3</td><td>3</td><td>4023</td><td>4.82</td></tr><tr><td>4</td><td>3</td><td>4023</td><td>8.17</td></tr><tr><td>5</td><td>4</td><td>4024</td><td>24.1</td></tr></tbody></table></div>"
      ]
     },
     "metadata": {
      "application/vnd.databricks.v1+output": {
       "addedWidgets": {},
       "aggData": [],
       "aggError": "",
       "aggOverflow": false,
       "aggSchema": [],
       "aggSeriesLimitReached": false,
       "aggType": "",
       "arguments": {},
       "columnCustomDisplayInfos": {},
       "data": [
        [
         1,
         2,
         4021,
         "125.32"
        ],
        [
         2,
         2,
         4021,
         "7.46"
        ],
        [
         3,
         3,
         4023,
         "4.82"
        ],
        [
         4,
         3,
         4023,
         "8.17"
        ],
        [
         5,
         4,
         4024,
         "24.1"
        ]
       ],
       "datasetInfos": [],
       "dbfsResultPath": null,
       "isJsonSchema": true,
       "metadata": {},
       "overflow": false,
       "plotOptions": {
        "customPlotOptions": {},
        "displayType": "table",
        "pivotAggregation": null,
        "pivotColumns": null,
        "xColumns": null,
        "yColumns": null
       },
       "removedWidgets": [],
       "schema": [
        {
         "metadata": "{}",
         "name": "Ship_ID",
         "type": "\"long\""
        },
        {
         "metadata": "{}",
         "name": "Ship_Mode_ID",
         "type": "\"long\""
        },
        {
         "metadata": "{}",
         "name": "Ship_Date",
         "type": "\"long\""
        },
        {
         "metadata": "{}",
         "name": "Shipping_Cost",
         "type": "\"string\""
        }
       ],
       "type": "table"
      }
     },
     "output_type": "display_data"
    }
   ],
   "source": [
    "#drop duplicates to get all the unique values\n",
    "df_ship = df.select(\"Ship_Date\", \"Ship_Mode\", \"Shipping_Cost\").drop_duplicates()\n",
    "\n",
    "#create an auxiliary dataframe to use as a reference for the foreign key\n",
    "df_ship = df_ship.withColumn(\"Ship_ID\", f.row_number().over(Window.partitionBy().orderBy(\"Ship_Date\", \"Ship_Mode\", \"Shipping_Cost\")))\n",
    "\n",
    "#combine the results between the dimension table and auxiliary dataframe\n",
    "df_ship = df_ship.join(df_ship_mode, on=[\"Ship_Mode\"])\n",
    "\n",
    "#get the foreign key using a join with the related table\n",
    "cond = df_ship[\"Ship_Date\"] == df_calendar[\"Date\"]\n",
    "df_ship = df_ship.join(df_calendar, on=cond)\n",
    "\n",
    "#select the columns of interest in the correct order\n",
    "df_ship = df_ship.select(\"Ship_ID\", \"Ship_Mode_ID\", \"Date_ID\", \"Shipping_Cost\")\n",
    "\n",
    "#change the Date column name\n",
    "df_ship = df_ship.withColumnRenamed(\"Date_ID\", \"Ship_Date\")\n",
    "\n",
    "#display the results\n",
    "display(df_ship.head(5))"
   ]
  },
  {
   "cell_type": "markdown",
   "metadata": {
    "application/vnd.databricks.v1+cell": {
     "cellMetadata": {
      "byteLimit": 2048000,
      "rowLimit": 10000
     },
     "inputWidgets": {},
     "nuid": "2b4138f8-8e9c-4a9e-adf6-73a8b260534d",
     "showTitle": false,
     "title": ""
    }
   },
   "source": [
    "### 12. Prepare the fact table \"Order\""
   ]
  },
  {
   "cell_type": "markdown",
   "metadata": {
    "application/vnd.databricks.v1+cell": {
     "cellMetadata": {
      "byteLimit": 2048000,
      "rowLimit": 10000
     },
     "inputWidgets": {},
     "nuid": "1af003a4-9b98-4b8a-98e9-59d88c258c8d",
     "showTitle": false,
     "title": ""
    }
   },
   "source": [
    "#### 12.1 Combine the fact table \"Order\" with the dimension table \"Location\""
   ]
  },
  {
   "cell_type": "code",
   "execution_count": 0,
   "metadata": {
    "application/vnd.databricks.v1+cell": {
     "cellMetadata": {
      "byteLimit": 2048000,
      "rowLimit": 10000
     },
     "inputWidgets": {},
     "nuid": "5d9fc242-e2df-4719-9f40-bf4bf64661ef",
     "showTitle": false,
     "title": ""
    }
   },
   "outputs": [],
   "source": [
    "#drop duplicates to get all the unique values\n",
    "df_order = df.select(\"Order_ID\", \"Quantity\", \"Sales\", \"Discount\", \"Profit\", \"Country\", \"State\", \"Region\", \"City\", \"Market\", \"Market2\", \"Order_Date\", \"Ship_Date\", \"Ship_Mode\", \"Shipping_Cost\", \"Customer_ID\", \"Customer_Name\", \"Segment\", \"Product_ID\", \"Product_Name\",\"Order_Priority\").drop_duplicates()\n",
    "\n",
    "#change the Date column name\n",
    "df_order = df_order.withColumnRenamed(\"Order_ID\", \"Order_Local_ID\")\n",
    "\n",
    "#create an auxiliary dataframe to use as a reference for the foreign key\n",
    "df_order = df_order.withColumn(\"Order_ID\", f.row_number().over(Window.partitionBy().orderBy(\"Order_Date\", \"Customer_ID\")))\n",
    "\n",
    "#create an auxiliary dataframe to use as a reference for the foreign key\n",
    "df_aux = df_location.join(df_market, on=[\"Market_ID\"])\n",
    "\n",
    "#combine the results between the fact table and the auxiliary dataframe\n",
    "df_order = df_order.join(df_aux, on=[\"Country\", \"State\", \"Region\", \"City\", \"Market\", \"Market2\"])\n",
    "\n",
    "#drop the unnecessary columns in the fact column\n",
    "df_order = df_order.drop(\"Country\", \"State\", \"Region\", \"City\", \"Market\", \"Market2\", \"Market_ID\")"
   ]
  },
  {
   "cell_type": "markdown",
   "metadata": {
    "application/vnd.databricks.v1+cell": {
     "cellMetadata": {
      "byteLimit": 2048000,
      "rowLimit": 10000
     },
     "inputWidgets": {},
     "nuid": "3bac2ec5-7b9d-4084-8016-ccc125162ac2",
     "showTitle": false,
     "title": ""
    }
   },
   "source": [
    "#### 12.2 Combine the fact table \"Order\" with the dimension table \"Calendar_Date\""
   ]
  },
  {
   "cell_type": "code",
   "execution_count": 0,
   "metadata": {
    "application/vnd.databricks.v1+cell": {
     "cellMetadata": {
      "byteLimit": 2048000,
      "rowLimit": 10000
     },
     "inputWidgets": {},
     "nuid": "64bcae38-8b57-419c-88a6-8d2a3a738c5a",
     "showTitle": false,
     "title": ""
    }
   },
   "outputs": [],
   "source": [
    "#combine the results between the fact table and the dimension table\n",
    "cond = df_order[\"Order_Date\"] == df_calendar[\"Date\"]\n",
    "df_order = df_order.join(df_calendar, on=cond)\n",
    "\n",
    "#drop the unnecessary columns in the fact column\n",
    "df_order = df_order.drop(\"Order_Date\", \"Date\")\n",
    "\n",
    "#change the Date column name\n",
    "df_order = df_order.withColumnRenamed(\"Date_ID\", \"Order_Date\")"
   ]
  },
  {
   "cell_type": "markdown",
   "metadata": {
    "application/vnd.databricks.v1+cell": {
     "cellMetadata": {
      "byteLimit": 2048000,
      "rowLimit": 10000
     },
     "inputWidgets": {},
     "nuid": "a8f8a730-55d4-45ec-8407-65135d428172",
     "showTitle": false,
     "title": ""
    }
   },
   "source": [
    "#### 12.3 Combine the fact table \"Order\" with the dimension table \"Ship\""
   ]
  },
  {
   "cell_type": "code",
   "execution_count": 0,
   "metadata": {
    "application/vnd.databricks.v1+cell": {
     "cellMetadata": {
      "byteLimit": 2048000,
      "rowLimit": 10000
     },
     "inputWidgets": {},
     "nuid": "ac01b3f3-8815-42a0-87fb-25d89cb99ddb",
     "showTitle": false,
     "title": ""
    }
   },
   "outputs": [],
   "source": [
    "#create an auxiliary dataframe to use as a reference for the foreign key\n",
    "df_aux = df_ship.join(df_ship_mode, on=[\"Ship_Mode_ID\"])\n",
    "\n",
    "#combine the results between the dimension table and auxiliary dataframe\n",
    "cond = df_aux[\"Ship_Date\"] == df_calendar[\"Date_ID\"]\n",
    "df_aux = df_aux.join(df_calendar, on=cond)\n",
    "\n",
    "#drop the unnecessary columns and change the Date column name\n",
    "df_aux = df_aux.drop(\"Ship_Date\", \"Date_ID\")\n",
    "df_aux = df_aux.withColumnRenamed(\"Date\", \"Ship_Date\")\n",
    "\n",
    "#combine the results between the fact table and the dimension table\n",
    "df_order = df_order.join(df_aux, on=[\"Ship_Date\", \"Ship_Mode\", \"Shipping_Cost\"])\n",
    "\n",
    "#drop the unnecessary columns in the fact column\n",
    "df_order = df_order.drop(\"Ship_Mode_ID\", \"Ship_Date\", \"Ship_Mode\", \"Shipping_Cost\")"
   ]
  },
  {
   "cell_type": "markdown",
   "metadata": {
    "application/vnd.databricks.v1+cell": {
     "cellMetadata": {
      "byteLimit": 2048000,
      "rowLimit": 10000
     },
     "inputWidgets": {},
     "nuid": "e4fdf817-644c-4e8e-8f18-edf39180fa7f",
     "showTitle": false,
     "title": ""
    }
   },
   "source": [
    "#### 12.4 Combine the fact table \"Order\" with the dimension table \"Customer\""
   ]
  },
  {
   "cell_type": "code",
   "execution_count": 0,
   "metadata": {
    "application/vnd.databricks.v1+cell": {
     "cellMetadata": {
      "byteLimit": 2048000,
      "rowLimit": 10000
     },
     "inputWidgets": {},
     "nuid": "2a1c0d24-9a0e-4ef3-a5ac-a2c712467ecf",
     "showTitle": false,
     "title": ""
    }
   },
   "outputs": [],
   "source": [
    "#create an auxiliary dataframe to use as a reference for the foreign key\n",
    "df_aux = df_cust.join(df_cust_seg, on=[\"Customer_Segment_ID\"])\n",
    "\n",
    "#combine the results between the fact table and the dimension table\n",
    "df_order = df_order.join(df_aux, on=[\"Customer_ID\", \"Customer_Name\", \"Segment\"])\n",
    "\n",
    "#drop the unnecessary columns in the fact column\n",
    "df_order = df_order.drop(\"Customer_Name\", \"Segment\", \"Customer_Segment_ID\")"
   ]
  },
  {
   "cell_type": "markdown",
   "metadata": {
    "application/vnd.databricks.v1+cell": {
     "cellMetadata": {
      "byteLimit": 2048000,
      "rowLimit": 10000
     },
     "inputWidgets": {},
     "nuid": "3b2cd075-c005-42b2-b0e5-eb1279548551",
     "showTitle": false,
     "title": ""
    }
   },
   "source": [
    "#### 12.5 Combine the fact table \"Order\" with the dimension table \"Product\""
   ]
  },
  {
   "cell_type": "code",
   "execution_count": 0,
   "metadata": {
    "application/vnd.databricks.v1+cell": {
     "cellMetadata": {
      "byteLimit": 2048000,
      "rowLimit": 10000
     },
     "inputWidgets": {},
     "nuid": "c0447a36-a3b4-40a2-b575-4df5c1d9babd",
     "showTitle": false,
     "title": ""
    }
   },
   "outputs": [],
   "source": [
    "#combine the results between the fact table and the dimension table\n",
    "df_order = df_order.join(df_prod, on=[\"Product_ID\", \"Product_Name\"])\n",
    "\n",
    "#drop the unnecessary columns in the fact column\n",
    "df_order = df_order.drop(\"Product_Name\", \"Product_Category_ID\")"
   ]
  },
  {
   "cell_type": "markdown",
   "metadata": {
    "application/vnd.databricks.v1+cell": {
     "cellMetadata": {
      "byteLimit": 2048000,
      "rowLimit": 10000
     },
     "inputWidgets": {},
     "nuid": "a398f568-b7b1-4dae-a048-916442775695",
     "showTitle": false,
     "title": ""
    }
   },
   "source": [
    "#### 12.6 Combine the fact table \"Order\" with the dimension table \"Order_Priority\""
   ]
  },
  {
   "cell_type": "code",
   "execution_count": 0,
   "metadata": {
    "application/vnd.databricks.v1+cell": {
     "cellMetadata": {
      "byteLimit": 2048000,
      "rowLimit": 10000
     },
     "inputWidgets": {},
     "nuid": "82c4caac-d064-41df-9797-a480ba46dff8",
     "showTitle": false,
     "title": ""
    }
   },
   "outputs": [],
   "source": [
    "#combine the results between the fact table and the dimension table\n",
    "df_order = df_order.join(df_ord_prio, on=[\"Order_Priority\"])\n",
    "\n",
    "#drop the unnecessary columns in the fact column\n",
    "df_order = df_order.drop(\"Order_Priority\")\n",
    "\n",
    "#select the columns of interest in the correct order\n",
    "df_order = df_order.select(\"Order_ID\", \"Order_Local_ID\", \"Location_ID\", \"Order_Date\", \"Ship_ID\", \"Customer_ID\", \"Order_Priority_ID\", \"Product_ID\", \"Quantity\", \"Sales\", \"Discount\", \"Profit\")"
   ]
  },
  {
   "cell_type": "markdown",
   "metadata": {
    "application/vnd.databricks.v1+cell": {
     "cellMetadata": {
      "byteLimit": 2048000,
      "rowLimit": 10000
     },
     "inputWidgets": {},
     "nuid": "e168c510-0333-4e0c-b9c0-fb36ed8f23f1",
     "showTitle": false,
     "title": ""
    }
   },
   "source": [
    "#### 12.7 Convert to numerical few columns from fact table \"Order\""
   ]
  },
  {
   "cell_type": "code",
   "execution_count": 0,
   "metadata": {
    "application/vnd.databricks.v1+cell": {
     "cellMetadata": {
      "byteLimit": 2048000,
      "rowLimit": 10000
     },
     "inputWidgets": {},
     "nuid": "87f05fcd-075e-4dd1-a2cc-8b2a68356c02",
     "showTitle": false,
     "title": ""
    }
   },
   "outputs": [
    {
     "output_type": "display_data",
     "data": {
      "text/html": [
       "<style scoped>\n",
       "  .table-result-container {\n",
       "    max-height: 300px;\n",
       "    overflow: auto;\n",
       "  }\n",
       "  table, th, td {\n",
       "    border: 1px solid black;\n",
       "    border-collapse: collapse;\n",
       "  }\n",
       "  th, td {\n",
       "    padding: 5px;\n",
       "  }\n",
       "  th {\n",
       "    text-align: left;\n",
       "  }\n",
       "</style><div class='table-result-container'><table class='table-result'><thead style='background-color: white'><tr><th>Order_ID</th><th>Order_Local_ID</th><th>Location_ID</th><th>Order_Date</th><th>Ship_ID</th><th>Customer_ID</th><th>Order_Priority_ID</th><th>Product_ID</th><th>Quantity</th><th>Sales</th><th>Discount</th><th>Profit</th></tr></thead><tbody><tr><td>38745</td><td>CA-2014-100055</td><td>3417</td><td>5263</td><td>38618</td><td>MD-178604</td><td>4</td><td>OFF-AP-10001469</td><td>3</td><td>125.0</td><td>0.0</td><td>36.2877</td></tr><tr><td>38744</td><td>CA-2014-100055</td><td>3417</td><td>5263</td><td>38599</td><td>MD-178604</td><td>4</td><td>FUR-FU-10001473</td><td>2</td><td>27.0</td><td>0.0</td><td>9.8856</td></tr><tr><td>46528</td><td>CA-2014-130211</td><td>3586</td><td>5410</td><td>46110</td><td>BD-116204</td><td>2</td><td>OFF-ST-10000129</td><td>3</td><td>333.0</td><td>0.0</td><td>23.3163</td></tr><tr><td>46527</td><td>CA-2014-130211</td><td>3586</td><td>5410</td><td>46109</td><td>BD-116204</td><td>2</td><td>FUR-TA-10003748</td><td>2</td><td>249.0</td><td>0.0</td><td>54.7756</td></tr><tr><td>3062</td><td>US-2011-112949</td><td>3586</td><td>4189</td><td>3194</td><td>Co-126404</td><td>3</td><td>OFF-AP-10001005</td><td>6</td><td>472.0</td><td>0.0</td><td>155.727</td></tr></tbody></table></div>"
      ]
     },
     "metadata": {
      "application/vnd.databricks.v1+output": {
       "addedWidgets": {},
       "aggData": [],
       "aggError": "",
       "aggOverflow": false,
       "aggSchema": [],
       "aggSeriesLimitReached": false,
       "aggType": "",
       "arguments": {},
       "columnCustomDisplayInfos": {},
       "data": [
        [
         38745,
         "CA-2014-100055",
         3417,
         5263,
         38618,
         "MD-178604",
         4,
         "OFF-AP-10001469",
         3,
         125.0,
         0.0,
         36.2877
        ],
        [
         38744,
         "CA-2014-100055",
         3417,
         5263,
         38599,
         "MD-178604",
         4,
         "FUR-FU-10001473",
         2,
         27.0,
         0.0,
         9.8856
        ],
        [
         46528,
         "CA-2014-130211",
         3586,
         5410,
         46110,
         "BD-116204",
         2,
         "OFF-ST-10000129",
         3,
         333.0,
         0.0,
         23.3163
        ],
        [
         46527,
         "CA-2014-130211",
         3586,
         5410,
         46109,
         "BD-116204",
         2,
         "FUR-TA-10003748",
         2,
         249.0,
         0.0,
         54.7756
        ],
        [
         3062,
         "US-2011-112949",
         3586,
         4189,
         3194,
         "Co-126404",
         3,
         "OFF-AP-10001005",
         6,
         472.0,
         0.0,
         155.727
        ]
       ],
       "datasetInfos": [],
       "dbfsResultPath": null,
       "isJsonSchema": true,
       "metadata": {},
       "overflow": false,
       "plotOptions": {
        "customPlotOptions": {},
        "displayType": "table",
        "pivotAggregation": null,
        "pivotColumns": null,
        "xColumns": null,
        "yColumns": null
       },
       "removedWidgets": [],
       "schema": [
        {
         "metadata": "{}",
         "name": "Order_ID",
         "type": "\"long\""
        },
        {
         "metadata": "{}",
         "name": "Order_Local_ID",
         "type": "\"string\""
        },
        {
         "metadata": "{}",
         "name": "Location_ID",
         "type": "\"long\""
        },
        {
         "metadata": "{}",
         "name": "Order_Date",
         "type": "\"long\""
        },
        {
         "metadata": "{}",
         "name": "Ship_ID",
         "type": "\"long\""
        },
        {
         "metadata": "{}",
         "name": "Customer_ID",
         "type": "\"string\""
        },
        {
         "metadata": "{}",
         "name": "Order_Priority_ID",
         "type": "\"long\""
        },
        {
         "metadata": "{}",
         "name": "Product_ID",
         "type": "\"string\""
        },
        {
         "metadata": "{}",
         "name": "Quantity",
         "type": "\"long\""
        },
        {
         "metadata": "{}",
         "name": "Sales",
         "type": "\"double\""
        },
        {
         "metadata": "{}",
         "name": "Discount",
         "type": "\"double\""
        },
        {
         "metadata": "{}",
         "name": "Profit",
         "type": "\"double\""
        }
       ],
       "type": "table"
      }
     },
     "output_type": "display_data"
    }
   ],
   "source": [
    "#Convert from String to Integer type the column \"Quantity\"\n",
    "df_order = df_order.withColumn(\"Quantity\", f.col(\"Quantity\").cast(t.IntegerType()))\n",
    "#Convert to Integer type the columns \"Sales\", \"Discount\", and \"Profit\"\n",
    "df_order = df_order.withColumn(\"Sales\", f.col(\"Sales\").cast(t.DoubleType()))\n",
    "df_order = df_order.withColumn(\"Discount\", f.col(\"Discount\").cast(t.DoubleType()))\n",
    "df_order = df_order.withColumn(\"Profit\", f.col(\"Profit\").cast(t.DoubleType()))\n",
    "\n",
    "#Display the results\n",
    "display(df_order.head(5))"
   ]
  },
  {
   "cell_type": "markdown",
   "metadata": {
    "application/vnd.databricks.v1+cell": {
     "cellMetadata": {
      "byteLimit": 2048000,
      "rowLimit": 10000
     },
     "inputWidgets": {},
     "nuid": "a684d9a5-c0df-43b9-8ae6-1a1b77723a8a",
     "showTitle": false,
     "title": ""
    }
   },
   "source": [
    "### 13. Create the database \"munder\" and save all the results as delta tables"
   ]
  },
  {
   "cell_type": "code",
   "execution_count": 0,
   "metadata": {
    "application/vnd.databricks.v1+cell": {
     "cellMetadata": {
      "byteLimit": 2048000,
      "implicitDf": true,
      "rowLimit": 10000
     },
     "inputWidgets": {},
     "nuid": "67e3425e-94d1-4ba0-827a-e2647caf13e9",
     "showTitle": false,
     "title": ""
    }
   },
   "outputs": [
    {
     "output_type": "display_data",
     "data": {
      "text/html": [
       "<style scoped>\n",
       "  .table-result-container {\n",
       "    max-height: 300px;\n",
       "    overflow: auto;\n",
       "  }\n",
       "  table, th, td {\n",
       "    border: 1px solid black;\n",
       "    border-collapse: collapse;\n",
       "  }\n",
       "  th, td {\n",
       "    padding: 5px;\n",
       "  }\n",
       "  th {\n",
       "    text-align: left;\n",
       "  }\n",
       "</style><div class='table-result-container'><table class='table-result'><thead style='background-color: white'><tr></tr></thead><tbody></tbody></table></div>"
      ]
     },
     "metadata": {
      "application/vnd.databricks.v1+output": {
       "addedWidgets": {},
       "aggData": [],
       "aggError": "",
       "aggOverflow": false,
       "aggSchema": [],
       "aggSeriesLimitReached": false,
       "aggType": "",
       "arguments": {},
       "columnCustomDisplayInfos": {},
       "data": [],
       "datasetInfos": [],
       "dbfsResultPath": null,
       "isJsonSchema": true,
       "metadata": {},
       "overflow": false,
       "plotOptions": {
        "customPlotOptions": {},
        "displayType": "table",
        "pivotAggregation": null,
        "pivotColumns": null,
        "xColumns": null,
        "yColumns": null
       },
       "removedWidgets": [],
       "schema": [],
       "type": "table"
      }
     },
     "output_type": "display_data"
    }
   ],
   "source": [
    "%sql\n",
    "-- create the database \"company\" to save all the results as delta tables\n",
    "create database company"
   ]
  },
  {
   "cell_type": "code",
   "execution_count": 0,
   "metadata": {
    "application/vnd.databricks.v1+cell": {
     "cellMetadata": {
      "byteLimit": 2048000,
      "rowLimit": 10000
     },
     "inputWidgets": {},
     "nuid": "5971450d-34e8-41b4-9972-2b9c0c3b5279",
     "showTitle": false,
     "title": ""
    }
   },
   "outputs": [],
   "source": [
    "#save all the dataframe results as delta tables in the \"company\" database\n",
    "\n",
    "df_order.write.format(\"delta\").mode(\"overwrite\").saveAsTable(\"company.order\")\n",
    "\n",
    "df_market.write.format(\"delta\").mode(\"overwrite\").saveAsTable(\"company.market\")\n",
    "\n",
    "df_location.write.format(\"delta\").mode(\"overwrite\").saveAsTable(\"company.location\")\n",
    "\n",
    "df_calendar.write.format(\"delta\").mode(\"overwrite\").saveAsTable(\"company.calendar_date\")\n",
    "\n",
    "df_ship_mode.write.format(\"delta\").mode(\"overwrite\").saveAsTable(\"company.ship_mode\")\n",
    "\n",
    "df_ship.write.format(\"delta\").mode(\"overwrite\").saveAsTable(\"company.ship\")\n",
    "\n",
    "df_cust.write.format(\"delta\").mode(\"overwrite\").saveAsTable(\"company.customer\")\n",
    "\n",
    "df_cust_seg.write.format(\"delta\").mode(\"overwrite\").saveAsTable(\"company.customer_segment\")\n",
    "\n",
    "df_ord_prio.write.format(\"delta\").mode(\"overwrite\").saveAsTable(\"company.order_priority\")\n",
    "\n",
    "df_prod.write.format(\"delta\").mode(\"overwrite\").saveAsTable(\"company.product\")\n",
    "\n",
    "df_prod_cat.write.format(\"delta\").mode(\"overwrite\").saveAsTable(\"company.product_category\")"
   ]
  }
 ],
 "metadata": {
  "application/vnd.databricks.v1+notebook": {
   "dashboards": [],
   "language": "python",
   "notebookMetadata": {
    "mostRecentlyExecutedCommandWithImplicitDF": {
     "commandId": 862903985098023,
     "dataframes": [
      "_sqldf"
     ]
    },
    "pythonIndentUnit": 4
   },
   "notebookName": "0_Data_Modeling",
   "widgets": {}
  }
 },
 "nbformat": 4,
 "nbformat_minor": 0
}
